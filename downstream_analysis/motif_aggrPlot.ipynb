{
 "cells": [
  {
   "cell_type": "code",
   "execution_count": null,
   "metadata": {},
   "outputs": [],
   "source": [
    "import numpy as np \n",
    "from tqdm import tqdm \n",
    "import pandas as pd\n",
    "import itertools\n",
    "from xlnet_plabel_utils import GWSDatasetFromPandas \n",
    "from scipy.stats import chi2_contingency\n",
    "import matplotlib.pyplot as plt\n",
    "import seaborn as sns\n",
    "import scienceplots    \n",
    "from permetrics.regression import RegressionMetric\n",
    "from itables import show, init_notebook_mode\n",
    "import marsilea as ma\n",
    "import matplotlib"
   ]
  },
  {
   "cell_type": "code",
   "execution_count": null,
   "metadata": {},
   "outputs": [],
   "source": [
    "# global variables\n",
    "id_to_codon = {idx:''.join(el) for idx, el in enumerate(itertools.product(['A', 'T', 'C', 'G'], repeat=3))}\n",
    "codon_to_id = {v:k for k,v in id_to_codon.items()}\n",
    "\n",
    "stop_codons = ['TAA', 'TAG', 'TGA']\n",
    "\n",
    "codonid_list = []\n",
    "\n",
    "for i in range(64):\n",
    "    codon = id_to_codon[i]\n",
    "    if codon not in stop_codons:\n",
    "        codonid_list.append(i)\n",
    "\n",
    "print('Number of codons:', len(codonid_list))\n",
    "\n",
    "condition_dict_values = {64: 'CTRL', 65: 'ILE', 66: 'LEU', 67: 'LEU_ILE', 68: 'LEU_ILE_VAL', 69: 'VAL'}\n",
    "condition_dict = {v: k for k, v in condition_dict_values.items()}"
   ]
  },
  {
   "cell_type": "code",
   "execution_count": null,
   "metadata": {},
   "outputs": [],
   "source": [
    "mutations_everything = np.load('bms/motifswAF_addStall_1000.npz', allow_pickle=True)"
   ]
  },
  {
   "cell_type": "code",
   "execution_count": null,
   "metadata": {},
   "outputs": [],
   "source": [
    "mutations_everything = mutations_everything['mutations_everything'].item()"
   ]
  },
  {
   "cell_type": "code",
   "execution_count": null,
   "metadata": {},
   "outputs": [],
   "source": [
    "keys = list(mutations_everything.keys())\n",
    "print(keys)"
   ]
  },
  {
   "cell_type": "code",
   "execution_count": null,
   "metadata": {},
   "outputs": [],
   "source": [
    "for key in keys:\n",
    "    assert len(mutations_everything[key]) == 155"
   ]
  },
  {
   "cell_type": "code",
   "execution_count": null,
   "metadata": {},
   "outputs": [],
   "source": [
    "motif_str = []\n",
    "motif_len = []\n",
    "condition = []\n",
    "perc_increase = []\n",
    "orig_density_list = []\n",
    "new_density_list = []"
   ]
  },
  {
   "cell_type": "code",
   "execution_count": null,
   "metadata": {},
   "outputs": [],
   "source": [
    "for k in tqdm(keys):\n",
    "    # print(k)\n",
    "    start = k[2]\n",
    "    orig_density = k[5]\n",
    "    # print(mutations_everything[k])\n",
    "    for mo in mutations_everything[k]:\n",
    "        # print(mo, len(mo))\n",
    "        condition.append(k[4])\n",
    "        new_density = mutations_everything[k][mo]\n",
    "        orig_density_list.append(orig_density)\n",
    "        new_density_list.append(new_density)\n",
    "        # print(orig_density, new_density, (new_density-orig_density)/orig_density)\n",
    "        try:\n",
    "            perc_increase.append(np.abs((new_density-orig_density)/orig_density))\n",
    "        except:\n",
    "            perc_increase.append(0)\n",
    "        # print(orig_density, new_density)\n",
    "        motif_len.append(int(len(mo)/2))\n",
    "        motif_sample_dict = {}\n",
    "        for i in range(0, len(mo), 2):\n",
    "            # print(start-mo[i], mo[i+1])\n",
    "            motif_sample_dict[mo[i] - (start+10)] = mo[i+1]\n",
    "        # sort the dictionary in ascending order of the keys\n",
    "        motif_sample_dict = dict(sorted(motif_sample_dict.items()))\n",
    "        motif_str_sample = ''\n",
    "        # print(motif_sample_dict)\n",
    "        for k1, v1 in motif_sample_dict.items():\n",
    "            motif_str_sample += str(k1) + '_' + str(v1) + '_'\n",
    "        # print(motif_str_sample)\n",
    "        motif_str.append(motif_str_sample)"
   ]
  },
  {
   "cell_type": "code",
   "execution_count": null,
   "metadata": {},
   "outputs": [],
   "source": [
    "# make a dataframe\n",
    "df = pd.DataFrame({'motif': motif_str, 'motif_len': motif_len, 'perc_increase': perc_increase, 'condition': condition, 'orig_density': orig_density_list, 'new_density': new_density_list})"
   ]
  },
  {
   "cell_type": "code",
   "execution_count": null,
   "metadata": {},
   "outputs": [],
   "source": [
    "pos = []\n",
    "for i in range(len(motif_str)):\n",
    "    x = motif_str[i].split('_')[:-1]\n",
    "    x = [int(el) for el in x]\n",
    "    for j in range(0, len(x), 2):\n",
    "        pos.append(x[j])"
   ]
  },
  {
   "cell_type": "code",
   "execution_count": null,
   "metadata": {},
   "outputs": [],
   "source": [
    "np.unique(pos)"
   ]
  },
  {
   "cell_type": "code",
   "execution_count": null,
   "metadata": {},
   "outputs": [],
   "source": [
    "# condition wise get the unique motifs and get their percentage counts \n",
    "condition_wise_dfs = {}\n",
    "\n",
    "for c in df['condition'].unique():\n",
    "    df_c = df[df['condition'] == c]\n",
    "\n",
    "    # retain only one row per unique motif\n",
    "    df_c = df_c['motif'].value_counts(normalize=True).reset_index()\n",
    "    df_c.columns = ['motif', 'perc']\n",
    "\n",
    "    c_list_fin = [[] for _ in range(21)]\n",
    "\n",
    "    for m in tqdm(df_c['motif']):\n",
    "        m_s = m.split('_')[:-1]\n",
    "        for i in range(0, len(m_s), 2):\n",
    "            # print(id_to_codon[int(m_s[i+1])], int(m_s[i])+10)\n",
    "            c_list_fin[int(m_s[i])+10].append(id_to_codon[int(m_s[i+1])])\n",
    "\n",
    "        # other codons that are not in the motif, put - \n",
    "        pos_motif = [int(x) for x in m_s[::2]]\n",
    "        for i in range(-10, 11):\n",
    "            if i not in pos_motif:\n",
    "                c_list_fin[i+10].append('-')\n",
    "\n",
    "    # add the codons in the motif to the df\n",
    "    for i in range(-10, 11):\n",
    "        df_c['codon_'+str(i)] = c_list_fin[i+10]\n",
    "\n",
    "    # rename the codon columns\n",
    "    df_c.columns = ['motif', 'perc_counts'] + ['-10', '-9', '-8', '-7', '-6', '-5', '-4', '-3', 'E', 'P', 'A', '1', '2', '3', '4', '5', '6', '7', '8', '9', '10']\n",
    "\n",
    "    condition_wise_dfs[c] = df_c"
   ]
  },
  {
   "cell_type": "code",
   "execution_count": null,
   "metadata": {},
   "outputs": [],
   "source": [
    "GC_FPATH = '../data/genetic_code.csv'"
   ]
  },
  {
   "cell_type": "code",
   "execution_count": null,
   "metadata": {},
   "outputs": [],
   "source": [
    "colors_full = plt.cm.tab20c(np.linspace(0, 1, 64))\n",
    "colors_aa = np.array(colors_full).repeat(2,0)\n",
    "np.random.seed(42)\n",
    "np.random.shuffle(colors_aa)\n",
    "max_motif_val = 28383\n",
    "\n",
    "with plt.style.context(['science','nature','grid','bright','no-latex']):\n",
    "    # for c in df['condition'].unique():\n",
    "    for c in ['CTRL', 'ILE', 'LEU', 'VAL', 'LEU_ILE', 'LEU_ILE_VAL']:\n",
    "        AA = ['Val', 'Ile', 'Leu', 'Lys', 'Asn', 'Thr', 'Arg', 'Ser', 'Met', 'Gln', 'His', 'Pro', 'Glu', 'Asp', 'Ala', 'Gly', 'Tyr', 'Cys', 'Trp', 'Phe', 'Stp']\n",
    "        AA_1 = ['V', 'I', 'L', 'K', 'N', 'T', 'R', 'S', 'M', 'Q', 'H', 'P', 'E', 'D', 'A', 'G', 'Y', 'C', 'W', 'F', 'S']\n",
    "        aa_3_1 = {AA[i]: AA_1[i] for i in range(len(AA))}\n",
    "\n",
    "        # for c in df['condition'].unique():\n",
    "        df_c = condition_wise_dfs[c]\n",
    "        df_c = df_c.drop(columns=['motif', 'perc_counts'])\n",
    "        df_c_mat = df_c.to_numpy()\n",
    "\n",
    "        # convert this matrix into a percentage occurrence matrix without the '-' codon\n",
    "        df_c_mat_perc = np.zeros((64, 21))\n",
    "        for i in range(21):\n",
    "            # get the percentage counts of the 64 codons at this position\n",
    "            codon_counts = df_c_mat[:, i]\n",
    "            num_non_dash = np.sum(codon_counts != '-')\n",
    "            # get counts for each codon\n",
    "            for j in range(64):\n",
    "                df_c_mat_perc[j, i] = (np.sum(codon_counts == id_to_codon[j])/num_non_dash)*100\n",
    "\n",
    "        # replace nans with 0\n",
    "        df_c_mat_perc = np.nan_to_num(df_c_mat_perc)\n",
    "\n",
    "        stack_data = pd.DataFrame(df_c_mat_perc, index=[id_to_codon[i] for i in range(64)])\n",
    "\n",
    "        # sort the data by rows \n",
    "        stack_data = stack_data.sort_values(by=stack_data.columns.tolist(), ascending=False)\n",
    "        # make a heatmap\n",
    "        # remove rows that have a sum less than the mean of the row sums\n",
    "        stack_data_t = stack_data[stack_data.sum(axis=1) > stack_data.sum(axis=1).mean()]\n",
    "\n",
    "        # normalize every column\n",
    "        stack_data_thresh = stack_data_t/stack_data_t.sum(axis=0)\n",
    "        h = ma.Heatmap(stack_data_thresh.T, linewidth=0.5, width=5, height=5, cmap='Blues', label='Frequency', vmin=0, vmax=1)\n",
    "        # add lables to x and y axis with chunk\n",
    "        colors_set = [colors_full[codon_to_id[i]] for i in list(stack_data_thresh.index)]\n",
    "        # only keep the amino acids for the codons\n",
    "        genetic_code = pd.read_csv(GC_FPATH, index_col=0).set_index('Codon')\n",
    "        # add one letter amino acid code to the genetic code\n",
    "        genetic_code['AminoAcid_1'] = [aa_3_1[i] for i in genetic_code['AminoAcid']]\n",
    "        genetic_code = genetic_code.loc[stack_data_thresh.index]\n",
    "        # h.add_top(ma.plotter.Chunk(list(stack_data_thresh.index), colors_set, fontsize=15), pad=0.025)\n",
    "        # group the amino acids\n",
    "        h.group_cols(group=genetic_code.AminoAcid_1, order=list(set(genetic_code.AminoAcid_1)), spacing=0.002)\n",
    "        colors_aa_c = []\n",
    "        for i in list(set(genetic_code.AminoAcid_1)): # index of the amino acid in AA\n",
    "            colors_aa_c.append(colors_aa[AA_1.index(i)])\n",
    "        h.add_top(ma.plotter.Chunk(list(set(genetic_code.AminoAcid_1)), colors_aa_c, fontsize=15), pad=0.025)\n",
    "        h.add_bottom(ma.plotter.Labels(list(stack_data_thresh.index), fontsize=10, rotation=45), name='Codon')\n",
    "\n",
    "        # add right barplot with the number of motifs \n",
    "        num_motifs_list = stack_data_t.sum(axis=0).values/100\n",
    "        for i in range(21):\n",
    "            codon_counts = df_c_mat[:, i]\n",
    "            num_non_dash = np.sum(codon_counts != '-')\n",
    "            num_motifs_list[i] = num_non_dash * num_motifs_list[i]\n",
    "\n",
    "        # log the number of motifs\n",
    "        num_motifs_list = np.log(num_motifs_list+1)\n",
    "\n",
    "        # make a colormesh plot and add it to the right of the heatmap\n",
    "        cm = ma.plotter.ColorMesh(num_motifs_list.reshape(1, -1), cmap='Reds', vmin=0, vmax=np.log(max_motif_val), label='Num. Motifs (log)', label_props={'color': 'white', 'fontsize': 0})\n",
    "        h.add_right(cm, pad=0.1, size=0.2)\n",
    "\n",
    "        # h.add_right(ma.plotter.Numbers(num_motifs_list, label='Num. Motifs', show_value = True), pad=0.1)\n",
    "\n",
    "        c_text = c \n",
    "        if c == 'LEU_ILE':\n",
    "            c_text = 'LEU + ILE'\n",
    "        if c == 'LEU_ILE_VAL':\n",
    "            c_text = 'LEU + ILE + VAL'\n",
    "        h.add_title('Codon frequencies in motifs for ' + c_text, fontsize=20, pad=0.1)\n",
    "\n",
    "        pos_labels_list = ['-10', '-9', '-8', '-7', '-6', '-5', '-4', '-3', 'E', 'P', 'A', '1', '2', '3', '4', '5', '6', '7', '8', '9', '10']\n",
    "\n",
    "        h.add_left(ma.plotter.Labels(list(pos_labels_list), fontsize=15))\n",
    "        h.add_legends(pad=0.025)\n",
    "        h.render()\n",
    "\n",
    "        plt.savefig('plots/motifswAF_addStall_1000_HeatMap_' + c + '.pdf', dpi=400, transparent=True)\n",
    "        plt.show()"
   ]
  }
 ],
 "metadata": {
  "kernelspec": {
   "display_name": "Python 3",
   "language": "python",
   "name": "python3"
  },
  "language_info": {
   "codemirror_mode": {
    "name": "ipython",
    "version": 3
   },
   "file_extension": ".py",
   "mimetype": "text/x-python",
   "name": "python",
   "nbconvert_exporter": "python",
   "pygments_lexer": "ipython3",
   "version": "3.9.0"
  }
 },
 "nbformat": 4,
 "nbformat_minor": 2
}
