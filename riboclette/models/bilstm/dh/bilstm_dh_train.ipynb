{
 "cells": [
  {
   "cell_type": "code",
   "execution_count": null,
   "metadata": {},
   "outputs": [],
   "source": [
    "# libraries\n",
    "from bilstm_dh_utils import trainLSTM, RiboDatasetGWSDepr, GWSDatasetFromPandas # custom dataset and trainer\n",
    "from pytorch_lightning.loggers import WandbLogger\n",
    "import pytorch_lightning as pl"
   ]
  },
  {
   "cell_type": "code",
   "execution_count": null,
   "metadata": {
    "tags": [
     "parameters"
    ]
   },
   "outputs": [],
   "source": [
    "seed_val = 1\n",
    "tot_epochs = 100\n",
    "batch_size = 1\n",
    "dropout_val = 0.0\n",
    "annot_thresh = 0.3\n",
    "longZerosThresh_val = 20\n",
    "percNansThresh_val = 0.05\n",
    "lr = 1e-4\n",
    "num_layers = 4\n",
    "num_nodes = 64"
   ]
  },
  {
   "cell_type": "code",
   "execution_count": null,
   "metadata": {},
   "outputs": [],
   "source": [
    "pl.seed_everything(seed_val)"
   ]
  },
  {
   "cell_type": "code",
   "execution_count": null,
   "metadata": {},
   "outputs": [],
   "source": [
    "model_name = 'LSTM DH: ' + '[NL: ' + str(num_layers) + ', NN: ' + str(num_nodes) + ']' + ' [BS: ' + str(batch_size) + ', D: ' + str(dropout_val) + ' E: ' + str(tot_epochs) + ' LR: ' + str(lr) + '] ' + 'Seed: ' + str(seed_val)\n",
    "\n",
    "# start a new wandb run to track this script\n",
    "wandb_logger = WandbLogger(log_model=\"all\", project=\"Riboclette\", name=model_name)\n",
    "\n",
    "# model parameters\n",
    "save_loc = 'saved_models/' + model_name"
   ]
  },
  {
   "cell_type": "code",
   "execution_count": null,
   "metadata": {},
   "outputs": [],
   "source": [
    "# load datasets train and test\n",
    "# GWS dataset\n",
    "train_dataset, val_dataset, test_dataset = RiboDatasetGWSDepr(threshold = annot_thresh, longZerosThresh = longZerosThresh_val, percNansThresh = percNansThresh_val)\n",
    "\n",
    "# convert to torch dataset\n",
    "train_dataset = GWSDatasetFromPandas(train_dataset)\n",
    "val_dataset = GWSDatasetFromPandas(val_dataset)\n",
    "test_dataset = GWSDatasetFromPandas(test_dataset)\n",
    "\n",
    "print(\"samples in train dataset: \", len(train_dataset))\n",
    "print(\"samples in val dataset: \", len(val_dataset))\n",
    "print(\"samples in test dataset: \", len(test_dataset))"
   ]
  },
  {
   "cell_type": "code",
   "execution_count": null,
   "metadata": {},
   "outputs": [],
   "source": [
    "# train model\n",
    "model, result = trainLSTM(tot_epochs, batch_size, lr, save_loc, train_dataset, test_dataset, val_dataset, dropout_val, num_layers, num_nodes, wandb_logger)"
   ]
  },
  {
   "cell_type": "code",
   "execution_count": null,
   "metadata": {},
   "outputs": [],
   "source": [
    "print(result)"
   ]
  }
 ],
 "metadata": {
  "kernelspec": {
   "display_name": "riboclette",
   "language": "python",
   "name": "python3"
  },
  "language_info": {
   "codemirror_mode": {
    "name": "ipython",
    "version": 3
   },
   "file_extension": ".py",
   "mimetype": "text/x-python",
   "name": "python",
   "nbconvert_exporter": "python",
   "pygments_lexer": "ipython3",
   "version": "3.11.5"
  }
 },
 "nbformat": 4,
 "nbformat_minor": 2
}
