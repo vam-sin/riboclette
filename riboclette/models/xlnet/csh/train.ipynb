{
 "cells": [
  {
   "cell_type": "code",
   "execution_count": null,
   "metadata": {},
   "outputs": [],
   "source": [
    "# libraries\n",
    "import torch\n",
    "from transformers import XLNetConfig, XLNetForTokenClassification, EarlyStoppingCallback\n",
    "from utils import RegressionTrainer, RiboDatasetGWSDepr, GWSDatasetFromPandas, CorrCoef, compute_metrics, collate_fn  # custom dataset and trainer\n",
    "from transformers import TrainingArguments\n",
    "import pytorch_lightning as pl"
   ]
  },
  {
   "cell_type": "code",
   "execution_count": null,
   "metadata": {
    "tags": [
     "parameters"
    ]
   },
   "outputs": [],
   "source": [
    "seed = 1\n",
    "tot_epochs = 100\n",
    "n_layers_val = 5\n",
    "batch_size_val = 4\n",
    "lr_val = 1e-3\n",
    "dropout_val = 0.1\n",
    "d_model_val = 128\n",
    "n_heads_val = 4\n",
    "loss_fun_name = 'MAE_PCC'"
   ]
  },
  {
   "cell_type": "code",
   "execution_count": null,
   "metadata": {},
   "outputs": [],
   "source": [
    "# reproducibility\n",
    "pl.seed_everything(seed)"
   ]
  },
  {
   "cell_type": "code",
   "execution_count": null,
   "metadata": {},
   "outputs": [],
   "source": [
    "# GWS dataset\n",
    "train_dataset, val_dataset, test_dataset = RiboDatasetGWSDepr()\n",
    "\n",
    "# convert to torch dataset\n",
    "train_dataset = GWSDatasetFromPandas(train_dataset)\n",
    "val_dataset = GWSDatasetFromPandas(val_dataset)\n",
    "test_dataset = GWSDatasetFromPandas(test_dataset)\n",
    "\n",
    "print(\"samples in train dataset: \", len(train_dataset))\n",
    "print(\"samples in val dataset: \", len(val_dataset))\n",
    "print(\"samples in test dataset: \", len(test_dataset))"
   ]
  },
  {
   "cell_type": "code",
   "execution_count": null,
   "metadata": {},
   "outputs": [],
   "source": [
    "# load xlnet to train from scratch\n",
    "model_name = 'XLNet-CSH ' + '[NL: ' + str(n_layers_val) + ', NH: ' + str(n_heads_val) + ', D: ' + str(d_model_val) + ', LR: ' + str(lr_val) + ', BS: ' + str(batch_size_val) + ', LF: ' + loss_fun_name + ', Dr: ' + str(dropout_val) + ', S: ' + str(seed) + ']'\n",
    "output_loc = \"saved_models/\" + model_name\n",
    "\n",
    "xlnet_config = XLNetConfig(vocab_size=71, pad_token_id=70, d_model = d_model_val, n_layer = n_layers_val, n_head = n_heads_val, d_inner = d_model_val, num_labels = 1, dropout=dropout_val) # 4^3 + 1 for padding\n",
    "model = XLNetForTokenClassification(xlnet_config)\n",
    "\n",
    "model.classifier = torch.nn.Linear(d_model_val, 1, bias=True)"
   ]
  },
  {
   "cell_type": "code",
   "execution_count": null,
   "metadata": {},
   "outputs": [],
   "source": [
    "# train xlnet\n",
    "training_args = TrainingArguments(\n",
    "    output_dir=output_loc,\n",
    "    learning_rate=lr_val,\n",
    "    per_device_train_batch_size=1,\n",
    "    gradient_accumulation_steps=batch_size_val,\n",
    "    per_device_eval_batch_size=1,\n",
    "    eval_accumulation_steps=4,\n",
    "    num_train_epochs=tot_epochs,\n",
    "    weight_decay=0.01,\n",
    "    evaluation_strategy=\"epoch\",\n",
    "    save_strategy=\"epoch\",\n",
    "    load_best_model_at_end=True,\n",
    "    push_to_hub=False,\n",
    "    dataloader_pin_memory=True,\n",
    "    dataloader_num_workers=4\n",
    ")\n",
    "\n",
    "trainer = RegressionTrainer(\n",
    "    model=model,\n",
    "    args=training_args,\n",
    "    train_dataset=train_dataset,\n",
    "    eval_dataset=val_dataset,\n",
    "    data_collator=collate_fn,\n",
    "    compute_metrics=compute_metrics,\n",
    "    callbacks = [EarlyStoppingCallback(early_stopping_patience=10)]\n",
    ")"
   ]
  },
  {
   "cell_type": "code",
   "execution_count": null,
   "metadata": {},
   "outputs": [],
   "source": [
    "trainer.train()\n",
    "\n",
    "# save best model\n",
    "trainer.save_model(output_loc + \"/best_model\")"
   ]
  },
  {
   "cell_type": "code",
   "execution_count": null,
   "metadata": {},
   "outputs": [],
   "source": [
    "res = trainer.evaluate(eval_dataset=test_dataset)\n",
    "\n",
    "print(res)"
   ]
  }
 ],
 "metadata": {
  "kernelspec": {
   "display_name": "kd2",
   "language": "python",
   "name": "python3"
  },
  "language_info": {
   "codemirror_mode": {
    "name": "ipython",
    "version": 3
   },
   "file_extension": ".py",
   "mimetype": "text/x-python",
   "name": "python",
   "nbconvert_exporter": "python",
   "pygments_lexer": "ipython3",
   "version": "3.10.0"
  }
 },
 "nbformat": 4,
 "nbformat_minor": 2
}
