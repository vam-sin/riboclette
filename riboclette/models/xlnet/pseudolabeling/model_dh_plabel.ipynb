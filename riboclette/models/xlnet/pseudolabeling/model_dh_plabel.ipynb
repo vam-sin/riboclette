{
 "cells": [
  {
   "cell_type": "code",
   "execution_count": null,
   "metadata": {},
   "outputs": [],
   "source": [
    "# libraries\n",
    "import torch\n",
    "from transformers import XLNetConfig, XLNetForTokenClassification, TrainingArguments, EarlyStoppingCallback\n",
    "from utils import RegressionTrainerFive, RiboDatasetExp1, RiboDatasetExp2, RiboDatasetExp1_2, GWSDatasetFromPandas, collate_fn, compute_metrics  # custom dataset and trainer\n",
    "import pytorch_lightning as pl\n",
    "import wandb"
   ]
  },
  {
   "cell_type": "code",
   "execution_count": null,
   "metadata": {
    "tags": [
     "parameters"
    ]
   },
   "outputs": [],
   "source": [
    "# model parameters\n",
    "annot_thresh = 0.3\n",
    "longZerosThresh_val = 20\n",
    "percNansThresh_val = 0.05\n",
    "d_model_val = 256\n",
    "n_layers_val = 3\n",
    "n_heads_val = 8\n",
    "dropout_val = 0.1\n",
    "lr_val = 1e-4\n",
    "batch_size_val = 1\n",
    "loss_fun_name = '5L' # 5L\n",
    "seed_val = 42\n",
    "noise_flag = False\n",
    "experiment_type = 'set1_2' # set1, set2, set1_2\n",
    "plabel_quartile_exp1 = 0.25 # (0.25, 0.5, 0.75, 1)\n",
    "plabel_quartile_exp2 = 0.25 # (0.25, 0.5, 0.75, 1)\n",
    "impden = 'impute' # impute, impden, or same (only impute the set1, impute and denoise the set 1, keep it same)"
   ]
  },
  {
   "cell_type": "code",
   "execution_count": null,
   "metadata": {},
   "outputs": [],
   "source": [
    "# reproducibility\n",
    "pl.seed_everything(seed_val)\n",
    "\n",
    "plabel_exp1_quartile_dict = {0.25: 0.06655636, 0.5: 0.07077431, 0.75: 0.07649534, 1: 0.15930015}\n",
    "plabel_exp2_quartile_dict = {0.25: 0.06782594, 0.5: 0.07330298, 0.75: 0.08001823, 1: 0.19505197}\n",
    "\n",
    "# pseudolabeling threshold\n",
    "if experiment_type == 'set1':\n",
    "    plabel_exp1_thresh = plabel_exp1_quartile_dict[plabel_quartile_exp1]\n",
    "    plabel_quartile_exp2 = 'None'\n",
    "elif experiment_type == 'set2' or experiment_type == 'set1_2':\n",
    "    plabel_quartile_exp1 = plabel_quartile_exp2\n",
    "    plabel_exp1_thresh = plabel_exp1_quartile_dict[plabel_quartile_exp1]\n",
    "    plabel_exp2_thresh = plabel_exp2_quartile_dict[plabel_quartile_exp2]\n",
    "\n",
    "# dataset paths \n",
    "data_folder = '/net/lts2gdk0/mnt/scratch/lts2/nallapar/rb-prof/data/Jan_2024/Lina/processed/'\n",
    "\n",
    "# model name and output folder path\n",
    "model_name = 'PLabelXLNetDHConds DS: DeprNA [' + str(n_layers_val) + ', ' + str(d_model_val) + ', ' + str(n_heads_val) + '] FT: [PEL] BS: ' + str(batch_size_val) + ' Loss: ' + str(loss_fun_name) + ' Data Conds: [NZ: ' + str(longZerosThresh_val) + ', PNTh: ' + str(percNansThresh_val) + ', AnnotThresh: ' + str(annot_thresh) + '] ' + 'Seed: ' + str(seed_val) + '[Exp: ' + str(experiment_type) + ', PLQ1: ' + str(plabel_quartile_exp1) + ', PLQ2: ' + str(plabel_quartile_exp2) + ', ImpDen: ' + str(impden) + ']' + ' Noisy: ' + str(noise_flag)\n",
    "output_loc = \"saved_models/\" + model_name\n",
    "\n",
    "# set wandb name to model_name\n",
    "wandb.init(project=\"XLNet-DH\", name=model_name)"
   ]
  },
  {
   "cell_type": "code",
   "execution_count": null,
   "metadata": {},
   "outputs": [],
   "source": [
    "# generate dataset\n",
    "if experiment_type == 'set1':\n",
    "    train_dataset, test_dataset = RiboDatasetExp1(threshold = annot_thresh, longZerosThresh = longZerosThresh_val, percNansThresh = percNansThresh_val, plabel_thresh = plabel_exp1_thresh, plabel_quartile = plabel_quartile_exp1, impden = impden)\n",
    "elif experiment_type == 'set2':\n",
    "    train_dataset, test_dataset = RiboDatasetExp2(threshold = annot_thresh, longZerosThresh = longZerosThresh_val, percNansThresh = percNansThresh_val, plabel_thresh1 = plabel_exp1_thresh, plabel_quartile1 = plabel_quartile_exp1, impden = impden,  plabel_thresh2 = plabel_exp2_thresh, plabel_quartile2 = plabel_quartile_exp2)\n",
    "elif experiment_type == 'set1_2':\n",
    "    train_dataset, test_dataset = RiboDatasetExp1_2(threshold = annot_thresh, longZerosThresh = longZerosThresh_val, percNansThresh = percNansThresh_val, plabel_thresh1 = plabel_exp1_thresh, plabel_quartile1 = plabel_quartile_exp1, impden = impden,  plabel_thresh2 = plabel_exp2_thresh, plabel_quartile2 = plabel_quartile_exp2)\n",
    "\n",
    "# convert pandas dataframes into torch datasets\n",
    "train_dataset = GWSDatasetFromPandas(train_dataset, 'train', noise_flag)\n",
    "test_dataset = GWSDatasetFromPandas(test_dataset, 'test', noise_flag)\n",
    "print(\"samples in train dataset: \", len(train_dataset))\n",
    "print(\"samples in test dataset: \", len(test_dataset)) "
   ]
  },
  {
   "cell_type": "code",
   "execution_count": null,
   "metadata": {},
   "outputs": [],
   "source": [
    "# load xlnet to train from scratch\n",
    "config = XLNetConfig(vocab_size=71, pad_token_id=70, d_model = d_model_val, n_layer = n_layers_val, n_head = n_heads_val, d_inner = d_model_val, num_labels = 1, dropout=dropout_val) # 6 conds, 64 codons, 1 for padding\n",
    "model = XLNetForTokenClassification(config)\n",
    "\n",
    "# modify the output layer\n",
    "# model.classifier is a linear layer followed by a softmax layer\n",
    "model.classifier = torch.nn.Linear(d_model_val, 2, bias=True)"
   ]
  },
  {
   "cell_type": "code",
   "execution_count": null,
   "metadata": {},
   "outputs": [],
   "source": [
    "# xlnet training arguments\n",
    "training_args = TrainingArguments(\n",
    "    output_dir = output_loc,\n",
    "    learning_rate = lr_val,\n",
    "    per_device_train_batch_size = 1,\n",
    "    gradient_accumulation_steps = batch_size_val, # training batch size = per_device_train_batch_size * gradient_accumulation_steps\n",
    "    per_device_eval_batch_size = 1,\n",
    "    eval_accumulation_steps = 4, \n",
    "    num_train_epochs = 100,\n",
    "    weight_decay = 0.01,\n",
    "    evaluation_strategy = \"epoch\",\n",
    "    save_strategy = \"epoch\",\n",
    "    load_best_model_at_end = True,\n",
    "    push_to_hub = False,\n",
    "    dataloader_pin_memory = True,\n",
    "    save_total_limit = 5,\n",
    "    dataloader_num_workers = 4,\n",
    "    include_inputs_for_metrics = True\n",
    ")\n",
    "\n",
    "# initialize trainer\n",
    "if loss_fun_name == '5L': # (MAE+PCC) on Final, CTRL, (MAE) on DD\n",
    "    trainer = RegressionTrainerFive(\n",
    "        model=model,\n",
    "        args=training_args,\n",
    "        train_dataset=train_dataset,\n",
    "        eval_dataset=test_dataset,\n",
    "        data_collator=collate_fn,\n",
    "        compute_metrics=compute_metrics,\n",
    "        callbacks = [EarlyStoppingCallback(early_stopping_patience=10)]\n",
    "    )"
   ]
  },
  {
   "cell_type": "code",
   "execution_count": null,
   "metadata": {},
   "outputs": [],
   "source": [
    "# train model\n",
    "trainer.train()\n",
    "\n",
    "# save best model\n",
    "trainer.save_model(output_loc + \"/best_model\")"
   ]
  },
  {
   "cell_type": "code",
   "execution_count": null,
   "metadata": {},
   "outputs": [],
   "source": [
    "# evaluate model\n",
    "trainer.evaluate()"
   ]
  }
 ],
 "metadata": {
  "kernelspec": {
   "display_name": "Python 3.9.17 ('tf')",
   "language": "python",
   "name": "python3"
  },
  "language_info": {
   "codemirror_mode": {
    "name": "ipython",
    "version": 3
   },
   "file_extension": ".py",
   "mimetype": "text/x-python",
   "name": "python",
   "nbconvert_exporter": "python",
   "pygments_lexer": "ipython3",
   "version": "3.11.5"
  },
  "orig_nbformat": 4,
  "vscode": {
   "interpreter": {
    "hash": "4d8cddb8cf669a224cfe7de41be728b42e6d1e4d2fa8033c260d761c14134291"
   }
  }
 },
 "nbformat": 4,
 "nbformat_minor": 2
}
