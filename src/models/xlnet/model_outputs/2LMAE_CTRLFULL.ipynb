{
 "cells": [
  {
   "cell_type": "code",
   "execution_count": 1,
   "id": "d26345f8",
   "metadata": {
    "execution": {
     "iopub.execute_input": "2023-11-09T16:14:07.964492Z",
     "iopub.status.busy": "2023-11-09T16:14:07.963853Z",
     "iopub.status.idle": "2023-11-09T16:14:28.014379Z",
     "shell.execute_reply": "2023-11-09T16:14:28.012436Z"
    },
    "papermill": {
     "duration": 20.064894,
     "end_time": "2023-11-09T16:14:28.018619",
     "exception": false,
     "start_time": "2023-11-09T16:14:07.953725",
     "status": "completed"
    },
    "tags": []
   },
   "outputs": [
    {
     "name": "stderr",
     "output_type": "stream",
     "text": [
      "/nfs_home/nallapar/rb-prof/bio_embeds/lib/python3.9/site-packages/tqdm/auto.py:22: TqdmWarning: IProgress not found. Please update jupyter and ipywidgets. See https://ipywidgets.readthedocs.io/en/stable/user_install.html\n",
      "  from .autonotebook import tqdm as notebook_tqdm\n"
     ]
    },
    {
     "name": "stderr",
     "output_type": "stream",
     "text": [
      "2023-11-09 17:14:14.559034: I tensorflow/core/platform/cpu_feature_guard.cc:193] This TensorFlow binary is optimized with oneAPI Deep Neural Network Library (oneDNN) to use the following CPU instructions in performance-critical operations:  AVX2 FMA\n",
      "To enable them in other operations, rebuild TensorFlow with the appropriate compiler flags.\n"
     ]
    },
    {
     "name": "stderr",
     "output_type": "stream",
     "text": [
      "2023-11-09 17:14:17.714619: W tensorflow/compiler/xla/stream_executor/platform/default/dso_loader.cc:64] Could not load dynamic library 'libnvinfer.so.7'; dlerror: libnvinfer.so.7: cannot open shared object file: No such file or directory\n",
      "2023-11-09 17:14:17.714849: W tensorflow/compiler/xla/stream_executor/platform/default/dso_loader.cc:64] Could not load dynamic library 'libnvinfer_plugin.so.7'; dlerror: libnvinfer_plugin.so.7: cannot open shared object file: No such file or directory\n",
      "2023-11-09 17:14:17.714874: W tensorflow/compiler/tf2tensorrt/utils/py_utils.cc:38] TF-TRT Warning: Cannot dlopen some TensorRT libraries. If you would like to use Nvidia GPU with TensorRT, please make sure the missing libraries mentioned above are installed properly.\n"
     ]
    }
   ],
   "source": [
    "# libraries\n",
    "import numpy as np\n",
    "import pandas as pd \n",
    "import torch\n",
    "from transformers import XLNetConfig, XLNetForTokenClassification, TrainingArguments\n",
    "import random\n",
    "from torch.nn.utils.rnn import pad_sequence\n",
    "from torchmetrics.functional import pearson_corrcoef\n",
    "from torchmetrics import Metric\n",
    "from ipynb.fs.full.utils_dh_switch import RegressionTrainerMAE, RegressionTrainerPCC, RegressionTrainerTwoMAEPCC, RegressionTrainerTwoNormMAE, RegressionTrainerTwoMAE, RiboDatasetGWS, GWSDatasetFromPandas, CorrCoef, collate_fn, compute_metrics, compute_metrics_saved  # custom dataset and trainer"
   ]
  },
  {
   "cell_type": "code",
   "execution_count": 2,
   "id": "cf09b2c0",
   "metadata": {
    "execution": {
     "iopub.execute_input": "2023-11-09T16:14:28.036708Z",
     "iopub.status.busy": "2023-11-09T16:14:28.035398Z",
     "iopub.status.idle": "2023-11-09T16:14:28.044278Z",
     "shell.execute_reply": "2023-11-09T16:14:28.043133Z"
    },
    "papermill": {
     "duration": 0.019789,
     "end_time": "2023-11-09T16:14:28.047158",
     "exception": false,
     "start_time": "2023-11-09T16:14:28.027369",
     "status": "completed"
    },
    "tags": [
     "parameters"
    ]
   },
   "outputs": [],
   "source": [
    "# model parameters\n",
    "annot_thresh = 0.5\n",
    "longZerosThresh_val = 20\n",
    "percNansThresh_val = 0.05\n",
    "d_model_val = 256\n",
    "n_layers_val = 3\n",
    "n_heads_val = 8\n",
    "dropout_val = 0.3\n",
    "lr_val = 1e-4\n",
    "batch_size_val = 1\n",
    "loss_fun_name = '2LMAE' # either 3LMAE or 3LPCC or 2LDPCCCMAE or 2LNormMAE or 2LMAE\n",
    "alpha = 1 # alpha value for the deprivation difference loss term"
   ]
  },
  {
   "cell_type": "code",
   "execution_count": 3,
   "id": "b0d82fc8",
   "metadata": {
    "execution": {
     "iopub.execute_input": "2023-11-09T16:14:28.061222Z",
     "iopub.status.busy": "2023-11-09T16:14:28.060622Z",
     "iopub.status.idle": "2023-11-09T16:14:28.068010Z",
     "shell.execute_reply": "2023-11-09T16:14:28.066562Z"
    },
    "papermill": {
     "duration": 0.017565,
     "end_time": "2023-11-09T16:14:28.071150",
     "exception": false,
     "start_time": "2023-11-09T16:14:28.053585",
     "status": "completed"
    },
    "tags": [
     "injected-parameters"
    ]
   },
   "outputs": [],
   "source": [
    "# Parameters\n",
    "annot_thresh = 0.5\n",
    "longZerosThresh_val = 20\n",
    "percNansThresh_val = 0.05\n",
    "d_model_val = 256\n",
    "n_layers_val = 3\n",
    "n_heads_val = 8\n",
    "dropout_val = 0.3\n",
    "lr_val = 0.0001\n",
    "batch_size_val = 1\n",
    "loss_fun_name = \"2LMAE\"\n",
    "alpha = 1\n"
   ]
  },
  {
   "cell_type": "code",
   "execution_count": 4,
   "id": "9afe4364",
   "metadata": {
    "execution": {
     "iopub.execute_input": "2023-11-09T16:14:28.084709Z",
     "iopub.status.busy": "2023-11-09T16:14:28.084095Z",
     "iopub.status.idle": "2023-11-09T16:14:28.109097Z",
     "shell.execute_reply": "2023-11-09T16:14:28.107432Z"
    },
    "papermill": {
     "duration": 0.035258,
     "end_time": "2023-11-09T16:14:28.112629",
     "exception": false,
     "start_time": "2023-11-09T16:14:28.077371",
     "status": "completed"
    },
    "tags": []
   },
   "outputs": [],
   "source": [
    "# reproducibility\n",
    "random.seed(42)\n",
    "np.random.seed(42)\n",
    "torch.manual_seed(42)\n",
    "\n",
    "# dataset paths \n",
    "data_folder = '/net/lts2gdk0/mnt/scratch/lts2/nallapar/rb-prof/data/Darnell_Full/Darnell/data_conds_split/processed/'\n",
    "\n",
    "# model name and output folder path\n",
    "model_name = 'XLNetDepr-' + str(n_layers_val) + '_' + str(d_model_val) + '_' + str(n_heads_val) + '-ALL_NA-PEL-BS' + str(batch_size_val) + '-GWS_PCC_IT192_DH_' + str(loss_fun_name) + 'ALPHA' + str(alpha) + '_NZ' + str(longZerosThresh_val) + '_PNTh' + str(percNansThresh_val) + '_AnnotThresh' + str(annot_thresh)\n",
    "output_loc = \"saved_models/\" + model_name"
   ]
  },
  {
   "cell_type": "code",
   "execution_count": 5,
   "id": "46c3e6ec",
   "metadata": {
    "execution": {
     "iopub.execute_input": "2023-11-09T16:14:28.129538Z",
     "iopub.status.busy": "2023-11-09T16:14:28.128812Z",
     "iopub.status.idle": "2023-11-09T16:14:29.164061Z",
     "shell.execute_reply": "2023-11-09T16:14:29.163138Z"
    },
    "papermill": {
     "duration": 1.047229,
     "end_time": "2023-11-09T16:14:29.167110",
     "exception": false,
     "start_time": "2023-11-09T16:14:28.119881",
     "status": "completed"
    },
    "tags": []
   },
   "outputs": [
    {
     "name": "stdout",
     "output_type": "stream",
     "text": [
      "samples in train dataset:  6386\n",
      "samples in test dataset:  1592\n"
     ]
    }
   ],
   "source": [
    "# generate dataset\n",
    "ds = 'ALL' # uses all the three conditions\n",
    "train_dataset, test_dataset = RiboDatasetGWS(data_folder, ds, threshold = annot_thresh, longZerosThresh = longZerosThresh_val, percNansThresh = percNansThresh_val)\n",
    "\n",
    "# convert pandas dataframes into torch datasets\n",
    "train_dataset = GWSDatasetFromPandas(train_dataset)\n",
    "test_dataset = GWSDatasetFromPandas(test_dataset)\n",
    "print(\"samples in train dataset: \", len(train_dataset))\n",
    "print(\"samples in test dataset: \", len(test_dataset))"
   ]
  },
  {
   "cell_type": "code",
   "execution_count": 6,
   "id": "351ef9fa",
   "metadata": {
    "execution": {
     "iopub.execute_input": "2023-11-09T16:14:29.181262Z",
     "iopub.status.busy": "2023-11-09T16:14:29.180834Z",
     "iopub.status.idle": "2023-11-09T16:14:29.248937Z",
     "shell.execute_reply": "2023-11-09T16:14:29.248032Z"
    },
    "papermill": {
     "duration": 0.07733,
     "end_time": "2023-11-09T16:14:29.251432",
     "exception": false,
     "start_time": "2023-11-09T16:14:29.174102",
     "status": "completed"
    },
    "tags": []
   },
   "outputs": [],
   "source": [
    "# load xlnet to train from scratch\n",
    "config = XLNetConfig(vocab_size=193, pad_token_id=192, d_model = d_model_val, n_layer = n_layers_val, n_head = n_heads_val, d_inner = d_model_val, num_labels = 1, dropout=dropout_val) # 5^3 + 1 for padding\n",
    "model = XLNetForTokenClassification(config)\n",
    "\n",
    "# modify the output layer\n",
    "model.classifier = torch.nn.Linear(d_model_val, 2, bias=True)"
   ]
  },
  {
   "cell_type": "code",
   "execution_count": 7,
   "id": "a4db0c6e",
   "metadata": {
    "execution": {
     "iopub.execute_input": "2023-11-09T16:14:29.265608Z",
     "iopub.status.busy": "2023-11-09T16:14:29.265142Z",
     "iopub.status.idle": "2023-11-09T16:14:33.452141Z",
     "shell.execute_reply": "2023-11-09T16:14:33.450602Z"
    },
    "papermill": {
     "duration": 4.198483,
     "end_time": "2023-11-09T16:14:33.456021",
     "exception": false,
     "start_time": "2023-11-09T16:14:29.257538",
     "status": "completed"
    },
    "tags": []
   },
   "outputs": [],
   "source": [
    "# xlnet training arguments\n",
    "training_args = TrainingArguments(\n",
    "    output_dir = output_loc,\n",
    "    learning_rate = lr_val,\n",
    "    per_device_train_batch_size = 1,\n",
    "    gradient_accumulation_steps = batch_size_val, # training batch size = per_device_train_batch_size * gradient_accumulation_steps\n",
    "    per_device_eval_batch_size = 1,\n",
    "    eval_accumulation_steps = 4, \n",
    "    num_train_epochs = 200,\n",
    "    weight_decay = 0.01,\n",
    "    evaluation_strategy = \"epoch\",\n",
    "    save_strategy = \"epoch\",\n",
    "    load_best_model_at_end = True,\n",
    "    push_to_hub = False,\n",
    "    dataloader_pin_memory = True,\n",
    "    save_total_limit = 5,\n",
    "    dataloader_num_workers = 4,\n",
    "    include_inputs_for_metrics = True\n",
    ")\n",
    "\n",
    "# initialize trainer\n",
    "if loss_fun_name == '3LMAE':\n",
    "    trainer = RegressionTrainerMAE(\n",
    "        model=model,\n",
    "        args=training_args,\n",
    "        train_dataset=train_dataset,\n",
    "        eval_dataset=test_dataset,\n",
    "        data_collator=collate_fn,\n",
    "        compute_metrics=compute_metrics,\n",
    "        alpha = alpha\n",
    "    )\n",
    "elif loss_fun_name == '3LPCC':\n",
    "    trainer = RegressionTrainerPCC(\n",
    "        model=model,\n",
    "        args=training_args,\n",
    "        train_dataset=train_dataset,\n",
    "        eval_dataset=test_dataset,\n",
    "        data_collator=collate_fn,\n",
    "        compute_metrics=compute_metrics,\n",
    "        alpha = alpha\n",
    "    )\n",
    "elif loss_fun_name == '2LDPCCCMAE':\n",
    "    trainer = RegressionTrainerTwoMAEPCC(\n",
    "        model=model,\n",
    "        args=training_args,\n",
    "        train_dataset=train_dataset,\n",
    "        eval_dataset=test_dataset,\n",
    "        data_collator=collate_fn,\n",
    "        compute_metrics=compute_metrics,\n",
    "        alpha = alpha\n",
    "    )\n",
    "elif loss_fun_name == '2LNormMAE':\n",
    "    trainer = RegressionTrainerTwoNormMAE(\n",
    "        model=model,\n",
    "        args=training_args,\n",
    "        train_dataset=train_dataset,\n",
    "        eval_dataset=test_dataset,\n",
    "        data_collator=collate_fn,\n",
    "        compute_metrics=compute_metrics,\n",
    "        alpha = alpha\n",
    "    )\n",
    "elif loss_fun_name == '2LMAE':\n",
    "    trainer = RegressionTrainerTwoMAE(\n",
    "        model=model,\n",
    "        args=training_args,\n",
    "        train_dataset=train_dataset,\n",
    "        eval_dataset=test_dataset,\n",
    "        data_collator=collate_fn,\n",
    "        compute_metrics=compute_metrics,\n",
    "        alpha = alpha\n",
    "    )"
   ]
  },
  {
   "cell_type": "code",
   "execution_count": 8,
   "id": "99ccbbf6",
   "metadata": {
    "execution": {
     "iopub.execute_input": "2023-11-09T16:14:33.474610Z",
     "iopub.status.busy": "2023-11-09T16:14:33.473988Z",
     "iopub.status.idle": "2023-11-10T08:41:45.322702Z",
     "shell.execute_reply": "2023-11-10T08:41:45.320772Z"
    },
    "papermill": {
     "duration": 59231.862046,
     "end_time": "2023-11-10T08:41:45.326922",
     "exception": false,
     "start_time": "2023-11-09T16:14:33.464876",
     "status": "completed"
    },
    "tags": []
   },
   "outputs": [
    {
     "name": "stderr",
     "output_type": "stream",
     "text": [
      "/nfs_home/nallapar/rb-prof/bio_embeds/lib/python3.9/site-packages/transformers/optimization.py:306: FutureWarning: This implementation of AdamW is deprecated and will be removed in a future version. Use the PyTorch implementation torch.optim.AdamW instead, or set `no_deprecation_warning=True` to disable this warning\n",
      "  warnings.warn(\n",
      "***** Running training *****\n"
     ]
    },
    {
     "name": "stderr",
     "output_type": "stream",
     "text": [
      "  Num examples = 6386\n"
     ]
    },
    {
     "name": "stderr",
     "output_type": "stream",
     "text": [
      "  Num Epochs = 200\n"
     ]
    },
    {
     "name": "stderr",
     "output_type": "stream",
     "text": [
      "  Instantaneous batch size per device = 1\n"
     ]
    },
    {
     "name": "stderr",
     "output_type": "stream",
     "text": [
      "  Total train batch size (w. parallel, distributed & accumulation) = 1\n"
     ]
    },
    {
     "name": "stderr",
     "output_type": "stream",
     "text": [
      "  Gradient Accumulation steps = 1\n"
     ]
    },
    {
     "name": "stderr",
     "output_type": "stream",
     "text": [
      "  Total optimization steps = 1277200\n"
     ]
    },
    {
     "name": "stderr",
     "output_type": "stream",
     "text": [
      "  Number of trainable parameters = 1434882\n"
     ]
    },
    {
     "name": "stderr",
     "output_type": "stream",
     "text": [
      "Automatic Weights & Biases logging enabled, to disable set os.environ[\"WANDB_DISABLED\"] = \"true\"\n"
     ]
    },
    {
     "name": "stderr",
     "output_type": "stream",
     "text": [
      "\u001b[34m\u001b[1mwandb\u001b[0m: Currently logged in as: \u001b[33mvamsi-nallapareddy\u001b[0m (\u001b[33mrb-prof\u001b[0m). Use \u001b[1m`wandb login --relogin`\u001b[0m to force relogin\n"
     ]
    },
    {
     "name": "stderr",
     "output_type": "stream",
     "text": [
      "\u001b[34m\u001b[1mwandb\u001b[0m: wandb version 0.16.0 is available!  To upgrade, please run:\n",
      "\u001b[34m\u001b[1mwandb\u001b[0m:  $ pip install wandb --upgrade\n"
     ]
    },
    {
     "name": "stderr",
     "output_type": "stream",
     "text": [
      "\u001b[34m\u001b[1mwandb\u001b[0m: Tracking run with wandb version 0.15.12\n"
     ]
    },
    {
     "name": "stderr",
     "output_type": "stream",
     "text": [
      "\u001b[34m\u001b[1mwandb\u001b[0m: Run data is saved locally in \u001b[35m\u001b[1m/nfs_home/nallapar/riboclette/src/models/xlnet/wandb/run-20231109_171436-5g2erks7\u001b[0m\n",
      "\u001b[34m\u001b[1mwandb\u001b[0m: Run \u001b[1m`wandb offline`\u001b[0m to turn off syncing.\n"
     ]
    },
    {
     "name": "stderr",
     "output_type": "stream",
     "text": [
      "\u001b[34m\u001b[1mwandb\u001b[0m: Syncing run \u001b[33mhappy-sun-470\u001b[0m\n"
     ]
    },
    {
     "name": "stderr",
     "output_type": "stream",
     "text": [
      "\u001b[34m\u001b[1mwandb\u001b[0m: ⭐️ View project at \u001b[34m\u001b[4mhttps://wandb.ai/rb-prof/huggingface\u001b[0m\n"
     ]
    },
    {
     "name": "stderr",
     "output_type": "stream",
     "text": [
      "\u001b[34m\u001b[1mwandb\u001b[0m: 🚀 View run at \u001b[34m\u001b[4mhttps://wandb.ai/rb-prof/huggingface/runs/5g2erks7\u001b[0m\n"
     ]
    },
    {
     "data": {
      "text/html": [
       "\n",
       "    <div>\n",
       "      \n",
       "      <progress value='1277200' max='1277200' style='width:300px; height:20px; vertical-align: middle;'></progress>\n",
       "      [1277200/1277200 16:27:06, Epoch 200/200]\n",
       "    </div>\n",
       "    <table border=\"1\" class=\"dataframe\">\n",
       "  <thead>\n",
       " <tr style=\"text-align: left;\">\n",
       "      <th>Epoch</th>\n",
       "      <th>Training Loss</th>\n",
       "      <th>Validation Loss</th>\n",
       "      <th>R</th>\n",
       "    </tr>\n",
       "  </thead>\n",
       "  <tbody>\n",
       "    <tr>\n",
       "      <td>1</td>\n",
       "      <td>0.975300</td>\n",
       "      <td>0.965431</td>\n",
       "      <td>0.469779</td>\n",
       "    </tr>\n",
       "    <tr>\n",
       "      <td>2</td>\n",
       "      <td>0.957200</td>\n",
       "      <td>0.936688</td>\n",
       "      <td>0.498583</td>\n",
       "    </tr>\n",
       "    <tr>\n",
       "      <td>3</td>\n",
       "      <td>0.953100</td>\n",
       "      <td>0.929564</td>\n",
       "      <td>0.530210</td>\n",
       "    </tr>\n",
       "    <tr>\n",
       "      <td>4</td>\n",
       "      <td>0.945700</td>\n",
       "      <td>0.922032</td>\n",
       "      <td>0.534722</td>\n",
       "    </tr>\n",
       "    <tr>\n",
       "      <td>5</td>\n",
       "      <td>0.941600</td>\n",
       "      <td>0.919929</td>\n",
       "      <td>0.538403</td>\n",
       "    </tr>\n",
       "    <tr>\n",
       "      <td>6</td>\n",
       "      <td>0.933600</td>\n",
       "      <td>0.927298</td>\n",
       "      <td>0.541090</td>\n",
       "    </tr>\n",
       "    <tr>\n",
       "      <td>7</td>\n",
       "      <td>0.936200</td>\n",
       "      <td>0.911946</td>\n",
       "      <td>0.546813</td>\n",
       "    </tr>\n",
       "    <tr>\n",
       "      <td>8</td>\n",
       "      <td>0.930700</td>\n",
       "      <td>0.918724</td>\n",
       "      <td>0.552170</td>\n",
       "    </tr>\n",
       "    <tr>\n",
       "      <td>9</td>\n",
       "      <td>0.930900</td>\n",
       "      <td>0.925629</td>\n",
       "      <td>0.556058</td>\n",
       "    </tr>\n",
       "    <tr>\n",
       "      <td>10</td>\n",
       "      <td>0.927700</td>\n",
       "      <td>0.910357</td>\n",
       "      <td>0.560584</td>\n",
       "    </tr>\n",
       "    <tr>\n",
       "      <td>11</td>\n",
       "      <td>0.925500</td>\n",
       "      <td>0.912151</td>\n",
       "      <td>0.566767</td>\n",
       "    </tr>\n",
       "    <tr>\n",
       "      <td>12</td>\n",
       "      <td>0.925200</td>\n",
       "      <td>0.911615</td>\n",
       "      <td>0.563363</td>\n",
       "    </tr>\n",
       "    <tr>\n",
       "      <td>13</td>\n",
       "      <td>0.923000</td>\n",
       "      <td>0.907785</td>\n",
       "      <td>0.565360</td>\n",
       "    </tr>\n",
       "    <tr>\n",
       "      <td>14</td>\n",
       "      <td>0.922100</td>\n",
       "      <td>0.904542</td>\n",
       "      <td>0.573402</td>\n",
       "    </tr>\n",
       "    <tr>\n",
       "      <td>15</td>\n",
       "      <td>0.920400</td>\n",
       "      <td>0.913864</td>\n",
       "      <td>0.577804</td>\n",
       "    </tr>\n",
       "    <tr>\n",
       "      <td>16</td>\n",
       "      <td>0.920800</td>\n",
       "      <td>0.905094</td>\n",
       "      <td>0.573440</td>\n",
       "    </tr>\n",
       "    <tr>\n",
       "      <td>17</td>\n",
       "      <td>0.919700</td>\n",
       "      <td>0.906217</td>\n",
       "      <td>0.566541</td>\n",
       "    </tr>\n",
       "    <tr>\n",
       "      <td>18</td>\n",
       "      <td>0.915500</td>\n",
       "      <td>0.907909</td>\n",
       "      <td>0.585462</td>\n",
       "    </tr>\n",
       "    <tr>\n",
       "      <td>19</td>\n",
       "      <td>0.916700</td>\n",
       "      <td>0.905057</td>\n",
       "      <td>0.582785</td>\n",
       "    </tr>\n",
       "    <tr>\n",
       "      <td>20</td>\n",
       "      <td>0.914900</td>\n",
       "      <td>0.912495</td>\n",
       "      <td>0.578670</td>\n",
       "    </tr>\n",
       "    <tr>\n",
       "      <td>21</td>\n",
       "      <td>0.912800</td>\n",
       "      <td>0.906437</td>\n",
       "      <td>0.582351</td>\n",
       "    </tr>\n",
       "    <tr>\n",
       "      <td>22</td>\n",
       "      <td>0.910800</td>\n",
       "      <td>0.908809</td>\n",
       "      <td>0.582295</td>\n",
       "    </tr>\n",
       "    <tr>\n",
       "      <td>23</td>\n",
       "      <td>0.918800</td>\n",
       "      <td>0.908989</td>\n",
       "      <td>0.585588</td>\n",
       "    </tr>\n",
       "    <tr>\n",
       "      <td>24</td>\n",
       "      <td>0.911000</td>\n",
       "      <td>0.901738</td>\n",
       "      <td>0.585432</td>\n",
       "    </tr>\n",
       "    <tr>\n",
       "      <td>25</td>\n",
       "      <td>0.911100</td>\n",
       "      <td>0.910855</td>\n",
       "      <td>0.585113</td>\n",
       "    </tr>\n",
       "    <tr>\n",
       "      <td>26</td>\n",
       "      <td>0.908000</td>\n",
       "      <td>0.904980</td>\n",
       "      <td>0.576822</td>\n",
       "    </tr>\n",
       "    <tr>\n",
       "      <td>27</td>\n",
       "      <td>0.910200</td>\n",
       "      <td>0.910068</td>\n",
       "      <td>0.584329</td>\n",
       "    </tr>\n",
       "    <tr>\n",
       "      <td>28</td>\n",
       "      <td>0.913900</td>\n",
       "      <td>0.896768</td>\n",
       "      <td>0.584902</td>\n",
       "    </tr>\n",
       "    <tr>\n",
       "      <td>29</td>\n",
       "      <td>0.914100</td>\n",
       "      <td>0.899044</td>\n",
       "      <td>0.587519</td>\n",
       "    </tr>\n",
       "    <tr>\n",
       "      <td>30</td>\n",
       "      <td>0.909200</td>\n",
       "      <td>0.906151</td>\n",
       "      <td>0.587895</td>\n",
       "    </tr>\n",
       "    <tr>\n",
       "      <td>31</td>\n",
       "      <td>0.914200</td>\n",
       "      <td>0.905592</td>\n",
       "      <td>0.589847</td>\n",
       "    </tr>\n",
       "    <tr>\n",
       "      <td>32</td>\n",
       "      <td>0.906400</td>\n",
       "      <td>0.903528</td>\n",
       "      <td>0.582983</td>\n",
       "    </tr>\n",
       "    <tr>\n",
       "      <td>33</td>\n",
       "      <td>0.909000</td>\n",
       "      <td>0.902176</td>\n",
       "      <td>0.595748</td>\n",
       "    </tr>\n",
       "    <tr>\n",
       "      <td>34</td>\n",
       "      <td>0.903000</td>\n",
       "      <td>0.903235</td>\n",
       "      <td>0.588627</td>\n",
       "    </tr>\n",
       "    <tr>\n",
       "      <td>35</td>\n",
       "      <td>0.907600</td>\n",
       "      <td>0.891973</td>\n",
       "      <td>0.590482</td>\n",
       "    </tr>\n",
       "    <tr>\n",
       "      <td>36</td>\n",
       "      <td>0.903400</td>\n",
       "      <td>0.894708</td>\n",
       "      <td>0.595586</td>\n",
       "    </tr>\n",
       "    <tr>\n",
       "      <td>37</td>\n",
       "      <td>0.904000</td>\n",
       "      <td>0.905496</td>\n",
       "      <td>0.592399</td>\n",
       "    </tr>\n",
       "    <tr>\n",
       "      <td>38</td>\n",
       "      <td>0.907200</td>\n",
       "      <td>0.895338</td>\n",
       "      <td>0.594987</td>\n",
       "    </tr>\n",
       "    <tr>\n",
       "      <td>39</td>\n",
       "      <td>0.903100</td>\n",
       "      <td>0.901946</td>\n",
       "      <td>0.594824</td>\n",
       "    </tr>\n",
       "    <tr>\n",
       "      <td>40</td>\n",
       "      <td>0.905000</td>\n",
       "      <td>0.904601</td>\n",
       "      <td>0.593875</td>\n",
       "    </tr>\n",
       "    <tr>\n",
       "      <td>41</td>\n",
       "      <td>0.904000</td>\n",
       "      <td>0.898544</td>\n",
       "      <td>0.596280</td>\n",
       "    </tr>\n",
       "    <tr>\n",
       "      <td>42</td>\n",
       "      <td>0.904300</td>\n",
       "      <td>0.903631</td>\n",
       "      <td>0.596020</td>\n",
       "    </tr>\n",
       "    <tr>\n",
       "      <td>43</td>\n",
       "      <td>0.900900</td>\n",
       "      <td>0.899954</td>\n",
       "      <td>0.594829</td>\n",
       "    </tr>\n",
       "    <tr>\n",
       "      <td>44</td>\n",
       "      <td>0.907000</td>\n",
       "      <td>0.905582</td>\n",
       "      <td>0.598787</td>\n",
       "    </tr>\n",
       "    <tr>\n",
       "      <td>45</td>\n",
       "      <td>0.902100</td>\n",
       "      <td>0.899159</td>\n",
       "      <td>0.596631</td>\n",
       "    </tr>\n",
       "    <tr>\n",
       "      <td>46</td>\n",
       "      <td>0.904900</td>\n",
       "      <td>0.903612</td>\n",
       "      <td>0.591897</td>\n",
       "    </tr>\n",
       "    <tr>\n",
       "      <td>47</td>\n",
       "      <td>0.902500</td>\n",
       "      <td>0.897328</td>\n",
       "      <td>0.594412</td>\n",
       "    </tr>\n",
       "    <tr>\n",
       "      <td>48</td>\n",
       "      <td>0.903500</td>\n",
       "      <td>0.898084</td>\n",
       "      <td>0.594400</td>\n",
       "    </tr>\n",
       "    <tr>\n",
       "      <td>49</td>\n",
       "      <td>0.904500</td>\n",
       "      <td>0.898664</td>\n",
       "      <td>0.597123</td>\n",
       "    </tr>\n",
       "    <tr>\n",
       "      <td>50</td>\n",
       "      <td>0.903700</td>\n",
       "      <td>0.900402</td>\n",
       "      <td>0.593070</td>\n",
       "    </tr>\n",
       "    <tr>\n",
       "      <td>51</td>\n",
       "      <td>0.901400</td>\n",
       "      <td>0.898684</td>\n",
       "      <td>0.592951</td>\n",
       "    </tr>\n",
       "    <tr>\n",
       "      <td>52</td>\n",
       "      <td>0.900000</td>\n",
       "      <td>0.900977</td>\n",
       "      <td>0.597140</td>\n",
       "    </tr>\n",
       "    <tr>\n",
       "      <td>53</td>\n",
       "      <td>0.900300</td>\n",
       "      <td>0.900812</td>\n",
       "      <td>0.594010</td>\n",
       "    </tr>\n",
       "    <tr>\n",
       "      <td>54</td>\n",
       "      <td>0.902300</td>\n",
       "      <td>0.895534</td>\n",
       "      <td>0.595100</td>\n",
       "    </tr>\n",
       "    <tr>\n",
       "      <td>55</td>\n",
       "      <td>0.898700</td>\n",
       "      <td>0.899268</td>\n",
       "      <td>0.596647</td>\n",
       "    </tr>\n",
       "    <tr>\n",
       "      <td>56</td>\n",
       "      <td>0.902100</td>\n",
       "      <td>0.894014</td>\n",
       "      <td>0.593286</td>\n",
       "    </tr>\n",
       "    <tr>\n",
       "      <td>57</td>\n",
       "      <td>0.900200</td>\n",
       "      <td>0.896675</td>\n",
       "      <td>0.594427</td>\n",
       "    </tr>\n",
       "    <tr>\n",
       "      <td>58</td>\n",
       "      <td>0.899100</td>\n",
       "      <td>0.895126</td>\n",
       "      <td>0.593624</td>\n",
       "    </tr>\n",
       "    <tr>\n",
       "      <td>59</td>\n",
       "      <td>0.893600</td>\n",
       "      <td>0.903897</td>\n",
       "      <td>0.596446</td>\n",
       "    </tr>\n",
       "    <tr>\n",
       "      <td>60</td>\n",
       "      <td>0.901100</td>\n",
       "      <td>0.894082</td>\n",
       "      <td>0.593675</td>\n",
       "    </tr>\n",
       "    <tr>\n",
       "      <td>61</td>\n",
       "      <td>0.898100</td>\n",
       "      <td>0.903710</td>\n",
       "      <td>0.597098</td>\n",
       "    </tr>\n",
       "    <tr>\n",
       "      <td>62</td>\n",
       "      <td>0.897200</td>\n",
       "      <td>0.894785</td>\n",
       "      <td>0.594922</td>\n",
       "    </tr>\n",
       "    <tr>\n",
       "      <td>63</td>\n",
       "      <td>0.897700</td>\n",
       "      <td>0.902136</td>\n",
       "      <td>0.595823</td>\n",
       "    </tr>\n",
       "    <tr>\n",
       "      <td>64</td>\n",
       "      <td>0.899800</td>\n",
       "      <td>0.894294</td>\n",
       "      <td>0.598390</td>\n",
       "    </tr>\n",
       "    <tr>\n",
       "      <td>65</td>\n",
       "      <td>0.897200</td>\n",
       "      <td>0.902399</td>\n",
       "      <td>0.596865</td>\n",
       "    </tr>\n",
       "    <tr>\n",
       "      <td>66</td>\n",
       "      <td>0.891000</td>\n",
       "      <td>0.895721</td>\n",
       "      <td>0.597330</td>\n",
       "    </tr>\n",
       "    <tr>\n",
       "      <td>67</td>\n",
       "      <td>0.895400</td>\n",
       "      <td>0.899943</td>\n",
       "      <td>0.596889</td>\n",
       "    </tr>\n",
       "    <tr>\n",
       "      <td>68</td>\n",
       "      <td>0.898200</td>\n",
       "      <td>0.904595</td>\n",
       "      <td>0.595445</td>\n",
       "    </tr>\n",
       "    <tr>\n",
       "      <td>69</td>\n",
       "      <td>0.898300</td>\n",
       "      <td>0.900586</td>\n",
       "      <td>0.593658</td>\n",
       "    </tr>\n",
       "    <tr>\n",
       "      <td>70</td>\n",
       "      <td>0.900200</td>\n",
       "      <td>0.897635</td>\n",
       "      <td>0.593759</td>\n",
       "    </tr>\n",
       "    <tr>\n",
       "      <td>71</td>\n",
       "      <td>0.891500</td>\n",
       "      <td>0.899613</td>\n",
       "      <td>0.591638</td>\n",
       "    </tr>\n",
       "    <tr>\n",
       "      <td>72</td>\n",
       "      <td>0.892200</td>\n",
       "      <td>0.898242</td>\n",
       "      <td>0.593632</td>\n",
       "    </tr>\n",
       "    <tr>\n",
       "      <td>73</td>\n",
       "      <td>0.895800</td>\n",
       "      <td>0.901003</td>\n",
       "      <td>0.592455</td>\n",
       "    </tr>\n",
       "    <tr>\n",
       "      <td>74</td>\n",
       "      <td>0.896100</td>\n",
       "      <td>0.895757</td>\n",
       "      <td>0.597734</td>\n",
       "    </tr>\n",
       "    <tr>\n",
       "      <td>75</td>\n",
       "      <td>0.899000</td>\n",
       "      <td>0.895889</td>\n",
       "      <td>0.594632</td>\n",
       "    </tr>\n",
       "    <tr>\n",
       "      <td>76</td>\n",
       "      <td>0.898100</td>\n",
       "      <td>0.896855</td>\n",
       "      <td>0.595755</td>\n",
       "    </tr>\n",
       "    <tr>\n",
       "      <td>77</td>\n",
       "      <td>0.898200</td>\n",
       "      <td>0.901812</td>\n",
       "      <td>0.596762</td>\n",
       "    </tr>\n",
       "    <tr>\n",
       "      <td>78</td>\n",
       "      <td>0.897200</td>\n",
       "      <td>0.899855</td>\n",
       "      <td>0.595993</td>\n",
       "    </tr>\n",
       "    <tr>\n",
       "      <td>79</td>\n",
       "      <td>0.895100</td>\n",
       "      <td>0.901104</td>\n",
       "      <td>0.596395</td>\n",
       "    </tr>\n",
       "    <tr>\n",
       "      <td>80</td>\n",
       "      <td>0.893200</td>\n",
       "      <td>0.899623</td>\n",
       "      <td>0.598451</td>\n",
       "    </tr>\n",
       "    <tr>\n",
       "      <td>81</td>\n",
       "      <td>0.894900</td>\n",
       "      <td>0.897489</td>\n",
       "      <td>0.599446</td>\n",
       "    </tr>\n",
       "    <tr>\n",
       "      <td>82</td>\n",
       "      <td>0.895900</td>\n",
       "      <td>0.896561</td>\n",
       "      <td>0.598402</td>\n",
       "    </tr>\n",
       "    <tr>\n",
       "      <td>83</td>\n",
       "      <td>0.899000</td>\n",
       "      <td>0.904398</td>\n",
       "      <td>0.596897</td>\n",
       "    </tr>\n",
       "    <tr>\n",
       "      <td>84</td>\n",
       "      <td>0.894900</td>\n",
       "      <td>0.900218</td>\n",
       "      <td>0.594057</td>\n",
       "    </tr>\n",
       "    <tr>\n",
       "      <td>85</td>\n",
       "      <td>0.891500</td>\n",
       "      <td>0.898363</td>\n",
       "      <td>0.596149</td>\n",
       "    </tr>\n",
       "    <tr>\n",
       "      <td>86</td>\n",
       "      <td>0.889400</td>\n",
       "      <td>0.900846</td>\n",
       "      <td>0.596494</td>\n",
       "    </tr>\n",
       "    <tr>\n",
       "      <td>87</td>\n",
       "      <td>0.892600</td>\n",
       "      <td>0.898420</td>\n",
       "      <td>0.593795</td>\n",
       "    </tr>\n",
       "    <tr>\n",
       "      <td>88</td>\n",
       "      <td>0.892600</td>\n",
       "      <td>0.897935</td>\n",
       "      <td>0.598636</td>\n",
       "    </tr>\n",
       "    <tr>\n",
       "      <td>89</td>\n",
       "      <td>0.892100</td>\n",
       "      <td>0.898762</td>\n",
       "      <td>0.596772</td>\n",
       "    </tr>\n",
       "    <tr>\n",
       "      <td>90</td>\n",
       "      <td>0.888400</td>\n",
       "      <td>0.898646</td>\n",
       "      <td>0.599185</td>\n",
       "    </tr>\n",
       "    <tr>\n",
       "      <td>91</td>\n",
       "      <td>0.891900</td>\n",
       "      <td>0.899054</td>\n",
       "      <td>0.595524</td>\n",
       "    </tr>\n",
       "    <tr>\n",
       "      <td>92</td>\n",
       "      <td>0.888500</td>\n",
       "      <td>0.898977</td>\n",
       "      <td>0.597614</td>\n",
       "    </tr>\n",
       "    <tr>\n",
       "      <td>93</td>\n",
       "      <td>0.890800</td>\n",
       "      <td>0.898780</td>\n",
       "      <td>0.595491</td>\n",
       "    </tr>\n",
       "    <tr>\n",
       "      <td>94</td>\n",
       "      <td>0.887400</td>\n",
       "      <td>0.902638</td>\n",
       "      <td>0.592493</td>\n",
       "    </tr>\n",
       "    <tr>\n",
       "      <td>95</td>\n",
       "      <td>0.888600</td>\n",
       "      <td>0.895713</td>\n",
       "      <td>0.598679</td>\n",
       "    </tr>\n",
       "    <tr>\n",
       "      <td>96</td>\n",
       "      <td>0.891700</td>\n",
       "      <td>0.895509</td>\n",
       "      <td>0.595268</td>\n",
       "    </tr>\n",
       "    <tr>\n",
       "      <td>97</td>\n",
       "      <td>0.887200</td>\n",
       "      <td>0.900763</td>\n",
       "      <td>0.595774</td>\n",
       "    </tr>\n",
       "    <tr>\n",
       "      <td>98</td>\n",
       "      <td>0.889600</td>\n",
       "      <td>0.902577</td>\n",
       "      <td>0.594271</td>\n",
       "    </tr>\n",
       "    <tr>\n",
       "      <td>99</td>\n",
       "      <td>0.888800</td>\n",
       "      <td>0.895724</td>\n",
       "      <td>0.593148</td>\n",
       "    </tr>\n",
       "    <tr>\n",
       "      <td>100</td>\n",
       "      <td>0.886100</td>\n",
       "      <td>0.898199</td>\n",
       "      <td>0.597002</td>\n",
       "    </tr>\n",
       "    <tr>\n",
       "      <td>101</td>\n",
       "      <td>0.886100</td>\n",
       "      <td>0.901353</td>\n",
       "      <td>0.593484</td>\n",
       "    </tr>\n",
       "    <tr>\n",
       "      <td>102</td>\n",
       "      <td>0.890300</td>\n",
       "      <td>0.904067</td>\n",
       "      <td>0.597554</td>\n",
       "    </tr>\n",
       "    <tr>\n",
       "      <td>103</td>\n",
       "      <td>0.890700</td>\n",
       "      <td>0.899126</td>\n",
       "      <td>0.591525</td>\n",
       "    </tr>\n",
       "    <tr>\n",
       "      <td>104</td>\n",
       "      <td>0.886900</td>\n",
       "      <td>0.899418</td>\n",
       "      <td>0.595399</td>\n",
       "    </tr>\n",
       "    <tr>\n",
       "      <td>105</td>\n",
       "      <td>0.889800</td>\n",
       "      <td>0.906262</td>\n",
       "      <td>0.593249</td>\n",
       "    </tr>\n",
       "    <tr>\n",
       "      <td>106</td>\n",
       "      <td>0.888800</td>\n",
       "      <td>0.899724</td>\n",
       "      <td>0.592609</td>\n",
       "    </tr>\n",
       "    <tr>\n",
       "      <td>107</td>\n",
       "      <td>0.888800</td>\n",
       "      <td>0.897499</td>\n",
       "      <td>0.594687</td>\n",
       "    </tr>\n",
       "    <tr>\n",
       "      <td>108</td>\n",
       "      <td>0.884400</td>\n",
       "      <td>0.900638</td>\n",
       "      <td>0.596415</td>\n",
       "    </tr>\n",
       "    <tr>\n",
       "      <td>109</td>\n",
       "      <td>0.888300</td>\n",
       "      <td>0.898893</td>\n",
       "      <td>0.592861</td>\n",
       "    </tr>\n",
       "    <tr>\n",
       "      <td>110</td>\n",
       "      <td>0.885900</td>\n",
       "      <td>0.901239</td>\n",
       "      <td>0.593194</td>\n",
       "    </tr>\n",
       "    <tr>\n",
       "      <td>111</td>\n",
       "      <td>0.889400</td>\n",
       "      <td>0.903943</td>\n",
       "      <td>0.600118</td>\n",
       "    </tr>\n",
       "    <tr>\n",
       "      <td>112</td>\n",
       "      <td>0.886700</td>\n",
       "      <td>0.897964</td>\n",
       "      <td>0.597022</td>\n",
       "    </tr>\n",
       "    <tr>\n",
       "      <td>113</td>\n",
       "      <td>0.886300</td>\n",
       "      <td>0.902168</td>\n",
       "      <td>0.595410</td>\n",
       "    </tr>\n",
       "    <tr>\n",
       "      <td>114</td>\n",
       "      <td>0.884900</td>\n",
       "      <td>0.903362</td>\n",
       "      <td>0.593881</td>\n",
       "    </tr>\n",
       "    <tr>\n",
       "      <td>115</td>\n",
       "      <td>0.882900</td>\n",
       "      <td>0.899288</td>\n",
       "      <td>0.594394</td>\n",
       "    </tr>\n",
       "    <tr>\n",
       "      <td>116</td>\n",
       "      <td>0.887400</td>\n",
       "      <td>0.902607</td>\n",
       "      <td>0.596887</td>\n",
       "    </tr>\n",
       "    <tr>\n",
       "      <td>117</td>\n",
       "      <td>0.889200</td>\n",
       "      <td>0.899809</td>\n",
       "      <td>0.595670</td>\n",
       "    </tr>\n",
       "    <tr>\n",
       "      <td>118</td>\n",
       "      <td>0.886800</td>\n",
       "      <td>0.899895</td>\n",
       "      <td>0.593884</td>\n",
       "    </tr>\n",
       "    <tr>\n",
       "      <td>119</td>\n",
       "      <td>0.886400</td>\n",
       "      <td>0.901919</td>\n",
       "      <td>0.592573</td>\n",
       "    </tr>\n",
       "    <tr>\n",
       "      <td>120</td>\n",
       "      <td>0.885500</td>\n",
       "      <td>0.902847</td>\n",
       "      <td>0.594982</td>\n",
       "    </tr>\n",
       "    <tr>\n",
       "      <td>121</td>\n",
       "      <td>0.887200</td>\n",
       "      <td>0.901337</td>\n",
       "      <td>0.595849</td>\n",
       "    </tr>\n",
       "    <tr>\n",
       "      <td>122</td>\n",
       "      <td>0.879400</td>\n",
       "      <td>0.901599</td>\n",
       "      <td>0.596187</td>\n",
       "    </tr>\n",
       "    <tr>\n",
       "      <td>123</td>\n",
       "      <td>0.885400</td>\n",
       "      <td>0.904021</td>\n",
       "      <td>0.595473</td>\n",
       "    </tr>\n",
       "    <tr>\n",
       "      <td>124</td>\n",
       "      <td>0.880900</td>\n",
       "      <td>0.902285</td>\n",
       "      <td>0.590572</td>\n",
       "    </tr>\n",
       "    <tr>\n",
       "      <td>125</td>\n",
       "      <td>0.879000</td>\n",
       "      <td>0.904326</td>\n",
       "      <td>0.593380</td>\n",
       "    </tr>\n",
       "    <tr>\n",
       "      <td>126</td>\n",
       "      <td>0.881200</td>\n",
       "      <td>0.900473</td>\n",
       "      <td>0.593068</td>\n",
       "    </tr>\n",
       "    <tr>\n",
       "      <td>127</td>\n",
       "      <td>0.882800</td>\n",
       "      <td>0.905439</td>\n",
       "      <td>0.593636</td>\n",
       "    </tr>\n",
       "    <tr>\n",
       "      <td>128</td>\n",
       "      <td>0.885300</td>\n",
       "      <td>0.904202</td>\n",
       "      <td>0.593243</td>\n",
       "    </tr>\n",
       "    <tr>\n",
       "      <td>129</td>\n",
       "      <td>0.883800</td>\n",
       "      <td>0.901497</td>\n",
       "      <td>0.594385</td>\n",
       "    </tr>\n",
       "    <tr>\n",
       "      <td>130</td>\n",
       "      <td>0.884000</td>\n",
       "      <td>0.901580</td>\n",
       "      <td>0.595007</td>\n",
       "    </tr>\n",
       "    <tr>\n",
       "      <td>131</td>\n",
       "      <td>0.883500</td>\n",
       "      <td>0.903204</td>\n",
       "      <td>0.588472</td>\n",
       "    </tr>\n",
       "    <tr>\n",
       "      <td>132</td>\n",
       "      <td>0.881300</td>\n",
       "      <td>0.904877</td>\n",
       "      <td>0.595610</td>\n",
       "    </tr>\n",
       "    <tr>\n",
       "      <td>133</td>\n",
       "      <td>0.880600</td>\n",
       "      <td>0.898797</td>\n",
       "      <td>0.594313</td>\n",
       "    </tr>\n",
       "    <tr>\n",
       "      <td>134</td>\n",
       "      <td>0.882000</td>\n",
       "      <td>0.903985</td>\n",
       "      <td>0.590299</td>\n",
       "    </tr>\n",
       "    <tr>\n",
       "      <td>135</td>\n",
       "      <td>0.885800</td>\n",
       "      <td>0.900980</td>\n",
       "      <td>0.593763</td>\n",
       "    </tr>\n",
       "    <tr>\n",
       "      <td>136</td>\n",
       "      <td>0.881700</td>\n",
       "      <td>0.900010</td>\n",
       "      <td>0.596518</td>\n",
       "    </tr>\n",
       "    <tr>\n",
       "      <td>137</td>\n",
       "      <td>0.884500</td>\n",
       "      <td>0.904421</td>\n",
       "      <td>0.591262</td>\n",
       "    </tr>\n",
       "    <tr>\n",
       "      <td>138</td>\n",
       "      <td>0.884300</td>\n",
       "      <td>0.899465</td>\n",
       "      <td>0.595840</td>\n",
       "    </tr>\n",
       "    <tr>\n",
       "      <td>139</td>\n",
       "      <td>0.887600</td>\n",
       "      <td>0.899967</td>\n",
       "      <td>0.593234</td>\n",
       "    </tr>\n",
       "    <tr>\n",
       "      <td>140</td>\n",
       "      <td>0.886000</td>\n",
       "      <td>0.900724</td>\n",
       "      <td>0.592378</td>\n",
       "    </tr>\n",
       "    <tr>\n",
       "      <td>141</td>\n",
       "      <td>0.880700</td>\n",
       "      <td>0.903840</td>\n",
       "      <td>0.591197</td>\n",
       "    </tr>\n",
       "    <tr>\n",
       "      <td>142</td>\n",
       "      <td>0.885100</td>\n",
       "      <td>0.902644</td>\n",
       "      <td>0.593650</td>\n",
       "    </tr>\n",
       "    <tr>\n",
       "      <td>143</td>\n",
       "      <td>0.883000</td>\n",
       "      <td>0.900505</td>\n",
       "      <td>0.595789</td>\n",
       "    </tr>\n",
       "    <tr>\n",
       "      <td>144</td>\n",
       "      <td>0.882600</td>\n",
       "      <td>0.902685</td>\n",
       "      <td>0.592923</td>\n",
       "    </tr>\n",
       "    <tr>\n",
       "      <td>145</td>\n",
       "      <td>0.879400</td>\n",
       "      <td>0.903466</td>\n",
       "      <td>0.593572</td>\n",
       "    </tr>\n",
       "    <tr>\n",
       "      <td>146</td>\n",
       "      <td>0.882100</td>\n",
       "      <td>0.903360</td>\n",
       "      <td>0.592880</td>\n",
       "    </tr>\n",
       "    <tr>\n",
       "      <td>147</td>\n",
       "      <td>0.881300</td>\n",
       "      <td>0.906284</td>\n",
       "      <td>0.593764</td>\n",
       "    </tr>\n",
       "    <tr>\n",
       "      <td>148</td>\n",
       "      <td>0.877400</td>\n",
       "      <td>0.902288</td>\n",
       "      <td>0.591673</td>\n",
       "    </tr>\n",
       "    <tr>\n",
       "      <td>149</td>\n",
       "      <td>0.883900</td>\n",
       "      <td>0.902270</td>\n",
       "      <td>0.591248</td>\n",
       "    </tr>\n",
       "    <tr>\n",
       "      <td>150</td>\n",
       "      <td>0.880500</td>\n",
       "      <td>0.904886</td>\n",
       "      <td>0.596227</td>\n",
       "    </tr>\n",
       "    <tr>\n",
       "      <td>151</td>\n",
       "      <td>0.879300</td>\n",
       "      <td>0.904271</td>\n",
       "      <td>0.592615</td>\n",
       "    </tr>\n",
       "    <tr>\n",
       "      <td>152</td>\n",
       "      <td>0.879400</td>\n",
       "      <td>0.905563</td>\n",
       "      <td>0.596243</td>\n",
       "    </tr>\n",
       "    <tr>\n",
       "      <td>153</td>\n",
       "      <td>0.881500</td>\n",
       "      <td>0.901598</td>\n",
       "      <td>0.593941</td>\n",
       "    </tr>\n",
       "    <tr>\n",
       "      <td>154</td>\n",
       "      <td>0.884600</td>\n",
       "      <td>0.900366</td>\n",
       "      <td>0.596542</td>\n",
       "    </tr>\n",
       "    <tr>\n",
       "      <td>155</td>\n",
       "      <td>0.882200</td>\n",
       "      <td>0.902474</td>\n",
       "      <td>0.590998</td>\n",
       "    </tr>\n",
       "    <tr>\n",
       "      <td>156</td>\n",
       "      <td>0.878300</td>\n",
       "      <td>0.900290</td>\n",
       "      <td>0.596573</td>\n",
       "    </tr>\n",
       "    <tr>\n",
       "      <td>157</td>\n",
       "      <td>0.876900</td>\n",
       "      <td>0.900648</td>\n",
       "      <td>0.592844</td>\n",
       "    </tr>\n",
       "    <tr>\n",
       "      <td>158</td>\n",
       "      <td>0.881300</td>\n",
       "      <td>0.901871</td>\n",
       "      <td>0.596184</td>\n",
       "    </tr>\n",
       "    <tr>\n",
       "      <td>159</td>\n",
       "      <td>0.877900</td>\n",
       "      <td>0.904523</td>\n",
       "      <td>0.594950</td>\n",
       "    </tr>\n",
       "    <tr>\n",
       "      <td>160</td>\n",
       "      <td>0.876800</td>\n",
       "      <td>0.902443</td>\n",
       "      <td>0.592141</td>\n",
       "    </tr>\n",
       "    <tr>\n",
       "      <td>161</td>\n",
       "      <td>0.881500</td>\n",
       "      <td>0.901273</td>\n",
       "      <td>0.592486</td>\n",
       "    </tr>\n",
       "    <tr>\n",
       "      <td>162</td>\n",
       "      <td>0.879700</td>\n",
       "      <td>0.905827</td>\n",
       "      <td>0.592909</td>\n",
       "    </tr>\n",
       "    <tr>\n",
       "      <td>163</td>\n",
       "      <td>0.879600</td>\n",
       "      <td>0.902208</td>\n",
       "      <td>0.592439</td>\n",
       "    </tr>\n",
       "    <tr>\n",
       "      <td>164</td>\n",
       "      <td>0.878800</td>\n",
       "      <td>0.902617</td>\n",
       "      <td>0.594081</td>\n",
       "    </tr>\n",
       "    <tr>\n",
       "      <td>165</td>\n",
       "      <td>0.879000</td>\n",
       "      <td>0.901581</td>\n",
       "      <td>0.594068</td>\n",
       "    </tr>\n",
       "    <tr>\n",
       "      <td>166</td>\n",
       "      <td>0.878600</td>\n",
       "      <td>0.903741</td>\n",
       "      <td>0.592962</td>\n",
       "    </tr>\n",
       "    <tr>\n",
       "      <td>167</td>\n",
       "      <td>0.880000</td>\n",
       "      <td>0.901870</td>\n",
       "      <td>0.591089</td>\n",
       "    </tr>\n",
       "    <tr>\n",
       "      <td>168</td>\n",
       "      <td>0.875400</td>\n",
       "      <td>0.900304</td>\n",
       "      <td>0.595652</td>\n",
       "    </tr>\n",
       "    <tr>\n",
       "      <td>169</td>\n",
       "      <td>0.878100</td>\n",
       "      <td>0.900190</td>\n",
       "      <td>0.593676</td>\n",
       "    </tr>\n",
       "    <tr>\n",
       "      <td>170</td>\n",
       "      <td>0.878500</td>\n",
       "      <td>0.903455</td>\n",
       "      <td>0.595807</td>\n",
       "    </tr>\n",
       "    <tr>\n",
       "      <td>171</td>\n",
       "      <td>0.878700</td>\n",
       "      <td>0.903324</td>\n",
       "      <td>0.594528</td>\n",
       "    </tr>\n",
       "    <tr>\n",
       "      <td>172</td>\n",
       "      <td>0.876600</td>\n",
       "      <td>0.900544</td>\n",
       "      <td>0.594894</td>\n",
       "    </tr>\n",
       "    <tr>\n",
       "      <td>173</td>\n",
       "      <td>0.877900</td>\n",
       "      <td>0.905812</td>\n",
       "      <td>0.596205</td>\n",
       "    </tr>\n",
       "    <tr>\n",
       "      <td>174</td>\n",
       "      <td>0.880800</td>\n",
       "      <td>0.902756</td>\n",
       "      <td>0.593527</td>\n",
       "    </tr>\n",
       "    <tr>\n",
       "      <td>175</td>\n",
       "      <td>0.879100</td>\n",
       "      <td>0.902353</td>\n",
       "      <td>0.592796</td>\n",
       "    </tr>\n",
       "    <tr>\n",
       "      <td>176</td>\n",
       "      <td>0.877100</td>\n",
       "      <td>0.903901</td>\n",
       "      <td>0.590995</td>\n",
       "    </tr>\n",
       "    <tr>\n",
       "      <td>177</td>\n",
       "      <td>0.878800</td>\n",
       "      <td>0.902024</td>\n",
       "      <td>0.593587</td>\n",
       "    </tr>\n",
       "    <tr>\n",
       "      <td>178</td>\n",
       "      <td>0.878700</td>\n",
       "      <td>0.903111</td>\n",
       "      <td>0.592121</td>\n",
       "    </tr>\n",
       "    <tr>\n",
       "      <td>179</td>\n",
       "      <td>0.876900</td>\n",
       "      <td>0.901380</td>\n",
       "      <td>0.592201</td>\n",
       "    </tr>\n",
       "    <tr>\n",
       "      <td>180</td>\n",
       "      <td>0.880200</td>\n",
       "      <td>0.902164</td>\n",
       "      <td>0.591843</td>\n",
       "    </tr>\n",
       "    <tr>\n",
       "      <td>181</td>\n",
       "      <td>0.880400</td>\n",
       "      <td>0.900864</td>\n",
       "      <td>0.593344</td>\n",
       "    </tr>\n",
       "    <tr>\n",
       "      <td>182</td>\n",
       "      <td>0.876800</td>\n",
       "      <td>0.902968</td>\n",
       "      <td>0.594987</td>\n",
       "    </tr>\n",
       "    <tr>\n",
       "      <td>183</td>\n",
       "      <td>0.874500</td>\n",
       "      <td>0.902670</td>\n",
       "      <td>0.594017</td>\n",
       "    </tr>\n",
       "    <tr>\n",
       "      <td>184</td>\n",
       "      <td>0.877500</td>\n",
       "      <td>0.901683</td>\n",
       "      <td>0.594225</td>\n",
       "    </tr>\n",
       "    <tr>\n",
       "      <td>185</td>\n",
       "      <td>0.874200</td>\n",
       "      <td>0.902223</td>\n",
       "      <td>0.592907</td>\n",
       "    </tr>\n",
       "    <tr>\n",
       "      <td>186</td>\n",
       "      <td>0.877500</td>\n",
       "      <td>0.902977</td>\n",
       "      <td>0.594179</td>\n",
       "    </tr>\n",
       "    <tr>\n",
       "      <td>187</td>\n",
       "      <td>0.875900</td>\n",
       "      <td>0.901674</td>\n",
       "      <td>0.593035</td>\n",
       "    </tr>\n",
       "    <tr>\n",
       "      <td>188</td>\n",
       "      <td>0.875000</td>\n",
       "      <td>0.903214</td>\n",
       "      <td>0.593063</td>\n",
       "    </tr>\n",
       "    <tr>\n",
       "      <td>189</td>\n",
       "      <td>0.876300</td>\n",
       "      <td>0.901352</td>\n",
       "      <td>0.593808</td>\n",
       "    </tr>\n",
       "    <tr>\n",
       "      <td>190</td>\n",
       "      <td>0.876700</td>\n",
       "      <td>0.903975</td>\n",
       "      <td>0.593584</td>\n",
       "    </tr>\n",
       "    <tr>\n",
       "      <td>191</td>\n",
       "      <td>0.878500</td>\n",
       "      <td>0.902467</td>\n",
       "      <td>0.592681</td>\n",
       "    </tr>\n",
       "    <tr>\n",
       "      <td>192</td>\n",
       "      <td>0.877000</td>\n",
       "      <td>0.903010</td>\n",
       "      <td>0.591760</td>\n",
       "    </tr>\n",
       "    <tr>\n",
       "      <td>193</td>\n",
       "      <td>0.875000</td>\n",
       "      <td>0.902713</td>\n",
       "      <td>0.592712</td>\n",
       "    </tr>\n",
       "    <tr>\n",
       "      <td>194</td>\n",
       "      <td>0.872600</td>\n",
       "      <td>0.902676</td>\n",
       "      <td>0.592852</td>\n",
       "    </tr>\n",
       "    <tr>\n",
       "      <td>195</td>\n",
       "      <td>0.875100</td>\n",
       "      <td>0.902745</td>\n",
       "      <td>0.592633</td>\n",
       "    </tr>\n",
       "    <tr>\n",
       "      <td>196</td>\n",
       "      <td>0.877700</td>\n",
       "      <td>0.903023</td>\n",
       "      <td>0.593338</td>\n",
       "    </tr>\n",
       "    <tr>\n",
       "      <td>197</td>\n",
       "      <td>0.875900</td>\n",
       "      <td>0.903316</td>\n",
       "      <td>0.592897</td>\n",
       "    </tr>\n",
       "    <tr>\n",
       "      <td>198</td>\n",
       "      <td>0.873600</td>\n",
       "      <td>0.902476</td>\n",
       "      <td>0.593234</td>\n",
       "    </tr>\n",
       "    <tr>\n",
       "      <td>199</td>\n",
       "      <td>0.875500</td>\n",
       "      <td>0.902789</td>\n",
       "      <td>0.593492</td>\n",
       "    </tr>\n",
       "    <tr>\n",
       "      <td>200</td>\n",
       "      <td>0.880900</td>\n",
       "      <td>0.902571</td>\n",
       "      <td>0.593105</td>\n",
       "    </tr>\n",
       "  </tbody>\n",
       "</table><p>"
      ],
      "text/plain": [
       "<IPython.core.display.HTML object>"
      ]
     },
     "metadata": {},
     "output_type": "display_data"
    },
    {
     "name": "stderr",
     "output_type": "stream",
     "text": [
      "***** Running Evaluation *****\n"
     ]
    },
    {
     "name": "stderr",
     "output_type": "stream",
     "text": [
      "  Num examples = 1592\n"
     ]
    },
    {
     "name": "stderr",
     "output_type": "stream",
     "text": [
      "  Batch size = 1\n"
     ]
    },
    {
     "name": "stderr",
     "output_type": "stream",
     "text": [
      "Saving model checkpoint to saved_models/XLNetDepr-3_256_8-ALL_NA-PEL-BS1-GWS_PCC_IT192_DH_2LMAEALPHA1_NZ20_PNTh0.05_AnnotThresh0.5/checkpoint-6386\n"
     ]
    },
    {
     "name": "stderr",
     "output_type": "stream",
     "text": [
      "Configuration saved in saved_models/XLNetDepr-3_256_8-ALL_NA-PEL-BS1-GWS_PCC_IT192_DH_2LMAEALPHA1_NZ20_PNTh0.05_AnnotThresh0.5/checkpoint-6386/config.json\n"
     ]
    },
    {
     "name": "stderr",
     "output_type": "stream",
     "text": [
      "Model weights saved in saved_models/XLNetDepr-3_256_8-ALL_NA-PEL-BS1-GWS_PCC_IT192_DH_2LMAEALPHA1_NZ20_PNTh0.05_AnnotThresh0.5/checkpoint-6386/pytorch_model.bin\n"
     ]
    },
    {
     "name": "stderr",
     "output_type": "stream",
     "text": [
      "***** Running Evaluation *****\n"
     ]
    },
    {
     "name": "stderr",
     "output_type": "stream",
     "text": [
      "  Num examples = 1592\n"
     ]
    },
    {
     "name": "stderr",
     "output_type": "stream",
     "text": [
      "  Batch size = 1\n"
     ]
    },
    {
     "name": "stderr",
     "output_type": "stream",
     "text": [
      "Saving model checkpoint to saved_models/XLNetDepr-3_256_8-ALL_NA-PEL-BS1-GWS_PCC_IT192_DH_2LMAEALPHA1_NZ20_PNTh0.05_AnnotThresh0.5/checkpoint-12772\n"
     ]
    },
    {
     "name": "stderr",
     "output_type": "stream",
     "text": [
      "Configuration saved in saved_models/XLNetDepr-3_256_8-ALL_NA-PEL-BS1-GWS_PCC_IT192_DH_2LMAEALPHA1_NZ20_PNTh0.05_AnnotThresh0.5/checkpoint-12772/config.json\n"
     ]
    },
    {
     "name": "stderr",
     "output_type": "stream",
     "text": [
      "Model weights saved in saved_models/XLNetDepr-3_256_8-ALL_NA-PEL-BS1-GWS_PCC_IT192_DH_2LMAEALPHA1_NZ20_PNTh0.05_AnnotThresh0.5/checkpoint-12772/pytorch_model.bin\n"
     ]
    },
    {
     "name": "stderr",
     "output_type": "stream",
     "text": [
      "***** Running Evaluation *****\n"
     ]
    },
    {
     "name": "stderr",
     "output_type": "stream",
     "text": [
      "  Num examples = 1592\n"
     ]
    },
    {
     "name": "stderr",
     "output_type": "stream",
     "text": [
      "  Batch size = 1\n"
     ]
    },
    {
     "name": "stderr",
     "output_type": "stream",
     "text": [
      "Saving model checkpoint to saved_models/XLNetDepr-3_256_8-ALL_NA-PEL-BS1-GWS_PCC_IT192_DH_2LMAEALPHA1_NZ20_PNTh0.05_AnnotThresh0.5/checkpoint-19158\n"
     ]
    },
    {
     "name": "stderr",
     "output_type": "stream",
     "text": [
      "Configuration saved in saved_models/XLNetDepr-3_256_8-ALL_NA-PEL-BS1-GWS_PCC_IT192_DH_2LMAEALPHA1_NZ20_PNTh0.05_AnnotThresh0.5/checkpoint-19158/config.json\n"
     ]
    },
    {
     "name": "stderr",
     "output_type": "stream",
     "text": [
      "Model weights saved in saved_models/XLNetDepr-3_256_8-ALL_NA-PEL-BS1-GWS_PCC_IT192_DH_2LMAEALPHA1_NZ20_PNTh0.05_AnnotThresh0.5/checkpoint-19158/pytorch_model.bin\n"
     ]
    },
    {
     "name": "stderr",
     "output_type": "stream",
     "text": [
      "***** Running Evaluation *****\n"
     ]
    },
    {
     "name": "stderr",
     "output_type": "stream",
     "text": [
      "  Num examples = 1592\n"
     ]
    },
    {
     "name": "stderr",
     "output_type": "stream",
     "text": [
      "  Batch size = 1\n"
     ]
    },
    {
     "name": "stderr",
     "output_type": "stream",
     "text": [
      "Saving model checkpoint to saved_models/XLNetDepr-3_256_8-ALL_NA-PEL-BS1-GWS_PCC_IT192_DH_2LMAEALPHA1_NZ20_PNTh0.05_AnnotThresh0.5/checkpoint-25544\n"
     ]
    },
    {
     "name": "stderr",
     "output_type": "stream",
     "text": [
      "Configuration saved in saved_models/XLNetDepr-3_256_8-ALL_NA-PEL-BS1-GWS_PCC_IT192_DH_2LMAEALPHA1_NZ20_PNTh0.05_AnnotThresh0.5/checkpoint-25544/config.json\n"
     ]
    },
    {
     "name": "stderr",
     "output_type": "stream",
     "text": [
      "Model weights saved in saved_models/XLNetDepr-3_256_8-ALL_NA-PEL-BS1-GWS_PCC_IT192_DH_2LMAEALPHA1_NZ20_PNTh0.05_AnnotThresh0.5/checkpoint-25544/pytorch_model.bin\n"
     ]
    },
    {
     "name": "stderr",
     "output_type": "stream",
     "text": [
      "***** Running Evaluation *****\n"
     ]
    },
    {
     "name": "stderr",
     "output_type": "stream",
     "text": [
      "  Num examples = 1592\n"
     ]
    },
    {
     "name": "stderr",
     "output_type": "stream",
     "text": [
      "  Batch size = 1\n"
     ]
    },
    {
     "name": "stderr",
     "output_type": "stream",
     "text": [
      "Saving model checkpoint to saved_models/XLNetDepr-3_256_8-ALL_NA-PEL-BS1-GWS_PCC_IT192_DH_2LMAEALPHA1_NZ20_PNTh0.05_AnnotThresh0.5/checkpoint-31930\n"
     ]
    },
    {
     "name": "stderr",
     "output_type": "stream",
     "text": [
      "Configuration saved in saved_models/XLNetDepr-3_256_8-ALL_NA-PEL-BS1-GWS_PCC_IT192_DH_2LMAEALPHA1_NZ20_PNTh0.05_AnnotThresh0.5/checkpoint-31930/config.json\n"
     ]
    },
    {
     "name": "stderr",
     "output_type": "stream",
     "text": [
      "Model weights saved in saved_models/XLNetDepr-3_256_8-ALL_NA-PEL-BS1-GWS_PCC_IT192_DH_2LMAEALPHA1_NZ20_PNTh0.05_AnnotThresh0.5/checkpoint-31930/pytorch_model.bin\n"
     ]
    },
    {
     "name": "stderr",
     "output_type": "stream",
     "text": [
      "***** Running Evaluation *****\n"
     ]
    },
    {
     "name": "stderr",
     "output_type": "stream",
     "text": [
      "  Num examples = 1592\n"
     ]
    },
    {
     "name": "stderr",
     "output_type": "stream",
     "text": [
      "  Batch size = 1\n"
     ]
    },
    {
     "name": "stderr",
     "output_type": "stream",
     "text": [
      "Saving model checkpoint to saved_models/XLNetDepr-3_256_8-ALL_NA-PEL-BS1-GWS_PCC_IT192_DH_2LMAEALPHA1_NZ20_PNTh0.05_AnnotThresh0.5/checkpoint-38316\n"
     ]
    },
    {
     "name": "stderr",
     "output_type": "stream",
     "text": [
      "Configuration saved in saved_models/XLNetDepr-3_256_8-ALL_NA-PEL-BS1-GWS_PCC_IT192_DH_2LMAEALPHA1_NZ20_PNTh0.05_AnnotThresh0.5/checkpoint-38316/config.json\n"
     ]
    },
    {
     "name": "stderr",
     "output_type": "stream",
     "text": [
      "Model weights saved in saved_models/XLNetDepr-3_256_8-ALL_NA-PEL-BS1-GWS_PCC_IT192_DH_2LMAEALPHA1_NZ20_PNTh0.05_AnnotThresh0.5/checkpoint-38316/pytorch_model.bin\n"
     ]
    },
    {
     "name": "stderr",
     "output_type": "stream",
     "text": [
      "Deleting older checkpoint [saved_models/XLNetDepr-3_256_8-ALL_NA-PEL-BS1-GWS_PCC_IT192_DH_2LMAEALPHA1_NZ20_PNTh0.05_AnnotThresh0.5/checkpoint-6386] due to args.save_total_limit\n"
     ]
    },
    {
     "name": "stderr",
     "output_type": "stream",
     "text": [
      "***** Running Evaluation *****\n"
     ]
    },
    {
     "name": "stderr",
     "output_type": "stream",
     "text": [
      "  Num examples = 1592\n"
     ]
    },
    {
     "name": "stderr",
     "output_type": "stream",
     "text": [
      "  Batch size = 1\n"
     ]
    },
    {
     "name": "stderr",
     "output_type": "stream",
     "text": [
      "Saving model checkpoint to saved_models/XLNetDepr-3_256_8-ALL_NA-PEL-BS1-GWS_PCC_IT192_DH_2LMAEALPHA1_NZ20_PNTh0.05_AnnotThresh0.5/checkpoint-44702\n"
     ]
    },
    {
     "name": "stderr",
     "output_type": "stream",
     "text": [
      "Configuration saved in saved_models/XLNetDepr-3_256_8-ALL_NA-PEL-BS1-GWS_PCC_IT192_DH_2LMAEALPHA1_NZ20_PNTh0.05_AnnotThresh0.5/checkpoint-44702/config.json\n"
     ]
    },
    {
     "name": "stderr",
     "output_type": "stream",
     "text": [
      "Model weights saved in saved_models/XLNetDepr-3_256_8-ALL_NA-PEL-BS1-GWS_PCC_IT192_DH_2LMAEALPHA1_NZ20_PNTh0.05_AnnotThresh0.5/checkpoint-44702/pytorch_model.bin\n"
     ]
    },
    {
     "name": "stderr",
     "output_type": "stream",
     "text": [
      "Deleting older checkpoint [saved_models/XLNetDepr-3_256_8-ALL_NA-PEL-BS1-GWS_PCC_IT192_DH_2LMAEALPHA1_NZ20_PNTh0.05_AnnotThresh0.5/checkpoint-12772] due to args.save_total_limit\n"
     ]
    },
    {
     "name": "stderr",
     "output_type": "stream",
     "text": [
      "***** Running Evaluation *****\n"
     ]
    },
    {
     "name": "stderr",
     "output_type": "stream",
     "text": [
      "  Num examples = 1592\n"
     ]
    },
    {
     "name": "stderr",
     "output_type": "stream",
     "text": [
      "  Batch size = 1\n"
     ]
    },
    {
     "name": "stderr",
     "output_type": "stream",
     "text": [
      "Saving model checkpoint to saved_models/XLNetDepr-3_256_8-ALL_NA-PEL-BS1-GWS_PCC_IT192_DH_2LMAEALPHA1_NZ20_PNTh0.05_AnnotThresh0.5/checkpoint-51088\n"
     ]
    },
    {
     "name": "stderr",
     "output_type": "stream",
     "text": [
      "Configuration saved in saved_models/XLNetDepr-3_256_8-ALL_NA-PEL-BS1-GWS_PCC_IT192_DH_2LMAEALPHA1_NZ20_PNTh0.05_AnnotThresh0.5/checkpoint-51088/config.json\n"
     ]
    },
    {
     "name": "stderr",
     "output_type": "stream",
     "text": [
      "Model weights saved in saved_models/XLNetDepr-3_256_8-ALL_NA-PEL-BS1-GWS_PCC_IT192_DH_2LMAEALPHA1_NZ20_PNTh0.05_AnnotThresh0.5/checkpoint-51088/pytorch_model.bin\n"
     ]
    },
    {
     "name": "stderr",
     "output_type": "stream",
     "text": [
      "Deleting older checkpoint [saved_models/XLNetDepr-3_256_8-ALL_NA-PEL-BS1-GWS_PCC_IT192_DH_2LMAEALPHA1_NZ20_PNTh0.05_AnnotThresh0.5/checkpoint-19158] due to args.save_total_limit\n"
     ]
    },
    {
     "name": "stderr",
     "output_type": "stream",
     "text": [
      "***** Running Evaluation *****\n"
     ]
    },
    {
     "name": "stderr",
     "output_type": "stream",
     "text": [
      "  Num examples = 1592\n"
     ]
    },
    {
     "name": "stderr",
     "output_type": "stream",
     "text": [
      "  Batch size = 1\n"
     ]
    },
    {
     "name": "stderr",
     "output_type": "stream",
     "text": [
      "Saving model checkpoint to saved_models/XLNetDepr-3_256_8-ALL_NA-PEL-BS1-GWS_PCC_IT192_DH_2LMAEALPHA1_NZ20_PNTh0.05_AnnotThresh0.5/checkpoint-57474\n"
     ]
    },
    {
     "name": "stderr",
     "output_type": "stream",
     "text": [
      "Configuration saved in saved_models/XLNetDepr-3_256_8-ALL_NA-PEL-BS1-GWS_PCC_IT192_DH_2LMAEALPHA1_NZ20_PNTh0.05_AnnotThresh0.5/checkpoint-57474/config.json\n"
     ]
    },
    {
     "name": "stderr",
     "output_type": "stream",
     "text": [
      "Model weights saved in saved_models/XLNetDepr-3_256_8-ALL_NA-PEL-BS1-GWS_PCC_IT192_DH_2LMAEALPHA1_NZ20_PNTh0.05_AnnotThresh0.5/checkpoint-57474/pytorch_model.bin\n"
     ]
    },
    {
     "name": "stderr",
     "output_type": "stream",
     "text": [
      "Deleting older checkpoint [saved_models/XLNetDepr-3_256_8-ALL_NA-PEL-BS1-GWS_PCC_IT192_DH_2LMAEALPHA1_NZ20_PNTh0.05_AnnotThresh0.5/checkpoint-25544] due to args.save_total_limit\n"
     ]
    },
    {
     "name": "stderr",
     "output_type": "stream",
     "text": [
      "***** Running Evaluation *****\n"
     ]
    },
    {
     "name": "stderr",
     "output_type": "stream",
     "text": [
      "  Num examples = 1592\n"
     ]
    },
    {
     "name": "stderr",
     "output_type": "stream",
     "text": [
      "  Batch size = 1\n"
     ]
    },
    {
     "name": "stderr",
     "output_type": "stream",
     "text": [
      "Saving model checkpoint to saved_models/XLNetDepr-3_256_8-ALL_NA-PEL-BS1-GWS_PCC_IT192_DH_2LMAEALPHA1_NZ20_PNTh0.05_AnnotThresh0.5/checkpoint-63860\n"
     ]
    },
    {
     "name": "stderr",
     "output_type": "stream",
     "text": [
      "Configuration saved in saved_models/XLNetDepr-3_256_8-ALL_NA-PEL-BS1-GWS_PCC_IT192_DH_2LMAEALPHA1_NZ20_PNTh0.05_AnnotThresh0.5/checkpoint-63860/config.json\n"
     ]
    },
    {
     "name": "stderr",
     "output_type": "stream",
     "text": [
      "Model weights saved in saved_models/XLNetDepr-3_256_8-ALL_NA-PEL-BS1-GWS_PCC_IT192_DH_2LMAEALPHA1_NZ20_PNTh0.05_AnnotThresh0.5/checkpoint-63860/pytorch_model.bin\n"
     ]
    },
    {
     "name": "stderr",
     "output_type": "stream",
     "text": [
      "Deleting older checkpoint [saved_models/XLNetDepr-3_256_8-ALL_NA-PEL-BS1-GWS_PCC_IT192_DH_2LMAEALPHA1_NZ20_PNTh0.05_AnnotThresh0.5/checkpoint-31930] due to args.save_total_limit\n"
     ]
    },
    {
     "name": "stderr",
     "output_type": "stream",
     "text": [
      "***** Running Evaluation *****\n"
     ]
    },
    {
     "name": "stderr",
     "output_type": "stream",
     "text": [
      "  Num examples = 1592\n"
     ]
    },
    {
     "name": "stderr",
     "output_type": "stream",
     "text": [
      "  Batch size = 1\n"
     ]
    },
    {
     "name": "stderr",
     "output_type": "stream",
     "text": [
      "Saving model checkpoint to saved_models/XLNetDepr-3_256_8-ALL_NA-PEL-BS1-GWS_PCC_IT192_DH_2LMAEALPHA1_NZ20_PNTh0.05_AnnotThresh0.5/checkpoint-70246\n"
     ]
    },
    {
     "name": "stderr",
     "output_type": "stream",
     "text": [
      "Configuration saved in saved_models/XLNetDepr-3_256_8-ALL_NA-PEL-BS1-GWS_PCC_IT192_DH_2LMAEALPHA1_NZ20_PNTh0.05_AnnotThresh0.5/checkpoint-70246/config.json\n"
     ]
    },
    {
     "name": "stderr",
     "output_type": "stream",
     "text": [
      "Model weights saved in saved_models/XLNetDepr-3_256_8-ALL_NA-PEL-BS1-GWS_PCC_IT192_DH_2LMAEALPHA1_NZ20_PNTh0.05_AnnotThresh0.5/checkpoint-70246/pytorch_model.bin\n"
     ]
    },
    {
     "name": "stderr",
     "output_type": "stream",
     "text": [
      "Deleting older checkpoint [saved_models/XLNetDepr-3_256_8-ALL_NA-PEL-BS1-GWS_PCC_IT192_DH_2LMAEALPHA1_NZ20_PNTh0.05_AnnotThresh0.5/checkpoint-38316] due to args.save_total_limit\n"
     ]
    },
    {
     "name": "stderr",
     "output_type": "stream",
     "text": [
      "***** Running Evaluation *****\n"
     ]
    },
    {
     "name": "stderr",
     "output_type": "stream",
     "text": [
      "  Num examples = 1592\n"
     ]
    },
    {
     "name": "stderr",
     "output_type": "stream",
     "text": [
      "  Batch size = 1\n"
     ]
    },
    {
     "name": "stderr",
     "output_type": "stream",
     "text": [
      "Saving model checkpoint to saved_models/XLNetDepr-3_256_8-ALL_NA-PEL-BS1-GWS_PCC_IT192_DH_2LMAEALPHA1_NZ20_PNTh0.05_AnnotThresh0.5/checkpoint-76632\n"
     ]
    },
    {
     "name": "stderr",
     "output_type": "stream",
     "text": [
      "Configuration saved in saved_models/XLNetDepr-3_256_8-ALL_NA-PEL-BS1-GWS_PCC_IT192_DH_2LMAEALPHA1_NZ20_PNTh0.05_AnnotThresh0.5/checkpoint-76632/config.json\n"
     ]
    },
    {
     "name": "stderr",
     "output_type": "stream",
     "text": [
      "Model weights saved in saved_models/XLNetDepr-3_256_8-ALL_NA-PEL-BS1-GWS_PCC_IT192_DH_2LMAEALPHA1_NZ20_PNTh0.05_AnnotThresh0.5/checkpoint-76632/pytorch_model.bin\n"
     ]
    },
    {
     "name": "stderr",
     "output_type": "stream",
     "text": [
      "Deleting older checkpoint [saved_models/XLNetDepr-3_256_8-ALL_NA-PEL-BS1-GWS_PCC_IT192_DH_2LMAEALPHA1_NZ20_PNTh0.05_AnnotThresh0.5/checkpoint-44702] due to args.save_total_limit\n"
     ]
    },
    {
     "name": "stderr",
     "output_type": "stream",
     "text": [
      "***** Running Evaluation *****\n"
     ]
    },
    {
     "name": "stderr",
     "output_type": "stream",
     "text": [
      "  Num examples = 1592\n"
     ]
    },
    {
     "name": "stderr",
     "output_type": "stream",
     "text": [
      "  Batch size = 1\n"
     ]
    },
    {
     "name": "stderr",
     "output_type": "stream",
     "text": [
      "Saving model checkpoint to saved_models/XLNetDepr-3_256_8-ALL_NA-PEL-BS1-GWS_PCC_IT192_DH_2LMAEALPHA1_NZ20_PNTh0.05_AnnotThresh0.5/checkpoint-83018\n"
     ]
    },
    {
     "name": "stderr",
     "output_type": "stream",
     "text": [
      "Configuration saved in saved_models/XLNetDepr-3_256_8-ALL_NA-PEL-BS1-GWS_PCC_IT192_DH_2LMAEALPHA1_NZ20_PNTh0.05_AnnotThresh0.5/checkpoint-83018/config.json\n"
     ]
    },
    {
     "name": "stderr",
     "output_type": "stream",
     "text": [
      "Model weights saved in saved_models/XLNetDepr-3_256_8-ALL_NA-PEL-BS1-GWS_PCC_IT192_DH_2LMAEALPHA1_NZ20_PNTh0.05_AnnotThresh0.5/checkpoint-83018/pytorch_model.bin\n"
     ]
    },
    {
     "name": "stderr",
     "output_type": "stream",
     "text": [
      "Deleting older checkpoint [saved_models/XLNetDepr-3_256_8-ALL_NA-PEL-BS1-GWS_PCC_IT192_DH_2LMAEALPHA1_NZ20_PNTh0.05_AnnotThresh0.5/checkpoint-51088] due to args.save_total_limit\n"
     ]
    },
    {
     "name": "stderr",
     "output_type": "stream",
     "text": [
      "***** Running Evaluation *****\n"
     ]
    },
    {
     "name": "stderr",
     "output_type": "stream",
     "text": [
      "  Num examples = 1592\n"
     ]
    },
    {
     "name": "stderr",
     "output_type": "stream",
     "text": [
      "  Batch size = 1\n"
     ]
    },
    {
     "name": "stderr",
     "output_type": "stream",
     "text": [
      "Saving model checkpoint to saved_models/XLNetDepr-3_256_8-ALL_NA-PEL-BS1-GWS_PCC_IT192_DH_2LMAEALPHA1_NZ20_PNTh0.05_AnnotThresh0.5/checkpoint-89404\n"
     ]
    },
    {
     "name": "stderr",
     "output_type": "stream",
     "text": [
      "Configuration saved in saved_models/XLNetDepr-3_256_8-ALL_NA-PEL-BS1-GWS_PCC_IT192_DH_2LMAEALPHA1_NZ20_PNTh0.05_AnnotThresh0.5/checkpoint-89404/config.json\n"
     ]
    },
    {
     "name": "stderr",
     "output_type": "stream",
     "text": [
      "Model weights saved in saved_models/XLNetDepr-3_256_8-ALL_NA-PEL-BS1-GWS_PCC_IT192_DH_2LMAEALPHA1_NZ20_PNTh0.05_AnnotThresh0.5/checkpoint-89404/pytorch_model.bin\n"
     ]
    },
    {
     "name": "stderr",
     "output_type": "stream",
     "text": [
      "Deleting older checkpoint [saved_models/XLNetDepr-3_256_8-ALL_NA-PEL-BS1-GWS_PCC_IT192_DH_2LMAEALPHA1_NZ20_PNTh0.05_AnnotThresh0.5/checkpoint-57474] due to args.save_total_limit\n"
     ]
    },
    {
     "name": "stderr",
     "output_type": "stream",
     "text": [
      "***** Running Evaluation *****\n"
     ]
    },
    {
     "name": "stderr",
     "output_type": "stream",
     "text": [
      "  Num examples = 1592\n"
     ]
    },
    {
     "name": "stderr",
     "output_type": "stream",
     "text": [
      "  Batch size = 1\n"
     ]
    },
    {
     "name": "stderr",
     "output_type": "stream",
     "text": [
      "Saving model checkpoint to saved_models/XLNetDepr-3_256_8-ALL_NA-PEL-BS1-GWS_PCC_IT192_DH_2LMAEALPHA1_NZ20_PNTh0.05_AnnotThresh0.5/checkpoint-95790\n"
     ]
    },
    {
     "name": "stderr",
     "output_type": "stream",
     "text": [
      "Configuration saved in saved_models/XLNetDepr-3_256_8-ALL_NA-PEL-BS1-GWS_PCC_IT192_DH_2LMAEALPHA1_NZ20_PNTh0.05_AnnotThresh0.5/checkpoint-95790/config.json\n"
     ]
    },
    {
     "name": "stderr",
     "output_type": "stream",
     "text": [
      "Model weights saved in saved_models/XLNetDepr-3_256_8-ALL_NA-PEL-BS1-GWS_PCC_IT192_DH_2LMAEALPHA1_NZ20_PNTh0.05_AnnotThresh0.5/checkpoint-95790/pytorch_model.bin\n"
     ]
    },
    {
     "name": "stderr",
     "output_type": "stream",
     "text": [
      "Deleting older checkpoint [saved_models/XLNetDepr-3_256_8-ALL_NA-PEL-BS1-GWS_PCC_IT192_DH_2LMAEALPHA1_NZ20_PNTh0.05_AnnotThresh0.5/checkpoint-63860] due to args.save_total_limit\n"
     ]
    },
    {
     "name": "stderr",
     "output_type": "stream",
     "text": [
      "***** Running Evaluation *****\n"
     ]
    },
    {
     "name": "stderr",
     "output_type": "stream",
     "text": [
      "  Num examples = 1592\n"
     ]
    },
    {
     "name": "stderr",
     "output_type": "stream",
     "text": [
      "  Batch size = 1\n"
     ]
    },
    {
     "name": "stderr",
     "output_type": "stream",
     "text": [
      "Saving model checkpoint to saved_models/XLNetDepr-3_256_8-ALL_NA-PEL-BS1-GWS_PCC_IT192_DH_2LMAEALPHA1_NZ20_PNTh0.05_AnnotThresh0.5/checkpoint-102176\n"
     ]
    },
    {
     "name": "stderr",
     "output_type": "stream",
     "text": [
      "Configuration saved in saved_models/XLNetDepr-3_256_8-ALL_NA-PEL-BS1-GWS_PCC_IT192_DH_2LMAEALPHA1_NZ20_PNTh0.05_AnnotThresh0.5/checkpoint-102176/config.json\n"
     ]
    },
    {
     "name": "stderr",
     "output_type": "stream",
     "text": [
      "Model weights saved in saved_models/XLNetDepr-3_256_8-ALL_NA-PEL-BS1-GWS_PCC_IT192_DH_2LMAEALPHA1_NZ20_PNTh0.05_AnnotThresh0.5/checkpoint-102176/pytorch_model.bin\n"
     ]
    },
    {
     "name": "stderr",
     "output_type": "stream",
     "text": [
      "Deleting older checkpoint [saved_models/XLNetDepr-3_256_8-ALL_NA-PEL-BS1-GWS_PCC_IT192_DH_2LMAEALPHA1_NZ20_PNTh0.05_AnnotThresh0.5/checkpoint-70246] due to args.save_total_limit\n"
     ]
    },
    {
     "name": "stderr",
     "output_type": "stream",
     "text": [
      "***** Running Evaluation *****\n"
     ]
    },
    {
     "name": "stderr",
     "output_type": "stream",
     "text": [
      "  Num examples = 1592\n"
     ]
    },
    {
     "name": "stderr",
     "output_type": "stream",
     "text": [
      "  Batch size = 1\n"
     ]
    },
    {
     "name": "stderr",
     "output_type": "stream",
     "text": [
      "Saving model checkpoint to saved_models/XLNetDepr-3_256_8-ALL_NA-PEL-BS1-GWS_PCC_IT192_DH_2LMAEALPHA1_NZ20_PNTh0.05_AnnotThresh0.5/checkpoint-108562\n"
     ]
    },
    {
     "name": "stderr",
     "output_type": "stream",
     "text": [
      "Configuration saved in saved_models/XLNetDepr-3_256_8-ALL_NA-PEL-BS1-GWS_PCC_IT192_DH_2LMAEALPHA1_NZ20_PNTh0.05_AnnotThresh0.5/checkpoint-108562/config.json\n"
     ]
    },
    {
     "name": "stderr",
     "output_type": "stream",
     "text": [
      "Model weights saved in saved_models/XLNetDepr-3_256_8-ALL_NA-PEL-BS1-GWS_PCC_IT192_DH_2LMAEALPHA1_NZ20_PNTh0.05_AnnotThresh0.5/checkpoint-108562/pytorch_model.bin\n"
     ]
    },
    {
     "name": "stderr",
     "output_type": "stream",
     "text": [
      "Deleting older checkpoint [saved_models/XLNetDepr-3_256_8-ALL_NA-PEL-BS1-GWS_PCC_IT192_DH_2LMAEALPHA1_NZ20_PNTh0.05_AnnotThresh0.5/checkpoint-76632] due to args.save_total_limit\n"
     ]
    },
    {
     "name": "stderr",
     "output_type": "stream",
     "text": [
      "***** Running Evaluation *****\n"
     ]
    },
    {
     "name": "stderr",
     "output_type": "stream",
     "text": [
      "  Num examples = 1592\n"
     ]
    },
    {
     "name": "stderr",
     "output_type": "stream",
     "text": [
      "  Batch size = 1\n"
     ]
    },
    {
     "name": "stderr",
     "output_type": "stream",
     "text": [
      "Saving model checkpoint to saved_models/XLNetDepr-3_256_8-ALL_NA-PEL-BS1-GWS_PCC_IT192_DH_2LMAEALPHA1_NZ20_PNTh0.05_AnnotThresh0.5/checkpoint-114948\n"
     ]
    },
    {
     "name": "stderr",
     "output_type": "stream",
     "text": [
      "Configuration saved in saved_models/XLNetDepr-3_256_8-ALL_NA-PEL-BS1-GWS_PCC_IT192_DH_2LMAEALPHA1_NZ20_PNTh0.05_AnnotThresh0.5/checkpoint-114948/config.json\n"
     ]
    },
    {
     "name": "stderr",
     "output_type": "stream",
     "text": [
      "Model weights saved in saved_models/XLNetDepr-3_256_8-ALL_NA-PEL-BS1-GWS_PCC_IT192_DH_2LMAEALPHA1_NZ20_PNTh0.05_AnnotThresh0.5/checkpoint-114948/pytorch_model.bin\n"
     ]
    },
    {
     "name": "stderr",
     "output_type": "stream",
     "text": [
      "Deleting older checkpoint [saved_models/XLNetDepr-3_256_8-ALL_NA-PEL-BS1-GWS_PCC_IT192_DH_2LMAEALPHA1_NZ20_PNTh0.05_AnnotThresh0.5/checkpoint-83018] due to args.save_total_limit\n"
     ]
    },
    {
     "name": "stderr",
     "output_type": "stream",
     "text": [
      "***** Running Evaluation *****\n"
     ]
    },
    {
     "name": "stderr",
     "output_type": "stream",
     "text": [
      "  Num examples = 1592\n"
     ]
    },
    {
     "name": "stderr",
     "output_type": "stream",
     "text": [
      "  Batch size = 1\n"
     ]
    },
    {
     "name": "stderr",
     "output_type": "stream",
     "text": [
      "Saving model checkpoint to saved_models/XLNetDepr-3_256_8-ALL_NA-PEL-BS1-GWS_PCC_IT192_DH_2LMAEALPHA1_NZ20_PNTh0.05_AnnotThresh0.5/checkpoint-121334\n"
     ]
    },
    {
     "name": "stderr",
     "output_type": "stream",
     "text": [
      "Configuration saved in saved_models/XLNetDepr-3_256_8-ALL_NA-PEL-BS1-GWS_PCC_IT192_DH_2LMAEALPHA1_NZ20_PNTh0.05_AnnotThresh0.5/checkpoint-121334/config.json\n"
     ]
    },
    {
     "name": "stderr",
     "output_type": "stream",
     "text": [
      "Model weights saved in saved_models/XLNetDepr-3_256_8-ALL_NA-PEL-BS1-GWS_PCC_IT192_DH_2LMAEALPHA1_NZ20_PNTh0.05_AnnotThresh0.5/checkpoint-121334/pytorch_model.bin\n"
     ]
    },
    {
     "name": "stderr",
     "output_type": "stream",
     "text": [
      "Deleting older checkpoint [saved_models/XLNetDepr-3_256_8-ALL_NA-PEL-BS1-GWS_PCC_IT192_DH_2LMAEALPHA1_NZ20_PNTh0.05_AnnotThresh0.5/checkpoint-95790] due to args.save_total_limit\n"
     ]
    },
    {
     "name": "stderr",
     "output_type": "stream",
     "text": [
      "***** Running Evaluation *****\n"
     ]
    },
    {
     "name": "stderr",
     "output_type": "stream",
     "text": [
      "  Num examples = 1592\n"
     ]
    },
    {
     "name": "stderr",
     "output_type": "stream",
     "text": [
      "  Batch size = 1\n"
     ]
    },
    {
     "name": "stderr",
     "output_type": "stream",
     "text": [
      "Saving model checkpoint to saved_models/XLNetDepr-3_256_8-ALL_NA-PEL-BS1-GWS_PCC_IT192_DH_2LMAEALPHA1_NZ20_PNTh0.05_AnnotThresh0.5/checkpoint-127720\n"
     ]
    },
    {
     "name": "stderr",
     "output_type": "stream",
     "text": [
      "Configuration saved in saved_models/XLNetDepr-3_256_8-ALL_NA-PEL-BS1-GWS_PCC_IT192_DH_2LMAEALPHA1_NZ20_PNTh0.05_AnnotThresh0.5/checkpoint-127720/config.json\n"
     ]
    },
    {
     "name": "stderr",
     "output_type": "stream",
     "text": [
      "Model weights saved in saved_models/XLNetDepr-3_256_8-ALL_NA-PEL-BS1-GWS_PCC_IT192_DH_2LMAEALPHA1_NZ20_PNTh0.05_AnnotThresh0.5/checkpoint-127720/pytorch_model.bin\n"
     ]
    },
    {
     "name": "stderr",
     "output_type": "stream",
     "text": [
      "Deleting older checkpoint [saved_models/XLNetDepr-3_256_8-ALL_NA-PEL-BS1-GWS_PCC_IT192_DH_2LMAEALPHA1_NZ20_PNTh0.05_AnnotThresh0.5/checkpoint-102176] due to args.save_total_limit\n"
     ]
    },
    {
     "name": "stderr",
     "output_type": "stream",
     "text": [
      "***** Running Evaluation *****\n"
     ]
    },
    {
     "name": "stderr",
     "output_type": "stream",
     "text": [
      "  Num examples = 1592\n"
     ]
    },
    {
     "name": "stderr",
     "output_type": "stream",
     "text": [
      "  Batch size = 1\n"
     ]
    },
    {
     "name": "stderr",
     "output_type": "stream",
     "text": [
      "Saving model checkpoint to saved_models/XLNetDepr-3_256_8-ALL_NA-PEL-BS1-GWS_PCC_IT192_DH_2LMAEALPHA1_NZ20_PNTh0.05_AnnotThresh0.5/checkpoint-134106\n"
     ]
    },
    {
     "name": "stderr",
     "output_type": "stream",
     "text": [
      "Configuration saved in saved_models/XLNetDepr-3_256_8-ALL_NA-PEL-BS1-GWS_PCC_IT192_DH_2LMAEALPHA1_NZ20_PNTh0.05_AnnotThresh0.5/checkpoint-134106/config.json\n"
     ]
    },
    {
     "name": "stderr",
     "output_type": "stream",
     "text": [
      "Model weights saved in saved_models/XLNetDepr-3_256_8-ALL_NA-PEL-BS1-GWS_PCC_IT192_DH_2LMAEALPHA1_NZ20_PNTh0.05_AnnotThresh0.5/checkpoint-134106/pytorch_model.bin\n"
     ]
    },
    {
     "name": "stderr",
     "output_type": "stream",
     "text": [
      "Deleting older checkpoint [saved_models/XLNetDepr-3_256_8-ALL_NA-PEL-BS1-GWS_PCC_IT192_DH_2LMAEALPHA1_NZ20_PNTh0.05_AnnotThresh0.5/checkpoint-108562] due to args.save_total_limit\n"
     ]
    },
    {
     "name": "stderr",
     "output_type": "stream",
     "text": [
      "***** Running Evaluation *****\n"
     ]
    },
    {
     "name": "stderr",
     "output_type": "stream",
     "text": [
      "  Num examples = 1592\n"
     ]
    },
    {
     "name": "stderr",
     "output_type": "stream",
     "text": [
      "  Batch size = 1\n"
     ]
    },
    {
     "name": "stderr",
     "output_type": "stream",
     "text": [
      "Saving model checkpoint to saved_models/XLNetDepr-3_256_8-ALL_NA-PEL-BS1-GWS_PCC_IT192_DH_2LMAEALPHA1_NZ20_PNTh0.05_AnnotThresh0.5/checkpoint-140492\n"
     ]
    },
    {
     "name": "stderr",
     "output_type": "stream",
     "text": [
      "Configuration saved in saved_models/XLNetDepr-3_256_8-ALL_NA-PEL-BS1-GWS_PCC_IT192_DH_2LMAEALPHA1_NZ20_PNTh0.05_AnnotThresh0.5/checkpoint-140492/config.json\n"
     ]
    },
    {
     "name": "stderr",
     "output_type": "stream",
     "text": [
      "Model weights saved in saved_models/XLNetDepr-3_256_8-ALL_NA-PEL-BS1-GWS_PCC_IT192_DH_2LMAEALPHA1_NZ20_PNTh0.05_AnnotThresh0.5/checkpoint-140492/pytorch_model.bin\n"
     ]
    },
    {
     "name": "stderr",
     "output_type": "stream",
     "text": [
      "Deleting older checkpoint [saved_models/XLNetDepr-3_256_8-ALL_NA-PEL-BS1-GWS_PCC_IT192_DH_2LMAEALPHA1_NZ20_PNTh0.05_AnnotThresh0.5/checkpoint-114948] due to args.save_total_limit\n"
     ]
    },
    {
     "name": "stderr",
     "output_type": "stream",
     "text": [
      "***** Running Evaluation *****\n"
     ]
    },
    {
     "name": "stderr",
     "output_type": "stream",
     "text": [
      "  Num examples = 1592\n"
     ]
    },
    {
     "name": "stderr",
     "output_type": "stream",
     "text": [
      "  Batch size = 1\n"
     ]
    },
    {
     "name": "stderr",
     "output_type": "stream",
     "text": [
      "Saving model checkpoint to saved_models/XLNetDepr-3_256_8-ALL_NA-PEL-BS1-GWS_PCC_IT192_DH_2LMAEALPHA1_NZ20_PNTh0.05_AnnotThresh0.5/checkpoint-146878\n"
     ]
    },
    {
     "name": "stderr",
     "output_type": "stream",
     "text": [
      "Configuration saved in saved_models/XLNetDepr-3_256_8-ALL_NA-PEL-BS1-GWS_PCC_IT192_DH_2LMAEALPHA1_NZ20_PNTh0.05_AnnotThresh0.5/checkpoint-146878/config.json\n"
     ]
    },
    {
     "name": "stderr",
     "output_type": "stream",
     "text": [
      "Model weights saved in saved_models/XLNetDepr-3_256_8-ALL_NA-PEL-BS1-GWS_PCC_IT192_DH_2LMAEALPHA1_NZ20_PNTh0.05_AnnotThresh0.5/checkpoint-146878/pytorch_model.bin\n"
     ]
    },
    {
     "name": "stderr",
     "output_type": "stream",
     "text": [
      "Deleting older checkpoint [saved_models/XLNetDepr-3_256_8-ALL_NA-PEL-BS1-GWS_PCC_IT192_DH_2LMAEALPHA1_NZ20_PNTh0.05_AnnotThresh0.5/checkpoint-121334] due to args.save_total_limit\n"
     ]
    },
    {
     "name": "stderr",
     "output_type": "stream",
     "text": [
      "***** Running Evaluation *****\n"
     ]
    },
    {
     "name": "stderr",
     "output_type": "stream",
     "text": [
      "  Num examples = 1592\n"
     ]
    },
    {
     "name": "stderr",
     "output_type": "stream",
     "text": [
      "  Batch size = 1\n"
     ]
    },
    {
     "name": "stderr",
     "output_type": "stream",
     "text": [
      "Saving model checkpoint to saved_models/XLNetDepr-3_256_8-ALL_NA-PEL-BS1-GWS_PCC_IT192_DH_2LMAEALPHA1_NZ20_PNTh0.05_AnnotThresh0.5/checkpoint-153264\n"
     ]
    },
    {
     "name": "stderr",
     "output_type": "stream",
     "text": [
      "Configuration saved in saved_models/XLNetDepr-3_256_8-ALL_NA-PEL-BS1-GWS_PCC_IT192_DH_2LMAEALPHA1_NZ20_PNTh0.05_AnnotThresh0.5/checkpoint-153264/config.json\n"
     ]
    },
    {
     "name": "stderr",
     "output_type": "stream",
     "text": [
      "Model weights saved in saved_models/XLNetDepr-3_256_8-ALL_NA-PEL-BS1-GWS_PCC_IT192_DH_2LMAEALPHA1_NZ20_PNTh0.05_AnnotThresh0.5/checkpoint-153264/pytorch_model.bin\n"
     ]
    },
    {
     "name": "stderr",
     "output_type": "stream",
     "text": [
      "Deleting older checkpoint [saved_models/XLNetDepr-3_256_8-ALL_NA-PEL-BS1-GWS_PCC_IT192_DH_2LMAEALPHA1_NZ20_PNTh0.05_AnnotThresh0.5/checkpoint-89404] due to args.save_total_limit\n"
     ]
    },
    {
     "name": "stderr",
     "output_type": "stream",
     "text": [
      "***** Running Evaluation *****\n"
     ]
    },
    {
     "name": "stderr",
     "output_type": "stream",
     "text": [
      "  Num examples = 1592\n"
     ]
    },
    {
     "name": "stderr",
     "output_type": "stream",
     "text": [
      "  Batch size = 1\n"
     ]
    },
    {
     "name": "stderr",
     "output_type": "stream",
     "text": [
      "Saving model checkpoint to saved_models/XLNetDepr-3_256_8-ALL_NA-PEL-BS1-GWS_PCC_IT192_DH_2LMAEALPHA1_NZ20_PNTh0.05_AnnotThresh0.5/checkpoint-159650\n"
     ]
    },
    {
     "name": "stderr",
     "output_type": "stream",
     "text": [
      "Configuration saved in saved_models/XLNetDepr-3_256_8-ALL_NA-PEL-BS1-GWS_PCC_IT192_DH_2LMAEALPHA1_NZ20_PNTh0.05_AnnotThresh0.5/checkpoint-159650/config.json\n"
     ]
    },
    {
     "name": "stderr",
     "output_type": "stream",
     "text": [
      "Model weights saved in saved_models/XLNetDepr-3_256_8-ALL_NA-PEL-BS1-GWS_PCC_IT192_DH_2LMAEALPHA1_NZ20_PNTh0.05_AnnotThresh0.5/checkpoint-159650/pytorch_model.bin\n"
     ]
    },
    {
     "name": "stderr",
     "output_type": "stream",
     "text": [
      "Deleting older checkpoint [saved_models/XLNetDepr-3_256_8-ALL_NA-PEL-BS1-GWS_PCC_IT192_DH_2LMAEALPHA1_NZ20_PNTh0.05_AnnotThresh0.5/checkpoint-127720] due to args.save_total_limit\n"
     ]
    },
    {
     "name": "stderr",
     "output_type": "stream",
     "text": [
      "***** Running Evaluation *****\n"
     ]
    },
    {
     "name": "stderr",
     "output_type": "stream",
     "text": [
      "  Num examples = 1592\n"
     ]
    },
    {
     "name": "stderr",
     "output_type": "stream",
     "text": [
      "  Batch size = 1\n"
     ]
    },
    {
     "name": "stderr",
     "output_type": "stream",
     "text": [
      "Saving model checkpoint to saved_models/XLNetDepr-3_256_8-ALL_NA-PEL-BS1-GWS_PCC_IT192_DH_2LMAEALPHA1_NZ20_PNTh0.05_AnnotThresh0.5/checkpoint-166036\n"
     ]
    },
    {
     "name": "stderr",
     "output_type": "stream",
     "text": [
      "Configuration saved in saved_models/XLNetDepr-3_256_8-ALL_NA-PEL-BS1-GWS_PCC_IT192_DH_2LMAEALPHA1_NZ20_PNTh0.05_AnnotThresh0.5/checkpoint-166036/config.json\n"
     ]
    },
    {
     "name": "stderr",
     "output_type": "stream",
     "text": [
      "Model weights saved in saved_models/XLNetDepr-3_256_8-ALL_NA-PEL-BS1-GWS_PCC_IT192_DH_2LMAEALPHA1_NZ20_PNTh0.05_AnnotThresh0.5/checkpoint-166036/pytorch_model.bin\n"
     ]
    },
    {
     "name": "stderr",
     "output_type": "stream",
     "text": [
      "Deleting older checkpoint [saved_models/XLNetDepr-3_256_8-ALL_NA-PEL-BS1-GWS_PCC_IT192_DH_2LMAEALPHA1_NZ20_PNTh0.05_AnnotThresh0.5/checkpoint-134106] due to args.save_total_limit\n"
     ]
    },
    {
     "name": "stderr",
     "output_type": "stream",
     "text": [
      "***** Running Evaluation *****\n"
     ]
    },
    {
     "name": "stderr",
     "output_type": "stream",
     "text": [
      "  Num examples = 1592\n"
     ]
    },
    {
     "name": "stderr",
     "output_type": "stream",
     "text": [
      "  Batch size = 1\n"
     ]
    },
    {
     "name": "stderr",
     "output_type": "stream",
     "text": [
      "Saving model checkpoint to saved_models/XLNetDepr-3_256_8-ALL_NA-PEL-BS1-GWS_PCC_IT192_DH_2LMAEALPHA1_NZ20_PNTh0.05_AnnotThresh0.5/checkpoint-172422\n"
     ]
    },
    {
     "name": "stderr",
     "output_type": "stream",
     "text": [
      "Configuration saved in saved_models/XLNetDepr-3_256_8-ALL_NA-PEL-BS1-GWS_PCC_IT192_DH_2LMAEALPHA1_NZ20_PNTh0.05_AnnotThresh0.5/checkpoint-172422/config.json\n"
     ]
    },
    {
     "name": "stderr",
     "output_type": "stream",
     "text": [
      "Model weights saved in saved_models/XLNetDepr-3_256_8-ALL_NA-PEL-BS1-GWS_PCC_IT192_DH_2LMAEALPHA1_NZ20_PNTh0.05_AnnotThresh0.5/checkpoint-172422/pytorch_model.bin\n"
     ]
    },
    {
     "name": "stderr",
     "output_type": "stream",
     "text": [
      "Deleting older checkpoint [saved_models/XLNetDepr-3_256_8-ALL_NA-PEL-BS1-GWS_PCC_IT192_DH_2LMAEALPHA1_NZ20_PNTh0.05_AnnotThresh0.5/checkpoint-140492] due to args.save_total_limit\n"
     ]
    },
    {
     "name": "stderr",
     "output_type": "stream",
     "text": [
      "***** Running Evaluation *****\n"
     ]
    },
    {
     "name": "stderr",
     "output_type": "stream",
     "text": [
      "  Num examples = 1592\n"
     ]
    },
    {
     "name": "stderr",
     "output_type": "stream",
     "text": [
      "  Batch size = 1\n"
     ]
    },
    {
     "name": "stderr",
     "output_type": "stream",
     "text": [
      "Saving model checkpoint to saved_models/XLNetDepr-3_256_8-ALL_NA-PEL-BS1-GWS_PCC_IT192_DH_2LMAEALPHA1_NZ20_PNTh0.05_AnnotThresh0.5/checkpoint-178808\n"
     ]
    },
    {
     "name": "stderr",
     "output_type": "stream",
     "text": [
      "Configuration saved in saved_models/XLNetDepr-3_256_8-ALL_NA-PEL-BS1-GWS_PCC_IT192_DH_2LMAEALPHA1_NZ20_PNTh0.05_AnnotThresh0.5/checkpoint-178808/config.json\n"
     ]
    },
    {
     "name": "stderr",
     "output_type": "stream",
     "text": [
      "Model weights saved in saved_models/XLNetDepr-3_256_8-ALL_NA-PEL-BS1-GWS_PCC_IT192_DH_2LMAEALPHA1_NZ20_PNTh0.05_AnnotThresh0.5/checkpoint-178808/pytorch_model.bin\n"
     ]
    },
    {
     "name": "stderr",
     "output_type": "stream",
     "text": [
      "Deleting older checkpoint [saved_models/XLNetDepr-3_256_8-ALL_NA-PEL-BS1-GWS_PCC_IT192_DH_2LMAEALPHA1_NZ20_PNTh0.05_AnnotThresh0.5/checkpoint-146878] due to args.save_total_limit\n"
     ]
    },
    {
     "name": "stderr",
     "output_type": "stream",
     "text": [
      "***** Running Evaluation *****\n"
     ]
    },
    {
     "name": "stderr",
     "output_type": "stream",
     "text": [
      "  Num examples = 1592\n"
     ]
    },
    {
     "name": "stderr",
     "output_type": "stream",
     "text": [
      "  Batch size = 1\n"
     ]
    },
    {
     "name": "stderr",
     "output_type": "stream",
     "text": [
      "Saving model checkpoint to saved_models/XLNetDepr-3_256_8-ALL_NA-PEL-BS1-GWS_PCC_IT192_DH_2LMAEALPHA1_NZ20_PNTh0.05_AnnotThresh0.5/checkpoint-185194\n"
     ]
    },
    {
     "name": "stderr",
     "output_type": "stream",
     "text": [
      "Configuration saved in saved_models/XLNetDepr-3_256_8-ALL_NA-PEL-BS1-GWS_PCC_IT192_DH_2LMAEALPHA1_NZ20_PNTh0.05_AnnotThresh0.5/checkpoint-185194/config.json\n"
     ]
    },
    {
     "name": "stderr",
     "output_type": "stream",
     "text": [
      "Model weights saved in saved_models/XLNetDepr-3_256_8-ALL_NA-PEL-BS1-GWS_PCC_IT192_DH_2LMAEALPHA1_NZ20_PNTh0.05_AnnotThresh0.5/checkpoint-185194/pytorch_model.bin\n"
     ]
    },
    {
     "name": "stderr",
     "output_type": "stream",
     "text": [
      "Deleting older checkpoint [saved_models/XLNetDepr-3_256_8-ALL_NA-PEL-BS1-GWS_PCC_IT192_DH_2LMAEALPHA1_NZ20_PNTh0.05_AnnotThresh0.5/checkpoint-153264] due to args.save_total_limit\n"
     ]
    },
    {
     "name": "stderr",
     "output_type": "stream",
     "text": [
      "***** Running Evaluation *****\n"
     ]
    },
    {
     "name": "stderr",
     "output_type": "stream",
     "text": [
      "  Num examples = 1592\n"
     ]
    },
    {
     "name": "stderr",
     "output_type": "stream",
     "text": [
      "  Batch size = 1\n"
     ]
    },
    {
     "name": "stderr",
     "output_type": "stream",
     "text": [
      "Saving model checkpoint to saved_models/XLNetDepr-3_256_8-ALL_NA-PEL-BS1-GWS_PCC_IT192_DH_2LMAEALPHA1_NZ20_PNTh0.05_AnnotThresh0.5/checkpoint-191580\n"
     ]
    },
    {
     "name": "stderr",
     "output_type": "stream",
     "text": [
      "Configuration saved in saved_models/XLNetDepr-3_256_8-ALL_NA-PEL-BS1-GWS_PCC_IT192_DH_2LMAEALPHA1_NZ20_PNTh0.05_AnnotThresh0.5/checkpoint-191580/config.json\n"
     ]
    },
    {
     "name": "stderr",
     "output_type": "stream",
     "text": [
      "Model weights saved in saved_models/XLNetDepr-3_256_8-ALL_NA-PEL-BS1-GWS_PCC_IT192_DH_2LMAEALPHA1_NZ20_PNTh0.05_AnnotThresh0.5/checkpoint-191580/pytorch_model.bin\n"
     ]
    },
    {
     "name": "stderr",
     "output_type": "stream",
     "text": [
      "Deleting older checkpoint [saved_models/XLNetDepr-3_256_8-ALL_NA-PEL-BS1-GWS_PCC_IT192_DH_2LMAEALPHA1_NZ20_PNTh0.05_AnnotThresh0.5/checkpoint-159650] due to args.save_total_limit\n"
     ]
    },
    {
     "name": "stderr",
     "output_type": "stream",
     "text": [
      "***** Running Evaluation *****\n"
     ]
    },
    {
     "name": "stderr",
     "output_type": "stream",
     "text": [
      "  Num examples = 1592\n"
     ]
    },
    {
     "name": "stderr",
     "output_type": "stream",
     "text": [
      "  Batch size = 1\n"
     ]
    },
    {
     "name": "stderr",
     "output_type": "stream",
     "text": [
      "Saving model checkpoint to saved_models/XLNetDepr-3_256_8-ALL_NA-PEL-BS1-GWS_PCC_IT192_DH_2LMAEALPHA1_NZ20_PNTh0.05_AnnotThresh0.5/checkpoint-197966\n"
     ]
    },
    {
     "name": "stderr",
     "output_type": "stream",
     "text": [
      "Configuration saved in saved_models/XLNetDepr-3_256_8-ALL_NA-PEL-BS1-GWS_PCC_IT192_DH_2LMAEALPHA1_NZ20_PNTh0.05_AnnotThresh0.5/checkpoint-197966/config.json\n"
     ]
    },
    {
     "name": "stderr",
     "output_type": "stream",
     "text": [
      "Model weights saved in saved_models/XLNetDepr-3_256_8-ALL_NA-PEL-BS1-GWS_PCC_IT192_DH_2LMAEALPHA1_NZ20_PNTh0.05_AnnotThresh0.5/checkpoint-197966/pytorch_model.bin\n"
     ]
    },
    {
     "name": "stderr",
     "output_type": "stream",
     "text": [
      "Deleting older checkpoint [saved_models/XLNetDepr-3_256_8-ALL_NA-PEL-BS1-GWS_PCC_IT192_DH_2LMAEALPHA1_NZ20_PNTh0.05_AnnotThresh0.5/checkpoint-166036] due to args.save_total_limit\n"
     ]
    },
    {
     "name": "stderr",
     "output_type": "stream",
     "text": [
      "***** Running Evaluation *****\n"
     ]
    },
    {
     "name": "stderr",
     "output_type": "stream",
     "text": [
      "  Num examples = 1592\n"
     ]
    },
    {
     "name": "stderr",
     "output_type": "stream",
     "text": [
      "  Batch size = 1\n"
     ]
    },
    {
     "name": "stderr",
     "output_type": "stream",
     "text": [
      "Saving model checkpoint to saved_models/XLNetDepr-3_256_8-ALL_NA-PEL-BS1-GWS_PCC_IT192_DH_2LMAEALPHA1_NZ20_PNTh0.05_AnnotThresh0.5/checkpoint-204352\n"
     ]
    },
    {
     "name": "stderr",
     "output_type": "stream",
     "text": [
      "Configuration saved in saved_models/XLNetDepr-3_256_8-ALL_NA-PEL-BS1-GWS_PCC_IT192_DH_2LMAEALPHA1_NZ20_PNTh0.05_AnnotThresh0.5/checkpoint-204352/config.json\n"
     ]
    },
    {
     "name": "stderr",
     "output_type": "stream",
     "text": [
      "Model weights saved in saved_models/XLNetDepr-3_256_8-ALL_NA-PEL-BS1-GWS_PCC_IT192_DH_2LMAEALPHA1_NZ20_PNTh0.05_AnnotThresh0.5/checkpoint-204352/pytorch_model.bin\n"
     ]
    },
    {
     "name": "stderr",
     "output_type": "stream",
     "text": [
      "Deleting older checkpoint [saved_models/XLNetDepr-3_256_8-ALL_NA-PEL-BS1-GWS_PCC_IT192_DH_2LMAEALPHA1_NZ20_PNTh0.05_AnnotThresh0.5/checkpoint-172422] due to args.save_total_limit\n"
     ]
    },
    {
     "name": "stderr",
     "output_type": "stream",
     "text": [
      "***** Running Evaluation *****\n"
     ]
    },
    {
     "name": "stderr",
     "output_type": "stream",
     "text": [
      "  Num examples = 1592\n"
     ]
    },
    {
     "name": "stderr",
     "output_type": "stream",
     "text": [
      "  Batch size = 1\n"
     ]
    },
    {
     "name": "stderr",
     "output_type": "stream",
     "text": [
      "Saving model checkpoint to saved_models/XLNetDepr-3_256_8-ALL_NA-PEL-BS1-GWS_PCC_IT192_DH_2LMAEALPHA1_NZ20_PNTh0.05_AnnotThresh0.5/checkpoint-210738\n"
     ]
    },
    {
     "name": "stderr",
     "output_type": "stream",
     "text": [
      "Configuration saved in saved_models/XLNetDepr-3_256_8-ALL_NA-PEL-BS1-GWS_PCC_IT192_DH_2LMAEALPHA1_NZ20_PNTh0.05_AnnotThresh0.5/checkpoint-210738/config.json\n"
     ]
    },
    {
     "name": "stderr",
     "output_type": "stream",
     "text": [
      "Model weights saved in saved_models/XLNetDepr-3_256_8-ALL_NA-PEL-BS1-GWS_PCC_IT192_DH_2LMAEALPHA1_NZ20_PNTh0.05_AnnotThresh0.5/checkpoint-210738/pytorch_model.bin\n"
     ]
    },
    {
     "name": "stderr",
     "output_type": "stream",
     "text": [
      "Deleting older checkpoint [saved_models/XLNetDepr-3_256_8-ALL_NA-PEL-BS1-GWS_PCC_IT192_DH_2LMAEALPHA1_NZ20_PNTh0.05_AnnotThresh0.5/checkpoint-185194] due to args.save_total_limit\n"
     ]
    },
    {
     "name": "stderr",
     "output_type": "stream",
     "text": [
      "***** Running Evaluation *****\n"
     ]
    },
    {
     "name": "stderr",
     "output_type": "stream",
     "text": [
      "  Num examples = 1592\n"
     ]
    },
    {
     "name": "stderr",
     "output_type": "stream",
     "text": [
      "  Batch size = 1\n"
     ]
    },
    {
     "name": "stderr",
     "output_type": "stream",
     "text": [
      "Saving model checkpoint to saved_models/XLNetDepr-3_256_8-ALL_NA-PEL-BS1-GWS_PCC_IT192_DH_2LMAEALPHA1_NZ20_PNTh0.05_AnnotThresh0.5/checkpoint-217124\n"
     ]
    },
    {
     "name": "stderr",
     "output_type": "stream",
     "text": [
      "Configuration saved in saved_models/XLNetDepr-3_256_8-ALL_NA-PEL-BS1-GWS_PCC_IT192_DH_2LMAEALPHA1_NZ20_PNTh0.05_AnnotThresh0.5/checkpoint-217124/config.json\n"
     ]
    },
    {
     "name": "stderr",
     "output_type": "stream",
     "text": [
      "Model weights saved in saved_models/XLNetDepr-3_256_8-ALL_NA-PEL-BS1-GWS_PCC_IT192_DH_2LMAEALPHA1_NZ20_PNTh0.05_AnnotThresh0.5/checkpoint-217124/pytorch_model.bin\n"
     ]
    },
    {
     "name": "stderr",
     "output_type": "stream",
     "text": [
      "Deleting older checkpoint [saved_models/XLNetDepr-3_256_8-ALL_NA-PEL-BS1-GWS_PCC_IT192_DH_2LMAEALPHA1_NZ20_PNTh0.05_AnnotThresh0.5/checkpoint-191580] due to args.save_total_limit\n"
     ]
    },
    {
     "name": "stderr",
     "output_type": "stream",
     "text": [
      "***** Running Evaluation *****\n"
     ]
    },
    {
     "name": "stderr",
     "output_type": "stream",
     "text": [
      "  Num examples = 1592\n"
     ]
    },
    {
     "name": "stderr",
     "output_type": "stream",
     "text": [
      "  Batch size = 1\n"
     ]
    },
    {
     "name": "stderr",
     "output_type": "stream",
     "text": [
      "Saving model checkpoint to saved_models/XLNetDepr-3_256_8-ALL_NA-PEL-BS1-GWS_PCC_IT192_DH_2LMAEALPHA1_NZ20_PNTh0.05_AnnotThresh0.5/checkpoint-223510\n"
     ]
    },
    {
     "name": "stderr",
     "output_type": "stream",
     "text": [
      "Configuration saved in saved_models/XLNetDepr-3_256_8-ALL_NA-PEL-BS1-GWS_PCC_IT192_DH_2LMAEALPHA1_NZ20_PNTh0.05_AnnotThresh0.5/checkpoint-223510/config.json\n"
     ]
    },
    {
     "name": "stderr",
     "output_type": "stream",
     "text": [
      "Model weights saved in saved_models/XLNetDepr-3_256_8-ALL_NA-PEL-BS1-GWS_PCC_IT192_DH_2LMAEALPHA1_NZ20_PNTh0.05_AnnotThresh0.5/checkpoint-223510/pytorch_model.bin\n"
     ]
    },
    {
     "name": "stderr",
     "output_type": "stream",
     "text": [
      "Deleting older checkpoint [saved_models/XLNetDepr-3_256_8-ALL_NA-PEL-BS1-GWS_PCC_IT192_DH_2LMAEALPHA1_NZ20_PNTh0.05_AnnotThresh0.5/checkpoint-178808] due to args.save_total_limit\n"
     ]
    },
    {
     "name": "stderr",
     "output_type": "stream",
     "text": [
      "***** Running Evaluation *****\n"
     ]
    },
    {
     "name": "stderr",
     "output_type": "stream",
     "text": [
      "  Num examples = 1592\n"
     ]
    },
    {
     "name": "stderr",
     "output_type": "stream",
     "text": [
      "  Batch size = 1\n"
     ]
    },
    {
     "name": "stderr",
     "output_type": "stream",
     "text": [
      "Saving model checkpoint to saved_models/XLNetDepr-3_256_8-ALL_NA-PEL-BS1-GWS_PCC_IT192_DH_2LMAEALPHA1_NZ20_PNTh0.05_AnnotThresh0.5/checkpoint-229896\n"
     ]
    },
    {
     "name": "stderr",
     "output_type": "stream",
     "text": [
      "Configuration saved in saved_models/XLNetDepr-3_256_8-ALL_NA-PEL-BS1-GWS_PCC_IT192_DH_2LMAEALPHA1_NZ20_PNTh0.05_AnnotThresh0.5/checkpoint-229896/config.json\n"
     ]
    },
    {
     "name": "stderr",
     "output_type": "stream",
     "text": [
      "Model weights saved in saved_models/XLNetDepr-3_256_8-ALL_NA-PEL-BS1-GWS_PCC_IT192_DH_2LMAEALPHA1_NZ20_PNTh0.05_AnnotThresh0.5/checkpoint-229896/pytorch_model.bin\n"
     ]
    },
    {
     "name": "stderr",
     "output_type": "stream",
     "text": [
      "Deleting older checkpoint [saved_models/XLNetDepr-3_256_8-ALL_NA-PEL-BS1-GWS_PCC_IT192_DH_2LMAEALPHA1_NZ20_PNTh0.05_AnnotThresh0.5/checkpoint-197966] due to args.save_total_limit\n"
     ]
    },
    {
     "name": "stderr",
     "output_type": "stream",
     "text": [
      "***** Running Evaluation *****\n"
     ]
    },
    {
     "name": "stderr",
     "output_type": "stream",
     "text": [
      "  Num examples = 1592\n"
     ]
    },
    {
     "name": "stderr",
     "output_type": "stream",
     "text": [
      "  Batch size = 1\n"
     ]
    },
    {
     "name": "stderr",
     "output_type": "stream",
     "text": [
      "Saving model checkpoint to saved_models/XLNetDepr-3_256_8-ALL_NA-PEL-BS1-GWS_PCC_IT192_DH_2LMAEALPHA1_NZ20_PNTh0.05_AnnotThresh0.5/checkpoint-236282\n"
     ]
    },
    {
     "name": "stderr",
     "output_type": "stream",
     "text": [
      "Configuration saved in saved_models/XLNetDepr-3_256_8-ALL_NA-PEL-BS1-GWS_PCC_IT192_DH_2LMAEALPHA1_NZ20_PNTh0.05_AnnotThresh0.5/checkpoint-236282/config.json\n"
     ]
    },
    {
     "name": "stderr",
     "output_type": "stream",
     "text": [
      "Model weights saved in saved_models/XLNetDepr-3_256_8-ALL_NA-PEL-BS1-GWS_PCC_IT192_DH_2LMAEALPHA1_NZ20_PNTh0.05_AnnotThresh0.5/checkpoint-236282/pytorch_model.bin\n"
     ]
    },
    {
     "name": "stderr",
     "output_type": "stream",
     "text": [
      "Deleting older checkpoint [saved_models/XLNetDepr-3_256_8-ALL_NA-PEL-BS1-GWS_PCC_IT192_DH_2LMAEALPHA1_NZ20_PNTh0.05_AnnotThresh0.5/checkpoint-204352] due to args.save_total_limit\n"
     ]
    },
    {
     "name": "stderr",
     "output_type": "stream",
     "text": [
      "***** Running Evaluation *****\n"
     ]
    },
    {
     "name": "stderr",
     "output_type": "stream",
     "text": [
      "  Num examples = 1592\n"
     ]
    },
    {
     "name": "stderr",
     "output_type": "stream",
     "text": [
      "  Batch size = 1\n"
     ]
    },
    {
     "name": "stderr",
     "output_type": "stream",
     "text": [
      "Saving model checkpoint to saved_models/XLNetDepr-3_256_8-ALL_NA-PEL-BS1-GWS_PCC_IT192_DH_2LMAEALPHA1_NZ20_PNTh0.05_AnnotThresh0.5/checkpoint-242668\n"
     ]
    },
    {
     "name": "stderr",
     "output_type": "stream",
     "text": [
      "Configuration saved in saved_models/XLNetDepr-3_256_8-ALL_NA-PEL-BS1-GWS_PCC_IT192_DH_2LMAEALPHA1_NZ20_PNTh0.05_AnnotThresh0.5/checkpoint-242668/config.json\n"
     ]
    },
    {
     "name": "stderr",
     "output_type": "stream",
     "text": [
      "Model weights saved in saved_models/XLNetDepr-3_256_8-ALL_NA-PEL-BS1-GWS_PCC_IT192_DH_2LMAEALPHA1_NZ20_PNTh0.05_AnnotThresh0.5/checkpoint-242668/pytorch_model.bin\n"
     ]
    },
    {
     "name": "stderr",
     "output_type": "stream",
     "text": [
      "Deleting older checkpoint [saved_models/XLNetDepr-3_256_8-ALL_NA-PEL-BS1-GWS_PCC_IT192_DH_2LMAEALPHA1_NZ20_PNTh0.05_AnnotThresh0.5/checkpoint-210738] due to args.save_total_limit\n"
     ]
    },
    {
     "name": "stderr",
     "output_type": "stream",
     "text": [
      "***** Running Evaluation *****\n"
     ]
    },
    {
     "name": "stderr",
     "output_type": "stream",
     "text": [
      "  Num examples = 1592\n"
     ]
    },
    {
     "name": "stderr",
     "output_type": "stream",
     "text": [
      "  Batch size = 1\n"
     ]
    },
    {
     "name": "stderr",
     "output_type": "stream",
     "text": [
      "Saving model checkpoint to saved_models/XLNetDepr-3_256_8-ALL_NA-PEL-BS1-GWS_PCC_IT192_DH_2LMAEALPHA1_NZ20_PNTh0.05_AnnotThresh0.5/checkpoint-249054\n"
     ]
    },
    {
     "name": "stderr",
     "output_type": "stream",
     "text": [
      "Configuration saved in saved_models/XLNetDepr-3_256_8-ALL_NA-PEL-BS1-GWS_PCC_IT192_DH_2LMAEALPHA1_NZ20_PNTh0.05_AnnotThresh0.5/checkpoint-249054/config.json\n"
     ]
    },
    {
     "name": "stderr",
     "output_type": "stream",
     "text": [
      "Model weights saved in saved_models/XLNetDepr-3_256_8-ALL_NA-PEL-BS1-GWS_PCC_IT192_DH_2LMAEALPHA1_NZ20_PNTh0.05_AnnotThresh0.5/checkpoint-249054/pytorch_model.bin\n"
     ]
    },
    {
     "name": "stderr",
     "output_type": "stream",
     "text": [
      "Deleting older checkpoint [saved_models/XLNetDepr-3_256_8-ALL_NA-PEL-BS1-GWS_PCC_IT192_DH_2LMAEALPHA1_NZ20_PNTh0.05_AnnotThresh0.5/checkpoint-217124] due to args.save_total_limit\n"
     ]
    },
    {
     "name": "stderr",
     "output_type": "stream",
     "text": [
      "***** Running Evaluation *****\n"
     ]
    },
    {
     "name": "stderr",
     "output_type": "stream",
     "text": [
      "  Num examples = 1592\n"
     ]
    },
    {
     "name": "stderr",
     "output_type": "stream",
     "text": [
      "  Batch size = 1\n"
     ]
    },
    {
     "name": "stderr",
     "output_type": "stream",
     "text": [
      "Saving model checkpoint to saved_models/XLNetDepr-3_256_8-ALL_NA-PEL-BS1-GWS_PCC_IT192_DH_2LMAEALPHA1_NZ20_PNTh0.05_AnnotThresh0.5/checkpoint-255440\n"
     ]
    },
    {
     "name": "stderr",
     "output_type": "stream",
     "text": [
      "Configuration saved in saved_models/XLNetDepr-3_256_8-ALL_NA-PEL-BS1-GWS_PCC_IT192_DH_2LMAEALPHA1_NZ20_PNTh0.05_AnnotThresh0.5/checkpoint-255440/config.json\n"
     ]
    },
    {
     "name": "stderr",
     "output_type": "stream",
     "text": [
      "Model weights saved in saved_models/XLNetDepr-3_256_8-ALL_NA-PEL-BS1-GWS_PCC_IT192_DH_2LMAEALPHA1_NZ20_PNTh0.05_AnnotThresh0.5/checkpoint-255440/pytorch_model.bin\n"
     ]
    },
    {
     "name": "stderr",
     "output_type": "stream",
     "text": [
      "Deleting older checkpoint [saved_models/XLNetDepr-3_256_8-ALL_NA-PEL-BS1-GWS_PCC_IT192_DH_2LMAEALPHA1_NZ20_PNTh0.05_AnnotThresh0.5/checkpoint-229896] due to args.save_total_limit\n"
     ]
    },
    {
     "name": "stderr",
     "output_type": "stream",
     "text": [
      "***** Running Evaluation *****\n"
     ]
    },
    {
     "name": "stderr",
     "output_type": "stream",
     "text": [
      "  Num examples = 1592\n"
     ]
    },
    {
     "name": "stderr",
     "output_type": "stream",
     "text": [
      "  Batch size = 1\n"
     ]
    },
    {
     "name": "stderr",
     "output_type": "stream",
     "text": [
      "Saving model checkpoint to saved_models/XLNetDepr-3_256_8-ALL_NA-PEL-BS1-GWS_PCC_IT192_DH_2LMAEALPHA1_NZ20_PNTh0.05_AnnotThresh0.5/checkpoint-261826\n"
     ]
    },
    {
     "name": "stderr",
     "output_type": "stream",
     "text": [
      "Configuration saved in saved_models/XLNetDepr-3_256_8-ALL_NA-PEL-BS1-GWS_PCC_IT192_DH_2LMAEALPHA1_NZ20_PNTh0.05_AnnotThresh0.5/checkpoint-261826/config.json\n"
     ]
    },
    {
     "name": "stderr",
     "output_type": "stream",
     "text": [
      "Model weights saved in saved_models/XLNetDepr-3_256_8-ALL_NA-PEL-BS1-GWS_PCC_IT192_DH_2LMAEALPHA1_NZ20_PNTh0.05_AnnotThresh0.5/checkpoint-261826/pytorch_model.bin\n"
     ]
    },
    {
     "name": "stderr",
     "output_type": "stream",
     "text": [
      "Deleting older checkpoint [saved_models/XLNetDepr-3_256_8-ALL_NA-PEL-BS1-GWS_PCC_IT192_DH_2LMAEALPHA1_NZ20_PNTh0.05_AnnotThresh0.5/checkpoint-236282] due to args.save_total_limit\n"
     ]
    },
    {
     "name": "stderr",
     "output_type": "stream",
     "text": [
      "***** Running Evaluation *****\n"
     ]
    },
    {
     "name": "stderr",
     "output_type": "stream",
     "text": [
      "  Num examples = 1592\n"
     ]
    },
    {
     "name": "stderr",
     "output_type": "stream",
     "text": [
      "  Batch size = 1\n"
     ]
    },
    {
     "name": "stderr",
     "output_type": "stream",
     "text": [
      "Saving model checkpoint to saved_models/XLNetDepr-3_256_8-ALL_NA-PEL-BS1-GWS_PCC_IT192_DH_2LMAEALPHA1_NZ20_PNTh0.05_AnnotThresh0.5/checkpoint-268212\n"
     ]
    },
    {
     "name": "stderr",
     "output_type": "stream",
     "text": [
      "Configuration saved in saved_models/XLNetDepr-3_256_8-ALL_NA-PEL-BS1-GWS_PCC_IT192_DH_2LMAEALPHA1_NZ20_PNTh0.05_AnnotThresh0.5/checkpoint-268212/config.json\n"
     ]
    },
    {
     "name": "stderr",
     "output_type": "stream",
     "text": [
      "Model weights saved in saved_models/XLNetDepr-3_256_8-ALL_NA-PEL-BS1-GWS_PCC_IT192_DH_2LMAEALPHA1_NZ20_PNTh0.05_AnnotThresh0.5/checkpoint-268212/pytorch_model.bin\n"
     ]
    },
    {
     "name": "stderr",
     "output_type": "stream",
     "text": [
      "Deleting older checkpoint [saved_models/XLNetDepr-3_256_8-ALL_NA-PEL-BS1-GWS_PCC_IT192_DH_2LMAEALPHA1_NZ20_PNTh0.05_AnnotThresh0.5/checkpoint-242668] due to args.save_total_limit\n"
     ]
    },
    {
     "name": "stderr",
     "output_type": "stream",
     "text": [
      "***** Running Evaluation *****\n"
     ]
    },
    {
     "name": "stderr",
     "output_type": "stream",
     "text": [
      "  Num examples = 1592\n"
     ]
    },
    {
     "name": "stderr",
     "output_type": "stream",
     "text": [
      "  Batch size = 1\n"
     ]
    },
    {
     "name": "stderr",
     "output_type": "stream",
     "text": [
      "Saving model checkpoint to saved_models/XLNetDepr-3_256_8-ALL_NA-PEL-BS1-GWS_PCC_IT192_DH_2LMAEALPHA1_NZ20_PNTh0.05_AnnotThresh0.5/checkpoint-274598\n"
     ]
    },
    {
     "name": "stderr",
     "output_type": "stream",
     "text": [
      "Configuration saved in saved_models/XLNetDepr-3_256_8-ALL_NA-PEL-BS1-GWS_PCC_IT192_DH_2LMAEALPHA1_NZ20_PNTh0.05_AnnotThresh0.5/checkpoint-274598/config.json\n"
     ]
    },
    {
     "name": "stderr",
     "output_type": "stream",
     "text": [
      "Model weights saved in saved_models/XLNetDepr-3_256_8-ALL_NA-PEL-BS1-GWS_PCC_IT192_DH_2LMAEALPHA1_NZ20_PNTh0.05_AnnotThresh0.5/checkpoint-274598/pytorch_model.bin\n"
     ]
    },
    {
     "name": "stderr",
     "output_type": "stream",
     "text": [
      "Deleting older checkpoint [saved_models/XLNetDepr-3_256_8-ALL_NA-PEL-BS1-GWS_PCC_IT192_DH_2LMAEALPHA1_NZ20_PNTh0.05_AnnotThresh0.5/checkpoint-249054] due to args.save_total_limit\n"
     ]
    },
    {
     "name": "stderr",
     "output_type": "stream",
     "text": [
      "***** Running Evaluation *****\n"
     ]
    },
    {
     "name": "stderr",
     "output_type": "stream",
     "text": [
      "  Num examples = 1592\n"
     ]
    },
    {
     "name": "stderr",
     "output_type": "stream",
     "text": [
      "  Batch size = 1\n"
     ]
    },
    {
     "name": "stderr",
     "output_type": "stream",
     "text": [
      "Saving model checkpoint to saved_models/XLNetDepr-3_256_8-ALL_NA-PEL-BS1-GWS_PCC_IT192_DH_2LMAEALPHA1_NZ20_PNTh0.05_AnnotThresh0.5/checkpoint-280984\n"
     ]
    },
    {
     "name": "stderr",
     "output_type": "stream",
     "text": [
      "Configuration saved in saved_models/XLNetDepr-3_256_8-ALL_NA-PEL-BS1-GWS_PCC_IT192_DH_2LMAEALPHA1_NZ20_PNTh0.05_AnnotThresh0.5/checkpoint-280984/config.json\n"
     ]
    },
    {
     "name": "stderr",
     "output_type": "stream",
     "text": [
      "Model weights saved in saved_models/XLNetDepr-3_256_8-ALL_NA-PEL-BS1-GWS_PCC_IT192_DH_2LMAEALPHA1_NZ20_PNTh0.05_AnnotThresh0.5/checkpoint-280984/pytorch_model.bin\n"
     ]
    },
    {
     "name": "stderr",
     "output_type": "stream",
     "text": [
      "Deleting older checkpoint [saved_models/XLNetDepr-3_256_8-ALL_NA-PEL-BS1-GWS_PCC_IT192_DH_2LMAEALPHA1_NZ20_PNTh0.05_AnnotThresh0.5/checkpoint-255440] due to args.save_total_limit\n"
     ]
    },
    {
     "name": "stderr",
     "output_type": "stream",
     "text": [
      "***** Running Evaluation *****\n"
     ]
    },
    {
     "name": "stderr",
     "output_type": "stream",
     "text": [
      "  Num examples = 1592\n"
     ]
    },
    {
     "name": "stderr",
     "output_type": "stream",
     "text": [
      "  Batch size = 1\n"
     ]
    },
    {
     "name": "stderr",
     "output_type": "stream",
     "text": [
      "Saving model checkpoint to saved_models/XLNetDepr-3_256_8-ALL_NA-PEL-BS1-GWS_PCC_IT192_DH_2LMAEALPHA1_NZ20_PNTh0.05_AnnotThresh0.5/checkpoint-287370\n"
     ]
    },
    {
     "name": "stderr",
     "output_type": "stream",
     "text": [
      "Configuration saved in saved_models/XLNetDepr-3_256_8-ALL_NA-PEL-BS1-GWS_PCC_IT192_DH_2LMAEALPHA1_NZ20_PNTh0.05_AnnotThresh0.5/checkpoint-287370/config.json\n"
     ]
    },
    {
     "name": "stderr",
     "output_type": "stream",
     "text": [
      "Model weights saved in saved_models/XLNetDepr-3_256_8-ALL_NA-PEL-BS1-GWS_PCC_IT192_DH_2LMAEALPHA1_NZ20_PNTh0.05_AnnotThresh0.5/checkpoint-287370/pytorch_model.bin\n"
     ]
    },
    {
     "name": "stderr",
     "output_type": "stream",
     "text": [
      "Deleting older checkpoint [saved_models/XLNetDepr-3_256_8-ALL_NA-PEL-BS1-GWS_PCC_IT192_DH_2LMAEALPHA1_NZ20_PNTh0.05_AnnotThresh0.5/checkpoint-261826] due to args.save_total_limit\n"
     ]
    },
    {
     "name": "stderr",
     "output_type": "stream",
     "text": [
      "***** Running Evaluation *****\n"
     ]
    },
    {
     "name": "stderr",
     "output_type": "stream",
     "text": [
      "  Num examples = 1592\n"
     ]
    },
    {
     "name": "stderr",
     "output_type": "stream",
     "text": [
      "  Batch size = 1\n"
     ]
    },
    {
     "name": "stderr",
     "output_type": "stream",
     "text": [
      "Saving model checkpoint to saved_models/XLNetDepr-3_256_8-ALL_NA-PEL-BS1-GWS_PCC_IT192_DH_2LMAEALPHA1_NZ20_PNTh0.05_AnnotThresh0.5/checkpoint-293756\n"
     ]
    },
    {
     "name": "stderr",
     "output_type": "stream",
     "text": [
      "Configuration saved in saved_models/XLNetDepr-3_256_8-ALL_NA-PEL-BS1-GWS_PCC_IT192_DH_2LMAEALPHA1_NZ20_PNTh0.05_AnnotThresh0.5/checkpoint-293756/config.json\n"
     ]
    },
    {
     "name": "stderr",
     "output_type": "stream",
     "text": [
      "Model weights saved in saved_models/XLNetDepr-3_256_8-ALL_NA-PEL-BS1-GWS_PCC_IT192_DH_2LMAEALPHA1_NZ20_PNTh0.05_AnnotThresh0.5/checkpoint-293756/pytorch_model.bin\n"
     ]
    },
    {
     "name": "stderr",
     "output_type": "stream",
     "text": [
      "Deleting older checkpoint [saved_models/XLNetDepr-3_256_8-ALL_NA-PEL-BS1-GWS_PCC_IT192_DH_2LMAEALPHA1_NZ20_PNTh0.05_AnnotThresh0.5/checkpoint-268212] due to args.save_total_limit\n"
     ]
    },
    {
     "name": "stderr",
     "output_type": "stream",
     "text": [
      "***** Running Evaluation *****\n"
     ]
    },
    {
     "name": "stderr",
     "output_type": "stream",
     "text": [
      "  Num examples = 1592\n"
     ]
    },
    {
     "name": "stderr",
     "output_type": "stream",
     "text": [
      "  Batch size = 1\n"
     ]
    },
    {
     "name": "stderr",
     "output_type": "stream",
     "text": [
      "Saving model checkpoint to saved_models/XLNetDepr-3_256_8-ALL_NA-PEL-BS1-GWS_PCC_IT192_DH_2LMAEALPHA1_NZ20_PNTh0.05_AnnotThresh0.5/checkpoint-300142\n"
     ]
    },
    {
     "name": "stderr",
     "output_type": "stream",
     "text": [
      "Configuration saved in saved_models/XLNetDepr-3_256_8-ALL_NA-PEL-BS1-GWS_PCC_IT192_DH_2LMAEALPHA1_NZ20_PNTh0.05_AnnotThresh0.5/checkpoint-300142/config.json\n"
     ]
    },
    {
     "name": "stderr",
     "output_type": "stream",
     "text": [
      "Model weights saved in saved_models/XLNetDepr-3_256_8-ALL_NA-PEL-BS1-GWS_PCC_IT192_DH_2LMAEALPHA1_NZ20_PNTh0.05_AnnotThresh0.5/checkpoint-300142/pytorch_model.bin\n"
     ]
    },
    {
     "name": "stderr",
     "output_type": "stream",
     "text": [
      "Deleting older checkpoint [saved_models/XLNetDepr-3_256_8-ALL_NA-PEL-BS1-GWS_PCC_IT192_DH_2LMAEALPHA1_NZ20_PNTh0.05_AnnotThresh0.5/checkpoint-274598] due to args.save_total_limit\n"
     ]
    },
    {
     "name": "stderr",
     "output_type": "stream",
     "text": [
      "***** Running Evaluation *****\n"
     ]
    },
    {
     "name": "stderr",
     "output_type": "stream",
     "text": [
      "  Num examples = 1592\n"
     ]
    },
    {
     "name": "stderr",
     "output_type": "stream",
     "text": [
      "  Batch size = 1\n"
     ]
    },
    {
     "name": "stderr",
     "output_type": "stream",
     "text": [
      "Saving model checkpoint to saved_models/XLNetDepr-3_256_8-ALL_NA-PEL-BS1-GWS_PCC_IT192_DH_2LMAEALPHA1_NZ20_PNTh0.05_AnnotThresh0.5/checkpoint-306528\n"
     ]
    },
    {
     "name": "stderr",
     "output_type": "stream",
     "text": [
      "Configuration saved in saved_models/XLNetDepr-3_256_8-ALL_NA-PEL-BS1-GWS_PCC_IT192_DH_2LMAEALPHA1_NZ20_PNTh0.05_AnnotThresh0.5/checkpoint-306528/config.json\n"
     ]
    },
    {
     "name": "stderr",
     "output_type": "stream",
     "text": [
      "Model weights saved in saved_models/XLNetDepr-3_256_8-ALL_NA-PEL-BS1-GWS_PCC_IT192_DH_2LMAEALPHA1_NZ20_PNTh0.05_AnnotThresh0.5/checkpoint-306528/pytorch_model.bin\n"
     ]
    },
    {
     "name": "stderr",
     "output_type": "stream",
     "text": [
      "Deleting older checkpoint [saved_models/XLNetDepr-3_256_8-ALL_NA-PEL-BS1-GWS_PCC_IT192_DH_2LMAEALPHA1_NZ20_PNTh0.05_AnnotThresh0.5/checkpoint-280984] due to args.save_total_limit\n"
     ]
    },
    {
     "name": "stderr",
     "output_type": "stream",
     "text": [
      "***** Running Evaluation *****\n"
     ]
    },
    {
     "name": "stderr",
     "output_type": "stream",
     "text": [
      "  Num examples = 1592\n"
     ]
    },
    {
     "name": "stderr",
     "output_type": "stream",
     "text": [
      "  Batch size = 1\n"
     ]
    },
    {
     "name": "stderr",
     "output_type": "stream",
     "text": [
      "Saving model checkpoint to saved_models/XLNetDepr-3_256_8-ALL_NA-PEL-BS1-GWS_PCC_IT192_DH_2LMAEALPHA1_NZ20_PNTh0.05_AnnotThresh0.5/checkpoint-312914\n"
     ]
    },
    {
     "name": "stderr",
     "output_type": "stream",
     "text": [
      "Configuration saved in saved_models/XLNetDepr-3_256_8-ALL_NA-PEL-BS1-GWS_PCC_IT192_DH_2LMAEALPHA1_NZ20_PNTh0.05_AnnotThresh0.5/checkpoint-312914/config.json\n"
     ]
    },
    {
     "name": "stderr",
     "output_type": "stream",
     "text": [
      "Model weights saved in saved_models/XLNetDepr-3_256_8-ALL_NA-PEL-BS1-GWS_PCC_IT192_DH_2LMAEALPHA1_NZ20_PNTh0.05_AnnotThresh0.5/checkpoint-312914/pytorch_model.bin\n"
     ]
    },
    {
     "name": "stderr",
     "output_type": "stream",
     "text": [
      "Deleting older checkpoint [saved_models/XLNetDepr-3_256_8-ALL_NA-PEL-BS1-GWS_PCC_IT192_DH_2LMAEALPHA1_NZ20_PNTh0.05_AnnotThresh0.5/checkpoint-287370] due to args.save_total_limit\n"
     ]
    },
    {
     "name": "stderr",
     "output_type": "stream",
     "text": [
      "***** Running Evaluation *****\n"
     ]
    },
    {
     "name": "stderr",
     "output_type": "stream",
     "text": [
      "  Num examples = 1592\n"
     ]
    },
    {
     "name": "stderr",
     "output_type": "stream",
     "text": [
      "  Batch size = 1\n"
     ]
    },
    {
     "name": "stderr",
     "output_type": "stream",
     "text": [
      "Saving model checkpoint to saved_models/XLNetDepr-3_256_8-ALL_NA-PEL-BS1-GWS_PCC_IT192_DH_2LMAEALPHA1_NZ20_PNTh0.05_AnnotThresh0.5/checkpoint-319300\n"
     ]
    },
    {
     "name": "stderr",
     "output_type": "stream",
     "text": [
      "Configuration saved in saved_models/XLNetDepr-3_256_8-ALL_NA-PEL-BS1-GWS_PCC_IT192_DH_2LMAEALPHA1_NZ20_PNTh0.05_AnnotThresh0.5/checkpoint-319300/config.json\n"
     ]
    },
    {
     "name": "stderr",
     "output_type": "stream",
     "text": [
      "Model weights saved in saved_models/XLNetDepr-3_256_8-ALL_NA-PEL-BS1-GWS_PCC_IT192_DH_2LMAEALPHA1_NZ20_PNTh0.05_AnnotThresh0.5/checkpoint-319300/pytorch_model.bin\n"
     ]
    },
    {
     "name": "stderr",
     "output_type": "stream",
     "text": [
      "Deleting older checkpoint [saved_models/XLNetDepr-3_256_8-ALL_NA-PEL-BS1-GWS_PCC_IT192_DH_2LMAEALPHA1_NZ20_PNTh0.05_AnnotThresh0.5/checkpoint-293756] due to args.save_total_limit\n"
     ]
    },
    {
     "name": "stderr",
     "output_type": "stream",
     "text": [
      "***** Running Evaluation *****\n"
     ]
    },
    {
     "name": "stderr",
     "output_type": "stream",
     "text": [
      "  Num examples = 1592\n"
     ]
    },
    {
     "name": "stderr",
     "output_type": "stream",
     "text": [
      "  Batch size = 1\n"
     ]
    },
    {
     "name": "stderr",
     "output_type": "stream",
     "text": [
      "Saving model checkpoint to saved_models/XLNetDepr-3_256_8-ALL_NA-PEL-BS1-GWS_PCC_IT192_DH_2LMAEALPHA1_NZ20_PNTh0.05_AnnotThresh0.5/checkpoint-325686\n"
     ]
    },
    {
     "name": "stderr",
     "output_type": "stream",
     "text": [
      "Configuration saved in saved_models/XLNetDepr-3_256_8-ALL_NA-PEL-BS1-GWS_PCC_IT192_DH_2LMAEALPHA1_NZ20_PNTh0.05_AnnotThresh0.5/checkpoint-325686/config.json\n"
     ]
    },
    {
     "name": "stderr",
     "output_type": "stream",
     "text": [
      "Model weights saved in saved_models/XLNetDepr-3_256_8-ALL_NA-PEL-BS1-GWS_PCC_IT192_DH_2LMAEALPHA1_NZ20_PNTh0.05_AnnotThresh0.5/checkpoint-325686/pytorch_model.bin\n"
     ]
    },
    {
     "name": "stderr",
     "output_type": "stream",
     "text": [
      "Deleting older checkpoint [saved_models/XLNetDepr-3_256_8-ALL_NA-PEL-BS1-GWS_PCC_IT192_DH_2LMAEALPHA1_NZ20_PNTh0.05_AnnotThresh0.5/checkpoint-300142] due to args.save_total_limit\n"
     ]
    },
    {
     "name": "stderr",
     "output_type": "stream",
     "text": [
      "***** Running Evaluation *****\n"
     ]
    },
    {
     "name": "stderr",
     "output_type": "stream",
     "text": [
      "  Num examples = 1592\n"
     ]
    },
    {
     "name": "stderr",
     "output_type": "stream",
     "text": [
      "  Batch size = 1\n"
     ]
    },
    {
     "name": "stderr",
     "output_type": "stream",
     "text": [
      "Saving model checkpoint to saved_models/XLNetDepr-3_256_8-ALL_NA-PEL-BS1-GWS_PCC_IT192_DH_2LMAEALPHA1_NZ20_PNTh0.05_AnnotThresh0.5/checkpoint-332072\n"
     ]
    },
    {
     "name": "stderr",
     "output_type": "stream",
     "text": [
      "Configuration saved in saved_models/XLNetDepr-3_256_8-ALL_NA-PEL-BS1-GWS_PCC_IT192_DH_2LMAEALPHA1_NZ20_PNTh0.05_AnnotThresh0.5/checkpoint-332072/config.json\n"
     ]
    },
    {
     "name": "stderr",
     "output_type": "stream",
     "text": [
      "Model weights saved in saved_models/XLNetDepr-3_256_8-ALL_NA-PEL-BS1-GWS_PCC_IT192_DH_2LMAEALPHA1_NZ20_PNTh0.05_AnnotThresh0.5/checkpoint-332072/pytorch_model.bin\n"
     ]
    },
    {
     "name": "stderr",
     "output_type": "stream",
     "text": [
      "Deleting older checkpoint [saved_models/XLNetDepr-3_256_8-ALL_NA-PEL-BS1-GWS_PCC_IT192_DH_2LMAEALPHA1_NZ20_PNTh0.05_AnnotThresh0.5/checkpoint-306528] due to args.save_total_limit\n"
     ]
    },
    {
     "name": "stderr",
     "output_type": "stream",
     "text": [
      "***** Running Evaluation *****\n"
     ]
    },
    {
     "name": "stderr",
     "output_type": "stream",
     "text": [
      "  Num examples = 1592\n"
     ]
    },
    {
     "name": "stderr",
     "output_type": "stream",
     "text": [
      "  Batch size = 1\n"
     ]
    },
    {
     "name": "stderr",
     "output_type": "stream",
     "text": [
      "Saving model checkpoint to saved_models/XLNetDepr-3_256_8-ALL_NA-PEL-BS1-GWS_PCC_IT192_DH_2LMAEALPHA1_NZ20_PNTh0.05_AnnotThresh0.5/checkpoint-338458\n"
     ]
    },
    {
     "name": "stderr",
     "output_type": "stream",
     "text": [
      "Configuration saved in saved_models/XLNetDepr-3_256_8-ALL_NA-PEL-BS1-GWS_PCC_IT192_DH_2LMAEALPHA1_NZ20_PNTh0.05_AnnotThresh0.5/checkpoint-338458/config.json\n"
     ]
    },
    {
     "name": "stderr",
     "output_type": "stream",
     "text": [
      "Model weights saved in saved_models/XLNetDepr-3_256_8-ALL_NA-PEL-BS1-GWS_PCC_IT192_DH_2LMAEALPHA1_NZ20_PNTh0.05_AnnotThresh0.5/checkpoint-338458/pytorch_model.bin\n"
     ]
    },
    {
     "name": "stderr",
     "output_type": "stream",
     "text": [
      "Deleting older checkpoint [saved_models/XLNetDepr-3_256_8-ALL_NA-PEL-BS1-GWS_PCC_IT192_DH_2LMAEALPHA1_NZ20_PNTh0.05_AnnotThresh0.5/checkpoint-312914] due to args.save_total_limit\n"
     ]
    },
    {
     "name": "stderr",
     "output_type": "stream",
     "text": [
      "***** Running Evaluation *****\n"
     ]
    },
    {
     "name": "stderr",
     "output_type": "stream",
     "text": [
      "  Num examples = 1592\n"
     ]
    },
    {
     "name": "stderr",
     "output_type": "stream",
     "text": [
      "  Batch size = 1\n"
     ]
    },
    {
     "name": "stderr",
     "output_type": "stream",
     "text": [
      "Saving model checkpoint to saved_models/XLNetDepr-3_256_8-ALL_NA-PEL-BS1-GWS_PCC_IT192_DH_2LMAEALPHA1_NZ20_PNTh0.05_AnnotThresh0.5/checkpoint-344844\n"
     ]
    },
    {
     "name": "stderr",
     "output_type": "stream",
     "text": [
      "Configuration saved in saved_models/XLNetDepr-3_256_8-ALL_NA-PEL-BS1-GWS_PCC_IT192_DH_2LMAEALPHA1_NZ20_PNTh0.05_AnnotThresh0.5/checkpoint-344844/config.json\n"
     ]
    },
    {
     "name": "stderr",
     "output_type": "stream",
     "text": [
      "Model weights saved in saved_models/XLNetDepr-3_256_8-ALL_NA-PEL-BS1-GWS_PCC_IT192_DH_2LMAEALPHA1_NZ20_PNTh0.05_AnnotThresh0.5/checkpoint-344844/pytorch_model.bin\n"
     ]
    },
    {
     "name": "stderr",
     "output_type": "stream",
     "text": [
      "Deleting older checkpoint [saved_models/XLNetDepr-3_256_8-ALL_NA-PEL-BS1-GWS_PCC_IT192_DH_2LMAEALPHA1_NZ20_PNTh0.05_AnnotThresh0.5/checkpoint-319300] due to args.save_total_limit\n"
     ]
    },
    {
     "name": "stderr",
     "output_type": "stream",
     "text": [
      "***** Running Evaluation *****\n"
     ]
    },
    {
     "name": "stderr",
     "output_type": "stream",
     "text": [
      "  Num examples = 1592\n"
     ]
    },
    {
     "name": "stderr",
     "output_type": "stream",
     "text": [
      "  Batch size = 1\n"
     ]
    },
    {
     "name": "stderr",
     "output_type": "stream",
     "text": [
      "Saving model checkpoint to saved_models/XLNetDepr-3_256_8-ALL_NA-PEL-BS1-GWS_PCC_IT192_DH_2LMAEALPHA1_NZ20_PNTh0.05_AnnotThresh0.5/checkpoint-351230\n"
     ]
    },
    {
     "name": "stderr",
     "output_type": "stream",
     "text": [
      "Configuration saved in saved_models/XLNetDepr-3_256_8-ALL_NA-PEL-BS1-GWS_PCC_IT192_DH_2LMAEALPHA1_NZ20_PNTh0.05_AnnotThresh0.5/checkpoint-351230/config.json\n"
     ]
    },
    {
     "name": "stderr",
     "output_type": "stream",
     "text": [
      "Model weights saved in saved_models/XLNetDepr-3_256_8-ALL_NA-PEL-BS1-GWS_PCC_IT192_DH_2LMAEALPHA1_NZ20_PNTh0.05_AnnotThresh0.5/checkpoint-351230/pytorch_model.bin\n"
     ]
    },
    {
     "name": "stderr",
     "output_type": "stream",
     "text": [
      "Deleting older checkpoint [saved_models/XLNetDepr-3_256_8-ALL_NA-PEL-BS1-GWS_PCC_IT192_DH_2LMAEALPHA1_NZ20_PNTh0.05_AnnotThresh0.5/checkpoint-325686] due to args.save_total_limit\n"
     ]
    },
    {
     "name": "stderr",
     "output_type": "stream",
     "text": [
      "***** Running Evaluation *****\n"
     ]
    },
    {
     "name": "stderr",
     "output_type": "stream",
     "text": [
      "  Num examples = 1592\n"
     ]
    },
    {
     "name": "stderr",
     "output_type": "stream",
     "text": [
      "  Batch size = 1\n"
     ]
    },
    {
     "name": "stderr",
     "output_type": "stream",
     "text": [
      "Saving model checkpoint to saved_models/XLNetDepr-3_256_8-ALL_NA-PEL-BS1-GWS_PCC_IT192_DH_2LMAEALPHA1_NZ20_PNTh0.05_AnnotThresh0.5/checkpoint-357616\n"
     ]
    },
    {
     "name": "stderr",
     "output_type": "stream",
     "text": [
      "Configuration saved in saved_models/XLNetDepr-3_256_8-ALL_NA-PEL-BS1-GWS_PCC_IT192_DH_2LMAEALPHA1_NZ20_PNTh0.05_AnnotThresh0.5/checkpoint-357616/config.json\n"
     ]
    },
    {
     "name": "stderr",
     "output_type": "stream",
     "text": [
      "Model weights saved in saved_models/XLNetDepr-3_256_8-ALL_NA-PEL-BS1-GWS_PCC_IT192_DH_2LMAEALPHA1_NZ20_PNTh0.05_AnnotThresh0.5/checkpoint-357616/pytorch_model.bin\n"
     ]
    },
    {
     "name": "stderr",
     "output_type": "stream",
     "text": [
      "Deleting older checkpoint [saved_models/XLNetDepr-3_256_8-ALL_NA-PEL-BS1-GWS_PCC_IT192_DH_2LMAEALPHA1_NZ20_PNTh0.05_AnnotThresh0.5/checkpoint-332072] due to args.save_total_limit\n"
     ]
    },
    {
     "name": "stderr",
     "output_type": "stream",
     "text": [
      "***** Running Evaluation *****\n"
     ]
    },
    {
     "name": "stderr",
     "output_type": "stream",
     "text": [
      "  Num examples = 1592\n"
     ]
    },
    {
     "name": "stderr",
     "output_type": "stream",
     "text": [
      "  Batch size = 1\n"
     ]
    },
    {
     "name": "stderr",
     "output_type": "stream",
     "text": [
      "Saving model checkpoint to saved_models/XLNetDepr-3_256_8-ALL_NA-PEL-BS1-GWS_PCC_IT192_DH_2LMAEALPHA1_NZ20_PNTh0.05_AnnotThresh0.5/checkpoint-364002\n"
     ]
    },
    {
     "name": "stderr",
     "output_type": "stream",
     "text": [
      "Configuration saved in saved_models/XLNetDepr-3_256_8-ALL_NA-PEL-BS1-GWS_PCC_IT192_DH_2LMAEALPHA1_NZ20_PNTh0.05_AnnotThresh0.5/checkpoint-364002/config.json\n"
     ]
    },
    {
     "name": "stderr",
     "output_type": "stream",
     "text": [
      "Model weights saved in saved_models/XLNetDepr-3_256_8-ALL_NA-PEL-BS1-GWS_PCC_IT192_DH_2LMAEALPHA1_NZ20_PNTh0.05_AnnotThresh0.5/checkpoint-364002/pytorch_model.bin\n"
     ]
    },
    {
     "name": "stderr",
     "output_type": "stream",
     "text": [
      "Deleting older checkpoint [saved_models/XLNetDepr-3_256_8-ALL_NA-PEL-BS1-GWS_PCC_IT192_DH_2LMAEALPHA1_NZ20_PNTh0.05_AnnotThresh0.5/checkpoint-338458] due to args.save_total_limit\n"
     ]
    },
    {
     "name": "stderr",
     "output_type": "stream",
     "text": [
      "***** Running Evaluation *****\n"
     ]
    },
    {
     "name": "stderr",
     "output_type": "stream",
     "text": [
      "  Num examples = 1592\n"
     ]
    },
    {
     "name": "stderr",
     "output_type": "stream",
     "text": [
      "  Batch size = 1\n"
     ]
    },
    {
     "name": "stderr",
     "output_type": "stream",
     "text": [
      "Saving model checkpoint to saved_models/XLNetDepr-3_256_8-ALL_NA-PEL-BS1-GWS_PCC_IT192_DH_2LMAEALPHA1_NZ20_PNTh0.05_AnnotThresh0.5/checkpoint-370388\n"
     ]
    },
    {
     "name": "stderr",
     "output_type": "stream",
     "text": [
      "Configuration saved in saved_models/XLNetDepr-3_256_8-ALL_NA-PEL-BS1-GWS_PCC_IT192_DH_2LMAEALPHA1_NZ20_PNTh0.05_AnnotThresh0.5/checkpoint-370388/config.json\n"
     ]
    },
    {
     "name": "stderr",
     "output_type": "stream",
     "text": [
      "Model weights saved in saved_models/XLNetDepr-3_256_8-ALL_NA-PEL-BS1-GWS_PCC_IT192_DH_2LMAEALPHA1_NZ20_PNTh0.05_AnnotThresh0.5/checkpoint-370388/pytorch_model.bin\n"
     ]
    },
    {
     "name": "stderr",
     "output_type": "stream",
     "text": [
      "Deleting older checkpoint [saved_models/XLNetDepr-3_256_8-ALL_NA-PEL-BS1-GWS_PCC_IT192_DH_2LMAEALPHA1_NZ20_PNTh0.05_AnnotThresh0.5/checkpoint-344844] due to args.save_total_limit\n"
     ]
    },
    {
     "name": "stderr",
     "output_type": "stream",
     "text": [
      "***** Running Evaluation *****\n"
     ]
    },
    {
     "name": "stderr",
     "output_type": "stream",
     "text": [
      "  Num examples = 1592\n"
     ]
    },
    {
     "name": "stderr",
     "output_type": "stream",
     "text": [
      "  Batch size = 1\n"
     ]
    },
    {
     "name": "stderr",
     "output_type": "stream",
     "text": [
      "Saving model checkpoint to saved_models/XLNetDepr-3_256_8-ALL_NA-PEL-BS1-GWS_PCC_IT192_DH_2LMAEALPHA1_NZ20_PNTh0.05_AnnotThresh0.5/checkpoint-376774\n"
     ]
    },
    {
     "name": "stderr",
     "output_type": "stream",
     "text": [
      "Configuration saved in saved_models/XLNetDepr-3_256_8-ALL_NA-PEL-BS1-GWS_PCC_IT192_DH_2LMAEALPHA1_NZ20_PNTh0.05_AnnotThresh0.5/checkpoint-376774/config.json\n"
     ]
    },
    {
     "name": "stderr",
     "output_type": "stream",
     "text": [
      "Model weights saved in saved_models/XLNetDepr-3_256_8-ALL_NA-PEL-BS1-GWS_PCC_IT192_DH_2LMAEALPHA1_NZ20_PNTh0.05_AnnotThresh0.5/checkpoint-376774/pytorch_model.bin\n"
     ]
    },
    {
     "name": "stderr",
     "output_type": "stream",
     "text": [
      "Deleting older checkpoint [saved_models/XLNetDepr-3_256_8-ALL_NA-PEL-BS1-GWS_PCC_IT192_DH_2LMAEALPHA1_NZ20_PNTh0.05_AnnotThresh0.5/checkpoint-351230] due to args.save_total_limit\n"
     ]
    },
    {
     "name": "stderr",
     "output_type": "stream",
     "text": [
      "***** Running Evaluation *****\n"
     ]
    },
    {
     "name": "stderr",
     "output_type": "stream",
     "text": [
      "  Num examples = 1592\n"
     ]
    },
    {
     "name": "stderr",
     "output_type": "stream",
     "text": [
      "  Batch size = 1\n"
     ]
    },
    {
     "name": "stderr",
     "output_type": "stream",
     "text": [
      "Saving model checkpoint to saved_models/XLNetDepr-3_256_8-ALL_NA-PEL-BS1-GWS_PCC_IT192_DH_2LMAEALPHA1_NZ20_PNTh0.05_AnnotThresh0.5/checkpoint-383160\n"
     ]
    },
    {
     "name": "stderr",
     "output_type": "stream",
     "text": [
      "Configuration saved in saved_models/XLNetDepr-3_256_8-ALL_NA-PEL-BS1-GWS_PCC_IT192_DH_2LMAEALPHA1_NZ20_PNTh0.05_AnnotThresh0.5/checkpoint-383160/config.json\n"
     ]
    },
    {
     "name": "stderr",
     "output_type": "stream",
     "text": [
      "Model weights saved in saved_models/XLNetDepr-3_256_8-ALL_NA-PEL-BS1-GWS_PCC_IT192_DH_2LMAEALPHA1_NZ20_PNTh0.05_AnnotThresh0.5/checkpoint-383160/pytorch_model.bin\n"
     ]
    },
    {
     "name": "stderr",
     "output_type": "stream",
     "text": [
      "Deleting older checkpoint [saved_models/XLNetDepr-3_256_8-ALL_NA-PEL-BS1-GWS_PCC_IT192_DH_2LMAEALPHA1_NZ20_PNTh0.05_AnnotThresh0.5/checkpoint-357616] due to args.save_total_limit\n"
     ]
    },
    {
     "name": "stderr",
     "output_type": "stream",
     "text": [
      "***** Running Evaluation *****\n"
     ]
    },
    {
     "name": "stderr",
     "output_type": "stream",
     "text": [
      "  Num examples = 1592\n"
     ]
    },
    {
     "name": "stderr",
     "output_type": "stream",
     "text": [
      "  Batch size = 1\n"
     ]
    },
    {
     "name": "stderr",
     "output_type": "stream",
     "text": [
      "Saving model checkpoint to saved_models/XLNetDepr-3_256_8-ALL_NA-PEL-BS1-GWS_PCC_IT192_DH_2LMAEALPHA1_NZ20_PNTh0.05_AnnotThresh0.5/checkpoint-389546\n"
     ]
    },
    {
     "name": "stderr",
     "output_type": "stream",
     "text": [
      "Configuration saved in saved_models/XLNetDepr-3_256_8-ALL_NA-PEL-BS1-GWS_PCC_IT192_DH_2LMAEALPHA1_NZ20_PNTh0.05_AnnotThresh0.5/checkpoint-389546/config.json\n"
     ]
    },
    {
     "name": "stderr",
     "output_type": "stream",
     "text": [
      "Model weights saved in saved_models/XLNetDepr-3_256_8-ALL_NA-PEL-BS1-GWS_PCC_IT192_DH_2LMAEALPHA1_NZ20_PNTh0.05_AnnotThresh0.5/checkpoint-389546/pytorch_model.bin\n"
     ]
    },
    {
     "name": "stderr",
     "output_type": "stream",
     "text": [
      "Deleting older checkpoint [saved_models/XLNetDepr-3_256_8-ALL_NA-PEL-BS1-GWS_PCC_IT192_DH_2LMAEALPHA1_NZ20_PNTh0.05_AnnotThresh0.5/checkpoint-364002] due to args.save_total_limit\n"
     ]
    },
    {
     "name": "stderr",
     "output_type": "stream",
     "text": [
      "***** Running Evaluation *****\n"
     ]
    },
    {
     "name": "stderr",
     "output_type": "stream",
     "text": [
      "  Num examples = 1592\n"
     ]
    },
    {
     "name": "stderr",
     "output_type": "stream",
     "text": [
      "  Batch size = 1\n"
     ]
    },
    {
     "name": "stderr",
     "output_type": "stream",
     "text": [
      "Saving model checkpoint to saved_models/XLNetDepr-3_256_8-ALL_NA-PEL-BS1-GWS_PCC_IT192_DH_2LMAEALPHA1_NZ20_PNTh0.05_AnnotThresh0.5/checkpoint-395932\n"
     ]
    },
    {
     "name": "stderr",
     "output_type": "stream",
     "text": [
      "Configuration saved in saved_models/XLNetDepr-3_256_8-ALL_NA-PEL-BS1-GWS_PCC_IT192_DH_2LMAEALPHA1_NZ20_PNTh0.05_AnnotThresh0.5/checkpoint-395932/config.json\n"
     ]
    },
    {
     "name": "stderr",
     "output_type": "stream",
     "text": [
      "Model weights saved in saved_models/XLNetDepr-3_256_8-ALL_NA-PEL-BS1-GWS_PCC_IT192_DH_2LMAEALPHA1_NZ20_PNTh0.05_AnnotThresh0.5/checkpoint-395932/pytorch_model.bin\n"
     ]
    },
    {
     "name": "stderr",
     "output_type": "stream",
     "text": [
      "Deleting older checkpoint [saved_models/XLNetDepr-3_256_8-ALL_NA-PEL-BS1-GWS_PCC_IT192_DH_2LMAEALPHA1_NZ20_PNTh0.05_AnnotThresh0.5/checkpoint-370388] due to args.save_total_limit\n"
     ]
    },
    {
     "name": "stderr",
     "output_type": "stream",
     "text": [
      "***** Running Evaluation *****\n"
     ]
    },
    {
     "name": "stderr",
     "output_type": "stream",
     "text": [
      "  Num examples = 1592\n"
     ]
    },
    {
     "name": "stderr",
     "output_type": "stream",
     "text": [
      "  Batch size = 1\n"
     ]
    },
    {
     "name": "stderr",
     "output_type": "stream",
     "text": [
      "Saving model checkpoint to saved_models/XLNetDepr-3_256_8-ALL_NA-PEL-BS1-GWS_PCC_IT192_DH_2LMAEALPHA1_NZ20_PNTh0.05_AnnotThresh0.5/checkpoint-402318\n"
     ]
    },
    {
     "name": "stderr",
     "output_type": "stream",
     "text": [
      "Configuration saved in saved_models/XLNetDepr-3_256_8-ALL_NA-PEL-BS1-GWS_PCC_IT192_DH_2LMAEALPHA1_NZ20_PNTh0.05_AnnotThresh0.5/checkpoint-402318/config.json\n"
     ]
    },
    {
     "name": "stderr",
     "output_type": "stream",
     "text": [
      "Model weights saved in saved_models/XLNetDepr-3_256_8-ALL_NA-PEL-BS1-GWS_PCC_IT192_DH_2LMAEALPHA1_NZ20_PNTh0.05_AnnotThresh0.5/checkpoint-402318/pytorch_model.bin\n"
     ]
    },
    {
     "name": "stderr",
     "output_type": "stream",
     "text": [
      "Deleting older checkpoint [saved_models/XLNetDepr-3_256_8-ALL_NA-PEL-BS1-GWS_PCC_IT192_DH_2LMAEALPHA1_NZ20_PNTh0.05_AnnotThresh0.5/checkpoint-376774] due to args.save_total_limit\n"
     ]
    },
    {
     "name": "stderr",
     "output_type": "stream",
     "text": [
      "***** Running Evaluation *****\n"
     ]
    },
    {
     "name": "stderr",
     "output_type": "stream",
     "text": [
      "  Num examples = 1592\n"
     ]
    },
    {
     "name": "stderr",
     "output_type": "stream",
     "text": [
      "  Batch size = 1\n"
     ]
    },
    {
     "name": "stderr",
     "output_type": "stream",
     "text": [
      "Saving model checkpoint to saved_models/XLNetDepr-3_256_8-ALL_NA-PEL-BS1-GWS_PCC_IT192_DH_2LMAEALPHA1_NZ20_PNTh0.05_AnnotThresh0.5/checkpoint-408704\n"
     ]
    },
    {
     "name": "stderr",
     "output_type": "stream",
     "text": [
      "Configuration saved in saved_models/XLNetDepr-3_256_8-ALL_NA-PEL-BS1-GWS_PCC_IT192_DH_2LMAEALPHA1_NZ20_PNTh0.05_AnnotThresh0.5/checkpoint-408704/config.json\n"
     ]
    },
    {
     "name": "stderr",
     "output_type": "stream",
     "text": [
      "Model weights saved in saved_models/XLNetDepr-3_256_8-ALL_NA-PEL-BS1-GWS_PCC_IT192_DH_2LMAEALPHA1_NZ20_PNTh0.05_AnnotThresh0.5/checkpoint-408704/pytorch_model.bin\n"
     ]
    },
    {
     "name": "stderr",
     "output_type": "stream",
     "text": [
      "Deleting older checkpoint [saved_models/XLNetDepr-3_256_8-ALL_NA-PEL-BS1-GWS_PCC_IT192_DH_2LMAEALPHA1_NZ20_PNTh0.05_AnnotThresh0.5/checkpoint-383160] due to args.save_total_limit\n"
     ]
    },
    {
     "name": "stderr",
     "output_type": "stream",
     "text": [
      "***** Running Evaluation *****\n"
     ]
    },
    {
     "name": "stderr",
     "output_type": "stream",
     "text": [
      "  Num examples = 1592\n"
     ]
    },
    {
     "name": "stderr",
     "output_type": "stream",
     "text": [
      "  Batch size = 1\n"
     ]
    },
    {
     "name": "stderr",
     "output_type": "stream",
     "text": [
      "Saving model checkpoint to saved_models/XLNetDepr-3_256_8-ALL_NA-PEL-BS1-GWS_PCC_IT192_DH_2LMAEALPHA1_NZ20_PNTh0.05_AnnotThresh0.5/checkpoint-415090\n"
     ]
    },
    {
     "name": "stderr",
     "output_type": "stream",
     "text": [
      "Configuration saved in saved_models/XLNetDepr-3_256_8-ALL_NA-PEL-BS1-GWS_PCC_IT192_DH_2LMAEALPHA1_NZ20_PNTh0.05_AnnotThresh0.5/checkpoint-415090/config.json\n"
     ]
    },
    {
     "name": "stderr",
     "output_type": "stream",
     "text": [
      "Model weights saved in saved_models/XLNetDepr-3_256_8-ALL_NA-PEL-BS1-GWS_PCC_IT192_DH_2LMAEALPHA1_NZ20_PNTh0.05_AnnotThresh0.5/checkpoint-415090/pytorch_model.bin\n"
     ]
    },
    {
     "name": "stderr",
     "output_type": "stream",
     "text": [
      "Deleting older checkpoint [saved_models/XLNetDepr-3_256_8-ALL_NA-PEL-BS1-GWS_PCC_IT192_DH_2LMAEALPHA1_NZ20_PNTh0.05_AnnotThresh0.5/checkpoint-389546] due to args.save_total_limit\n"
     ]
    },
    {
     "name": "stderr",
     "output_type": "stream",
     "text": [
      "***** Running Evaluation *****\n"
     ]
    },
    {
     "name": "stderr",
     "output_type": "stream",
     "text": [
      "  Num examples = 1592\n"
     ]
    },
    {
     "name": "stderr",
     "output_type": "stream",
     "text": [
      "  Batch size = 1\n"
     ]
    },
    {
     "name": "stderr",
     "output_type": "stream",
     "text": [
      "Saving model checkpoint to saved_models/XLNetDepr-3_256_8-ALL_NA-PEL-BS1-GWS_PCC_IT192_DH_2LMAEALPHA1_NZ20_PNTh0.05_AnnotThresh0.5/checkpoint-421476\n"
     ]
    },
    {
     "name": "stderr",
     "output_type": "stream",
     "text": [
      "Configuration saved in saved_models/XLNetDepr-3_256_8-ALL_NA-PEL-BS1-GWS_PCC_IT192_DH_2LMAEALPHA1_NZ20_PNTh0.05_AnnotThresh0.5/checkpoint-421476/config.json\n"
     ]
    },
    {
     "name": "stderr",
     "output_type": "stream",
     "text": [
      "Model weights saved in saved_models/XLNetDepr-3_256_8-ALL_NA-PEL-BS1-GWS_PCC_IT192_DH_2LMAEALPHA1_NZ20_PNTh0.05_AnnotThresh0.5/checkpoint-421476/pytorch_model.bin\n"
     ]
    },
    {
     "name": "stderr",
     "output_type": "stream",
     "text": [
      "Deleting older checkpoint [saved_models/XLNetDepr-3_256_8-ALL_NA-PEL-BS1-GWS_PCC_IT192_DH_2LMAEALPHA1_NZ20_PNTh0.05_AnnotThresh0.5/checkpoint-395932] due to args.save_total_limit\n"
     ]
    },
    {
     "name": "stderr",
     "output_type": "stream",
     "text": [
      "***** Running Evaluation *****\n"
     ]
    },
    {
     "name": "stderr",
     "output_type": "stream",
     "text": [
      "  Num examples = 1592\n"
     ]
    },
    {
     "name": "stderr",
     "output_type": "stream",
     "text": [
      "  Batch size = 1\n"
     ]
    },
    {
     "name": "stderr",
     "output_type": "stream",
     "text": [
      "Saving model checkpoint to saved_models/XLNetDepr-3_256_8-ALL_NA-PEL-BS1-GWS_PCC_IT192_DH_2LMAEALPHA1_NZ20_PNTh0.05_AnnotThresh0.5/checkpoint-427862\n"
     ]
    },
    {
     "name": "stderr",
     "output_type": "stream",
     "text": [
      "Configuration saved in saved_models/XLNetDepr-3_256_8-ALL_NA-PEL-BS1-GWS_PCC_IT192_DH_2LMAEALPHA1_NZ20_PNTh0.05_AnnotThresh0.5/checkpoint-427862/config.json\n"
     ]
    },
    {
     "name": "stderr",
     "output_type": "stream",
     "text": [
      "Model weights saved in saved_models/XLNetDepr-3_256_8-ALL_NA-PEL-BS1-GWS_PCC_IT192_DH_2LMAEALPHA1_NZ20_PNTh0.05_AnnotThresh0.5/checkpoint-427862/pytorch_model.bin\n"
     ]
    },
    {
     "name": "stderr",
     "output_type": "stream",
     "text": [
      "Deleting older checkpoint [saved_models/XLNetDepr-3_256_8-ALL_NA-PEL-BS1-GWS_PCC_IT192_DH_2LMAEALPHA1_NZ20_PNTh0.05_AnnotThresh0.5/checkpoint-402318] due to args.save_total_limit\n"
     ]
    },
    {
     "name": "stderr",
     "output_type": "stream",
     "text": [
      "***** Running Evaluation *****\n"
     ]
    },
    {
     "name": "stderr",
     "output_type": "stream",
     "text": [
      "  Num examples = 1592\n"
     ]
    },
    {
     "name": "stderr",
     "output_type": "stream",
     "text": [
      "  Batch size = 1\n"
     ]
    },
    {
     "name": "stderr",
     "output_type": "stream",
     "text": [
      "Saving model checkpoint to saved_models/XLNetDepr-3_256_8-ALL_NA-PEL-BS1-GWS_PCC_IT192_DH_2LMAEALPHA1_NZ20_PNTh0.05_AnnotThresh0.5/checkpoint-434248\n"
     ]
    },
    {
     "name": "stderr",
     "output_type": "stream",
     "text": [
      "Configuration saved in saved_models/XLNetDepr-3_256_8-ALL_NA-PEL-BS1-GWS_PCC_IT192_DH_2LMAEALPHA1_NZ20_PNTh0.05_AnnotThresh0.5/checkpoint-434248/config.json\n"
     ]
    },
    {
     "name": "stderr",
     "output_type": "stream",
     "text": [
      "Model weights saved in saved_models/XLNetDepr-3_256_8-ALL_NA-PEL-BS1-GWS_PCC_IT192_DH_2LMAEALPHA1_NZ20_PNTh0.05_AnnotThresh0.5/checkpoint-434248/pytorch_model.bin\n"
     ]
    },
    {
     "name": "stderr",
     "output_type": "stream",
     "text": [
      "Deleting older checkpoint [saved_models/XLNetDepr-3_256_8-ALL_NA-PEL-BS1-GWS_PCC_IT192_DH_2LMAEALPHA1_NZ20_PNTh0.05_AnnotThresh0.5/checkpoint-408704] due to args.save_total_limit\n"
     ]
    },
    {
     "name": "stderr",
     "output_type": "stream",
     "text": [
      "***** Running Evaluation *****\n"
     ]
    },
    {
     "name": "stderr",
     "output_type": "stream",
     "text": [
      "  Num examples = 1592\n"
     ]
    },
    {
     "name": "stderr",
     "output_type": "stream",
     "text": [
      "  Batch size = 1\n"
     ]
    },
    {
     "name": "stderr",
     "output_type": "stream",
     "text": [
      "Saving model checkpoint to saved_models/XLNetDepr-3_256_8-ALL_NA-PEL-BS1-GWS_PCC_IT192_DH_2LMAEALPHA1_NZ20_PNTh0.05_AnnotThresh0.5/checkpoint-440634\n"
     ]
    },
    {
     "name": "stderr",
     "output_type": "stream",
     "text": [
      "Configuration saved in saved_models/XLNetDepr-3_256_8-ALL_NA-PEL-BS1-GWS_PCC_IT192_DH_2LMAEALPHA1_NZ20_PNTh0.05_AnnotThresh0.5/checkpoint-440634/config.json\n"
     ]
    },
    {
     "name": "stderr",
     "output_type": "stream",
     "text": [
      "Model weights saved in saved_models/XLNetDepr-3_256_8-ALL_NA-PEL-BS1-GWS_PCC_IT192_DH_2LMAEALPHA1_NZ20_PNTh0.05_AnnotThresh0.5/checkpoint-440634/pytorch_model.bin\n"
     ]
    },
    {
     "name": "stderr",
     "output_type": "stream",
     "text": [
      "Deleting older checkpoint [saved_models/XLNetDepr-3_256_8-ALL_NA-PEL-BS1-GWS_PCC_IT192_DH_2LMAEALPHA1_NZ20_PNTh0.05_AnnotThresh0.5/checkpoint-415090] due to args.save_total_limit\n"
     ]
    },
    {
     "name": "stderr",
     "output_type": "stream",
     "text": [
      "***** Running Evaluation *****\n"
     ]
    },
    {
     "name": "stderr",
     "output_type": "stream",
     "text": [
      "  Num examples = 1592\n"
     ]
    },
    {
     "name": "stderr",
     "output_type": "stream",
     "text": [
      "  Batch size = 1\n"
     ]
    },
    {
     "name": "stderr",
     "output_type": "stream",
     "text": [
      "Saving model checkpoint to saved_models/XLNetDepr-3_256_8-ALL_NA-PEL-BS1-GWS_PCC_IT192_DH_2LMAEALPHA1_NZ20_PNTh0.05_AnnotThresh0.5/checkpoint-447020\n"
     ]
    },
    {
     "name": "stderr",
     "output_type": "stream",
     "text": [
      "Configuration saved in saved_models/XLNetDepr-3_256_8-ALL_NA-PEL-BS1-GWS_PCC_IT192_DH_2LMAEALPHA1_NZ20_PNTh0.05_AnnotThresh0.5/checkpoint-447020/config.json\n"
     ]
    },
    {
     "name": "stderr",
     "output_type": "stream",
     "text": [
      "Model weights saved in saved_models/XLNetDepr-3_256_8-ALL_NA-PEL-BS1-GWS_PCC_IT192_DH_2LMAEALPHA1_NZ20_PNTh0.05_AnnotThresh0.5/checkpoint-447020/pytorch_model.bin\n"
     ]
    },
    {
     "name": "stderr",
     "output_type": "stream",
     "text": [
      "Deleting older checkpoint [saved_models/XLNetDepr-3_256_8-ALL_NA-PEL-BS1-GWS_PCC_IT192_DH_2LMAEALPHA1_NZ20_PNTh0.05_AnnotThresh0.5/checkpoint-421476] due to args.save_total_limit\n"
     ]
    },
    {
     "name": "stderr",
     "output_type": "stream",
     "text": [
      "***** Running Evaluation *****\n"
     ]
    },
    {
     "name": "stderr",
     "output_type": "stream",
     "text": [
      "  Num examples = 1592\n"
     ]
    },
    {
     "name": "stderr",
     "output_type": "stream",
     "text": [
      "  Batch size = 1\n"
     ]
    },
    {
     "name": "stderr",
     "output_type": "stream",
     "text": [
      "Saving model checkpoint to saved_models/XLNetDepr-3_256_8-ALL_NA-PEL-BS1-GWS_PCC_IT192_DH_2LMAEALPHA1_NZ20_PNTh0.05_AnnotThresh0.5/checkpoint-453406\n"
     ]
    },
    {
     "name": "stderr",
     "output_type": "stream",
     "text": [
      "Configuration saved in saved_models/XLNetDepr-3_256_8-ALL_NA-PEL-BS1-GWS_PCC_IT192_DH_2LMAEALPHA1_NZ20_PNTh0.05_AnnotThresh0.5/checkpoint-453406/config.json\n"
     ]
    },
    {
     "name": "stderr",
     "output_type": "stream",
     "text": [
      "Model weights saved in saved_models/XLNetDepr-3_256_8-ALL_NA-PEL-BS1-GWS_PCC_IT192_DH_2LMAEALPHA1_NZ20_PNTh0.05_AnnotThresh0.5/checkpoint-453406/pytorch_model.bin\n"
     ]
    },
    {
     "name": "stderr",
     "output_type": "stream",
     "text": [
      "Deleting older checkpoint [saved_models/XLNetDepr-3_256_8-ALL_NA-PEL-BS1-GWS_PCC_IT192_DH_2LMAEALPHA1_NZ20_PNTh0.05_AnnotThresh0.5/checkpoint-427862] due to args.save_total_limit\n"
     ]
    },
    {
     "name": "stderr",
     "output_type": "stream",
     "text": [
      "***** Running Evaluation *****\n"
     ]
    },
    {
     "name": "stderr",
     "output_type": "stream",
     "text": [
      "  Num examples = 1592\n"
     ]
    },
    {
     "name": "stderr",
     "output_type": "stream",
     "text": [
      "  Batch size = 1\n"
     ]
    },
    {
     "name": "stderr",
     "output_type": "stream",
     "text": [
      "Saving model checkpoint to saved_models/XLNetDepr-3_256_8-ALL_NA-PEL-BS1-GWS_PCC_IT192_DH_2LMAEALPHA1_NZ20_PNTh0.05_AnnotThresh0.5/checkpoint-459792\n"
     ]
    },
    {
     "name": "stderr",
     "output_type": "stream",
     "text": [
      "Configuration saved in saved_models/XLNetDepr-3_256_8-ALL_NA-PEL-BS1-GWS_PCC_IT192_DH_2LMAEALPHA1_NZ20_PNTh0.05_AnnotThresh0.5/checkpoint-459792/config.json\n"
     ]
    },
    {
     "name": "stderr",
     "output_type": "stream",
     "text": [
      "Model weights saved in saved_models/XLNetDepr-3_256_8-ALL_NA-PEL-BS1-GWS_PCC_IT192_DH_2LMAEALPHA1_NZ20_PNTh0.05_AnnotThresh0.5/checkpoint-459792/pytorch_model.bin\n"
     ]
    },
    {
     "name": "stderr",
     "output_type": "stream",
     "text": [
      "Deleting older checkpoint [saved_models/XLNetDepr-3_256_8-ALL_NA-PEL-BS1-GWS_PCC_IT192_DH_2LMAEALPHA1_NZ20_PNTh0.05_AnnotThresh0.5/checkpoint-434248] due to args.save_total_limit\n"
     ]
    },
    {
     "name": "stderr",
     "output_type": "stream",
     "text": [
      "***** Running Evaluation *****\n"
     ]
    },
    {
     "name": "stderr",
     "output_type": "stream",
     "text": [
      "  Num examples = 1592\n"
     ]
    },
    {
     "name": "stderr",
     "output_type": "stream",
     "text": [
      "  Batch size = 1\n"
     ]
    },
    {
     "name": "stderr",
     "output_type": "stream",
     "text": [
      "Saving model checkpoint to saved_models/XLNetDepr-3_256_8-ALL_NA-PEL-BS1-GWS_PCC_IT192_DH_2LMAEALPHA1_NZ20_PNTh0.05_AnnotThresh0.5/checkpoint-466178\n"
     ]
    },
    {
     "name": "stderr",
     "output_type": "stream",
     "text": [
      "Configuration saved in saved_models/XLNetDepr-3_256_8-ALL_NA-PEL-BS1-GWS_PCC_IT192_DH_2LMAEALPHA1_NZ20_PNTh0.05_AnnotThresh0.5/checkpoint-466178/config.json\n"
     ]
    },
    {
     "name": "stderr",
     "output_type": "stream",
     "text": [
      "Model weights saved in saved_models/XLNetDepr-3_256_8-ALL_NA-PEL-BS1-GWS_PCC_IT192_DH_2LMAEALPHA1_NZ20_PNTh0.05_AnnotThresh0.5/checkpoint-466178/pytorch_model.bin\n"
     ]
    },
    {
     "name": "stderr",
     "output_type": "stream",
     "text": [
      "Deleting older checkpoint [saved_models/XLNetDepr-3_256_8-ALL_NA-PEL-BS1-GWS_PCC_IT192_DH_2LMAEALPHA1_NZ20_PNTh0.05_AnnotThresh0.5/checkpoint-440634] due to args.save_total_limit\n"
     ]
    },
    {
     "name": "stderr",
     "output_type": "stream",
     "text": [
      "***** Running Evaluation *****\n"
     ]
    },
    {
     "name": "stderr",
     "output_type": "stream",
     "text": [
      "  Num examples = 1592\n"
     ]
    },
    {
     "name": "stderr",
     "output_type": "stream",
     "text": [
      "  Batch size = 1\n"
     ]
    },
    {
     "name": "stderr",
     "output_type": "stream",
     "text": [
      "Saving model checkpoint to saved_models/XLNetDepr-3_256_8-ALL_NA-PEL-BS1-GWS_PCC_IT192_DH_2LMAEALPHA1_NZ20_PNTh0.05_AnnotThresh0.5/checkpoint-472564\n"
     ]
    },
    {
     "name": "stderr",
     "output_type": "stream",
     "text": [
      "Configuration saved in saved_models/XLNetDepr-3_256_8-ALL_NA-PEL-BS1-GWS_PCC_IT192_DH_2LMAEALPHA1_NZ20_PNTh0.05_AnnotThresh0.5/checkpoint-472564/config.json\n"
     ]
    },
    {
     "name": "stderr",
     "output_type": "stream",
     "text": [
      "Model weights saved in saved_models/XLNetDepr-3_256_8-ALL_NA-PEL-BS1-GWS_PCC_IT192_DH_2LMAEALPHA1_NZ20_PNTh0.05_AnnotThresh0.5/checkpoint-472564/pytorch_model.bin\n"
     ]
    },
    {
     "name": "stderr",
     "output_type": "stream",
     "text": [
      "Deleting older checkpoint [saved_models/XLNetDepr-3_256_8-ALL_NA-PEL-BS1-GWS_PCC_IT192_DH_2LMAEALPHA1_NZ20_PNTh0.05_AnnotThresh0.5/checkpoint-447020] due to args.save_total_limit\n"
     ]
    },
    {
     "name": "stderr",
     "output_type": "stream",
     "text": [
      "***** Running Evaluation *****\n"
     ]
    },
    {
     "name": "stderr",
     "output_type": "stream",
     "text": [
      "  Num examples = 1592\n"
     ]
    },
    {
     "name": "stderr",
     "output_type": "stream",
     "text": [
      "  Batch size = 1\n"
     ]
    },
    {
     "name": "stderr",
     "output_type": "stream",
     "text": [
      "Saving model checkpoint to saved_models/XLNetDepr-3_256_8-ALL_NA-PEL-BS1-GWS_PCC_IT192_DH_2LMAEALPHA1_NZ20_PNTh0.05_AnnotThresh0.5/checkpoint-478950\n"
     ]
    },
    {
     "name": "stderr",
     "output_type": "stream",
     "text": [
      "Configuration saved in saved_models/XLNetDepr-3_256_8-ALL_NA-PEL-BS1-GWS_PCC_IT192_DH_2LMAEALPHA1_NZ20_PNTh0.05_AnnotThresh0.5/checkpoint-478950/config.json\n"
     ]
    },
    {
     "name": "stderr",
     "output_type": "stream",
     "text": [
      "Model weights saved in saved_models/XLNetDepr-3_256_8-ALL_NA-PEL-BS1-GWS_PCC_IT192_DH_2LMAEALPHA1_NZ20_PNTh0.05_AnnotThresh0.5/checkpoint-478950/pytorch_model.bin\n"
     ]
    },
    {
     "name": "stderr",
     "output_type": "stream",
     "text": [
      "Deleting older checkpoint [saved_models/XLNetDepr-3_256_8-ALL_NA-PEL-BS1-GWS_PCC_IT192_DH_2LMAEALPHA1_NZ20_PNTh0.05_AnnotThresh0.5/checkpoint-453406] due to args.save_total_limit\n"
     ]
    },
    {
     "name": "stderr",
     "output_type": "stream",
     "text": [
      "***** Running Evaluation *****\n"
     ]
    },
    {
     "name": "stderr",
     "output_type": "stream",
     "text": [
      "  Num examples = 1592\n"
     ]
    },
    {
     "name": "stderr",
     "output_type": "stream",
     "text": [
      "  Batch size = 1\n"
     ]
    },
    {
     "name": "stderr",
     "output_type": "stream",
     "text": [
      "Saving model checkpoint to saved_models/XLNetDepr-3_256_8-ALL_NA-PEL-BS1-GWS_PCC_IT192_DH_2LMAEALPHA1_NZ20_PNTh0.05_AnnotThresh0.5/checkpoint-485336\n"
     ]
    },
    {
     "name": "stderr",
     "output_type": "stream",
     "text": [
      "Configuration saved in saved_models/XLNetDepr-3_256_8-ALL_NA-PEL-BS1-GWS_PCC_IT192_DH_2LMAEALPHA1_NZ20_PNTh0.05_AnnotThresh0.5/checkpoint-485336/config.json\n"
     ]
    },
    {
     "name": "stderr",
     "output_type": "stream",
     "text": [
      "Model weights saved in saved_models/XLNetDepr-3_256_8-ALL_NA-PEL-BS1-GWS_PCC_IT192_DH_2LMAEALPHA1_NZ20_PNTh0.05_AnnotThresh0.5/checkpoint-485336/pytorch_model.bin\n"
     ]
    },
    {
     "name": "stderr",
     "output_type": "stream",
     "text": [
      "Deleting older checkpoint [saved_models/XLNetDepr-3_256_8-ALL_NA-PEL-BS1-GWS_PCC_IT192_DH_2LMAEALPHA1_NZ20_PNTh0.05_AnnotThresh0.5/checkpoint-459792] due to args.save_total_limit\n"
     ]
    },
    {
     "name": "stderr",
     "output_type": "stream",
     "text": [
      "***** Running Evaluation *****\n"
     ]
    },
    {
     "name": "stderr",
     "output_type": "stream",
     "text": [
      "  Num examples = 1592\n"
     ]
    },
    {
     "name": "stderr",
     "output_type": "stream",
     "text": [
      "  Batch size = 1\n"
     ]
    },
    {
     "name": "stderr",
     "output_type": "stream",
     "text": [
      "Saving model checkpoint to saved_models/XLNetDepr-3_256_8-ALL_NA-PEL-BS1-GWS_PCC_IT192_DH_2LMAEALPHA1_NZ20_PNTh0.05_AnnotThresh0.5/checkpoint-491722\n"
     ]
    },
    {
     "name": "stderr",
     "output_type": "stream",
     "text": [
      "Configuration saved in saved_models/XLNetDepr-3_256_8-ALL_NA-PEL-BS1-GWS_PCC_IT192_DH_2LMAEALPHA1_NZ20_PNTh0.05_AnnotThresh0.5/checkpoint-491722/config.json\n"
     ]
    },
    {
     "name": "stderr",
     "output_type": "stream",
     "text": [
      "Model weights saved in saved_models/XLNetDepr-3_256_8-ALL_NA-PEL-BS1-GWS_PCC_IT192_DH_2LMAEALPHA1_NZ20_PNTh0.05_AnnotThresh0.5/checkpoint-491722/pytorch_model.bin\n"
     ]
    },
    {
     "name": "stderr",
     "output_type": "stream",
     "text": [
      "Deleting older checkpoint [saved_models/XLNetDepr-3_256_8-ALL_NA-PEL-BS1-GWS_PCC_IT192_DH_2LMAEALPHA1_NZ20_PNTh0.05_AnnotThresh0.5/checkpoint-466178] due to args.save_total_limit\n"
     ]
    },
    {
     "name": "stderr",
     "output_type": "stream",
     "text": [
      "***** Running Evaluation *****\n"
     ]
    },
    {
     "name": "stderr",
     "output_type": "stream",
     "text": [
      "  Num examples = 1592\n"
     ]
    },
    {
     "name": "stderr",
     "output_type": "stream",
     "text": [
      "  Batch size = 1\n"
     ]
    },
    {
     "name": "stderr",
     "output_type": "stream",
     "text": [
      "Saving model checkpoint to saved_models/XLNetDepr-3_256_8-ALL_NA-PEL-BS1-GWS_PCC_IT192_DH_2LMAEALPHA1_NZ20_PNTh0.05_AnnotThresh0.5/checkpoint-498108\n"
     ]
    },
    {
     "name": "stderr",
     "output_type": "stream",
     "text": [
      "Configuration saved in saved_models/XLNetDepr-3_256_8-ALL_NA-PEL-BS1-GWS_PCC_IT192_DH_2LMAEALPHA1_NZ20_PNTh0.05_AnnotThresh0.5/checkpoint-498108/config.json\n"
     ]
    },
    {
     "name": "stderr",
     "output_type": "stream",
     "text": [
      "Model weights saved in saved_models/XLNetDepr-3_256_8-ALL_NA-PEL-BS1-GWS_PCC_IT192_DH_2LMAEALPHA1_NZ20_PNTh0.05_AnnotThresh0.5/checkpoint-498108/pytorch_model.bin\n"
     ]
    },
    {
     "name": "stderr",
     "output_type": "stream",
     "text": [
      "Deleting older checkpoint [saved_models/XLNetDepr-3_256_8-ALL_NA-PEL-BS1-GWS_PCC_IT192_DH_2LMAEALPHA1_NZ20_PNTh0.05_AnnotThresh0.5/checkpoint-472564] due to args.save_total_limit\n"
     ]
    },
    {
     "name": "stderr",
     "output_type": "stream",
     "text": [
      "***** Running Evaluation *****\n"
     ]
    },
    {
     "name": "stderr",
     "output_type": "stream",
     "text": [
      "  Num examples = 1592\n"
     ]
    },
    {
     "name": "stderr",
     "output_type": "stream",
     "text": [
      "  Batch size = 1\n"
     ]
    },
    {
     "name": "stderr",
     "output_type": "stream",
     "text": [
      "Saving model checkpoint to saved_models/XLNetDepr-3_256_8-ALL_NA-PEL-BS1-GWS_PCC_IT192_DH_2LMAEALPHA1_NZ20_PNTh0.05_AnnotThresh0.5/checkpoint-504494\n"
     ]
    },
    {
     "name": "stderr",
     "output_type": "stream",
     "text": [
      "Configuration saved in saved_models/XLNetDepr-3_256_8-ALL_NA-PEL-BS1-GWS_PCC_IT192_DH_2LMAEALPHA1_NZ20_PNTh0.05_AnnotThresh0.5/checkpoint-504494/config.json\n"
     ]
    },
    {
     "name": "stderr",
     "output_type": "stream",
     "text": [
      "Model weights saved in saved_models/XLNetDepr-3_256_8-ALL_NA-PEL-BS1-GWS_PCC_IT192_DH_2LMAEALPHA1_NZ20_PNTh0.05_AnnotThresh0.5/checkpoint-504494/pytorch_model.bin\n"
     ]
    },
    {
     "name": "stderr",
     "output_type": "stream",
     "text": [
      "Deleting older checkpoint [saved_models/XLNetDepr-3_256_8-ALL_NA-PEL-BS1-GWS_PCC_IT192_DH_2LMAEALPHA1_NZ20_PNTh0.05_AnnotThresh0.5/checkpoint-478950] due to args.save_total_limit\n"
     ]
    },
    {
     "name": "stderr",
     "output_type": "stream",
     "text": [
      "***** Running Evaluation *****\n"
     ]
    },
    {
     "name": "stderr",
     "output_type": "stream",
     "text": [
      "  Num examples = 1592\n"
     ]
    },
    {
     "name": "stderr",
     "output_type": "stream",
     "text": [
      "  Batch size = 1\n"
     ]
    },
    {
     "name": "stderr",
     "output_type": "stream",
     "text": [
      "Saving model checkpoint to saved_models/XLNetDepr-3_256_8-ALL_NA-PEL-BS1-GWS_PCC_IT192_DH_2LMAEALPHA1_NZ20_PNTh0.05_AnnotThresh0.5/checkpoint-510880\n"
     ]
    },
    {
     "name": "stderr",
     "output_type": "stream",
     "text": [
      "Configuration saved in saved_models/XLNetDepr-3_256_8-ALL_NA-PEL-BS1-GWS_PCC_IT192_DH_2LMAEALPHA1_NZ20_PNTh0.05_AnnotThresh0.5/checkpoint-510880/config.json\n"
     ]
    },
    {
     "name": "stderr",
     "output_type": "stream",
     "text": [
      "Model weights saved in saved_models/XLNetDepr-3_256_8-ALL_NA-PEL-BS1-GWS_PCC_IT192_DH_2LMAEALPHA1_NZ20_PNTh0.05_AnnotThresh0.5/checkpoint-510880/pytorch_model.bin\n"
     ]
    },
    {
     "name": "stderr",
     "output_type": "stream",
     "text": [
      "Deleting older checkpoint [saved_models/XLNetDepr-3_256_8-ALL_NA-PEL-BS1-GWS_PCC_IT192_DH_2LMAEALPHA1_NZ20_PNTh0.05_AnnotThresh0.5/checkpoint-485336] due to args.save_total_limit\n"
     ]
    },
    {
     "name": "stderr",
     "output_type": "stream",
     "text": [
      "***** Running Evaluation *****\n"
     ]
    },
    {
     "name": "stderr",
     "output_type": "stream",
     "text": [
      "  Num examples = 1592\n"
     ]
    },
    {
     "name": "stderr",
     "output_type": "stream",
     "text": [
      "  Batch size = 1\n"
     ]
    },
    {
     "name": "stderr",
     "output_type": "stream",
     "text": [
      "Saving model checkpoint to saved_models/XLNetDepr-3_256_8-ALL_NA-PEL-BS1-GWS_PCC_IT192_DH_2LMAEALPHA1_NZ20_PNTh0.05_AnnotThresh0.5/checkpoint-517266\n"
     ]
    },
    {
     "name": "stderr",
     "output_type": "stream",
     "text": [
      "Configuration saved in saved_models/XLNetDepr-3_256_8-ALL_NA-PEL-BS1-GWS_PCC_IT192_DH_2LMAEALPHA1_NZ20_PNTh0.05_AnnotThresh0.5/checkpoint-517266/config.json\n"
     ]
    },
    {
     "name": "stderr",
     "output_type": "stream",
     "text": [
      "Model weights saved in saved_models/XLNetDepr-3_256_8-ALL_NA-PEL-BS1-GWS_PCC_IT192_DH_2LMAEALPHA1_NZ20_PNTh0.05_AnnotThresh0.5/checkpoint-517266/pytorch_model.bin\n"
     ]
    },
    {
     "name": "stderr",
     "output_type": "stream",
     "text": [
      "Deleting older checkpoint [saved_models/XLNetDepr-3_256_8-ALL_NA-PEL-BS1-GWS_PCC_IT192_DH_2LMAEALPHA1_NZ20_PNTh0.05_AnnotThresh0.5/checkpoint-491722] due to args.save_total_limit\n"
     ]
    },
    {
     "name": "stderr",
     "output_type": "stream",
     "text": [
      "***** Running Evaluation *****\n"
     ]
    },
    {
     "name": "stderr",
     "output_type": "stream",
     "text": [
      "  Num examples = 1592\n"
     ]
    },
    {
     "name": "stderr",
     "output_type": "stream",
     "text": [
      "  Batch size = 1\n"
     ]
    },
    {
     "name": "stderr",
     "output_type": "stream",
     "text": [
      "Saving model checkpoint to saved_models/XLNetDepr-3_256_8-ALL_NA-PEL-BS1-GWS_PCC_IT192_DH_2LMAEALPHA1_NZ20_PNTh0.05_AnnotThresh0.5/checkpoint-523652\n"
     ]
    },
    {
     "name": "stderr",
     "output_type": "stream",
     "text": [
      "Configuration saved in saved_models/XLNetDepr-3_256_8-ALL_NA-PEL-BS1-GWS_PCC_IT192_DH_2LMAEALPHA1_NZ20_PNTh0.05_AnnotThresh0.5/checkpoint-523652/config.json\n"
     ]
    },
    {
     "name": "stderr",
     "output_type": "stream",
     "text": [
      "Model weights saved in saved_models/XLNetDepr-3_256_8-ALL_NA-PEL-BS1-GWS_PCC_IT192_DH_2LMAEALPHA1_NZ20_PNTh0.05_AnnotThresh0.5/checkpoint-523652/pytorch_model.bin\n"
     ]
    },
    {
     "name": "stderr",
     "output_type": "stream",
     "text": [
      "Deleting older checkpoint [saved_models/XLNetDepr-3_256_8-ALL_NA-PEL-BS1-GWS_PCC_IT192_DH_2LMAEALPHA1_NZ20_PNTh0.05_AnnotThresh0.5/checkpoint-498108] due to args.save_total_limit\n"
     ]
    },
    {
     "name": "stderr",
     "output_type": "stream",
     "text": [
      "***** Running Evaluation *****\n"
     ]
    },
    {
     "name": "stderr",
     "output_type": "stream",
     "text": [
      "  Num examples = 1592\n"
     ]
    },
    {
     "name": "stderr",
     "output_type": "stream",
     "text": [
      "  Batch size = 1\n"
     ]
    },
    {
     "name": "stderr",
     "output_type": "stream",
     "text": [
      "Saving model checkpoint to saved_models/XLNetDepr-3_256_8-ALL_NA-PEL-BS1-GWS_PCC_IT192_DH_2LMAEALPHA1_NZ20_PNTh0.05_AnnotThresh0.5/checkpoint-530038\n"
     ]
    },
    {
     "name": "stderr",
     "output_type": "stream",
     "text": [
      "Configuration saved in saved_models/XLNetDepr-3_256_8-ALL_NA-PEL-BS1-GWS_PCC_IT192_DH_2LMAEALPHA1_NZ20_PNTh0.05_AnnotThresh0.5/checkpoint-530038/config.json\n"
     ]
    },
    {
     "name": "stderr",
     "output_type": "stream",
     "text": [
      "Model weights saved in saved_models/XLNetDepr-3_256_8-ALL_NA-PEL-BS1-GWS_PCC_IT192_DH_2LMAEALPHA1_NZ20_PNTh0.05_AnnotThresh0.5/checkpoint-530038/pytorch_model.bin\n"
     ]
    },
    {
     "name": "stderr",
     "output_type": "stream",
     "text": [
      "Deleting older checkpoint [saved_models/XLNetDepr-3_256_8-ALL_NA-PEL-BS1-GWS_PCC_IT192_DH_2LMAEALPHA1_NZ20_PNTh0.05_AnnotThresh0.5/checkpoint-504494] due to args.save_total_limit\n"
     ]
    },
    {
     "name": "stderr",
     "output_type": "stream",
     "text": [
      "***** Running Evaluation *****\n"
     ]
    },
    {
     "name": "stderr",
     "output_type": "stream",
     "text": [
      "  Num examples = 1592\n"
     ]
    },
    {
     "name": "stderr",
     "output_type": "stream",
     "text": [
      "  Batch size = 1\n"
     ]
    },
    {
     "name": "stderr",
     "output_type": "stream",
     "text": [
      "Saving model checkpoint to saved_models/XLNetDepr-3_256_8-ALL_NA-PEL-BS1-GWS_PCC_IT192_DH_2LMAEALPHA1_NZ20_PNTh0.05_AnnotThresh0.5/checkpoint-536424\n"
     ]
    },
    {
     "name": "stderr",
     "output_type": "stream",
     "text": [
      "Configuration saved in saved_models/XLNetDepr-3_256_8-ALL_NA-PEL-BS1-GWS_PCC_IT192_DH_2LMAEALPHA1_NZ20_PNTh0.05_AnnotThresh0.5/checkpoint-536424/config.json\n"
     ]
    },
    {
     "name": "stderr",
     "output_type": "stream",
     "text": [
      "Model weights saved in saved_models/XLNetDepr-3_256_8-ALL_NA-PEL-BS1-GWS_PCC_IT192_DH_2LMAEALPHA1_NZ20_PNTh0.05_AnnotThresh0.5/checkpoint-536424/pytorch_model.bin\n"
     ]
    },
    {
     "name": "stderr",
     "output_type": "stream",
     "text": [
      "Deleting older checkpoint [saved_models/XLNetDepr-3_256_8-ALL_NA-PEL-BS1-GWS_PCC_IT192_DH_2LMAEALPHA1_NZ20_PNTh0.05_AnnotThresh0.5/checkpoint-510880] due to args.save_total_limit\n"
     ]
    },
    {
     "name": "stderr",
     "output_type": "stream",
     "text": [
      "***** Running Evaluation *****\n"
     ]
    },
    {
     "name": "stderr",
     "output_type": "stream",
     "text": [
      "  Num examples = 1592\n"
     ]
    },
    {
     "name": "stderr",
     "output_type": "stream",
     "text": [
      "  Batch size = 1\n"
     ]
    },
    {
     "name": "stderr",
     "output_type": "stream",
     "text": [
      "Saving model checkpoint to saved_models/XLNetDepr-3_256_8-ALL_NA-PEL-BS1-GWS_PCC_IT192_DH_2LMAEALPHA1_NZ20_PNTh0.05_AnnotThresh0.5/checkpoint-542810\n"
     ]
    },
    {
     "name": "stderr",
     "output_type": "stream",
     "text": [
      "Configuration saved in saved_models/XLNetDepr-3_256_8-ALL_NA-PEL-BS1-GWS_PCC_IT192_DH_2LMAEALPHA1_NZ20_PNTh0.05_AnnotThresh0.5/checkpoint-542810/config.json\n"
     ]
    },
    {
     "name": "stderr",
     "output_type": "stream",
     "text": [
      "Model weights saved in saved_models/XLNetDepr-3_256_8-ALL_NA-PEL-BS1-GWS_PCC_IT192_DH_2LMAEALPHA1_NZ20_PNTh0.05_AnnotThresh0.5/checkpoint-542810/pytorch_model.bin\n"
     ]
    },
    {
     "name": "stderr",
     "output_type": "stream",
     "text": [
      "Deleting older checkpoint [saved_models/XLNetDepr-3_256_8-ALL_NA-PEL-BS1-GWS_PCC_IT192_DH_2LMAEALPHA1_NZ20_PNTh0.05_AnnotThresh0.5/checkpoint-517266] due to args.save_total_limit\n"
     ]
    },
    {
     "name": "stderr",
     "output_type": "stream",
     "text": [
      "***** Running Evaluation *****\n"
     ]
    },
    {
     "name": "stderr",
     "output_type": "stream",
     "text": [
      "  Num examples = 1592\n"
     ]
    },
    {
     "name": "stderr",
     "output_type": "stream",
     "text": [
      "  Batch size = 1\n"
     ]
    },
    {
     "name": "stderr",
     "output_type": "stream",
     "text": [
      "Saving model checkpoint to saved_models/XLNetDepr-3_256_8-ALL_NA-PEL-BS1-GWS_PCC_IT192_DH_2LMAEALPHA1_NZ20_PNTh0.05_AnnotThresh0.5/checkpoint-549196\n"
     ]
    },
    {
     "name": "stderr",
     "output_type": "stream",
     "text": [
      "Configuration saved in saved_models/XLNetDepr-3_256_8-ALL_NA-PEL-BS1-GWS_PCC_IT192_DH_2LMAEALPHA1_NZ20_PNTh0.05_AnnotThresh0.5/checkpoint-549196/config.json\n"
     ]
    },
    {
     "name": "stderr",
     "output_type": "stream",
     "text": [
      "Model weights saved in saved_models/XLNetDepr-3_256_8-ALL_NA-PEL-BS1-GWS_PCC_IT192_DH_2LMAEALPHA1_NZ20_PNTh0.05_AnnotThresh0.5/checkpoint-549196/pytorch_model.bin\n"
     ]
    },
    {
     "name": "stderr",
     "output_type": "stream",
     "text": [
      "Deleting older checkpoint [saved_models/XLNetDepr-3_256_8-ALL_NA-PEL-BS1-GWS_PCC_IT192_DH_2LMAEALPHA1_NZ20_PNTh0.05_AnnotThresh0.5/checkpoint-523652] due to args.save_total_limit\n"
     ]
    },
    {
     "name": "stderr",
     "output_type": "stream",
     "text": [
      "***** Running Evaluation *****\n"
     ]
    },
    {
     "name": "stderr",
     "output_type": "stream",
     "text": [
      "  Num examples = 1592\n"
     ]
    },
    {
     "name": "stderr",
     "output_type": "stream",
     "text": [
      "  Batch size = 1\n"
     ]
    },
    {
     "name": "stderr",
     "output_type": "stream",
     "text": [
      "Saving model checkpoint to saved_models/XLNetDepr-3_256_8-ALL_NA-PEL-BS1-GWS_PCC_IT192_DH_2LMAEALPHA1_NZ20_PNTh0.05_AnnotThresh0.5/checkpoint-555582\n"
     ]
    },
    {
     "name": "stderr",
     "output_type": "stream",
     "text": [
      "Configuration saved in saved_models/XLNetDepr-3_256_8-ALL_NA-PEL-BS1-GWS_PCC_IT192_DH_2LMAEALPHA1_NZ20_PNTh0.05_AnnotThresh0.5/checkpoint-555582/config.json\n"
     ]
    },
    {
     "name": "stderr",
     "output_type": "stream",
     "text": [
      "Model weights saved in saved_models/XLNetDepr-3_256_8-ALL_NA-PEL-BS1-GWS_PCC_IT192_DH_2LMAEALPHA1_NZ20_PNTh0.05_AnnotThresh0.5/checkpoint-555582/pytorch_model.bin\n"
     ]
    },
    {
     "name": "stderr",
     "output_type": "stream",
     "text": [
      "Deleting older checkpoint [saved_models/XLNetDepr-3_256_8-ALL_NA-PEL-BS1-GWS_PCC_IT192_DH_2LMAEALPHA1_NZ20_PNTh0.05_AnnotThresh0.5/checkpoint-530038] due to args.save_total_limit\n"
     ]
    },
    {
     "name": "stderr",
     "output_type": "stream",
     "text": [
      "***** Running Evaluation *****\n"
     ]
    },
    {
     "name": "stderr",
     "output_type": "stream",
     "text": [
      "  Num examples = 1592\n"
     ]
    },
    {
     "name": "stderr",
     "output_type": "stream",
     "text": [
      "  Batch size = 1\n"
     ]
    },
    {
     "name": "stderr",
     "output_type": "stream",
     "text": [
      "Saving model checkpoint to saved_models/XLNetDepr-3_256_8-ALL_NA-PEL-BS1-GWS_PCC_IT192_DH_2LMAEALPHA1_NZ20_PNTh0.05_AnnotThresh0.5/checkpoint-561968\n"
     ]
    },
    {
     "name": "stderr",
     "output_type": "stream",
     "text": [
      "Configuration saved in saved_models/XLNetDepr-3_256_8-ALL_NA-PEL-BS1-GWS_PCC_IT192_DH_2LMAEALPHA1_NZ20_PNTh0.05_AnnotThresh0.5/checkpoint-561968/config.json\n"
     ]
    },
    {
     "name": "stderr",
     "output_type": "stream",
     "text": [
      "Model weights saved in saved_models/XLNetDepr-3_256_8-ALL_NA-PEL-BS1-GWS_PCC_IT192_DH_2LMAEALPHA1_NZ20_PNTh0.05_AnnotThresh0.5/checkpoint-561968/pytorch_model.bin\n"
     ]
    },
    {
     "name": "stderr",
     "output_type": "stream",
     "text": [
      "Deleting older checkpoint [saved_models/XLNetDepr-3_256_8-ALL_NA-PEL-BS1-GWS_PCC_IT192_DH_2LMAEALPHA1_NZ20_PNTh0.05_AnnotThresh0.5/checkpoint-536424] due to args.save_total_limit\n"
     ]
    },
    {
     "name": "stderr",
     "output_type": "stream",
     "text": [
      "***** Running Evaluation *****\n"
     ]
    },
    {
     "name": "stderr",
     "output_type": "stream",
     "text": [
      "  Num examples = 1592\n"
     ]
    },
    {
     "name": "stderr",
     "output_type": "stream",
     "text": [
      "  Batch size = 1\n"
     ]
    },
    {
     "name": "stderr",
     "output_type": "stream",
     "text": [
      "Saving model checkpoint to saved_models/XLNetDepr-3_256_8-ALL_NA-PEL-BS1-GWS_PCC_IT192_DH_2LMAEALPHA1_NZ20_PNTh0.05_AnnotThresh0.5/checkpoint-568354\n"
     ]
    },
    {
     "name": "stderr",
     "output_type": "stream",
     "text": [
      "Configuration saved in saved_models/XLNetDepr-3_256_8-ALL_NA-PEL-BS1-GWS_PCC_IT192_DH_2LMAEALPHA1_NZ20_PNTh0.05_AnnotThresh0.5/checkpoint-568354/config.json\n"
     ]
    },
    {
     "name": "stderr",
     "output_type": "stream",
     "text": [
      "Model weights saved in saved_models/XLNetDepr-3_256_8-ALL_NA-PEL-BS1-GWS_PCC_IT192_DH_2LMAEALPHA1_NZ20_PNTh0.05_AnnotThresh0.5/checkpoint-568354/pytorch_model.bin\n"
     ]
    },
    {
     "name": "stderr",
     "output_type": "stream",
     "text": [
      "Deleting older checkpoint [saved_models/XLNetDepr-3_256_8-ALL_NA-PEL-BS1-GWS_PCC_IT192_DH_2LMAEALPHA1_NZ20_PNTh0.05_AnnotThresh0.5/checkpoint-542810] due to args.save_total_limit\n"
     ]
    },
    {
     "name": "stderr",
     "output_type": "stream",
     "text": [
      "***** Running Evaluation *****\n"
     ]
    },
    {
     "name": "stderr",
     "output_type": "stream",
     "text": [
      "  Num examples = 1592\n"
     ]
    },
    {
     "name": "stderr",
     "output_type": "stream",
     "text": [
      "  Batch size = 1\n"
     ]
    },
    {
     "name": "stderr",
     "output_type": "stream",
     "text": [
      "Saving model checkpoint to saved_models/XLNetDepr-3_256_8-ALL_NA-PEL-BS1-GWS_PCC_IT192_DH_2LMAEALPHA1_NZ20_PNTh0.05_AnnotThresh0.5/checkpoint-574740\n"
     ]
    },
    {
     "name": "stderr",
     "output_type": "stream",
     "text": [
      "Configuration saved in saved_models/XLNetDepr-3_256_8-ALL_NA-PEL-BS1-GWS_PCC_IT192_DH_2LMAEALPHA1_NZ20_PNTh0.05_AnnotThresh0.5/checkpoint-574740/config.json\n"
     ]
    },
    {
     "name": "stderr",
     "output_type": "stream",
     "text": [
      "Model weights saved in saved_models/XLNetDepr-3_256_8-ALL_NA-PEL-BS1-GWS_PCC_IT192_DH_2LMAEALPHA1_NZ20_PNTh0.05_AnnotThresh0.5/checkpoint-574740/pytorch_model.bin\n"
     ]
    },
    {
     "name": "stderr",
     "output_type": "stream",
     "text": [
      "Deleting older checkpoint [saved_models/XLNetDepr-3_256_8-ALL_NA-PEL-BS1-GWS_PCC_IT192_DH_2LMAEALPHA1_NZ20_PNTh0.05_AnnotThresh0.5/checkpoint-549196] due to args.save_total_limit\n"
     ]
    },
    {
     "name": "stderr",
     "output_type": "stream",
     "text": [
      "***** Running Evaluation *****\n"
     ]
    },
    {
     "name": "stderr",
     "output_type": "stream",
     "text": [
      "  Num examples = 1592\n"
     ]
    },
    {
     "name": "stderr",
     "output_type": "stream",
     "text": [
      "  Batch size = 1\n"
     ]
    },
    {
     "name": "stderr",
     "output_type": "stream",
     "text": [
      "Saving model checkpoint to saved_models/XLNetDepr-3_256_8-ALL_NA-PEL-BS1-GWS_PCC_IT192_DH_2LMAEALPHA1_NZ20_PNTh0.05_AnnotThresh0.5/checkpoint-581126\n"
     ]
    },
    {
     "name": "stderr",
     "output_type": "stream",
     "text": [
      "Configuration saved in saved_models/XLNetDepr-3_256_8-ALL_NA-PEL-BS1-GWS_PCC_IT192_DH_2LMAEALPHA1_NZ20_PNTh0.05_AnnotThresh0.5/checkpoint-581126/config.json\n"
     ]
    },
    {
     "name": "stderr",
     "output_type": "stream",
     "text": [
      "Model weights saved in saved_models/XLNetDepr-3_256_8-ALL_NA-PEL-BS1-GWS_PCC_IT192_DH_2LMAEALPHA1_NZ20_PNTh0.05_AnnotThresh0.5/checkpoint-581126/pytorch_model.bin\n"
     ]
    },
    {
     "name": "stderr",
     "output_type": "stream",
     "text": [
      "Deleting older checkpoint [saved_models/XLNetDepr-3_256_8-ALL_NA-PEL-BS1-GWS_PCC_IT192_DH_2LMAEALPHA1_NZ20_PNTh0.05_AnnotThresh0.5/checkpoint-555582] due to args.save_total_limit\n"
     ]
    },
    {
     "name": "stderr",
     "output_type": "stream",
     "text": [
      "***** Running Evaluation *****\n"
     ]
    },
    {
     "name": "stderr",
     "output_type": "stream",
     "text": [
      "  Num examples = 1592\n"
     ]
    },
    {
     "name": "stderr",
     "output_type": "stream",
     "text": [
      "  Batch size = 1\n"
     ]
    },
    {
     "name": "stderr",
     "output_type": "stream",
     "text": [
      "Saving model checkpoint to saved_models/XLNetDepr-3_256_8-ALL_NA-PEL-BS1-GWS_PCC_IT192_DH_2LMAEALPHA1_NZ20_PNTh0.05_AnnotThresh0.5/checkpoint-587512\n"
     ]
    },
    {
     "name": "stderr",
     "output_type": "stream",
     "text": [
      "Configuration saved in saved_models/XLNetDepr-3_256_8-ALL_NA-PEL-BS1-GWS_PCC_IT192_DH_2LMAEALPHA1_NZ20_PNTh0.05_AnnotThresh0.5/checkpoint-587512/config.json\n"
     ]
    },
    {
     "name": "stderr",
     "output_type": "stream",
     "text": [
      "Model weights saved in saved_models/XLNetDepr-3_256_8-ALL_NA-PEL-BS1-GWS_PCC_IT192_DH_2LMAEALPHA1_NZ20_PNTh0.05_AnnotThresh0.5/checkpoint-587512/pytorch_model.bin\n"
     ]
    },
    {
     "name": "stderr",
     "output_type": "stream",
     "text": [
      "Deleting older checkpoint [saved_models/XLNetDepr-3_256_8-ALL_NA-PEL-BS1-GWS_PCC_IT192_DH_2LMAEALPHA1_NZ20_PNTh0.05_AnnotThresh0.5/checkpoint-561968] due to args.save_total_limit\n"
     ]
    },
    {
     "name": "stderr",
     "output_type": "stream",
     "text": [
      "***** Running Evaluation *****\n"
     ]
    },
    {
     "name": "stderr",
     "output_type": "stream",
     "text": [
      "  Num examples = 1592\n"
     ]
    },
    {
     "name": "stderr",
     "output_type": "stream",
     "text": [
      "  Batch size = 1\n"
     ]
    },
    {
     "name": "stderr",
     "output_type": "stream",
     "text": [
      "Saving model checkpoint to saved_models/XLNetDepr-3_256_8-ALL_NA-PEL-BS1-GWS_PCC_IT192_DH_2LMAEALPHA1_NZ20_PNTh0.05_AnnotThresh0.5/checkpoint-593898\n"
     ]
    },
    {
     "name": "stderr",
     "output_type": "stream",
     "text": [
      "Configuration saved in saved_models/XLNetDepr-3_256_8-ALL_NA-PEL-BS1-GWS_PCC_IT192_DH_2LMAEALPHA1_NZ20_PNTh0.05_AnnotThresh0.5/checkpoint-593898/config.json\n"
     ]
    },
    {
     "name": "stderr",
     "output_type": "stream",
     "text": [
      "Model weights saved in saved_models/XLNetDepr-3_256_8-ALL_NA-PEL-BS1-GWS_PCC_IT192_DH_2LMAEALPHA1_NZ20_PNTh0.05_AnnotThresh0.5/checkpoint-593898/pytorch_model.bin\n"
     ]
    },
    {
     "name": "stderr",
     "output_type": "stream",
     "text": [
      "Deleting older checkpoint [saved_models/XLNetDepr-3_256_8-ALL_NA-PEL-BS1-GWS_PCC_IT192_DH_2LMAEALPHA1_NZ20_PNTh0.05_AnnotThresh0.5/checkpoint-568354] due to args.save_total_limit\n"
     ]
    },
    {
     "name": "stderr",
     "output_type": "stream",
     "text": [
      "***** Running Evaluation *****\n"
     ]
    },
    {
     "name": "stderr",
     "output_type": "stream",
     "text": [
      "  Num examples = 1592\n"
     ]
    },
    {
     "name": "stderr",
     "output_type": "stream",
     "text": [
      "  Batch size = 1\n"
     ]
    },
    {
     "name": "stderr",
     "output_type": "stream",
     "text": [
      "Saving model checkpoint to saved_models/XLNetDepr-3_256_8-ALL_NA-PEL-BS1-GWS_PCC_IT192_DH_2LMAEALPHA1_NZ20_PNTh0.05_AnnotThresh0.5/checkpoint-600284\n"
     ]
    },
    {
     "name": "stderr",
     "output_type": "stream",
     "text": [
      "Configuration saved in saved_models/XLNetDepr-3_256_8-ALL_NA-PEL-BS1-GWS_PCC_IT192_DH_2LMAEALPHA1_NZ20_PNTh0.05_AnnotThresh0.5/checkpoint-600284/config.json\n"
     ]
    },
    {
     "name": "stderr",
     "output_type": "stream",
     "text": [
      "Model weights saved in saved_models/XLNetDepr-3_256_8-ALL_NA-PEL-BS1-GWS_PCC_IT192_DH_2LMAEALPHA1_NZ20_PNTh0.05_AnnotThresh0.5/checkpoint-600284/pytorch_model.bin\n"
     ]
    },
    {
     "name": "stderr",
     "output_type": "stream",
     "text": [
      "Deleting older checkpoint [saved_models/XLNetDepr-3_256_8-ALL_NA-PEL-BS1-GWS_PCC_IT192_DH_2LMAEALPHA1_NZ20_PNTh0.05_AnnotThresh0.5/checkpoint-574740] due to args.save_total_limit\n"
     ]
    },
    {
     "name": "stderr",
     "output_type": "stream",
     "text": [
      "***** Running Evaluation *****\n"
     ]
    },
    {
     "name": "stderr",
     "output_type": "stream",
     "text": [
      "  Num examples = 1592\n"
     ]
    },
    {
     "name": "stderr",
     "output_type": "stream",
     "text": [
      "  Batch size = 1\n"
     ]
    },
    {
     "name": "stderr",
     "output_type": "stream",
     "text": [
      "Saving model checkpoint to saved_models/XLNetDepr-3_256_8-ALL_NA-PEL-BS1-GWS_PCC_IT192_DH_2LMAEALPHA1_NZ20_PNTh0.05_AnnotThresh0.5/checkpoint-606670\n"
     ]
    },
    {
     "name": "stderr",
     "output_type": "stream",
     "text": [
      "Configuration saved in saved_models/XLNetDepr-3_256_8-ALL_NA-PEL-BS1-GWS_PCC_IT192_DH_2LMAEALPHA1_NZ20_PNTh0.05_AnnotThresh0.5/checkpoint-606670/config.json\n"
     ]
    },
    {
     "name": "stderr",
     "output_type": "stream",
     "text": [
      "Model weights saved in saved_models/XLNetDepr-3_256_8-ALL_NA-PEL-BS1-GWS_PCC_IT192_DH_2LMAEALPHA1_NZ20_PNTh0.05_AnnotThresh0.5/checkpoint-606670/pytorch_model.bin\n"
     ]
    },
    {
     "name": "stderr",
     "output_type": "stream",
     "text": [
      "Deleting older checkpoint [saved_models/XLNetDepr-3_256_8-ALL_NA-PEL-BS1-GWS_PCC_IT192_DH_2LMAEALPHA1_NZ20_PNTh0.05_AnnotThresh0.5/checkpoint-581126] due to args.save_total_limit\n"
     ]
    },
    {
     "name": "stderr",
     "output_type": "stream",
     "text": [
      "***** Running Evaluation *****\n"
     ]
    },
    {
     "name": "stderr",
     "output_type": "stream",
     "text": [
      "  Num examples = 1592\n"
     ]
    },
    {
     "name": "stderr",
     "output_type": "stream",
     "text": [
      "  Batch size = 1\n"
     ]
    },
    {
     "name": "stderr",
     "output_type": "stream",
     "text": [
      "Saving model checkpoint to saved_models/XLNetDepr-3_256_8-ALL_NA-PEL-BS1-GWS_PCC_IT192_DH_2LMAEALPHA1_NZ20_PNTh0.05_AnnotThresh0.5/checkpoint-613056\n"
     ]
    },
    {
     "name": "stderr",
     "output_type": "stream",
     "text": [
      "Configuration saved in saved_models/XLNetDepr-3_256_8-ALL_NA-PEL-BS1-GWS_PCC_IT192_DH_2LMAEALPHA1_NZ20_PNTh0.05_AnnotThresh0.5/checkpoint-613056/config.json\n"
     ]
    },
    {
     "name": "stderr",
     "output_type": "stream",
     "text": [
      "Model weights saved in saved_models/XLNetDepr-3_256_8-ALL_NA-PEL-BS1-GWS_PCC_IT192_DH_2LMAEALPHA1_NZ20_PNTh0.05_AnnotThresh0.5/checkpoint-613056/pytorch_model.bin\n"
     ]
    },
    {
     "name": "stderr",
     "output_type": "stream",
     "text": [
      "Deleting older checkpoint [saved_models/XLNetDepr-3_256_8-ALL_NA-PEL-BS1-GWS_PCC_IT192_DH_2LMAEALPHA1_NZ20_PNTh0.05_AnnotThresh0.5/checkpoint-587512] due to args.save_total_limit\n"
     ]
    },
    {
     "name": "stderr",
     "output_type": "stream",
     "text": [
      "***** Running Evaluation *****\n"
     ]
    },
    {
     "name": "stderr",
     "output_type": "stream",
     "text": [
      "  Num examples = 1592\n"
     ]
    },
    {
     "name": "stderr",
     "output_type": "stream",
     "text": [
      "  Batch size = 1\n"
     ]
    },
    {
     "name": "stderr",
     "output_type": "stream",
     "text": [
      "Saving model checkpoint to saved_models/XLNetDepr-3_256_8-ALL_NA-PEL-BS1-GWS_PCC_IT192_DH_2LMAEALPHA1_NZ20_PNTh0.05_AnnotThresh0.5/checkpoint-619442\n"
     ]
    },
    {
     "name": "stderr",
     "output_type": "stream",
     "text": [
      "Configuration saved in saved_models/XLNetDepr-3_256_8-ALL_NA-PEL-BS1-GWS_PCC_IT192_DH_2LMAEALPHA1_NZ20_PNTh0.05_AnnotThresh0.5/checkpoint-619442/config.json\n"
     ]
    },
    {
     "name": "stderr",
     "output_type": "stream",
     "text": [
      "Model weights saved in saved_models/XLNetDepr-3_256_8-ALL_NA-PEL-BS1-GWS_PCC_IT192_DH_2LMAEALPHA1_NZ20_PNTh0.05_AnnotThresh0.5/checkpoint-619442/pytorch_model.bin\n"
     ]
    },
    {
     "name": "stderr",
     "output_type": "stream",
     "text": [
      "Deleting older checkpoint [saved_models/XLNetDepr-3_256_8-ALL_NA-PEL-BS1-GWS_PCC_IT192_DH_2LMAEALPHA1_NZ20_PNTh0.05_AnnotThresh0.5/checkpoint-593898] due to args.save_total_limit\n"
     ]
    },
    {
     "name": "stderr",
     "output_type": "stream",
     "text": [
      "***** Running Evaluation *****\n"
     ]
    },
    {
     "name": "stderr",
     "output_type": "stream",
     "text": [
      "  Num examples = 1592\n"
     ]
    },
    {
     "name": "stderr",
     "output_type": "stream",
     "text": [
      "  Batch size = 1\n"
     ]
    },
    {
     "name": "stderr",
     "output_type": "stream",
     "text": [
      "Saving model checkpoint to saved_models/XLNetDepr-3_256_8-ALL_NA-PEL-BS1-GWS_PCC_IT192_DH_2LMAEALPHA1_NZ20_PNTh0.05_AnnotThresh0.5/checkpoint-625828\n"
     ]
    },
    {
     "name": "stderr",
     "output_type": "stream",
     "text": [
      "Configuration saved in saved_models/XLNetDepr-3_256_8-ALL_NA-PEL-BS1-GWS_PCC_IT192_DH_2LMAEALPHA1_NZ20_PNTh0.05_AnnotThresh0.5/checkpoint-625828/config.json\n"
     ]
    },
    {
     "name": "stderr",
     "output_type": "stream",
     "text": [
      "Model weights saved in saved_models/XLNetDepr-3_256_8-ALL_NA-PEL-BS1-GWS_PCC_IT192_DH_2LMAEALPHA1_NZ20_PNTh0.05_AnnotThresh0.5/checkpoint-625828/pytorch_model.bin\n"
     ]
    },
    {
     "name": "stderr",
     "output_type": "stream",
     "text": [
      "Deleting older checkpoint [saved_models/XLNetDepr-3_256_8-ALL_NA-PEL-BS1-GWS_PCC_IT192_DH_2LMAEALPHA1_NZ20_PNTh0.05_AnnotThresh0.5/checkpoint-600284] due to args.save_total_limit\n"
     ]
    },
    {
     "name": "stderr",
     "output_type": "stream",
     "text": [
      "***** Running Evaluation *****\n"
     ]
    },
    {
     "name": "stderr",
     "output_type": "stream",
     "text": [
      "  Num examples = 1592\n"
     ]
    },
    {
     "name": "stderr",
     "output_type": "stream",
     "text": [
      "  Batch size = 1\n"
     ]
    },
    {
     "name": "stderr",
     "output_type": "stream",
     "text": [
      "Saving model checkpoint to saved_models/XLNetDepr-3_256_8-ALL_NA-PEL-BS1-GWS_PCC_IT192_DH_2LMAEALPHA1_NZ20_PNTh0.05_AnnotThresh0.5/checkpoint-632214\n"
     ]
    },
    {
     "name": "stderr",
     "output_type": "stream",
     "text": [
      "Configuration saved in saved_models/XLNetDepr-3_256_8-ALL_NA-PEL-BS1-GWS_PCC_IT192_DH_2LMAEALPHA1_NZ20_PNTh0.05_AnnotThresh0.5/checkpoint-632214/config.json\n"
     ]
    },
    {
     "name": "stderr",
     "output_type": "stream",
     "text": [
      "Model weights saved in saved_models/XLNetDepr-3_256_8-ALL_NA-PEL-BS1-GWS_PCC_IT192_DH_2LMAEALPHA1_NZ20_PNTh0.05_AnnotThresh0.5/checkpoint-632214/pytorch_model.bin\n"
     ]
    },
    {
     "name": "stderr",
     "output_type": "stream",
     "text": [
      "Deleting older checkpoint [saved_models/XLNetDepr-3_256_8-ALL_NA-PEL-BS1-GWS_PCC_IT192_DH_2LMAEALPHA1_NZ20_PNTh0.05_AnnotThresh0.5/checkpoint-606670] due to args.save_total_limit\n"
     ]
    },
    {
     "name": "stderr",
     "output_type": "stream",
     "text": [
      "***** Running Evaluation *****\n"
     ]
    },
    {
     "name": "stderr",
     "output_type": "stream",
     "text": [
      "  Num examples = 1592\n"
     ]
    },
    {
     "name": "stderr",
     "output_type": "stream",
     "text": [
      "  Batch size = 1\n"
     ]
    },
    {
     "name": "stderr",
     "output_type": "stream",
     "text": [
      "Saving model checkpoint to saved_models/XLNetDepr-3_256_8-ALL_NA-PEL-BS1-GWS_PCC_IT192_DH_2LMAEALPHA1_NZ20_PNTh0.05_AnnotThresh0.5/checkpoint-638600\n"
     ]
    },
    {
     "name": "stderr",
     "output_type": "stream",
     "text": [
      "Configuration saved in saved_models/XLNetDepr-3_256_8-ALL_NA-PEL-BS1-GWS_PCC_IT192_DH_2LMAEALPHA1_NZ20_PNTh0.05_AnnotThresh0.5/checkpoint-638600/config.json\n"
     ]
    },
    {
     "name": "stderr",
     "output_type": "stream",
     "text": [
      "Model weights saved in saved_models/XLNetDepr-3_256_8-ALL_NA-PEL-BS1-GWS_PCC_IT192_DH_2LMAEALPHA1_NZ20_PNTh0.05_AnnotThresh0.5/checkpoint-638600/pytorch_model.bin\n"
     ]
    },
    {
     "name": "stderr",
     "output_type": "stream",
     "text": [
      "Deleting older checkpoint [saved_models/XLNetDepr-3_256_8-ALL_NA-PEL-BS1-GWS_PCC_IT192_DH_2LMAEALPHA1_NZ20_PNTh0.05_AnnotThresh0.5/checkpoint-613056] due to args.save_total_limit\n"
     ]
    },
    {
     "name": "stderr",
     "output_type": "stream",
     "text": [
      "***** Running Evaluation *****\n"
     ]
    },
    {
     "name": "stderr",
     "output_type": "stream",
     "text": [
      "  Num examples = 1592\n"
     ]
    },
    {
     "name": "stderr",
     "output_type": "stream",
     "text": [
      "  Batch size = 1\n"
     ]
    },
    {
     "name": "stderr",
     "output_type": "stream",
     "text": [
      "Saving model checkpoint to saved_models/XLNetDepr-3_256_8-ALL_NA-PEL-BS1-GWS_PCC_IT192_DH_2LMAEALPHA1_NZ20_PNTh0.05_AnnotThresh0.5/checkpoint-644986\n"
     ]
    },
    {
     "name": "stderr",
     "output_type": "stream",
     "text": [
      "Configuration saved in saved_models/XLNetDepr-3_256_8-ALL_NA-PEL-BS1-GWS_PCC_IT192_DH_2LMAEALPHA1_NZ20_PNTh0.05_AnnotThresh0.5/checkpoint-644986/config.json\n"
     ]
    },
    {
     "name": "stderr",
     "output_type": "stream",
     "text": [
      "Model weights saved in saved_models/XLNetDepr-3_256_8-ALL_NA-PEL-BS1-GWS_PCC_IT192_DH_2LMAEALPHA1_NZ20_PNTh0.05_AnnotThresh0.5/checkpoint-644986/pytorch_model.bin\n"
     ]
    },
    {
     "name": "stderr",
     "output_type": "stream",
     "text": [
      "Deleting older checkpoint [saved_models/XLNetDepr-3_256_8-ALL_NA-PEL-BS1-GWS_PCC_IT192_DH_2LMAEALPHA1_NZ20_PNTh0.05_AnnotThresh0.5/checkpoint-619442] due to args.save_total_limit\n"
     ]
    },
    {
     "name": "stderr",
     "output_type": "stream",
     "text": [
      "***** Running Evaluation *****\n"
     ]
    },
    {
     "name": "stderr",
     "output_type": "stream",
     "text": [
      "  Num examples = 1592\n"
     ]
    },
    {
     "name": "stderr",
     "output_type": "stream",
     "text": [
      "  Batch size = 1\n"
     ]
    },
    {
     "name": "stderr",
     "output_type": "stream",
     "text": [
      "Saving model checkpoint to saved_models/XLNetDepr-3_256_8-ALL_NA-PEL-BS1-GWS_PCC_IT192_DH_2LMAEALPHA1_NZ20_PNTh0.05_AnnotThresh0.5/checkpoint-651372\n"
     ]
    },
    {
     "name": "stderr",
     "output_type": "stream",
     "text": [
      "Configuration saved in saved_models/XLNetDepr-3_256_8-ALL_NA-PEL-BS1-GWS_PCC_IT192_DH_2LMAEALPHA1_NZ20_PNTh0.05_AnnotThresh0.5/checkpoint-651372/config.json\n"
     ]
    },
    {
     "name": "stderr",
     "output_type": "stream",
     "text": [
      "Model weights saved in saved_models/XLNetDepr-3_256_8-ALL_NA-PEL-BS1-GWS_PCC_IT192_DH_2LMAEALPHA1_NZ20_PNTh0.05_AnnotThresh0.5/checkpoint-651372/pytorch_model.bin\n"
     ]
    },
    {
     "name": "stderr",
     "output_type": "stream",
     "text": [
      "Deleting older checkpoint [saved_models/XLNetDepr-3_256_8-ALL_NA-PEL-BS1-GWS_PCC_IT192_DH_2LMAEALPHA1_NZ20_PNTh0.05_AnnotThresh0.5/checkpoint-625828] due to args.save_total_limit\n"
     ]
    },
    {
     "name": "stderr",
     "output_type": "stream",
     "text": [
      "***** Running Evaluation *****\n"
     ]
    },
    {
     "name": "stderr",
     "output_type": "stream",
     "text": [
      "  Num examples = 1592\n"
     ]
    },
    {
     "name": "stderr",
     "output_type": "stream",
     "text": [
      "  Batch size = 1\n"
     ]
    },
    {
     "name": "stderr",
     "output_type": "stream",
     "text": [
      "Saving model checkpoint to saved_models/XLNetDepr-3_256_8-ALL_NA-PEL-BS1-GWS_PCC_IT192_DH_2LMAEALPHA1_NZ20_PNTh0.05_AnnotThresh0.5/checkpoint-657758\n"
     ]
    },
    {
     "name": "stderr",
     "output_type": "stream",
     "text": [
      "Configuration saved in saved_models/XLNetDepr-3_256_8-ALL_NA-PEL-BS1-GWS_PCC_IT192_DH_2LMAEALPHA1_NZ20_PNTh0.05_AnnotThresh0.5/checkpoint-657758/config.json\n"
     ]
    },
    {
     "name": "stderr",
     "output_type": "stream",
     "text": [
      "Model weights saved in saved_models/XLNetDepr-3_256_8-ALL_NA-PEL-BS1-GWS_PCC_IT192_DH_2LMAEALPHA1_NZ20_PNTh0.05_AnnotThresh0.5/checkpoint-657758/pytorch_model.bin\n"
     ]
    },
    {
     "name": "stderr",
     "output_type": "stream",
     "text": [
      "Deleting older checkpoint [saved_models/XLNetDepr-3_256_8-ALL_NA-PEL-BS1-GWS_PCC_IT192_DH_2LMAEALPHA1_NZ20_PNTh0.05_AnnotThresh0.5/checkpoint-632214] due to args.save_total_limit\n"
     ]
    },
    {
     "name": "stderr",
     "output_type": "stream",
     "text": [
      "***** Running Evaluation *****\n"
     ]
    },
    {
     "name": "stderr",
     "output_type": "stream",
     "text": [
      "  Num examples = 1592\n"
     ]
    },
    {
     "name": "stderr",
     "output_type": "stream",
     "text": [
      "  Batch size = 1\n"
     ]
    },
    {
     "name": "stderr",
     "output_type": "stream",
     "text": [
      "Saving model checkpoint to saved_models/XLNetDepr-3_256_8-ALL_NA-PEL-BS1-GWS_PCC_IT192_DH_2LMAEALPHA1_NZ20_PNTh0.05_AnnotThresh0.5/checkpoint-664144\n"
     ]
    },
    {
     "name": "stderr",
     "output_type": "stream",
     "text": [
      "Configuration saved in saved_models/XLNetDepr-3_256_8-ALL_NA-PEL-BS1-GWS_PCC_IT192_DH_2LMAEALPHA1_NZ20_PNTh0.05_AnnotThresh0.5/checkpoint-664144/config.json\n"
     ]
    },
    {
     "name": "stderr",
     "output_type": "stream",
     "text": [
      "Model weights saved in saved_models/XLNetDepr-3_256_8-ALL_NA-PEL-BS1-GWS_PCC_IT192_DH_2LMAEALPHA1_NZ20_PNTh0.05_AnnotThresh0.5/checkpoint-664144/pytorch_model.bin\n"
     ]
    },
    {
     "name": "stderr",
     "output_type": "stream",
     "text": [
      "Deleting older checkpoint [saved_models/XLNetDepr-3_256_8-ALL_NA-PEL-BS1-GWS_PCC_IT192_DH_2LMAEALPHA1_NZ20_PNTh0.05_AnnotThresh0.5/checkpoint-638600] due to args.save_total_limit\n"
     ]
    },
    {
     "name": "stderr",
     "output_type": "stream",
     "text": [
      "***** Running Evaluation *****\n"
     ]
    },
    {
     "name": "stderr",
     "output_type": "stream",
     "text": [
      "  Num examples = 1592\n"
     ]
    },
    {
     "name": "stderr",
     "output_type": "stream",
     "text": [
      "  Batch size = 1\n"
     ]
    },
    {
     "name": "stderr",
     "output_type": "stream",
     "text": [
      "Saving model checkpoint to saved_models/XLNetDepr-3_256_8-ALL_NA-PEL-BS1-GWS_PCC_IT192_DH_2LMAEALPHA1_NZ20_PNTh0.05_AnnotThresh0.5/checkpoint-670530\n"
     ]
    },
    {
     "name": "stderr",
     "output_type": "stream",
     "text": [
      "Configuration saved in saved_models/XLNetDepr-3_256_8-ALL_NA-PEL-BS1-GWS_PCC_IT192_DH_2LMAEALPHA1_NZ20_PNTh0.05_AnnotThresh0.5/checkpoint-670530/config.json\n"
     ]
    },
    {
     "name": "stderr",
     "output_type": "stream",
     "text": [
      "Model weights saved in saved_models/XLNetDepr-3_256_8-ALL_NA-PEL-BS1-GWS_PCC_IT192_DH_2LMAEALPHA1_NZ20_PNTh0.05_AnnotThresh0.5/checkpoint-670530/pytorch_model.bin\n"
     ]
    },
    {
     "name": "stderr",
     "output_type": "stream",
     "text": [
      "Deleting older checkpoint [saved_models/XLNetDepr-3_256_8-ALL_NA-PEL-BS1-GWS_PCC_IT192_DH_2LMAEALPHA1_NZ20_PNTh0.05_AnnotThresh0.5/checkpoint-644986] due to args.save_total_limit\n"
     ]
    },
    {
     "name": "stderr",
     "output_type": "stream",
     "text": [
      "***** Running Evaluation *****\n"
     ]
    },
    {
     "name": "stderr",
     "output_type": "stream",
     "text": [
      "  Num examples = 1592\n"
     ]
    },
    {
     "name": "stderr",
     "output_type": "stream",
     "text": [
      "  Batch size = 1\n"
     ]
    },
    {
     "name": "stderr",
     "output_type": "stream",
     "text": [
      "Saving model checkpoint to saved_models/XLNetDepr-3_256_8-ALL_NA-PEL-BS1-GWS_PCC_IT192_DH_2LMAEALPHA1_NZ20_PNTh0.05_AnnotThresh0.5/checkpoint-676916\n"
     ]
    },
    {
     "name": "stderr",
     "output_type": "stream",
     "text": [
      "Configuration saved in saved_models/XLNetDepr-3_256_8-ALL_NA-PEL-BS1-GWS_PCC_IT192_DH_2LMAEALPHA1_NZ20_PNTh0.05_AnnotThresh0.5/checkpoint-676916/config.json\n"
     ]
    },
    {
     "name": "stderr",
     "output_type": "stream",
     "text": [
      "Model weights saved in saved_models/XLNetDepr-3_256_8-ALL_NA-PEL-BS1-GWS_PCC_IT192_DH_2LMAEALPHA1_NZ20_PNTh0.05_AnnotThresh0.5/checkpoint-676916/pytorch_model.bin\n"
     ]
    },
    {
     "name": "stderr",
     "output_type": "stream",
     "text": [
      "Deleting older checkpoint [saved_models/XLNetDepr-3_256_8-ALL_NA-PEL-BS1-GWS_PCC_IT192_DH_2LMAEALPHA1_NZ20_PNTh0.05_AnnotThresh0.5/checkpoint-651372] due to args.save_total_limit\n"
     ]
    },
    {
     "name": "stderr",
     "output_type": "stream",
     "text": [
      "***** Running Evaluation *****\n"
     ]
    },
    {
     "name": "stderr",
     "output_type": "stream",
     "text": [
      "  Num examples = 1592\n"
     ]
    },
    {
     "name": "stderr",
     "output_type": "stream",
     "text": [
      "  Batch size = 1\n"
     ]
    },
    {
     "name": "stderr",
     "output_type": "stream",
     "text": [
      "Saving model checkpoint to saved_models/XLNetDepr-3_256_8-ALL_NA-PEL-BS1-GWS_PCC_IT192_DH_2LMAEALPHA1_NZ20_PNTh0.05_AnnotThresh0.5/checkpoint-683302\n"
     ]
    },
    {
     "name": "stderr",
     "output_type": "stream",
     "text": [
      "Configuration saved in saved_models/XLNetDepr-3_256_8-ALL_NA-PEL-BS1-GWS_PCC_IT192_DH_2LMAEALPHA1_NZ20_PNTh0.05_AnnotThresh0.5/checkpoint-683302/config.json\n"
     ]
    },
    {
     "name": "stderr",
     "output_type": "stream",
     "text": [
      "Model weights saved in saved_models/XLNetDepr-3_256_8-ALL_NA-PEL-BS1-GWS_PCC_IT192_DH_2LMAEALPHA1_NZ20_PNTh0.05_AnnotThresh0.5/checkpoint-683302/pytorch_model.bin\n"
     ]
    },
    {
     "name": "stderr",
     "output_type": "stream",
     "text": [
      "Deleting older checkpoint [saved_models/XLNetDepr-3_256_8-ALL_NA-PEL-BS1-GWS_PCC_IT192_DH_2LMAEALPHA1_NZ20_PNTh0.05_AnnotThresh0.5/checkpoint-657758] due to args.save_total_limit\n"
     ]
    },
    {
     "name": "stderr",
     "output_type": "stream",
     "text": [
      "***** Running Evaluation *****\n"
     ]
    },
    {
     "name": "stderr",
     "output_type": "stream",
     "text": [
      "  Num examples = 1592\n"
     ]
    },
    {
     "name": "stderr",
     "output_type": "stream",
     "text": [
      "  Batch size = 1\n"
     ]
    },
    {
     "name": "stderr",
     "output_type": "stream",
     "text": [
      "Saving model checkpoint to saved_models/XLNetDepr-3_256_8-ALL_NA-PEL-BS1-GWS_PCC_IT192_DH_2LMAEALPHA1_NZ20_PNTh0.05_AnnotThresh0.5/checkpoint-689688\n"
     ]
    },
    {
     "name": "stderr",
     "output_type": "stream",
     "text": [
      "Configuration saved in saved_models/XLNetDepr-3_256_8-ALL_NA-PEL-BS1-GWS_PCC_IT192_DH_2LMAEALPHA1_NZ20_PNTh0.05_AnnotThresh0.5/checkpoint-689688/config.json\n"
     ]
    },
    {
     "name": "stderr",
     "output_type": "stream",
     "text": [
      "Model weights saved in saved_models/XLNetDepr-3_256_8-ALL_NA-PEL-BS1-GWS_PCC_IT192_DH_2LMAEALPHA1_NZ20_PNTh0.05_AnnotThresh0.5/checkpoint-689688/pytorch_model.bin\n"
     ]
    },
    {
     "name": "stderr",
     "output_type": "stream",
     "text": [
      "Deleting older checkpoint [saved_models/XLNetDepr-3_256_8-ALL_NA-PEL-BS1-GWS_PCC_IT192_DH_2LMAEALPHA1_NZ20_PNTh0.05_AnnotThresh0.5/checkpoint-664144] due to args.save_total_limit\n"
     ]
    },
    {
     "name": "stderr",
     "output_type": "stream",
     "text": [
      "***** Running Evaluation *****\n"
     ]
    },
    {
     "name": "stderr",
     "output_type": "stream",
     "text": [
      "  Num examples = 1592\n"
     ]
    },
    {
     "name": "stderr",
     "output_type": "stream",
     "text": [
      "  Batch size = 1\n"
     ]
    },
    {
     "name": "stderr",
     "output_type": "stream",
     "text": [
      "Saving model checkpoint to saved_models/XLNetDepr-3_256_8-ALL_NA-PEL-BS1-GWS_PCC_IT192_DH_2LMAEALPHA1_NZ20_PNTh0.05_AnnotThresh0.5/checkpoint-696074\n"
     ]
    },
    {
     "name": "stderr",
     "output_type": "stream",
     "text": [
      "Configuration saved in saved_models/XLNetDepr-3_256_8-ALL_NA-PEL-BS1-GWS_PCC_IT192_DH_2LMAEALPHA1_NZ20_PNTh0.05_AnnotThresh0.5/checkpoint-696074/config.json\n"
     ]
    },
    {
     "name": "stderr",
     "output_type": "stream",
     "text": [
      "Model weights saved in saved_models/XLNetDepr-3_256_8-ALL_NA-PEL-BS1-GWS_PCC_IT192_DH_2LMAEALPHA1_NZ20_PNTh0.05_AnnotThresh0.5/checkpoint-696074/pytorch_model.bin\n"
     ]
    },
    {
     "name": "stderr",
     "output_type": "stream",
     "text": [
      "Deleting older checkpoint [saved_models/XLNetDepr-3_256_8-ALL_NA-PEL-BS1-GWS_PCC_IT192_DH_2LMAEALPHA1_NZ20_PNTh0.05_AnnotThresh0.5/checkpoint-670530] due to args.save_total_limit\n"
     ]
    },
    {
     "name": "stderr",
     "output_type": "stream",
     "text": [
      "***** Running Evaluation *****\n"
     ]
    },
    {
     "name": "stderr",
     "output_type": "stream",
     "text": [
      "  Num examples = 1592\n"
     ]
    },
    {
     "name": "stderr",
     "output_type": "stream",
     "text": [
      "  Batch size = 1\n"
     ]
    },
    {
     "name": "stderr",
     "output_type": "stream",
     "text": [
      "Saving model checkpoint to saved_models/XLNetDepr-3_256_8-ALL_NA-PEL-BS1-GWS_PCC_IT192_DH_2LMAEALPHA1_NZ20_PNTh0.05_AnnotThresh0.5/checkpoint-702460\n"
     ]
    },
    {
     "name": "stderr",
     "output_type": "stream",
     "text": [
      "Configuration saved in saved_models/XLNetDepr-3_256_8-ALL_NA-PEL-BS1-GWS_PCC_IT192_DH_2LMAEALPHA1_NZ20_PNTh0.05_AnnotThresh0.5/checkpoint-702460/config.json\n"
     ]
    },
    {
     "name": "stderr",
     "output_type": "stream",
     "text": [
      "Model weights saved in saved_models/XLNetDepr-3_256_8-ALL_NA-PEL-BS1-GWS_PCC_IT192_DH_2LMAEALPHA1_NZ20_PNTh0.05_AnnotThresh0.5/checkpoint-702460/pytorch_model.bin\n"
     ]
    },
    {
     "name": "stderr",
     "output_type": "stream",
     "text": [
      "Deleting older checkpoint [saved_models/XLNetDepr-3_256_8-ALL_NA-PEL-BS1-GWS_PCC_IT192_DH_2LMAEALPHA1_NZ20_PNTh0.05_AnnotThresh0.5/checkpoint-676916] due to args.save_total_limit\n"
     ]
    },
    {
     "name": "stderr",
     "output_type": "stream",
     "text": [
      "***** Running Evaluation *****\n"
     ]
    },
    {
     "name": "stderr",
     "output_type": "stream",
     "text": [
      "  Num examples = 1592\n"
     ]
    },
    {
     "name": "stderr",
     "output_type": "stream",
     "text": [
      "  Batch size = 1\n"
     ]
    },
    {
     "name": "stderr",
     "output_type": "stream",
     "text": [
      "Saving model checkpoint to saved_models/XLNetDepr-3_256_8-ALL_NA-PEL-BS1-GWS_PCC_IT192_DH_2LMAEALPHA1_NZ20_PNTh0.05_AnnotThresh0.5/checkpoint-708846\n"
     ]
    },
    {
     "name": "stderr",
     "output_type": "stream",
     "text": [
      "Configuration saved in saved_models/XLNetDepr-3_256_8-ALL_NA-PEL-BS1-GWS_PCC_IT192_DH_2LMAEALPHA1_NZ20_PNTh0.05_AnnotThresh0.5/checkpoint-708846/config.json\n"
     ]
    },
    {
     "name": "stderr",
     "output_type": "stream",
     "text": [
      "Model weights saved in saved_models/XLNetDepr-3_256_8-ALL_NA-PEL-BS1-GWS_PCC_IT192_DH_2LMAEALPHA1_NZ20_PNTh0.05_AnnotThresh0.5/checkpoint-708846/pytorch_model.bin\n"
     ]
    },
    {
     "name": "stderr",
     "output_type": "stream",
     "text": [
      "Deleting older checkpoint [saved_models/XLNetDepr-3_256_8-ALL_NA-PEL-BS1-GWS_PCC_IT192_DH_2LMAEALPHA1_NZ20_PNTh0.05_AnnotThresh0.5/checkpoint-683302] due to args.save_total_limit\n"
     ]
    },
    {
     "name": "stderr",
     "output_type": "stream",
     "text": [
      "***** Running Evaluation *****\n"
     ]
    },
    {
     "name": "stderr",
     "output_type": "stream",
     "text": [
      "  Num examples = 1592\n"
     ]
    },
    {
     "name": "stderr",
     "output_type": "stream",
     "text": [
      "  Batch size = 1\n"
     ]
    },
    {
     "name": "stderr",
     "output_type": "stream",
     "text": [
      "Saving model checkpoint to saved_models/XLNetDepr-3_256_8-ALL_NA-PEL-BS1-GWS_PCC_IT192_DH_2LMAEALPHA1_NZ20_PNTh0.05_AnnotThresh0.5/checkpoint-715232\n"
     ]
    },
    {
     "name": "stderr",
     "output_type": "stream",
     "text": [
      "Configuration saved in saved_models/XLNetDepr-3_256_8-ALL_NA-PEL-BS1-GWS_PCC_IT192_DH_2LMAEALPHA1_NZ20_PNTh0.05_AnnotThresh0.5/checkpoint-715232/config.json\n"
     ]
    },
    {
     "name": "stderr",
     "output_type": "stream",
     "text": [
      "Model weights saved in saved_models/XLNetDepr-3_256_8-ALL_NA-PEL-BS1-GWS_PCC_IT192_DH_2LMAEALPHA1_NZ20_PNTh0.05_AnnotThresh0.5/checkpoint-715232/pytorch_model.bin\n"
     ]
    },
    {
     "name": "stderr",
     "output_type": "stream",
     "text": [
      "Deleting older checkpoint [saved_models/XLNetDepr-3_256_8-ALL_NA-PEL-BS1-GWS_PCC_IT192_DH_2LMAEALPHA1_NZ20_PNTh0.05_AnnotThresh0.5/checkpoint-689688] due to args.save_total_limit\n"
     ]
    },
    {
     "name": "stderr",
     "output_type": "stream",
     "text": [
      "***** Running Evaluation *****\n"
     ]
    },
    {
     "name": "stderr",
     "output_type": "stream",
     "text": [
      "  Num examples = 1592\n"
     ]
    },
    {
     "name": "stderr",
     "output_type": "stream",
     "text": [
      "  Batch size = 1\n"
     ]
    },
    {
     "name": "stderr",
     "output_type": "stream",
     "text": [
      "Saving model checkpoint to saved_models/XLNetDepr-3_256_8-ALL_NA-PEL-BS1-GWS_PCC_IT192_DH_2LMAEALPHA1_NZ20_PNTh0.05_AnnotThresh0.5/checkpoint-721618\n"
     ]
    },
    {
     "name": "stderr",
     "output_type": "stream",
     "text": [
      "Configuration saved in saved_models/XLNetDepr-3_256_8-ALL_NA-PEL-BS1-GWS_PCC_IT192_DH_2LMAEALPHA1_NZ20_PNTh0.05_AnnotThresh0.5/checkpoint-721618/config.json\n"
     ]
    },
    {
     "name": "stderr",
     "output_type": "stream",
     "text": [
      "Model weights saved in saved_models/XLNetDepr-3_256_8-ALL_NA-PEL-BS1-GWS_PCC_IT192_DH_2LMAEALPHA1_NZ20_PNTh0.05_AnnotThresh0.5/checkpoint-721618/pytorch_model.bin\n"
     ]
    },
    {
     "name": "stderr",
     "output_type": "stream",
     "text": [
      "Deleting older checkpoint [saved_models/XLNetDepr-3_256_8-ALL_NA-PEL-BS1-GWS_PCC_IT192_DH_2LMAEALPHA1_NZ20_PNTh0.05_AnnotThresh0.5/checkpoint-696074] due to args.save_total_limit\n"
     ]
    },
    {
     "name": "stderr",
     "output_type": "stream",
     "text": [
      "***** Running Evaluation *****\n"
     ]
    },
    {
     "name": "stderr",
     "output_type": "stream",
     "text": [
      "  Num examples = 1592\n"
     ]
    },
    {
     "name": "stderr",
     "output_type": "stream",
     "text": [
      "  Batch size = 1\n"
     ]
    },
    {
     "name": "stderr",
     "output_type": "stream",
     "text": [
      "Saving model checkpoint to saved_models/XLNetDepr-3_256_8-ALL_NA-PEL-BS1-GWS_PCC_IT192_DH_2LMAEALPHA1_NZ20_PNTh0.05_AnnotThresh0.5/checkpoint-728004\n"
     ]
    },
    {
     "name": "stderr",
     "output_type": "stream",
     "text": [
      "Configuration saved in saved_models/XLNetDepr-3_256_8-ALL_NA-PEL-BS1-GWS_PCC_IT192_DH_2LMAEALPHA1_NZ20_PNTh0.05_AnnotThresh0.5/checkpoint-728004/config.json\n"
     ]
    },
    {
     "name": "stderr",
     "output_type": "stream",
     "text": [
      "Model weights saved in saved_models/XLNetDepr-3_256_8-ALL_NA-PEL-BS1-GWS_PCC_IT192_DH_2LMAEALPHA1_NZ20_PNTh0.05_AnnotThresh0.5/checkpoint-728004/pytorch_model.bin\n"
     ]
    },
    {
     "name": "stderr",
     "output_type": "stream",
     "text": [
      "Deleting older checkpoint [saved_models/XLNetDepr-3_256_8-ALL_NA-PEL-BS1-GWS_PCC_IT192_DH_2LMAEALPHA1_NZ20_PNTh0.05_AnnotThresh0.5/checkpoint-702460] due to args.save_total_limit\n"
     ]
    },
    {
     "name": "stderr",
     "output_type": "stream",
     "text": [
      "***** Running Evaluation *****\n"
     ]
    },
    {
     "name": "stderr",
     "output_type": "stream",
     "text": [
      "  Num examples = 1592\n"
     ]
    },
    {
     "name": "stderr",
     "output_type": "stream",
     "text": [
      "  Batch size = 1\n"
     ]
    },
    {
     "name": "stderr",
     "output_type": "stream",
     "text": [
      "Saving model checkpoint to saved_models/XLNetDepr-3_256_8-ALL_NA-PEL-BS1-GWS_PCC_IT192_DH_2LMAEALPHA1_NZ20_PNTh0.05_AnnotThresh0.5/checkpoint-734390\n"
     ]
    },
    {
     "name": "stderr",
     "output_type": "stream",
     "text": [
      "Configuration saved in saved_models/XLNetDepr-3_256_8-ALL_NA-PEL-BS1-GWS_PCC_IT192_DH_2LMAEALPHA1_NZ20_PNTh0.05_AnnotThresh0.5/checkpoint-734390/config.json\n"
     ]
    },
    {
     "name": "stderr",
     "output_type": "stream",
     "text": [
      "Model weights saved in saved_models/XLNetDepr-3_256_8-ALL_NA-PEL-BS1-GWS_PCC_IT192_DH_2LMAEALPHA1_NZ20_PNTh0.05_AnnotThresh0.5/checkpoint-734390/pytorch_model.bin\n"
     ]
    },
    {
     "name": "stderr",
     "output_type": "stream",
     "text": [
      "Deleting older checkpoint [saved_models/XLNetDepr-3_256_8-ALL_NA-PEL-BS1-GWS_PCC_IT192_DH_2LMAEALPHA1_NZ20_PNTh0.05_AnnotThresh0.5/checkpoint-708846] due to args.save_total_limit\n"
     ]
    },
    {
     "name": "stderr",
     "output_type": "stream",
     "text": [
      "***** Running Evaluation *****\n"
     ]
    },
    {
     "name": "stderr",
     "output_type": "stream",
     "text": [
      "  Num examples = 1592\n"
     ]
    },
    {
     "name": "stderr",
     "output_type": "stream",
     "text": [
      "  Batch size = 1\n"
     ]
    },
    {
     "name": "stderr",
     "output_type": "stream",
     "text": [
      "Saving model checkpoint to saved_models/XLNetDepr-3_256_8-ALL_NA-PEL-BS1-GWS_PCC_IT192_DH_2LMAEALPHA1_NZ20_PNTh0.05_AnnotThresh0.5/checkpoint-740776\n"
     ]
    },
    {
     "name": "stderr",
     "output_type": "stream",
     "text": [
      "Configuration saved in saved_models/XLNetDepr-3_256_8-ALL_NA-PEL-BS1-GWS_PCC_IT192_DH_2LMAEALPHA1_NZ20_PNTh0.05_AnnotThresh0.5/checkpoint-740776/config.json\n"
     ]
    },
    {
     "name": "stderr",
     "output_type": "stream",
     "text": [
      "Model weights saved in saved_models/XLNetDepr-3_256_8-ALL_NA-PEL-BS1-GWS_PCC_IT192_DH_2LMAEALPHA1_NZ20_PNTh0.05_AnnotThresh0.5/checkpoint-740776/pytorch_model.bin\n"
     ]
    },
    {
     "name": "stderr",
     "output_type": "stream",
     "text": [
      "Deleting older checkpoint [saved_models/XLNetDepr-3_256_8-ALL_NA-PEL-BS1-GWS_PCC_IT192_DH_2LMAEALPHA1_NZ20_PNTh0.05_AnnotThresh0.5/checkpoint-715232] due to args.save_total_limit\n"
     ]
    },
    {
     "name": "stderr",
     "output_type": "stream",
     "text": [
      "***** Running Evaluation *****\n"
     ]
    },
    {
     "name": "stderr",
     "output_type": "stream",
     "text": [
      "  Num examples = 1592\n"
     ]
    },
    {
     "name": "stderr",
     "output_type": "stream",
     "text": [
      "  Batch size = 1\n"
     ]
    },
    {
     "name": "stderr",
     "output_type": "stream",
     "text": [
      "Saving model checkpoint to saved_models/XLNetDepr-3_256_8-ALL_NA-PEL-BS1-GWS_PCC_IT192_DH_2LMAEALPHA1_NZ20_PNTh0.05_AnnotThresh0.5/checkpoint-747162\n"
     ]
    },
    {
     "name": "stderr",
     "output_type": "stream",
     "text": [
      "Configuration saved in saved_models/XLNetDepr-3_256_8-ALL_NA-PEL-BS1-GWS_PCC_IT192_DH_2LMAEALPHA1_NZ20_PNTh0.05_AnnotThresh0.5/checkpoint-747162/config.json\n"
     ]
    },
    {
     "name": "stderr",
     "output_type": "stream",
     "text": [
      "Model weights saved in saved_models/XLNetDepr-3_256_8-ALL_NA-PEL-BS1-GWS_PCC_IT192_DH_2LMAEALPHA1_NZ20_PNTh0.05_AnnotThresh0.5/checkpoint-747162/pytorch_model.bin\n"
     ]
    },
    {
     "name": "stderr",
     "output_type": "stream",
     "text": [
      "Deleting older checkpoint [saved_models/XLNetDepr-3_256_8-ALL_NA-PEL-BS1-GWS_PCC_IT192_DH_2LMAEALPHA1_NZ20_PNTh0.05_AnnotThresh0.5/checkpoint-721618] due to args.save_total_limit\n"
     ]
    },
    {
     "name": "stderr",
     "output_type": "stream",
     "text": [
      "***** Running Evaluation *****\n"
     ]
    },
    {
     "name": "stderr",
     "output_type": "stream",
     "text": [
      "  Num examples = 1592\n"
     ]
    },
    {
     "name": "stderr",
     "output_type": "stream",
     "text": [
      "  Batch size = 1\n"
     ]
    },
    {
     "name": "stderr",
     "output_type": "stream",
     "text": [
      "Saving model checkpoint to saved_models/XLNetDepr-3_256_8-ALL_NA-PEL-BS1-GWS_PCC_IT192_DH_2LMAEALPHA1_NZ20_PNTh0.05_AnnotThresh0.5/checkpoint-753548\n"
     ]
    },
    {
     "name": "stderr",
     "output_type": "stream",
     "text": [
      "Configuration saved in saved_models/XLNetDepr-3_256_8-ALL_NA-PEL-BS1-GWS_PCC_IT192_DH_2LMAEALPHA1_NZ20_PNTh0.05_AnnotThresh0.5/checkpoint-753548/config.json\n"
     ]
    },
    {
     "name": "stderr",
     "output_type": "stream",
     "text": [
      "Model weights saved in saved_models/XLNetDepr-3_256_8-ALL_NA-PEL-BS1-GWS_PCC_IT192_DH_2LMAEALPHA1_NZ20_PNTh0.05_AnnotThresh0.5/checkpoint-753548/pytorch_model.bin\n"
     ]
    },
    {
     "name": "stderr",
     "output_type": "stream",
     "text": [
      "Deleting older checkpoint [saved_models/XLNetDepr-3_256_8-ALL_NA-PEL-BS1-GWS_PCC_IT192_DH_2LMAEALPHA1_NZ20_PNTh0.05_AnnotThresh0.5/checkpoint-728004] due to args.save_total_limit\n"
     ]
    },
    {
     "name": "stderr",
     "output_type": "stream",
     "text": [
      "***** Running Evaluation *****\n"
     ]
    },
    {
     "name": "stderr",
     "output_type": "stream",
     "text": [
      "  Num examples = 1592\n"
     ]
    },
    {
     "name": "stderr",
     "output_type": "stream",
     "text": [
      "  Batch size = 1\n"
     ]
    },
    {
     "name": "stderr",
     "output_type": "stream",
     "text": [
      "Saving model checkpoint to saved_models/XLNetDepr-3_256_8-ALL_NA-PEL-BS1-GWS_PCC_IT192_DH_2LMAEALPHA1_NZ20_PNTh0.05_AnnotThresh0.5/checkpoint-759934\n"
     ]
    },
    {
     "name": "stderr",
     "output_type": "stream",
     "text": [
      "Configuration saved in saved_models/XLNetDepr-3_256_8-ALL_NA-PEL-BS1-GWS_PCC_IT192_DH_2LMAEALPHA1_NZ20_PNTh0.05_AnnotThresh0.5/checkpoint-759934/config.json\n"
     ]
    },
    {
     "name": "stderr",
     "output_type": "stream",
     "text": [
      "Model weights saved in saved_models/XLNetDepr-3_256_8-ALL_NA-PEL-BS1-GWS_PCC_IT192_DH_2LMAEALPHA1_NZ20_PNTh0.05_AnnotThresh0.5/checkpoint-759934/pytorch_model.bin\n"
     ]
    },
    {
     "name": "stderr",
     "output_type": "stream",
     "text": [
      "Deleting older checkpoint [saved_models/XLNetDepr-3_256_8-ALL_NA-PEL-BS1-GWS_PCC_IT192_DH_2LMAEALPHA1_NZ20_PNTh0.05_AnnotThresh0.5/checkpoint-734390] due to args.save_total_limit\n"
     ]
    },
    {
     "name": "stderr",
     "output_type": "stream",
     "text": [
      "***** Running Evaluation *****\n"
     ]
    },
    {
     "name": "stderr",
     "output_type": "stream",
     "text": [
      "  Num examples = 1592\n"
     ]
    },
    {
     "name": "stderr",
     "output_type": "stream",
     "text": [
      "  Batch size = 1\n"
     ]
    },
    {
     "name": "stderr",
     "output_type": "stream",
     "text": [
      "Saving model checkpoint to saved_models/XLNetDepr-3_256_8-ALL_NA-PEL-BS1-GWS_PCC_IT192_DH_2LMAEALPHA1_NZ20_PNTh0.05_AnnotThresh0.5/checkpoint-766320\n"
     ]
    },
    {
     "name": "stderr",
     "output_type": "stream",
     "text": [
      "Configuration saved in saved_models/XLNetDepr-3_256_8-ALL_NA-PEL-BS1-GWS_PCC_IT192_DH_2LMAEALPHA1_NZ20_PNTh0.05_AnnotThresh0.5/checkpoint-766320/config.json\n"
     ]
    },
    {
     "name": "stderr",
     "output_type": "stream",
     "text": [
      "Model weights saved in saved_models/XLNetDepr-3_256_8-ALL_NA-PEL-BS1-GWS_PCC_IT192_DH_2LMAEALPHA1_NZ20_PNTh0.05_AnnotThresh0.5/checkpoint-766320/pytorch_model.bin\n"
     ]
    },
    {
     "name": "stderr",
     "output_type": "stream",
     "text": [
      "Deleting older checkpoint [saved_models/XLNetDepr-3_256_8-ALL_NA-PEL-BS1-GWS_PCC_IT192_DH_2LMAEALPHA1_NZ20_PNTh0.05_AnnotThresh0.5/checkpoint-740776] due to args.save_total_limit\n"
     ]
    },
    {
     "name": "stderr",
     "output_type": "stream",
     "text": [
      "***** Running Evaluation *****\n"
     ]
    },
    {
     "name": "stderr",
     "output_type": "stream",
     "text": [
      "  Num examples = 1592\n"
     ]
    },
    {
     "name": "stderr",
     "output_type": "stream",
     "text": [
      "  Batch size = 1\n"
     ]
    },
    {
     "name": "stderr",
     "output_type": "stream",
     "text": [
      "Saving model checkpoint to saved_models/XLNetDepr-3_256_8-ALL_NA-PEL-BS1-GWS_PCC_IT192_DH_2LMAEALPHA1_NZ20_PNTh0.05_AnnotThresh0.5/checkpoint-772706\n"
     ]
    },
    {
     "name": "stderr",
     "output_type": "stream",
     "text": [
      "Configuration saved in saved_models/XLNetDepr-3_256_8-ALL_NA-PEL-BS1-GWS_PCC_IT192_DH_2LMAEALPHA1_NZ20_PNTh0.05_AnnotThresh0.5/checkpoint-772706/config.json\n"
     ]
    },
    {
     "name": "stderr",
     "output_type": "stream",
     "text": [
      "Model weights saved in saved_models/XLNetDepr-3_256_8-ALL_NA-PEL-BS1-GWS_PCC_IT192_DH_2LMAEALPHA1_NZ20_PNTh0.05_AnnotThresh0.5/checkpoint-772706/pytorch_model.bin\n"
     ]
    },
    {
     "name": "stderr",
     "output_type": "stream",
     "text": [
      "Deleting older checkpoint [saved_models/XLNetDepr-3_256_8-ALL_NA-PEL-BS1-GWS_PCC_IT192_DH_2LMAEALPHA1_NZ20_PNTh0.05_AnnotThresh0.5/checkpoint-747162] due to args.save_total_limit\n"
     ]
    },
    {
     "name": "stderr",
     "output_type": "stream",
     "text": [
      "***** Running Evaluation *****\n"
     ]
    },
    {
     "name": "stderr",
     "output_type": "stream",
     "text": [
      "  Num examples = 1592\n"
     ]
    },
    {
     "name": "stderr",
     "output_type": "stream",
     "text": [
      "  Batch size = 1\n"
     ]
    },
    {
     "name": "stderr",
     "output_type": "stream",
     "text": [
      "Saving model checkpoint to saved_models/XLNetDepr-3_256_8-ALL_NA-PEL-BS1-GWS_PCC_IT192_DH_2LMAEALPHA1_NZ20_PNTh0.05_AnnotThresh0.5/checkpoint-779092\n"
     ]
    },
    {
     "name": "stderr",
     "output_type": "stream",
     "text": [
      "Configuration saved in saved_models/XLNetDepr-3_256_8-ALL_NA-PEL-BS1-GWS_PCC_IT192_DH_2LMAEALPHA1_NZ20_PNTh0.05_AnnotThresh0.5/checkpoint-779092/config.json\n"
     ]
    },
    {
     "name": "stderr",
     "output_type": "stream",
     "text": [
      "Model weights saved in saved_models/XLNetDepr-3_256_8-ALL_NA-PEL-BS1-GWS_PCC_IT192_DH_2LMAEALPHA1_NZ20_PNTh0.05_AnnotThresh0.5/checkpoint-779092/pytorch_model.bin\n"
     ]
    },
    {
     "name": "stderr",
     "output_type": "stream",
     "text": [
      "Deleting older checkpoint [saved_models/XLNetDepr-3_256_8-ALL_NA-PEL-BS1-GWS_PCC_IT192_DH_2LMAEALPHA1_NZ20_PNTh0.05_AnnotThresh0.5/checkpoint-753548] due to args.save_total_limit\n"
     ]
    },
    {
     "name": "stderr",
     "output_type": "stream",
     "text": [
      "***** Running Evaluation *****\n"
     ]
    },
    {
     "name": "stderr",
     "output_type": "stream",
     "text": [
      "  Num examples = 1592\n"
     ]
    },
    {
     "name": "stderr",
     "output_type": "stream",
     "text": [
      "  Batch size = 1\n"
     ]
    },
    {
     "name": "stderr",
     "output_type": "stream",
     "text": [
      "Saving model checkpoint to saved_models/XLNetDepr-3_256_8-ALL_NA-PEL-BS1-GWS_PCC_IT192_DH_2LMAEALPHA1_NZ20_PNTh0.05_AnnotThresh0.5/checkpoint-785478\n"
     ]
    },
    {
     "name": "stderr",
     "output_type": "stream",
     "text": [
      "Configuration saved in saved_models/XLNetDepr-3_256_8-ALL_NA-PEL-BS1-GWS_PCC_IT192_DH_2LMAEALPHA1_NZ20_PNTh0.05_AnnotThresh0.5/checkpoint-785478/config.json\n"
     ]
    },
    {
     "name": "stderr",
     "output_type": "stream",
     "text": [
      "Model weights saved in saved_models/XLNetDepr-3_256_8-ALL_NA-PEL-BS1-GWS_PCC_IT192_DH_2LMAEALPHA1_NZ20_PNTh0.05_AnnotThresh0.5/checkpoint-785478/pytorch_model.bin\n"
     ]
    },
    {
     "name": "stderr",
     "output_type": "stream",
     "text": [
      "Deleting older checkpoint [saved_models/XLNetDepr-3_256_8-ALL_NA-PEL-BS1-GWS_PCC_IT192_DH_2LMAEALPHA1_NZ20_PNTh0.05_AnnotThresh0.5/checkpoint-759934] due to args.save_total_limit\n"
     ]
    },
    {
     "name": "stderr",
     "output_type": "stream",
     "text": [
      "***** Running Evaluation *****\n"
     ]
    },
    {
     "name": "stderr",
     "output_type": "stream",
     "text": [
      "  Num examples = 1592\n"
     ]
    },
    {
     "name": "stderr",
     "output_type": "stream",
     "text": [
      "  Batch size = 1\n"
     ]
    },
    {
     "name": "stderr",
     "output_type": "stream",
     "text": [
      "Saving model checkpoint to saved_models/XLNetDepr-3_256_8-ALL_NA-PEL-BS1-GWS_PCC_IT192_DH_2LMAEALPHA1_NZ20_PNTh0.05_AnnotThresh0.5/checkpoint-791864\n"
     ]
    },
    {
     "name": "stderr",
     "output_type": "stream",
     "text": [
      "Configuration saved in saved_models/XLNetDepr-3_256_8-ALL_NA-PEL-BS1-GWS_PCC_IT192_DH_2LMAEALPHA1_NZ20_PNTh0.05_AnnotThresh0.5/checkpoint-791864/config.json\n"
     ]
    },
    {
     "name": "stderr",
     "output_type": "stream",
     "text": [
      "Model weights saved in saved_models/XLNetDepr-3_256_8-ALL_NA-PEL-BS1-GWS_PCC_IT192_DH_2LMAEALPHA1_NZ20_PNTh0.05_AnnotThresh0.5/checkpoint-791864/pytorch_model.bin\n"
     ]
    },
    {
     "name": "stderr",
     "output_type": "stream",
     "text": [
      "Deleting older checkpoint [saved_models/XLNetDepr-3_256_8-ALL_NA-PEL-BS1-GWS_PCC_IT192_DH_2LMAEALPHA1_NZ20_PNTh0.05_AnnotThresh0.5/checkpoint-766320] due to args.save_total_limit\n"
     ]
    },
    {
     "name": "stderr",
     "output_type": "stream",
     "text": [
      "***** Running Evaluation *****\n"
     ]
    },
    {
     "name": "stderr",
     "output_type": "stream",
     "text": [
      "  Num examples = 1592\n"
     ]
    },
    {
     "name": "stderr",
     "output_type": "stream",
     "text": [
      "  Batch size = 1\n"
     ]
    },
    {
     "name": "stderr",
     "output_type": "stream",
     "text": [
      "Saving model checkpoint to saved_models/XLNetDepr-3_256_8-ALL_NA-PEL-BS1-GWS_PCC_IT192_DH_2LMAEALPHA1_NZ20_PNTh0.05_AnnotThresh0.5/checkpoint-798250\n"
     ]
    },
    {
     "name": "stderr",
     "output_type": "stream",
     "text": [
      "Configuration saved in saved_models/XLNetDepr-3_256_8-ALL_NA-PEL-BS1-GWS_PCC_IT192_DH_2LMAEALPHA1_NZ20_PNTh0.05_AnnotThresh0.5/checkpoint-798250/config.json\n"
     ]
    },
    {
     "name": "stderr",
     "output_type": "stream",
     "text": [
      "Model weights saved in saved_models/XLNetDepr-3_256_8-ALL_NA-PEL-BS1-GWS_PCC_IT192_DH_2LMAEALPHA1_NZ20_PNTh0.05_AnnotThresh0.5/checkpoint-798250/pytorch_model.bin\n"
     ]
    },
    {
     "name": "stderr",
     "output_type": "stream",
     "text": [
      "Deleting older checkpoint [saved_models/XLNetDepr-3_256_8-ALL_NA-PEL-BS1-GWS_PCC_IT192_DH_2LMAEALPHA1_NZ20_PNTh0.05_AnnotThresh0.5/checkpoint-772706] due to args.save_total_limit\n"
     ]
    },
    {
     "name": "stderr",
     "output_type": "stream",
     "text": [
      "***** Running Evaluation *****\n"
     ]
    },
    {
     "name": "stderr",
     "output_type": "stream",
     "text": [
      "  Num examples = 1592\n"
     ]
    },
    {
     "name": "stderr",
     "output_type": "stream",
     "text": [
      "  Batch size = 1\n"
     ]
    },
    {
     "name": "stderr",
     "output_type": "stream",
     "text": [
      "Saving model checkpoint to saved_models/XLNetDepr-3_256_8-ALL_NA-PEL-BS1-GWS_PCC_IT192_DH_2LMAEALPHA1_NZ20_PNTh0.05_AnnotThresh0.5/checkpoint-804636\n"
     ]
    },
    {
     "name": "stderr",
     "output_type": "stream",
     "text": [
      "Configuration saved in saved_models/XLNetDepr-3_256_8-ALL_NA-PEL-BS1-GWS_PCC_IT192_DH_2LMAEALPHA1_NZ20_PNTh0.05_AnnotThresh0.5/checkpoint-804636/config.json\n"
     ]
    },
    {
     "name": "stderr",
     "output_type": "stream",
     "text": [
      "Model weights saved in saved_models/XLNetDepr-3_256_8-ALL_NA-PEL-BS1-GWS_PCC_IT192_DH_2LMAEALPHA1_NZ20_PNTh0.05_AnnotThresh0.5/checkpoint-804636/pytorch_model.bin\n"
     ]
    },
    {
     "name": "stderr",
     "output_type": "stream",
     "text": [
      "Deleting older checkpoint [saved_models/XLNetDepr-3_256_8-ALL_NA-PEL-BS1-GWS_PCC_IT192_DH_2LMAEALPHA1_NZ20_PNTh0.05_AnnotThresh0.5/checkpoint-779092] due to args.save_total_limit\n"
     ]
    },
    {
     "name": "stderr",
     "output_type": "stream",
     "text": [
      "***** Running Evaluation *****\n"
     ]
    },
    {
     "name": "stderr",
     "output_type": "stream",
     "text": [
      "  Num examples = 1592\n"
     ]
    },
    {
     "name": "stderr",
     "output_type": "stream",
     "text": [
      "  Batch size = 1\n"
     ]
    },
    {
     "name": "stderr",
     "output_type": "stream",
     "text": [
      "Saving model checkpoint to saved_models/XLNetDepr-3_256_8-ALL_NA-PEL-BS1-GWS_PCC_IT192_DH_2LMAEALPHA1_NZ20_PNTh0.05_AnnotThresh0.5/checkpoint-811022\n"
     ]
    },
    {
     "name": "stderr",
     "output_type": "stream",
     "text": [
      "Configuration saved in saved_models/XLNetDepr-3_256_8-ALL_NA-PEL-BS1-GWS_PCC_IT192_DH_2LMAEALPHA1_NZ20_PNTh0.05_AnnotThresh0.5/checkpoint-811022/config.json\n"
     ]
    },
    {
     "name": "stderr",
     "output_type": "stream",
     "text": [
      "Model weights saved in saved_models/XLNetDepr-3_256_8-ALL_NA-PEL-BS1-GWS_PCC_IT192_DH_2LMAEALPHA1_NZ20_PNTh0.05_AnnotThresh0.5/checkpoint-811022/pytorch_model.bin\n"
     ]
    },
    {
     "name": "stderr",
     "output_type": "stream",
     "text": [
      "Deleting older checkpoint [saved_models/XLNetDepr-3_256_8-ALL_NA-PEL-BS1-GWS_PCC_IT192_DH_2LMAEALPHA1_NZ20_PNTh0.05_AnnotThresh0.5/checkpoint-785478] due to args.save_total_limit\n"
     ]
    },
    {
     "name": "stderr",
     "output_type": "stream",
     "text": [
      "***** Running Evaluation *****\n"
     ]
    },
    {
     "name": "stderr",
     "output_type": "stream",
     "text": [
      "  Num examples = 1592\n"
     ]
    },
    {
     "name": "stderr",
     "output_type": "stream",
     "text": [
      "  Batch size = 1\n"
     ]
    },
    {
     "name": "stderr",
     "output_type": "stream",
     "text": [
      "Saving model checkpoint to saved_models/XLNetDepr-3_256_8-ALL_NA-PEL-BS1-GWS_PCC_IT192_DH_2LMAEALPHA1_NZ20_PNTh0.05_AnnotThresh0.5/checkpoint-817408\n"
     ]
    },
    {
     "name": "stderr",
     "output_type": "stream",
     "text": [
      "Configuration saved in saved_models/XLNetDepr-3_256_8-ALL_NA-PEL-BS1-GWS_PCC_IT192_DH_2LMAEALPHA1_NZ20_PNTh0.05_AnnotThresh0.5/checkpoint-817408/config.json\n"
     ]
    },
    {
     "name": "stderr",
     "output_type": "stream",
     "text": [
      "Model weights saved in saved_models/XLNetDepr-3_256_8-ALL_NA-PEL-BS1-GWS_PCC_IT192_DH_2LMAEALPHA1_NZ20_PNTh0.05_AnnotThresh0.5/checkpoint-817408/pytorch_model.bin\n"
     ]
    },
    {
     "name": "stderr",
     "output_type": "stream",
     "text": [
      "Deleting older checkpoint [saved_models/XLNetDepr-3_256_8-ALL_NA-PEL-BS1-GWS_PCC_IT192_DH_2LMAEALPHA1_NZ20_PNTh0.05_AnnotThresh0.5/checkpoint-791864] due to args.save_total_limit\n"
     ]
    },
    {
     "name": "stderr",
     "output_type": "stream",
     "text": [
      "***** Running Evaluation *****\n"
     ]
    },
    {
     "name": "stderr",
     "output_type": "stream",
     "text": [
      "  Num examples = 1592\n"
     ]
    },
    {
     "name": "stderr",
     "output_type": "stream",
     "text": [
      "  Batch size = 1\n"
     ]
    },
    {
     "name": "stderr",
     "output_type": "stream",
     "text": [
      "Saving model checkpoint to saved_models/XLNetDepr-3_256_8-ALL_NA-PEL-BS1-GWS_PCC_IT192_DH_2LMAEALPHA1_NZ20_PNTh0.05_AnnotThresh0.5/checkpoint-823794\n"
     ]
    },
    {
     "name": "stderr",
     "output_type": "stream",
     "text": [
      "Configuration saved in saved_models/XLNetDepr-3_256_8-ALL_NA-PEL-BS1-GWS_PCC_IT192_DH_2LMAEALPHA1_NZ20_PNTh0.05_AnnotThresh0.5/checkpoint-823794/config.json\n"
     ]
    },
    {
     "name": "stderr",
     "output_type": "stream",
     "text": [
      "Model weights saved in saved_models/XLNetDepr-3_256_8-ALL_NA-PEL-BS1-GWS_PCC_IT192_DH_2LMAEALPHA1_NZ20_PNTh0.05_AnnotThresh0.5/checkpoint-823794/pytorch_model.bin\n"
     ]
    },
    {
     "name": "stderr",
     "output_type": "stream",
     "text": [
      "Deleting older checkpoint [saved_models/XLNetDepr-3_256_8-ALL_NA-PEL-BS1-GWS_PCC_IT192_DH_2LMAEALPHA1_NZ20_PNTh0.05_AnnotThresh0.5/checkpoint-798250] due to args.save_total_limit\n"
     ]
    },
    {
     "name": "stderr",
     "output_type": "stream",
     "text": [
      "***** Running Evaluation *****\n"
     ]
    },
    {
     "name": "stderr",
     "output_type": "stream",
     "text": [
      "  Num examples = 1592\n"
     ]
    },
    {
     "name": "stderr",
     "output_type": "stream",
     "text": [
      "  Batch size = 1\n"
     ]
    },
    {
     "name": "stderr",
     "output_type": "stream",
     "text": [
      "Saving model checkpoint to saved_models/XLNetDepr-3_256_8-ALL_NA-PEL-BS1-GWS_PCC_IT192_DH_2LMAEALPHA1_NZ20_PNTh0.05_AnnotThresh0.5/checkpoint-830180\n"
     ]
    },
    {
     "name": "stderr",
     "output_type": "stream",
     "text": [
      "Configuration saved in saved_models/XLNetDepr-3_256_8-ALL_NA-PEL-BS1-GWS_PCC_IT192_DH_2LMAEALPHA1_NZ20_PNTh0.05_AnnotThresh0.5/checkpoint-830180/config.json\n"
     ]
    },
    {
     "name": "stderr",
     "output_type": "stream",
     "text": [
      "Model weights saved in saved_models/XLNetDepr-3_256_8-ALL_NA-PEL-BS1-GWS_PCC_IT192_DH_2LMAEALPHA1_NZ20_PNTh0.05_AnnotThresh0.5/checkpoint-830180/pytorch_model.bin\n"
     ]
    },
    {
     "name": "stderr",
     "output_type": "stream",
     "text": [
      "Deleting older checkpoint [saved_models/XLNetDepr-3_256_8-ALL_NA-PEL-BS1-GWS_PCC_IT192_DH_2LMAEALPHA1_NZ20_PNTh0.05_AnnotThresh0.5/checkpoint-804636] due to args.save_total_limit\n"
     ]
    },
    {
     "name": "stderr",
     "output_type": "stream",
     "text": [
      "***** Running Evaluation *****\n"
     ]
    },
    {
     "name": "stderr",
     "output_type": "stream",
     "text": [
      "  Num examples = 1592\n"
     ]
    },
    {
     "name": "stderr",
     "output_type": "stream",
     "text": [
      "  Batch size = 1\n"
     ]
    },
    {
     "name": "stderr",
     "output_type": "stream",
     "text": [
      "Saving model checkpoint to saved_models/XLNetDepr-3_256_8-ALL_NA-PEL-BS1-GWS_PCC_IT192_DH_2LMAEALPHA1_NZ20_PNTh0.05_AnnotThresh0.5/checkpoint-836566\n"
     ]
    },
    {
     "name": "stderr",
     "output_type": "stream",
     "text": [
      "Configuration saved in saved_models/XLNetDepr-3_256_8-ALL_NA-PEL-BS1-GWS_PCC_IT192_DH_2LMAEALPHA1_NZ20_PNTh0.05_AnnotThresh0.5/checkpoint-836566/config.json\n"
     ]
    },
    {
     "name": "stderr",
     "output_type": "stream",
     "text": [
      "Model weights saved in saved_models/XLNetDepr-3_256_8-ALL_NA-PEL-BS1-GWS_PCC_IT192_DH_2LMAEALPHA1_NZ20_PNTh0.05_AnnotThresh0.5/checkpoint-836566/pytorch_model.bin\n"
     ]
    },
    {
     "name": "stderr",
     "output_type": "stream",
     "text": [
      "Deleting older checkpoint [saved_models/XLNetDepr-3_256_8-ALL_NA-PEL-BS1-GWS_PCC_IT192_DH_2LMAEALPHA1_NZ20_PNTh0.05_AnnotThresh0.5/checkpoint-811022] due to args.save_total_limit\n"
     ]
    },
    {
     "name": "stderr",
     "output_type": "stream",
     "text": [
      "***** Running Evaluation *****\n"
     ]
    },
    {
     "name": "stderr",
     "output_type": "stream",
     "text": [
      "  Num examples = 1592\n"
     ]
    },
    {
     "name": "stderr",
     "output_type": "stream",
     "text": [
      "  Batch size = 1\n"
     ]
    },
    {
     "name": "stderr",
     "output_type": "stream",
     "text": [
      "Saving model checkpoint to saved_models/XLNetDepr-3_256_8-ALL_NA-PEL-BS1-GWS_PCC_IT192_DH_2LMAEALPHA1_NZ20_PNTh0.05_AnnotThresh0.5/checkpoint-842952\n"
     ]
    },
    {
     "name": "stderr",
     "output_type": "stream",
     "text": [
      "Configuration saved in saved_models/XLNetDepr-3_256_8-ALL_NA-PEL-BS1-GWS_PCC_IT192_DH_2LMAEALPHA1_NZ20_PNTh0.05_AnnotThresh0.5/checkpoint-842952/config.json\n"
     ]
    },
    {
     "name": "stderr",
     "output_type": "stream",
     "text": [
      "Model weights saved in saved_models/XLNetDepr-3_256_8-ALL_NA-PEL-BS1-GWS_PCC_IT192_DH_2LMAEALPHA1_NZ20_PNTh0.05_AnnotThresh0.5/checkpoint-842952/pytorch_model.bin\n"
     ]
    },
    {
     "name": "stderr",
     "output_type": "stream",
     "text": [
      "Deleting older checkpoint [saved_models/XLNetDepr-3_256_8-ALL_NA-PEL-BS1-GWS_PCC_IT192_DH_2LMAEALPHA1_NZ20_PNTh0.05_AnnotThresh0.5/checkpoint-817408] due to args.save_total_limit\n"
     ]
    },
    {
     "name": "stderr",
     "output_type": "stream",
     "text": [
      "***** Running Evaluation *****\n"
     ]
    },
    {
     "name": "stderr",
     "output_type": "stream",
     "text": [
      "  Num examples = 1592\n"
     ]
    },
    {
     "name": "stderr",
     "output_type": "stream",
     "text": [
      "  Batch size = 1\n"
     ]
    },
    {
     "name": "stderr",
     "output_type": "stream",
     "text": [
      "Saving model checkpoint to saved_models/XLNetDepr-3_256_8-ALL_NA-PEL-BS1-GWS_PCC_IT192_DH_2LMAEALPHA1_NZ20_PNTh0.05_AnnotThresh0.5/checkpoint-849338\n"
     ]
    },
    {
     "name": "stderr",
     "output_type": "stream",
     "text": [
      "Configuration saved in saved_models/XLNetDepr-3_256_8-ALL_NA-PEL-BS1-GWS_PCC_IT192_DH_2LMAEALPHA1_NZ20_PNTh0.05_AnnotThresh0.5/checkpoint-849338/config.json\n"
     ]
    },
    {
     "name": "stderr",
     "output_type": "stream",
     "text": [
      "Model weights saved in saved_models/XLNetDepr-3_256_8-ALL_NA-PEL-BS1-GWS_PCC_IT192_DH_2LMAEALPHA1_NZ20_PNTh0.05_AnnotThresh0.5/checkpoint-849338/pytorch_model.bin\n"
     ]
    },
    {
     "name": "stderr",
     "output_type": "stream",
     "text": [
      "Deleting older checkpoint [saved_models/XLNetDepr-3_256_8-ALL_NA-PEL-BS1-GWS_PCC_IT192_DH_2LMAEALPHA1_NZ20_PNTh0.05_AnnotThresh0.5/checkpoint-823794] due to args.save_total_limit\n"
     ]
    },
    {
     "name": "stderr",
     "output_type": "stream",
     "text": [
      "***** Running Evaluation *****\n"
     ]
    },
    {
     "name": "stderr",
     "output_type": "stream",
     "text": [
      "  Num examples = 1592\n"
     ]
    },
    {
     "name": "stderr",
     "output_type": "stream",
     "text": [
      "  Batch size = 1\n"
     ]
    },
    {
     "name": "stderr",
     "output_type": "stream",
     "text": [
      "Saving model checkpoint to saved_models/XLNetDepr-3_256_8-ALL_NA-PEL-BS1-GWS_PCC_IT192_DH_2LMAEALPHA1_NZ20_PNTh0.05_AnnotThresh0.5/checkpoint-855724\n"
     ]
    },
    {
     "name": "stderr",
     "output_type": "stream",
     "text": [
      "Configuration saved in saved_models/XLNetDepr-3_256_8-ALL_NA-PEL-BS1-GWS_PCC_IT192_DH_2LMAEALPHA1_NZ20_PNTh0.05_AnnotThresh0.5/checkpoint-855724/config.json\n"
     ]
    },
    {
     "name": "stderr",
     "output_type": "stream",
     "text": [
      "Model weights saved in saved_models/XLNetDepr-3_256_8-ALL_NA-PEL-BS1-GWS_PCC_IT192_DH_2LMAEALPHA1_NZ20_PNTh0.05_AnnotThresh0.5/checkpoint-855724/pytorch_model.bin\n"
     ]
    },
    {
     "name": "stderr",
     "output_type": "stream",
     "text": [
      "Deleting older checkpoint [saved_models/XLNetDepr-3_256_8-ALL_NA-PEL-BS1-GWS_PCC_IT192_DH_2LMAEALPHA1_NZ20_PNTh0.05_AnnotThresh0.5/checkpoint-830180] due to args.save_total_limit\n"
     ]
    },
    {
     "name": "stderr",
     "output_type": "stream",
     "text": [
      "***** Running Evaluation *****\n"
     ]
    },
    {
     "name": "stderr",
     "output_type": "stream",
     "text": [
      "  Num examples = 1592\n"
     ]
    },
    {
     "name": "stderr",
     "output_type": "stream",
     "text": [
      "  Batch size = 1\n"
     ]
    },
    {
     "name": "stderr",
     "output_type": "stream",
     "text": [
      "Saving model checkpoint to saved_models/XLNetDepr-3_256_8-ALL_NA-PEL-BS1-GWS_PCC_IT192_DH_2LMAEALPHA1_NZ20_PNTh0.05_AnnotThresh0.5/checkpoint-862110\n"
     ]
    },
    {
     "name": "stderr",
     "output_type": "stream",
     "text": [
      "Configuration saved in saved_models/XLNetDepr-3_256_8-ALL_NA-PEL-BS1-GWS_PCC_IT192_DH_2LMAEALPHA1_NZ20_PNTh0.05_AnnotThresh0.5/checkpoint-862110/config.json\n"
     ]
    },
    {
     "name": "stderr",
     "output_type": "stream",
     "text": [
      "Model weights saved in saved_models/XLNetDepr-3_256_8-ALL_NA-PEL-BS1-GWS_PCC_IT192_DH_2LMAEALPHA1_NZ20_PNTh0.05_AnnotThresh0.5/checkpoint-862110/pytorch_model.bin\n"
     ]
    },
    {
     "name": "stderr",
     "output_type": "stream",
     "text": [
      "Deleting older checkpoint [saved_models/XLNetDepr-3_256_8-ALL_NA-PEL-BS1-GWS_PCC_IT192_DH_2LMAEALPHA1_NZ20_PNTh0.05_AnnotThresh0.5/checkpoint-836566] due to args.save_total_limit\n"
     ]
    },
    {
     "name": "stderr",
     "output_type": "stream",
     "text": [
      "***** Running Evaluation *****\n"
     ]
    },
    {
     "name": "stderr",
     "output_type": "stream",
     "text": [
      "  Num examples = 1592\n"
     ]
    },
    {
     "name": "stderr",
     "output_type": "stream",
     "text": [
      "  Batch size = 1\n"
     ]
    },
    {
     "name": "stderr",
     "output_type": "stream",
     "text": [
      "Saving model checkpoint to saved_models/XLNetDepr-3_256_8-ALL_NA-PEL-BS1-GWS_PCC_IT192_DH_2LMAEALPHA1_NZ20_PNTh0.05_AnnotThresh0.5/checkpoint-868496\n"
     ]
    },
    {
     "name": "stderr",
     "output_type": "stream",
     "text": [
      "Configuration saved in saved_models/XLNetDepr-3_256_8-ALL_NA-PEL-BS1-GWS_PCC_IT192_DH_2LMAEALPHA1_NZ20_PNTh0.05_AnnotThresh0.5/checkpoint-868496/config.json\n"
     ]
    },
    {
     "name": "stderr",
     "output_type": "stream",
     "text": [
      "Model weights saved in saved_models/XLNetDepr-3_256_8-ALL_NA-PEL-BS1-GWS_PCC_IT192_DH_2LMAEALPHA1_NZ20_PNTh0.05_AnnotThresh0.5/checkpoint-868496/pytorch_model.bin\n"
     ]
    },
    {
     "name": "stderr",
     "output_type": "stream",
     "text": [
      "Deleting older checkpoint [saved_models/XLNetDepr-3_256_8-ALL_NA-PEL-BS1-GWS_PCC_IT192_DH_2LMAEALPHA1_NZ20_PNTh0.05_AnnotThresh0.5/checkpoint-842952] due to args.save_total_limit\n"
     ]
    },
    {
     "name": "stderr",
     "output_type": "stream",
     "text": [
      "***** Running Evaluation *****\n"
     ]
    },
    {
     "name": "stderr",
     "output_type": "stream",
     "text": [
      "  Num examples = 1592\n"
     ]
    },
    {
     "name": "stderr",
     "output_type": "stream",
     "text": [
      "  Batch size = 1\n"
     ]
    },
    {
     "name": "stderr",
     "output_type": "stream",
     "text": [
      "Saving model checkpoint to saved_models/XLNetDepr-3_256_8-ALL_NA-PEL-BS1-GWS_PCC_IT192_DH_2LMAEALPHA1_NZ20_PNTh0.05_AnnotThresh0.5/checkpoint-874882\n"
     ]
    },
    {
     "name": "stderr",
     "output_type": "stream",
     "text": [
      "Configuration saved in saved_models/XLNetDepr-3_256_8-ALL_NA-PEL-BS1-GWS_PCC_IT192_DH_2LMAEALPHA1_NZ20_PNTh0.05_AnnotThresh0.5/checkpoint-874882/config.json\n"
     ]
    },
    {
     "name": "stderr",
     "output_type": "stream",
     "text": [
      "Model weights saved in saved_models/XLNetDepr-3_256_8-ALL_NA-PEL-BS1-GWS_PCC_IT192_DH_2LMAEALPHA1_NZ20_PNTh0.05_AnnotThresh0.5/checkpoint-874882/pytorch_model.bin\n"
     ]
    },
    {
     "name": "stderr",
     "output_type": "stream",
     "text": [
      "Deleting older checkpoint [saved_models/XLNetDepr-3_256_8-ALL_NA-PEL-BS1-GWS_PCC_IT192_DH_2LMAEALPHA1_NZ20_PNTh0.05_AnnotThresh0.5/checkpoint-849338] due to args.save_total_limit\n"
     ]
    },
    {
     "name": "stderr",
     "output_type": "stream",
     "text": [
      "***** Running Evaluation *****\n"
     ]
    },
    {
     "name": "stderr",
     "output_type": "stream",
     "text": [
      "  Num examples = 1592\n"
     ]
    },
    {
     "name": "stderr",
     "output_type": "stream",
     "text": [
      "  Batch size = 1\n"
     ]
    },
    {
     "name": "stderr",
     "output_type": "stream",
     "text": [
      "Saving model checkpoint to saved_models/XLNetDepr-3_256_8-ALL_NA-PEL-BS1-GWS_PCC_IT192_DH_2LMAEALPHA1_NZ20_PNTh0.05_AnnotThresh0.5/checkpoint-881268\n"
     ]
    },
    {
     "name": "stderr",
     "output_type": "stream",
     "text": [
      "Configuration saved in saved_models/XLNetDepr-3_256_8-ALL_NA-PEL-BS1-GWS_PCC_IT192_DH_2LMAEALPHA1_NZ20_PNTh0.05_AnnotThresh0.5/checkpoint-881268/config.json\n"
     ]
    },
    {
     "name": "stderr",
     "output_type": "stream",
     "text": [
      "Model weights saved in saved_models/XLNetDepr-3_256_8-ALL_NA-PEL-BS1-GWS_PCC_IT192_DH_2LMAEALPHA1_NZ20_PNTh0.05_AnnotThresh0.5/checkpoint-881268/pytorch_model.bin\n"
     ]
    },
    {
     "name": "stderr",
     "output_type": "stream",
     "text": [
      "Deleting older checkpoint [saved_models/XLNetDepr-3_256_8-ALL_NA-PEL-BS1-GWS_PCC_IT192_DH_2LMAEALPHA1_NZ20_PNTh0.05_AnnotThresh0.5/checkpoint-855724] due to args.save_total_limit\n"
     ]
    },
    {
     "name": "stderr",
     "output_type": "stream",
     "text": [
      "***** Running Evaluation *****\n"
     ]
    },
    {
     "name": "stderr",
     "output_type": "stream",
     "text": [
      "  Num examples = 1592\n"
     ]
    },
    {
     "name": "stderr",
     "output_type": "stream",
     "text": [
      "  Batch size = 1\n"
     ]
    },
    {
     "name": "stderr",
     "output_type": "stream",
     "text": [
      "Saving model checkpoint to saved_models/XLNetDepr-3_256_8-ALL_NA-PEL-BS1-GWS_PCC_IT192_DH_2LMAEALPHA1_NZ20_PNTh0.05_AnnotThresh0.5/checkpoint-887654\n"
     ]
    },
    {
     "name": "stderr",
     "output_type": "stream",
     "text": [
      "Configuration saved in saved_models/XLNetDepr-3_256_8-ALL_NA-PEL-BS1-GWS_PCC_IT192_DH_2LMAEALPHA1_NZ20_PNTh0.05_AnnotThresh0.5/checkpoint-887654/config.json\n"
     ]
    },
    {
     "name": "stderr",
     "output_type": "stream",
     "text": [
      "Model weights saved in saved_models/XLNetDepr-3_256_8-ALL_NA-PEL-BS1-GWS_PCC_IT192_DH_2LMAEALPHA1_NZ20_PNTh0.05_AnnotThresh0.5/checkpoint-887654/pytorch_model.bin\n"
     ]
    },
    {
     "name": "stderr",
     "output_type": "stream",
     "text": [
      "Deleting older checkpoint [saved_models/XLNetDepr-3_256_8-ALL_NA-PEL-BS1-GWS_PCC_IT192_DH_2LMAEALPHA1_NZ20_PNTh0.05_AnnotThresh0.5/checkpoint-862110] due to args.save_total_limit\n"
     ]
    },
    {
     "name": "stderr",
     "output_type": "stream",
     "text": [
      "***** Running Evaluation *****\n"
     ]
    },
    {
     "name": "stderr",
     "output_type": "stream",
     "text": [
      "  Num examples = 1592\n"
     ]
    },
    {
     "name": "stderr",
     "output_type": "stream",
     "text": [
      "  Batch size = 1\n"
     ]
    },
    {
     "name": "stderr",
     "output_type": "stream",
     "text": [
      "Saving model checkpoint to saved_models/XLNetDepr-3_256_8-ALL_NA-PEL-BS1-GWS_PCC_IT192_DH_2LMAEALPHA1_NZ20_PNTh0.05_AnnotThresh0.5/checkpoint-894040\n"
     ]
    },
    {
     "name": "stderr",
     "output_type": "stream",
     "text": [
      "Configuration saved in saved_models/XLNetDepr-3_256_8-ALL_NA-PEL-BS1-GWS_PCC_IT192_DH_2LMAEALPHA1_NZ20_PNTh0.05_AnnotThresh0.5/checkpoint-894040/config.json\n"
     ]
    },
    {
     "name": "stderr",
     "output_type": "stream",
     "text": [
      "Model weights saved in saved_models/XLNetDepr-3_256_8-ALL_NA-PEL-BS1-GWS_PCC_IT192_DH_2LMAEALPHA1_NZ20_PNTh0.05_AnnotThresh0.5/checkpoint-894040/pytorch_model.bin\n"
     ]
    },
    {
     "name": "stderr",
     "output_type": "stream",
     "text": [
      "Deleting older checkpoint [saved_models/XLNetDepr-3_256_8-ALL_NA-PEL-BS1-GWS_PCC_IT192_DH_2LMAEALPHA1_NZ20_PNTh0.05_AnnotThresh0.5/checkpoint-868496] due to args.save_total_limit\n"
     ]
    },
    {
     "name": "stderr",
     "output_type": "stream",
     "text": [
      "***** Running Evaluation *****\n"
     ]
    },
    {
     "name": "stderr",
     "output_type": "stream",
     "text": [
      "  Num examples = 1592\n"
     ]
    },
    {
     "name": "stderr",
     "output_type": "stream",
     "text": [
      "  Batch size = 1\n"
     ]
    },
    {
     "name": "stderr",
     "output_type": "stream",
     "text": [
      "Saving model checkpoint to saved_models/XLNetDepr-3_256_8-ALL_NA-PEL-BS1-GWS_PCC_IT192_DH_2LMAEALPHA1_NZ20_PNTh0.05_AnnotThresh0.5/checkpoint-900426\n"
     ]
    },
    {
     "name": "stderr",
     "output_type": "stream",
     "text": [
      "Configuration saved in saved_models/XLNetDepr-3_256_8-ALL_NA-PEL-BS1-GWS_PCC_IT192_DH_2LMAEALPHA1_NZ20_PNTh0.05_AnnotThresh0.5/checkpoint-900426/config.json\n"
     ]
    },
    {
     "name": "stderr",
     "output_type": "stream",
     "text": [
      "Model weights saved in saved_models/XLNetDepr-3_256_8-ALL_NA-PEL-BS1-GWS_PCC_IT192_DH_2LMAEALPHA1_NZ20_PNTh0.05_AnnotThresh0.5/checkpoint-900426/pytorch_model.bin\n"
     ]
    },
    {
     "name": "stderr",
     "output_type": "stream",
     "text": [
      "Deleting older checkpoint [saved_models/XLNetDepr-3_256_8-ALL_NA-PEL-BS1-GWS_PCC_IT192_DH_2LMAEALPHA1_NZ20_PNTh0.05_AnnotThresh0.5/checkpoint-874882] due to args.save_total_limit\n"
     ]
    },
    {
     "name": "stderr",
     "output_type": "stream",
     "text": [
      "***** Running Evaluation *****\n"
     ]
    },
    {
     "name": "stderr",
     "output_type": "stream",
     "text": [
      "  Num examples = 1592\n"
     ]
    },
    {
     "name": "stderr",
     "output_type": "stream",
     "text": [
      "  Batch size = 1\n"
     ]
    },
    {
     "name": "stderr",
     "output_type": "stream",
     "text": [
      "Saving model checkpoint to saved_models/XLNetDepr-3_256_8-ALL_NA-PEL-BS1-GWS_PCC_IT192_DH_2LMAEALPHA1_NZ20_PNTh0.05_AnnotThresh0.5/checkpoint-906812\n"
     ]
    },
    {
     "name": "stderr",
     "output_type": "stream",
     "text": [
      "Configuration saved in saved_models/XLNetDepr-3_256_8-ALL_NA-PEL-BS1-GWS_PCC_IT192_DH_2LMAEALPHA1_NZ20_PNTh0.05_AnnotThresh0.5/checkpoint-906812/config.json\n"
     ]
    },
    {
     "name": "stderr",
     "output_type": "stream",
     "text": [
      "Model weights saved in saved_models/XLNetDepr-3_256_8-ALL_NA-PEL-BS1-GWS_PCC_IT192_DH_2LMAEALPHA1_NZ20_PNTh0.05_AnnotThresh0.5/checkpoint-906812/pytorch_model.bin\n"
     ]
    },
    {
     "name": "stderr",
     "output_type": "stream",
     "text": [
      "Deleting older checkpoint [saved_models/XLNetDepr-3_256_8-ALL_NA-PEL-BS1-GWS_PCC_IT192_DH_2LMAEALPHA1_NZ20_PNTh0.05_AnnotThresh0.5/checkpoint-881268] due to args.save_total_limit\n"
     ]
    },
    {
     "name": "stderr",
     "output_type": "stream",
     "text": [
      "***** Running Evaluation *****\n"
     ]
    },
    {
     "name": "stderr",
     "output_type": "stream",
     "text": [
      "  Num examples = 1592\n"
     ]
    },
    {
     "name": "stderr",
     "output_type": "stream",
     "text": [
      "  Batch size = 1\n"
     ]
    },
    {
     "name": "stderr",
     "output_type": "stream",
     "text": [
      "Saving model checkpoint to saved_models/XLNetDepr-3_256_8-ALL_NA-PEL-BS1-GWS_PCC_IT192_DH_2LMAEALPHA1_NZ20_PNTh0.05_AnnotThresh0.5/checkpoint-913198\n"
     ]
    },
    {
     "name": "stderr",
     "output_type": "stream",
     "text": [
      "Configuration saved in saved_models/XLNetDepr-3_256_8-ALL_NA-PEL-BS1-GWS_PCC_IT192_DH_2LMAEALPHA1_NZ20_PNTh0.05_AnnotThresh0.5/checkpoint-913198/config.json\n"
     ]
    },
    {
     "name": "stderr",
     "output_type": "stream",
     "text": [
      "Model weights saved in saved_models/XLNetDepr-3_256_8-ALL_NA-PEL-BS1-GWS_PCC_IT192_DH_2LMAEALPHA1_NZ20_PNTh0.05_AnnotThresh0.5/checkpoint-913198/pytorch_model.bin\n"
     ]
    },
    {
     "name": "stderr",
     "output_type": "stream",
     "text": [
      "Deleting older checkpoint [saved_models/XLNetDepr-3_256_8-ALL_NA-PEL-BS1-GWS_PCC_IT192_DH_2LMAEALPHA1_NZ20_PNTh0.05_AnnotThresh0.5/checkpoint-887654] due to args.save_total_limit\n"
     ]
    },
    {
     "name": "stderr",
     "output_type": "stream",
     "text": [
      "***** Running Evaluation *****\n"
     ]
    },
    {
     "name": "stderr",
     "output_type": "stream",
     "text": [
      "  Num examples = 1592\n"
     ]
    },
    {
     "name": "stderr",
     "output_type": "stream",
     "text": [
      "  Batch size = 1\n"
     ]
    },
    {
     "name": "stderr",
     "output_type": "stream",
     "text": [
      "Saving model checkpoint to saved_models/XLNetDepr-3_256_8-ALL_NA-PEL-BS1-GWS_PCC_IT192_DH_2LMAEALPHA1_NZ20_PNTh0.05_AnnotThresh0.5/checkpoint-919584\n"
     ]
    },
    {
     "name": "stderr",
     "output_type": "stream",
     "text": [
      "Configuration saved in saved_models/XLNetDepr-3_256_8-ALL_NA-PEL-BS1-GWS_PCC_IT192_DH_2LMAEALPHA1_NZ20_PNTh0.05_AnnotThresh0.5/checkpoint-919584/config.json\n"
     ]
    },
    {
     "name": "stderr",
     "output_type": "stream",
     "text": [
      "Model weights saved in saved_models/XLNetDepr-3_256_8-ALL_NA-PEL-BS1-GWS_PCC_IT192_DH_2LMAEALPHA1_NZ20_PNTh0.05_AnnotThresh0.5/checkpoint-919584/pytorch_model.bin\n"
     ]
    },
    {
     "name": "stderr",
     "output_type": "stream",
     "text": [
      "Deleting older checkpoint [saved_models/XLNetDepr-3_256_8-ALL_NA-PEL-BS1-GWS_PCC_IT192_DH_2LMAEALPHA1_NZ20_PNTh0.05_AnnotThresh0.5/checkpoint-894040] due to args.save_total_limit\n"
     ]
    },
    {
     "name": "stderr",
     "output_type": "stream",
     "text": [
      "***** Running Evaluation *****\n"
     ]
    },
    {
     "name": "stderr",
     "output_type": "stream",
     "text": [
      "  Num examples = 1592\n"
     ]
    },
    {
     "name": "stderr",
     "output_type": "stream",
     "text": [
      "  Batch size = 1\n"
     ]
    },
    {
     "name": "stderr",
     "output_type": "stream",
     "text": [
      "Saving model checkpoint to saved_models/XLNetDepr-3_256_8-ALL_NA-PEL-BS1-GWS_PCC_IT192_DH_2LMAEALPHA1_NZ20_PNTh0.05_AnnotThresh0.5/checkpoint-925970\n"
     ]
    },
    {
     "name": "stderr",
     "output_type": "stream",
     "text": [
      "Configuration saved in saved_models/XLNetDepr-3_256_8-ALL_NA-PEL-BS1-GWS_PCC_IT192_DH_2LMAEALPHA1_NZ20_PNTh0.05_AnnotThresh0.5/checkpoint-925970/config.json\n"
     ]
    },
    {
     "name": "stderr",
     "output_type": "stream",
     "text": [
      "Model weights saved in saved_models/XLNetDepr-3_256_8-ALL_NA-PEL-BS1-GWS_PCC_IT192_DH_2LMAEALPHA1_NZ20_PNTh0.05_AnnotThresh0.5/checkpoint-925970/pytorch_model.bin\n"
     ]
    },
    {
     "name": "stderr",
     "output_type": "stream",
     "text": [
      "Deleting older checkpoint [saved_models/XLNetDepr-3_256_8-ALL_NA-PEL-BS1-GWS_PCC_IT192_DH_2LMAEALPHA1_NZ20_PNTh0.05_AnnotThresh0.5/checkpoint-900426] due to args.save_total_limit\n"
     ]
    },
    {
     "name": "stderr",
     "output_type": "stream",
     "text": [
      "***** Running Evaluation *****\n"
     ]
    },
    {
     "name": "stderr",
     "output_type": "stream",
     "text": [
      "  Num examples = 1592\n"
     ]
    },
    {
     "name": "stderr",
     "output_type": "stream",
     "text": [
      "  Batch size = 1\n"
     ]
    },
    {
     "name": "stderr",
     "output_type": "stream",
     "text": [
      "Saving model checkpoint to saved_models/XLNetDepr-3_256_8-ALL_NA-PEL-BS1-GWS_PCC_IT192_DH_2LMAEALPHA1_NZ20_PNTh0.05_AnnotThresh0.5/checkpoint-932356\n"
     ]
    },
    {
     "name": "stderr",
     "output_type": "stream",
     "text": [
      "Configuration saved in saved_models/XLNetDepr-3_256_8-ALL_NA-PEL-BS1-GWS_PCC_IT192_DH_2LMAEALPHA1_NZ20_PNTh0.05_AnnotThresh0.5/checkpoint-932356/config.json\n"
     ]
    },
    {
     "name": "stderr",
     "output_type": "stream",
     "text": [
      "Model weights saved in saved_models/XLNetDepr-3_256_8-ALL_NA-PEL-BS1-GWS_PCC_IT192_DH_2LMAEALPHA1_NZ20_PNTh0.05_AnnotThresh0.5/checkpoint-932356/pytorch_model.bin\n"
     ]
    },
    {
     "name": "stderr",
     "output_type": "stream",
     "text": [
      "Deleting older checkpoint [saved_models/XLNetDepr-3_256_8-ALL_NA-PEL-BS1-GWS_PCC_IT192_DH_2LMAEALPHA1_NZ20_PNTh0.05_AnnotThresh0.5/checkpoint-906812] due to args.save_total_limit\n"
     ]
    },
    {
     "name": "stderr",
     "output_type": "stream",
     "text": [
      "***** Running Evaluation *****\n"
     ]
    },
    {
     "name": "stderr",
     "output_type": "stream",
     "text": [
      "  Num examples = 1592\n"
     ]
    },
    {
     "name": "stderr",
     "output_type": "stream",
     "text": [
      "  Batch size = 1\n"
     ]
    },
    {
     "name": "stderr",
     "output_type": "stream",
     "text": [
      "Saving model checkpoint to saved_models/XLNetDepr-3_256_8-ALL_NA-PEL-BS1-GWS_PCC_IT192_DH_2LMAEALPHA1_NZ20_PNTh0.05_AnnotThresh0.5/checkpoint-938742\n"
     ]
    },
    {
     "name": "stderr",
     "output_type": "stream",
     "text": [
      "Configuration saved in saved_models/XLNetDepr-3_256_8-ALL_NA-PEL-BS1-GWS_PCC_IT192_DH_2LMAEALPHA1_NZ20_PNTh0.05_AnnotThresh0.5/checkpoint-938742/config.json\n"
     ]
    },
    {
     "name": "stderr",
     "output_type": "stream",
     "text": [
      "Model weights saved in saved_models/XLNetDepr-3_256_8-ALL_NA-PEL-BS1-GWS_PCC_IT192_DH_2LMAEALPHA1_NZ20_PNTh0.05_AnnotThresh0.5/checkpoint-938742/pytorch_model.bin\n"
     ]
    },
    {
     "name": "stderr",
     "output_type": "stream",
     "text": [
      "Deleting older checkpoint [saved_models/XLNetDepr-3_256_8-ALL_NA-PEL-BS1-GWS_PCC_IT192_DH_2LMAEALPHA1_NZ20_PNTh0.05_AnnotThresh0.5/checkpoint-913198] due to args.save_total_limit\n"
     ]
    },
    {
     "name": "stderr",
     "output_type": "stream",
     "text": [
      "***** Running Evaluation *****\n"
     ]
    },
    {
     "name": "stderr",
     "output_type": "stream",
     "text": [
      "  Num examples = 1592\n"
     ]
    },
    {
     "name": "stderr",
     "output_type": "stream",
     "text": [
      "  Batch size = 1\n"
     ]
    },
    {
     "name": "stderr",
     "output_type": "stream",
     "text": [
      "Saving model checkpoint to saved_models/XLNetDepr-3_256_8-ALL_NA-PEL-BS1-GWS_PCC_IT192_DH_2LMAEALPHA1_NZ20_PNTh0.05_AnnotThresh0.5/checkpoint-945128\n"
     ]
    },
    {
     "name": "stderr",
     "output_type": "stream",
     "text": [
      "Configuration saved in saved_models/XLNetDepr-3_256_8-ALL_NA-PEL-BS1-GWS_PCC_IT192_DH_2LMAEALPHA1_NZ20_PNTh0.05_AnnotThresh0.5/checkpoint-945128/config.json\n"
     ]
    },
    {
     "name": "stderr",
     "output_type": "stream",
     "text": [
      "Model weights saved in saved_models/XLNetDepr-3_256_8-ALL_NA-PEL-BS1-GWS_PCC_IT192_DH_2LMAEALPHA1_NZ20_PNTh0.05_AnnotThresh0.5/checkpoint-945128/pytorch_model.bin\n"
     ]
    },
    {
     "name": "stderr",
     "output_type": "stream",
     "text": [
      "Deleting older checkpoint [saved_models/XLNetDepr-3_256_8-ALL_NA-PEL-BS1-GWS_PCC_IT192_DH_2LMAEALPHA1_NZ20_PNTh0.05_AnnotThresh0.5/checkpoint-919584] due to args.save_total_limit\n"
     ]
    },
    {
     "name": "stderr",
     "output_type": "stream",
     "text": [
      "***** Running Evaluation *****\n"
     ]
    },
    {
     "name": "stderr",
     "output_type": "stream",
     "text": [
      "  Num examples = 1592\n"
     ]
    },
    {
     "name": "stderr",
     "output_type": "stream",
     "text": [
      "  Batch size = 1\n"
     ]
    },
    {
     "name": "stderr",
     "output_type": "stream",
     "text": [
      "Saving model checkpoint to saved_models/XLNetDepr-3_256_8-ALL_NA-PEL-BS1-GWS_PCC_IT192_DH_2LMAEALPHA1_NZ20_PNTh0.05_AnnotThresh0.5/checkpoint-951514\n"
     ]
    },
    {
     "name": "stderr",
     "output_type": "stream",
     "text": [
      "Configuration saved in saved_models/XLNetDepr-3_256_8-ALL_NA-PEL-BS1-GWS_PCC_IT192_DH_2LMAEALPHA1_NZ20_PNTh0.05_AnnotThresh0.5/checkpoint-951514/config.json\n"
     ]
    },
    {
     "name": "stderr",
     "output_type": "stream",
     "text": [
      "Model weights saved in saved_models/XLNetDepr-3_256_8-ALL_NA-PEL-BS1-GWS_PCC_IT192_DH_2LMAEALPHA1_NZ20_PNTh0.05_AnnotThresh0.5/checkpoint-951514/pytorch_model.bin\n"
     ]
    },
    {
     "name": "stderr",
     "output_type": "stream",
     "text": [
      "Deleting older checkpoint [saved_models/XLNetDepr-3_256_8-ALL_NA-PEL-BS1-GWS_PCC_IT192_DH_2LMAEALPHA1_NZ20_PNTh0.05_AnnotThresh0.5/checkpoint-925970] due to args.save_total_limit\n"
     ]
    },
    {
     "name": "stderr",
     "output_type": "stream",
     "text": [
      "***** Running Evaluation *****\n"
     ]
    },
    {
     "name": "stderr",
     "output_type": "stream",
     "text": [
      "  Num examples = 1592\n"
     ]
    },
    {
     "name": "stderr",
     "output_type": "stream",
     "text": [
      "  Batch size = 1\n"
     ]
    },
    {
     "name": "stderr",
     "output_type": "stream",
     "text": [
      "Saving model checkpoint to saved_models/XLNetDepr-3_256_8-ALL_NA-PEL-BS1-GWS_PCC_IT192_DH_2LMAEALPHA1_NZ20_PNTh0.05_AnnotThresh0.5/checkpoint-957900\n"
     ]
    },
    {
     "name": "stderr",
     "output_type": "stream",
     "text": [
      "Configuration saved in saved_models/XLNetDepr-3_256_8-ALL_NA-PEL-BS1-GWS_PCC_IT192_DH_2LMAEALPHA1_NZ20_PNTh0.05_AnnotThresh0.5/checkpoint-957900/config.json\n"
     ]
    },
    {
     "name": "stderr",
     "output_type": "stream",
     "text": [
      "Model weights saved in saved_models/XLNetDepr-3_256_8-ALL_NA-PEL-BS1-GWS_PCC_IT192_DH_2LMAEALPHA1_NZ20_PNTh0.05_AnnotThresh0.5/checkpoint-957900/pytorch_model.bin\n"
     ]
    },
    {
     "name": "stderr",
     "output_type": "stream",
     "text": [
      "Deleting older checkpoint [saved_models/XLNetDepr-3_256_8-ALL_NA-PEL-BS1-GWS_PCC_IT192_DH_2LMAEALPHA1_NZ20_PNTh0.05_AnnotThresh0.5/checkpoint-932356] due to args.save_total_limit\n"
     ]
    },
    {
     "name": "stderr",
     "output_type": "stream",
     "text": [
      "***** Running Evaluation *****\n"
     ]
    },
    {
     "name": "stderr",
     "output_type": "stream",
     "text": [
      "  Num examples = 1592\n"
     ]
    },
    {
     "name": "stderr",
     "output_type": "stream",
     "text": [
      "  Batch size = 1\n"
     ]
    },
    {
     "name": "stderr",
     "output_type": "stream",
     "text": [
      "Saving model checkpoint to saved_models/XLNetDepr-3_256_8-ALL_NA-PEL-BS1-GWS_PCC_IT192_DH_2LMAEALPHA1_NZ20_PNTh0.05_AnnotThresh0.5/checkpoint-964286\n"
     ]
    },
    {
     "name": "stderr",
     "output_type": "stream",
     "text": [
      "Configuration saved in saved_models/XLNetDepr-3_256_8-ALL_NA-PEL-BS1-GWS_PCC_IT192_DH_2LMAEALPHA1_NZ20_PNTh0.05_AnnotThresh0.5/checkpoint-964286/config.json\n"
     ]
    },
    {
     "name": "stderr",
     "output_type": "stream",
     "text": [
      "Model weights saved in saved_models/XLNetDepr-3_256_8-ALL_NA-PEL-BS1-GWS_PCC_IT192_DH_2LMAEALPHA1_NZ20_PNTh0.05_AnnotThresh0.5/checkpoint-964286/pytorch_model.bin\n"
     ]
    },
    {
     "name": "stderr",
     "output_type": "stream",
     "text": [
      "Deleting older checkpoint [saved_models/XLNetDepr-3_256_8-ALL_NA-PEL-BS1-GWS_PCC_IT192_DH_2LMAEALPHA1_NZ20_PNTh0.05_AnnotThresh0.5/checkpoint-938742] due to args.save_total_limit\n"
     ]
    },
    {
     "name": "stderr",
     "output_type": "stream",
     "text": [
      "***** Running Evaluation *****\n"
     ]
    },
    {
     "name": "stderr",
     "output_type": "stream",
     "text": [
      "  Num examples = 1592\n"
     ]
    },
    {
     "name": "stderr",
     "output_type": "stream",
     "text": [
      "  Batch size = 1\n"
     ]
    },
    {
     "name": "stderr",
     "output_type": "stream",
     "text": [
      "Saving model checkpoint to saved_models/XLNetDepr-3_256_8-ALL_NA-PEL-BS1-GWS_PCC_IT192_DH_2LMAEALPHA1_NZ20_PNTh0.05_AnnotThresh0.5/checkpoint-970672\n"
     ]
    },
    {
     "name": "stderr",
     "output_type": "stream",
     "text": [
      "Configuration saved in saved_models/XLNetDepr-3_256_8-ALL_NA-PEL-BS1-GWS_PCC_IT192_DH_2LMAEALPHA1_NZ20_PNTh0.05_AnnotThresh0.5/checkpoint-970672/config.json\n"
     ]
    },
    {
     "name": "stderr",
     "output_type": "stream",
     "text": [
      "Model weights saved in saved_models/XLNetDepr-3_256_8-ALL_NA-PEL-BS1-GWS_PCC_IT192_DH_2LMAEALPHA1_NZ20_PNTh0.05_AnnotThresh0.5/checkpoint-970672/pytorch_model.bin\n"
     ]
    },
    {
     "name": "stderr",
     "output_type": "stream",
     "text": [
      "Deleting older checkpoint [saved_models/XLNetDepr-3_256_8-ALL_NA-PEL-BS1-GWS_PCC_IT192_DH_2LMAEALPHA1_NZ20_PNTh0.05_AnnotThresh0.5/checkpoint-945128] due to args.save_total_limit\n"
     ]
    },
    {
     "name": "stderr",
     "output_type": "stream",
     "text": [
      "***** Running Evaluation *****\n"
     ]
    },
    {
     "name": "stderr",
     "output_type": "stream",
     "text": [
      "  Num examples = 1592\n"
     ]
    },
    {
     "name": "stderr",
     "output_type": "stream",
     "text": [
      "  Batch size = 1\n"
     ]
    },
    {
     "name": "stderr",
     "output_type": "stream",
     "text": [
      "Saving model checkpoint to saved_models/XLNetDepr-3_256_8-ALL_NA-PEL-BS1-GWS_PCC_IT192_DH_2LMAEALPHA1_NZ20_PNTh0.05_AnnotThresh0.5/checkpoint-977058\n"
     ]
    },
    {
     "name": "stderr",
     "output_type": "stream",
     "text": [
      "Configuration saved in saved_models/XLNetDepr-3_256_8-ALL_NA-PEL-BS1-GWS_PCC_IT192_DH_2LMAEALPHA1_NZ20_PNTh0.05_AnnotThresh0.5/checkpoint-977058/config.json\n"
     ]
    },
    {
     "name": "stderr",
     "output_type": "stream",
     "text": [
      "Model weights saved in saved_models/XLNetDepr-3_256_8-ALL_NA-PEL-BS1-GWS_PCC_IT192_DH_2LMAEALPHA1_NZ20_PNTh0.05_AnnotThresh0.5/checkpoint-977058/pytorch_model.bin\n"
     ]
    },
    {
     "name": "stderr",
     "output_type": "stream",
     "text": [
      "Deleting older checkpoint [saved_models/XLNetDepr-3_256_8-ALL_NA-PEL-BS1-GWS_PCC_IT192_DH_2LMAEALPHA1_NZ20_PNTh0.05_AnnotThresh0.5/checkpoint-951514] due to args.save_total_limit\n"
     ]
    },
    {
     "name": "stderr",
     "output_type": "stream",
     "text": [
      "***** Running Evaluation *****\n"
     ]
    },
    {
     "name": "stderr",
     "output_type": "stream",
     "text": [
      "  Num examples = 1592\n"
     ]
    },
    {
     "name": "stderr",
     "output_type": "stream",
     "text": [
      "  Batch size = 1\n"
     ]
    },
    {
     "name": "stderr",
     "output_type": "stream",
     "text": [
      "Saving model checkpoint to saved_models/XLNetDepr-3_256_8-ALL_NA-PEL-BS1-GWS_PCC_IT192_DH_2LMAEALPHA1_NZ20_PNTh0.05_AnnotThresh0.5/checkpoint-983444\n"
     ]
    },
    {
     "name": "stderr",
     "output_type": "stream",
     "text": [
      "Configuration saved in saved_models/XLNetDepr-3_256_8-ALL_NA-PEL-BS1-GWS_PCC_IT192_DH_2LMAEALPHA1_NZ20_PNTh0.05_AnnotThresh0.5/checkpoint-983444/config.json\n"
     ]
    },
    {
     "name": "stderr",
     "output_type": "stream",
     "text": [
      "Model weights saved in saved_models/XLNetDepr-3_256_8-ALL_NA-PEL-BS1-GWS_PCC_IT192_DH_2LMAEALPHA1_NZ20_PNTh0.05_AnnotThresh0.5/checkpoint-983444/pytorch_model.bin\n"
     ]
    },
    {
     "name": "stderr",
     "output_type": "stream",
     "text": [
      "Deleting older checkpoint [saved_models/XLNetDepr-3_256_8-ALL_NA-PEL-BS1-GWS_PCC_IT192_DH_2LMAEALPHA1_NZ20_PNTh0.05_AnnotThresh0.5/checkpoint-957900] due to args.save_total_limit\n"
     ]
    },
    {
     "name": "stderr",
     "output_type": "stream",
     "text": [
      "***** Running Evaluation *****\n"
     ]
    },
    {
     "name": "stderr",
     "output_type": "stream",
     "text": [
      "  Num examples = 1592\n"
     ]
    },
    {
     "name": "stderr",
     "output_type": "stream",
     "text": [
      "  Batch size = 1\n"
     ]
    },
    {
     "name": "stderr",
     "output_type": "stream",
     "text": [
      "Saving model checkpoint to saved_models/XLNetDepr-3_256_8-ALL_NA-PEL-BS1-GWS_PCC_IT192_DH_2LMAEALPHA1_NZ20_PNTh0.05_AnnotThresh0.5/checkpoint-989830\n"
     ]
    },
    {
     "name": "stderr",
     "output_type": "stream",
     "text": [
      "Configuration saved in saved_models/XLNetDepr-3_256_8-ALL_NA-PEL-BS1-GWS_PCC_IT192_DH_2LMAEALPHA1_NZ20_PNTh0.05_AnnotThresh0.5/checkpoint-989830/config.json\n"
     ]
    },
    {
     "name": "stderr",
     "output_type": "stream",
     "text": [
      "Model weights saved in saved_models/XLNetDepr-3_256_8-ALL_NA-PEL-BS1-GWS_PCC_IT192_DH_2LMAEALPHA1_NZ20_PNTh0.05_AnnotThresh0.5/checkpoint-989830/pytorch_model.bin\n"
     ]
    },
    {
     "name": "stderr",
     "output_type": "stream",
     "text": [
      "Deleting older checkpoint [saved_models/XLNetDepr-3_256_8-ALL_NA-PEL-BS1-GWS_PCC_IT192_DH_2LMAEALPHA1_NZ20_PNTh0.05_AnnotThresh0.5/checkpoint-964286] due to args.save_total_limit\n"
     ]
    },
    {
     "name": "stderr",
     "output_type": "stream",
     "text": [
      "***** Running Evaluation *****\n"
     ]
    },
    {
     "name": "stderr",
     "output_type": "stream",
     "text": [
      "  Num examples = 1592\n"
     ]
    },
    {
     "name": "stderr",
     "output_type": "stream",
     "text": [
      "  Batch size = 1\n"
     ]
    },
    {
     "name": "stderr",
     "output_type": "stream",
     "text": [
      "Saving model checkpoint to saved_models/XLNetDepr-3_256_8-ALL_NA-PEL-BS1-GWS_PCC_IT192_DH_2LMAEALPHA1_NZ20_PNTh0.05_AnnotThresh0.5/checkpoint-996216\n"
     ]
    },
    {
     "name": "stderr",
     "output_type": "stream",
     "text": [
      "Configuration saved in saved_models/XLNetDepr-3_256_8-ALL_NA-PEL-BS1-GWS_PCC_IT192_DH_2LMAEALPHA1_NZ20_PNTh0.05_AnnotThresh0.5/checkpoint-996216/config.json\n"
     ]
    },
    {
     "name": "stderr",
     "output_type": "stream",
     "text": [
      "Model weights saved in saved_models/XLNetDepr-3_256_8-ALL_NA-PEL-BS1-GWS_PCC_IT192_DH_2LMAEALPHA1_NZ20_PNTh0.05_AnnotThresh0.5/checkpoint-996216/pytorch_model.bin\n"
     ]
    },
    {
     "name": "stderr",
     "output_type": "stream",
     "text": [
      "Deleting older checkpoint [saved_models/XLNetDepr-3_256_8-ALL_NA-PEL-BS1-GWS_PCC_IT192_DH_2LMAEALPHA1_NZ20_PNTh0.05_AnnotThresh0.5/checkpoint-970672] due to args.save_total_limit\n"
     ]
    },
    {
     "name": "stderr",
     "output_type": "stream",
     "text": [
      "***** Running Evaluation *****\n"
     ]
    },
    {
     "name": "stderr",
     "output_type": "stream",
     "text": [
      "  Num examples = 1592\n"
     ]
    },
    {
     "name": "stderr",
     "output_type": "stream",
     "text": [
      "  Batch size = 1\n"
     ]
    },
    {
     "name": "stderr",
     "output_type": "stream",
     "text": [
      "Saving model checkpoint to saved_models/XLNetDepr-3_256_8-ALL_NA-PEL-BS1-GWS_PCC_IT192_DH_2LMAEALPHA1_NZ20_PNTh0.05_AnnotThresh0.5/checkpoint-1002602\n"
     ]
    },
    {
     "name": "stderr",
     "output_type": "stream",
     "text": [
      "Configuration saved in saved_models/XLNetDepr-3_256_8-ALL_NA-PEL-BS1-GWS_PCC_IT192_DH_2LMAEALPHA1_NZ20_PNTh0.05_AnnotThresh0.5/checkpoint-1002602/config.json\n"
     ]
    },
    {
     "name": "stderr",
     "output_type": "stream",
     "text": [
      "Model weights saved in saved_models/XLNetDepr-3_256_8-ALL_NA-PEL-BS1-GWS_PCC_IT192_DH_2LMAEALPHA1_NZ20_PNTh0.05_AnnotThresh0.5/checkpoint-1002602/pytorch_model.bin\n"
     ]
    },
    {
     "name": "stderr",
     "output_type": "stream",
     "text": [
      "Deleting older checkpoint [saved_models/XLNetDepr-3_256_8-ALL_NA-PEL-BS1-GWS_PCC_IT192_DH_2LMAEALPHA1_NZ20_PNTh0.05_AnnotThresh0.5/checkpoint-977058] due to args.save_total_limit\n"
     ]
    },
    {
     "name": "stderr",
     "output_type": "stream",
     "text": [
      "***** Running Evaluation *****\n"
     ]
    },
    {
     "name": "stderr",
     "output_type": "stream",
     "text": [
      "  Num examples = 1592\n"
     ]
    },
    {
     "name": "stderr",
     "output_type": "stream",
     "text": [
      "  Batch size = 1\n"
     ]
    },
    {
     "name": "stderr",
     "output_type": "stream",
     "text": [
      "Saving model checkpoint to saved_models/XLNetDepr-3_256_8-ALL_NA-PEL-BS1-GWS_PCC_IT192_DH_2LMAEALPHA1_NZ20_PNTh0.05_AnnotThresh0.5/checkpoint-1008988\n"
     ]
    },
    {
     "name": "stderr",
     "output_type": "stream",
     "text": [
      "Configuration saved in saved_models/XLNetDepr-3_256_8-ALL_NA-PEL-BS1-GWS_PCC_IT192_DH_2LMAEALPHA1_NZ20_PNTh0.05_AnnotThresh0.5/checkpoint-1008988/config.json\n"
     ]
    },
    {
     "name": "stderr",
     "output_type": "stream",
     "text": [
      "Model weights saved in saved_models/XLNetDepr-3_256_8-ALL_NA-PEL-BS1-GWS_PCC_IT192_DH_2LMAEALPHA1_NZ20_PNTh0.05_AnnotThresh0.5/checkpoint-1008988/pytorch_model.bin\n"
     ]
    },
    {
     "name": "stderr",
     "output_type": "stream",
     "text": [
      "Deleting older checkpoint [saved_models/XLNetDepr-3_256_8-ALL_NA-PEL-BS1-GWS_PCC_IT192_DH_2LMAEALPHA1_NZ20_PNTh0.05_AnnotThresh0.5/checkpoint-983444] due to args.save_total_limit\n"
     ]
    },
    {
     "name": "stderr",
     "output_type": "stream",
     "text": [
      "***** Running Evaluation *****\n"
     ]
    },
    {
     "name": "stderr",
     "output_type": "stream",
     "text": [
      "  Num examples = 1592\n"
     ]
    },
    {
     "name": "stderr",
     "output_type": "stream",
     "text": [
      "  Batch size = 1\n"
     ]
    },
    {
     "name": "stderr",
     "output_type": "stream",
     "text": [
      "Saving model checkpoint to saved_models/XLNetDepr-3_256_8-ALL_NA-PEL-BS1-GWS_PCC_IT192_DH_2LMAEALPHA1_NZ20_PNTh0.05_AnnotThresh0.5/checkpoint-1015374\n"
     ]
    },
    {
     "name": "stderr",
     "output_type": "stream",
     "text": [
      "Configuration saved in saved_models/XLNetDepr-3_256_8-ALL_NA-PEL-BS1-GWS_PCC_IT192_DH_2LMAEALPHA1_NZ20_PNTh0.05_AnnotThresh0.5/checkpoint-1015374/config.json\n"
     ]
    },
    {
     "name": "stderr",
     "output_type": "stream",
     "text": [
      "Model weights saved in saved_models/XLNetDepr-3_256_8-ALL_NA-PEL-BS1-GWS_PCC_IT192_DH_2LMAEALPHA1_NZ20_PNTh0.05_AnnotThresh0.5/checkpoint-1015374/pytorch_model.bin\n"
     ]
    },
    {
     "name": "stderr",
     "output_type": "stream",
     "text": [
      "Deleting older checkpoint [saved_models/XLNetDepr-3_256_8-ALL_NA-PEL-BS1-GWS_PCC_IT192_DH_2LMAEALPHA1_NZ20_PNTh0.05_AnnotThresh0.5/checkpoint-989830] due to args.save_total_limit\n"
     ]
    },
    {
     "name": "stderr",
     "output_type": "stream",
     "text": [
      "***** Running Evaluation *****\n"
     ]
    },
    {
     "name": "stderr",
     "output_type": "stream",
     "text": [
      "  Num examples = 1592\n"
     ]
    },
    {
     "name": "stderr",
     "output_type": "stream",
     "text": [
      "  Batch size = 1\n"
     ]
    },
    {
     "name": "stderr",
     "output_type": "stream",
     "text": [
      "Saving model checkpoint to saved_models/XLNetDepr-3_256_8-ALL_NA-PEL-BS1-GWS_PCC_IT192_DH_2LMAEALPHA1_NZ20_PNTh0.05_AnnotThresh0.5/checkpoint-1021760\n"
     ]
    },
    {
     "name": "stderr",
     "output_type": "stream",
     "text": [
      "Configuration saved in saved_models/XLNetDepr-3_256_8-ALL_NA-PEL-BS1-GWS_PCC_IT192_DH_2LMAEALPHA1_NZ20_PNTh0.05_AnnotThresh0.5/checkpoint-1021760/config.json\n"
     ]
    },
    {
     "name": "stderr",
     "output_type": "stream",
     "text": [
      "Model weights saved in saved_models/XLNetDepr-3_256_8-ALL_NA-PEL-BS1-GWS_PCC_IT192_DH_2LMAEALPHA1_NZ20_PNTh0.05_AnnotThresh0.5/checkpoint-1021760/pytorch_model.bin\n"
     ]
    },
    {
     "name": "stderr",
     "output_type": "stream",
     "text": [
      "Deleting older checkpoint [saved_models/XLNetDepr-3_256_8-ALL_NA-PEL-BS1-GWS_PCC_IT192_DH_2LMAEALPHA1_NZ20_PNTh0.05_AnnotThresh0.5/checkpoint-996216] due to args.save_total_limit\n"
     ]
    },
    {
     "name": "stderr",
     "output_type": "stream",
     "text": [
      "***** Running Evaluation *****\n"
     ]
    },
    {
     "name": "stderr",
     "output_type": "stream",
     "text": [
      "  Num examples = 1592\n"
     ]
    },
    {
     "name": "stderr",
     "output_type": "stream",
     "text": [
      "  Batch size = 1\n"
     ]
    },
    {
     "name": "stderr",
     "output_type": "stream",
     "text": [
      "Saving model checkpoint to saved_models/XLNetDepr-3_256_8-ALL_NA-PEL-BS1-GWS_PCC_IT192_DH_2LMAEALPHA1_NZ20_PNTh0.05_AnnotThresh0.5/checkpoint-1028146\n"
     ]
    },
    {
     "name": "stderr",
     "output_type": "stream",
     "text": [
      "Configuration saved in saved_models/XLNetDepr-3_256_8-ALL_NA-PEL-BS1-GWS_PCC_IT192_DH_2LMAEALPHA1_NZ20_PNTh0.05_AnnotThresh0.5/checkpoint-1028146/config.json\n"
     ]
    },
    {
     "name": "stderr",
     "output_type": "stream",
     "text": [
      "Model weights saved in saved_models/XLNetDepr-3_256_8-ALL_NA-PEL-BS1-GWS_PCC_IT192_DH_2LMAEALPHA1_NZ20_PNTh0.05_AnnotThresh0.5/checkpoint-1028146/pytorch_model.bin\n"
     ]
    },
    {
     "name": "stderr",
     "output_type": "stream",
     "text": [
      "Deleting older checkpoint [saved_models/XLNetDepr-3_256_8-ALL_NA-PEL-BS1-GWS_PCC_IT192_DH_2LMAEALPHA1_NZ20_PNTh0.05_AnnotThresh0.5/checkpoint-1002602] due to args.save_total_limit\n"
     ]
    },
    {
     "name": "stderr",
     "output_type": "stream",
     "text": [
      "***** Running Evaluation *****\n"
     ]
    },
    {
     "name": "stderr",
     "output_type": "stream",
     "text": [
      "  Num examples = 1592\n"
     ]
    },
    {
     "name": "stderr",
     "output_type": "stream",
     "text": [
      "  Batch size = 1\n"
     ]
    },
    {
     "name": "stderr",
     "output_type": "stream",
     "text": [
      "Saving model checkpoint to saved_models/XLNetDepr-3_256_8-ALL_NA-PEL-BS1-GWS_PCC_IT192_DH_2LMAEALPHA1_NZ20_PNTh0.05_AnnotThresh0.5/checkpoint-1034532\n"
     ]
    },
    {
     "name": "stderr",
     "output_type": "stream",
     "text": [
      "Configuration saved in saved_models/XLNetDepr-3_256_8-ALL_NA-PEL-BS1-GWS_PCC_IT192_DH_2LMAEALPHA1_NZ20_PNTh0.05_AnnotThresh0.5/checkpoint-1034532/config.json\n"
     ]
    },
    {
     "name": "stderr",
     "output_type": "stream",
     "text": [
      "Model weights saved in saved_models/XLNetDepr-3_256_8-ALL_NA-PEL-BS1-GWS_PCC_IT192_DH_2LMAEALPHA1_NZ20_PNTh0.05_AnnotThresh0.5/checkpoint-1034532/pytorch_model.bin\n"
     ]
    },
    {
     "name": "stderr",
     "output_type": "stream",
     "text": [
      "Deleting older checkpoint [saved_models/XLNetDepr-3_256_8-ALL_NA-PEL-BS1-GWS_PCC_IT192_DH_2LMAEALPHA1_NZ20_PNTh0.05_AnnotThresh0.5/checkpoint-1008988] due to args.save_total_limit\n"
     ]
    },
    {
     "name": "stderr",
     "output_type": "stream",
     "text": [
      "***** Running Evaluation *****\n"
     ]
    },
    {
     "name": "stderr",
     "output_type": "stream",
     "text": [
      "  Num examples = 1592\n"
     ]
    },
    {
     "name": "stderr",
     "output_type": "stream",
     "text": [
      "  Batch size = 1\n"
     ]
    },
    {
     "name": "stderr",
     "output_type": "stream",
     "text": [
      "Saving model checkpoint to saved_models/XLNetDepr-3_256_8-ALL_NA-PEL-BS1-GWS_PCC_IT192_DH_2LMAEALPHA1_NZ20_PNTh0.05_AnnotThresh0.5/checkpoint-1040918\n"
     ]
    },
    {
     "name": "stderr",
     "output_type": "stream",
     "text": [
      "Configuration saved in saved_models/XLNetDepr-3_256_8-ALL_NA-PEL-BS1-GWS_PCC_IT192_DH_2LMAEALPHA1_NZ20_PNTh0.05_AnnotThresh0.5/checkpoint-1040918/config.json\n"
     ]
    },
    {
     "name": "stderr",
     "output_type": "stream",
     "text": [
      "Model weights saved in saved_models/XLNetDepr-3_256_8-ALL_NA-PEL-BS1-GWS_PCC_IT192_DH_2LMAEALPHA1_NZ20_PNTh0.05_AnnotThresh0.5/checkpoint-1040918/pytorch_model.bin\n"
     ]
    },
    {
     "name": "stderr",
     "output_type": "stream",
     "text": [
      "Deleting older checkpoint [saved_models/XLNetDepr-3_256_8-ALL_NA-PEL-BS1-GWS_PCC_IT192_DH_2LMAEALPHA1_NZ20_PNTh0.05_AnnotThresh0.5/checkpoint-1015374] due to args.save_total_limit\n"
     ]
    },
    {
     "name": "stderr",
     "output_type": "stream",
     "text": [
      "***** Running Evaluation *****\n"
     ]
    },
    {
     "name": "stderr",
     "output_type": "stream",
     "text": [
      "  Num examples = 1592\n"
     ]
    },
    {
     "name": "stderr",
     "output_type": "stream",
     "text": [
      "  Batch size = 1\n"
     ]
    },
    {
     "name": "stderr",
     "output_type": "stream",
     "text": [
      "Saving model checkpoint to saved_models/XLNetDepr-3_256_8-ALL_NA-PEL-BS1-GWS_PCC_IT192_DH_2LMAEALPHA1_NZ20_PNTh0.05_AnnotThresh0.5/checkpoint-1047304\n"
     ]
    },
    {
     "name": "stderr",
     "output_type": "stream",
     "text": [
      "Configuration saved in saved_models/XLNetDepr-3_256_8-ALL_NA-PEL-BS1-GWS_PCC_IT192_DH_2LMAEALPHA1_NZ20_PNTh0.05_AnnotThresh0.5/checkpoint-1047304/config.json\n"
     ]
    },
    {
     "name": "stderr",
     "output_type": "stream",
     "text": [
      "Model weights saved in saved_models/XLNetDepr-3_256_8-ALL_NA-PEL-BS1-GWS_PCC_IT192_DH_2LMAEALPHA1_NZ20_PNTh0.05_AnnotThresh0.5/checkpoint-1047304/pytorch_model.bin\n"
     ]
    },
    {
     "name": "stderr",
     "output_type": "stream",
     "text": [
      "Deleting older checkpoint [saved_models/XLNetDepr-3_256_8-ALL_NA-PEL-BS1-GWS_PCC_IT192_DH_2LMAEALPHA1_NZ20_PNTh0.05_AnnotThresh0.5/checkpoint-1021760] due to args.save_total_limit\n"
     ]
    },
    {
     "name": "stderr",
     "output_type": "stream",
     "text": [
      "***** Running Evaluation *****\n"
     ]
    },
    {
     "name": "stderr",
     "output_type": "stream",
     "text": [
      "  Num examples = 1592\n"
     ]
    },
    {
     "name": "stderr",
     "output_type": "stream",
     "text": [
      "  Batch size = 1\n"
     ]
    },
    {
     "name": "stderr",
     "output_type": "stream",
     "text": [
      "Saving model checkpoint to saved_models/XLNetDepr-3_256_8-ALL_NA-PEL-BS1-GWS_PCC_IT192_DH_2LMAEALPHA1_NZ20_PNTh0.05_AnnotThresh0.5/checkpoint-1053690\n"
     ]
    },
    {
     "name": "stderr",
     "output_type": "stream",
     "text": [
      "Configuration saved in saved_models/XLNetDepr-3_256_8-ALL_NA-PEL-BS1-GWS_PCC_IT192_DH_2LMAEALPHA1_NZ20_PNTh0.05_AnnotThresh0.5/checkpoint-1053690/config.json\n"
     ]
    },
    {
     "name": "stderr",
     "output_type": "stream",
     "text": [
      "Model weights saved in saved_models/XLNetDepr-3_256_8-ALL_NA-PEL-BS1-GWS_PCC_IT192_DH_2LMAEALPHA1_NZ20_PNTh0.05_AnnotThresh0.5/checkpoint-1053690/pytorch_model.bin\n"
     ]
    },
    {
     "name": "stderr",
     "output_type": "stream",
     "text": [
      "Deleting older checkpoint [saved_models/XLNetDepr-3_256_8-ALL_NA-PEL-BS1-GWS_PCC_IT192_DH_2LMAEALPHA1_NZ20_PNTh0.05_AnnotThresh0.5/checkpoint-1028146] due to args.save_total_limit\n"
     ]
    },
    {
     "name": "stderr",
     "output_type": "stream",
     "text": [
      "***** Running Evaluation *****\n"
     ]
    },
    {
     "name": "stderr",
     "output_type": "stream",
     "text": [
      "  Num examples = 1592\n"
     ]
    },
    {
     "name": "stderr",
     "output_type": "stream",
     "text": [
      "  Batch size = 1\n"
     ]
    },
    {
     "name": "stderr",
     "output_type": "stream",
     "text": [
      "Saving model checkpoint to saved_models/XLNetDepr-3_256_8-ALL_NA-PEL-BS1-GWS_PCC_IT192_DH_2LMAEALPHA1_NZ20_PNTh0.05_AnnotThresh0.5/checkpoint-1060076\n"
     ]
    },
    {
     "name": "stderr",
     "output_type": "stream",
     "text": [
      "Configuration saved in saved_models/XLNetDepr-3_256_8-ALL_NA-PEL-BS1-GWS_PCC_IT192_DH_2LMAEALPHA1_NZ20_PNTh0.05_AnnotThresh0.5/checkpoint-1060076/config.json\n"
     ]
    },
    {
     "name": "stderr",
     "output_type": "stream",
     "text": [
      "Model weights saved in saved_models/XLNetDepr-3_256_8-ALL_NA-PEL-BS1-GWS_PCC_IT192_DH_2LMAEALPHA1_NZ20_PNTh0.05_AnnotThresh0.5/checkpoint-1060076/pytorch_model.bin\n"
     ]
    },
    {
     "name": "stderr",
     "output_type": "stream",
     "text": [
      "Deleting older checkpoint [saved_models/XLNetDepr-3_256_8-ALL_NA-PEL-BS1-GWS_PCC_IT192_DH_2LMAEALPHA1_NZ20_PNTh0.05_AnnotThresh0.5/checkpoint-1034532] due to args.save_total_limit\n"
     ]
    },
    {
     "name": "stderr",
     "output_type": "stream",
     "text": [
      "***** Running Evaluation *****\n"
     ]
    },
    {
     "name": "stderr",
     "output_type": "stream",
     "text": [
      "  Num examples = 1592\n"
     ]
    },
    {
     "name": "stderr",
     "output_type": "stream",
     "text": [
      "  Batch size = 1\n"
     ]
    },
    {
     "name": "stderr",
     "output_type": "stream",
     "text": [
      "Saving model checkpoint to saved_models/XLNetDepr-3_256_8-ALL_NA-PEL-BS1-GWS_PCC_IT192_DH_2LMAEALPHA1_NZ20_PNTh0.05_AnnotThresh0.5/checkpoint-1066462\n"
     ]
    },
    {
     "name": "stderr",
     "output_type": "stream",
     "text": [
      "Configuration saved in saved_models/XLNetDepr-3_256_8-ALL_NA-PEL-BS1-GWS_PCC_IT192_DH_2LMAEALPHA1_NZ20_PNTh0.05_AnnotThresh0.5/checkpoint-1066462/config.json\n"
     ]
    },
    {
     "name": "stderr",
     "output_type": "stream",
     "text": [
      "Model weights saved in saved_models/XLNetDepr-3_256_8-ALL_NA-PEL-BS1-GWS_PCC_IT192_DH_2LMAEALPHA1_NZ20_PNTh0.05_AnnotThresh0.5/checkpoint-1066462/pytorch_model.bin\n"
     ]
    },
    {
     "name": "stderr",
     "output_type": "stream",
     "text": [
      "Deleting older checkpoint [saved_models/XLNetDepr-3_256_8-ALL_NA-PEL-BS1-GWS_PCC_IT192_DH_2LMAEALPHA1_NZ20_PNTh0.05_AnnotThresh0.5/checkpoint-1040918] due to args.save_total_limit\n"
     ]
    },
    {
     "name": "stderr",
     "output_type": "stream",
     "text": [
      "***** Running Evaluation *****\n"
     ]
    },
    {
     "name": "stderr",
     "output_type": "stream",
     "text": [
      "  Num examples = 1592\n"
     ]
    },
    {
     "name": "stderr",
     "output_type": "stream",
     "text": [
      "  Batch size = 1\n"
     ]
    },
    {
     "name": "stderr",
     "output_type": "stream",
     "text": [
      "Saving model checkpoint to saved_models/XLNetDepr-3_256_8-ALL_NA-PEL-BS1-GWS_PCC_IT192_DH_2LMAEALPHA1_NZ20_PNTh0.05_AnnotThresh0.5/checkpoint-1072848\n"
     ]
    },
    {
     "name": "stderr",
     "output_type": "stream",
     "text": [
      "Configuration saved in saved_models/XLNetDepr-3_256_8-ALL_NA-PEL-BS1-GWS_PCC_IT192_DH_2LMAEALPHA1_NZ20_PNTh0.05_AnnotThresh0.5/checkpoint-1072848/config.json\n"
     ]
    },
    {
     "name": "stderr",
     "output_type": "stream",
     "text": [
      "Model weights saved in saved_models/XLNetDepr-3_256_8-ALL_NA-PEL-BS1-GWS_PCC_IT192_DH_2LMAEALPHA1_NZ20_PNTh0.05_AnnotThresh0.5/checkpoint-1072848/pytorch_model.bin\n"
     ]
    },
    {
     "name": "stderr",
     "output_type": "stream",
     "text": [
      "Deleting older checkpoint [saved_models/XLNetDepr-3_256_8-ALL_NA-PEL-BS1-GWS_PCC_IT192_DH_2LMAEALPHA1_NZ20_PNTh0.05_AnnotThresh0.5/checkpoint-1047304] due to args.save_total_limit\n"
     ]
    },
    {
     "name": "stderr",
     "output_type": "stream",
     "text": [
      "***** Running Evaluation *****\n"
     ]
    },
    {
     "name": "stderr",
     "output_type": "stream",
     "text": [
      "  Num examples = 1592\n"
     ]
    },
    {
     "name": "stderr",
     "output_type": "stream",
     "text": [
      "  Batch size = 1\n"
     ]
    },
    {
     "name": "stderr",
     "output_type": "stream",
     "text": [
      "Saving model checkpoint to saved_models/XLNetDepr-3_256_8-ALL_NA-PEL-BS1-GWS_PCC_IT192_DH_2LMAEALPHA1_NZ20_PNTh0.05_AnnotThresh0.5/checkpoint-1079234\n"
     ]
    },
    {
     "name": "stderr",
     "output_type": "stream",
     "text": [
      "Configuration saved in saved_models/XLNetDepr-3_256_8-ALL_NA-PEL-BS1-GWS_PCC_IT192_DH_2LMAEALPHA1_NZ20_PNTh0.05_AnnotThresh0.5/checkpoint-1079234/config.json\n"
     ]
    },
    {
     "name": "stderr",
     "output_type": "stream",
     "text": [
      "Model weights saved in saved_models/XLNetDepr-3_256_8-ALL_NA-PEL-BS1-GWS_PCC_IT192_DH_2LMAEALPHA1_NZ20_PNTh0.05_AnnotThresh0.5/checkpoint-1079234/pytorch_model.bin\n"
     ]
    },
    {
     "name": "stderr",
     "output_type": "stream",
     "text": [
      "Deleting older checkpoint [saved_models/XLNetDepr-3_256_8-ALL_NA-PEL-BS1-GWS_PCC_IT192_DH_2LMAEALPHA1_NZ20_PNTh0.05_AnnotThresh0.5/checkpoint-1053690] due to args.save_total_limit\n"
     ]
    },
    {
     "name": "stderr",
     "output_type": "stream",
     "text": [
      "***** Running Evaluation *****\n"
     ]
    },
    {
     "name": "stderr",
     "output_type": "stream",
     "text": [
      "  Num examples = 1592\n"
     ]
    },
    {
     "name": "stderr",
     "output_type": "stream",
     "text": [
      "  Batch size = 1\n"
     ]
    },
    {
     "name": "stderr",
     "output_type": "stream",
     "text": [
      "Saving model checkpoint to saved_models/XLNetDepr-3_256_8-ALL_NA-PEL-BS1-GWS_PCC_IT192_DH_2LMAEALPHA1_NZ20_PNTh0.05_AnnotThresh0.5/checkpoint-1085620\n"
     ]
    },
    {
     "name": "stderr",
     "output_type": "stream",
     "text": [
      "Configuration saved in saved_models/XLNetDepr-3_256_8-ALL_NA-PEL-BS1-GWS_PCC_IT192_DH_2LMAEALPHA1_NZ20_PNTh0.05_AnnotThresh0.5/checkpoint-1085620/config.json\n"
     ]
    },
    {
     "name": "stderr",
     "output_type": "stream",
     "text": [
      "Model weights saved in saved_models/XLNetDepr-3_256_8-ALL_NA-PEL-BS1-GWS_PCC_IT192_DH_2LMAEALPHA1_NZ20_PNTh0.05_AnnotThresh0.5/checkpoint-1085620/pytorch_model.bin\n"
     ]
    },
    {
     "name": "stderr",
     "output_type": "stream",
     "text": [
      "Deleting older checkpoint [saved_models/XLNetDepr-3_256_8-ALL_NA-PEL-BS1-GWS_PCC_IT192_DH_2LMAEALPHA1_NZ20_PNTh0.05_AnnotThresh0.5/checkpoint-1060076] due to args.save_total_limit\n"
     ]
    },
    {
     "name": "stderr",
     "output_type": "stream",
     "text": [
      "***** Running Evaluation *****\n"
     ]
    },
    {
     "name": "stderr",
     "output_type": "stream",
     "text": [
      "  Num examples = 1592\n"
     ]
    },
    {
     "name": "stderr",
     "output_type": "stream",
     "text": [
      "  Batch size = 1\n"
     ]
    },
    {
     "name": "stderr",
     "output_type": "stream",
     "text": [
      "Saving model checkpoint to saved_models/XLNetDepr-3_256_8-ALL_NA-PEL-BS1-GWS_PCC_IT192_DH_2LMAEALPHA1_NZ20_PNTh0.05_AnnotThresh0.5/checkpoint-1092006\n"
     ]
    },
    {
     "name": "stderr",
     "output_type": "stream",
     "text": [
      "Configuration saved in saved_models/XLNetDepr-3_256_8-ALL_NA-PEL-BS1-GWS_PCC_IT192_DH_2LMAEALPHA1_NZ20_PNTh0.05_AnnotThresh0.5/checkpoint-1092006/config.json\n"
     ]
    },
    {
     "name": "stderr",
     "output_type": "stream",
     "text": [
      "Model weights saved in saved_models/XLNetDepr-3_256_8-ALL_NA-PEL-BS1-GWS_PCC_IT192_DH_2LMAEALPHA1_NZ20_PNTh0.05_AnnotThresh0.5/checkpoint-1092006/pytorch_model.bin\n"
     ]
    },
    {
     "name": "stderr",
     "output_type": "stream",
     "text": [
      "Deleting older checkpoint [saved_models/XLNetDepr-3_256_8-ALL_NA-PEL-BS1-GWS_PCC_IT192_DH_2LMAEALPHA1_NZ20_PNTh0.05_AnnotThresh0.5/checkpoint-1066462] due to args.save_total_limit\n"
     ]
    },
    {
     "name": "stderr",
     "output_type": "stream",
     "text": [
      "***** Running Evaluation *****\n"
     ]
    },
    {
     "name": "stderr",
     "output_type": "stream",
     "text": [
      "  Num examples = 1592\n"
     ]
    },
    {
     "name": "stderr",
     "output_type": "stream",
     "text": [
      "  Batch size = 1\n"
     ]
    },
    {
     "name": "stderr",
     "output_type": "stream",
     "text": [
      "Saving model checkpoint to saved_models/XLNetDepr-3_256_8-ALL_NA-PEL-BS1-GWS_PCC_IT192_DH_2LMAEALPHA1_NZ20_PNTh0.05_AnnotThresh0.5/checkpoint-1098392\n"
     ]
    },
    {
     "name": "stderr",
     "output_type": "stream",
     "text": [
      "Configuration saved in saved_models/XLNetDepr-3_256_8-ALL_NA-PEL-BS1-GWS_PCC_IT192_DH_2LMAEALPHA1_NZ20_PNTh0.05_AnnotThresh0.5/checkpoint-1098392/config.json\n"
     ]
    },
    {
     "name": "stderr",
     "output_type": "stream",
     "text": [
      "Model weights saved in saved_models/XLNetDepr-3_256_8-ALL_NA-PEL-BS1-GWS_PCC_IT192_DH_2LMAEALPHA1_NZ20_PNTh0.05_AnnotThresh0.5/checkpoint-1098392/pytorch_model.bin\n"
     ]
    },
    {
     "name": "stderr",
     "output_type": "stream",
     "text": [
      "Deleting older checkpoint [saved_models/XLNetDepr-3_256_8-ALL_NA-PEL-BS1-GWS_PCC_IT192_DH_2LMAEALPHA1_NZ20_PNTh0.05_AnnotThresh0.5/checkpoint-1072848] due to args.save_total_limit\n"
     ]
    },
    {
     "name": "stderr",
     "output_type": "stream",
     "text": [
      "***** Running Evaluation *****\n"
     ]
    },
    {
     "name": "stderr",
     "output_type": "stream",
     "text": [
      "  Num examples = 1592\n"
     ]
    },
    {
     "name": "stderr",
     "output_type": "stream",
     "text": [
      "  Batch size = 1\n"
     ]
    },
    {
     "name": "stderr",
     "output_type": "stream",
     "text": [
      "Saving model checkpoint to saved_models/XLNetDepr-3_256_8-ALL_NA-PEL-BS1-GWS_PCC_IT192_DH_2LMAEALPHA1_NZ20_PNTh0.05_AnnotThresh0.5/checkpoint-1104778\n"
     ]
    },
    {
     "name": "stderr",
     "output_type": "stream",
     "text": [
      "Configuration saved in saved_models/XLNetDepr-3_256_8-ALL_NA-PEL-BS1-GWS_PCC_IT192_DH_2LMAEALPHA1_NZ20_PNTh0.05_AnnotThresh0.5/checkpoint-1104778/config.json\n"
     ]
    },
    {
     "name": "stderr",
     "output_type": "stream",
     "text": [
      "Model weights saved in saved_models/XLNetDepr-3_256_8-ALL_NA-PEL-BS1-GWS_PCC_IT192_DH_2LMAEALPHA1_NZ20_PNTh0.05_AnnotThresh0.5/checkpoint-1104778/pytorch_model.bin\n"
     ]
    },
    {
     "name": "stderr",
     "output_type": "stream",
     "text": [
      "Deleting older checkpoint [saved_models/XLNetDepr-3_256_8-ALL_NA-PEL-BS1-GWS_PCC_IT192_DH_2LMAEALPHA1_NZ20_PNTh0.05_AnnotThresh0.5/checkpoint-1079234] due to args.save_total_limit\n"
     ]
    },
    {
     "name": "stderr",
     "output_type": "stream",
     "text": [
      "***** Running Evaluation *****\n"
     ]
    },
    {
     "name": "stderr",
     "output_type": "stream",
     "text": [
      "  Num examples = 1592\n"
     ]
    },
    {
     "name": "stderr",
     "output_type": "stream",
     "text": [
      "  Batch size = 1\n"
     ]
    },
    {
     "name": "stderr",
     "output_type": "stream",
     "text": [
      "Saving model checkpoint to saved_models/XLNetDepr-3_256_8-ALL_NA-PEL-BS1-GWS_PCC_IT192_DH_2LMAEALPHA1_NZ20_PNTh0.05_AnnotThresh0.5/checkpoint-1111164\n"
     ]
    },
    {
     "name": "stderr",
     "output_type": "stream",
     "text": [
      "Configuration saved in saved_models/XLNetDepr-3_256_8-ALL_NA-PEL-BS1-GWS_PCC_IT192_DH_2LMAEALPHA1_NZ20_PNTh0.05_AnnotThresh0.5/checkpoint-1111164/config.json\n"
     ]
    },
    {
     "name": "stderr",
     "output_type": "stream",
     "text": [
      "Model weights saved in saved_models/XLNetDepr-3_256_8-ALL_NA-PEL-BS1-GWS_PCC_IT192_DH_2LMAEALPHA1_NZ20_PNTh0.05_AnnotThresh0.5/checkpoint-1111164/pytorch_model.bin\n"
     ]
    },
    {
     "name": "stderr",
     "output_type": "stream",
     "text": [
      "Deleting older checkpoint [saved_models/XLNetDepr-3_256_8-ALL_NA-PEL-BS1-GWS_PCC_IT192_DH_2LMAEALPHA1_NZ20_PNTh0.05_AnnotThresh0.5/checkpoint-1085620] due to args.save_total_limit\n"
     ]
    },
    {
     "name": "stderr",
     "output_type": "stream",
     "text": [
      "***** Running Evaluation *****\n"
     ]
    },
    {
     "name": "stderr",
     "output_type": "stream",
     "text": [
      "  Num examples = 1592\n"
     ]
    },
    {
     "name": "stderr",
     "output_type": "stream",
     "text": [
      "  Batch size = 1\n"
     ]
    },
    {
     "name": "stderr",
     "output_type": "stream",
     "text": [
      "Saving model checkpoint to saved_models/XLNetDepr-3_256_8-ALL_NA-PEL-BS1-GWS_PCC_IT192_DH_2LMAEALPHA1_NZ20_PNTh0.05_AnnotThresh0.5/checkpoint-1117550\n"
     ]
    },
    {
     "name": "stderr",
     "output_type": "stream",
     "text": [
      "Configuration saved in saved_models/XLNetDepr-3_256_8-ALL_NA-PEL-BS1-GWS_PCC_IT192_DH_2LMAEALPHA1_NZ20_PNTh0.05_AnnotThresh0.5/checkpoint-1117550/config.json\n"
     ]
    },
    {
     "name": "stderr",
     "output_type": "stream",
     "text": [
      "Model weights saved in saved_models/XLNetDepr-3_256_8-ALL_NA-PEL-BS1-GWS_PCC_IT192_DH_2LMAEALPHA1_NZ20_PNTh0.05_AnnotThresh0.5/checkpoint-1117550/pytorch_model.bin\n"
     ]
    },
    {
     "name": "stderr",
     "output_type": "stream",
     "text": [
      "Deleting older checkpoint [saved_models/XLNetDepr-3_256_8-ALL_NA-PEL-BS1-GWS_PCC_IT192_DH_2LMAEALPHA1_NZ20_PNTh0.05_AnnotThresh0.5/checkpoint-1092006] due to args.save_total_limit\n"
     ]
    },
    {
     "name": "stderr",
     "output_type": "stream",
     "text": [
      "***** Running Evaluation *****\n"
     ]
    },
    {
     "name": "stderr",
     "output_type": "stream",
     "text": [
      "  Num examples = 1592\n"
     ]
    },
    {
     "name": "stderr",
     "output_type": "stream",
     "text": [
      "  Batch size = 1\n"
     ]
    },
    {
     "name": "stderr",
     "output_type": "stream",
     "text": [
      "Saving model checkpoint to saved_models/XLNetDepr-3_256_8-ALL_NA-PEL-BS1-GWS_PCC_IT192_DH_2LMAEALPHA1_NZ20_PNTh0.05_AnnotThresh0.5/checkpoint-1123936\n"
     ]
    },
    {
     "name": "stderr",
     "output_type": "stream",
     "text": [
      "Configuration saved in saved_models/XLNetDepr-3_256_8-ALL_NA-PEL-BS1-GWS_PCC_IT192_DH_2LMAEALPHA1_NZ20_PNTh0.05_AnnotThresh0.5/checkpoint-1123936/config.json\n"
     ]
    },
    {
     "name": "stderr",
     "output_type": "stream",
     "text": [
      "Model weights saved in saved_models/XLNetDepr-3_256_8-ALL_NA-PEL-BS1-GWS_PCC_IT192_DH_2LMAEALPHA1_NZ20_PNTh0.05_AnnotThresh0.5/checkpoint-1123936/pytorch_model.bin\n"
     ]
    },
    {
     "name": "stderr",
     "output_type": "stream",
     "text": [
      "Deleting older checkpoint [saved_models/XLNetDepr-3_256_8-ALL_NA-PEL-BS1-GWS_PCC_IT192_DH_2LMAEALPHA1_NZ20_PNTh0.05_AnnotThresh0.5/checkpoint-1098392] due to args.save_total_limit\n"
     ]
    },
    {
     "name": "stderr",
     "output_type": "stream",
     "text": [
      "***** Running Evaluation *****\n"
     ]
    },
    {
     "name": "stderr",
     "output_type": "stream",
     "text": [
      "  Num examples = 1592\n"
     ]
    },
    {
     "name": "stderr",
     "output_type": "stream",
     "text": [
      "  Batch size = 1\n"
     ]
    },
    {
     "name": "stderr",
     "output_type": "stream",
     "text": [
      "Saving model checkpoint to saved_models/XLNetDepr-3_256_8-ALL_NA-PEL-BS1-GWS_PCC_IT192_DH_2LMAEALPHA1_NZ20_PNTh0.05_AnnotThresh0.5/checkpoint-1130322\n"
     ]
    },
    {
     "name": "stderr",
     "output_type": "stream",
     "text": [
      "Configuration saved in saved_models/XLNetDepr-3_256_8-ALL_NA-PEL-BS1-GWS_PCC_IT192_DH_2LMAEALPHA1_NZ20_PNTh0.05_AnnotThresh0.5/checkpoint-1130322/config.json\n"
     ]
    },
    {
     "name": "stderr",
     "output_type": "stream",
     "text": [
      "Model weights saved in saved_models/XLNetDepr-3_256_8-ALL_NA-PEL-BS1-GWS_PCC_IT192_DH_2LMAEALPHA1_NZ20_PNTh0.05_AnnotThresh0.5/checkpoint-1130322/pytorch_model.bin\n"
     ]
    },
    {
     "name": "stderr",
     "output_type": "stream",
     "text": [
      "Deleting older checkpoint [saved_models/XLNetDepr-3_256_8-ALL_NA-PEL-BS1-GWS_PCC_IT192_DH_2LMAEALPHA1_NZ20_PNTh0.05_AnnotThresh0.5/checkpoint-1104778] due to args.save_total_limit\n"
     ]
    },
    {
     "name": "stderr",
     "output_type": "stream",
     "text": [
      "***** Running Evaluation *****\n"
     ]
    },
    {
     "name": "stderr",
     "output_type": "stream",
     "text": [
      "  Num examples = 1592\n"
     ]
    },
    {
     "name": "stderr",
     "output_type": "stream",
     "text": [
      "  Batch size = 1\n"
     ]
    },
    {
     "name": "stderr",
     "output_type": "stream",
     "text": [
      "Saving model checkpoint to saved_models/XLNetDepr-3_256_8-ALL_NA-PEL-BS1-GWS_PCC_IT192_DH_2LMAEALPHA1_NZ20_PNTh0.05_AnnotThresh0.5/checkpoint-1136708\n"
     ]
    },
    {
     "name": "stderr",
     "output_type": "stream",
     "text": [
      "Configuration saved in saved_models/XLNetDepr-3_256_8-ALL_NA-PEL-BS1-GWS_PCC_IT192_DH_2LMAEALPHA1_NZ20_PNTh0.05_AnnotThresh0.5/checkpoint-1136708/config.json\n"
     ]
    },
    {
     "name": "stderr",
     "output_type": "stream",
     "text": [
      "Model weights saved in saved_models/XLNetDepr-3_256_8-ALL_NA-PEL-BS1-GWS_PCC_IT192_DH_2LMAEALPHA1_NZ20_PNTh0.05_AnnotThresh0.5/checkpoint-1136708/pytorch_model.bin\n"
     ]
    },
    {
     "name": "stderr",
     "output_type": "stream",
     "text": [
      "Deleting older checkpoint [saved_models/XLNetDepr-3_256_8-ALL_NA-PEL-BS1-GWS_PCC_IT192_DH_2LMAEALPHA1_NZ20_PNTh0.05_AnnotThresh0.5/checkpoint-1111164] due to args.save_total_limit\n"
     ]
    },
    {
     "name": "stderr",
     "output_type": "stream",
     "text": [
      "***** Running Evaluation *****\n"
     ]
    },
    {
     "name": "stderr",
     "output_type": "stream",
     "text": [
      "  Num examples = 1592\n"
     ]
    },
    {
     "name": "stderr",
     "output_type": "stream",
     "text": [
      "  Batch size = 1\n"
     ]
    },
    {
     "name": "stderr",
     "output_type": "stream",
     "text": [
      "Saving model checkpoint to saved_models/XLNetDepr-3_256_8-ALL_NA-PEL-BS1-GWS_PCC_IT192_DH_2LMAEALPHA1_NZ20_PNTh0.05_AnnotThresh0.5/checkpoint-1143094\n"
     ]
    },
    {
     "name": "stderr",
     "output_type": "stream",
     "text": [
      "Configuration saved in saved_models/XLNetDepr-3_256_8-ALL_NA-PEL-BS1-GWS_PCC_IT192_DH_2LMAEALPHA1_NZ20_PNTh0.05_AnnotThresh0.5/checkpoint-1143094/config.json\n"
     ]
    },
    {
     "name": "stderr",
     "output_type": "stream",
     "text": [
      "Model weights saved in saved_models/XLNetDepr-3_256_8-ALL_NA-PEL-BS1-GWS_PCC_IT192_DH_2LMAEALPHA1_NZ20_PNTh0.05_AnnotThresh0.5/checkpoint-1143094/pytorch_model.bin\n"
     ]
    },
    {
     "name": "stderr",
     "output_type": "stream",
     "text": [
      "Deleting older checkpoint [saved_models/XLNetDepr-3_256_8-ALL_NA-PEL-BS1-GWS_PCC_IT192_DH_2LMAEALPHA1_NZ20_PNTh0.05_AnnotThresh0.5/checkpoint-1117550] due to args.save_total_limit\n"
     ]
    },
    {
     "name": "stderr",
     "output_type": "stream",
     "text": [
      "***** Running Evaluation *****\n"
     ]
    },
    {
     "name": "stderr",
     "output_type": "stream",
     "text": [
      "  Num examples = 1592\n"
     ]
    },
    {
     "name": "stderr",
     "output_type": "stream",
     "text": [
      "  Batch size = 1\n"
     ]
    },
    {
     "name": "stderr",
     "output_type": "stream",
     "text": [
      "Saving model checkpoint to saved_models/XLNetDepr-3_256_8-ALL_NA-PEL-BS1-GWS_PCC_IT192_DH_2LMAEALPHA1_NZ20_PNTh0.05_AnnotThresh0.5/checkpoint-1149480\n"
     ]
    },
    {
     "name": "stderr",
     "output_type": "stream",
     "text": [
      "Configuration saved in saved_models/XLNetDepr-3_256_8-ALL_NA-PEL-BS1-GWS_PCC_IT192_DH_2LMAEALPHA1_NZ20_PNTh0.05_AnnotThresh0.5/checkpoint-1149480/config.json\n"
     ]
    },
    {
     "name": "stderr",
     "output_type": "stream",
     "text": [
      "Model weights saved in saved_models/XLNetDepr-3_256_8-ALL_NA-PEL-BS1-GWS_PCC_IT192_DH_2LMAEALPHA1_NZ20_PNTh0.05_AnnotThresh0.5/checkpoint-1149480/pytorch_model.bin\n"
     ]
    },
    {
     "name": "stderr",
     "output_type": "stream",
     "text": [
      "Deleting older checkpoint [saved_models/XLNetDepr-3_256_8-ALL_NA-PEL-BS1-GWS_PCC_IT192_DH_2LMAEALPHA1_NZ20_PNTh0.05_AnnotThresh0.5/checkpoint-1123936] due to args.save_total_limit\n"
     ]
    },
    {
     "name": "stderr",
     "output_type": "stream",
     "text": [
      "***** Running Evaluation *****\n"
     ]
    },
    {
     "name": "stderr",
     "output_type": "stream",
     "text": [
      "  Num examples = 1592\n"
     ]
    },
    {
     "name": "stderr",
     "output_type": "stream",
     "text": [
      "  Batch size = 1\n"
     ]
    },
    {
     "name": "stderr",
     "output_type": "stream",
     "text": [
      "Saving model checkpoint to saved_models/XLNetDepr-3_256_8-ALL_NA-PEL-BS1-GWS_PCC_IT192_DH_2LMAEALPHA1_NZ20_PNTh0.05_AnnotThresh0.5/checkpoint-1155866\n"
     ]
    },
    {
     "name": "stderr",
     "output_type": "stream",
     "text": [
      "Configuration saved in saved_models/XLNetDepr-3_256_8-ALL_NA-PEL-BS1-GWS_PCC_IT192_DH_2LMAEALPHA1_NZ20_PNTh0.05_AnnotThresh0.5/checkpoint-1155866/config.json\n"
     ]
    },
    {
     "name": "stderr",
     "output_type": "stream",
     "text": [
      "Model weights saved in saved_models/XLNetDepr-3_256_8-ALL_NA-PEL-BS1-GWS_PCC_IT192_DH_2LMAEALPHA1_NZ20_PNTh0.05_AnnotThresh0.5/checkpoint-1155866/pytorch_model.bin\n"
     ]
    },
    {
     "name": "stderr",
     "output_type": "stream",
     "text": [
      "Deleting older checkpoint [saved_models/XLNetDepr-3_256_8-ALL_NA-PEL-BS1-GWS_PCC_IT192_DH_2LMAEALPHA1_NZ20_PNTh0.05_AnnotThresh0.5/checkpoint-1130322] due to args.save_total_limit\n"
     ]
    },
    {
     "name": "stderr",
     "output_type": "stream",
     "text": [
      "***** Running Evaluation *****\n"
     ]
    },
    {
     "name": "stderr",
     "output_type": "stream",
     "text": [
      "  Num examples = 1592\n"
     ]
    },
    {
     "name": "stderr",
     "output_type": "stream",
     "text": [
      "  Batch size = 1\n"
     ]
    },
    {
     "name": "stderr",
     "output_type": "stream",
     "text": [
      "Saving model checkpoint to saved_models/XLNetDepr-3_256_8-ALL_NA-PEL-BS1-GWS_PCC_IT192_DH_2LMAEALPHA1_NZ20_PNTh0.05_AnnotThresh0.5/checkpoint-1162252\n"
     ]
    },
    {
     "name": "stderr",
     "output_type": "stream",
     "text": [
      "Configuration saved in saved_models/XLNetDepr-3_256_8-ALL_NA-PEL-BS1-GWS_PCC_IT192_DH_2LMAEALPHA1_NZ20_PNTh0.05_AnnotThresh0.5/checkpoint-1162252/config.json\n"
     ]
    },
    {
     "name": "stderr",
     "output_type": "stream",
     "text": [
      "Model weights saved in saved_models/XLNetDepr-3_256_8-ALL_NA-PEL-BS1-GWS_PCC_IT192_DH_2LMAEALPHA1_NZ20_PNTh0.05_AnnotThresh0.5/checkpoint-1162252/pytorch_model.bin\n"
     ]
    },
    {
     "name": "stderr",
     "output_type": "stream",
     "text": [
      "Deleting older checkpoint [saved_models/XLNetDepr-3_256_8-ALL_NA-PEL-BS1-GWS_PCC_IT192_DH_2LMAEALPHA1_NZ20_PNTh0.05_AnnotThresh0.5/checkpoint-1136708] due to args.save_total_limit\n"
     ]
    },
    {
     "name": "stderr",
     "output_type": "stream",
     "text": [
      "***** Running Evaluation *****\n"
     ]
    },
    {
     "name": "stderr",
     "output_type": "stream",
     "text": [
      "  Num examples = 1592\n"
     ]
    },
    {
     "name": "stderr",
     "output_type": "stream",
     "text": [
      "  Batch size = 1\n"
     ]
    },
    {
     "name": "stderr",
     "output_type": "stream",
     "text": [
      "Saving model checkpoint to saved_models/XLNetDepr-3_256_8-ALL_NA-PEL-BS1-GWS_PCC_IT192_DH_2LMAEALPHA1_NZ20_PNTh0.05_AnnotThresh0.5/checkpoint-1168638\n"
     ]
    },
    {
     "name": "stderr",
     "output_type": "stream",
     "text": [
      "Configuration saved in saved_models/XLNetDepr-3_256_8-ALL_NA-PEL-BS1-GWS_PCC_IT192_DH_2LMAEALPHA1_NZ20_PNTh0.05_AnnotThresh0.5/checkpoint-1168638/config.json\n"
     ]
    },
    {
     "name": "stderr",
     "output_type": "stream",
     "text": [
      "Model weights saved in saved_models/XLNetDepr-3_256_8-ALL_NA-PEL-BS1-GWS_PCC_IT192_DH_2LMAEALPHA1_NZ20_PNTh0.05_AnnotThresh0.5/checkpoint-1168638/pytorch_model.bin\n"
     ]
    },
    {
     "name": "stderr",
     "output_type": "stream",
     "text": [
      "Deleting older checkpoint [saved_models/XLNetDepr-3_256_8-ALL_NA-PEL-BS1-GWS_PCC_IT192_DH_2LMAEALPHA1_NZ20_PNTh0.05_AnnotThresh0.5/checkpoint-1143094] due to args.save_total_limit\n"
     ]
    },
    {
     "name": "stderr",
     "output_type": "stream",
     "text": [
      "***** Running Evaluation *****\n"
     ]
    },
    {
     "name": "stderr",
     "output_type": "stream",
     "text": [
      "  Num examples = 1592\n"
     ]
    },
    {
     "name": "stderr",
     "output_type": "stream",
     "text": [
      "  Batch size = 1\n"
     ]
    },
    {
     "name": "stderr",
     "output_type": "stream",
     "text": [
      "Saving model checkpoint to saved_models/XLNetDepr-3_256_8-ALL_NA-PEL-BS1-GWS_PCC_IT192_DH_2LMAEALPHA1_NZ20_PNTh0.05_AnnotThresh0.5/checkpoint-1175024\n"
     ]
    },
    {
     "name": "stderr",
     "output_type": "stream",
     "text": [
      "Configuration saved in saved_models/XLNetDepr-3_256_8-ALL_NA-PEL-BS1-GWS_PCC_IT192_DH_2LMAEALPHA1_NZ20_PNTh0.05_AnnotThresh0.5/checkpoint-1175024/config.json\n"
     ]
    },
    {
     "name": "stderr",
     "output_type": "stream",
     "text": [
      "Model weights saved in saved_models/XLNetDepr-3_256_8-ALL_NA-PEL-BS1-GWS_PCC_IT192_DH_2LMAEALPHA1_NZ20_PNTh0.05_AnnotThresh0.5/checkpoint-1175024/pytorch_model.bin\n"
     ]
    },
    {
     "name": "stderr",
     "output_type": "stream",
     "text": [
      "Deleting older checkpoint [saved_models/XLNetDepr-3_256_8-ALL_NA-PEL-BS1-GWS_PCC_IT192_DH_2LMAEALPHA1_NZ20_PNTh0.05_AnnotThresh0.5/checkpoint-1149480] due to args.save_total_limit\n"
     ]
    },
    {
     "name": "stderr",
     "output_type": "stream",
     "text": [
      "***** Running Evaluation *****\n"
     ]
    },
    {
     "name": "stderr",
     "output_type": "stream",
     "text": [
      "  Num examples = 1592\n"
     ]
    },
    {
     "name": "stderr",
     "output_type": "stream",
     "text": [
      "  Batch size = 1\n"
     ]
    },
    {
     "name": "stderr",
     "output_type": "stream",
     "text": [
      "Saving model checkpoint to saved_models/XLNetDepr-3_256_8-ALL_NA-PEL-BS1-GWS_PCC_IT192_DH_2LMAEALPHA1_NZ20_PNTh0.05_AnnotThresh0.5/checkpoint-1181410\n"
     ]
    },
    {
     "name": "stderr",
     "output_type": "stream",
     "text": [
      "Configuration saved in saved_models/XLNetDepr-3_256_8-ALL_NA-PEL-BS1-GWS_PCC_IT192_DH_2LMAEALPHA1_NZ20_PNTh0.05_AnnotThresh0.5/checkpoint-1181410/config.json\n"
     ]
    },
    {
     "name": "stderr",
     "output_type": "stream",
     "text": [
      "Model weights saved in saved_models/XLNetDepr-3_256_8-ALL_NA-PEL-BS1-GWS_PCC_IT192_DH_2LMAEALPHA1_NZ20_PNTh0.05_AnnotThresh0.5/checkpoint-1181410/pytorch_model.bin\n"
     ]
    },
    {
     "name": "stderr",
     "output_type": "stream",
     "text": [
      "Deleting older checkpoint [saved_models/XLNetDepr-3_256_8-ALL_NA-PEL-BS1-GWS_PCC_IT192_DH_2LMAEALPHA1_NZ20_PNTh0.05_AnnotThresh0.5/checkpoint-1155866] due to args.save_total_limit\n"
     ]
    },
    {
     "name": "stderr",
     "output_type": "stream",
     "text": [
      "***** Running Evaluation *****\n"
     ]
    },
    {
     "name": "stderr",
     "output_type": "stream",
     "text": [
      "  Num examples = 1592\n"
     ]
    },
    {
     "name": "stderr",
     "output_type": "stream",
     "text": [
      "  Batch size = 1\n"
     ]
    },
    {
     "name": "stderr",
     "output_type": "stream",
     "text": [
      "Saving model checkpoint to saved_models/XLNetDepr-3_256_8-ALL_NA-PEL-BS1-GWS_PCC_IT192_DH_2LMAEALPHA1_NZ20_PNTh0.05_AnnotThresh0.5/checkpoint-1187796\n"
     ]
    },
    {
     "name": "stderr",
     "output_type": "stream",
     "text": [
      "Configuration saved in saved_models/XLNetDepr-3_256_8-ALL_NA-PEL-BS1-GWS_PCC_IT192_DH_2LMAEALPHA1_NZ20_PNTh0.05_AnnotThresh0.5/checkpoint-1187796/config.json\n"
     ]
    },
    {
     "name": "stderr",
     "output_type": "stream",
     "text": [
      "Model weights saved in saved_models/XLNetDepr-3_256_8-ALL_NA-PEL-BS1-GWS_PCC_IT192_DH_2LMAEALPHA1_NZ20_PNTh0.05_AnnotThresh0.5/checkpoint-1187796/pytorch_model.bin\n"
     ]
    },
    {
     "name": "stderr",
     "output_type": "stream",
     "text": [
      "Deleting older checkpoint [saved_models/XLNetDepr-3_256_8-ALL_NA-PEL-BS1-GWS_PCC_IT192_DH_2LMAEALPHA1_NZ20_PNTh0.05_AnnotThresh0.5/checkpoint-1162252] due to args.save_total_limit\n"
     ]
    },
    {
     "name": "stderr",
     "output_type": "stream",
     "text": [
      "***** Running Evaluation *****\n"
     ]
    },
    {
     "name": "stderr",
     "output_type": "stream",
     "text": [
      "  Num examples = 1592\n"
     ]
    },
    {
     "name": "stderr",
     "output_type": "stream",
     "text": [
      "  Batch size = 1\n"
     ]
    },
    {
     "name": "stderr",
     "output_type": "stream",
     "text": [
      "Saving model checkpoint to saved_models/XLNetDepr-3_256_8-ALL_NA-PEL-BS1-GWS_PCC_IT192_DH_2LMAEALPHA1_NZ20_PNTh0.05_AnnotThresh0.5/checkpoint-1194182\n"
     ]
    },
    {
     "name": "stderr",
     "output_type": "stream",
     "text": [
      "Configuration saved in saved_models/XLNetDepr-3_256_8-ALL_NA-PEL-BS1-GWS_PCC_IT192_DH_2LMAEALPHA1_NZ20_PNTh0.05_AnnotThresh0.5/checkpoint-1194182/config.json\n"
     ]
    },
    {
     "name": "stderr",
     "output_type": "stream",
     "text": [
      "Model weights saved in saved_models/XLNetDepr-3_256_8-ALL_NA-PEL-BS1-GWS_PCC_IT192_DH_2LMAEALPHA1_NZ20_PNTh0.05_AnnotThresh0.5/checkpoint-1194182/pytorch_model.bin\n"
     ]
    },
    {
     "name": "stderr",
     "output_type": "stream",
     "text": [
      "Deleting older checkpoint [saved_models/XLNetDepr-3_256_8-ALL_NA-PEL-BS1-GWS_PCC_IT192_DH_2LMAEALPHA1_NZ20_PNTh0.05_AnnotThresh0.5/checkpoint-1168638] due to args.save_total_limit\n"
     ]
    },
    {
     "name": "stderr",
     "output_type": "stream",
     "text": [
      "***** Running Evaluation *****\n"
     ]
    },
    {
     "name": "stderr",
     "output_type": "stream",
     "text": [
      "  Num examples = 1592\n"
     ]
    },
    {
     "name": "stderr",
     "output_type": "stream",
     "text": [
      "  Batch size = 1\n"
     ]
    },
    {
     "name": "stderr",
     "output_type": "stream",
     "text": [
      "Saving model checkpoint to saved_models/XLNetDepr-3_256_8-ALL_NA-PEL-BS1-GWS_PCC_IT192_DH_2LMAEALPHA1_NZ20_PNTh0.05_AnnotThresh0.5/checkpoint-1200568\n"
     ]
    },
    {
     "name": "stderr",
     "output_type": "stream",
     "text": [
      "Configuration saved in saved_models/XLNetDepr-3_256_8-ALL_NA-PEL-BS1-GWS_PCC_IT192_DH_2LMAEALPHA1_NZ20_PNTh0.05_AnnotThresh0.5/checkpoint-1200568/config.json\n"
     ]
    },
    {
     "name": "stderr",
     "output_type": "stream",
     "text": [
      "Model weights saved in saved_models/XLNetDepr-3_256_8-ALL_NA-PEL-BS1-GWS_PCC_IT192_DH_2LMAEALPHA1_NZ20_PNTh0.05_AnnotThresh0.5/checkpoint-1200568/pytorch_model.bin\n"
     ]
    },
    {
     "name": "stderr",
     "output_type": "stream",
     "text": [
      "Deleting older checkpoint [saved_models/XLNetDepr-3_256_8-ALL_NA-PEL-BS1-GWS_PCC_IT192_DH_2LMAEALPHA1_NZ20_PNTh0.05_AnnotThresh0.5/checkpoint-1175024] due to args.save_total_limit\n"
     ]
    },
    {
     "name": "stderr",
     "output_type": "stream",
     "text": [
      "***** Running Evaluation *****\n"
     ]
    },
    {
     "name": "stderr",
     "output_type": "stream",
     "text": [
      "  Num examples = 1592\n"
     ]
    },
    {
     "name": "stderr",
     "output_type": "stream",
     "text": [
      "  Batch size = 1\n"
     ]
    },
    {
     "name": "stderr",
     "output_type": "stream",
     "text": [
      "Saving model checkpoint to saved_models/XLNetDepr-3_256_8-ALL_NA-PEL-BS1-GWS_PCC_IT192_DH_2LMAEALPHA1_NZ20_PNTh0.05_AnnotThresh0.5/checkpoint-1206954\n"
     ]
    },
    {
     "name": "stderr",
     "output_type": "stream",
     "text": [
      "Configuration saved in saved_models/XLNetDepr-3_256_8-ALL_NA-PEL-BS1-GWS_PCC_IT192_DH_2LMAEALPHA1_NZ20_PNTh0.05_AnnotThresh0.5/checkpoint-1206954/config.json\n"
     ]
    },
    {
     "name": "stderr",
     "output_type": "stream",
     "text": [
      "Model weights saved in saved_models/XLNetDepr-3_256_8-ALL_NA-PEL-BS1-GWS_PCC_IT192_DH_2LMAEALPHA1_NZ20_PNTh0.05_AnnotThresh0.5/checkpoint-1206954/pytorch_model.bin\n"
     ]
    },
    {
     "name": "stderr",
     "output_type": "stream",
     "text": [
      "Deleting older checkpoint [saved_models/XLNetDepr-3_256_8-ALL_NA-PEL-BS1-GWS_PCC_IT192_DH_2LMAEALPHA1_NZ20_PNTh0.05_AnnotThresh0.5/checkpoint-1181410] due to args.save_total_limit\n"
     ]
    },
    {
     "name": "stderr",
     "output_type": "stream",
     "text": [
      "***** Running Evaluation *****\n"
     ]
    },
    {
     "name": "stderr",
     "output_type": "stream",
     "text": [
      "  Num examples = 1592\n"
     ]
    },
    {
     "name": "stderr",
     "output_type": "stream",
     "text": [
      "  Batch size = 1\n"
     ]
    },
    {
     "name": "stderr",
     "output_type": "stream",
     "text": [
      "Saving model checkpoint to saved_models/XLNetDepr-3_256_8-ALL_NA-PEL-BS1-GWS_PCC_IT192_DH_2LMAEALPHA1_NZ20_PNTh0.05_AnnotThresh0.5/checkpoint-1213340\n"
     ]
    },
    {
     "name": "stderr",
     "output_type": "stream",
     "text": [
      "Configuration saved in saved_models/XLNetDepr-3_256_8-ALL_NA-PEL-BS1-GWS_PCC_IT192_DH_2LMAEALPHA1_NZ20_PNTh0.05_AnnotThresh0.5/checkpoint-1213340/config.json\n"
     ]
    },
    {
     "name": "stderr",
     "output_type": "stream",
     "text": [
      "Model weights saved in saved_models/XLNetDepr-3_256_8-ALL_NA-PEL-BS1-GWS_PCC_IT192_DH_2LMAEALPHA1_NZ20_PNTh0.05_AnnotThresh0.5/checkpoint-1213340/pytorch_model.bin\n"
     ]
    },
    {
     "name": "stderr",
     "output_type": "stream",
     "text": [
      "Deleting older checkpoint [saved_models/XLNetDepr-3_256_8-ALL_NA-PEL-BS1-GWS_PCC_IT192_DH_2LMAEALPHA1_NZ20_PNTh0.05_AnnotThresh0.5/checkpoint-1187796] due to args.save_total_limit\n"
     ]
    },
    {
     "name": "stderr",
     "output_type": "stream",
     "text": [
      "***** Running Evaluation *****\n"
     ]
    },
    {
     "name": "stderr",
     "output_type": "stream",
     "text": [
      "  Num examples = 1592\n"
     ]
    },
    {
     "name": "stderr",
     "output_type": "stream",
     "text": [
      "  Batch size = 1\n"
     ]
    },
    {
     "name": "stderr",
     "output_type": "stream",
     "text": [
      "Saving model checkpoint to saved_models/XLNetDepr-3_256_8-ALL_NA-PEL-BS1-GWS_PCC_IT192_DH_2LMAEALPHA1_NZ20_PNTh0.05_AnnotThresh0.5/checkpoint-1219726\n"
     ]
    },
    {
     "name": "stderr",
     "output_type": "stream",
     "text": [
      "Configuration saved in saved_models/XLNetDepr-3_256_8-ALL_NA-PEL-BS1-GWS_PCC_IT192_DH_2LMAEALPHA1_NZ20_PNTh0.05_AnnotThresh0.5/checkpoint-1219726/config.json\n"
     ]
    },
    {
     "name": "stderr",
     "output_type": "stream",
     "text": [
      "Model weights saved in saved_models/XLNetDepr-3_256_8-ALL_NA-PEL-BS1-GWS_PCC_IT192_DH_2LMAEALPHA1_NZ20_PNTh0.05_AnnotThresh0.5/checkpoint-1219726/pytorch_model.bin\n"
     ]
    },
    {
     "name": "stderr",
     "output_type": "stream",
     "text": [
      "Deleting older checkpoint [saved_models/XLNetDepr-3_256_8-ALL_NA-PEL-BS1-GWS_PCC_IT192_DH_2LMAEALPHA1_NZ20_PNTh0.05_AnnotThresh0.5/checkpoint-1194182] due to args.save_total_limit\n"
     ]
    },
    {
     "name": "stderr",
     "output_type": "stream",
     "text": [
      "***** Running Evaluation *****\n"
     ]
    },
    {
     "name": "stderr",
     "output_type": "stream",
     "text": [
      "  Num examples = 1592\n"
     ]
    },
    {
     "name": "stderr",
     "output_type": "stream",
     "text": [
      "  Batch size = 1\n"
     ]
    },
    {
     "name": "stderr",
     "output_type": "stream",
     "text": [
      "Saving model checkpoint to saved_models/XLNetDepr-3_256_8-ALL_NA-PEL-BS1-GWS_PCC_IT192_DH_2LMAEALPHA1_NZ20_PNTh0.05_AnnotThresh0.5/checkpoint-1226112\n"
     ]
    },
    {
     "name": "stderr",
     "output_type": "stream",
     "text": [
      "Configuration saved in saved_models/XLNetDepr-3_256_8-ALL_NA-PEL-BS1-GWS_PCC_IT192_DH_2LMAEALPHA1_NZ20_PNTh0.05_AnnotThresh0.5/checkpoint-1226112/config.json\n"
     ]
    },
    {
     "name": "stderr",
     "output_type": "stream",
     "text": [
      "Model weights saved in saved_models/XLNetDepr-3_256_8-ALL_NA-PEL-BS1-GWS_PCC_IT192_DH_2LMAEALPHA1_NZ20_PNTh0.05_AnnotThresh0.5/checkpoint-1226112/pytorch_model.bin\n"
     ]
    },
    {
     "name": "stderr",
     "output_type": "stream",
     "text": [
      "Deleting older checkpoint [saved_models/XLNetDepr-3_256_8-ALL_NA-PEL-BS1-GWS_PCC_IT192_DH_2LMAEALPHA1_NZ20_PNTh0.05_AnnotThresh0.5/checkpoint-1200568] due to args.save_total_limit\n"
     ]
    },
    {
     "name": "stderr",
     "output_type": "stream",
     "text": [
      "***** Running Evaluation *****\n"
     ]
    },
    {
     "name": "stderr",
     "output_type": "stream",
     "text": [
      "  Num examples = 1592\n"
     ]
    },
    {
     "name": "stderr",
     "output_type": "stream",
     "text": [
      "  Batch size = 1\n"
     ]
    },
    {
     "name": "stderr",
     "output_type": "stream",
     "text": [
      "Saving model checkpoint to saved_models/XLNetDepr-3_256_8-ALL_NA-PEL-BS1-GWS_PCC_IT192_DH_2LMAEALPHA1_NZ20_PNTh0.05_AnnotThresh0.5/checkpoint-1232498\n"
     ]
    },
    {
     "name": "stderr",
     "output_type": "stream",
     "text": [
      "Configuration saved in saved_models/XLNetDepr-3_256_8-ALL_NA-PEL-BS1-GWS_PCC_IT192_DH_2LMAEALPHA1_NZ20_PNTh0.05_AnnotThresh0.5/checkpoint-1232498/config.json\n"
     ]
    },
    {
     "name": "stderr",
     "output_type": "stream",
     "text": [
      "Model weights saved in saved_models/XLNetDepr-3_256_8-ALL_NA-PEL-BS1-GWS_PCC_IT192_DH_2LMAEALPHA1_NZ20_PNTh0.05_AnnotThresh0.5/checkpoint-1232498/pytorch_model.bin\n"
     ]
    },
    {
     "name": "stderr",
     "output_type": "stream",
     "text": [
      "Deleting older checkpoint [saved_models/XLNetDepr-3_256_8-ALL_NA-PEL-BS1-GWS_PCC_IT192_DH_2LMAEALPHA1_NZ20_PNTh0.05_AnnotThresh0.5/checkpoint-1206954] due to args.save_total_limit\n"
     ]
    },
    {
     "name": "stderr",
     "output_type": "stream",
     "text": [
      "***** Running Evaluation *****\n"
     ]
    },
    {
     "name": "stderr",
     "output_type": "stream",
     "text": [
      "  Num examples = 1592\n"
     ]
    },
    {
     "name": "stderr",
     "output_type": "stream",
     "text": [
      "  Batch size = 1\n"
     ]
    },
    {
     "name": "stderr",
     "output_type": "stream",
     "text": [
      "Saving model checkpoint to saved_models/XLNetDepr-3_256_8-ALL_NA-PEL-BS1-GWS_PCC_IT192_DH_2LMAEALPHA1_NZ20_PNTh0.05_AnnotThresh0.5/checkpoint-1238884\n"
     ]
    },
    {
     "name": "stderr",
     "output_type": "stream",
     "text": [
      "Configuration saved in saved_models/XLNetDepr-3_256_8-ALL_NA-PEL-BS1-GWS_PCC_IT192_DH_2LMAEALPHA1_NZ20_PNTh0.05_AnnotThresh0.5/checkpoint-1238884/config.json\n"
     ]
    },
    {
     "name": "stderr",
     "output_type": "stream",
     "text": [
      "Model weights saved in saved_models/XLNetDepr-3_256_8-ALL_NA-PEL-BS1-GWS_PCC_IT192_DH_2LMAEALPHA1_NZ20_PNTh0.05_AnnotThresh0.5/checkpoint-1238884/pytorch_model.bin\n"
     ]
    },
    {
     "name": "stderr",
     "output_type": "stream",
     "text": [
      "Deleting older checkpoint [saved_models/XLNetDepr-3_256_8-ALL_NA-PEL-BS1-GWS_PCC_IT192_DH_2LMAEALPHA1_NZ20_PNTh0.05_AnnotThresh0.5/checkpoint-1213340] due to args.save_total_limit\n"
     ]
    },
    {
     "name": "stderr",
     "output_type": "stream",
     "text": [
      "***** Running Evaluation *****\n"
     ]
    },
    {
     "name": "stderr",
     "output_type": "stream",
     "text": [
      "  Num examples = 1592\n"
     ]
    },
    {
     "name": "stderr",
     "output_type": "stream",
     "text": [
      "  Batch size = 1\n"
     ]
    },
    {
     "name": "stderr",
     "output_type": "stream",
     "text": [
      "Saving model checkpoint to saved_models/XLNetDepr-3_256_8-ALL_NA-PEL-BS1-GWS_PCC_IT192_DH_2LMAEALPHA1_NZ20_PNTh0.05_AnnotThresh0.5/checkpoint-1245270\n"
     ]
    },
    {
     "name": "stderr",
     "output_type": "stream",
     "text": [
      "Configuration saved in saved_models/XLNetDepr-3_256_8-ALL_NA-PEL-BS1-GWS_PCC_IT192_DH_2LMAEALPHA1_NZ20_PNTh0.05_AnnotThresh0.5/checkpoint-1245270/config.json\n"
     ]
    },
    {
     "name": "stderr",
     "output_type": "stream",
     "text": [
      "Model weights saved in saved_models/XLNetDepr-3_256_8-ALL_NA-PEL-BS1-GWS_PCC_IT192_DH_2LMAEALPHA1_NZ20_PNTh0.05_AnnotThresh0.5/checkpoint-1245270/pytorch_model.bin\n"
     ]
    },
    {
     "name": "stderr",
     "output_type": "stream",
     "text": [
      "Deleting older checkpoint [saved_models/XLNetDepr-3_256_8-ALL_NA-PEL-BS1-GWS_PCC_IT192_DH_2LMAEALPHA1_NZ20_PNTh0.05_AnnotThresh0.5/checkpoint-1219726] due to args.save_total_limit\n"
     ]
    },
    {
     "name": "stderr",
     "output_type": "stream",
     "text": [
      "***** Running Evaluation *****\n"
     ]
    },
    {
     "name": "stderr",
     "output_type": "stream",
     "text": [
      "  Num examples = 1592\n"
     ]
    },
    {
     "name": "stderr",
     "output_type": "stream",
     "text": [
      "  Batch size = 1\n"
     ]
    },
    {
     "name": "stderr",
     "output_type": "stream",
     "text": [
      "Saving model checkpoint to saved_models/XLNetDepr-3_256_8-ALL_NA-PEL-BS1-GWS_PCC_IT192_DH_2LMAEALPHA1_NZ20_PNTh0.05_AnnotThresh0.5/checkpoint-1251656\n"
     ]
    },
    {
     "name": "stderr",
     "output_type": "stream",
     "text": [
      "Configuration saved in saved_models/XLNetDepr-3_256_8-ALL_NA-PEL-BS1-GWS_PCC_IT192_DH_2LMAEALPHA1_NZ20_PNTh0.05_AnnotThresh0.5/checkpoint-1251656/config.json\n"
     ]
    },
    {
     "name": "stderr",
     "output_type": "stream",
     "text": [
      "Model weights saved in saved_models/XLNetDepr-3_256_8-ALL_NA-PEL-BS1-GWS_PCC_IT192_DH_2LMAEALPHA1_NZ20_PNTh0.05_AnnotThresh0.5/checkpoint-1251656/pytorch_model.bin\n"
     ]
    },
    {
     "name": "stderr",
     "output_type": "stream",
     "text": [
      "Deleting older checkpoint [saved_models/XLNetDepr-3_256_8-ALL_NA-PEL-BS1-GWS_PCC_IT192_DH_2LMAEALPHA1_NZ20_PNTh0.05_AnnotThresh0.5/checkpoint-1226112] due to args.save_total_limit\n"
     ]
    },
    {
     "name": "stderr",
     "output_type": "stream",
     "text": [
      "***** Running Evaluation *****\n"
     ]
    },
    {
     "name": "stderr",
     "output_type": "stream",
     "text": [
      "  Num examples = 1592\n"
     ]
    },
    {
     "name": "stderr",
     "output_type": "stream",
     "text": [
      "  Batch size = 1\n"
     ]
    },
    {
     "name": "stderr",
     "output_type": "stream",
     "text": [
      "Saving model checkpoint to saved_models/XLNetDepr-3_256_8-ALL_NA-PEL-BS1-GWS_PCC_IT192_DH_2LMAEALPHA1_NZ20_PNTh0.05_AnnotThresh0.5/checkpoint-1258042\n"
     ]
    },
    {
     "name": "stderr",
     "output_type": "stream",
     "text": [
      "Configuration saved in saved_models/XLNetDepr-3_256_8-ALL_NA-PEL-BS1-GWS_PCC_IT192_DH_2LMAEALPHA1_NZ20_PNTh0.05_AnnotThresh0.5/checkpoint-1258042/config.json\n"
     ]
    },
    {
     "name": "stderr",
     "output_type": "stream",
     "text": [
      "Model weights saved in saved_models/XLNetDepr-3_256_8-ALL_NA-PEL-BS1-GWS_PCC_IT192_DH_2LMAEALPHA1_NZ20_PNTh0.05_AnnotThresh0.5/checkpoint-1258042/pytorch_model.bin\n"
     ]
    },
    {
     "name": "stderr",
     "output_type": "stream",
     "text": [
      "Deleting older checkpoint [saved_models/XLNetDepr-3_256_8-ALL_NA-PEL-BS1-GWS_PCC_IT192_DH_2LMAEALPHA1_NZ20_PNTh0.05_AnnotThresh0.5/checkpoint-1232498] due to args.save_total_limit\n"
     ]
    },
    {
     "name": "stderr",
     "output_type": "stream",
     "text": [
      "***** Running Evaluation *****\n"
     ]
    },
    {
     "name": "stderr",
     "output_type": "stream",
     "text": [
      "  Num examples = 1592\n"
     ]
    },
    {
     "name": "stderr",
     "output_type": "stream",
     "text": [
      "  Batch size = 1\n"
     ]
    },
    {
     "name": "stderr",
     "output_type": "stream",
     "text": [
      "Saving model checkpoint to saved_models/XLNetDepr-3_256_8-ALL_NA-PEL-BS1-GWS_PCC_IT192_DH_2LMAEALPHA1_NZ20_PNTh0.05_AnnotThresh0.5/checkpoint-1264428\n"
     ]
    },
    {
     "name": "stderr",
     "output_type": "stream",
     "text": [
      "Configuration saved in saved_models/XLNetDepr-3_256_8-ALL_NA-PEL-BS1-GWS_PCC_IT192_DH_2LMAEALPHA1_NZ20_PNTh0.05_AnnotThresh0.5/checkpoint-1264428/config.json\n"
     ]
    },
    {
     "name": "stderr",
     "output_type": "stream",
     "text": [
      "Model weights saved in saved_models/XLNetDepr-3_256_8-ALL_NA-PEL-BS1-GWS_PCC_IT192_DH_2LMAEALPHA1_NZ20_PNTh0.05_AnnotThresh0.5/checkpoint-1264428/pytorch_model.bin\n"
     ]
    },
    {
     "name": "stderr",
     "output_type": "stream",
     "text": [
      "Deleting older checkpoint [saved_models/XLNetDepr-3_256_8-ALL_NA-PEL-BS1-GWS_PCC_IT192_DH_2LMAEALPHA1_NZ20_PNTh0.05_AnnotThresh0.5/checkpoint-1238884] due to args.save_total_limit\n"
     ]
    },
    {
     "name": "stderr",
     "output_type": "stream",
     "text": [
      "***** Running Evaluation *****\n"
     ]
    },
    {
     "name": "stderr",
     "output_type": "stream",
     "text": [
      "  Num examples = 1592\n"
     ]
    },
    {
     "name": "stderr",
     "output_type": "stream",
     "text": [
      "  Batch size = 1\n"
     ]
    },
    {
     "name": "stderr",
     "output_type": "stream",
     "text": [
      "Saving model checkpoint to saved_models/XLNetDepr-3_256_8-ALL_NA-PEL-BS1-GWS_PCC_IT192_DH_2LMAEALPHA1_NZ20_PNTh0.05_AnnotThresh0.5/checkpoint-1270814\n"
     ]
    },
    {
     "name": "stderr",
     "output_type": "stream",
     "text": [
      "Configuration saved in saved_models/XLNetDepr-3_256_8-ALL_NA-PEL-BS1-GWS_PCC_IT192_DH_2LMAEALPHA1_NZ20_PNTh0.05_AnnotThresh0.5/checkpoint-1270814/config.json\n"
     ]
    },
    {
     "name": "stderr",
     "output_type": "stream",
     "text": [
      "Model weights saved in saved_models/XLNetDepr-3_256_8-ALL_NA-PEL-BS1-GWS_PCC_IT192_DH_2LMAEALPHA1_NZ20_PNTh0.05_AnnotThresh0.5/checkpoint-1270814/pytorch_model.bin\n"
     ]
    },
    {
     "name": "stderr",
     "output_type": "stream",
     "text": [
      "Deleting older checkpoint [saved_models/XLNetDepr-3_256_8-ALL_NA-PEL-BS1-GWS_PCC_IT192_DH_2LMAEALPHA1_NZ20_PNTh0.05_AnnotThresh0.5/checkpoint-1245270] due to args.save_total_limit\n"
     ]
    },
    {
     "name": "stderr",
     "output_type": "stream",
     "text": [
      "***** Running Evaluation *****\n"
     ]
    },
    {
     "name": "stderr",
     "output_type": "stream",
     "text": [
      "  Num examples = 1592\n"
     ]
    },
    {
     "name": "stderr",
     "output_type": "stream",
     "text": [
      "  Batch size = 1\n"
     ]
    },
    {
     "name": "stderr",
     "output_type": "stream",
     "text": [
      "Saving model checkpoint to saved_models/XLNetDepr-3_256_8-ALL_NA-PEL-BS1-GWS_PCC_IT192_DH_2LMAEALPHA1_NZ20_PNTh0.05_AnnotThresh0.5/checkpoint-1277200\n"
     ]
    },
    {
     "name": "stderr",
     "output_type": "stream",
     "text": [
      "Configuration saved in saved_models/XLNetDepr-3_256_8-ALL_NA-PEL-BS1-GWS_PCC_IT192_DH_2LMAEALPHA1_NZ20_PNTh0.05_AnnotThresh0.5/checkpoint-1277200/config.json\n"
     ]
    },
    {
     "name": "stderr",
     "output_type": "stream",
     "text": [
      "Model weights saved in saved_models/XLNetDepr-3_256_8-ALL_NA-PEL-BS1-GWS_PCC_IT192_DH_2LMAEALPHA1_NZ20_PNTh0.05_AnnotThresh0.5/checkpoint-1277200/pytorch_model.bin\n"
     ]
    },
    {
     "name": "stderr",
     "output_type": "stream",
     "text": [
      "Deleting older checkpoint [saved_models/XLNetDepr-3_256_8-ALL_NA-PEL-BS1-GWS_PCC_IT192_DH_2LMAEALPHA1_NZ20_PNTh0.05_AnnotThresh0.5/checkpoint-1251656] due to args.save_total_limit\n"
     ]
    },
    {
     "name": "stderr",
     "output_type": "stream",
     "text": [
      "\n",
      "\n",
      "Training completed. Do not forget to share your model on huggingface.co/models =)\n",
      "\n",
      "\n"
     ]
    },
    {
     "name": "stderr",
     "output_type": "stream",
     "text": [
      "Loading best model from saved_models/XLNetDepr-3_256_8-ALL_NA-PEL-BS1-GWS_PCC_IT192_DH_2LMAEALPHA1_NZ20_PNTh0.05_AnnotThresh0.5/checkpoint-223510 (score: 0.8919731974601746).\n"
     ]
    },
    {
     "name": "stderr",
     "output_type": "stream",
     "text": [
      "Saving model checkpoint to saved_models/XLNetDepr-3_256_8-ALL_NA-PEL-BS1-GWS_PCC_IT192_DH_2LMAEALPHA1_NZ20_PNTh0.05_AnnotThresh0.5/best_model\n"
     ]
    },
    {
     "name": "stderr",
     "output_type": "stream",
     "text": [
      "Configuration saved in saved_models/XLNetDepr-3_256_8-ALL_NA-PEL-BS1-GWS_PCC_IT192_DH_2LMAEALPHA1_NZ20_PNTh0.05_AnnotThresh0.5/best_model/config.json\n"
     ]
    },
    {
     "name": "stderr",
     "output_type": "stream",
     "text": [
      "Model weights saved in saved_models/XLNetDepr-3_256_8-ALL_NA-PEL-BS1-GWS_PCC_IT192_DH_2LMAEALPHA1_NZ20_PNTh0.05_AnnotThresh0.5/best_model/pytorch_model.bin\n"
     ]
    }
   ],
   "source": [
    "# train model\n",
    "trainer.train()\n",
    "\n",
    "# save best model\n",
    "trainer.save_model(output_loc + \"/best_model\")"
   ]
  },
  {
   "cell_type": "code",
   "execution_count": 9,
   "id": "df0bde90",
   "metadata": {
    "execution": {
     "iopub.execute_input": "2023-11-10T08:41:45.557576Z",
     "iopub.status.busy": "2023-11-10T08:41:45.556871Z",
     "iopub.status.idle": "2023-11-10T08:42:13.920131Z",
     "shell.execute_reply": "2023-11-10T08:42:13.918971Z"
    },
    "papermill": {
     "duration": 28.4723,
     "end_time": "2023-11-10T08:42:13.924017",
     "exception": false,
     "start_time": "2023-11-10T08:41:45.451717",
     "status": "completed"
    },
    "tags": []
   },
   "outputs": [
    {
     "name": "stderr",
     "output_type": "stream",
     "text": [
      "***** Running Evaluation *****\n"
     ]
    },
    {
     "name": "stderr",
     "output_type": "stream",
     "text": [
      "  Num examples = 1592\n"
     ]
    },
    {
     "name": "stderr",
     "output_type": "stream",
     "text": [
      "  Batch size = 1\n"
     ]
    },
    {
     "data": {
      "text/html": [
       "\n",
       "    <div>\n",
       "      \n",
       "      <progress value='1592' max='1592' style='width:300px; height:20px; vertical-align: middle;'></progress>\n",
       "      [1592/1592 00:27]\n",
       "    </div>\n",
       "    "
      ],
      "text/plain": [
       "<IPython.core.display.HTML object>"
      ]
     },
     "metadata": {},
     "output_type": "display_data"
    },
    {
     "data": {
      "text/plain": [
       "{'eval_loss': 0.8919731974601746,\n",
       " 'eval_r': 0.5904820561408997,\n",
       " 'eval_runtime': 28.3381,\n",
       " 'eval_samples_per_second': 56.179,\n",
       " 'eval_steps_per_second': 56.179,\n",
       " 'epoch': 200.0}"
      ]
     },
     "execution_count": 9,
     "metadata": {},
     "output_type": "execute_result"
    }
   ],
   "source": [
    "# evaluate model\n",
    "trainer.evaluate()"
   ]
  }
 ],
 "metadata": {
  "kernelspec": {
   "display_name": "Python 3.9.17 ('tf')",
   "language": "python",
   "name": "python3"
  },
  "language_info": {
   "codemirror_mode": {
    "name": "ipython",
    "version": 3
   },
   "file_extension": ".py",
   "mimetype": "text/x-python",
   "name": "python",
   "nbconvert_exporter": "python",
   "pygments_lexer": "ipython3",
   "version": "3.9.12"
  },
  "papermill": {
   "default_parameters": {},
   "duration": 59294.473443,
   "end_time": "2023-11-10T08:42:17.075654",
   "environment_variables": {},
   "exception": null,
   "input_path": "model_dh_switch.ipynb",
   "output_path": "model_outputs/2LMAE_CTRLFULL.ipynb",
   "parameters": {
    "alpha": 1,
    "annot_thresh": 0.5,
    "batch_size_val": 1,
    "d_model_val": 256,
    "dropout_val": 0.3,
    "longZerosThresh_val": 20,
    "loss_fun_name": "2LMAE",
    "lr_val": 0.0001,
    "n_heads_val": 8,
    "n_layers_val": 3,
    "percNansThresh_val": 0.05
   },
   "start_time": "2023-11-09T16:14:02.602211",
   "version": "2.5.0"
  },
  "vscode": {
   "interpreter": {
    "hash": "4d8cddb8cf669a224cfe7de41be728b42e6d1e4d2fa8033c260d761c14134291"
   }
  }
 },
 "nbformat": 4,
 "nbformat_minor": 5
}