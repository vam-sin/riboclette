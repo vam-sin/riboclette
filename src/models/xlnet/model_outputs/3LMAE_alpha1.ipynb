{
 "cells": [
  {
   "cell_type": "code",
   "execution_count": 1,
   "id": "16bbf74c",
   "metadata": {
    "execution": {
     "iopub.execute_input": "2023-11-08T14:15:55.807020Z",
     "iopub.status.busy": "2023-11-08T14:15:55.806400Z",
     "iopub.status.idle": "2023-11-08T14:16:10.567772Z",
     "shell.execute_reply": "2023-11-08T14:16:10.566390Z"
    },
    "papermill": {
     "duration": 14.775267,
     "end_time": "2023-11-08T14:16:10.572002",
     "exception": false,
     "start_time": "2023-11-08T14:15:55.796735",
     "status": "completed"
    },
    "tags": []
   },
   "outputs": [
    {
     "name": "stderr",
     "output_type": "stream",
     "text": [
      "/nfs_home/nallapar/rb-prof/bio_embeds/lib/python3.9/site-packages/tqdm/auto.py:22: TqdmWarning: IProgress not found. Please update jupyter and ipywidgets. See https://ipywidgets.readthedocs.io/en/stable/user_install.html\n",
      "  from .autonotebook import tqdm as notebook_tqdm\n"
     ]
    },
    {
     "name": "stderr",
     "output_type": "stream",
     "text": [
      "2023-11-08 15:16:00.672066: I tensorflow/core/platform/cpu_feature_guard.cc:193] This TensorFlow binary is optimized with oneAPI Deep Neural Network Library (oneDNN) to use the following CPU instructions in performance-critical operations:  AVX2 FMA\n",
      "To enable them in other operations, rebuild TensorFlow with the appropriate compiler flags.\n"
     ]
    },
    {
     "name": "stderr",
     "output_type": "stream",
     "text": [
      "2023-11-08 15:16:03.082812: W tensorflow/compiler/xla/stream_executor/platform/default/dso_loader.cc:64] Could not load dynamic library 'libnvinfer.so.7'; dlerror: libnvinfer.so.7: cannot open shared object file: No such file or directory\n",
      "2023-11-08 15:16:03.082942: W tensorflow/compiler/xla/stream_executor/platform/default/dso_loader.cc:64] Could not load dynamic library 'libnvinfer_plugin.so.7'; dlerror: libnvinfer_plugin.so.7: cannot open shared object file: No such file or directory\n",
      "2023-11-08 15:16:03.082955: W tensorflow/compiler/tf2tensorrt/utils/py_utils.cc:38] TF-TRT Warning: Cannot dlopen some TensorRT libraries. If you would like to use Nvidia GPU with TensorRT, please make sure the missing libraries mentioned above are installed properly.\n"
     ]
    }
   ],
   "source": [
    "# libraries\n",
    "import numpy as np\n",
    "import pandas as pd \n",
    "import torch\n",
    "from transformers import XLNetConfig, XLNetForTokenClassification, TrainingArguments\n",
    "import random\n",
    "from torch.nn.utils.rnn import pad_sequence\n",
    "from torchmetrics.functional import pearson_corrcoef\n",
    "from torchmetrics import Metric\n",
    "from ipynb.fs.full.utils_dh import RegressionTrainer, RiboDatasetGWS, GWSDatasetFromPandas, CorrCoef, collate_fn, compute_metrics, compute_metrics_saved  # custom dataset and trainer"
   ]
  },
  {
   "cell_type": "code",
   "execution_count": 2,
   "id": "7d955a51",
   "metadata": {
    "execution": {
     "iopub.execute_input": "2023-11-08T14:16:10.586112Z",
     "iopub.status.busy": "2023-11-08T14:16:10.584963Z",
     "iopub.status.idle": "2023-11-08T14:16:10.601438Z",
     "shell.execute_reply": "2023-11-08T14:16:10.600586Z"
    },
    "papermill": {
     "duration": 0.025077,
     "end_time": "2023-11-08T14:16:10.604074",
     "exception": false,
     "start_time": "2023-11-08T14:16:10.578997",
     "status": "completed"
    },
    "tags": []
   },
   "outputs": [],
   "source": [
    "# reproducibility\n",
    "random.seed(42)\n",
    "np.random.seed(42)\n",
    "torch.manual_seed(42)\n",
    "\n",
    "# dataset paths \n",
    "data_folder = '/net/lts2gdk0/mnt/scratch/lts2/nallapar/rb-prof/data/Darnell_Full/Darnell/data_conds_split/processed/'\n",
    "\n",
    "# model parameters\n",
    "annot_thresh = 0.5\n",
    "longZerosThresh_val = 20\n",
    "percNansThresh_val = 0.05\n",
    "d_model_val = 256\n",
    "n_layers_val = 3\n",
    "n_heads_val = 8\n",
    "dropout_val = 0.3\n",
    "lr_val = 1e-4\n",
    "batch_size_val = 1\n",
    "alpha = 'NA'\n",
    "\n",
    "# model name and output folder path\n",
    "model_name = 'XLNetDepr-' + str(n_layers_val) + '_' + str(d_model_val) + '_' + str(n_heads_val) + '-ALL_NA-PEL-BS' + str(batch_size_val) + '-GWS_PCC_IT192_DH_3LMAEALPHA' + str(alpha) + '_NZ' + str(longZerosThresh_val) + '_PNTh' + str(percNansThresh_val) + '_AnnotThresh' + str(annot_thresh)\n",
    "output_loc = \"saved_models/\" + model_name"
   ]
  },
  {
   "cell_type": "code",
   "execution_count": 3,
   "id": "50357a53",
   "metadata": {
    "execution": {
     "iopub.execute_input": "2023-11-08T14:16:10.619721Z",
     "iopub.status.busy": "2023-11-08T14:16:10.619254Z",
     "iopub.status.idle": "2023-11-08T14:16:11.629179Z",
     "shell.execute_reply": "2023-11-08T14:16:11.628458Z"
    },
    "papermill": {
     "duration": 1.023231,
     "end_time": "2023-11-08T14:16:11.632523",
     "exception": false,
     "start_time": "2023-11-08T14:16:10.609292",
     "status": "completed"
    },
    "tags": []
   },
   "outputs": [
    {
     "name": "stdout",
     "output_type": "stream",
     "text": [
      "samples in train dataset:  6386\n",
      "samples in test dataset:  1592\n"
     ]
    }
   ],
   "source": [
    "# generate dataset\n",
    "ds = 'ALL' # uses all the three conditions\n",
    "train_dataset, test_dataset = RiboDatasetGWS(data_folder, ds, threshold = annot_thresh, longZerosThresh = longZerosThresh_val, percNansThresh = percNansThresh_val)\n",
    "\n",
    "# convert pandas dataframes into torch datasets\n",
    "train_dataset = GWSDatasetFromPandas(train_dataset)\n",
    "test_dataset = GWSDatasetFromPandas(test_dataset)\n",
    "print(\"samples in train dataset: \", len(train_dataset))\n",
    "print(\"samples in test dataset: \", len(test_dataset))"
   ]
  },
  {
   "cell_type": "code",
   "execution_count": 4,
   "id": "1381ca8f",
   "metadata": {
    "execution": {
     "iopub.execute_input": "2023-11-08T14:16:11.645156Z",
     "iopub.status.busy": "2023-11-08T14:16:11.644763Z",
     "iopub.status.idle": "2023-11-08T14:16:11.708649Z",
     "shell.execute_reply": "2023-11-08T14:16:11.707960Z"
    },
    "papermill": {
     "duration": 0.072798,
     "end_time": "2023-11-08T14:16:11.711663",
     "exception": false,
     "start_time": "2023-11-08T14:16:11.638865",
     "status": "completed"
    },
    "tags": []
   },
   "outputs": [],
   "source": [
    "# load xlnet to train from scratch\n",
    "config = XLNetConfig(vocab_size=193, pad_token_id=192, d_model = d_model_val, n_layer = n_layers_val, n_head = n_heads_val, d_inner = d_model_val, num_labels = 1, dropout=dropout_val) # 5^3 + 1 for padding\n",
    "model = XLNetForTokenClassification(config)\n",
    "\n",
    "# modify the output layer\n",
    "model.classifier = torch.nn.Linear(d_model_val, 2, bias=True)"
   ]
  },
  {
   "cell_type": "code",
   "execution_count": 5,
   "id": "47506cb9",
   "metadata": {
    "execution": {
     "iopub.execute_input": "2023-11-08T14:16:11.724371Z",
     "iopub.status.busy": "2023-11-08T14:16:11.724085Z",
     "iopub.status.idle": "2023-11-08T14:16:15.128102Z",
     "shell.execute_reply": "2023-11-08T14:16:15.126994Z"
    },
    "papermill": {
     "duration": 3.414635,
     "end_time": "2023-11-08T14:16:15.131986",
     "exception": false,
     "start_time": "2023-11-08T14:16:11.717351",
     "status": "completed"
    },
    "tags": []
   },
   "outputs": [],
   "source": [
    "# xlnet training arguments\n",
    "training_args = TrainingArguments(\n",
    "    output_dir = output_loc,\n",
    "    learning_rate = lr_val,\n",
    "    per_device_train_batch_size = 1,\n",
    "    gradient_accumulation_steps = batch_size_val, # training batch size = per_device_train_batch_size * gradient_accumulation_steps\n",
    "    per_device_eval_batch_size = 1,\n",
    "    eval_accumulation_steps = 4, \n",
    "    num_train_epochs = 200,\n",
    "    weight_decay = 0.01,\n",
    "    evaluation_strategy = \"epoch\",\n",
    "    save_strategy = \"epoch\",\n",
    "    load_best_model_at_end = True,\n",
    "    push_to_hub = False,\n",
    "    dataloader_pin_memory = True,\n",
    "    save_total_limit = 5,\n",
    "    dataloader_num_workers = 4,\n",
    "    include_inputs_for_metrics = True\n",
    ")\n",
    "\n",
    "# initialize trainer\n",
    "trainer = RegressionTrainer(\n",
    "    model=model,\n",
    "    args=training_args,\n",
    "    train_dataset=train_dataset,\n",
    "    eval_dataset=test_dataset,\n",
    "    data_collator=collate_fn,\n",
    "    compute_metrics=compute_metrics,\n",
    ")"
   ]
  },
  {
   "cell_type": "code",
   "execution_count": 6,
   "id": "5647913c",
   "metadata": {
    "execution": {
     "iopub.execute_input": "2023-11-08T14:16:15.144519Z",
     "iopub.status.busy": "2023-11-08T14:16:15.143996Z",
     "iopub.status.idle": "2023-11-09T04:21:13.959086Z",
     "shell.execute_reply": "2023-11-09T04:21:13.958198Z"
    },
    "papermill": {
     "duration": 50698.824088,
     "end_time": "2023-11-09T04:21:13.962604",
     "exception": false,
     "start_time": "2023-11-08T14:16:15.138516",
     "status": "completed"
    },
    "tags": []
   },
   "outputs": [
    {
     "name": "stderr",
     "output_type": "stream",
     "text": [
      "/nfs_home/nallapar/rb-prof/bio_embeds/lib/python3.9/site-packages/transformers/optimization.py:306: FutureWarning: This implementation of AdamW is deprecated and will be removed in a future version. Use the PyTorch implementation torch.optim.AdamW instead, or set `no_deprecation_warning=True` to disable this warning\n",
      "  warnings.warn(\n",
      "***** Running training *****\n"
     ]
    },
    {
     "name": "stderr",
     "output_type": "stream",
     "text": [
      "  Num examples = 6386\n"
     ]
    },
    {
     "name": "stderr",
     "output_type": "stream",
     "text": [
      "  Num Epochs = 200\n"
     ]
    },
    {
     "name": "stderr",
     "output_type": "stream",
     "text": [
      "  Instantaneous batch size per device = 1\n"
     ]
    },
    {
     "name": "stderr",
     "output_type": "stream",
     "text": [
      "  Total train batch size (w. parallel, distributed & accumulation) = 1\n"
     ]
    },
    {
     "name": "stderr",
     "output_type": "stream",
     "text": [
      "  Gradient Accumulation steps = 1\n"
     ]
    },
    {
     "name": "stderr",
     "output_type": "stream",
     "text": [
      "  Total optimization steps = 1277200\n"
     ]
    },
    {
     "name": "stderr",
     "output_type": "stream",
     "text": [
      "  Number of trainable parameters = 1434882\n"
     ]
    },
    {
     "name": "stderr",
     "output_type": "stream",
     "text": [
      "Automatic Weights & Biases logging enabled, to disable set os.environ[\"WANDB_DISABLED\"] = \"true\"\n"
     ]
    },
    {
     "name": "stderr",
     "output_type": "stream",
     "text": [
      "\u001b[34m\u001b[1mwandb\u001b[0m: Currently logged in as: \u001b[33mvamsi-nallapareddy\u001b[0m (\u001b[33mrb-prof\u001b[0m). Use \u001b[1m`wandb login --relogin`\u001b[0m to force relogin\n"
     ]
    },
    {
     "name": "stderr",
     "output_type": "stream",
     "text": [
      "\u001b[34m\u001b[1mwandb\u001b[0m: wandb version 0.16.0 is available!  To upgrade, please run:\n",
      "\u001b[34m\u001b[1mwandb\u001b[0m:  $ pip install wandb --upgrade\n"
     ]
    },
    {
     "name": "stderr",
     "output_type": "stream",
     "text": [
      "\u001b[34m\u001b[1mwandb\u001b[0m: Tracking run with wandb version 0.15.12\n"
     ]
    },
    {
     "name": "stderr",
     "output_type": "stream",
     "text": [
      "\u001b[34m\u001b[1mwandb\u001b[0m: Run data is saved locally in \u001b[35m\u001b[1m/nfs_home/nallapar/riboclette/src/models/xlnet/wandb/run-20231108_151617-2qnfr1z5\u001b[0m\n",
      "\u001b[34m\u001b[1mwandb\u001b[0m: Run \u001b[1m`wandb offline`\u001b[0m to turn off syncing.\n"
     ]
    },
    {
     "name": "stderr",
     "output_type": "stream",
     "text": [
      "\u001b[34m\u001b[1mwandb\u001b[0m: Syncing run \u001b[33mfanciful-sky-451\u001b[0m\n"
     ]
    },
    {
     "name": "stderr",
     "output_type": "stream",
     "text": [
      "\u001b[34m\u001b[1mwandb\u001b[0m: ⭐️ View project at \u001b[34m\u001b[4mhttps://wandb.ai/rb-prof/huggingface\u001b[0m\n"
     ]
    },
    {
     "name": "stderr",
     "output_type": "stream",
     "text": [
      "\u001b[34m\u001b[1mwandb\u001b[0m: 🚀 View run at \u001b[34m\u001b[4mhttps://wandb.ai/rb-prof/huggingface/runs/2qnfr1z5\u001b[0m\n"
     ]
    },
    {
     "data": {
      "text/html": [
       "\n",
       "    <div>\n",
       "      \n",
       "      <progress value='1277200' max='1277200' style='width:300px; height:20px; vertical-align: middle;'></progress>\n",
       "      [1277200/1277200 14:04:54, Epoch 200/200]\n",
       "    </div>\n",
       "    <table border=\"1\" class=\"dataframe\">\n",
       "  <thead>\n",
       " <tr style=\"text-align: left;\">\n",
       "      <th>Epoch</th>\n",
       "      <th>Training Loss</th>\n",
       "      <th>Validation Loss</th>\n",
       "      <th>R</th>\n",
       "    </tr>\n",
       "  </thead>\n",
       "  <tbody>\n",
       "    <tr>\n",
       "      <td>1</td>\n",
       "      <td>1.286900</td>\n",
       "      <td>1.267313</td>\n",
       "      <td>0.393546</td>\n",
       "    </tr>\n",
       "    <tr>\n",
       "      <td>2</td>\n",
       "      <td>1.257300</td>\n",
       "      <td>1.246574</td>\n",
       "      <td>0.480769</td>\n",
       "    </tr>\n",
       "    <tr>\n",
       "      <td>3</td>\n",
       "      <td>1.245200</td>\n",
       "      <td>1.215016</td>\n",
       "      <td>0.511309</td>\n",
       "    </tr>\n",
       "    <tr>\n",
       "      <td>4</td>\n",
       "      <td>1.229500</td>\n",
       "      <td>1.210538</td>\n",
       "      <td>0.530764</td>\n",
       "    </tr>\n",
       "    <tr>\n",
       "      <td>5</td>\n",
       "      <td>1.227100</td>\n",
       "      <td>1.217357</td>\n",
       "      <td>0.536416</td>\n",
       "    </tr>\n",
       "    <tr>\n",
       "      <td>6</td>\n",
       "      <td>1.231200</td>\n",
       "      <td>1.203058</td>\n",
       "      <td>0.537324</td>\n",
       "    </tr>\n",
       "    <tr>\n",
       "      <td>7</td>\n",
       "      <td>1.221500</td>\n",
       "      <td>1.207905</td>\n",
       "      <td>0.550650</td>\n",
       "    </tr>\n",
       "    <tr>\n",
       "      <td>8</td>\n",
       "      <td>1.222300</td>\n",
       "      <td>1.202716</td>\n",
       "      <td>0.549249</td>\n",
       "    </tr>\n",
       "    <tr>\n",
       "      <td>9</td>\n",
       "      <td>1.202700</td>\n",
       "      <td>1.194080</td>\n",
       "      <td>0.553185</td>\n",
       "    </tr>\n",
       "    <tr>\n",
       "      <td>10</td>\n",
       "      <td>1.218300</td>\n",
       "      <td>1.184730</td>\n",
       "      <td>0.559718</td>\n",
       "    </tr>\n",
       "    <tr>\n",
       "      <td>11</td>\n",
       "      <td>1.217400</td>\n",
       "      <td>1.195444</td>\n",
       "      <td>0.562883</td>\n",
       "    </tr>\n",
       "    <tr>\n",
       "      <td>12</td>\n",
       "      <td>1.199400</td>\n",
       "      <td>1.188324</td>\n",
       "      <td>0.557609</td>\n",
       "    </tr>\n",
       "    <tr>\n",
       "      <td>13</td>\n",
       "      <td>1.208200</td>\n",
       "      <td>1.192250</td>\n",
       "      <td>0.563356</td>\n",
       "    </tr>\n",
       "    <tr>\n",
       "      <td>14</td>\n",
       "      <td>1.191900</td>\n",
       "      <td>1.189882</td>\n",
       "      <td>0.569340</td>\n",
       "    </tr>\n",
       "    <tr>\n",
       "      <td>15</td>\n",
       "      <td>1.203700</td>\n",
       "      <td>1.187105</td>\n",
       "      <td>0.568599</td>\n",
       "    </tr>\n",
       "    <tr>\n",
       "      <td>16</td>\n",
       "      <td>1.199700</td>\n",
       "      <td>1.189779</td>\n",
       "      <td>0.567575</td>\n",
       "    </tr>\n",
       "    <tr>\n",
       "      <td>17</td>\n",
       "      <td>1.209200</td>\n",
       "      <td>1.188763</td>\n",
       "      <td>0.565516</td>\n",
       "    </tr>\n",
       "    <tr>\n",
       "      <td>18</td>\n",
       "      <td>1.192800</td>\n",
       "      <td>1.206403</td>\n",
       "      <td>0.571939</td>\n",
       "    </tr>\n",
       "    <tr>\n",
       "      <td>19</td>\n",
       "      <td>1.191000</td>\n",
       "      <td>1.186176</td>\n",
       "      <td>0.573555</td>\n",
       "    </tr>\n",
       "    <tr>\n",
       "      <td>20</td>\n",
       "      <td>1.197200</td>\n",
       "      <td>1.209011</td>\n",
       "      <td>0.574826</td>\n",
       "    </tr>\n",
       "    <tr>\n",
       "      <td>21</td>\n",
       "      <td>1.196400</td>\n",
       "      <td>1.177960</td>\n",
       "      <td>0.574500</td>\n",
       "    </tr>\n",
       "    <tr>\n",
       "      <td>22</td>\n",
       "      <td>1.174100</td>\n",
       "      <td>1.188201</td>\n",
       "      <td>0.571245</td>\n",
       "    </tr>\n",
       "    <tr>\n",
       "      <td>23</td>\n",
       "      <td>1.199200</td>\n",
       "      <td>1.197957</td>\n",
       "      <td>0.577145</td>\n",
       "    </tr>\n",
       "    <tr>\n",
       "      <td>24</td>\n",
       "      <td>1.190400</td>\n",
       "      <td>1.192980</td>\n",
       "      <td>0.571053</td>\n",
       "    </tr>\n",
       "    <tr>\n",
       "      <td>25</td>\n",
       "      <td>1.187700</td>\n",
       "      <td>1.184355</td>\n",
       "      <td>0.573241</td>\n",
       "    </tr>\n",
       "    <tr>\n",
       "      <td>26</td>\n",
       "      <td>1.187900</td>\n",
       "      <td>1.185874</td>\n",
       "      <td>0.574183</td>\n",
       "    </tr>\n",
       "    <tr>\n",
       "      <td>27</td>\n",
       "      <td>1.197900</td>\n",
       "      <td>1.194112</td>\n",
       "      <td>0.573757</td>\n",
       "    </tr>\n",
       "    <tr>\n",
       "      <td>28</td>\n",
       "      <td>1.195700</td>\n",
       "      <td>1.185879</td>\n",
       "      <td>0.577367</td>\n",
       "    </tr>\n",
       "    <tr>\n",
       "      <td>29</td>\n",
       "      <td>1.204100</td>\n",
       "      <td>1.178642</td>\n",
       "      <td>0.577635</td>\n",
       "    </tr>\n",
       "    <tr>\n",
       "      <td>30</td>\n",
       "      <td>1.196900</td>\n",
       "      <td>1.187821</td>\n",
       "      <td>0.579861</td>\n",
       "    </tr>\n",
       "    <tr>\n",
       "      <td>31</td>\n",
       "      <td>1.197100</td>\n",
       "      <td>1.203825</td>\n",
       "      <td>0.577190</td>\n",
       "    </tr>\n",
       "    <tr>\n",
       "      <td>32</td>\n",
       "      <td>1.179000</td>\n",
       "      <td>1.183015</td>\n",
       "      <td>0.576771</td>\n",
       "    </tr>\n",
       "    <tr>\n",
       "      <td>33</td>\n",
       "      <td>1.189100</td>\n",
       "      <td>1.173888</td>\n",
       "      <td>0.581302</td>\n",
       "    </tr>\n",
       "    <tr>\n",
       "      <td>34</td>\n",
       "      <td>1.183200</td>\n",
       "      <td>1.183186</td>\n",
       "      <td>0.578161</td>\n",
       "    </tr>\n",
       "    <tr>\n",
       "      <td>35</td>\n",
       "      <td>1.190000</td>\n",
       "      <td>1.171544</td>\n",
       "      <td>0.579615</td>\n",
       "    </tr>\n",
       "    <tr>\n",
       "      <td>36</td>\n",
       "      <td>1.196100</td>\n",
       "      <td>1.180315</td>\n",
       "      <td>0.582534</td>\n",
       "    </tr>\n",
       "    <tr>\n",
       "      <td>37</td>\n",
       "      <td>1.186500</td>\n",
       "      <td>1.182334</td>\n",
       "      <td>0.578557</td>\n",
       "    </tr>\n",
       "    <tr>\n",
       "      <td>38</td>\n",
       "      <td>1.186800</td>\n",
       "      <td>1.172629</td>\n",
       "      <td>0.582072</td>\n",
       "    </tr>\n",
       "    <tr>\n",
       "      <td>39</td>\n",
       "      <td>1.193600</td>\n",
       "      <td>1.178362</td>\n",
       "      <td>0.584767</td>\n",
       "    </tr>\n",
       "    <tr>\n",
       "      <td>40</td>\n",
       "      <td>1.186900</td>\n",
       "      <td>1.198007</td>\n",
       "      <td>0.586202</td>\n",
       "    </tr>\n",
       "    <tr>\n",
       "      <td>41</td>\n",
       "      <td>1.185000</td>\n",
       "      <td>1.182427</td>\n",
       "      <td>0.584837</td>\n",
       "    </tr>\n",
       "    <tr>\n",
       "      <td>42</td>\n",
       "      <td>1.188600</td>\n",
       "      <td>1.186220</td>\n",
       "      <td>0.583111</td>\n",
       "    </tr>\n",
       "    <tr>\n",
       "      <td>43</td>\n",
       "      <td>1.209500</td>\n",
       "      <td>1.180155</td>\n",
       "      <td>0.579984</td>\n",
       "    </tr>\n",
       "    <tr>\n",
       "      <td>44</td>\n",
       "      <td>1.184000</td>\n",
       "      <td>1.189655</td>\n",
       "      <td>0.586945</td>\n",
       "    </tr>\n",
       "    <tr>\n",
       "      <td>45</td>\n",
       "      <td>1.168600</td>\n",
       "      <td>1.192484</td>\n",
       "      <td>0.585026</td>\n",
       "    </tr>\n",
       "    <tr>\n",
       "      <td>46</td>\n",
       "      <td>1.182800</td>\n",
       "      <td>1.178723</td>\n",
       "      <td>0.582334</td>\n",
       "    </tr>\n",
       "    <tr>\n",
       "      <td>47</td>\n",
       "      <td>1.181600</td>\n",
       "      <td>1.198998</td>\n",
       "      <td>0.582856</td>\n",
       "    </tr>\n",
       "    <tr>\n",
       "      <td>48</td>\n",
       "      <td>1.189600</td>\n",
       "      <td>1.175002</td>\n",
       "      <td>0.583616</td>\n",
       "    </tr>\n",
       "    <tr>\n",
       "      <td>49</td>\n",
       "      <td>1.184200</td>\n",
       "      <td>1.182591</td>\n",
       "      <td>0.588540</td>\n",
       "    </tr>\n",
       "    <tr>\n",
       "      <td>50</td>\n",
       "      <td>1.204000</td>\n",
       "      <td>1.179804</td>\n",
       "      <td>0.584597</td>\n",
       "    </tr>\n",
       "    <tr>\n",
       "      <td>51</td>\n",
       "      <td>1.190500</td>\n",
       "      <td>1.182841</td>\n",
       "      <td>0.581977</td>\n",
       "    </tr>\n",
       "    <tr>\n",
       "      <td>52</td>\n",
       "      <td>1.192600</td>\n",
       "      <td>1.181099</td>\n",
       "      <td>0.583295</td>\n",
       "    </tr>\n",
       "    <tr>\n",
       "      <td>53</td>\n",
       "      <td>1.186100</td>\n",
       "      <td>1.179681</td>\n",
       "      <td>0.586478</td>\n",
       "    </tr>\n",
       "    <tr>\n",
       "      <td>54</td>\n",
       "      <td>1.180700</td>\n",
       "      <td>1.176376</td>\n",
       "      <td>0.583779</td>\n",
       "    </tr>\n",
       "    <tr>\n",
       "      <td>55</td>\n",
       "      <td>1.176800</td>\n",
       "      <td>1.179545</td>\n",
       "      <td>0.585765</td>\n",
       "    </tr>\n",
       "    <tr>\n",
       "      <td>56</td>\n",
       "      <td>1.187100</td>\n",
       "      <td>1.175609</td>\n",
       "      <td>0.582874</td>\n",
       "    </tr>\n",
       "    <tr>\n",
       "      <td>57</td>\n",
       "      <td>1.177000</td>\n",
       "      <td>1.172392</td>\n",
       "      <td>0.587975</td>\n",
       "    </tr>\n",
       "    <tr>\n",
       "      <td>58</td>\n",
       "      <td>1.194200</td>\n",
       "      <td>1.179983</td>\n",
       "      <td>0.584562</td>\n",
       "    </tr>\n",
       "    <tr>\n",
       "      <td>59</td>\n",
       "      <td>1.170700</td>\n",
       "      <td>1.176520</td>\n",
       "      <td>0.585921</td>\n",
       "    </tr>\n",
       "    <tr>\n",
       "      <td>60</td>\n",
       "      <td>1.185000</td>\n",
       "      <td>1.179041</td>\n",
       "      <td>0.586877</td>\n",
       "    </tr>\n",
       "    <tr>\n",
       "      <td>61</td>\n",
       "      <td>1.187800</td>\n",
       "      <td>1.180440</td>\n",
       "      <td>0.590210</td>\n",
       "    </tr>\n",
       "    <tr>\n",
       "      <td>62</td>\n",
       "      <td>1.175400</td>\n",
       "      <td>1.169659</td>\n",
       "      <td>0.589248</td>\n",
       "    </tr>\n",
       "    <tr>\n",
       "      <td>63</td>\n",
       "      <td>1.177000</td>\n",
       "      <td>1.181262</td>\n",
       "      <td>0.586246</td>\n",
       "    </tr>\n",
       "    <tr>\n",
       "      <td>64</td>\n",
       "      <td>1.164400</td>\n",
       "      <td>1.165947</td>\n",
       "      <td>0.586810</td>\n",
       "    </tr>\n",
       "    <tr>\n",
       "      <td>65</td>\n",
       "      <td>1.162600</td>\n",
       "      <td>1.180688</td>\n",
       "      <td>0.584375</td>\n",
       "    </tr>\n",
       "    <tr>\n",
       "      <td>66</td>\n",
       "      <td>1.162400</td>\n",
       "      <td>1.172833</td>\n",
       "      <td>0.589232</td>\n",
       "    </tr>\n",
       "    <tr>\n",
       "      <td>67</td>\n",
       "      <td>1.177200</td>\n",
       "      <td>1.173234</td>\n",
       "      <td>0.588896</td>\n",
       "    </tr>\n",
       "    <tr>\n",
       "      <td>68</td>\n",
       "      <td>1.197300</td>\n",
       "      <td>1.166611</td>\n",
       "      <td>0.587862</td>\n",
       "    </tr>\n",
       "    <tr>\n",
       "      <td>69</td>\n",
       "      <td>1.184400</td>\n",
       "      <td>1.177150</td>\n",
       "      <td>0.587065</td>\n",
       "    </tr>\n",
       "    <tr>\n",
       "      <td>70</td>\n",
       "      <td>1.183400</td>\n",
       "      <td>1.176256</td>\n",
       "      <td>0.584355</td>\n",
       "    </tr>\n",
       "    <tr>\n",
       "      <td>71</td>\n",
       "      <td>1.170200</td>\n",
       "      <td>1.175667</td>\n",
       "      <td>0.584250</td>\n",
       "    </tr>\n",
       "    <tr>\n",
       "      <td>72</td>\n",
       "      <td>1.173100</td>\n",
       "      <td>1.182103</td>\n",
       "      <td>0.586331</td>\n",
       "    </tr>\n",
       "    <tr>\n",
       "      <td>73</td>\n",
       "      <td>1.175500</td>\n",
       "      <td>1.186492</td>\n",
       "      <td>0.589744</td>\n",
       "    </tr>\n",
       "    <tr>\n",
       "      <td>74</td>\n",
       "      <td>1.179000</td>\n",
       "      <td>1.168463</td>\n",
       "      <td>0.588667</td>\n",
       "    </tr>\n",
       "    <tr>\n",
       "      <td>75</td>\n",
       "      <td>1.172900</td>\n",
       "      <td>1.174553</td>\n",
       "      <td>0.590845</td>\n",
       "    </tr>\n",
       "    <tr>\n",
       "      <td>76</td>\n",
       "      <td>1.180700</td>\n",
       "      <td>1.172609</td>\n",
       "      <td>0.590583</td>\n",
       "    </tr>\n",
       "    <tr>\n",
       "      <td>77</td>\n",
       "      <td>1.181300</td>\n",
       "      <td>1.170077</td>\n",
       "      <td>0.592009</td>\n",
       "    </tr>\n",
       "    <tr>\n",
       "      <td>78</td>\n",
       "      <td>1.170100</td>\n",
       "      <td>1.197267</td>\n",
       "      <td>0.590773</td>\n",
       "    </tr>\n",
       "    <tr>\n",
       "      <td>79</td>\n",
       "      <td>1.187500</td>\n",
       "      <td>1.172775</td>\n",
       "      <td>0.589640</td>\n",
       "    </tr>\n",
       "    <tr>\n",
       "      <td>80</td>\n",
       "      <td>1.189400</td>\n",
       "      <td>1.181394</td>\n",
       "      <td>0.592413</td>\n",
       "    </tr>\n",
       "    <tr>\n",
       "      <td>81</td>\n",
       "      <td>1.183300</td>\n",
       "      <td>1.179067</td>\n",
       "      <td>0.586759</td>\n",
       "    </tr>\n",
       "    <tr>\n",
       "      <td>82</td>\n",
       "      <td>1.190900</td>\n",
       "      <td>1.170062</td>\n",
       "      <td>0.590903</td>\n",
       "    </tr>\n",
       "    <tr>\n",
       "      <td>83</td>\n",
       "      <td>1.166900</td>\n",
       "      <td>1.174545</td>\n",
       "      <td>0.587696</td>\n",
       "    </tr>\n",
       "    <tr>\n",
       "      <td>84</td>\n",
       "      <td>1.173700</td>\n",
       "      <td>1.175259</td>\n",
       "      <td>0.584190</td>\n",
       "    </tr>\n",
       "    <tr>\n",
       "      <td>85</td>\n",
       "      <td>1.169500</td>\n",
       "      <td>1.177007</td>\n",
       "      <td>0.590327</td>\n",
       "    </tr>\n",
       "    <tr>\n",
       "      <td>86</td>\n",
       "      <td>1.174900</td>\n",
       "      <td>1.178792</td>\n",
       "      <td>0.589712</td>\n",
       "    </tr>\n",
       "    <tr>\n",
       "      <td>87</td>\n",
       "      <td>1.169700</td>\n",
       "      <td>1.171238</td>\n",
       "      <td>0.586039</td>\n",
       "    </tr>\n",
       "    <tr>\n",
       "      <td>88</td>\n",
       "      <td>1.187100</td>\n",
       "      <td>1.173414</td>\n",
       "      <td>0.591392</td>\n",
       "    </tr>\n",
       "    <tr>\n",
       "      <td>89</td>\n",
       "      <td>1.186200</td>\n",
       "      <td>1.182420</td>\n",
       "      <td>0.589633</td>\n",
       "    </tr>\n",
       "    <tr>\n",
       "      <td>90</td>\n",
       "      <td>1.164200</td>\n",
       "      <td>1.178980</td>\n",
       "      <td>0.591321</td>\n",
       "    </tr>\n",
       "    <tr>\n",
       "      <td>91</td>\n",
       "      <td>1.173400</td>\n",
       "      <td>1.173294</td>\n",
       "      <td>0.583459</td>\n",
       "    </tr>\n",
       "    <tr>\n",
       "      <td>92</td>\n",
       "      <td>1.175900</td>\n",
       "      <td>1.174653</td>\n",
       "      <td>0.592235</td>\n",
       "    </tr>\n",
       "    <tr>\n",
       "      <td>93</td>\n",
       "      <td>1.170100</td>\n",
       "      <td>1.175907</td>\n",
       "      <td>0.588435</td>\n",
       "    </tr>\n",
       "    <tr>\n",
       "      <td>94</td>\n",
       "      <td>1.173000</td>\n",
       "      <td>1.176749</td>\n",
       "      <td>0.590071</td>\n",
       "    </tr>\n",
       "    <tr>\n",
       "      <td>95</td>\n",
       "      <td>1.166500</td>\n",
       "      <td>1.174631</td>\n",
       "      <td>0.589891</td>\n",
       "    </tr>\n",
       "    <tr>\n",
       "      <td>96</td>\n",
       "      <td>1.176200</td>\n",
       "      <td>1.172626</td>\n",
       "      <td>0.591100</td>\n",
       "    </tr>\n",
       "    <tr>\n",
       "      <td>97</td>\n",
       "      <td>1.170600</td>\n",
       "      <td>1.180445</td>\n",
       "      <td>0.589074</td>\n",
       "    </tr>\n",
       "    <tr>\n",
       "      <td>98</td>\n",
       "      <td>1.155400</td>\n",
       "      <td>1.173544</td>\n",
       "      <td>0.590069</td>\n",
       "    </tr>\n",
       "    <tr>\n",
       "      <td>99</td>\n",
       "      <td>1.160100</td>\n",
       "      <td>1.174558</td>\n",
       "      <td>0.588377</td>\n",
       "    </tr>\n",
       "    <tr>\n",
       "      <td>100</td>\n",
       "      <td>1.165400</td>\n",
       "      <td>1.166308</td>\n",
       "      <td>0.589856</td>\n",
       "    </tr>\n",
       "    <tr>\n",
       "      <td>101</td>\n",
       "      <td>1.171200</td>\n",
       "      <td>1.176998</td>\n",
       "      <td>0.590966</td>\n",
       "    </tr>\n",
       "    <tr>\n",
       "      <td>102</td>\n",
       "      <td>1.178900</td>\n",
       "      <td>1.181293</td>\n",
       "      <td>0.590715</td>\n",
       "    </tr>\n",
       "    <tr>\n",
       "      <td>103</td>\n",
       "      <td>1.166600</td>\n",
       "      <td>1.175450</td>\n",
       "      <td>0.584790</td>\n",
       "    </tr>\n",
       "    <tr>\n",
       "      <td>104</td>\n",
       "      <td>1.169000</td>\n",
       "      <td>1.173017</td>\n",
       "      <td>0.590291</td>\n",
       "    </tr>\n",
       "    <tr>\n",
       "      <td>105</td>\n",
       "      <td>1.168000</td>\n",
       "      <td>1.181189</td>\n",
       "      <td>0.591161</td>\n",
       "    </tr>\n",
       "    <tr>\n",
       "      <td>106</td>\n",
       "      <td>1.189900</td>\n",
       "      <td>1.179008</td>\n",
       "      <td>0.588947</td>\n",
       "    </tr>\n",
       "    <tr>\n",
       "      <td>107</td>\n",
       "      <td>1.153300</td>\n",
       "      <td>1.175715</td>\n",
       "      <td>0.591120</td>\n",
       "    </tr>\n",
       "    <tr>\n",
       "      <td>108</td>\n",
       "      <td>1.151700</td>\n",
       "      <td>1.175350</td>\n",
       "      <td>0.591485</td>\n",
       "    </tr>\n",
       "    <tr>\n",
       "      <td>109</td>\n",
       "      <td>1.166000</td>\n",
       "      <td>1.173461</td>\n",
       "      <td>0.590895</td>\n",
       "    </tr>\n",
       "    <tr>\n",
       "      <td>110</td>\n",
       "      <td>1.148900</td>\n",
       "      <td>1.176801</td>\n",
       "      <td>0.590142</td>\n",
       "    </tr>\n",
       "    <tr>\n",
       "      <td>111</td>\n",
       "      <td>1.175200</td>\n",
       "      <td>1.184504</td>\n",
       "      <td>0.593574</td>\n",
       "    </tr>\n",
       "    <tr>\n",
       "      <td>112</td>\n",
       "      <td>1.149000</td>\n",
       "      <td>1.170820</td>\n",
       "      <td>0.590175</td>\n",
       "    </tr>\n",
       "    <tr>\n",
       "      <td>113</td>\n",
       "      <td>1.171800</td>\n",
       "      <td>1.181428</td>\n",
       "      <td>0.591373</td>\n",
       "    </tr>\n",
       "    <tr>\n",
       "      <td>114</td>\n",
       "      <td>1.161200</td>\n",
       "      <td>1.172708</td>\n",
       "      <td>0.592441</td>\n",
       "    </tr>\n",
       "    <tr>\n",
       "      <td>115</td>\n",
       "      <td>1.176800</td>\n",
       "      <td>1.175223</td>\n",
       "      <td>0.591799</td>\n",
       "    </tr>\n",
       "    <tr>\n",
       "      <td>116</td>\n",
       "      <td>1.168900</td>\n",
       "      <td>1.181873</td>\n",
       "      <td>0.591850</td>\n",
       "    </tr>\n",
       "    <tr>\n",
       "      <td>117</td>\n",
       "      <td>1.170900</td>\n",
       "      <td>1.178025</td>\n",
       "      <td>0.590936</td>\n",
       "    </tr>\n",
       "    <tr>\n",
       "      <td>118</td>\n",
       "      <td>1.153200</td>\n",
       "      <td>1.177099</td>\n",
       "      <td>0.590812</td>\n",
       "    </tr>\n",
       "    <tr>\n",
       "      <td>119</td>\n",
       "      <td>1.162900</td>\n",
       "      <td>1.184851</td>\n",
       "      <td>0.588919</td>\n",
       "    </tr>\n",
       "    <tr>\n",
       "      <td>120</td>\n",
       "      <td>1.171600</td>\n",
       "      <td>1.180911</td>\n",
       "      <td>0.589355</td>\n",
       "    </tr>\n",
       "    <tr>\n",
       "      <td>121</td>\n",
       "      <td>1.176000</td>\n",
       "      <td>1.174546</td>\n",
       "      <td>0.589931</td>\n",
       "    </tr>\n",
       "    <tr>\n",
       "      <td>122</td>\n",
       "      <td>1.156700</td>\n",
       "      <td>1.187809</td>\n",
       "      <td>0.590448</td>\n",
       "    </tr>\n",
       "    <tr>\n",
       "      <td>123</td>\n",
       "      <td>1.171000</td>\n",
       "      <td>1.175632</td>\n",
       "      <td>0.591730</td>\n",
       "    </tr>\n",
       "    <tr>\n",
       "      <td>124</td>\n",
       "      <td>1.150000</td>\n",
       "      <td>1.183525</td>\n",
       "      <td>0.591106</td>\n",
       "    </tr>\n",
       "    <tr>\n",
       "      <td>125</td>\n",
       "      <td>1.164900</td>\n",
       "      <td>1.174787</td>\n",
       "      <td>0.589889</td>\n",
       "    </tr>\n",
       "    <tr>\n",
       "      <td>126</td>\n",
       "      <td>1.161300</td>\n",
       "      <td>1.179452</td>\n",
       "      <td>0.590668</td>\n",
       "    </tr>\n",
       "    <tr>\n",
       "      <td>127</td>\n",
       "      <td>1.158900</td>\n",
       "      <td>1.175673</td>\n",
       "      <td>0.590951</td>\n",
       "    </tr>\n",
       "    <tr>\n",
       "      <td>128</td>\n",
       "      <td>1.169400</td>\n",
       "      <td>1.167595</td>\n",
       "      <td>0.589454</td>\n",
       "    </tr>\n",
       "    <tr>\n",
       "      <td>129</td>\n",
       "      <td>1.166400</td>\n",
       "      <td>1.175524</td>\n",
       "      <td>0.590691</td>\n",
       "    </tr>\n",
       "    <tr>\n",
       "      <td>130</td>\n",
       "      <td>1.151900</td>\n",
       "      <td>1.170573</td>\n",
       "      <td>0.590834</td>\n",
       "    </tr>\n",
       "    <tr>\n",
       "      <td>131</td>\n",
       "      <td>1.165100</td>\n",
       "      <td>1.173081</td>\n",
       "      <td>0.591022</td>\n",
       "    </tr>\n",
       "    <tr>\n",
       "      <td>132</td>\n",
       "      <td>1.168400</td>\n",
       "      <td>1.181601</td>\n",
       "      <td>0.590332</td>\n",
       "    </tr>\n",
       "    <tr>\n",
       "      <td>133</td>\n",
       "      <td>1.165800</td>\n",
       "      <td>1.173150</td>\n",
       "      <td>0.588696</td>\n",
       "    </tr>\n",
       "    <tr>\n",
       "      <td>134</td>\n",
       "      <td>1.174100</td>\n",
       "      <td>1.171864</td>\n",
       "      <td>0.589963</td>\n",
       "    </tr>\n",
       "    <tr>\n",
       "      <td>135</td>\n",
       "      <td>1.168300</td>\n",
       "      <td>1.170931</td>\n",
       "      <td>0.590163</td>\n",
       "    </tr>\n",
       "    <tr>\n",
       "      <td>136</td>\n",
       "      <td>1.172200</td>\n",
       "      <td>1.175439</td>\n",
       "      <td>0.591594</td>\n",
       "    </tr>\n",
       "    <tr>\n",
       "      <td>137</td>\n",
       "      <td>1.175600</td>\n",
       "      <td>1.176318</td>\n",
       "      <td>0.591485</td>\n",
       "    </tr>\n",
       "    <tr>\n",
       "      <td>138</td>\n",
       "      <td>1.157300</td>\n",
       "      <td>1.177327</td>\n",
       "      <td>0.592338</td>\n",
       "    </tr>\n",
       "    <tr>\n",
       "      <td>139</td>\n",
       "      <td>1.162400</td>\n",
       "      <td>1.172943</td>\n",
       "      <td>0.592150</td>\n",
       "    </tr>\n",
       "    <tr>\n",
       "      <td>140</td>\n",
       "      <td>1.163000</td>\n",
       "      <td>1.177971</td>\n",
       "      <td>0.591421</td>\n",
       "    </tr>\n",
       "    <tr>\n",
       "      <td>141</td>\n",
       "      <td>1.168900</td>\n",
       "      <td>1.179331</td>\n",
       "      <td>0.592616</td>\n",
       "    </tr>\n",
       "    <tr>\n",
       "      <td>142</td>\n",
       "      <td>1.155300</td>\n",
       "      <td>1.174071</td>\n",
       "      <td>0.589463</td>\n",
       "    </tr>\n",
       "    <tr>\n",
       "      <td>143</td>\n",
       "      <td>1.158600</td>\n",
       "      <td>1.177566</td>\n",
       "      <td>0.590906</td>\n",
       "    </tr>\n",
       "    <tr>\n",
       "      <td>144</td>\n",
       "      <td>1.152300</td>\n",
       "      <td>1.187554</td>\n",
       "      <td>0.591583</td>\n",
       "    </tr>\n",
       "    <tr>\n",
       "      <td>145</td>\n",
       "      <td>1.148900</td>\n",
       "      <td>1.172093</td>\n",
       "      <td>0.591920</td>\n",
       "    </tr>\n",
       "    <tr>\n",
       "      <td>146</td>\n",
       "      <td>1.166200</td>\n",
       "      <td>1.172973</td>\n",
       "      <td>0.591502</td>\n",
       "    </tr>\n",
       "    <tr>\n",
       "      <td>147</td>\n",
       "      <td>1.150800</td>\n",
       "      <td>1.181987</td>\n",
       "      <td>0.590955</td>\n",
       "    </tr>\n",
       "    <tr>\n",
       "      <td>148</td>\n",
       "      <td>1.161200</td>\n",
       "      <td>1.174706</td>\n",
       "      <td>0.590637</td>\n",
       "    </tr>\n",
       "    <tr>\n",
       "      <td>149</td>\n",
       "      <td>1.163900</td>\n",
       "      <td>1.173785</td>\n",
       "      <td>0.590282</td>\n",
       "    </tr>\n",
       "    <tr>\n",
       "      <td>150</td>\n",
       "      <td>1.146300</td>\n",
       "      <td>1.182109</td>\n",
       "      <td>0.591710</td>\n",
       "    </tr>\n",
       "    <tr>\n",
       "      <td>151</td>\n",
       "      <td>1.152800</td>\n",
       "      <td>1.174330</td>\n",
       "      <td>0.591142</td>\n",
       "    </tr>\n",
       "    <tr>\n",
       "      <td>152</td>\n",
       "      <td>1.158300</td>\n",
       "      <td>1.185961</td>\n",
       "      <td>0.592604</td>\n",
       "    </tr>\n",
       "    <tr>\n",
       "      <td>153</td>\n",
       "      <td>1.148300</td>\n",
       "      <td>1.174270</td>\n",
       "      <td>0.590981</td>\n",
       "    </tr>\n",
       "    <tr>\n",
       "      <td>154</td>\n",
       "      <td>1.180500</td>\n",
       "      <td>1.181958</td>\n",
       "      <td>0.590791</td>\n",
       "    </tr>\n",
       "    <tr>\n",
       "      <td>155</td>\n",
       "      <td>1.177300</td>\n",
       "      <td>1.176759</td>\n",
       "      <td>0.592290</td>\n",
       "    </tr>\n",
       "    <tr>\n",
       "      <td>156</td>\n",
       "      <td>1.159200</td>\n",
       "      <td>1.172008</td>\n",
       "      <td>0.592298</td>\n",
       "    </tr>\n",
       "    <tr>\n",
       "      <td>157</td>\n",
       "      <td>1.155900</td>\n",
       "      <td>1.176206</td>\n",
       "      <td>0.591374</td>\n",
       "    </tr>\n",
       "    <tr>\n",
       "      <td>158</td>\n",
       "      <td>1.160500</td>\n",
       "      <td>1.180202</td>\n",
       "      <td>0.591614</td>\n",
       "    </tr>\n",
       "    <tr>\n",
       "      <td>159</td>\n",
       "      <td>1.156200</td>\n",
       "      <td>1.173631</td>\n",
       "      <td>0.590979</td>\n",
       "    </tr>\n",
       "    <tr>\n",
       "      <td>160</td>\n",
       "      <td>1.150700</td>\n",
       "      <td>1.173349</td>\n",
       "      <td>0.591092</td>\n",
       "    </tr>\n",
       "    <tr>\n",
       "      <td>161</td>\n",
       "      <td>1.145000</td>\n",
       "      <td>1.179682</td>\n",
       "      <td>0.591816</td>\n",
       "    </tr>\n",
       "    <tr>\n",
       "      <td>162</td>\n",
       "      <td>1.166700</td>\n",
       "      <td>1.178132</td>\n",
       "      <td>0.591381</td>\n",
       "    </tr>\n",
       "    <tr>\n",
       "      <td>163</td>\n",
       "      <td>1.154300</td>\n",
       "      <td>1.174756</td>\n",
       "      <td>0.591016</td>\n",
       "    </tr>\n",
       "    <tr>\n",
       "      <td>164</td>\n",
       "      <td>1.145500</td>\n",
       "      <td>1.178020</td>\n",
       "      <td>0.590650</td>\n",
       "    </tr>\n",
       "    <tr>\n",
       "      <td>165</td>\n",
       "      <td>1.158700</td>\n",
       "      <td>1.176281</td>\n",
       "      <td>0.590326</td>\n",
       "    </tr>\n",
       "    <tr>\n",
       "      <td>166</td>\n",
       "      <td>1.144100</td>\n",
       "      <td>1.180462</td>\n",
       "      <td>0.590714</td>\n",
       "    </tr>\n",
       "    <tr>\n",
       "      <td>167</td>\n",
       "      <td>1.154800</td>\n",
       "      <td>1.175504</td>\n",
       "      <td>0.590544</td>\n",
       "    </tr>\n",
       "    <tr>\n",
       "      <td>168</td>\n",
       "      <td>1.153200</td>\n",
       "      <td>1.174511</td>\n",
       "      <td>0.590265</td>\n",
       "    </tr>\n",
       "    <tr>\n",
       "      <td>169</td>\n",
       "      <td>1.147100</td>\n",
       "      <td>1.176904</td>\n",
       "      <td>0.591573</td>\n",
       "    </tr>\n",
       "    <tr>\n",
       "      <td>170</td>\n",
       "      <td>1.150800</td>\n",
       "      <td>1.176157</td>\n",
       "      <td>0.591330</td>\n",
       "    </tr>\n",
       "    <tr>\n",
       "      <td>171</td>\n",
       "      <td>1.151100</td>\n",
       "      <td>1.179044</td>\n",
       "      <td>0.589599</td>\n",
       "    </tr>\n",
       "    <tr>\n",
       "      <td>172</td>\n",
       "      <td>1.151000</td>\n",
       "      <td>1.175711</td>\n",
       "      <td>0.590535</td>\n",
       "    </tr>\n",
       "    <tr>\n",
       "      <td>173</td>\n",
       "      <td>1.144600</td>\n",
       "      <td>1.175240</td>\n",
       "      <td>0.590125</td>\n",
       "    </tr>\n",
       "    <tr>\n",
       "      <td>174</td>\n",
       "      <td>1.162800</td>\n",
       "      <td>1.177884</td>\n",
       "      <td>0.592135</td>\n",
       "    </tr>\n",
       "    <tr>\n",
       "      <td>175</td>\n",
       "      <td>1.165900</td>\n",
       "      <td>1.175709</td>\n",
       "      <td>0.590808</td>\n",
       "    </tr>\n",
       "    <tr>\n",
       "      <td>176</td>\n",
       "      <td>1.162400</td>\n",
       "      <td>1.174335</td>\n",
       "      <td>0.590330</td>\n",
       "    </tr>\n",
       "    <tr>\n",
       "      <td>177</td>\n",
       "      <td>1.159600</td>\n",
       "      <td>1.175635</td>\n",
       "      <td>0.591564</td>\n",
       "    </tr>\n",
       "    <tr>\n",
       "      <td>178</td>\n",
       "      <td>1.176400</td>\n",
       "      <td>1.173928</td>\n",
       "      <td>0.591299</td>\n",
       "    </tr>\n",
       "    <tr>\n",
       "      <td>179</td>\n",
       "      <td>1.150500</td>\n",
       "      <td>1.176842</td>\n",
       "      <td>0.591543</td>\n",
       "    </tr>\n",
       "    <tr>\n",
       "      <td>180</td>\n",
       "      <td>1.148900</td>\n",
       "      <td>1.178635</td>\n",
       "      <td>0.590726</td>\n",
       "    </tr>\n",
       "    <tr>\n",
       "      <td>181</td>\n",
       "      <td>1.151700</td>\n",
       "      <td>1.174385</td>\n",
       "      <td>0.590953</td>\n",
       "    </tr>\n",
       "    <tr>\n",
       "      <td>182</td>\n",
       "      <td>1.142500</td>\n",
       "      <td>1.180807</td>\n",
       "      <td>0.590972</td>\n",
       "    </tr>\n",
       "    <tr>\n",
       "      <td>183</td>\n",
       "      <td>1.157200</td>\n",
       "      <td>1.174179</td>\n",
       "      <td>0.590549</td>\n",
       "    </tr>\n",
       "    <tr>\n",
       "      <td>184</td>\n",
       "      <td>1.162800</td>\n",
       "      <td>1.176685</td>\n",
       "      <td>0.590034</td>\n",
       "    </tr>\n",
       "    <tr>\n",
       "      <td>185</td>\n",
       "      <td>1.140400</td>\n",
       "      <td>1.179338</td>\n",
       "      <td>0.591137</td>\n",
       "    </tr>\n",
       "    <tr>\n",
       "      <td>186</td>\n",
       "      <td>1.149000</td>\n",
       "      <td>1.176962</td>\n",
       "      <td>0.591109</td>\n",
       "    </tr>\n",
       "    <tr>\n",
       "      <td>187</td>\n",
       "      <td>1.162300</td>\n",
       "      <td>1.175123</td>\n",
       "      <td>0.590919</td>\n",
       "    </tr>\n",
       "    <tr>\n",
       "      <td>188</td>\n",
       "      <td>1.138400</td>\n",
       "      <td>1.174641</td>\n",
       "      <td>0.591260</td>\n",
       "    </tr>\n",
       "    <tr>\n",
       "      <td>189</td>\n",
       "      <td>1.145200</td>\n",
       "      <td>1.175371</td>\n",
       "      <td>0.590734</td>\n",
       "    </tr>\n",
       "    <tr>\n",
       "      <td>190</td>\n",
       "      <td>1.162200</td>\n",
       "      <td>1.177955</td>\n",
       "      <td>0.591223</td>\n",
       "    </tr>\n",
       "    <tr>\n",
       "      <td>191</td>\n",
       "      <td>1.148700</td>\n",
       "      <td>1.171370</td>\n",
       "      <td>0.590990</td>\n",
       "    </tr>\n",
       "    <tr>\n",
       "      <td>192</td>\n",
       "      <td>1.154600</td>\n",
       "      <td>1.173832</td>\n",
       "      <td>0.590574</td>\n",
       "    </tr>\n",
       "    <tr>\n",
       "      <td>193</td>\n",
       "      <td>1.165200</td>\n",
       "      <td>1.177535</td>\n",
       "      <td>0.591535</td>\n",
       "    </tr>\n",
       "    <tr>\n",
       "      <td>194</td>\n",
       "      <td>1.151900</td>\n",
       "      <td>1.176356</td>\n",
       "      <td>0.591056</td>\n",
       "    </tr>\n",
       "    <tr>\n",
       "      <td>195</td>\n",
       "      <td>1.144600</td>\n",
       "      <td>1.173996</td>\n",
       "      <td>0.590481</td>\n",
       "    </tr>\n",
       "    <tr>\n",
       "      <td>196</td>\n",
       "      <td>1.144000</td>\n",
       "      <td>1.174852</td>\n",
       "      <td>0.591406</td>\n",
       "    </tr>\n",
       "    <tr>\n",
       "      <td>197</td>\n",
       "      <td>1.142100</td>\n",
       "      <td>1.174622</td>\n",
       "      <td>0.591117</td>\n",
       "    </tr>\n",
       "    <tr>\n",
       "      <td>198</td>\n",
       "      <td>1.166400</td>\n",
       "      <td>1.173339</td>\n",
       "      <td>0.591172</td>\n",
       "    </tr>\n",
       "    <tr>\n",
       "      <td>199</td>\n",
       "      <td>1.168200</td>\n",
       "      <td>1.174396</td>\n",
       "      <td>0.591489</td>\n",
       "    </tr>\n",
       "    <tr>\n",
       "      <td>200</td>\n",
       "      <td>1.160300</td>\n",
       "      <td>1.172615</td>\n",
       "      <td>0.591378</td>\n",
       "    </tr>\n",
       "  </tbody>\n",
       "</table><p>"
      ],
      "text/plain": [
       "<IPython.core.display.HTML object>"
      ]
     },
     "metadata": {},
     "output_type": "display_data"
    },
    {
     "name": "stderr",
     "output_type": "stream",
     "text": [
      "***** Running Evaluation *****\n"
     ]
    },
    {
     "name": "stderr",
     "output_type": "stream",
     "text": [
      "  Num examples = 1592\n"
     ]
    },
    {
     "name": "stderr",
     "output_type": "stream",
     "text": [
      "  Batch size = 1\n"
     ]
    },
    {
     "name": "stderr",
     "output_type": "stream",
     "text": [
      "Saving model checkpoint to saved_models/XLNetDepr-3_256_8-ALL_NA-PEL-BS1-GWS_PCC_IT192_DH_3LMAEALPHANA_NZ20_PNTh0.05_AnnotThresh0.5/checkpoint-6386\n"
     ]
    },
    {
     "name": "stderr",
     "output_type": "stream",
     "text": [
      "Configuration saved in saved_models/XLNetDepr-3_256_8-ALL_NA-PEL-BS1-GWS_PCC_IT192_DH_3LMAEALPHANA_NZ20_PNTh0.05_AnnotThresh0.5/checkpoint-6386/config.json\n"
     ]
    },
    {
     "name": "stderr",
     "output_type": "stream",
     "text": [
      "Model weights saved in saved_models/XLNetDepr-3_256_8-ALL_NA-PEL-BS1-GWS_PCC_IT192_DH_3LMAEALPHANA_NZ20_PNTh0.05_AnnotThresh0.5/checkpoint-6386/pytorch_model.bin\n"
     ]
    },
    {
     "name": "stderr",
     "output_type": "stream",
     "text": [
      "***** Running Evaluation *****\n"
     ]
    },
    {
     "name": "stderr",
     "output_type": "stream",
     "text": [
      "  Num examples = 1592\n"
     ]
    },
    {
     "name": "stderr",
     "output_type": "stream",
     "text": [
      "  Batch size = 1\n"
     ]
    },
    {
     "name": "stderr",
     "output_type": "stream",
     "text": [
      "Saving model checkpoint to saved_models/XLNetDepr-3_256_8-ALL_NA-PEL-BS1-GWS_PCC_IT192_DH_3LMAEALPHANA_NZ20_PNTh0.05_AnnotThresh0.5/checkpoint-12772\n"
     ]
    },
    {
     "name": "stderr",
     "output_type": "stream",
     "text": [
      "Configuration saved in saved_models/XLNetDepr-3_256_8-ALL_NA-PEL-BS1-GWS_PCC_IT192_DH_3LMAEALPHANA_NZ20_PNTh0.05_AnnotThresh0.5/checkpoint-12772/config.json\n"
     ]
    },
    {
     "name": "stderr",
     "output_type": "stream",
     "text": [
      "Model weights saved in saved_models/XLNetDepr-3_256_8-ALL_NA-PEL-BS1-GWS_PCC_IT192_DH_3LMAEALPHANA_NZ20_PNTh0.05_AnnotThresh0.5/checkpoint-12772/pytorch_model.bin\n"
     ]
    },
    {
     "name": "stderr",
     "output_type": "stream",
     "text": [
      "***** Running Evaluation *****\n"
     ]
    },
    {
     "name": "stderr",
     "output_type": "stream",
     "text": [
      "  Num examples = 1592\n"
     ]
    },
    {
     "name": "stderr",
     "output_type": "stream",
     "text": [
      "  Batch size = 1\n"
     ]
    },
    {
     "name": "stderr",
     "output_type": "stream",
     "text": [
      "Saving model checkpoint to saved_models/XLNetDepr-3_256_8-ALL_NA-PEL-BS1-GWS_PCC_IT192_DH_3LMAEALPHANA_NZ20_PNTh0.05_AnnotThresh0.5/checkpoint-19158\n"
     ]
    },
    {
     "name": "stderr",
     "output_type": "stream",
     "text": [
      "Configuration saved in saved_models/XLNetDepr-3_256_8-ALL_NA-PEL-BS1-GWS_PCC_IT192_DH_3LMAEALPHANA_NZ20_PNTh0.05_AnnotThresh0.5/checkpoint-19158/config.json\n"
     ]
    },
    {
     "name": "stderr",
     "output_type": "stream",
     "text": [
      "Model weights saved in saved_models/XLNetDepr-3_256_8-ALL_NA-PEL-BS1-GWS_PCC_IT192_DH_3LMAEALPHANA_NZ20_PNTh0.05_AnnotThresh0.5/checkpoint-19158/pytorch_model.bin\n"
     ]
    },
    {
     "name": "stderr",
     "output_type": "stream",
     "text": [
      "***** Running Evaluation *****\n"
     ]
    },
    {
     "name": "stderr",
     "output_type": "stream",
     "text": [
      "  Num examples = 1592\n"
     ]
    },
    {
     "name": "stderr",
     "output_type": "stream",
     "text": [
      "  Batch size = 1\n"
     ]
    },
    {
     "name": "stderr",
     "output_type": "stream",
     "text": [
      "Saving model checkpoint to saved_models/XLNetDepr-3_256_8-ALL_NA-PEL-BS1-GWS_PCC_IT192_DH_3LMAEALPHANA_NZ20_PNTh0.05_AnnotThresh0.5/checkpoint-25544\n"
     ]
    },
    {
     "name": "stderr",
     "output_type": "stream",
     "text": [
      "Configuration saved in saved_models/XLNetDepr-3_256_8-ALL_NA-PEL-BS1-GWS_PCC_IT192_DH_3LMAEALPHANA_NZ20_PNTh0.05_AnnotThresh0.5/checkpoint-25544/config.json\n"
     ]
    },
    {
     "name": "stderr",
     "output_type": "stream",
     "text": [
      "Model weights saved in saved_models/XLNetDepr-3_256_8-ALL_NA-PEL-BS1-GWS_PCC_IT192_DH_3LMAEALPHANA_NZ20_PNTh0.05_AnnotThresh0.5/checkpoint-25544/pytorch_model.bin\n"
     ]
    },
    {
     "name": "stderr",
     "output_type": "stream",
     "text": [
      "***** Running Evaluation *****\n"
     ]
    },
    {
     "name": "stderr",
     "output_type": "stream",
     "text": [
      "  Num examples = 1592\n"
     ]
    },
    {
     "name": "stderr",
     "output_type": "stream",
     "text": [
      "  Batch size = 1\n"
     ]
    },
    {
     "name": "stderr",
     "output_type": "stream",
     "text": [
      "Saving model checkpoint to saved_models/XLNetDepr-3_256_8-ALL_NA-PEL-BS1-GWS_PCC_IT192_DH_3LMAEALPHANA_NZ20_PNTh0.05_AnnotThresh0.5/checkpoint-31930\n"
     ]
    },
    {
     "name": "stderr",
     "output_type": "stream",
     "text": [
      "Configuration saved in saved_models/XLNetDepr-3_256_8-ALL_NA-PEL-BS1-GWS_PCC_IT192_DH_3LMAEALPHANA_NZ20_PNTh0.05_AnnotThresh0.5/checkpoint-31930/config.json\n"
     ]
    },
    {
     "name": "stderr",
     "output_type": "stream",
     "text": [
      "Model weights saved in saved_models/XLNetDepr-3_256_8-ALL_NA-PEL-BS1-GWS_PCC_IT192_DH_3LMAEALPHANA_NZ20_PNTh0.05_AnnotThresh0.5/checkpoint-31930/pytorch_model.bin\n"
     ]
    },
    {
     "name": "stderr",
     "output_type": "stream",
     "text": [
      "***** Running Evaluation *****\n"
     ]
    },
    {
     "name": "stderr",
     "output_type": "stream",
     "text": [
      "  Num examples = 1592\n"
     ]
    },
    {
     "name": "stderr",
     "output_type": "stream",
     "text": [
      "  Batch size = 1\n"
     ]
    },
    {
     "name": "stderr",
     "output_type": "stream",
     "text": [
      "Saving model checkpoint to saved_models/XLNetDepr-3_256_8-ALL_NA-PEL-BS1-GWS_PCC_IT192_DH_3LMAEALPHANA_NZ20_PNTh0.05_AnnotThresh0.5/checkpoint-38316\n"
     ]
    },
    {
     "name": "stderr",
     "output_type": "stream",
     "text": [
      "Configuration saved in saved_models/XLNetDepr-3_256_8-ALL_NA-PEL-BS1-GWS_PCC_IT192_DH_3LMAEALPHANA_NZ20_PNTh0.05_AnnotThresh0.5/checkpoint-38316/config.json\n"
     ]
    },
    {
     "name": "stderr",
     "output_type": "stream",
     "text": [
      "Model weights saved in saved_models/XLNetDepr-3_256_8-ALL_NA-PEL-BS1-GWS_PCC_IT192_DH_3LMAEALPHANA_NZ20_PNTh0.05_AnnotThresh0.5/checkpoint-38316/pytorch_model.bin\n"
     ]
    },
    {
     "name": "stderr",
     "output_type": "stream",
     "text": [
      "Deleting older checkpoint [saved_models/XLNetDepr-3_256_8-ALL_NA-PEL-BS1-GWS_PCC_IT192_DH_3LMAEALPHANA_NZ20_PNTh0.05_AnnotThresh0.5/checkpoint-6386] due to args.save_total_limit\n"
     ]
    },
    {
     "name": "stderr",
     "output_type": "stream",
     "text": [
      "***** Running Evaluation *****\n"
     ]
    },
    {
     "name": "stderr",
     "output_type": "stream",
     "text": [
      "  Num examples = 1592\n"
     ]
    },
    {
     "name": "stderr",
     "output_type": "stream",
     "text": [
      "  Batch size = 1\n"
     ]
    },
    {
     "name": "stderr",
     "output_type": "stream",
     "text": [
      "Saving model checkpoint to saved_models/XLNetDepr-3_256_8-ALL_NA-PEL-BS1-GWS_PCC_IT192_DH_3LMAEALPHANA_NZ20_PNTh0.05_AnnotThresh0.5/checkpoint-44702\n"
     ]
    },
    {
     "name": "stderr",
     "output_type": "stream",
     "text": [
      "Configuration saved in saved_models/XLNetDepr-3_256_8-ALL_NA-PEL-BS1-GWS_PCC_IT192_DH_3LMAEALPHANA_NZ20_PNTh0.05_AnnotThresh0.5/checkpoint-44702/config.json\n"
     ]
    },
    {
     "name": "stderr",
     "output_type": "stream",
     "text": [
      "Model weights saved in saved_models/XLNetDepr-3_256_8-ALL_NA-PEL-BS1-GWS_PCC_IT192_DH_3LMAEALPHANA_NZ20_PNTh0.05_AnnotThresh0.5/checkpoint-44702/pytorch_model.bin\n"
     ]
    },
    {
     "name": "stderr",
     "output_type": "stream",
     "text": [
      "Deleting older checkpoint [saved_models/XLNetDepr-3_256_8-ALL_NA-PEL-BS1-GWS_PCC_IT192_DH_3LMAEALPHANA_NZ20_PNTh0.05_AnnotThresh0.5/checkpoint-12772] due to args.save_total_limit\n"
     ]
    },
    {
     "name": "stderr",
     "output_type": "stream",
     "text": [
      "***** Running Evaluation *****\n"
     ]
    },
    {
     "name": "stderr",
     "output_type": "stream",
     "text": [
      "  Num examples = 1592\n"
     ]
    },
    {
     "name": "stderr",
     "output_type": "stream",
     "text": [
      "  Batch size = 1\n"
     ]
    },
    {
     "name": "stderr",
     "output_type": "stream",
     "text": [
      "Saving model checkpoint to saved_models/XLNetDepr-3_256_8-ALL_NA-PEL-BS1-GWS_PCC_IT192_DH_3LMAEALPHANA_NZ20_PNTh0.05_AnnotThresh0.5/checkpoint-51088\n"
     ]
    },
    {
     "name": "stderr",
     "output_type": "stream",
     "text": [
      "Configuration saved in saved_models/XLNetDepr-3_256_8-ALL_NA-PEL-BS1-GWS_PCC_IT192_DH_3LMAEALPHANA_NZ20_PNTh0.05_AnnotThresh0.5/checkpoint-51088/config.json\n"
     ]
    },
    {
     "name": "stderr",
     "output_type": "stream",
     "text": [
      "Model weights saved in saved_models/XLNetDepr-3_256_8-ALL_NA-PEL-BS1-GWS_PCC_IT192_DH_3LMAEALPHANA_NZ20_PNTh0.05_AnnotThresh0.5/checkpoint-51088/pytorch_model.bin\n"
     ]
    },
    {
     "name": "stderr",
     "output_type": "stream",
     "text": [
      "Deleting older checkpoint [saved_models/XLNetDepr-3_256_8-ALL_NA-PEL-BS1-GWS_PCC_IT192_DH_3LMAEALPHANA_NZ20_PNTh0.05_AnnotThresh0.5/checkpoint-19158] due to args.save_total_limit\n"
     ]
    },
    {
     "name": "stderr",
     "output_type": "stream",
     "text": [
      "***** Running Evaluation *****\n"
     ]
    },
    {
     "name": "stderr",
     "output_type": "stream",
     "text": [
      "  Num examples = 1592\n"
     ]
    },
    {
     "name": "stderr",
     "output_type": "stream",
     "text": [
      "  Batch size = 1\n"
     ]
    },
    {
     "name": "stderr",
     "output_type": "stream",
     "text": [
      "Saving model checkpoint to saved_models/XLNetDepr-3_256_8-ALL_NA-PEL-BS1-GWS_PCC_IT192_DH_3LMAEALPHANA_NZ20_PNTh0.05_AnnotThresh0.5/checkpoint-57474\n"
     ]
    },
    {
     "name": "stderr",
     "output_type": "stream",
     "text": [
      "Configuration saved in saved_models/XLNetDepr-3_256_8-ALL_NA-PEL-BS1-GWS_PCC_IT192_DH_3LMAEALPHANA_NZ20_PNTh0.05_AnnotThresh0.5/checkpoint-57474/config.json\n"
     ]
    },
    {
     "name": "stderr",
     "output_type": "stream",
     "text": [
      "Model weights saved in saved_models/XLNetDepr-3_256_8-ALL_NA-PEL-BS1-GWS_PCC_IT192_DH_3LMAEALPHANA_NZ20_PNTh0.05_AnnotThresh0.5/checkpoint-57474/pytorch_model.bin\n"
     ]
    },
    {
     "name": "stderr",
     "output_type": "stream",
     "text": [
      "Deleting older checkpoint [saved_models/XLNetDepr-3_256_8-ALL_NA-PEL-BS1-GWS_PCC_IT192_DH_3LMAEALPHANA_NZ20_PNTh0.05_AnnotThresh0.5/checkpoint-25544] due to args.save_total_limit\n"
     ]
    },
    {
     "name": "stderr",
     "output_type": "stream",
     "text": [
      "***** Running Evaluation *****\n"
     ]
    },
    {
     "name": "stderr",
     "output_type": "stream",
     "text": [
      "  Num examples = 1592\n"
     ]
    },
    {
     "name": "stderr",
     "output_type": "stream",
     "text": [
      "  Batch size = 1\n"
     ]
    },
    {
     "name": "stderr",
     "output_type": "stream",
     "text": [
      "Saving model checkpoint to saved_models/XLNetDepr-3_256_8-ALL_NA-PEL-BS1-GWS_PCC_IT192_DH_3LMAEALPHANA_NZ20_PNTh0.05_AnnotThresh0.5/checkpoint-63860\n"
     ]
    },
    {
     "name": "stderr",
     "output_type": "stream",
     "text": [
      "Configuration saved in saved_models/XLNetDepr-3_256_8-ALL_NA-PEL-BS1-GWS_PCC_IT192_DH_3LMAEALPHANA_NZ20_PNTh0.05_AnnotThresh0.5/checkpoint-63860/config.json\n"
     ]
    },
    {
     "name": "stderr",
     "output_type": "stream",
     "text": [
      "Model weights saved in saved_models/XLNetDepr-3_256_8-ALL_NA-PEL-BS1-GWS_PCC_IT192_DH_3LMAEALPHANA_NZ20_PNTh0.05_AnnotThresh0.5/checkpoint-63860/pytorch_model.bin\n"
     ]
    },
    {
     "name": "stderr",
     "output_type": "stream",
     "text": [
      "Deleting older checkpoint [saved_models/XLNetDepr-3_256_8-ALL_NA-PEL-BS1-GWS_PCC_IT192_DH_3LMAEALPHANA_NZ20_PNTh0.05_AnnotThresh0.5/checkpoint-31930] due to args.save_total_limit\n"
     ]
    },
    {
     "name": "stderr",
     "output_type": "stream",
     "text": [
      "***** Running Evaluation *****\n"
     ]
    },
    {
     "name": "stderr",
     "output_type": "stream",
     "text": [
      "  Num examples = 1592\n"
     ]
    },
    {
     "name": "stderr",
     "output_type": "stream",
     "text": [
      "  Batch size = 1\n"
     ]
    },
    {
     "name": "stderr",
     "output_type": "stream",
     "text": [
      "Saving model checkpoint to saved_models/XLNetDepr-3_256_8-ALL_NA-PEL-BS1-GWS_PCC_IT192_DH_3LMAEALPHANA_NZ20_PNTh0.05_AnnotThresh0.5/checkpoint-70246\n"
     ]
    },
    {
     "name": "stderr",
     "output_type": "stream",
     "text": [
      "Configuration saved in saved_models/XLNetDepr-3_256_8-ALL_NA-PEL-BS1-GWS_PCC_IT192_DH_3LMAEALPHANA_NZ20_PNTh0.05_AnnotThresh0.5/checkpoint-70246/config.json\n"
     ]
    },
    {
     "name": "stderr",
     "output_type": "stream",
     "text": [
      "Model weights saved in saved_models/XLNetDepr-3_256_8-ALL_NA-PEL-BS1-GWS_PCC_IT192_DH_3LMAEALPHANA_NZ20_PNTh0.05_AnnotThresh0.5/checkpoint-70246/pytorch_model.bin\n"
     ]
    },
    {
     "name": "stderr",
     "output_type": "stream",
     "text": [
      "Deleting older checkpoint [saved_models/XLNetDepr-3_256_8-ALL_NA-PEL-BS1-GWS_PCC_IT192_DH_3LMAEALPHANA_NZ20_PNTh0.05_AnnotThresh0.5/checkpoint-38316] due to args.save_total_limit\n"
     ]
    },
    {
     "name": "stderr",
     "output_type": "stream",
     "text": [
      "***** Running Evaluation *****\n"
     ]
    },
    {
     "name": "stderr",
     "output_type": "stream",
     "text": [
      "  Num examples = 1592\n"
     ]
    },
    {
     "name": "stderr",
     "output_type": "stream",
     "text": [
      "  Batch size = 1\n"
     ]
    },
    {
     "name": "stderr",
     "output_type": "stream",
     "text": [
      "Saving model checkpoint to saved_models/XLNetDepr-3_256_8-ALL_NA-PEL-BS1-GWS_PCC_IT192_DH_3LMAEALPHANA_NZ20_PNTh0.05_AnnotThresh0.5/checkpoint-76632\n"
     ]
    },
    {
     "name": "stderr",
     "output_type": "stream",
     "text": [
      "Configuration saved in saved_models/XLNetDepr-3_256_8-ALL_NA-PEL-BS1-GWS_PCC_IT192_DH_3LMAEALPHANA_NZ20_PNTh0.05_AnnotThresh0.5/checkpoint-76632/config.json\n"
     ]
    },
    {
     "name": "stderr",
     "output_type": "stream",
     "text": [
      "Model weights saved in saved_models/XLNetDepr-3_256_8-ALL_NA-PEL-BS1-GWS_PCC_IT192_DH_3LMAEALPHANA_NZ20_PNTh0.05_AnnotThresh0.5/checkpoint-76632/pytorch_model.bin\n"
     ]
    },
    {
     "name": "stderr",
     "output_type": "stream",
     "text": [
      "Deleting older checkpoint [saved_models/XLNetDepr-3_256_8-ALL_NA-PEL-BS1-GWS_PCC_IT192_DH_3LMAEALPHANA_NZ20_PNTh0.05_AnnotThresh0.5/checkpoint-44702] due to args.save_total_limit\n"
     ]
    },
    {
     "name": "stderr",
     "output_type": "stream",
     "text": [
      "***** Running Evaluation *****\n"
     ]
    },
    {
     "name": "stderr",
     "output_type": "stream",
     "text": [
      "  Num examples = 1592\n"
     ]
    },
    {
     "name": "stderr",
     "output_type": "stream",
     "text": [
      "  Batch size = 1\n"
     ]
    },
    {
     "name": "stderr",
     "output_type": "stream",
     "text": [
      "Saving model checkpoint to saved_models/XLNetDepr-3_256_8-ALL_NA-PEL-BS1-GWS_PCC_IT192_DH_3LMAEALPHANA_NZ20_PNTh0.05_AnnotThresh0.5/checkpoint-83018\n"
     ]
    },
    {
     "name": "stderr",
     "output_type": "stream",
     "text": [
      "Configuration saved in saved_models/XLNetDepr-3_256_8-ALL_NA-PEL-BS1-GWS_PCC_IT192_DH_3LMAEALPHANA_NZ20_PNTh0.05_AnnotThresh0.5/checkpoint-83018/config.json\n"
     ]
    },
    {
     "name": "stderr",
     "output_type": "stream",
     "text": [
      "Model weights saved in saved_models/XLNetDepr-3_256_8-ALL_NA-PEL-BS1-GWS_PCC_IT192_DH_3LMAEALPHANA_NZ20_PNTh0.05_AnnotThresh0.5/checkpoint-83018/pytorch_model.bin\n"
     ]
    },
    {
     "name": "stderr",
     "output_type": "stream",
     "text": [
      "Deleting older checkpoint [saved_models/XLNetDepr-3_256_8-ALL_NA-PEL-BS1-GWS_PCC_IT192_DH_3LMAEALPHANA_NZ20_PNTh0.05_AnnotThresh0.5/checkpoint-51088] due to args.save_total_limit\n"
     ]
    },
    {
     "name": "stderr",
     "output_type": "stream",
     "text": [
      "***** Running Evaluation *****\n"
     ]
    },
    {
     "name": "stderr",
     "output_type": "stream",
     "text": [
      "  Num examples = 1592\n"
     ]
    },
    {
     "name": "stderr",
     "output_type": "stream",
     "text": [
      "  Batch size = 1\n"
     ]
    },
    {
     "name": "stderr",
     "output_type": "stream",
     "text": [
      "Saving model checkpoint to saved_models/XLNetDepr-3_256_8-ALL_NA-PEL-BS1-GWS_PCC_IT192_DH_3LMAEALPHANA_NZ20_PNTh0.05_AnnotThresh0.5/checkpoint-89404\n"
     ]
    },
    {
     "name": "stderr",
     "output_type": "stream",
     "text": [
      "Configuration saved in saved_models/XLNetDepr-3_256_8-ALL_NA-PEL-BS1-GWS_PCC_IT192_DH_3LMAEALPHANA_NZ20_PNTh0.05_AnnotThresh0.5/checkpoint-89404/config.json\n"
     ]
    },
    {
     "name": "stderr",
     "output_type": "stream",
     "text": [
      "Model weights saved in saved_models/XLNetDepr-3_256_8-ALL_NA-PEL-BS1-GWS_PCC_IT192_DH_3LMAEALPHANA_NZ20_PNTh0.05_AnnotThresh0.5/checkpoint-89404/pytorch_model.bin\n"
     ]
    },
    {
     "name": "stderr",
     "output_type": "stream",
     "text": [
      "Deleting older checkpoint [saved_models/XLNetDepr-3_256_8-ALL_NA-PEL-BS1-GWS_PCC_IT192_DH_3LMAEALPHANA_NZ20_PNTh0.05_AnnotThresh0.5/checkpoint-57474] due to args.save_total_limit\n"
     ]
    },
    {
     "name": "stderr",
     "output_type": "stream",
     "text": [
      "***** Running Evaluation *****\n"
     ]
    },
    {
     "name": "stderr",
     "output_type": "stream",
     "text": [
      "  Num examples = 1592\n"
     ]
    },
    {
     "name": "stderr",
     "output_type": "stream",
     "text": [
      "  Batch size = 1\n"
     ]
    },
    {
     "name": "stderr",
     "output_type": "stream",
     "text": [
      "Saving model checkpoint to saved_models/XLNetDepr-3_256_8-ALL_NA-PEL-BS1-GWS_PCC_IT192_DH_3LMAEALPHANA_NZ20_PNTh0.05_AnnotThresh0.5/checkpoint-95790\n"
     ]
    },
    {
     "name": "stderr",
     "output_type": "stream",
     "text": [
      "Configuration saved in saved_models/XLNetDepr-3_256_8-ALL_NA-PEL-BS1-GWS_PCC_IT192_DH_3LMAEALPHANA_NZ20_PNTh0.05_AnnotThresh0.5/checkpoint-95790/config.json\n"
     ]
    },
    {
     "name": "stderr",
     "output_type": "stream",
     "text": [
      "Model weights saved in saved_models/XLNetDepr-3_256_8-ALL_NA-PEL-BS1-GWS_PCC_IT192_DH_3LMAEALPHANA_NZ20_PNTh0.05_AnnotThresh0.5/checkpoint-95790/pytorch_model.bin\n"
     ]
    },
    {
     "name": "stderr",
     "output_type": "stream",
     "text": [
      "Deleting older checkpoint [saved_models/XLNetDepr-3_256_8-ALL_NA-PEL-BS1-GWS_PCC_IT192_DH_3LMAEALPHANA_NZ20_PNTh0.05_AnnotThresh0.5/checkpoint-70246] due to args.save_total_limit\n"
     ]
    },
    {
     "name": "stderr",
     "output_type": "stream",
     "text": [
      "***** Running Evaluation *****\n"
     ]
    },
    {
     "name": "stderr",
     "output_type": "stream",
     "text": [
      "  Num examples = 1592\n"
     ]
    },
    {
     "name": "stderr",
     "output_type": "stream",
     "text": [
      "  Batch size = 1\n"
     ]
    },
    {
     "name": "stderr",
     "output_type": "stream",
     "text": [
      "Saving model checkpoint to saved_models/XLNetDepr-3_256_8-ALL_NA-PEL-BS1-GWS_PCC_IT192_DH_3LMAEALPHANA_NZ20_PNTh0.05_AnnotThresh0.5/checkpoint-102176\n"
     ]
    },
    {
     "name": "stderr",
     "output_type": "stream",
     "text": [
      "Configuration saved in saved_models/XLNetDepr-3_256_8-ALL_NA-PEL-BS1-GWS_PCC_IT192_DH_3LMAEALPHANA_NZ20_PNTh0.05_AnnotThresh0.5/checkpoint-102176/config.json\n"
     ]
    },
    {
     "name": "stderr",
     "output_type": "stream",
     "text": [
      "Model weights saved in saved_models/XLNetDepr-3_256_8-ALL_NA-PEL-BS1-GWS_PCC_IT192_DH_3LMAEALPHANA_NZ20_PNTh0.05_AnnotThresh0.5/checkpoint-102176/pytorch_model.bin\n"
     ]
    },
    {
     "name": "stderr",
     "output_type": "stream",
     "text": [
      "Deleting older checkpoint [saved_models/XLNetDepr-3_256_8-ALL_NA-PEL-BS1-GWS_PCC_IT192_DH_3LMAEALPHANA_NZ20_PNTh0.05_AnnotThresh0.5/checkpoint-76632] due to args.save_total_limit\n"
     ]
    },
    {
     "name": "stderr",
     "output_type": "stream",
     "text": [
      "***** Running Evaluation *****\n"
     ]
    },
    {
     "name": "stderr",
     "output_type": "stream",
     "text": [
      "  Num examples = 1592\n"
     ]
    },
    {
     "name": "stderr",
     "output_type": "stream",
     "text": [
      "  Batch size = 1\n"
     ]
    },
    {
     "name": "stderr",
     "output_type": "stream",
     "text": [
      "Saving model checkpoint to saved_models/XLNetDepr-3_256_8-ALL_NA-PEL-BS1-GWS_PCC_IT192_DH_3LMAEALPHANA_NZ20_PNTh0.05_AnnotThresh0.5/checkpoint-108562\n"
     ]
    },
    {
     "name": "stderr",
     "output_type": "stream",
     "text": [
      "Configuration saved in saved_models/XLNetDepr-3_256_8-ALL_NA-PEL-BS1-GWS_PCC_IT192_DH_3LMAEALPHANA_NZ20_PNTh0.05_AnnotThresh0.5/checkpoint-108562/config.json\n"
     ]
    },
    {
     "name": "stderr",
     "output_type": "stream",
     "text": [
      "Model weights saved in saved_models/XLNetDepr-3_256_8-ALL_NA-PEL-BS1-GWS_PCC_IT192_DH_3LMAEALPHANA_NZ20_PNTh0.05_AnnotThresh0.5/checkpoint-108562/pytorch_model.bin\n"
     ]
    },
    {
     "name": "stderr",
     "output_type": "stream",
     "text": [
      "Deleting older checkpoint [saved_models/XLNetDepr-3_256_8-ALL_NA-PEL-BS1-GWS_PCC_IT192_DH_3LMAEALPHANA_NZ20_PNTh0.05_AnnotThresh0.5/checkpoint-83018] due to args.save_total_limit\n"
     ]
    },
    {
     "name": "stderr",
     "output_type": "stream",
     "text": [
      "***** Running Evaluation *****\n"
     ]
    },
    {
     "name": "stderr",
     "output_type": "stream",
     "text": [
      "  Num examples = 1592\n"
     ]
    },
    {
     "name": "stderr",
     "output_type": "stream",
     "text": [
      "  Batch size = 1\n"
     ]
    },
    {
     "name": "stderr",
     "output_type": "stream",
     "text": [
      "Saving model checkpoint to saved_models/XLNetDepr-3_256_8-ALL_NA-PEL-BS1-GWS_PCC_IT192_DH_3LMAEALPHANA_NZ20_PNTh0.05_AnnotThresh0.5/checkpoint-114948\n"
     ]
    },
    {
     "name": "stderr",
     "output_type": "stream",
     "text": [
      "Configuration saved in saved_models/XLNetDepr-3_256_8-ALL_NA-PEL-BS1-GWS_PCC_IT192_DH_3LMAEALPHANA_NZ20_PNTh0.05_AnnotThresh0.5/checkpoint-114948/config.json\n"
     ]
    },
    {
     "name": "stderr",
     "output_type": "stream",
     "text": [
      "Model weights saved in saved_models/XLNetDepr-3_256_8-ALL_NA-PEL-BS1-GWS_PCC_IT192_DH_3LMAEALPHANA_NZ20_PNTh0.05_AnnotThresh0.5/checkpoint-114948/pytorch_model.bin\n"
     ]
    },
    {
     "name": "stderr",
     "output_type": "stream",
     "text": [
      "Deleting older checkpoint [saved_models/XLNetDepr-3_256_8-ALL_NA-PEL-BS1-GWS_PCC_IT192_DH_3LMAEALPHANA_NZ20_PNTh0.05_AnnotThresh0.5/checkpoint-89404] due to args.save_total_limit\n"
     ]
    },
    {
     "name": "stderr",
     "output_type": "stream",
     "text": [
      "***** Running Evaluation *****\n"
     ]
    },
    {
     "name": "stderr",
     "output_type": "stream",
     "text": [
      "  Num examples = 1592\n"
     ]
    },
    {
     "name": "stderr",
     "output_type": "stream",
     "text": [
      "  Batch size = 1\n"
     ]
    },
    {
     "name": "stderr",
     "output_type": "stream",
     "text": [
      "Saving model checkpoint to saved_models/XLNetDepr-3_256_8-ALL_NA-PEL-BS1-GWS_PCC_IT192_DH_3LMAEALPHANA_NZ20_PNTh0.05_AnnotThresh0.5/checkpoint-121334\n"
     ]
    },
    {
     "name": "stderr",
     "output_type": "stream",
     "text": [
      "Configuration saved in saved_models/XLNetDepr-3_256_8-ALL_NA-PEL-BS1-GWS_PCC_IT192_DH_3LMAEALPHANA_NZ20_PNTh0.05_AnnotThresh0.5/checkpoint-121334/config.json\n"
     ]
    },
    {
     "name": "stderr",
     "output_type": "stream",
     "text": [
      "Model weights saved in saved_models/XLNetDepr-3_256_8-ALL_NA-PEL-BS1-GWS_PCC_IT192_DH_3LMAEALPHANA_NZ20_PNTh0.05_AnnotThresh0.5/checkpoint-121334/pytorch_model.bin\n"
     ]
    },
    {
     "name": "stderr",
     "output_type": "stream",
     "text": [
      "Deleting older checkpoint [saved_models/XLNetDepr-3_256_8-ALL_NA-PEL-BS1-GWS_PCC_IT192_DH_3LMAEALPHANA_NZ20_PNTh0.05_AnnotThresh0.5/checkpoint-95790] due to args.save_total_limit\n"
     ]
    },
    {
     "name": "stderr",
     "output_type": "stream",
     "text": [
      "***** Running Evaluation *****\n"
     ]
    },
    {
     "name": "stderr",
     "output_type": "stream",
     "text": [
      "  Num examples = 1592\n"
     ]
    },
    {
     "name": "stderr",
     "output_type": "stream",
     "text": [
      "  Batch size = 1\n"
     ]
    },
    {
     "name": "stderr",
     "output_type": "stream",
     "text": [
      "Saving model checkpoint to saved_models/XLNetDepr-3_256_8-ALL_NA-PEL-BS1-GWS_PCC_IT192_DH_3LMAEALPHANA_NZ20_PNTh0.05_AnnotThresh0.5/checkpoint-127720\n"
     ]
    },
    {
     "name": "stderr",
     "output_type": "stream",
     "text": [
      "Configuration saved in saved_models/XLNetDepr-3_256_8-ALL_NA-PEL-BS1-GWS_PCC_IT192_DH_3LMAEALPHANA_NZ20_PNTh0.05_AnnotThresh0.5/checkpoint-127720/config.json\n"
     ]
    },
    {
     "name": "stderr",
     "output_type": "stream",
     "text": [
      "Model weights saved in saved_models/XLNetDepr-3_256_8-ALL_NA-PEL-BS1-GWS_PCC_IT192_DH_3LMAEALPHANA_NZ20_PNTh0.05_AnnotThresh0.5/checkpoint-127720/pytorch_model.bin\n"
     ]
    },
    {
     "name": "stderr",
     "output_type": "stream",
     "text": [
      "Deleting older checkpoint [saved_models/XLNetDepr-3_256_8-ALL_NA-PEL-BS1-GWS_PCC_IT192_DH_3LMAEALPHANA_NZ20_PNTh0.05_AnnotThresh0.5/checkpoint-102176] due to args.save_total_limit\n"
     ]
    },
    {
     "name": "stderr",
     "output_type": "stream",
     "text": [
      "***** Running Evaluation *****\n"
     ]
    },
    {
     "name": "stderr",
     "output_type": "stream",
     "text": [
      "  Num examples = 1592\n"
     ]
    },
    {
     "name": "stderr",
     "output_type": "stream",
     "text": [
      "  Batch size = 1\n"
     ]
    },
    {
     "name": "stderr",
     "output_type": "stream",
     "text": [
      "Saving model checkpoint to saved_models/XLNetDepr-3_256_8-ALL_NA-PEL-BS1-GWS_PCC_IT192_DH_3LMAEALPHANA_NZ20_PNTh0.05_AnnotThresh0.5/checkpoint-134106\n"
     ]
    },
    {
     "name": "stderr",
     "output_type": "stream",
     "text": [
      "Configuration saved in saved_models/XLNetDepr-3_256_8-ALL_NA-PEL-BS1-GWS_PCC_IT192_DH_3LMAEALPHANA_NZ20_PNTh0.05_AnnotThresh0.5/checkpoint-134106/config.json\n"
     ]
    },
    {
     "name": "stderr",
     "output_type": "stream",
     "text": [
      "Model weights saved in saved_models/XLNetDepr-3_256_8-ALL_NA-PEL-BS1-GWS_PCC_IT192_DH_3LMAEALPHANA_NZ20_PNTh0.05_AnnotThresh0.5/checkpoint-134106/pytorch_model.bin\n"
     ]
    },
    {
     "name": "stderr",
     "output_type": "stream",
     "text": [
      "Deleting older checkpoint [saved_models/XLNetDepr-3_256_8-ALL_NA-PEL-BS1-GWS_PCC_IT192_DH_3LMAEALPHANA_NZ20_PNTh0.05_AnnotThresh0.5/checkpoint-63860] due to args.save_total_limit\n"
     ]
    },
    {
     "name": "stderr",
     "output_type": "stream",
     "text": [
      "***** Running Evaluation *****\n"
     ]
    },
    {
     "name": "stderr",
     "output_type": "stream",
     "text": [
      "  Num examples = 1592\n"
     ]
    },
    {
     "name": "stderr",
     "output_type": "stream",
     "text": [
      "  Batch size = 1\n"
     ]
    },
    {
     "name": "stderr",
     "output_type": "stream",
     "text": [
      "Saving model checkpoint to saved_models/XLNetDepr-3_256_8-ALL_NA-PEL-BS1-GWS_PCC_IT192_DH_3LMAEALPHANA_NZ20_PNTh0.05_AnnotThresh0.5/checkpoint-140492\n"
     ]
    },
    {
     "name": "stderr",
     "output_type": "stream",
     "text": [
      "Configuration saved in saved_models/XLNetDepr-3_256_8-ALL_NA-PEL-BS1-GWS_PCC_IT192_DH_3LMAEALPHANA_NZ20_PNTh0.05_AnnotThresh0.5/checkpoint-140492/config.json\n"
     ]
    },
    {
     "name": "stderr",
     "output_type": "stream",
     "text": [
      "Model weights saved in saved_models/XLNetDepr-3_256_8-ALL_NA-PEL-BS1-GWS_PCC_IT192_DH_3LMAEALPHANA_NZ20_PNTh0.05_AnnotThresh0.5/checkpoint-140492/pytorch_model.bin\n"
     ]
    },
    {
     "name": "stderr",
     "output_type": "stream",
     "text": [
      "Deleting older checkpoint [saved_models/XLNetDepr-3_256_8-ALL_NA-PEL-BS1-GWS_PCC_IT192_DH_3LMAEALPHANA_NZ20_PNTh0.05_AnnotThresh0.5/checkpoint-108562] due to args.save_total_limit\n"
     ]
    },
    {
     "name": "stderr",
     "output_type": "stream",
     "text": [
      "***** Running Evaluation *****\n"
     ]
    },
    {
     "name": "stderr",
     "output_type": "stream",
     "text": [
      "  Num examples = 1592\n"
     ]
    },
    {
     "name": "stderr",
     "output_type": "stream",
     "text": [
      "  Batch size = 1\n"
     ]
    },
    {
     "name": "stderr",
     "output_type": "stream",
     "text": [
      "Saving model checkpoint to saved_models/XLNetDepr-3_256_8-ALL_NA-PEL-BS1-GWS_PCC_IT192_DH_3LMAEALPHANA_NZ20_PNTh0.05_AnnotThresh0.5/checkpoint-146878\n"
     ]
    },
    {
     "name": "stderr",
     "output_type": "stream",
     "text": [
      "Configuration saved in saved_models/XLNetDepr-3_256_8-ALL_NA-PEL-BS1-GWS_PCC_IT192_DH_3LMAEALPHANA_NZ20_PNTh0.05_AnnotThresh0.5/checkpoint-146878/config.json\n"
     ]
    },
    {
     "name": "stderr",
     "output_type": "stream",
     "text": [
      "Model weights saved in saved_models/XLNetDepr-3_256_8-ALL_NA-PEL-BS1-GWS_PCC_IT192_DH_3LMAEALPHANA_NZ20_PNTh0.05_AnnotThresh0.5/checkpoint-146878/pytorch_model.bin\n"
     ]
    },
    {
     "name": "stderr",
     "output_type": "stream",
     "text": [
      "Deleting older checkpoint [saved_models/XLNetDepr-3_256_8-ALL_NA-PEL-BS1-GWS_PCC_IT192_DH_3LMAEALPHANA_NZ20_PNTh0.05_AnnotThresh0.5/checkpoint-114948] due to args.save_total_limit\n"
     ]
    },
    {
     "name": "stderr",
     "output_type": "stream",
     "text": [
      "***** Running Evaluation *****\n"
     ]
    },
    {
     "name": "stderr",
     "output_type": "stream",
     "text": [
      "  Num examples = 1592\n"
     ]
    },
    {
     "name": "stderr",
     "output_type": "stream",
     "text": [
      "  Batch size = 1\n"
     ]
    },
    {
     "name": "stderr",
     "output_type": "stream",
     "text": [
      "Saving model checkpoint to saved_models/XLNetDepr-3_256_8-ALL_NA-PEL-BS1-GWS_PCC_IT192_DH_3LMAEALPHANA_NZ20_PNTh0.05_AnnotThresh0.5/checkpoint-153264\n"
     ]
    },
    {
     "name": "stderr",
     "output_type": "stream",
     "text": [
      "Configuration saved in saved_models/XLNetDepr-3_256_8-ALL_NA-PEL-BS1-GWS_PCC_IT192_DH_3LMAEALPHANA_NZ20_PNTh0.05_AnnotThresh0.5/checkpoint-153264/config.json\n"
     ]
    },
    {
     "name": "stderr",
     "output_type": "stream",
     "text": [
      "Model weights saved in saved_models/XLNetDepr-3_256_8-ALL_NA-PEL-BS1-GWS_PCC_IT192_DH_3LMAEALPHANA_NZ20_PNTh0.05_AnnotThresh0.5/checkpoint-153264/pytorch_model.bin\n"
     ]
    },
    {
     "name": "stderr",
     "output_type": "stream",
     "text": [
      "Deleting older checkpoint [saved_models/XLNetDepr-3_256_8-ALL_NA-PEL-BS1-GWS_PCC_IT192_DH_3LMAEALPHANA_NZ20_PNTh0.05_AnnotThresh0.5/checkpoint-121334] due to args.save_total_limit\n"
     ]
    },
    {
     "name": "stderr",
     "output_type": "stream",
     "text": [
      "***** Running Evaluation *****\n"
     ]
    },
    {
     "name": "stderr",
     "output_type": "stream",
     "text": [
      "  Num examples = 1592\n"
     ]
    },
    {
     "name": "stderr",
     "output_type": "stream",
     "text": [
      "  Batch size = 1\n"
     ]
    },
    {
     "name": "stderr",
     "output_type": "stream",
     "text": [
      "Saving model checkpoint to saved_models/XLNetDepr-3_256_8-ALL_NA-PEL-BS1-GWS_PCC_IT192_DH_3LMAEALPHANA_NZ20_PNTh0.05_AnnotThresh0.5/checkpoint-159650\n"
     ]
    },
    {
     "name": "stderr",
     "output_type": "stream",
     "text": [
      "Configuration saved in saved_models/XLNetDepr-3_256_8-ALL_NA-PEL-BS1-GWS_PCC_IT192_DH_3LMAEALPHANA_NZ20_PNTh0.05_AnnotThresh0.5/checkpoint-159650/config.json\n"
     ]
    },
    {
     "name": "stderr",
     "output_type": "stream",
     "text": [
      "Model weights saved in saved_models/XLNetDepr-3_256_8-ALL_NA-PEL-BS1-GWS_PCC_IT192_DH_3LMAEALPHANA_NZ20_PNTh0.05_AnnotThresh0.5/checkpoint-159650/pytorch_model.bin\n"
     ]
    },
    {
     "name": "stderr",
     "output_type": "stream",
     "text": [
      "Deleting older checkpoint [saved_models/XLNetDepr-3_256_8-ALL_NA-PEL-BS1-GWS_PCC_IT192_DH_3LMAEALPHANA_NZ20_PNTh0.05_AnnotThresh0.5/checkpoint-127720] due to args.save_total_limit\n"
     ]
    },
    {
     "name": "stderr",
     "output_type": "stream",
     "text": [
      "***** Running Evaluation *****\n"
     ]
    },
    {
     "name": "stderr",
     "output_type": "stream",
     "text": [
      "  Num examples = 1592\n"
     ]
    },
    {
     "name": "stderr",
     "output_type": "stream",
     "text": [
      "  Batch size = 1\n"
     ]
    },
    {
     "name": "stderr",
     "output_type": "stream",
     "text": [
      "Saving model checkpoint to saved_models/XLNetDepr-3_256_8-ALL_NA-PEL-BS1-GWS_PCC_IT192_DH_3LMAEALPHANA_NZ20_PNTh0.05_AnnotThresh0.5/checkpoint-166036\n"
     ]
    },
    {
     "name": "stderr",
     "output_type": "stream",
     "text": [
      "Configuration saved in saved_models/XLNetDepr-3_256_8-ALL_NA-PEL-BS1-GWS_PCC_IT192_DH_3LMAEALPHANA_NZ20_PNTh0.05_AnnotThresh0.5/checkpoint-166036/config.json\n"
     ]
    },
    {
     "name": "stderr",
     "output_type": "stream",
     "text": [
      "Model weights saved in saved_models/XLNetDepr-3_256_8-ALL_NA-PEL-BS1-GWS_PCC_IT192_DH_3LMAEALPHANA_NZ20_PNTh0.05_AnnotThresh0.5/checkpoint-166036/pytorch_model.bin\n"
     ]
    },
    {
     "name": "stderr",
     "output_type": "stream",
     "text": [
      "Deleting older checkpoint [saved_models/XLNetDepr-3_256_8-ALL_NA-PEL-BS1-GWS_PCC_IT192_DH_3LMAEALPHANA_NZ20_PNTh0.05_AnnotThresh0.5/checkpoint-140492] due to args.save_total_limit\n"
     ]
    },
    {
     "name": "stderr",
     "output_type": "stream",
     "text": [
      "***** Running Evaluation *****\n"
     ]
    },
    {
     "name": "stderr",
     "output_type": "stream",
     "text": [
      "  Num examples = 1592\n"
     ]
    },
    {
     "name": "stderr",
     "output_type": "stream",
     "text": [
      "  Batch size = 1\n"
     ]
    },
    {
     "name": "stderr",
     "output_type": "stream",
     "text": [
      "Saving model checkpoint to saved_models/XLNetDepr-3_256_8-ALL_NA-PEL-BS1-GWS_PCC_IT192_DH_3LMAEALPHANA_NZ20_PNTh0.05_AnnotThresh0.5/checkpoint-172422\n"
     ]
    },
    {
     "name": "stderr",
     "output_type": "stream",
     "text": [
      "Configuration saved in saved_models/XLNetDepr-3_256_8-ALL_NA-PEL-BS1-GWS_PCC_IT192_DH_3LMAEALPHANA_NZ20_PNTh0.05_AnnotThresh0.5/checkpoint-172422/config.json\n"
     ]
    },
    {
     "name": "stderr",
     "output_type": "stream",
     "text": [
      "Model weights saved in saved_models/XLNetDepr-3_256_8-ALL_NA-PEL-BS1-GWS_PCC_IT192_DH_3LMAEALPHANA_NZ20_PNTh0.05_AnnotThresh0.5/checkpoint-172422/pytorch_model.bin\n"
     ]
    },
    {
     "name": "stderr",
     "output_type": "stream",
     "text": [
      "Deleting older checkpoint [saved_models/XLNetDepr-3_256_8-ALL_NA-PEL-BS1-GWS_PCC_IT192_DH_3LMAEALPHANA_NZ20_PNTh0.05_AnnotThresh0.5/checkpoint-146878] due to args.save_total_limit\n"
     ]
    },
    {
     "name": "stderr",
     "output_type": "stream",
     "text": [
      "***** Running Evaluation *****\n"
     ]
    },
    {
     "name": "stderr",
     "output_type": "stream",
     "text": [
      "  Num examples = 1592\n"
     ]
    },
    {
     "name": "stderr",
     "output_type": "stream",
     "text": [
      "  Batch size = 1\n"
     ]
    },
    {
     "name": "stderr",
     "output_type": "stream",
     "text": [
      "Saving model checkpoint to saved_models/XLNetDepr-3_256_8-ALL_NA-PEL-BS1-GWS_PCC_IT192_DH_3LMAEALPHANA_NZ20_PNTh0.05_AnnotThresh0.5/checkpoint-178808\n"
     ]
    },
    {
     "name": "stderr",
     "output_type": "stream",
     "text": [
      "Configuration saved in saved_models/XLNetDepr-3_256_8-ALL_NA-PEL-BS1-GWS_PCC_IT192_DH_3LMAEALPHANA_NZ20_PNTh0.05_AnnotThresh0.5/checkpoint-178808/config.json\n"
     ]
    },
    {
     "name": "stderr",
     "output_type": "stream",
     "text": [
      "Model weights saved in saved_models/XLNetDepr-3_256_8-ALL_NA-PEL-BS1-GWS_PCC_IT192_DH_3LMAEALPHANA_NZ20_PNTh0.05_AnnotThresh0.5/checkpoint-178808/pytorch_model.bin\n"
     ]
    },
    {
     "name": "stderr",
     "output_type": "stream",
     "text": [
      "Deleting older checkpoint [saved_models/XLNetDepr-3_256_8-ALL_NA-PEL-BS1-GWS_PCC_IT192_DH_3LMAEALPHANA_NZ20_PNTh0.05_AnnotThresh0.5/checkpoint-153264] due to args.save_total_limit\n"
     ]
    },
    {
     "name": "stderr",
     "output_type": "stream",
     "text": [
      "***** Running Evaluation *****\n"
     ]
    },
    {
     "name": "stderr",
     "output_type": "stream",
     "text": [
      "  Num examples = 1592\n"
     ]
    },
    {
     "name": "stderr",
     "output_type": "stream",
     "text": [
      "  Batch size = 1\n"
     ]
    },
    {
     "name": "stderr",
     "output_type": "stream",
     "text": [
      "Saving model checkpoint to saved_models/XLNetDepr-3_256_8-ALL_NA-PEL-BS1-GWS_PCC_IT192_DH_3LMAEALPHANA_NZ20_PNTh0.05_AnnotThresh0.5/checkpoint-185194\n"
     ]
    },
    {
     "name": "stderr",
     "output_type": "stream",
     "text": [
      "Configuration saved in saved_models/XLNetDepr-3_256_8-ALL_NA-PEL-BS1-GWS_PCC_IT192_DH_3LMAEALPHANA_NZ20_PNTh0.05_AnnotThresh0.5/checkpoint-185194/config.json\n"
     ]
    },
    {
     "name": "stderr",
     "output_type": "stream",
     "text": [
      "Model weights saved in saved_models/XLNetDepr-3_256_8-ALL_NA-PEL-BS1-GWS_PCC_IT192_DH_3LMAEALPHANA_NZ20_PNTh0.05_AnnotThresh0.5/checkpoint-185194/pytorch_model.bin\n"
     ]
    },
    {
     "name": "stderr",
     "output_type": "stream",
     "text": [
      "Deleting older checkpoint [saved_models/XLNetDepr-3_256_8-ALL_NA-PEL-BS1-GWS_PCC_IT192_DH_3LMAEALPHANA_NZ20_PNTh0.05_AnnotThresh0.5/checkpoint-159650] due to args.save_total_limit\n"
     ]
    },
    {
     "name": "stderr",
     "output_type": "stream",
     "text": [
      "***** Running Evaluation *****\n"
     ]
    },
    {
     "name": "stderr",
     "output_type": "stream",
     "text": [
      "  Num examples = 1592\n"
     ]
    },
    {
     "name": "stderr",
     "output_type": "stream",
     "text": [
      "  Batch size = 1\n"
     ]
    },
    {
     "name": "stderr",
     "output_type": "stream",
     "text": [
      "Saving model checkpoint to saved_models/XLNetDepr-3_256_8-ALL_NA-PEL-BS1-GWS_PCC_IT192_DH_3LMAEALPHANA_NZ20_PNTh0.05_AnnotThresh0.5/checkpoint-191580\n"
     ]
    },
    {
     "name": "stderr",
     "output_type": "stream",
     "text": [
      "Configuration saved in saved_models/XLNetDepr-3_256_8-ALL_NA-PEL-BS1-GWS_PCC_IT192_DH_3LMAEALPHANA_NZ20_PNTh0.05_AnnotThresh0.5/checkpoint-191580/config.json\n"
     ]
    },
    {
     "name": "stderr",
     "output_type": "stream",
     "text": [
      "Model weights saved in saved_models/XLNetDepr-3_256_8-ALL_NA-PEL-BS1-GWS_PCC_IT192_DH_3LMAEALPHANA_NZ20_PNTh0.05_AnnotThresh0.5/checkpoint-191580/pytorch_model.bin\n"
     ]
    },
    {
     "name": "stderr",
     "output_type": "stream",
     "text": [
      "Deleting older checkpoint [saved_models/XLNetDepr-3_256_8-ALL_NA-PEL-BS1-GWS_PCC_IT192_DH_3LMAEALPHANA_NZ20_PNTh0.05_AnnotThresh0.5/checkpoint-166036] due to args.save_total_limit\n"
     ]
    },
    {
     "name": "stderr",
     "output_type": "stream",
     "text": [
      "***** Running Evaluation *****\n"
     ]
    },
    {
     "name": "stderr",
     "output_type": "stream",
     "text": [
      "  Num examples = 1592\n"
     ]
    },
    {
     "name": "stderr",
     "output_type": "stream",
     "text": [
      "  Batch size = 1\n"
     ]
    },
    {
     "name": "stderr",
     "output_type": "stream",
     "text": [
      "Saving model checkpoint to saved_models/XLNetDepr-3_256_8-ALL_NA-PEL-BS1-GWS_PCC_IT192_DH_3LMAEALPHANA_NZ20_PNTh0.05_AnnotThresh0.5/checkpoint-197966\n"
     ]
    },
    {
     "name": "stderr",
     "output_type": "stream",
     "text": [
      "Configuration saved in saved_models/XLNetDepr-3_256_8-ALL_NA-PEL-BS1-GWS_PCC_IT192_DH_3LMAEALPHANA_NZ20_PNTh0.05_AnnotThresh0.5/checkpoint-197966/config.json\n"
     ]
    },
    {
     "name": "stderr",
     "output_type": "stream",
     "text": [
      "Model weights saved in saved_models/XLNetDepr-3_256_8-ALL_NA-PEL-BS1-GWS_PCC_IT192_DH_3LMAEALPHANA_NZ20_PNTh0.05_AnnotThresh0.5/checkpoint-197966/pytorch_model.bin\n"
     ]
    },
    {
     "name": "stderr",
     "output_type": "stream",
     "text": [
      "Deleting older checkpoint [saved_models/XLNetDepr-3_256_8-ALL_NA-PEL-BS1-GWS_PCC_IT192_DH_3LMAEALPHANA_NZ20_PNTh0.05_AnnotThresh0.5/checkpoint-172422] due to args.save_total_limit\n"
     ]
    },
    {
     "name": "stderr",
     "output_type": "stream",
     "text": [
      "***** Running Evaluation *****\n"
     ]
    },
    {
     "name": "stderr",
     "output_type": "stream",
     "text": [
      "  Num examples = 1592\n"
     ]
    },
    {
     "name": "stderr",
     "output_type": "stream",
     "text": [
      "  Batch size = 1\n"
     ]
    },
    {
     "name": "stderr",
     "output_type": "stream",
     "text": [
      "Saving model checkpoint to saved_models/XLNetDepr-3_256_8-ALL_NA-PEL-BS1-GWS_PCC_IT192_DH_3LMAEALPHANA_NZ20_PNTh0.05_AnnotThresh0.5/checkpoint-204352\n"
     ]
    },
    {
     "name": "stderr",
     "output_type": "stream",
     "text": [
      "Configuration saved in saved_models/XLNetDepr-3_256_8-ALL_NA-PEL-BS1-GWS_PCC_IT192_DH_3LMAEALPHANA_NZ20_PNTh0.05_AnnotThresh0.5/checkpoint-204352/config.json\n"
     ]
    },
    {
     "name": "stderr",
     "output_type": "stream",
     "text": [
      "Model weights saved in saved_models/XLNetDepr-3_256_8-ALL_NA-PEL-BS1-GWS_PCC_IT192_DH_3LMAEALPHANA_NZ20_PNTh0.05_AnnotThresh0.5/checkpoint-204352/pytorch_model.bin\n"
     ]
    },
    {
     "name": "stderr",
     "output_type": "stream",
     "text": [
      "Deleting older checkpoint [saved_models/XLNetDepr-3_256_8-ALL_NA-PEL-BS1-GWS_PCC_IT192_DH_3LMAEALPHANA_NZ20_PNTh0.05_AnnotThresh0.5/checkpoint-178808] due to args.save_total_limit\n"
     ]
    },
    {
     "name": "stderr",
     "output_type": "stream",
     "text": [
      "***** Running Evaluation *****\n"
     ]
    },
    {
     "name": "stderr",
     "output_type": "stream",
     "text": [
      "  Num examples = 1592\n"
     ]
    },
    {
     "name": "stderr",
     "output_type": "stream",
     "text": [
      "  Batch size = 1\n"
     ]
    },
    {
     "name": "stderr",
     "output_type": "stream",
     "text": [
      "Saving model checkpoint to saved_models/XLNetDepr-3_256_8-ALL_NA-PEL-BS1-GWS_PCC_IT192_DH_3LMAEALPHANA_NZ20_PNTh0.05_AnnotThresh0.5/checkpoint-210738\n"
     ]
    },
    {
     "name": "stderr",
     "output_type": "stream",
     "text": [
      "Configuration saved in saved_models/XLNetDepr-3_256_8-ALL_NA-PEL-BS1-GWS_PCC_IT192_DH_3LMAEALPHANA_NZ20_PNTh0.05_AnnotThresh0.5/checkpoint-210738/config.json\n"
     ]
    },
    {
     "name": "stderr",
     "output_type": "stream",
     "text": [
      "Model weights saved in saved_models/XLNetDepr-3_256_8-ALL_NA-PEL-BS1-GWS_PCC_IT192_DH_3LMAEALPHANA_NZ20_PNTh0.05_AnnotThresh0.5/checkpoint-210738/pytorch_model.bin\n"
     ]
    },
    {
     "name": "stderr",
     "output_type": "stream",
     "text": [
      "Deleting older checkpoint [saved_models/XLNetDepr-3_256_8-ALL_NA-PEL-BS1-GWS_PCC_IT192_DH_3LMAEALPHANA_NZ20_PNTh0.05_AnnotThresh0.5/checkpoint-134106] due to args.save_total_limit\n"
     ]
    },
    {
     "name": "stderr",
     "output_type": "stream",
     "text": [
      "***** Running Evaluation *****\n"
     ]
    },
    {
     "name": "stderr",
     "output_type": "stream",
     "text": [
      "  Num examples = 1592\n"
     ]
    },
    {
     "name": "stderr",
     "output_type": "stream",
     "text": [
      "  Batch size = 1\n"
     ]
    },
    {
     "name": "stderr",
     "output_type": "stream",
     "text": [
      "Saving model checkpoint to saved_models/XLNetDepr-3_256_8-ALL_NA-PEL-BS1-GWS_PCC_IT192_DH_3LMAEALPHANA_NZ20_PNTh0.05_AnnotThresh0.5/checkpoint-217124\n"
     ]
    },
    {
     "name": "stderr",
     "output_type": "stream",
     "text": [
      "Configuration saved in saved_models/XLNetDepr-3_256_8-ALL_NA-PEL-BS1-GWS_PCC_IT192_DH_3LMAEALPHANA_NZ20_PNTh0.05_AnnotThresh0.5/checkpoint-217124/config.json\n"
     ]
    },
    {
     "name": "stderr",
     "output_type": "stream",
     "text": [
      "Model weights saved in saved_models/XLNetDepr-3_256_8-ALL_NA-PEL-BS1-GWS_PCC_IT192_DH_3LMAEALPHANA_NZ20_PNTh0.05_AnnotThresh0.5/checkpoint-217124/pytorch_model.bin\n"
     ]
    },
    {
     "name": "stderr",
     "output_type": "stream",
     "text": [
      "Deleting older checkpoint [saved_models/XLNetDepr-3_256_8-ALL_NA-PEL-BS1-GWS_PCC_IT192_DH_3LMAEALPHANA_NZ20_PNTh0.05_AnnotThresh0.5/checkpoint-185194] due to args.save_total_limit\n"
     ]
    },
    {
     "name": "stderr",
     "output_type": "stream",
     "text": [
      "***** Running Evaluation *****\n"
     ]
    },
    {
     "name": "stderr",
     "output_type": "stream",
     "text": [
      "  Num examples = 1592\n"
     ]
    },
    {
     "name": "stderr",
     "output_type": "stream",
     "text": [
      "  Batch size = 1\n"
     ]
    },
    {
     "name": "stderr",
     "output_type": "stream",
     "text": [
      "Saving model checkpoint to saved_models/XLNetDepr-3_256_8-ALL_NA-PEL-BS1-GWS_PCC_IT192_DH_3LMAEALPHANA_NZ20_PNTh0.05_AnnotThresh0.5/checkpoint-223510\n"
     ]
    },
    {
     "name": "stderr",
     "output_type": "stream",
     "text": [
      "Configuration saved in saved_models/XLNetDepr-3_256_8-ALL_NA-PEL-BS1-GWS_PCC_IT192_DH_3LMAEALPHANA_NZ20_PNTh0.05_AnnotThresh0.5/checkpoint-223510/config.json\n"
     ]
    },
    {
     "name": "stderr",
     "output_type": "stream",
     "text": [
      "Model weights saved in saved_models/XLNetDepr-3_256_8-ALL_NA-PEL-BS1-GWS_PCC_IT192_DH_3LMAEALPHANA_NZ20_PNTh0.05_AnnotThresh0.5/checkpoint-223510/pytorch_model.bin\n"
     ]
    },
    {
     "name": "stderr",
     "output_type": "stream",
     "text": [
      "Deleting older checkpoint [saved_models/XLNetDepr-3_256_8-ALL_NA-PEL-BS1-GWS_PCC_IT192_DH_3LMAEALPHANA_NZ20_PNTh0.05_AnnotThresh0.5/checkpoint-191580] due to args.save_total_limit\n"
     ]
    },
    {
     "name": "stderr",
     "output_type": "stream",
     "text": [
      "***** Running Evaluation *****\n"
     ]
    },
    {
     "name": "stderr",
     "output_type": "stream",
     "text": [
      "  Num examples = 1592\n"
     ]
    },
    {
     "name": "stderr",
     "output_type": "stream",
     "text": [
      "  Batch size = 1\n"
     ]
    },
    {
     "name": "stderr",
     "output_type": "stream",
     "text": [
      "Saving model checkpoint to saved_models/XLNetDepr-3_256_8-ALL_NA-PEL-BS1-GWS_PCC_IT192_DH_3LMAEALPHANA_NZ20_PNTh0.05_AnnotThresh0.5/checkpoint-229896\n"
     ]
    },
    {
     "name": "stderr",
     "output_type": "stream",
     "text": [
      "Configuration saved in saved_models/XLNetDepr-3_256_8-ALL_NA-PEL-BS1-GWS_PCC_IT192_DH_3LMAEALPHANA_NZ20_PNTh0.05_AnnotThresh0.5/checkpoint-229896/config.json\n"
     ]
    },
    {
     "name": "stderr",
     "output_type": "stream",
     "text": [
      "Model weights saved in saved_models/XLNetDepr-3_256_8-ALL_NA-PEL-BS1-GWS_PCC_IT192_DH_3LMAEALPHANA_NZ20_PNTh0.05_AnnotThresh0.5/checkpoint-229896/pytorch_model.bin\n"
     ]
    },
    {
     "name": "stderr",
     "output_type": "stream",
     "text": [
      "Deleting older checkpoint [saved_models/XLNetDepr-3_256_8-ALL_NA-PEL-BS1-GWS_PCC_IT192_DH_3LMAEALPHANA_NZ20_PNTh0.05_AnnotThresh0.5/checkpoint-197966] due to args.save_total_limit\n"
     ]
    },
    {
     "name": "stderr",
     "output_type": "stream",
     "text": [
      "***** Running Evaluation *****\n"
     ]
    },
    {
     "name": "stderr",
     "output_type": "stream",
     "text": [
      "  Num examples = 1592\n"
     ]
    },
    {
     "name": "stderr",
     "output_type": "stream",
     "text": [
      "  Batch size = 1\n"
     ]
    },
    {
     "name": "stderr",
     "output_type": "stream",
     "text": [
      "Saving model checkpoint to saved_models/XLNetDepr-3_256_8-ALL_NA-PEL-BS1-GWS_PCC_IT192_DH_3LMAEALPHANA_NZ20_PNTh0.05_AnnotThresh0.5/checkpoint-236282\n"
     ]
    },
    {
     "name": "stderr",
     "output_type": "stream",
     "text": [
      "Configuration saved in saved_models/XLNetDepr-3_256_8-ALL_NA-PEL-BS1-GWS_PCC_IT192_DH_3LMAEALPHANA_NZ20_PNTh0.05_AnnotThresh0.5/checkpoint-236282/config.json\n"
     ]
    },
    {
     "name": "stderr",
     "output_type": "stream",
     "text": [
      "Model weights saved in saved_models/XLNetDepr-3_256_8-ALL_NA-PEL-BS1-GWS_PCC_IT192_DH_3LMAEALPHANA_NZ20_PNTh0.05_AnnotThresh0.5/checkpoint-236282/pytorch_model.bin\n"
     ]
    },
    {
     "name": "stderr",
     "output_type": "stream",
     "text": [
      "Deleting older checkpoint [saved_models/XLNetDepr-3_256_8-ALL_NA-PEL-BS1-GWS_PCC_IT192_DH_3LMAEALPHANA_NZ20_PNTh0.05_AnnotThresh0.5/checkpoint-204352] due to args.save_total_limit\n"
     ]
    },
    {
     "name": "stderr",
     "output_type": "stream",
     "text": [
      "***** Running Evaluation *****\n"
     ]
    },
    {
     "name": "stderr",
     "output_type": "stream",
     "text": [
      "  Num examples = 1592\n"
     ]
    },
    {
     "name": "stderr",
     "output_type": "stream",
     "text": [
      "  Batch size = 1\n"
     ]
    },
    {
     "name": "stderr",
     "output_type": "stream",
     "text": [
      "Saving model checkpoint to saved_models/XLNetDepr-3_256_8-ALL_NA-PEL-BS1-GWS_PCC_IT192_DH_3LMAEALPHANA_NZ20_PNTh0.05_AnnotThresh0.5/checkpoint-242668\n"
     ]
    },
    {
     "name": "stderr",
     "output_type": "stream",
     "text": [
      "Configuration saved in saved_models/XLNetDepr-3_256_8-ALL_NA-PEL-BS1-GWS_PCC_IT192_DH_3LMAEALPHANA_NZ20_PNTh0.05_AnnotThresh0.5/checkpoint-242668/config.json\n"
     ]
    },
    {
     "name": "stderr",
     "output_type": "stream",
     "text": [
      "Model weights saved in saved_models/XLNetDepr-3_256_8-ALL_NA-PEL-BS1-GWS_PCC_IT192_DH_3LMAEALPHANA_NZ20_PNTh0.05_AnnotThresh0.5/checkpoint-242668/pytorch_model.bin\n"
     ]
    },
    {
     "name": "stderr",
     "output_type": "stream",
     "text": [
      "Deleting older checkpoint [saved_models/XLNetDepr-3_256_8-ALL_NA-PEL-BS1-GWS_PCC_IT192_DH_3LMAEALPHANA_NZ20_PNTh0.05_AnnotThresh0.5/checkpoint-210738] due to args.save_total_limit\n"
     ]
    },
    {
     "name": "stderr",
     "output_type": "stream",
     "text": [
      "***** Running Evaluation *****\n"
     ]
    },
    {
     "name": "stderr",
     "output_type": "stream",
     "text": [
      "  Num examples = 1592\n"
     ]
    },
    {
     "name": "stderr",
     "output_type": "stream",
     "text": [
      "  Batch size = 1\n"
     ]
    },
    {
     "name": "stderr",
     "output_type": "stream",
     "text": [
      "Saving model checkpoint to saved_models/XLNetDepr-3_256_8-ALL_NA-PEL-BS1-GWS_PCC_IT192_DH_3LMAEALPHANA_NZ20_PNTh0.05_AnnotThresh0.5/checkpoint-249054\n"
     ]
    },
    {
     "name": "stderr",
     "output_type": "stream",
     "text": [
      "Configuration saved in saved_models/XLNetDepr-3_256_8-ALL_NA-PEL-BS1-GWS_PCC_IT192_DH_3LMAEALPHANA_NZ20_PNTh0.05_AnnotThresh0.5/checkpoint-249054/config.json\n"
     ]
    },
    {
     "name": "stderr",
     "output_type": "stream",
     "text": [
      "Model weights saved in saved_models/XLNetDepr-3_256_8-ALL_NA-PEL-BS1-GWS_PCC_IT192_DH_3LMAEALPHANA_NZ20_PNTh0.05_AnnotThresh0.5/checkpoint-249054/pytorch_model.bin\n"
     ]
    },
    {
     "name": "stderr",
     "output_type": "stream",
     "text": [
      "Deleting older checkpoint [saved_models/XLNetDepr-3_256_8-ALL_NA-PEL-BS1-GWS_PCC_IT192_DH_3LMAEALPHANA_NZ20_PNTh0.05_AnnotThresh0.5/checkpoint-217124] due to args.save_total_limit\n"
     ]
    },
    {
     "name": "stderr",
     "output_type": "stream",
     "text": [
      "***** Running Evaluation *****\n"
     ]
    },
    {
     "name": "stderr",
     "output_type": "stream",
     "text": [
      "  Num examples = 1592\n"
     ]
    },
    {
     "name": "stderr",
     "output_type": "stream",
     "text": [
      "  Batch size = 1\n"
     ]
    },
    {
     "name": "stderr",
     "output_type": "stream",
     "text": [
      "Saving model checkpoint to saved_models/XLNetDepr-3_256_8-ALL_NA-PEL-BS1-GWS_PCC_IT192_DH_3LMAEALPHANA_NZ20_PNTh0.05_AnnotThresh0.5/checkpoint-255440\n"
     ]
    },
    {
     "name": "stderr",
     "output_type": "stream",
     "text": [
      "Configuration saved in saved_models/XLNetDepr-3_256_8-ALL_NA-PEL-BS1-GWS_PCC_IT192_DH_3LMAEALPHANA_NZ20_PNTh0.05_AnnotThresh0.5/checkpoint-255440/config.json\n"
     ]
    },
    {
     "name": "stderr",
     "output_type": "stream",
     "text": [
      "Model weights saved in saved_models/XLNetDepr-3_256_8-ALL_NA-PEL-BS1-GWS_PCC_IT192_DH_3LMAEALPHANA_NZ20_PNTh0.05_AnnotThresh0.5/checkpoint-255440/pytorch_model.bin\n"
     ]
    },
    {
     "name": "stderr",
     "output_type": "stream",
     "text": [
      "Deleting older checkpoint [saved_models/XLNetDepr-3_256_8-ALL_NA-PEL-BS1-GWS_PCC_IT192_DH_3LMAEALPHANA_NZ20_PNTh0.05_AnnotThresh0.5/checkpoint-229896] due to args.save_total_limit\n"
     ]
    },
    {
     "name": "stderr",
     "output_type": "stream",
     "text": [
      "***** Running Evaluation *****\n"
     ]
    },
    {
     "name": "stderr",
     "output_type": "stream",
     "text": [
      "  Num examples = 1592\n"
     ]
    },
    {
     "name": "stderr",
     "output_type": "stream",
     "text": [
      "  Batch size = 1\n"
     ]
    },
    {
     "name": "stderr",
     "output_type": "stream",
     "text": [
      "Saving model checkpoint to saved_models/XLNetDepr-3_256_8-ALL_NA-PEL-BS1-GWS_PCC_IT192_DH_3LMAEALPHANA_NZ20_PNTh0.05_AnnotThresh0.5/checkpoint-261826\n"
     ]
    },
    {
     "name": "stderr",
     "output_type": "stream",
     "text": [
      "Configuration saved in saved_models/XLNetDepr-3_256_8-ALL_NA-PEL-BS1-GWS_PCC_IT192_DH_3LMAEALPHANA_NZ20_PNTh0.05_AnnotThresh0.5/checkpoint-261826/config.json\n"
     ]
    },
    {
     "name": "stderr",
     "output_type": "stream",
     "text": [
      "Model weights saved in saved_models/XLNetDepr-3_256_8-ALL_NA-PEL-BS1-GWS_PCC_IT192_DH_3LMAEALPHANA_NZ20_PNTh0.05_AnnotThresh0.5/checkpoint-261826/pytorch_model.bin\n"
     ]
    },
    {
     "name": "stderr",
     "output_type": "stream",
     "text": [
      "Deleting older checkpoint [saved_models/XLNetDepr-3_256_8-ALL_NA-PEL-BS1-GWS_PCC_IT192_DH_3LMAEALPHANA_NZ20_PNTh0.05_AnnotThresh0.5/checkpoint-236282] due to args.save_total_limit\n"
     ]
    },
    {
     "name": "stderr",
     "output_type": "stream",
     "text": [
      "***** Running Evaluation *****\n"
     ]
    },
    {
     "name": "stderr",
     "output_type": "stream",
     "text": [
      "  Num examples = 1592\n"
     ]
    },
    {
     "name": "stderr",
     "output_type": "stream",
     "text": [
      "  Batch size = 1\n"
     ]
    },
    {
     "name": "stderr",
     "output_type": "stream",
     "text": [
      "Saving model checkpoint to saved_models/XLNetDepr-3_256_8-ALL_NA-PEL-BS1-GWS_PCC_IT192_DH_3LMAEALPHANA_NZ20_PNTh0.05_AnnotThresh0.5/checkpoint-268212\n"
     ]
    },
    {
     "name": "stderr",
     "output_type": "stream",
     "text": [
      "Configuration saved in saved_models/XLNetDepr-3_256_8-ALL_NA-PEL-BS1-GWS_PCC_IT192_DH_3LMAEALPHANA_NZ20_PNTh0.05_AnnotThresh0.5/checkpoint-268212/config.json\n"
     ]
    },
    {
     "name": "stderr",
     "output_type": "stream",
     "text": [
      "Model weights saved in saved_models/XLNetDepr-3_256_8-ALL_NA-PEL-BS1-GWS_PCC_IT192_DH_3LMAEALPHANA_NZ20_PNTh0.05_AnnotThresh0.5/checkpoint-268212/pytorch_model.bin\n"
     ]
    },
    {
     "name": "stderr",
     "output_type": "stream",
     "text": [
      "Deleting older checkpoint [saved_models/XLNetDepr-3_256_8-ALL_NA-PEL-BS1-GWS_PCC_IT192_DH_3LMAEALPHANA_NZ20_PNTh0.05_AnnotThresh0.5/checkpoint-242668] due to args.save_total_limit\n"
     ]
    },
    {
     "name": "stderr",
     "output_type": "stream",
     "text": [
      "***** Running Evaluation *****\n"
     ]
    },
    {
     "name": "stderr",
     "output_type": "stream",
     "text": [
      "  Num examples = 1592\n"
     ]
    },
    {
     "name": "stderr",
     "output_type": "stream",
     "text": [
      "  Batch size = 1\n"
     ]
    },
    {
     "name": "stderr",
     "output_type": "stream",
     "text": [
      "Saving model checkpoint to saved_models/XLNetDepr-3_256_8-ALL_NA-PEL-BS1-GWS_PCC_IT192_DH_3LMAEALPHANA_NZ20_PNTh0.05_AnnotThresh0.5/checkpoint-274598\n"
     ]
    },
    {
     "name": "stderr",
     "output_type": "stream",
     "text": [
      "Configuration saved in saved_models/XLNetDepr-3_256_8-ALL_NA-PEL-BS1-GWS_PCC_IT192_DH_3LMAEALPHANA_NZ20_PNTh0.05_AnnotThresh0.5/checkpoint-274598/config.json\n"
     ]
    },
    {
     "name": "stderr",
     "output_type": "stream",
     "text": [
      "Model weights saved in saved_models/XLNetDepr-3_256_8-ALL_NA-PEL-BS1-GWS_PCC_IT192_DH_3LMAEALPHANA_NZ20_PNTh0.05_AnnotThresh0.5/checkpoint-274598/pytorch_model.bin\n"
     ]
    },
    {
     "name": "stderr",
     "output_type": "stream",
     "text": [
      "Deleting older checkpoint [saved_models/XLNetDepr-3_256_8-ALL_NA-PEL-BS1-GWS_PCC_IT192_DH_3LMAEALPHANA_NZ20_PNTh0.05_AnnotThresh0.5/checkpoint-249054] due to args.save_total_limit\n"
     ]
    },
    {
     "name": "stderr",
     "output_type": "stream",
     "text": [
      "***** Running Evaluation *****\n"
     ]
    },
    {
     "name": "stderr",
     "output_type": "stream",
     "text": [
      "  Num examples = 1592\n"
     ]
    },
    {
     "name": "stderr",
     "output_type": "stream",
     "text": [
      "  Batch size = 1\n"
     ]
    },
    {
     "name": "stderr",
     "output_type": "stream",
     "text": [
      "Saving model checkpoint to saved_models/XLNetDepr-3_256_8-ALL_NA-PEL-BS1-GWS_PCC_IT192_DH_3LMAEALPHANA_NZ20_PNTh0.05_AnnotThresh0.5/checkpoint-280984\n"
     ]
    },
    {
     "name": "stderr",
     "output_type": "stream",
     "text": [
      "Configuration saved in saved_models/XLNetDepr-3_256_8-ALL_NA-PEL-BS1-GWS_PCC_IT192_DH_3LMAEALPHANA_NZ20_PNTh0.05_AnnotThresh0.5/checkpoint-280984/config.json\n"
     ]
    },
    {
     "name": "stderr",
     "output_type": "stream",
     "text": [
      "Model weights saved in saved_models/XLNetDepr-3_256_8-ALL_NA-PEL-BS1-GWS_PCC_IT192_DH_3LMAEALPHANA_NZ20_PNTh0.05_AnnotThresh0.5/checkpoint-280984/pytorch_model.bin\n"
     ]
    },
    {
     "name": "stderr",
     "output_type": "stream",
     "text": [
      "Deleting older checkpoint [saved_models/XLNetDepr-3_256_8-ALL_NA-PEL-BS1-GWS_PCC_IT192_DH_3LMAEALPHANA_NZ20_PNTh0.05_AnnotThresh0.5/checkpoint-255440] due to args.save_total_limit\n"
     ]
    },
    {
     "name": "stderr",
     "output_type": "stream",
     "text": [
      "***** Running Evaluation *****\n"
     ]
    },
    {
     "name": "stderr",
     "output_type": "stream",
     "text": [
      "  Num examples = 1592\n"
     ]
    },
    {
     "name": "stderr",
     "output_type": "stream",
     "text": [
      "  Batch size = 1\n"
     ]
    },
    {
     "name": "stderr",
     "output_type": "stream",
     "text": [
      "Saving model checkpoint to saved_models/XLNetDepr-3_256_8-ALL_NA-PEL-BS1-GWS_PCC_IT192_DH_3LMAEALPHANA_NZ20_PNTh0.05_AnnotThresh0.5/checkpoint-287370\n"
     ]
    },
    {
     "name": "stderr",
     "output_type": "stream",
     "text": [
      "Configuration saved in saved_models/XLNetDepr-3_256_8-ALL_NA-PEL-BS1-GWS_PCC_IT192_DH_3LMAEALPHANA_NZ20_PNTh0.05_AnnotThresh0.5/checkpoint-287370/config.json\n"
     ]
    },
    {
     "name": "stderr",
     "output_type": "stream",
     "text": [
      "Model weights saved in saved_models/XLNetDepr-3_256_8-ALL_NA-PEL-BS1-GWS_PCC_IT192_DH_3LMAEALPHANA_NZ20_PNTh0.05_AnnotThresh0.5/checkpoint-287370/pytorch_model.bin\n"
     ]
    },
    {
     "name": "stderr",
     "output_type": "stream",
     "text": [
      "Deleting older checkpoint [saved_models/XLNetDepr-3_256_8-ALL_NA-PEL-BS1-GWS_PCC_IT192_DH_3LMAEALPHANA_NZ20_PNTh0.05_AnnotThresh0.5/checkpoint-261826] due to args.save_total_limit\n"
     ]
    },
    {
     "name": "stderr",
     "output_type": "stream",
     "text": [
      "***** Running Evaluation *****\n"
     ]
    },
    {
     "name": "stderr",
     "output_type": "stream",
     "text": [
      "  Num examples = 1592\n"
     ]
    },
    {
     "name": "stderr",
     "output_type": "stream",
     "text": [
      "  Batch size = 1\n"
     ]
    },
    {
     "name": "stderr",
     "output_type": "stream",
     "text": [
      "Saving model checkpoint to saved_models/XLNetDepr-3_256_8-ALL_NA-PEL-BS1-GWS_PCC_IT192_DH_3LMAEALPHANA_NZ20_PNTh0.05_AnnotThresh0.5/checkpoint-293756\n"
     ]
    },
    {
     "name": "stderr",
     "output_type": "stream",
     "text": [
      "Configuration saved in saved_models/XLNetDepr-3_256_8-ALL_NA-PEL-BS1-GWS_PCC_IT192_DH_3LMAEALPHANA_NZ20_PNTh0.05_AnnotThresh0.5/checkpoint-293756/config.json\n"
     ]
    },
    {
     "name": "stderr",
     "output_type": "stream",
     "text": [
      "Model weights saved in saved_models/XLNetDepr-3_256_8-ALL_NA-PEL-BS1-GWS_PCC_IT192_DH_3LMAEALPHANA_NZ20_PNTh0.05_AnnotThresh0.5/checkpoint-293756/pytorch_model.bin\n"
     ]
    },
    {
     "name": "stderr",
     "output_type": "stream",
     "text": [
      "Deleting older checkpoint [saved_models/XLNetDepr-3_256_8-ALL_NA-PEL-BS1-GWS_PCC_IT192_DH_3LMAEALPHANA_NZ20_PNTh0.05_AnnotThresh0.5/checkpoint-268212] due to args.save_total_limit\n"
     ]
    },
    {
     "name": "stderr",
     "output_type": "stream",
     "text": [
      "***** Running Evaluation *****\n"
     ]
    },
    {
     "name": "stderr",
     "output_type": "stream",
     "text": [
      "  Num examples = 1592\n"
     ]
    },
    {
     "name": "stderr",
     "output_type": "stream",
     "text": [
      "  Batch size = 1\n"
     ]
    },
    {
     "name": "stderr",
     "output_type": "stream",
     "text": [
      "Saving model checkpoint to saved_models/XLNetDepr-3_256_8-ALL_NA-PEL-BS1-GWS_PCC_IT192_DH_3LMAEALPHANA_NZ20_PNTh0.05_AnnotThresh0.5/checkpoint-300142\n"
     ]
    },
    {
     "name": "stderr",
     "output_type": "stream",
     "text": [
      "Configuration saved in saved_models/XLNetDepr-3_256_8-ALL_NA-PEL-BS1-GWS_PCC_IT192_DH_3LMAEALPHANA_NZ20_PNTh0.05_AnnotThresh0.5/checkpoint-300142/config.json\n"
     ]
    },
    {
     "name": "stderr",
     "output_type": "stream",
     "text": [
      "Model weights saved in saved_models/XLNetDepr-3_256_8-ALL_NA-PEL-BS1-GWS_PCC_IT192_DH_3LMAEALPHANA_NZ20_PNTh0.05_AnnotThresh0.5/checkpoint-300142/pytorch_model.bin\n"
     ]
    },
    {
     "name": "stderr",
     "output_type": "stream",
     "text": [
      "Deleting older checkpoint [saved_models/XLNetDepr-3_256_8-ALL_NA-PEL-BS1-GWS_PCC_IT192_DH_3LMAEALPHANA_NZ20_PNTh0.05_AnnotThresh0.5/checkpoint-274598] due to args.save_total_limit\n"
     ]
    },
    {
     "name": "stderr",
     "output_type": "stream",
     "text": [
      "***** Running Evaluation *****\n"
     ]
    },
    {
     "name": "stderr",
     "output_type": "stream",
     "text": [
      "  Num examples = 1592\n"
     ]
    },
    {
     "name": "stderr",
     "output_type": "stream",
     "text": [
      "  Batch size = 1\n"
     ]
    },
    {
     "name": "stderr",
     "output_type": "stream",
     "text": [
      "Saving model checkpoint to saved_models/XLNetDepr-3_256_8-ALL_NA-PEL-BS1-GWS_PCC_IT192_DH_3LMAEALPHANA_NZ20_PNTh0.05_AnnotThresh0.5/checkpoint-306528\n"
     ]
    },
    {
     "name": "stderr",
     "output_type": "stream",
     "text": [
      "Configuration saved in saved_models/XLNetDepr-3_256_8-ALL_NA-PEL-BS1-GWS_PCC_IT192_DH_3LMAEALPHANA_NZ20_PNTh0.05_AnnotThresh0.5/checkpoint-306528/config.json\n"
     ]
    },
    {
     "name": "stderr",
     "output_type": "stream",
     "text": [
      "Model weights saved in saved_models/XLNetDepr-3_256_8-ALL_NA-PEL-BS1-GWS_PCC_IT192_DH_3LMAEALPHANA_NZ20_PNTh0.05_AnnotThresh0.5/checkpoint-306528/pytorch_model.bin\n"
     ]
    },
    {
     "name": "stderr",
     "output_type": "stream",
     "text": [
      "Deleting older checkpoint [saved_models/XLNetDepr-3_256_8-ALL_NA-PEL-BS1-GWS_PCC_IT192_DH_3LMAEALPHANA_NZ20_PNTh0.05_AnnotThresh0.5/checkpoint-280984] due to args.save_total_limit\n"
     ]
    },
    {
     "name": "stderr",
     "output_type": "stream",
     "text": [
      "***** Running Evaluation *****\n"
     ]
    },
    {
     "name": "stderr",
     "output_type": "stream",
     "text": [
      "  Num examples = 1592\n"
     ]
    },
    {
     "name": "stderr",
     "output_type": "stream",
     "text": [
      "  Batch size = 1\n"
     ]
    },
    {
     "name": "stderr",
     "output_type": "stream",
     "text": [
      "Saving model checkpoint to saved_models/XLNetDepr-3_256_8-ALL_NA-PEL-BS1-GWS_PCC_IT192_DH_3LMAEALPHANA_NZ20_PNTh0.05_AnnotThresh0.5/checkpoint-312914\n"
     ]
    },
    {
     "name": "stderr",
     "output_type": "stream",
     "text": [
      "Configuration saved in saved_models/XLNetDepr-3_256_8-ALL_NA-PEL-BS1-GWS_PCC_IT192_DH_3LMAEALPHANA_NZ20_PNTh0.05_AnnotThresh0.5/checkpoint-312914/config.json\n"
     ]
    },
    {
     "name": "stderr",
     "output_type": "stream",
     "text": [
      "Model weights saved in saved_models/XLNetDepr-3_256_8-ALL_NA-PEL-BS1-GWS_PCC_IT192_DH_3LMAEALPHANA_NZ20_PNTh0.05_AnnotThresh0.5/checkpoint-312914/pytorch_model.bin\n"
     ]
    },
    {
     "name": "stderr",
     "output_type": "stream",
     "text": [
      "Deleting older checkpoint [saved_models/XLNetDepr-3_256_8-ALL_NA-PEL-BS1-GWS_PCC_IT192_DH_3LMAEALPHANA_NZ20_PNTh0.05_AnnotThresh0.5/checkpoint-287370] due to args.save_total_limit\n"
     ]
    },
    {
     "name": "stderr",
     "output_type": "stream",
     "text": [
      "***** Running Evaluation *****\n"
     ]
    },
    {
     "name": "stderr",
     "output_type": "stream",
     "text": [
      "  Num examples = 1592\n"
     ]
    },
    {
     "name": "stderr",
     "output_type": "stream",
     "text": [
      "  Batch size = 1\n"
     ]
    },
    {
     "name": "stderr",
     "output_type": "stream",
     "text": [
      "Saving model checkpoint to saved_models/XLNetDepr-3_256_8-ALL_NA-PEL-BS1-GWS_PCC_IT192_DH_3LMAEALPHANA_NZ20_PNTh0.05_AnnotThresh0.5/checkpoint-319300\n"
     ]
    },
    {
     "name": "stderr",
     "output_type": "stream",
     "text": [
      "Configuration saved in saved_models/XLNetDepr-3_256_8-ALL_NA-PEL-BS1-GWS_PCC_IT192_DH_3LMAEALPHANA_NZ20_PNTh0.05_AnnotThresh0.5/checkpoint-319300/config.json\n"
     ]
    },
    {
     "name": "stderr",
     "output_type": "stream",
     "text": [
      "Model weights saved in saved_models/XLNetDepr-3_256_8-ALL_NA-PEL-BS1-GWS_PCC_IT192_DH_3LMAEALPHANA_NZ20_PNTh0.05_AnnotThresh0.5/checkpoint-319300/pytorch_model.bin\n"
     ]
    },
    {
     "name": "stderr",
     "output_type": "stream",
     "text": [
      "Deleting older checkpoint [saved_models/XLNetDepr-3_256_8-ALL_NA-PEL-BS1-GWS_PCC_IT192_DH_3LMAEALPHANA_NZ20_PNTh0.05_AnnotThresh0.5/checkpoint-293756] due to args.save_total_limit\n"
     ]
    },
    {
     "name": "stderr",
     "output_type": "stream",
     "text": [
      "***** Running Evaluation *****\n"
     ]
    },
    {
     "name": "stderr",
     "output_type": "stream",
     "text": [
      "  Num examples = 1592\n"
     ]
    },
    {
     "name": "stderr",
     "output_type": "stream",
     "text": [
      "  Batch size = 1\n"
     ]
    },
    {
     "name": "stderr",
     "output_type": "stream",
     "text": [
      "Saving model checkpoint to saved_models/XLNetDepr-3_256_8-ALL_NA-PEL-BS1-GWS_PCC_IT192_DH_3LMAEALPHANA_NZ20_PNTh0.05_AnnotThresh0.5/checkpoint-325686\n"
     ]
    },
    {
     "name": "stderr",
     "output_type": "stream",
     "text": [
      "Configuration saved in saved_models/XLNetDepr-3_256_8-ALL_NA-PEL-BS1-GWS_PCC_IT192_DH_3LMAEALPHANA_NZ20_PNTh0.05_AnnotThresh0.5/checkpoint-325686/config.json\n"
     ]
    },
    {
     "name": "stderr",
     "output_type": "stream",
     "text": [
      "Model weights saved in saved_models/XLNetDepr-3_256_8-ALL_NA-PEL-BS1-GWS_PCC_IT192_DH_3LMAEALPHANA_NZ20_PNTh0.05_AnnotThresh0.5/checkpoint-325686/pytorch_model.bin\n"
     ]
    },
    {
     "name": "stderr",
     "output_type": "stream",
     "text": [
      "Deleting older checkpoint [saved_models/XLNetDepr-3_256_8-ALL_NA-PEL-BS1-GWS_PCC_IT192_DH_3LMAEALPHANA_NZ20_PNTh0.05_AnnotThresh0.5/checkpoint-300142] due to args.save_total_limit\n"
     ]
    },
    {
     "name": "stderr",
     "output_type": "stream",
     "text": [
      "***** Running Evaluation *****\n"
     ]
    },
    {
     "name": "stderr",
     "output_type": "stream",
     "text": [
      "  Num examples = 1592\n"
     ]
    },
    {
     "name": "stderr",
     "output_type": "stream",
     "text": [
      "  Batch size = 1\n"
     ]
    },
    {
     "name": "stderr",
     "output_type": "stream",
     "text": [
      "Saving model checkpoint to saved_models/XLNetDepr-3_256_8-ALL_NA-PEL-BS1-GWS_PCC_IT192_DH_3LMAEALPHANA_NZ20_PNTh0.05_AnnotThresh0.5/checkpoint-332072\n"
     ]
    },
    {
     "name": "stderr",
     "output_type": "stream",
     "text": [
      "Configuration saved in saved_models/XLNetDepr-3_256_8-ALL_NA-PEL-BS1-GWS_PCC_IT192_DH_3LMAEALPHANA_NZ20_PNTh0.05_AnnotThresh0.5/checkpoint-332072/config.json\n"
     ]
    },
    {
     "name": "stderr",
     "output_type": "stream",
     "text": [
      "Model weights saved in saved_models/XLNetDepr-3_256_8-ALL_NA-PEL-BS1-GWS_PCC_IT192_DH_3LMAEALPHANA_NZ20_PNTh0.05_AnnotThresh0.5/checkpoint-332072/pytorch_model.bin\n"
     ]
    },
    {
     "name": "stderr",
     "output_type": "stream",
     "text": [
      "Deleting older checkpoint [saved_models/XLNetDepr-3_256_8-ALL_NA-PEL-BS1-GWS_PCC_IT192_DH_3LMAEALPHANA_NZ20_PNTh0.05_AnnotThresh0.5/checkpoint-306528] due to args.save_total_limit\n"
     ]
    },
    {
     "name": "stderr",
     "output_type": "stream",
     "text": [
      "***** Running Evaluation *****\n"
     ]
    },
    {
     "name": "stderr",
     "output_type": "stream",
     "text": [
      "  Num examples = 1592\n"
     ]
    },
    {
     "name": "stderr",
     "output_type": "stream",
     "text": [
      "  Batch size = 1\n"
     ]
    },
    {
     "name": "stderr",
     "output_type": "stream",
     "text": [
      "Saving model checkpoint to saved_models/XLNetDepr-3_256_8-ALL_NA-PEL-BS1-GWS_PCC_IT192_DH_3LMAEALPHANA_NZ20_PNTh0.05_AnnotThresh0.5/checkpoint-338458\n"
     ]
    },
    {
     "name": "stderr",
     "output_type": "stream",
     "text": [
      "Configuration saved in saved_models/XLNetDepr-3_256_8-ALL_NA-PEL-BS1-GWS_PCC_IT192_DH_3LMAEALPHANA_NZ20_PNTh0.05_AnnotThresh0.5/checkpoint-338458/config.json\n"
     ]
    },
    {
     "name": "stderr",
     "output_type": "stream",
     "text": [
      "Model weights saved in saved_models/XLNetDepr-3_256_8-ALL_NA-PEL-BS1-GWS_PCC_IT192_DH_3LMAEALPHANA_NZ20_PNTh0.05_AnnotThresh0.5/checkpoint-338458/pytorch_model.bin\n"
     ]
    },
    {
     "name": "stderr",
     "output_type": "stream",
     "text": [
      "Deleting older checkpoint [saved_models/XLNetDepr-3_256_8-ALL_NA-PEL-BS1-GWS_PCC_IT192_DH_3LMAEALPHANA_NZ20_PNTh0.05_AnnotThresh0.5/checkpoint-312914] due to args.save_total_limit\n"
     ]
    },
    {
     "name": "stderr",
     "output_type": "stream",
     "text": [
      "***** Running Evaluation *****\n"
     ]
    },
    {
     "name": "stderr",
     "output_type": "stream",
     "text": [
      "  Num examples = 1592\n"
     ]
    },
    {
     "name": "stderr",
     "output_type": "stream",
     "text": [
      "  Batch size = 1\n"
     ]
    },
    {
     "name": "stderr",
     "output_type": "stream",
     "text": [
      "Saving model checkpoint to saved_models/XLNetDepr-3_256_8-ALL_NA-PEL-BS1-GWS_PCC_IT192_DH_3LMAEALPHANA_NZ20_PNTh0.05_AnnotThresh0.5/checkpoint-344844\n"
     ]
    },
    {
     "name": "stderr",
     "output_type": "stream",
     "text": [
      "Configuration saved in saved_models/XLNetDepr-3_256_8-ALL_NA-PEL-BS1-GWS_PCC_IT192_DH_3LMAEALPHANA_NZ20_PNTh0.05_AnnotThresh0.5/checkpoint-344844/config.json\n"
     ]
    },
    {
     "name": "stderr",
     "output_type": "stream",
     "text": [
      "Model weights saved in saved_models/XLNetDepr-3_256_8-ALL_NA-PEL-BS1-GWS_PCC_IT192_DH_3LMAEALPHANA_NZ20_PNTh0.05_AnnotThresh0.5/checkpoint-344844/pytorch_model.bin\n"
     ]
    },
    {
     "name": "stderr",
     "output_type": "stream",
     "text": [
      "Deleting older checkpoint [saved_models/XLNetDepr-3_256_8-ALL_NA-PEL-BS1-GWS_PCC_IT192_DH_3LMAEALPHANA_NZ20_PNTh0.05_AnnotThresh0.5/checkpoint-319300] due to args.save_total_limit\n"
     ]
    },
    {
     "name": "stderr",
     "output_type": "stream",
     "text": [
      "***** Running Evaluation *****\n"
     ]
    },
    {
     "name": "stderr",
     "output_type": "stream",
     "text": [
      "  Num examples = 1592\n"
     ]
    },
    {
     "name": "stderr",
     "output_type": "stream",
     "text": [
      "  Batch size = 1\n"
     ]
    },
    {
     "name": "stderr",
     "output_type": "stream",
     "text": [
      "Saving model checkpoint to saved_models/XLNetDepr-3_256_8-ALL_NA-PEL-BS1-GWS_PCC_IT192_DH_3LMAEALPHANA_NZ20_PNTh0.05_AnnotThresh0.5/checkpoint-351230\n"
     ]
    },
    {
     "name": "stderr",
     "output_type": "stream",
     "text": [
      "Configuration saved in saved_models/XLNetDepr-3_256_8-ALL_NA-PEL-BS1-GWS_PCC_IT192_DH_3LMAEALPHANA_NZ20_PNTh0.05_AnnotThresh0.5/checkpoint-351230/config.json\n"
     ]
    },
    {
     "name": "stderr",
     "output_type": "stream",
     "text": [
      "Model weights saved in saved_models/XLNetDepr-3_256_8-ALL_NA-PEL-BS1-GWS_PCC_IT192_DH_3LMAEALPHANA_NZ20_PNTh0.05_AnnotThresh0.5/checkpoint-351230/pytorch_model.bin\n"
     ]
    },
    {
     "name": "stderr",
     "output_type": "stream",
     "text": [
      "Deleting older checkpoint [saved_models/XLNetDepr-3_256_8-ALL_NA-PEL-BS1-GWS_PCC_IT192_DH_3LMAEALPHANA_NZ20_PNTh0.05_AnnotThresh0.5/checkpoint-325686] due to args.save_total_limit\n"
     ]
    },
    {
     "name": "stderr",
     "output_type": "stream",
     "text": [
      "***** Running Evaluation *****\n"
     ]
    },
    {
     "name": "stderr",
     "output_type": "stream",
     "text": [
      "  Num examples = 1592\n"
     ]
    },
    {
     "name": "stderr",
     "output_type": "stream",
     "text": [
      "  Batch size = 1\n"
     ]
    },
    {
     "name": "stderr",
     "output_type": "stream",
     "text": [
      "Saving model checkpoint to saved_models/XLNetDepr-3_256_8-ALL_NA-PEL-BS1-GWS_PCC_IT192_DH_3LMAEALPHANA_NZ20_PNTh0.05_AnnotThresh0.5/checkpoint-357616\n"
     ]
    },
    {
     "name": "stderr",
     "output_type": "stream",
     "text": [
      "Configuration saved in saved_models/XLNetDepr-3_256_8-ALL_NA-PEL-BS1-GWS_PCC_IT192_DH_3LMAEALPHANA_NZ20_PNTh0.05_AnnotThresh0.5/checkpoint-357616/config.json\n"
     ]
    },
    {
     "name": "stderr",
     "output_type": "stream",
     "text": [
      "Model weights saved in saved_models/XLNetDepr-3_256_8-ALL_NA-PEL-BS1-GWS_PCC_IT192_DH_3LMAEALPHANA_NZ20_PNTh0.05_AnnotThresh0.5/checkpoint-357616/pytorch_model.bin\n"
     ]
    },
    {
     "name": "stderr",
     "output_type": "stream",
     "text": [
      "Deleting older checkpoint [saved_models/XLNetDepr-3_256_8-ALL_NA-PEL-BS1-GWS_PCC_IT192_DH_3LMAEALPHANA_NZ20_PNTh0.05_AnnotThresh0.5/checkpoint-332072] due to args.save_total_limit\n"
     ]
    },
    {
     "name": "stderr",
     "output_type": "stream",
     "text": [
      "***** Running Evaluation *****\n"
     ]
    },
    {
     "name": "stderr",
     "output_type": "stream",
     "text": [
      "  Num examples = 1592\n"
     ]
    },
    {
     "name": "stderr",
     "output_type": "stream",
     "text": [
      "  Batch size = 1\n"
     ]
    },
    {
     "name": "stderr",
     "output_type": "stream",
     "text": [
      "Saving model checkpoint to saved_models/XLNetDepr-3_256_8-ALL_NA-PEL-BS1-GWS_PCC_IT192_DH_3LMAEALPHANA_NZ20_PNTh0.05_AnnotThresh0.5/checkpoint-364002\n"
     ]
    },
    {
     "name": "stderr",
     "output_type": "stream",
     "text": [
      "Configuration saved in saved_models/XLNetDepr-3_256_8-ALL_NA-PEL-BS1-GWS_PCC_IT192_DH_3LMAEALPHANA_NZ20_PNTh0.05_AnnotThresh0.5/checkpoint-364002/config.json\n"
     ]
    },
    {
     "name": "stderr",
     "output_type": "stream",
     "text": [
      "Model weights saved in saved_models/XLNetDepr-3_256_8-ALL_NA-PEL-BS1-GWS_PCC_IT192_DH_3LMAEALPHANA_NZ20_PNTh0.05_AnnotThresh0.5/checkpoint-364002/pytorch_model.bin\n"
     ]
    },
    {
     "name": "stderr",
     "output_type": "stream",
     "text": [
      "Deleting older checkpoint [saved_models/XLNetDepr-3_256_8-ALL_NA-PEL-BS1-GWS_PCC_IT192_DH_3LMAEALPHANA_NZ20_PNTh0.05_AnnotThresh0.5/checkpoint-338458] due to args.save_total_limit\n"
     ]
    },
    {
     "name": "stderr",
     "output_type": "stream",
     "text": [
      "***** Running Evaluation *****\n"
     ]
    },
    {
     "name": "stderr",
     "output_type": "stream",
     "text": [
      "  Num examples = 1592\n"
     ]
    },
    {
     "name": "stderr",
     "output_type": "stream",
     "text": [
      "  Batch size = 1\n"
     ]
    },
    {
     "name": "stderr",
     "output_type": "stream",
     "text": [
      "Saving model checkpoint to saved_models/XLNetDepr-3_256_8-ALL_NA-PEL-BS1-GWS_PCC_IT192_DH_3LMAEALPHANA_NZ20_PNTh0.05_AnnotThresh0.5/checkpoint-370388\n"
     ]
    },
    {
     "name": "stderr",
     "output_type": "stream",
     "text": [
      "Configuration saved in saved_models/XLNetDepr-3_256_8-ALL_NA-PEL-BS1-GWS_PCC_IT192_DH_3LMAEALPHANA_NZ20_PNTh0.05_AnnotThresh0.5/checkpoint-370388/config.json\n"
     ]
    },
    {
     "name": "stderr",
     "output_type": "stream",
     "text": [
      "Model weights saved in saved_models/XLNetDepr-3_256_8-ALL_NA-PEL-BS1-GWS_PCC_IT192_DH_3LMAEALPHANA_NZ20_PNTh0.05_AnnotThresh0.5/checkpoint-370388/pytorch_model.bin\n"
     ]
    },
    {
     "name": "stderr",
     "output_type": "stream",
     "text": [
      "Deleting older checkpoint [saved_models/XLNetDepr-3_256_8-ALL_NA-PEL-BS1-GWS_PCC_IT192_DH_3LMAEALPHANA_NZ20_PNTh0.05_AnnotThresh0.5/checkpoint-344844] due to args.save_total_limit\n"
     ]
    },
    {
     "name": "stderr",
     "output_type": "stream",
     "text": [
      "***** Running Evaluation *****\n"
     ]
    },
    {
     "name": "stderr",
     "output_type": "stream",
     "text": [
      "  Num examples = 1592\n"
     ]
    },
    {
     "name": "stderr",
     "output_type": "stream",
     "text": [
      "  Batch size = 1\n"
     ]
    },
    {
     "name": "stderr",
     "output_type": "stream",
     "text": [
      "Saving model checkpoint to saved_models/XLNetDepr-3_256_8-ALL_NA-PEL-BS1-GWS_PCC_IT192_DH_3LMAEALPHANA_NZ20_PNTh0.05_AnnotThresh0.5/checkpoint-376774\n"
     ]
    },
    {
     "name": "stderr",
     "output_type": "stream",
     "text": [
      "Configuration saved in saved_models/XLNetDepr-3_256_8-ALL_NA-PEL-BS1-GWS_PCC_IT192_DH_3LMAEALPHANA_NZ20_PNTh0.05_AnnotThresh0.5/checkpoint-376774/config.json\n"
     ]
    },
    {
     "name": "stderr",
     "output_type": "stream",
     "text": [
      "Model weights saved in saved_models/XLNetDepr-3_256_8-ALL_NA-PEL-BS1-GWS_PCC_IT192_DH_3LMAEALPHANA_NZ20_PNTh0.05_AnnotThresh0.5/checkpoint-376774/pytorch_model.bin\n"
     ]
    },
    {
     "name": "stderr",
     "output_type": "stream",
     "text": [
      "Deleting older checkpoint [saved_models/XLNetDepr-3_256_8-ALL_NA-PEL-BS1-GWS_PCC_IT192_DH_3LMAEALPHANA_NZ20_PNTh0.05_AnnotThresh0.5/checkpoint-351230] due to args.save_total_limit\n"
     ]
    },
    {
     "name": "stderr",
     "output_type": "stream",
     "text": [
      "***** Running Evaluation *****\n"
     ]
    },
    {
     "name": "stderr",
     "output_type": "stream",
     "text": [
      "  Num examples = 1592\n"
     ]
    },
    {
     "name": "stderr",
     "output_type": "stream",
     "text": [
      "  Batch size = 1\n"
     ]
    },
    {
     "name": "stderr",
     "output_type": "stream",
     "text": [
      "Saving model checkpoint to saved_models/XLNetDepr-3_256_8-ALL_NA-PEL-BS1-GWS_PCC_IT192_DH_3LMAEALPHANA_NZ20_PNTh0.05_AnnotThresh0.5/checkpoint-383160\n"
     ]
    },
    {
     "name": "stderr",
     "output_type": "stream",
     "text": [
      "Configuration saved in saved_models/XLNetDepr-3_256_8-ALL_NA-PEL-BS1-GWS_PCC_IT192_DH_3LMAEALPHANA_NZ20_PNTh0.05_AnnotThresh0.5/checkpoint-383160/config.json\n"
     ]
    },
    {
     "name": "stderr",
     "output_type": "stream",
     "text": [
      "Model weights saved in saved_models/XLNetDepr-3_256_8-ALL_NA-PEL-BS1-GWS_PCC_IT192_DH_3LMAEALPHANA_NZ20_PNTh0.05_AnnotThresh0.5/checkpoint-383160/pytorch_model.bin\n"
     ]
    },
    {
     "name": "stderr",
     "output_type": "stream",
     "text": [
      "Deleting older checkpoint [saved_models/XLNetDepr-3_256_8-ALL_NA-PEL-BS1-GWS_PCC_IT192_DH_3LMAEALPHANA_NZ20_PNTh0.05_AnnotThresh0.5/checkpoint-357616] due to args.save_total_limit\n"
     ]
    },
    {
     "name": "stderr",
     "output_type": "stream",
     "text": [
      "***** Running Evaluation *****\n"
     ]
    },
    {
     "name": "stderr",
     "output_type": "stream",
     "text": [
      "  Num examples = 1592\n"
     ]
    },
    {
     "name": "stderr",
     "output_type": "stream",
     "text": [
      "  Batch size = 1\n"
     ]
    },
    {
     "name": "stderr",
     "output_type": "stream",
     "text": [
      "Saving model checkpoint to saved_models/XLNetDepr-3_256_8-ALL_NA-PEL-BS1-GWS_PCC_IT192_DH_3LMAEALPHANA_NZ20_PNTh0.05_AnnotThresh0.5/checkpoint-389546\n"
     ]
    },
    {
     "name": "stderr",
     "output_type": "stream",
     "text": [
      "Configuration saved in saved_models/XLNetDepr-3_256_8-ALL_NA-PEL-BS1-GWS_PCC_IT192_DH_3LMAEALPHANA_NZ20_PNTh0.05_AnnotThresh0.5/checkpoint-389546/config.json\n"
     ]
    },
    {
     "name": "stderr",
     "output_type": "stream",
     "text": [
      "Model weights saved in saved_models/XLNetDepr-3_256_8-ALL_NA-PEL-BS1-GWS_PCC_IT192_DH_3LMAEALPHANA_NZ20_PNTh0.05_AnnotThresh0.5/checkpoint-389546/pytorch_model.bin\n"
     ]
    },
    {
     "name": "stderr",
     "output_type": "stream",
     "text": [
      "Deleting older checkpoint [saved_models/XLNetDepr-3_256_8-ALL_NA-PEL-BS1-GWS_PCC_IT192_DH_3LMAEALPHANA_NZ20_PNTh0.05_AnnotThresh0.5/checkpoint-364002] due to args.save_total_limit\n"
     ]
    },
    {
     "name": "stderr",
     "output_type": "stream",
     "text": [
      "***** Running Evaluation *****\n"
     ]
    },
    {
     "name": "stderr",
     "output_type": "stream",
     "text": [
      "  Num examples = 1592\n"
     ]
    },
    {
     "name": "stderr",
     "output_type": "stream",
     "text": [
      "  Batch size = 1\n"
     ]
    },
    {
     "name": "stderr",
     "output_type": "stream",
     "text": [
      "Saving model checkpoint to saved_models/XLNetDepr-3_256_8-ALL_NA-PEL-BS1-GWS_PCC_IT192_DH_3LMAEALPHANA_NZ20_PNTh0.05_AnnotThresh0.5/checkpoint-395932\n"
     ]
    },
    {
     "name": "stderr",
     "output_type": "stream",
     "text": [
      "Configuration saved in saved_models/XLNetDepr-3_256_8-ALL_NA-PEL-BS1-GWS_PCC_IT192_DH_3LMAEALPHANA_NZ20_PNTh0.05_AnnotThresh0.5/checkpoint-395932/config.json\n"
     ]
    },
    {
     "name": "stderr",
     "output_type": "stream",
     "text": [
      "Model weights saved in saved_models/XLNetDepr-3_256_8-ALL_NA-PEL-BS1-GWS_PCC_IT192_DH_3LMAEALPHANA_NZ20_PNTh0.05_AnnotThresh0.5/checkpoint-395932/pytorch_model.bin\n"
     ]
    },
    {
     "name": "stderr",
     "output_type": "stream",
     "text": [
      "Deleting older checkpoint [saved_models/XLNetDepr-3_256_8-ALL_NA-PEL-BS1-GWS_PCC_IT192_DH_3LMAEALPHANA_NZ20_PNTh0.05_AnnotThresh0.5/checkpoint-223510] due to args.save_total_limit\n"
     ]
    },
    {
     "name": "stderr",
     "output_type": "stream",
     "text": [
      "***** Running Evaluation *****\n"
     ]
    },
    {
     "name": "stderr",
     "output_type": "stream",
     "text": [
      "  Num examples = 1592\n"
     ]
    },
    {
     "name": "stderr",
     "output_type": "stream",
     "text": [
      "  Batch size = 1\n"
     ]
    },
    {
     "name": "stderr",
     "output_type": "stream",
     "text": [
      "Saving model checkpoint to saved_models/XLNetDepr-3_256_8-ALL_NA-PEL-BS1-GWS_PCC_IT192_DH_3LMAEALPHANA_NZ20_PNTh0.05_AnnotThresh0.5/checkpoint-402318\n"
     ]
    },
    {
     "name": "stderr",
     "output_type": "stream",
     "text": [
      "Configuration saved in saved_models/XLNetDepr-3_256_8-ALL_NA-PEL-BS1-GWS_PCC_IT192_DH_3LMAEALPHANA_NZ20_PNTh0.05_AnnotThresh0.5/checkpoint-402318/config.json\n"
     ]
    },
    {
     "name": "stderr",
     "output_type": "stream",
     "text": [
      "Model weights saved in saved_models/XLNetDepr-3_256_8-ALL_NA-PEL-BS1-GWS_PCC_IT192_DH_3LMAEALPHANA_NZ20_PNTh0.05_AnnotThresh0.5/checkpoint-402318/pytorch_model.bin\n"
     ]
    },
    {
     "name": "stderr",
     "output_type": "stream",
     "text": [
      "Deleting older checkpoint [saved_models/XLNetDepr-3_256_8-ALL_NA-PEL-BS1-GWS_PCC_IT192_DH_3LMAEALPHANA_NZ20_PNTh0.05_AnnotThresh0.5/checkpoint-370388] due to args.save_total_limit\n"
     ]
    },
    {
     "name": "stderr",
     "output_type": "stream",
     "text": [
      "***** Running Evaluation *****\n"
     ]
    },
    {
     "name": "stderr",
     "output_type": "stream",
     "text": [
      "  Num examples = 1592\n"
     ]
    },
    {
     "name": "stderr",
     "output_type": "stream",
     "text": [
      "  Batch size = 1\n"
     ]
    },
    {
     "name": "stderr",
     "output_type": "stream",
     "text": [
      "Saving model checkpoint to saved_models/XLNetDepr-3_256_8-ALL_NA-PEL-BS1-GWS_PCC_IT192_DH_3LMAEALPHANA_NZ20_PNTh0.05_AnnotThresh0.5/checkpoint-408704\n"
     ]
    },
    {
     "name": "stderr",
     "output_type": "stream",
     "text": [
      "Configuration saved in saved_models/XLNetDepr-3_256_8-ALL_NA-PEL-BS1-GWS_PCC_IT192_DH_3LMAEALPHANA_NZ20_PNTh0.05_AnnotThresh0.5/checkpoint-408704/config.json\n"
     ]
    },
    {
     "name": "stderr",
     "output_type": "stream",
     "text": [
      "Model weights saved in saved_models/XLNetDepr-3_256_8-ALL_NA-PEL-BS1-GWS_PCC_IT192_DH_3LMAEALPHANA_NZ20_PNTh0.05_AnnotThresh0.5/checkpoint-408704/pytorch_model.bin\n"
     ]
    },
    {
     "name": "stderr",
     "output_type": "stream",
     "text": [
      "Deleting older checkpoint [saved_models/XLNetDepr-3_256_8-ALL_NA-PEL-BS1-GWS_PCC_IT192_DH_3LMAEALPHANA_NZ20_PNTh0.05_AnnotThresh0.5/checkpoint-376774] due to args.save_total_limit\n"
     ]
    },
    {
     "name": "stderr",
     "output_type": "stream",
     "text": [
      "***** Running Evaluation *****\n"
     ]
    },
    {
     "name": "stderr",
     "output_type": "stream",
     "text": [
      "  Num examples = 1592\n"
     ]
    },
    {
     "name": "stderr",
     "output_type": "stream",
     "text": [
      "  Batch size = 1\n"
     ]
    },
    {
     "name": "stderr",
     "output_type": "stream",
     "text": [
      "Saving model checkpoint to saved_models/XLNetDepr-3_256_8-ALL_NA-PEL-BS1-GWS_PCC_IT192_DH_3LMAEALPHANA_NZ20_PNTh0.05_AnnotThresh0.5/checkpoint-415090\n"
     ]
    },
    {
     "name": "stderr",
     "output_type": "stream",
     "text": [
      "Configuration saved in saved_models/XLNetDepr-3_256_8-ALL_NA-PEL-BS1-GWS_PCC_IT192_DH_3LMAEALPHANA_NZ20_PNTh0.05_AnnotThresh0.5/checkpoint-415090/config.json\n"
     ]
    },
    {
     "name": "stderr",
     "output_type": "stream",
     "text": [
      "Model weights saved in saved_models/XLNetDepr-3_256_8-ALL_NA-PEL-BS1-GWS_PCC_IT192_DH_3LMAEALPHANA_NZ20_PNTh0.05_AnnotThresh0.5/checkpoint-415090/pytorch_model.bin\n"
     ]
    },
    {
     "name": "stderr",
     "output_type": "stream",
     "text": [
      "Deleting older checkpoint [saved_models/XLNetDepr-3_256_8-ALL_NA-PEL-BS1-GWS_PCC_IT192_DH_3LMAEALPHANA_NZ20_PNTh0.05_AnnotThresh0.5/checkpoint-383160] due to args.save_total_limit\n"
     ]
    },
    {
     "name": "stderr",
     "output_type": "stream",
     "text": [
      "***** Running Evaluation *****\n"
     ]
    },
    {
     "name": "stderr",
     "output_type": "stream",
     "text": [
      "  Num examples = 1592\n"
     ]
    },
    {
     "name": "stderr",
     "output_type": "stream",
     "text": [
      "  Batch size = 1\n"
     ]
    },
    {
     "name": "stderr",
     "output_type": "stream",
     "text": [
      "Saving model checkpoint to saved_models/XLNetDepr-3_256_8-ALL_NA-PEL-BS1-GWS_PCC_IT192_DH_3LMAEALPHANA_NZ20_PNTh0.05_AnnotThresh0.5/checkpoint-421476\n"
     ]
    },
    {
     "name": "stderr",
     "output_type": "stream",
     "text": [
      "Configuration saved in saved_models/XLNetDepr-3_256_8-ALL_NA-PEL-BS1-GWS_PCC_IT192_DH_3LMAEALPHANA_NZ20_PNTh0.05_AnnotThresh0.5/checkpoint-421476/config.json\n"
     ]
    },
    {
     "name": "stderr",
     "output_type": "stream",
     "text": [
      "Model weights saved in saved_models/XLNetDepr-3_256_8-ALL_NA-PEL-BS1-GWS_PCC_IT192_DH_3LMAEALPHANA_NZ20_PNTh0.05_AnnotThresh0.5/checkpoint-421476/pytorch_model.bin\n"
     ]
    },
    {
     "name": "stderr",
     "output_type": "stream",
     "text": [
      "Deleting older checkpoint [saved_models/XLNetDepr-3_256_8-ALL_NA-PEL-BS1-GWS_PCC_IT192_DH_3LMAEALPHANA_NZ20_PNTh0.05_AnnotThresh0.5/checkpoint-389546] due to args.save_total_limit\n"
     ]
    },
    {
     "name": "stderr",
     "output_type": "stream",
     "text": [
      "***** Running Evaluation *****\n"
     ]
    },
    {
     "name": "stderr",
     "output_type": "stream",
     "text": [
      "  Num examples = 1592\n"
     ]
    },
    {
     "name": "stderr",
     "output_type": "stream",
     "text": [
      "  Batch size = 1\n"
     ]
    },
    {
     "name": "stderr",
     "output_type": "stream",
     "text": [
      "Saving model checkpoint to saved_models/XLNetDepr-3_256_8-ALL_NA-PEL-BS1-GWS_PCC_IT192_DH_3LMAEALPHANA_NZ20_PNTh0.05_AnnotThresh0.5/checkpoint-427862\n"
     ]
    },
    {
     "name": "stderr",
     "output_type": "stream",
     "text": [
      "Configuration saved in saved_models/XLNetDepr-3_256_8-ALL_NA-PEL-BS1-GWS_PCC_IT192_DH_3LMAEALPHANA_NZ20_PNTh0.05_AnnotThresh0.5/checkpoint-427862/config.json\n"
     ]
    },
    {
     "name": "stderr",
     "output_type": "stream",
     "text": [
      "Model weights saved in saved_models/XLNetDepr-3_256_8-ALL_NA-PEL-BS1-GWS_PCC_IT192_DH_3LMAEALPHANA_NZ20_PNTh0.05_AnnotThresh0.5/checkpoint-427862/pytorch_model.bin\n"
     ]
    },
    {
     "name": "stderr",
     "output_type": "stream",
     "text": [
      "Deleting older checkpoint [saved_models/XLNetDepr-3_256_8-ALL_NA-PEL-BS1-GWS_PCC_IT192_DH_3LMAEALPHANA_NZ20_PNTh0.05_AnnotThresh0.5/checkpoint-395932] due to args.save_total_limit\n"
     ]
    },
    {
     "name": "stderr",
     "output_type": "stream",
     "text": [
      "***** Running Evaluation *****\n"
     ]
    },
    {
     "name": "stderr",
     "output_type": "stream",
     "text": [
      "  Num examples = 1592\n"
     ]
    },
    {
     "name": "stderr",
     "output_type": "stream",
     "text": [
      "  Batch size = 1\n"
     ]
    },
    {
     "name": "stderr",
     "output_type": "stream",
     "text": [
      "Saving model checkpoint to saved_models/XLNetDepr-3_256_8-ALL_NA-PEL-BS1-GWS_PCC_IT192_DH_3LMAEALPHANA_NZ20_PNTh0.05_AnnotThresh0.5/checkpoint-434248\n"
     ]
    },
    {
     "name": "stderr",
     "output_type": "stream",
     "text": [
      "Configuration saved in saved_models/XLNetDepr-3_256_8-ALL_NA-PEL-BS1-GWS_PCC_IT192_DH_3LMAEALPHANA_NZ20_PNTh0.05_AnnotThresh0.5/checkpoint-434248/config.json\n"
     ]
    },
    {
     "name": "stderr",
     "output_type": "stream",
     "text": [
      "Model weights saved in saved_models/XLNetDepr-3_256_8-ALL_NA-PEL-BS1-GWS_PCC_IT192_DH_3LMAEALPHANA_NZ20_PNTh0.05_AnnotThresh0.5/checkpoint-434248/pytorch_model.bin\n"
     ]
    },
    {
     "name": "stderr",
     "output_type": "stream",
     "text": [
      "Deleting older checkpoint [saved_models/XLNetDepr-3_256_8-ALL_NA-PEL-BS1-GWS_PCC_IT192_DH_3LMAEALPHANA_NZ20_PNTh0.05_AnnotThresh0.5/checkpoint-402318] due to args.save_total_limit\n"
     ]
    },
    {
     "name": "stderr",
     "output_type": "stream",
     "text": [
      "***** Running Evaluation *****\n"
     ]
    },
    {
     "name": "stderr",
     "output_type": "stream",
     "text": [
      "  Num examples = 1592\n"
     ]
    },
    {
     "name": "stderr",
     "output_type": "stream",
     "text": [
      "  Batch size = 1\n"
     ]
    },
    {
     "name": "stderr",
     "output_type": "stream",
     "text": [
      "Saving model checkpoint to saved_models/XLNetDepr-3_256_8-ALL_NA-PEL-BS1-GWS_PCC_IT192_DH_3LMAEALPHANA_NZ20_PNTh0.05_AnnotThresh0.5/checkpoint-440634\n"
     ]
    },
    {
     "name": "stderr",
     "output_type": "stream",
     "text": [
      "Configuration saved in saved_models/XLNetDepr-3_256_8-ALL_NA-PEL-BS1-GWS_PCC_IT192_DH_3LMAEALPHANA_NZ20_PNTh0.05_AnnotThresh0.5/checkpoint-440634/config.json\n"
     ]
    },
    {
     "name": "stderr",
     "output_type": "stream",
     "text": [
      "Model weights saved in saved_models/XLNetDepr-3_256_8-ALL_NA-PEL-BS1-GWS_PCC_IT192_DH_3LMAEALPHANA_NZ20_PNTh0.05_AnnotThresh0.5/checkpoint-440634/pytorch_model.bin\n"
     ]
    },
    {
     "name": "stderr",
     "output_type": "stream",
     "text": [
      "Deleting older checkpoint [saved_models/XLNetDepr-3_256_8-ALL_NA-PEL-BS1-GWS_PCC_IT192_DH_3LMAEALPHANA_NZ20_PNTh0.05_AnnotThresh0.5/checkpoint-415090] due to args.save_total_limit\n"
     ]
    },
    {
     "name": "stderr",
     "output_type": "stream",
     "text": [
      "***** Running Evaluation *****\n"
     ]
    },
    {
     "name": "stderr",
     "output_type": "stream",
     "text": [
      "  Num examples = 1592\n"
     ]
    },
    {
     "name": "stderr",
     "output_type": "stream",
     "text": [
      "  Batch size = 1\n"
     ]
    },
    {
     "name": "stderr",
     "output_type": "stream",
     "text": [
      "Saving model checkpoint to saved_models/XLNetDepr-3_256_8-ALL_NA-PEL-BS1-GWS_PCC_IT192_DH_3LMAEALPHANA_NZ20_PNTh0.05_AnnotThresh0.5/checkpoint-447020\n"
     ]
    },
    {
     "name": "stderr",
     "output_type": "stream",
     "text": [
      "Configuration saved in saved_models/XLNetDepr-3_256_8-ALL_NA-PEL-BS1-GWS_PCC_IT192_DH_3LMAEALPHANA_NZ20_PNTh0.05_AnnotThresh0.5/checkpoint-447020/config.json\n"
     ]
    },
    {
     "name": "stderr",
     "output_type": "stream",
     "text": [
      "Model weights saved in saved_models/XLNetDepr-3_256_8-ALL_NA-PEL-BS1-GWS_PCC_IT192_DH_3LMAEALPHANA_NZ20_PNTh0.05_AnnotThresh0.5/checkpoint-447020/pytorch_model.bin\n"
     ]
    },
    {
     "name": "stderr",
     "output_type": "stream",
     "text": [
      "Deleting older checkpoint [saved_models/XLNetDepr-3_256_8-ALL_NA-PEL-BS1-GWS_PCC_IT192_DH_3LMAEALPHANA_NZ20_PNTh0.05_AnnotThresh0.5/checkpoint-421476] due to args.save_total_limit\n"
     ]
    },
    {
     "name": "stderr",
     "output_type": "stream",
     "text": [
      "***** Running Evaluation *****\n"
     ]
    },
    {
     "name": "stderr",
     "output_type": "stream",
     "text": [
      "  Num examples = 1592\n"
     ]
    },
    {
     "name": "stderr",
     "output_type": "stream",
     "text": [
      "  Batch size = 1\n"
     ]
    },
    {
     "name": "stderr",
     "output_type": "stream",
     "text": [
      "Saving model checkpoint to saved_models/XLNetDepr-3_256_8-ALL_NA-PEL-BS1-GWS_PCC_IT192_DH_3LMAEALPHANA_NZ20_PNTh0.05_AnnotThresh0.5/checkpoint-453406\n"
     ]
    },
    {
     "name": "stderr",
     "output_type": "stream",
     "text": [
      "Configuration saved in saved_models/XLNetDepr-3_256_8-ALL_NA-PEL-BS1-GWS_PCC_IT192_DH_3LMAEALPHANA_NZ20_PNTh0.05_AnnotThresh0.5/checkpoint-453406/config.json\n"
     ]
    },
    {
     "name": "stderr",
     "output_type": "stream",
     "text": [
      "Model weights saved in saved_models/XLNetDepr-3_256_8-ALL_NA-PEL-BS1-GWS_PCC_IT192_DH_3LMAEALPHANA_NZ20_PNTh0.05_AnnotThresh0.5/checkpoint-453406/pytorch_model.bin\n"
     ]
    },
    {
     "name": "stderr",
     "output_type": "stream",
     "text": [
      "Deleting older checkpoint [saved_models/XLNetDepr-3_256_8-ALL_NA-PEL-BS1-GWS_PCC_IT192_DH_3LMAEALPHANA_NZ20_PNTh0.05_AnnotThresh0.5/checkpoint-427862] due to args.save_total_limit\n"
     ]
    },
    {
     "name": "stderr",
     "output_type": "stream",
     "text": [
      "***** Running Evaluation *****\n"
     ]
    },
    {
     "name": "stderr",
     "output_type": "stream",
     "text": [
      "  Num examples = 1592\n"
     ]
    },
    {
     "name": "stderr",
     "output_type": "stream",
     "text": [
      "  Batch size = 1\n"
     ]
    },
    {
     "name": "stderr",
     "output_type": "stream",
     "text": [
      "Saving model checkpoint to saved_models/XLNetDepr-3_256_8-ALL_NA-PEL-BS1-GWS_PCC_IT192_DH_3LMAEALPHANA_NZ20_PNTh0.05_AnnotThresh0.5/checkpoint-459792\n"
     ]
    },
    {
     "name": "stderr",
     "output_type": "stream",
     "text": [
      "Configuration saved in saved_models/XLNetDepr-3_256_8-ALL_NA-PEL-BS1-GWS_PCC_IT192_DH_3LMAEALPHANA_NZ20_PNTh0.05_AnnotThresh0.5/checkpoint-459792/config.json\n"
     ]
    },
    {
     "name": "stderr",
     "output_type": "stream",
     "text": [
      "Model weights saved in saved_models/XLNetDepr-3_256_8-ALL_NA-PEL-BS1-GWS_PCC_IT192_DH_3LMAEALPHANA_NZ20_PNTh0.05_AnnotThresh0.5/checkpoint-459792/pytorch_model.bin\n"
     ]
    },
    {
     "name": "stderr",
     "output_type": "stream",
     "text": [
      "Deleting older checkpoint [saved_models/XLNetDepr-3_256_8-ALL_NA-PEL-BS1-GWS_PCC_IT192_DH_3LMAEALPHANA_NZ20_PNTh0.05_AnnotThresh0.5/checkpoint-434248] due to args.save_total_limit\n"
     ]
    },
    {
     "name": "stderr",
     "output_type": "stream",
     "text": [
      "***** Running Evaluation *****\n"
     ]
    },
    {
     "name": "stderr",
     "output_type": "stream",
     "text": [
      "  Num examples = 1592\n"
     ]
    },
    {
     "name": "stderr",
     "output_type": "stream",
     "text": [
      "  Batch size = 1\n"
     ]
    },
    {
     "name": "stderr",
     "output_type": "stream",
     "text": [
      "Saving model checkpoint to saved_models/XLNetDepr-3_256_8-ALL_NA-PEL-BS1-GWS_PCC_IT192_DH_3LMAEALPHANA_NZ20_PNTh0.05_AnnotThresh0.5/checkpoint-466178\n"
     ]
    },
    {
     "name": "stderr",
     "output_type": "stream",
     "text": [
      "Configuration saved in saved_models/XLNetDepr-3_256_8-ALL_NA-PEL-BS1-GWS_PCC_IT192_DH_3LMAEALPHANA_NZ20_PNTh0.05_AnnotThresh0.5/checkpoint-466178/config.json\n"
     ]
    },
    {
     "name": "stderr",
     "output_type": "stream",
     "text": [
      "Model weights saved in saved_models/XLNetDepr-3_256_8-ALL_NA-PEL-BS1-GWS_PCC_IT192_DH_3LMAEALPHANA_NZ20_PNTh0.05_AnnotThresh0.5/checkpoint-466178/pytorch_model.bin\n"
     ]
    },
    {
     "name": "stderr",
     "output_type": "stream",
     "text": [
      "Deleting older checkpoint [saved_models/XLNetDepr-3_256_8-ALL_NA-PEL-BS1-GWS_PCC_IT192_DH_3LMAEALPHANA_NZ20_PNTh0.05_AnnotThresh0.5/checkpoint-440634] due to args.save_total_limit\n"
     ]
    },
    {
     "name": "stderr",
     "output_type": "stream",
     "text": [
      "***** Running Evaluation *****\n"
     ]
    },
    {
     "name": "stderr",
     "output_type": "stream",
     "text": [
      "  Num examples = 1592\n"
     ]
    },
    {
     "name": "stderr",
     "output_type": "stream",
     "text": [
      "  Batch size = 1\n"
     ]
    },
    {
     "name": "stderr",
     "output_type": "stream",
     "text": [
      "Saving model checkpoint to saved_models/XLNetDepr-3_256_8-ALL_NA-PEL-BS1-GWS_PCC_IT192_DH_3LMAEALPHANA_NZ20_PNTh0.05_AnnotThresh0.5/checkpoint-472564\n"
     ]
    },
    {
     "name": "stderr",
     "output_type": "stream",
     "text": [
      "Configuration saved in saved_models/XLNetDepr-3_256_8-ALL_NA-PEL-BS1-GWS_PCC_IT192_DH_3LMAEALPHANA_NZ20_PNTh0.05_AnnotThresh0.5/checkpoint-472564/config.json\n"
     ]
    },
    {
     "name": "stderr",
     "output_type": "stream",
     "text": [
      "Model weights saved in saved_models/XLNetDepr-3_256_8-ALL_NA-PEL-BS1-GWS_PCC_IT192_DH_3LMAEALPHANA_NZ20_PNTh0.05_AnnotThresh0.5/checkpoint-472564/pytorch_model.bin\n"
     ]
    },
    {
     "name": "stderr",
     "output_type": "stream",
     "text": [
      "Deleting older checkpoint [saved_models/XLNetDepr-3_256_8-ALL_NA-PEL-BS1-GWS_PCC_IT192_DH_3LMAEALPHANA_NZ20_PNTh0.05_AnnotThresh0.5/checkpoint-447020] due to args.save_total_limit\n"
     ]
    },
    {
     "name": "stderr",
     "output_type": "stream",
     "text": [
      "***** Running Evaluation *****\n"
     ]
    },
    {
     "name": "stderr",
     "output_type": "stream",
     "text": [
      "  Num examples = 1592\n"
     ]
    },
    {
     "name": "stderr",
     "output_type": "stream",
     "text": [
      "  Batch size = 1\n"
     ]
    },
    {
     "name": "stderr",
     "output_type": "stream",
     "text": [
      "Saving model checkpoint to saved_models/XLNetDepr-3_256_8-ALL_NA-PEL-BS1-GWS_PCC_IT192_DH_3LMAEALPHANA_NZ20_PNTh0.05_AnnotThresh0.5/checkpoint-478950\n"
     ]
    },
    {
     "name": "stderr",
     "output_type": "stream",
     "text": [
      "Configuration saved in saved_models/XLNetDepr-3_256_8-ALL_NA-PEL-BS1-GWS_PCC_IT192_DH_3LMAEALPHANA_NZ20_PNTh0.05_AnnotThresh0.5/checkpoint-478950/config.json\n"
     ]
    },
    {
     "name": "stderr",
     "output_type": "stream",
     "text": [
      "Model weights saved in saved_models/XLNetDepr-3_256_8-ALL_NA-PEL-BS1-GWS_PCC_IT192_DH_3LMAEALPHANA_NZ20_PNTh0.05_AnnotThresh0.5/checkpoint-478950/pytorch_model.bin\n"
     ]
    },
    {
     "name": "stderr",
     "output_type": "stream",
     "text": [
      "Deleting older checkpoint [saved_models/XLNetDepr-3_256_8-ALL_NA-PEL-BS1-GWS_PCC_IT192_DH_3LMAEALPHANA_NZ20_PNTh0.05_AnnotThresh0.5/checkpoint-453406] due to args.save_total_limit\n"
     ]
    },
    {
     "name": "stderr",
     "output_type": "stream",
     "text": [
      "***** Running Evaluation *****\n"
     ]
    },
    {
     "name": "stderr",
     "output_type": "stream",
     "text": [
      "  Num examples = 1592\n"
     ]
    },
    {
     "name": "stderr",
     "output_type": "stream",
     "text": [
      "  Batch size = 1\n"
     ]
    },
    {
     "name": "stderr",
     "output_type": "stream",
     "text": [
      "Saving model checkpoint to saved_models/XLNetDepr-3_256_8-ALL_NA-PEL-BS1-GWS_PCC_IT192_DH_3LMAEALPHANA_NZ20_PNTh0.05_AnnotThresh0.5/checkpoint-485336\n"
     ]
    },
    {
     "name": "stderr",
     "output_type": "stream",
     "text": [
      "Configuration saved in saved_models/XLNetDepr-3_256_8-ALL_NA-PEL-BS1-GWS_PCC_IT192_DH_3LMAEALPHANA_NZ20_PNTh0.05_AnnotThresh0.5/checkpoint-485336/config.json\n"
     ]
    },
    {
     "name": "stderr",
     "output_type": "stream",
     "text": [
      "Model weights saved in saved_models/XLNetDepr-3_256_8-ALL_NA-PEL-BS1-GWS_PCC_IT192_DH_3LMAEALPHANA_NZ20_PNTh0.05_AnnotThresh0.5/checkpoint-485336/pytorch_model.bin\n"
     ]
    },
    {
     "name": "stderr",
     "output_type": "stream",
     "text": [
      "Deleting older checkpoint [saved_models/XLNetDepr-3_256_8-ALL_NA-PEL-BS1-GWS_PCC_IT192_DH_3LMAEALPHANA_NZ20_PNTh0.05_AnnotThresh0.5/checkpoint-459792] due to args.save_total_limit\n"
     ]
    },
    {
     "name": "stderr",
     "output_type": "stream",
     "text": [
      "***** Running Evaluation *****\n"
     ]
    },
    {
     "name": "stderr",
     "output_type": "stream",
     "text": [
      "  Num examples = 1592\n"
     ]
    },
    {
     "name": "stderr",
     "output_type": "stream",
     "text": [
      "  Batch size = 1\n"
     ]
    },
    {
     "name": "stderr",
     "output_type": "stream",
     "text": [
      "Saving model checkpoint to saved_models/XLNetDepr-3_256_8-ALL_NA-PEL-BS1-GWS_PCC_IT192_DH_3LMAEALPHANA_NZ20_PNTh0.05_AnnotThresh0.5/checkpoint-491722\n"
     ]
    },
    {
     "name": "stderr",
     "output_type": "stream",
     "text": [
      "Configuration saved in saved_models/XLNetDepr-3_256_8-ALL_NA-PEL-BS1-GWS_PCC_IT192_DH_3LMAEALPHANA_NZ20_PNTh0.05_AnnotThresh0.5/checkpoint-491722/config.json\n"
     ]
    },
    {
     "name": "stderr",
     "output_type": "stream",
     "text": [
      "Model weights saved in saved_models/XLNetDepr-3_256_8-ALL_NA-PEL-BS1-GWS_PCC_IT192_DH_3LMAEALPHANA_NZ20_PNTh0.05_AnnotThresh0.5/checkpoint-491722/pytorch_model.bin\n"
     ]
    },
    {
     "name": "stderr",
     "output_type": "stream",
     "text": [
      "Deleting older checkpoint [saved_models/XLNetDepr-3_256_8-ALL_NA-PEL-BS1-GWS_PCC_IT192_DH_3LMAEALPHANA_NZ20_PNTh0.05_AnnotThresh0.5/checkpoint-466178] due to args.save_total_limit\n"
     ]
    },
    {
     "name": "stderr",
     "output_type": "stream",
     "text": [
      "***** Running Evaluation *****\n"
     ]
    },
    {
     "name": "stderr",
     "output_type": "stream",
     "text": [
      "  Num examples = 1592\n"
     ]
    },
    {
     "name": "stderr",
     "output_type": "stream",
     "text": [
      "  Batch size = 1\n"
     ]
    },
    {
     "name": "stderr",
     "output_type": "stream",
     "text": [
      "Saving model checkpoint to saved_models/XLNetDepr-3_256_8-ALL_NA-PEL-BS1-GWS_PCC_IT192_DH_3LMAEALPHANA_NZ20_PNTh0.05_AnnotThresh0.5/checkpoint-498108\n"
     ]
    },
    {
     "name": "stderr",
     "output_type": "stream",
     "text": [
      "Configuration saved in saved_models/XLNetDepr-3_256_8-ALL_NA-PEL-BS1-GWS_PCC_IT192_DH_3LMAEALPHANA_NZ20_PNTh0.05_AnnotThresh0.5/checkpoint-498108/config.json\n"
     ]
    },
    {
     "name": "stderr",
     "output_type": "stream",
     "text": [
      "Model weights saved in saved_models/XLNetDepr-3_256_8-ALL_NA-PEL-BS1-GWS_PCC_IT192_DH_3LMAEALPHANA_NZ20_PNTh0.05_AnnotThresh0.5/checkpoint-498108/pytorch_model.bin\n"
     ]
    },
    {
     "name": "stderr",
     "output_type": "stream",
     "text": [
      "Deleting older checkpoint [saved_models/XLNetDepr-3_256_8-ALL_NA-PEL-BS1-GWS_PCC_IT192_DH_3LMAEALPHANA_NZ20_PNTh0.05_AnnotThresh0.5/checkpoint-472564] due to args.save_total_limit\n"
     ]
    },
    {
     "name": "stderr",
     "output_type": "stream",
     "text": [
      "***** Running Evaluation *****\n"
     ]
    },
    {
     "name": "stderr",
     "output_type": "stream",
     "text": [
      "  Num examples = 1592\n"
     ]
    },
    {
     "name": "stderr",
     "output_type": "stream",
     "text": [
      "  Batch size = 1\n"
     ]
    },
    {
     "name": "stderr",
     "output_type": "stream",
     "text": [
      "Saving model checkpoint to saved_models/XLNetDepr-3_256_8-ALL_NA-PEL-BS1-GWS_PCC_IT192_DH_3LMAEALPHANA_NZ20_PNTh0.05_AnnotThresh0.5/checkpoint-504494\n"
     ]
    },
    {
     "name": "stderr",
     "output_type": "stream",
     "text": [
      "Configuration saved in saved_models/XLNetDepr-3_256_8-ALL_NA-PEL-BS1-GWS_PCC_IT192_DH_3LMAEALPHANA_NZ20_PNTh0.05_AnnotThresh0.5/checkpoint-504494/config.json\n"
     ]
    },
    {
     "name": "stderr",
     "output_type": "stream",
     "text": [
      "Model weights saved in saved_models/XLNetDepr-3_256_8-ALL_NA-PEL-BS1-GWS_PCC_IT192_DH_3LMAEALPHANA_NZ20_PNTh0.05_AnnotThresh0.5/checkpoint-504494/pytorch_model.bin\n"
     ]
    },
    {
     "name": "stderr",
     "output_type": "stream",
     "text": [
      "Deleting older checkpoint [saved_models/XLNetDepr-3_256_8-ALL_NA-PEL-BS1-GWS_PCC_IT192_DH_3LMAEALPHANA_NZ20_PNTh0.05_AnnotThresh0.5/checkpoint-478950] due to args.save_total_limit\n"
     ]
    },
    {
     "name": "stderr",
     "output_type": "stream",
     "text": [
      "***** Running Evaluation *****\n"
     ]
    },
    {
     "name": "stderr",
     "output_type": "stream",
     "text": [
      "  Num examples = 1592\n"
     ]
    },
    {
     "name": "stderr",
     "output_type": "stream",
     "text": [
      "  Batch size = 1\n"
     ]
    },
    {
     "name": "stderr",
     "output_type": "stream",
     "text": [
      "Saving model checkpoint to saved_models/XLNetDepr-3_256_8-ALL_NA-PEL-BS1-GWS_PCC_IT192_DH_3LMAEALPHANA_NZ20_PNTh0.05_AnnotThresh0.5/checkpoint-510880\n"
     ]
    },
    {
     "name": "stderr",
     "output_type": "stream",
     "text": [
      "Configuration saved in saved_models/XLNetDepr-3_256_8-ALL_NA-PEL-BS1-GWS_PCC_IT192_DH_3LMAEALPHANA_NZ20_PNTh0.05_AnnotThresh0.5/checkpoint-510880/config.json\n"
     ]
    },
    {
     "name": "stderr",
     "output_type": "stream",
     "text": [
      "Model weights saved in saved_models/XLNetDepr-3_256_8-ALL_NA-PEL-BS1-GWS_PCC_IT192_DH_3LMAEALPHANA_NZ20_PNTh0.05_AnnotThresh0.5/checkpoint-510880/pytorch_model.bin\n"
     ]
    },
    {
     "name": "stderr",
     "output_type": "stream",
     "text": [
      "Deleting older checkpoint [saved_models/XLNetDepr-3_256_8-ALL_NA-PEL-BS1-GWS_PCC_IT192_DH_3LMAEALPHANA_NZ20_PNTh0.05_AnnotThresh0.5/checkpoint-485336] due to args.save_total_limit\n"
     ]
    },
    {
     "name": "stderr",
     "output_type": "stream",
     "text": [
      "***** Running Evaluation *****\n"
     ]
    },
    {
     "name": "stderr",
     "output_type": "stream",
     "text": [
      "  Num examples = 1592\n"
     ]
    },
    {
     "name": "stderr",
     "output_type": "stream",
     "text": [
      "  Batch size = 1\n"
     ]
    },
    {
     "name": "stderr",
     "output_type": "stream",
     "text": [
      "Saving model checkpoint to saved_models/XLNetDepr-3_256_8-ALL_NA-PEL-BS1-GWS_PCC_IT192_DH_3LMAEALPHANA_NZ20_PNTh0.05_AnnotThresh0.5/checkpoint-517266\n"
     ]
    },
    {
     "name": "stderr",
     "output_type": "stream",
     "text": [
      "Configuration saved in saved_models/XLNetDepr-3_256_8-ALL_NA-PEL-BS1-GWS_PCC_IT192_DH_3LMAEALPHANA_NZ20_PNTh0.05_AnnotThresh0.5/checkpoint-517266/config.json\n"
     ]
    },
    {
     "name": "stderr",
     "output_type": "stream",
     "text": [
      "Model weights saved in saved_models/XLNetDepr-3_256_8-ALL_NA-PEL-BS1-GWS_PCC_IT192_DH_3LMAEALPHANA_NZ20_PNTh0.05_AnnotThresh0.5/checkpoint-517266/pytorch_model.bin\n"
     ]
    },
    {
     "name": "stderr",
     "output_type": "stream",
     "text": [
      "Deleting older checkpoint [saved_models/XLNetDepr-3_256_8-ALL_NA-PEL-BS1-GWS_PCC_IT192_DH_3LMAEALPHANA_NZ20_PNTh0.05_AnnotThresh0.5/checkpoint-491722] due to args.save_total_limit\n"
     ]
    },
    {
     "name": "stderr",
     "output_type": "stream",
     "text": [
      "***** Running Evaluation *****\n"
     ]
    },
    {
     "name": "stderr",
     "output_type": "stream",
     "text": [
      "  Num examples = 1592\n"
     ]
    },
    {
     "name": "stderr",
     "output_type": "stream",
     "text": [
      "  Batch size = 1\n"
     ]
    },
    {
     "name": "stderr",
     "output_type": "stream",
     "text": [
      "Saving model checkpoint to saved_models/XLNetDepr-3_256_8-ALL_NA-PEL-BS1-GWS_PCC_IT192_DH_3LMAEALPHANA_NZ20_PNTh0.05_AnnotThresh0.5/checkpoint-523652\n"
     ]
    },
    {
     "name": "stderr",
     "output_type": "stream",
     "text": [
      "Configuration saved in saved_models/XLNetDepr-3_256_8-ALL_NA-PEL-BS1-GWS_PCC_IT192_DH_3LMAEALPHANA_NZ20_PNTh0.05_AnnotThresh0.5/checkpoint-523652/config.json\n"
     ]
    },
    {
     "name": "stderr",
     "output_type": "stream",
     "text": [
      "Model weights saved in saved_models/XLNetDepr-3_256_8-ALL_NA-PEL-BS1-GWS_PCC_IT192_DH_3LMAEALPHANA_NZ20_PNTh0.05_AnnotThresh0.5/checkpoint-523652/pytorch_model.bin\n"
     ]
    },
    {
     "name": "stderr",
     "output_type": "stream",
     "text": [
      "Deleting older checkpoint [saved_models/XLNetDepr-3_256_8-ALL_NA-PEL-BS1-GWS_PCC_IT192_DH_3LMAEALPHANA_NZ20_PNTh0.05_AnnotThresh0.5/checkpoint-498108] due to args.save_total_limit\n"
     ]
    },
    {
     "name": "stderr",
     "output_type": "stream",
     "text": [
      "***** Running Evaluation *****\n"
     ]
    },
    {
     "name": "stderr",
     "output_type": "stream",
     "text": [
      "  Num examples = 1592\n"
     ]
    },
    {
     "name": "stderr",
     "output_type": "stream",
     "text": [
      "  Batch size = 1\n"
     ]
    },
    {
     "name": "stderr",
     "output_type": "stream",
     "text": [
      "Saving model checkpoint to saved_models/XLNetDepr-3_256_8-ALL_NA-PEL-BS1-GWS_PCC_IT192_DH_3LMAEALPHANA_NZ20_PNTh0.05_AnnotThresh0.5/checkpoint-530038\n"
     ]
    },
    {
     "name": "stderr",
     "output_type": "stream",
     "text": [
      "Configuration saved in saved_models/XLNetDepr-3_256_8-ALL_NA-PEL-BS1-GWS_PCC_IT192_DH_3LMAEALPHANA_NZ20_PNTh0.05_AnnotThresh0.5/checkpoint-530038/config.json\n"
     ]
    },
    {
     "name": "stderr",
     "output_type": "stream",
     "text": [
      "Model weights saved in saved_models/XLNetDepr-3_256_8-ALL_NA-PEL-BS1-GWS_PCC_IT192_DH_3LMAEALPHANA_NZ20_PNTh0.05_AnnotThresh0.5/checkpoint-530038/pytorch_model.bin\n"
     ]
    },
    {
     "name": "stderr",
     "output_type": "stream",
     "text": [
      "Deleting older checkpoint [saved_models/XLNetDepr-3_256_8-ALL_NA-PEL-BS1-GWS_PCC_IT192_DH_3LMAEALPHANA_NZ20_PNTh0.05_AnnotThresh0.5/checkpoint-504494] due to args.save_total_limit\n"
     ]
    },
    {
     "name": "stderr",
     "output_type": "stream",
     "text": [
      "***** Running Evaluation *****\n"
     ]
    },
    {
     "name": "stderr",
     "output_type": "stream",
     "text": [
      "  Num examples = 1592\n"
     ]
    },
    {
     "name": "stderr",
     "output_type": "stream",
     "text": [
      "  Batch size = 1\n"
     ]
    },
    {
     "name": "stderr",
     "output_type": "stream",
     "text": [
      "Saving model checkpoint to saved_models/XLNetDepr-3_256_8-ALL_NA-PEL-BS1-GWS_PCC_IT192_DH_3LMAEALPHANA_NZ20_PNTh0.05_AnnotThresh0.5/checkpoint-536424\n"
     ]
    },
    {
     "name": "stderr",
     "output_type": "stream",
     "text": [
      "Configuration saved in saved_models/XLNetDepr-3_256_8-ALL_NA-PEL-BS1-GWS_PCC_IT192_DH_3LMAEALPHANA_NZ20_PNTh0.05_AnnotThresh0.5/checkpoint-536424/config.json\n"
     ]
    },
    {
     "name": "stderr",
     "output_type": "stream",
     "text": [
      "Model weights saved in saved_models/XLNetDepr-3_256_8-ALL_NA-PEL-BS1-GWS_PCC_IT192_DH_3LMAEALPHANA_NZ20_PNTh0.05_AnnotThresh0.5/checkpoint-536424/pytorch_model.bin\n"
     ]
    },
    {
     "name": "stderr",
     "output_type": "stream",
     "text": [
      "Deleting older checkpoint [saved_models/XLNetDepr-3_256_8-ALL_NA-PEL-BS1-GWS_PCC_IT192_DH_3LMAEALPHANA_NZ20_PNTh0.05_AnnotThresh0.5/checkpoint-510880] due to args.save_total_limit\n"
     ]
    },
    {
     "name": "stderr",
     "output_type": "stream",
     "text": [
      "***** Running Evaluation *****\n"
     ]
    },
    {
     "name": "stderr",
     "output_type": "stream",
     "text": [
      "  Num examples = 1592\n"
     ]
    },
    {
     "name": "stderr",
     "output_type": "stream",
     "text": [
      "  Batch size = 1\n"
     ]
    },
    {
     "name": "stderr",
     "output_type": "stream",
     "text": [
      "Saving model checkpoint to saved_models/XLNetDepr-3_256_8-ALL_NA-PEL-BS1-GWS_PCC_IT192_DH_3LMAEALPHANA_NZ20_PNTh0.05_AnnotThresh0.5/checkpoint-542810\n"
     ]
    },
    {
     "name": "stderr",
     "output_type": "stream",
     "text": [
      "Configuration saved in saved_models/XLNetDepr-3_256_8-ALL_NA-PEL-BS1-GWS_PCC_IT192_DH_3LMAEALPHANA_NZ20_PNTh0.05_AnnotThresh0.5/checkpoint-542810/config.json\n"
     ]
    },
    {
     "name": "stderr",
     "output_type": "stream",
     "text": [
      "Model weights saved in saved_models/XLNetDepr-3_256_8-ALL_NA-PEL-BS1-GWS_PCC_IT192_DH_3LMAEALPHANA_NZ20_PNTh0.05_AnnotThresh0.5/checkpoint-542810/pytorch_model.bin\n"
     ]
    },
    {
     "name": "stderr",
     "output_type": "stream",
     "text": [
      "Deleting older checkpoint [saved_models/XLNetDepr-3_256_8-ALL_NA-PEL-BS1-GWS_PCC_IT192_DH_3LMAEALPHANA_NZ20_PNTh0.05_AnnotThresh0.5/checkpoint-517266] due to args.save_total_limit\n"
     ]
    },
    {
     "name": "stderr",
     "output_type": "stream",
     "text": [
      "***** Running Evaluation *****\n"
     ]
    },
    {
     "name": "stderr",
     "output_type": "stream",
     "text": [
      "  Num examples = 1592\n"
     ]
    },
    {
     "name": "stderr",
     "output_type": "stream",
     "text": [
      "  Batch size = 1\n"
     ]
    },
    {
     "name": "stderr",
     "output_type": "stream",
     "text": [
      "Saving model checkpoint to saved_models/XLNetDepr-3_256_8-ALL_NA-PEL-BS1-GWS_PCC_IT192_DH_3LMAEALPHANA_NZ20_PNTh0.05_AnnotThresh0.5/checkpoint-549196\n"
     ]
    },
    {
     "name": "stderr",
     "output_type": "stream",
     "text": [
      "Configuration saved in saved_models/XLNetDepr-3_256_8-ALL_NA-PEL-BS1-GWS_PCC_IT192_DH_3LMAEALPHANA_NZ20_PNTh0.05_AnnotThresh0.5/checkpoint-549196/config.json\n"
     ]
    },
    {
     "name": "stderr",
     "output_type": "stream",
     "text": [
      "Model weights saved in saved_models/XLNetDepr-3_256_8-ALL_NA-PEL-BS1-GWS_PCC_IT192_DH_3LMAEALPHANA_NZ20_PNTh0.05_AnnotThresh0.5/checkpoint-549196/pytorch_model.bin\n"
     ]
    },
    {
     "name": "stderr",
     "output_type": "stream",
     "text": [
      "Deleting older checkpoint [saved_models/XLNetDepr-3_256_8-ALL_NA-PEL-BS1-GWS_PCC_IT192_DH_3LMAEALPHANA_NZ20_PNTh0.05_AnnotThresh0.5/checkpoint-523652] due to args.save_total_limit\n"
     ]
    },
    {
     "name": "stderr",
     "output_type": "stream",
     "text": [
      "***** Running Evaluation *****\n"
     ]
    },
    {
     "name": "stderr",
     "output_type": "stream",
     "text": [
      "  Num examples = 1592\n"
     ]
    },
    {
     "name": "stderr",
     "output_type": "stream",
     "text": [
      "  Batch size = 1\n"
     ]
    },
    {
     "name": "stderr",
     "output_type": "stream",
     "text": [
      "Saving model checkpoint to saved_models/XLNetDepr-3_256_8-ALL_NA-PEL-BS1-GWS_PCC_IT192_DH_3LMAEALPHANA_NZ20_PNTh0.05_AnnotThresh0.5/checkpoint-555582\n"
     ]
    },
    {
     "name": "stderr",
     "output_type": "stream",
     "text": [
      "Configuration saved in saved_models/XLNetDepr-3_256_8-ALL_NA-PEL-BS1-GWS_PCC_IT192_DH_3LMAEALPHANA_NZ20_PNTh0.05_AnnotThresh0.5/checkpoint-555582/config.json\n"
     ]
    },
    {
     "name": "stderr",
     "output_type": "stream",
     "text": [
      "Model weights saved in saved_models/XLNetDepr-3_256_8-ALL_NA-PEL-BS1-GWS_PCC_IT192_DH_3LMAEALPHANA_NZ20_PNTh0.05_AnnotThresh0.5/checkpoint-555582/pytorch_model.bin\n"
     ]
    },
    {
     "name": "stderr",
     "output_type": "stream",
     "text": [
      "Deleting older checkpoint [saved_models/XLNetDepr-3_256_8-ALL_NA-PEL-BS1-GWS_PCC_IT192_DH_3LMAEALPHANA_NZ20_PNTh0.05_AnnotThresh0.5/checkpoint-530038] due to args.save_total_limit\n"
     ]
    },
    {
     "name": "stderr",
     "output_type": "stream",
     "text": [
      "***** Running Evaluation *****\n"
     ]
    },
    {
     "name": "stderr",
     "output_type": "stream",
     "text": [
      "  Num examples = 1592\n"
     ]
    },
    {
     "name": "stderr",
     "output_type": "stream",
     "text": [
      "  Batch size = 1\n"
     ]
    },
    {
     "name": "stderr",
     "output_type": "stream",
     "text": [
      "Saving model checkpoint to saved_models/XLNetDepr-3_256_8-ALL_NA-PEL-BS1-GWS_PCC_IT192_DH_3LMAEALPHANA_NZ20_PNTh0.05_AnnotThresh0.5/checkpoint-561968\n"
     ]
    },
    {
     "name": "stderr",
     "output_type": "stream",
     "text": [
      "Configuration saved in saved_models/XLNetDepr-3_256_8-ALL_NA-PEL-BS1-GWS_PCC_IT192_DH_3LMAEALPHANA_NZ20_PNTh0.05_AnnotThresh0.5/checkpoint-561968/config.json\n"
     ]
    },
    {
     "name": "stderr",
     "output_type": "stream",
     "text": [
      "Model weights saved in saved_models/XLNetDepr-3_256_8-ALL_NA-PEL-BS1-GWS_PCC_IT192_DH_3LMAEALPHANA_NZ20_PNTh0.05_AnnotThresh0.5/checkpoint-561968/pytorch_model.bin\n"
     ]
    },
    {
     "name": "stderr",
     "output_type": "stream",
     "text": [
      "Deleting older checkpoint [saved_models/XLNetDepr-3_256_8-ALL_NA-PEL-BS1-GWS_PCC_IT192_DH_3LMAEALPHANA_NZ20_PNTh0.05_AnnotThresh0.5/checkpoint-536424] due to args.save_total_limit\n"
     ]
    },
    {
     "name": "stderr",
     "output_type": "stream",
     "text": [
      "***** Running Evaluation *****\n"
     ]
    },
    {
     "name": "stderr",
     "output_type": "stream",
     "text": [
      "  Num examples = 1592\n"
     ]
    },
    {
     "name": "stderr",
     "output_type": "stream",
     "text": [
      "  Batch size = 1\n"
     ]
    },
    {
     "name": "stderr",
     "output_type": "stream",
     "text": [
      "Saving model checkpoint to saved_models/XLNetDepr-3_256_8-ALL_NA-PEL-BS1-GWS_PCC_IT192_DH_3LMAEALPHANA_NZ20_PNTh0.05_AnnotThresh0.5/checkpoint-568354\n"
     ]
    },
    {
     "name": "stderr",
     "output_type": "stream",
     "text": [
      "Configuration saved in saved_models/XLNetDepr-3_256_8-ALL_NA-PEL-BS1-GWS_PCC_IT192_DH_3LMAEALPHANA_NZ20_PNTh0.05_AnnotThresh0.5/checkpoint-568354/config.json\n"
     ]
    },
    {
     "name": "stderr",
     "output_type": "stream",
     "text": [
      "Model weights saved in saved_models/XLNetDepr-3_256_8-ALL_NA-PEL-BS1-GWS_PCC_IT192_DH_3LMAEALPHANA_NZ20_PNTh0.05_AnnotThresh0.5/checkpoint-568354/pytorch_model.bin\n"
     ]
    },
    {
     "name": "stderr",
     "output_type": "stream",
     "text": [
      "Deleting older checkpoint [saved_models/XLNetDepr-3_256_8-ALL_NA-PEL-BS1-GWS_PCC_IT192_DH_3LMAEALPHANA_NZ20_PNTh0.05_AnnotThresh0.5/checkpoint-542810] due to args.save_total_limit\n"
     ]
    },
    {
     "name": "stderr",
     "output_type": "stream",
     "text": [
      "***** Running Evaluation *****\n"
     ]
    },
    {
     "name": "stderr",
     "output_type": "stream",
     "text": [
      "  Num examples = 1592\n"
     ]
    },
    {
     "name": "stderr",
     "output_type": "stream",
     "text": [
      "  Batch size = 1\n"
     ]
    },
    {
     "name": "stderr",
     "output_type": "stream",
     "text": [
      "Saving model checkpoint to saved_models/XLNetDepr-3_256_8-ALL_NA-PEL-BS1-GWS_PCC_IT192_DH_3LMAEALPHANA_NZ20_PNTh0.05_AnnotThresh0.5/checkpoint-574740\n"
     ]
    },
    {
     "name": "stderr",
     "output_type": "stream",
     "text": [
      "Configuration saved in saved_models/XLNetDepr-3_256_8-ALL_NA-PEL-BS1-GWS_PCC_IT192_DH_3LMAEALPHANA_NZ20_PNTh0.05_AnnotThresh0.5/checkpoint-574740/config.json\n"
     ]
    },
    {
     "name": "stderr",
     "output_type": "stream",
     "text": [
      "Model weights saved in saved_models/XLNetDepr-3_256_8-ALL_NA-PEL-BS1-GWS_PCC_IT192_DH_3LMAEALPHANA_NZ20_PNTh0.05_AnnotThresh0.5/checkpoint-574740/pytorch_model.bin\n"
     ]
    },
    {
     "name": "stderr",
     "output_type": "stream",
     "text": [
      "Deleting older checkpoint [saved_models/XLNetDepr-3_256_8-ALL_NA-PEL-BS1-GWS_PCC_IT192_DH_3LMAEALPHANA_NZ20_PNTh0.05_AnnotThresh0.5/checkpoint-549196] due to args.save_total_limit\n"
     ]
    },
    {
     "name": "stderr",
     "output_type": "stream",
     "text": [
      "***** Running Evaluation *****\n"
     ]
    },
    {
     "name": "stderr",
     "output_type": "stream",
     "text": [
      "  Num examples = 1592\n"
     ]
    },
    {
     "name": "stderr",
     "output_type": "stream",
     "text": [
      "  Batch size = 1\n"
     ]
    },
    {
     "name": "stderr",
     "output_type": "stream",
     "text": [
      "Saving model checkpoint to saved_models/XLNetDepr-3_256_8-ALL_NA-PEL-BS1-GWS_PCC_IT192_DH_3LMAEALPHANA_NZ20_PNTh0.05_AnnotThresh0.5/checkpoint-581126\n"
     ]
    },
    {
     "name": "stderr",
     "output_type": "stream",
     "text": [
      "Configuration saved in saved_models/XLNetDepr-3_256_8-ALL_NA-PEL-BS1-GWS_PCC_IT192_DH_3LMAEALPHANA_NZ20_PNTh0.05_AnnotThresh0.5/checkpoint-581126/config.json\n"
     ]
    },
    {
     "name": "stderr",
     "output_type": "stream",
     "text": [
      "Model weights saved in saved_models/XLNetDepr-3_256_8-ALL_NA-PEL-BS1-GWS_PCC_IT192_DH_3LMAEALPHANA_NZ20_PNTh0.05_AnnotThresh0.5/checkpoint-581126/pytorch_model.bin\n"
     ]
    },
    {
     "name": "stderr",
     "output_type": "stream",
     "text": [
      "Deleting older checkpoint [saved_models/XLNetDepr-3_256_8-ALL_NA-PEL-BS1-GWS_PCC_IT192_DH_3LMAEALPHANA_NZ20_PNTh0.05_AnnotThresh0.5/checkpoint-555582] due to args.save_total_limit\n"
     ]
    },
    {
     "name": "stderr",
     "output_type": "stream",
     "text": [
      "***** Running Evaluation *****\n"
     ]
    },
    {
     "name": "stderr",
     "output_type": "stream",
     "text": [
      "  Num examples = 1592\n"
     ]
    },
    {
     "name": "stderr",
     "output_type": "stream",
     "text": [
      "  Batch size = 1\n"
     ]
    },
    {
     "name": "stderr",
     "output_type": "stream",
     "text": [
      "Saving model checkpoint to saved_models/XLNetDepr-3_256_8-ALL_NA-PEL-BS1-GWS_PCC_IT192_DH_3LMAEALPHANA_NZ20_PNTh0.05_AnnotThresh0.5/checkpoint-587512\n"
     ]
    },
    {
     "name": "stderr",
     "output_type": "stream",
     "text": [
      "Configuration saved in saved_models/XLNetDepr-3_256_8-ALL_NA-PEL-BS1-GWS_PCC_IT192_DH_3LMAEALPHANA_NZ20_PNTh0.05_AnnotThresh0.5/checkpoint-587512/config.json\n"
     ]
    },
    {
     "name": "stderr",
     "output_type": "stream",
     "text": [
      "Model weights saved in saved_models/XLNetDepr-3_256_8-ALL_NA-PEL-BS1-GWS_PCC_IT192_DH_3LMAEALPHANA_NZ20_PNTh0.05_AnnotThresh0.5/checkpoint-587512/pytorch_model.bin\n"
     ]
    },
    {
     "name": "stderr",
     "output_type": "stream",
     "text": [
      "Deleting older checkpoint [saved_models/XLNetDepr-3_256_8-ALL_NA-PEL-BS1-GWS_PCC_IT192_DH_3LMAEALPHANA_NZ20_PNTh0.05_AnnotThresh0.5/checkpoint-561968] due to args.save_total_limit\n"
     ]
    },
    {
     "name": "stderr",
     "output_type": "stream",
     "text": [
      "***** Running Evaluation *****\n"
     ]
    },
    {
     "name": "stderr",
     "output_type": "stream",
     "text": [
      "  Num examples = 1592\n"
     ]
    },
    {
     "name": "stderr",
     "output_type": "stream",
     "text": [
      "  Batch size = 1\n"
     ]
    },
    {
     "name": "stderr",
     "output_type": "stream",
     "text": [
      "Saving model checkpoint to saved_models/XLNetDepr-3_256_8-ALL_NA-PEL-BS1-GWS_PCC_IT192_DH_3LMAEALPHANA_NZ20_PNTh0.05_AnnotThresh0.5/checkpoint-593898\n"
     ]
    },
    {
     "name": "stderr",
     "output_type": "stream",
     "text": [
      "Configuration saved in saved_models/XLNetDepr-3_256_8-ALL_NA-PEL-BS1-GWS_PCC_IT192_DH_3LMAEALPHANA_NZ20_PNTh0.05_AnnotThresh0.5/checkpoint-593898/config.json\n"
     ]
    },
    {
     "name": "stderr",
     "output_type": "stream",
     "text": [
      "Model weights saved in saved_models/XLNetDepr-3_256_8-ALL_NA-PEL-BS1-GWS_PCC_IT192_DH_3LMAEALPHANA_NZ20_PNTh0.05_AnnotThresh0.5/checkpoint-593898/pytorch_model.bin\n"
     ]
    },
    {
     "name": "stderr",
     "output_type": "stream",
     "text": [
      "Deleting older checkpoint [saved_models/XLNetDepr-3_256_8-ALL_NA-PEL-BS1-GWS_PCC_IT192_DH_3LMAEALPHANA_NZ20_PNTh0.05_AnnotThresh0.5/checkpoint-568354] due to args.save_total_limit\n"
     ]
    },
    {
     "name": "stderr",
     "output_type": "stream",
     "text": [
      "***** Running Evaluation *****\n"
     ]
    },
    {
     "name": "stderr",
     "output_type": "stream",
     "text": [
      "  Num examples = 1592\n"
     ]
    },
    {
     "name": "stderr",
     "output_type": "stream",
     "text": [
      "  Batch size = 1\n"
     ]
    },
    {
     "name": "stderr",
     "output_type": "stream",
     "text": [
      "Saving model checkpoint to saved_models/XLNetDepr-3_256_8-ALL_NA-PEL-BS1-GWS_PCC_IT192_DH_3LMAEALPHANA_NZ20_PNTh0.05_AnnotThresh0.5/checkpoint-600284\n"
     ]
    },
    {
     "name": "stderr",
     "output_type": "stream",
     "text": [
      "Configuration saved in saved_models/XLNetDepr-3_256_8-ALL_NA-PEL-BS1-GWS_PCC_IT192_DH_3LMAEALPHANA_NZ20_PNTh0.05_AnnotThresh0.5/checkpoint-600284/config.json\n"
     ]
    },
    {
     "name": "stderr",
     "output_type": "stream",
     "text": [
      "Model weights saved in saved_models/XLNetDepr-3_256_8-ALL_NA-PEL-BS1-GWS_PCC_IT192_DH_3LMAEALPHANA_NZ20_PNTh0.05_AnnotThresh0.5/checkpoint-600284/pytorch_model.bin\n"
     ]
    },
    {
     "name": "stderr",
     "output_type": "stream",
     "text": [
      "Deleting older checkpoint [saved_models/XLNetDepr-3_256_8-ALL_NA-PEL-BS1-GWS_PCC_IT192_DH_3LMAEALPHANA_NZ20_PNTh0.05_AnnotThresh0.5/checkpoint-574740] due to args.save_total_limit\n"
     ]
    },
    {
     "name": "stderr",
     "output_type": "stream",
     "text": [
      "***** Running Evaluation *****\n"
     ]
    },
    {
     "name": "stderr",
     "output_type": "stream",
     "text": [
      "  Num examples = 1592\n"
     ]
    },
    {
     "name": "stderr",
     "output_type": "stream",
     "text": [
      "  Batch size = 1\n"
     ]
    },
    {
     "name": "stderr",
     "output_type": "stream",
     "text": [
      "Saving model checkpoint to saved_models/XLNetDepr-3_256_8-ALL_NA-PEL-BS1-GWS_PCC_IT192_DH_3LMAEALPHANA_NZ20_PNTh0.05_AnnotThresh0.5/checkpoint-606670\n"
     ]
    },
    {
     "name": "stderr",
     "output_type": "stream",
     "text": [
      "Configuration saved in saved_models/XLNetDepr-3_256_8-ALL_NA-PEL-BS1-GWS_PCC_IT192_DH_3LMAEALPHANA_NZ20_PNTh0.05_AnnotThresh0.5/checkpoint-606670/config.json\n"
     ]
    },
    {
     "name": "stderr",
     "output_type": "stream",
     "text": [
      "Model weights saved in saved_models/XLNetDepr-3_256_8-ALL_NA-PEL-BS1-GWS_PCC_IT192_DH_3LMAEALPHANA_NZ20_PNTh0.05_AnnotThresh0.5/checkpoint-606670/pytorch_model.bin\n"
     ]
    },
    {
     "name": "stderr",
     "output_type": "stream",
     "text": [
      "Deleting older checkpoint [saved_models/XLNetDepr-3_256_8-ALL_NA-PEL-BS1-GWS_PCC_IT192_DH_3LMAEALPHANA_NZ20_PNTh0.05_AnnotThresh0.5/checkpoint-581126] due to args.save_total_limit\n"
     ]
    },
    {
     "name": "stderr",
     "output_type": "stream",
     "text": [
      "***** Running Evaluation *****\n"
     ]
    },
    {
     "name": "stderr",
     "output_type": "stream",
     "text": [
      "  Num examples = 1592\n"
     ]
    },
    {
     "name": "stderr",
     "output_type": "stream",
     "text": [
      "  Batch size = 1\n"
     ]
    },
    {
     "name": "stderr",
     "output_type": "stream",
     "text": [
      "Saving model checkpoint to saved_models/XLNetDepr-3_256_8-ALL_NA-PEL-BS1-GWS_PCC_IT192_DH_3LMAEALPHANA_NZ20_PNTh0.05_AnnotThresh0.5/checkpoint-613056\n"
     ]
    },
    {
     "name": "stderr",
     "output_type": "stream",
     "text": [
      "Configuration saved in saved_models/XLNetDepr-3_256_8-ALL_NA-PEL-BS1-GWS_PCC_IT192_DH_3LMAEALPHANA_NZ20_PNTh0.05_AnnotThresh0.5/checkpoint-613056/config.json\n"
     ]
    },
    {
     "name": "stderr",
     "output_type": "stream",
     "text": [
      "Model weights saved in saved_models/XLNetDepr-3_256_8-ALL_NA-PEL-BS1-GWS_PCC_IT192_DH_3LMAEALPHANA_NZ20_PNTh0.05_AnnotThresh0.5/checkpoint-613056/pytorch_model.bin\n"
     ]
    },
    {
     "name": "stderr",
     "output_type": "stream",
     "text": [
      "Deleting older checkpoint [saved_models/XLNetDepr-3_256_8-ALL_NA-PEL-BS1-GWS_PCC_IT192_DH_3LMAEALPHANA_NZ20_PNTh0.05_AnnotThresh0.5/checkpoint-587512] due to args.save_total_limit\n"
     ]
    },
    {
     "name": "stderr",
     "output_type": "stream",
     "text": [
      "***** Running Evaluation *****\n"
     ]
    },
    {
     "name": "stderr",
     "output_type": "stream",
     "text": [
      "  Num examples = 1592\n"
     ]
    },
    {
     "name": "stderr",
     "output_type": "stream",
     "text": [
      "  Batch size = 1\n"
     ]
    },
    {
     "name": "stderr",
     "output_type": "stream",
     "text": [
      "Saving model checkpoint to saved_models/XLNetDepr-3_256_8-ALL_NA-PEL-BS1-GWS_PCC_IT192_DH_3LMAEALPHANA_NZ20_PNTh0.05_AnnotThresh0.5/checkpoint-619442\n"
     ]
    },
    {
     "name": "stderr",
     "output_type": "stream",
     "text": [
      "Configuration saved in saved_models/XLNetDepr-3_256_8-ALL_NA-PEL-BS1-GWS_PCC_IT192_DH_3LMAEALPHANA_NZ20_PNTh0.05_AnnotThresh0.5/checkpoint-619442/config.json\n"
     ]
    },
    {
     "name": "stderr",
     "output_type": "stream",
     "text": [
      "Model weights saved in saved_models/XLNetDepr-3_256_8-ALL_NA-PEL-BS1-GWS_PCC_IT192_DH_3LMAEALPHANA_NZ20_PNTh0.05_AnnotThresh0.5/checkpoint-619442/pytorch_model.bin\n"
     ]
    },
    {
     "name": "stderr",
     "output_type": "stream",
     "text": [
      "Deleting older checkpoint [saved_models/XLNetDepr-3_256_8-ALL_NA-PEL-BS1-GWS_PCC_IT192_DH_3LMAEALPHANA_NZ20_PNTh0.05_AnnotThresh0.5/checkpoint-593898] due to args.save_total_limit\n"
     ]
    },
    {
     "name": "stderr",
     "output_type": "stream",
     "text": [
      "***** Running Evaluation *****\n"
     ]
    },
    {
     "name": "stderr",
     "output_type": "stream",
     "text": [
      "  Num examples = 1592\n"
     ]
    },
    {
     "name": "stderr",
     "output_type": "stream",
     "text": [
      "  Batch size = 1\n"
     ]
    },
    {
     "name": "stderr",
     "output_type": "stream",
     "text": [
      "Saving model checkpoint to saved_models/XLNetDepr-3_256_8-ALL_NA-PEL-BS1-GWS_PCC_IT192_DH_3LMAEALPHANA_NZ20_PNTh0.05_AnnotThresh0.5/checkpoint-625828\n"
     ]
    },
    {
     "name": "stderr",
     "output_type": "stream",
     "text": [
      "Configuration saved in saved_models/XLNetDepr-3_256_8-ALL_NA-PEL-BS1-GWS_PCC_IT192_DH_3LMAEALPHANA_NZ20_PNTh0.05_AnnotThresh0.5/checkpoint-625828/config.json\n"
     ]
    },
    {
     "name": "stderr",
     "output_type": "stream",
     "text": [
      "Model weights saved in saved_models/XLNetDepr-3_256_8-ALL_NA-PEL-BS1-GWS_PCC_IT192_DH_3LMAEALPHANA_NZ20_PNTh0.05_AnnotThresh0.5/checkpoint-625828/pytorch_model.bin\n"
     ]
    },
    {
     "name": "stderr",
     "output_type": "stream",
     "text": [
      "Deleting older checkpoint [saved_models/XLNetDepr-3_256_8-ALL_NA-PEL-BS1-GWS_PCC_IT192_DH_3LMAEALPHANA_NZ20_PNTh0.05_AnnotThresh0.5/checkpoint-600284] due to args.save_total_limit\n"
     ]
    },
    {
     "name": "stderr",
     "output_type": "stream",
     "text": [
      "***** Running Evaluation *****\n"
     ]
    },
    {
     "name": "stderr",
     "output_type": "stream",
     "text": [
      "  Num examples = 1592\n"
     ]
    },
    {
     "name": "stderr",
     "output_type": "stream",
     "text": [
      "  Batch size = 1\n"
     ]
    },
    {
     "name": "stderr",
     "output_type": "stream",
     "text": [
      "Saving model checkpoint to saved_models/XLNetDepr-3_256_8-ALL_NA-PEL-BS1-GWS_PCC_IT192_DH_3LMAEALPHANA_NZ20_PNTh0.05_AnnotThresh0.5/checkpoint-632214\n"
     ]
    },
    {
     "name": "stderr",
     "output_type": "stream",
     "text": [
      "Configuration saved in saved_models/XLNetDepr-3_256_8-ALL_NA-PEL-BS1-GWS_PCC_IT192_DH_3LMAEALPHANA_NZ20_PNTh0.05_AnnotThresh0.5/checkpoint-632214/config.json\n"
     ]
    },
    {
     "name": "stderr",
     "output_type": "stream",
     "text": [
      "Model weights saved in saved_models/XLNetDepr-3_256_8-ALL_NA-PEL-BS1-GWS_PCC_IT192_DH_3LMAEALPHANA_NZ20_PNTh0.05_AnnotThresh0.5/checkpoint-632214/pytorch_model.bin\n"
     ]
    },
    {
     "name": "stderr",
     "output_type": "stream",
     "text": [
      "Deleting older checkpoint [saved_models/XLNetDepr-3_256_8-ALL_NA-PEL-BS1-GWS_PCC_IT192_DH_3LMAEALPHANA_NZ20_PNTh0.05_AnnotThresh0.5/checkpoint-606670] due to args.save_total_limit\n"
     ]
    },
    {
     "name": "stderr",
     "output_type": "stream",
     "text": [
      "***** Running Evaluation *****\n"
     ]
    },
    {
     "name": "stderr",
     "output_type": "stream",
     "text": [
      "  Num examples = 1592\n"
     ]
    },
    {
     "name": "stderr",
     "output_type": "stream",
     "text": [
      "  Batch size = 1\n"
     ]
    },
    {
     "name": "stderr",
     "output_type": "stream",
     "text": [
      "Saving model checkpoint to saved_models/XLNetDepr-3_256_8-ALL_NA-PEL-BS1-GWS_PCC_IT192_DH_3LMAEALPHANA_NZ20_PNTh0.05_AnnotThresh0.5/checkpoint-638600\n"
     ]
    },
    {
     "name": "stderr",
     "output_type": "stream",
     "text": [
      "Configuration saved in saved_models/XLNetDepr-3_256_8-ALL_NA-PEL-BS1-GWS_PCC_IT192_DH_3LMAEALPHANA_NZ20_PNTh0.05_AnnotThresh0.5/checkpoint-638600/config.json\n"
     ]
    },
    {
     "name": "stderr",
     "output_type": "stream",
     "text": [
      "Model weights saved in saved_models/XLNetDepr-3_256_8-ALL_NA-PEL-BS1-GWS_PCC_IT192_DH_3LMAEALPHANA_NZ20_PNTh0.05_AnnotThresh0.5/checkpoint-638600/pytorch_model.bin\n"
     ]
    },
    {
     "name": "stderr",
     "output_type": "stream",
     "text": [
      "Deleting older checkpoint [saved_models/XLNetDepr-3_256_8-ALL_NA-PEL-BS1-GWS_PCC_IT192_DH_3LMAEALPHANA_NZ20_PNTh0.05_AnnotThresh0.5/checkpoint-613056] due to args.save_total_limit\n"
     ]
    },
    {
     "name": "stderr",
     "output_type": "stream",
     "text": [
      "***** Running Evaluation *****\n"
     ]
    },
    {
     "name": "stderr",
     "output_type": "stream",
     "text": [
      "  Num examples = 1592\n"
     ]
    },
    {
     "name": "stderr",
     "output_type": "stream",
     "text": [
      "  Batch size = 1\n"
     ]
    },
    {
     "name": "stderr",
     "output_type": "stream",
     "text": [
      "Saving model checkpoint to saved_models/XLNetDepr-3_256_8-ALL_NA-PEL-BS1-GWS_PCC_IT192_DH_3LMAEALPHANA_NZ20_PNTh0.05_AnnotThresh0.5/checkpoint-644986\n"
     ]
    },
    {
     "name": "stderr",
     "output_type": "stream",
     "text": [
      "Configuration saved in saved_models/XLNetDepr-3_256_8-ALL_NA-PEL-BS1-GWS_PCC_IT192_DH_3LMAEALPHANA_NZ20_PNTh0.05_AnnotThresh0.5/checkpoint-644986/config.json\n"
     ]
    },
    {
     "name": "stderr",
     "output_type": "stream",
     "text": [
      "Model weights saved in saved_models/XLNetDepr-3_256_8-ALL_NA-PEL-BS1-GWS_PCC_IT192_DH_3LMAEALPHANA_NZ20_PNTh0.05_AnnotThresh0.5/checkpoint-644986/pytorch_model.bin\n"
     ]
    },
    {
     "name": "stderr",
     "output_type": "stream",
     "text": [
      "Deleting older checkpoint [saved_models/XLNetDepr-3_256_8-ALL_NA-PEL-BS1-GWS_PCC_IT192_DH_3LMAEALPHANA_NZ20_PNTh0.05_AnnotThresh0.5/checkpoint-619442] due to args.save_total_limit\n"
     ]
    },
    {
     "name": "stderr",
     "output_type": "stream",
     "text": [
      "***** Running Evaluation *****\n"
     ]
    },
    {
     "name": "stderr",
     "output_type": "stream",
     "text": [
      "  Num examples = 1592\n"
     ]
    },
    {
     "name": "stderr",
     "output_type": "stream",
     "text": [
      "  Batch size = 1\n"
     ]
    },
    {
     "name": "stderr",
     "output_type": "stream",
     "text": [
      "Saving model checkpoint to saved_models/XLNetDepr-3_256_8-ALL_NA-PEL-BS1-GWS_PCC_IT192_DH_3LMAEALPHANA_NZ20_PNTh0.05_AnnotThresh0.5/checkpoint-651372\n"
     ]
    },
    {
     "name": "stderr",
     "output_type": "stream",
     "text": [
      "Configuration saved in saved_models/XLNetDepr-3_256_8-ALL_NA-PEL-BS1-GWS_PCC_IT192_DH_3LMAEALPHANA_NZ20_PNTh0.05_AnnotThresh0.5/checkpoint-651372/config.json\n"
     ]
    },
    {
     "name": "stderr",
     "output_type": "stream",
     "text": [
      "Model weights saved in saved_models/XLNetDepr-3_256_8-ALL_NA-PEL-BS1-GWS_PCC_IT192_DH_3LMAEALPHANA_NZ20_PNTh0.05_AnnotThresh0.5/checkpoint-651372/pytorch_model.bin\n"
     ]
    },
    {
     "name": "stderr",
     "output_type": "stream",
     "text": [
      "Deleting older checkpoint [saved_models/XLNetDepr-3_256_8-ALL_NA-PEL-BS1-GWS_PCC_IT192_DH_3LMAEALPHANA_NZ20_PNTh0.05_AnnotThresh0.5/checkpoint-625828] due to args.save_total_limit\n"
     ]
    },
    {
     "name": "stderr",
     "output_type": "stream",
     "text": [
      "***** Running Evaluation *****\n"
     ]
    },
    {
     "name": "stderr",
     "output_type": "stream",
     "text": [
      "  Num examples = 1592\n"
     ]
    },
    {
     "name": "stderr",
     "output_type": "stream",
     "text": [
      "  Batch size = 1\n"
     ]
    },
    {
     "name": "stderr",
     "output_type": "stream",
     "text": [
      "Saving model checkpoint to saved_models/XLNetDepr-3_256_8-ALL_NA-PEL-BS1-GWS_PCC_IT192_DH_3LMAEALPHANA_NZ20_PNTh0.05_AnnotThresh0.5/checkpoint-657758\n"
     ]
    },
    {
     "name": "stderr",
     "output_type": "stream",
     "text": [
      "Configuration saved in saved_models/XLNetDepr-3_256_8-ALL_NA-PEL-BS1-GWS_PCC_IT192_DH_3LMAEALPHANA_NZ20_PNTh0.05_AnnotThresh0.5/checkpoint-657758/config.json\n"
     ]
    },
    {
     "name": "stderr",
     "output_type": "stream",
     "text": [
      "Model weights saved in saved_models/XLNetDepr-3_256_8-ALL_NA-PEL-BS1-GWS_PCC_IT192_DH_3LMAEALPHANA_NZ20_PNTh0.05_AnnotThresh0.5/checkpoint-657758/pytorch_model.bin\n"
     ]
    },
    {
     "name": "stderr",
     "output_type": "stream",
     "text": [
      "Deleting older checkpoint [saved_models/XLNetDepr-3_256_8-ALL_NA-PEL-BS1-GWS_PCC_IT192_DH_3LMAEALPHANA_NZ20_PNTh0.05_AnnotThresh0.5/checkpoint-632214] due to args.save_total_limit\n"
     ]
    },
    {
     "name": "stderr",
     "output_type": "stream",
     "text": [
      "***** Running Evaluation *****\n"
     ]
    },
    {
     "name": "stderr",
     "output_type": "stream",
     "text": [
      "  Num examples = 1592\n"
     ]
    },
    {
     "name": "stderr",
     "output_type": "stream",
     "text": [
      "  Batch size = 1\n"
     ]
    },
    {
     "name": "stderr",
     "output_type": "stream",
     "text": [
      "Saving model checkpoint to saved_models/XLNetDepr-3_256_8-ALL_NA-PEL-BS1-GWS_PCC_IT192_DH_3LMAEALPHANA_NZ20_PNTh0.05_AnnotThresh0.5/checkpoint-664144\n"
     ]
    },
    {
     "name": "stderr",
     "output_type": "stream",
     "text": [
      "Configuration saved in saved_models/XLNetDepr-3_256_8-ALL_NA-PEL-BS1-GWS_PCC_IT192_DH_3LMAEALPHANA_NZ20_PNTh0.05_AnnotThresh0.5/checkpoint-664144/config.json\n"
     ]
    },
    {
     "name": "stderr",
     "output_type": "stream",
     "text": [
      "Model weights saved in saved_models/XLNetDepr-3_256_8-ALL_NA-PEL-BS1-GWS_PCC_IT192_DH_3LMAEALPHANA_NZ20_PNTh0.05_AnnotThresh0.5/checkpoint-664144/pytorch_model.bin\n"
     ]
    },
    {
     "name": "stderr",
     "output_type": "stream",
     "text": [
      "Deleting older checkpoint [saved_models/XLNetDepr-3_256_8-ALL_NA-PEL-BS1-GWS_PCC_IT192_DH_3LMAEALPHANA_NZ20_PNTh0.05_AnnotThresh0.5/checkpoint-638600] due to args.save_total_limit\n"
     ]
    },
    {
     "name": "stderr",
     "output_type": "stream",
     "text": [
      "***** Running Evaluation *****\n"
     ]
    },
    {
     "name": "stderr",
     "output_type": "stream",
     "text": [
      "  Num examples = 1592\n"
     ]
    },
    {
     "name": "stderr",
     "output_type": "stream",
     "text": [
      "  Batch size = 1\n"
     ]
    },
    {
     "name": "stderr",
     "output_type": "stream",
     "text": [
      "Saving model checkpoint to saved_models/XLNetDepr-3_256_8-ALL_NA-PEL-BS1-GWS_PCC_IT192_DH_3LMAEALPHANA_NZ20_PNTh0.05_AnnotThresh0.5/checkpoint-670530\n"
     ]
    },
    {
     "name": "stderr",
     "output_type": "stream",
     "text": [
      "Configuration saved in saved_models/XLNetDepr-3_256_8-ALL_NA-PEL-BS1-GWS_PCC_IT192_DH_3LMAEALPHANA_NZ20_PNTh0.05_AnnotThresh0.5/checkpoint-670530/config.json\n"
     ]
    },
    {
     "name": "stderr",
     "output_type": "stream",
     "text": [
      "Model weights saved in saved_models/XLNetDepr-3_256_8-ALL_NA-PEL-BS1-GWS_PCC_IT192_DH_3LMAEALPHANA_NZ20_PNTh0.05_AnnotThresh0.5/checkpoint-670530/pytorch_model.bin\n"
     ]
    },
    {
     "name": "stderr",
     "output_type": "stream",
     "text": [
      "Deleting older checkpoint [saved_models/XLNetDepr-3_256_8-ALL_NA-PEL-BS1-GWS_PCC_IT192_DH_3LMAEALPHANA_NZ20_PNTh0.05_AnnotThresh0.5/checkpoint-644986] due to args.save_total_limit\n"
     ]
    },
    {
     "name": "stderr",
     "output_type": "stream",
     "text": [
      "***** Running Evaluation *****\n"
     ]
    },
    {
     "name": "stderr",
     "output_type": "stream",
     "text": [
      "  Num examples = 1592\n"
     ]
    },
    {
     "name": "stderr",
     "output_type": "stream",
     "text": [
      "  Batch size = 1\n"
     ]
    },
    {
     "name": "stderr",
     "output_type": "stream",
     "text": [
      "Saving model checkpoint to saved_models/XLNetDepr-3_256_8-ALL_NA-PEL-BS1-GWS_PCC_IT192_DH_3LMAEALPHANA_NZ20_PNTh0.05_AnnotThresh0.5/checkpoint-676916\n"
     ]
    },
    {
     "name": "stderr",
     "output_type": "stream",
     "text": [
      "Configuration saved in saved_models/XLNetDepr-3_256_8-ALL_NA-PEL-BS1-GWS_PCC_IT192_DH_3LMAEALPHANA_NZ20_PNTh0.05_AnnotThresh0.5/checkpoint-676916/config.json\n"
     ]
    },
    {
     "name": "stderr",
     "output_type": "stream",
     "text": [
      "Model weights saved in saved_models/XLNetDepr-3_256_8-ALL_NA-PEL-BS1-GWS_PCC_IT192_DH_3LMAEALPHANA_NZ20_PNTh0.05_AnnotThresh0.5/checkpoint-676916/pytorch_model.bin\n"
     ]
    },
    {
     "name": "stderr",
     "output_type": "stream",
     "text": [
      "Deleting older checkpoint [saved_models/XLNetDepr-3_256_8-ALL_NA-PEL-BS1-GWS_PCC_IT192_DH_3LMAEALPHANA_NZ20_PNTh0.05_AnnotThresh0.5/checkpoint-651372] due to args.save_total_limit\n"
     ]
    },
    {
     "name": "stderr",
     "output_type": "stream",
     "text": [
      "***** Running Evaluation *****\n"
     ]
    },
    {
     "name": "stderr",
     "output_type": "stream",
     "text": [
      "  Num examples = 1592\n"
     ]
    },
    {
     "name": "stderr",
     "output_type": "stream",
     "text": [
      "  Batch size = 1\n"
     ]
    },
    {
     "name": "stderr",
     "output_type": "stream",
     "text": [
      "Saving model checkpoint to saved_models/XLNetDepr-3_256_8-ALL_NA-PEL-BS1-GWS_PCC_IT192_DH_3LMAEALPHANA_NZ20_PNTh0.05_AnnotThresh0.5/checkpoint-683302\n"
     ]
    },
    {
     "name": "stderr",
     "output_type": "stream",
     "text": [
      "Configuration saved in saved_models/XLNetDepr-3_256_8-ALL_NA-PEL-BS1-GWS_PCC_IT192_DH_3LMAEALPHANA_NZ20_PNTh0.05_AnnotThresh0.5/checkpoint-683302/config.json\n"
     ]
    },
    {
     "name": "stderr",
     "output_type": "stream",
     "text": [
      "Model weights saved in saved_models/XLNetDepr-3_256_8-ALL_NA-PEL-BS1-GWS_PCC_IT192_DH_3LMAEALPHANA_NZ20_PNTh0.05_AnnotThresh0.5/checkpoint-683302/pytorch_model.bin\n"
     ]
    },
    {
     "name": "stderr",
     "output_type": "stream",
     "text": [
      "Deleting older checkpoint [saved_models/XLNetDepr-3_256_8-ALL_NA-PEL-BS1-GWS_PCC_IT192_DH_3LMAEALPHANA_NZ20_PNTh0.05_AnnotThresh0.5/checkpoint-657758] due to args.save_total_limit\n"
     ]
    },
    {
     "name": "stderr",
     "output_type": "stream",
     "text": [
      "***** Running Evaluation *****\n"
     ]
    },
    {
     "name": "stderr",
     "output_type": "stream",
     "text": [
      "  Num examples = 1592\n"
     ]
    },
    {
     "name": "stderr",
     "output_type": "stream",
     "text": [
      "  Batch size = 1\n"
     ]
    },
    {
     "name": "stderr",
     "output_type": "stream",
     "text": [
      "Saving model checkpoint to saved_models/XLNetDepr-3_256_8-ALL_NA-PEL-BS1-GWS_PCC_IT192_DH_3LMAEALPHANA_NZ20_PNTh0.05_AnnotThresh0.5/checkpoint-689688\n"
     ]
    },
    {
     "name": "stderr",
     "output_type": "stream",
     "text": [
      "Configuration saved in saved_models/XLNetDepr-3_256_8-ALL_NA-PEL-BS1-GWS_PCC_IT192_DH_3LMAEALPHANA_NZ20_PNTh0.05_AnnotThresh0.5/checkpoint-689688/config.json\n"
     ]
    },
    {
     "name": "stderr",
     "output_type": "stream",
     "text": [
      "Model weights saved in saved_models/XLNetDepr-3_256_8-ALL_NA-PEL-BS1-GWS_PCC_IT192_DH_3LMAEALPHANA_NZ20_PNTh0.05_AnnotThresh0.5/checkpoint-689688/pytorch_model.bin\n"
     ]
    },
    {
     "name": "stderr",
     "output_type": "stream",
     "text": [
      "Deleting older checkpoint [saved_models/XLNetDepr-3_256_8-ALL_NA-PEL-BS1-GWS_PCC_IT192_DH_3LMAEALPHANA_NZ20_PNTh0.05_AnnotThresh0.5/checkpoint-664144] due to args.save_total_limit\n"
     ]
    },
    {
     "name": "stderr",
     "output_type": "stream",
     "text": [
      "***** Running Evaluation *****\n"
     ]
    },
    {
     "name": "stderr",
     "output_type": "stream",
     "text": [
      "  Num examples = 1592\n"
     ]
    },
    {
     "name": "stderr",
     "output_type": "stream",
     "text": [
      "  Batch size = 1\n"
     ]
    },
    {
     "name": "stderr",
     "output_type": "stream",
     "text": [
      "Saving model checkpoint to saved_models/XLNetDepr-3_256_8-ALL_NA-PEL-BS1-GWS_PCC_IT192_DH_3LMAEALPHANA_NZ20_PNTh0.05_AnnotThresh0.5/checkpoint-696074\n"
     ]
    },
    {
     "name": "stderr",
     "output_type": "stream",
     "text": [
      "Configuration saved in saved_models/XLNetDepr-3_256_8-ALL_NA-PEL-BS1-GWS_PCC_IT192_DH_3LMAEALPHANA_NZ20_PNTh0.05_AnnotThresh0.5/checkpoint-696074/config.json\n"
     ]
    },
    {
     "name": "stderr",
     "output_type": "stream",
     "text": [
      "Model weights saved in saved_models/XLNetDepr-3_256_8-ALL_NA-PEL-BS1-GWS_PCC_IT192_DH_3LMAEALPHANA_NZ20_PNTh0.05_AnnotThresh0.5/checkpoint-696074/pytorch_model.bin\n"
     ]
    },
    {
     "name": "stderr",
     "output_type": "stream",
     "text": [
      "Deleting older checkpoint [saved_models/XLNetDepr-3_256_8-ALL_NA-PEL-BS1-GWS_PCC_IT192_DH_3LMAEALPHANA_NZ20_PNTh0.05_AnnotThresh0.5/checkpoint-670530] due to args.save_total_limit\n"
     ]
    },
    {
     "name": "stderr",
     "output_type": "stream",
     "text": [
      "***** Running Evaluation *****\n"
     ]
    },
    {
     "name": "stderr",
     "output_type": "stream",
     "text": [
      "  Num examples = 1592\n"
     ]
    },
    {
     "name": "stderr",
     "output_type": "stream",
     "text": [
      "  Batch size = 1\n"
     ]
    },
    {
     "name": "stderr",
     "output_type": "stream",
     "text": [
      "Saving model checkpoint to saved_models/XLNetDepr-3_256_8-ALL_NA-PEL-BS1-GWS_PCC_IT192_DH_3LMAEALPHANA_NZ20_PNTh0.05_AnnotThresh0.5/checkpoint-702460\n"
     ]
    },
    {
     "name": "stderr",
     "output_type": "stream",
     "text": [
      "Configuration saved in saved_models/XLNetDepr-3_256_8-ALL_NA-PEL-BS1-GWS_PCC_IT192_DH_3LMAEALPHANA_NZ20_PNTh0.05_AnnotThresh0.5/checkpoint-702460/config.json\n"
     ]
    },
    {
     "name": "stderr",
     "output_type": "stream",
     "text": [
      "Model weights saved in saved_models/XLNetDepr-3_256_8-ALL_NA-PEL-BS1-GWS_PCC_IT192_DH_3LMAEALPHANA_NZ20_PNTh0.05_AnnotThresh0.5/checkpoint-702460/pytorch_model.bin\n"
     ]
    },
    {
     "name": "stderr",
     "output_type": "stream",
     "text": [
      "Deleting older checkpoint [saved_models/XLNetDepr-3_256_8-ALL_NA-PEL-BS1-GWS_PCC_IT192_DH_3LMAEALPHANA_NZ20_PNTh0.05_AnnotThresh0.5/checkpoint-676916] due to args.save_total_limit\n"
     ]
    },
    {
     "name": "stderr",
     "output_type": "stream",
     "text": [
      "***** Running Evaluation *****\n"
     ]
    },
    {
     "name": "stderr",
     "output_type": "stream",
     "text": [
      "  Num examples = 1592\n"
     ]
    },
    {
     "name": "stderr",
     "output_type": "stream",
     "text": [
      "  Batch size = 1\n"
     ]
    },
    {
     "name": "stderr",
     "output_type": "stream",
     "text": [
      "Saving model checkpoint to saved_models/XLNetDepr-3_256_8-ALL_NA-PEL-BS1-GWS_PCC_IT192_DH_3LMAEALPHANA_NZ20_PNTh0.05_AnnotThresh0.5/checkpoint-708846\n"
     ]
    },
    {
     "name": "stderr",
     "output_type": "stream",
     "text": [
      "Configuration saved in saved_models/XLNetDepr-3_256_8-ALL_NA-PEL-BS1-GWS_PCC_IT192_DH_3LMAEALPHANA_NZ20_PNTh0.05_AnnotThresh0.5/checkpoint-708846/config.json\n"
     ]
    },
    {
     "name": "stderr",
     "output_type": "stream",
     "text": [
      "Model weights saved in saved_models/XLNetDepr-3_256_8-ALL_NA-PEL-BS1-GWS_PCC_IT192_DH_3LMAEALPHANA_NZ20_PNTh0.05_AnnotThresh0.5/checkpoint-708846/pytorch_model.bin\n"
     ]
    },
    {
     "name": "stderr",
     "output_type": "stream",
     "text": [
      "Deleting older checkpoint [saved_models/XLNetDepr-3_256_8-ALL_NA-PEL-BS1-GWS_PCC_IT192_DH_3LMAEALPHANA_NZ20_PNTh0.05_AnnotThresh0.5/checkpoint-683302] due to args.save_total_limit\n"
     ]
    },
    {
     "name": "stderr",
     "output_type": "stream",
     "text": [
      "***** Running Evaluation *****\n"
     ]
    },
    {
     "name": "stderr",
     "output_type": "stream",
     "text": [
      "  Num examples = 1592\n"
     ]
    },
    {
     "name": "stderr",
     "output_type": "stream",
     "text": [
      "  Batch size = 1\n"
     ]
    },
    {
     "name": "stderr",
     "output_type": "stream",
     "text": [
      "Saving model checkpoint to saved_models/XLNetDepr-3_256_8-ALL_NA-PEL-BS1-GWS_PCC_IT192_DH_3LMAEALPHANA_NZ20_PNTh0.05_AnnotThresh0.5/checkpoint-715232\n"
     ]
    },
    {
     "name": "stderr",
     "output_type": "stream",
     "text": [
      "Configuration saved in saved_models/XLNetDepr-3_256_8-ALL_NA-PEL-BS1-GWS_PCC_IT192_DH_3LMAEALPHANA_NZ20_PNTh0.05_AnnotThresh0.5/checkpoint-715232/config.json\n"
     ]
    },
    {
     "name": "stderr",
     "output_type": "stream",
     "text": [
      "Model weights saved in saved_models/XLNetDepr-3_256_8-ALL_NA-PEL-BS1-GWS_PCC_IT192_DH_3LMAEALPHANA_NZ20_PNTh0.05_AnnotThresh0.5/checkpoint-715232/pytorch_model.bin\n"
     ]
    },
    {
     "name": "stderr",
     "output_type": "stream",
     "text": [
      "Deleting older checkpoint [saved_models/XLNetDepr-3_256_8-ALL_NA-PEL-BS1-GWS_PCC_IT192_DH_3LMAEALPHANA_NZ20_PNTh0.05_AnnotThresh0.5/checkpoint-689688] due to args.save_total_limit\n"
     ]
    },
    {
     "name": "stderr",
     "output_type": "stream",
     "text": [
      "***** Running Evaluation *****\n"
     ]
    },
    {
     "name": "stderr",
     "output_type": "stream",
     "text": [
      "  Num examples = 1592\n"
     ]
    },
    {
     "name": "stderr",
     "output_type": "stream",
     "text": [
      "  Batch size = 1\n"
     ]
    },
    {
     "name": "stderr",
     "output_type": "stream",
     "text": [
      "Saving model checkpoint to saved_models/XLNetDepr-3_256_8-ALL_NA-PEL-BS1-GWS_PCC_IT192_DH_3LMAEALPHANA_NZ20_PNTh0.05_AnnotThresh0.5/checkpoint-721618\n"
     ]
    },
    {
     "name": "stderr",
     "output_type": "stream",
     "text": [
      "Configuration saved in saved_models/XLNetDepr-3_256_8-ALL_NA-PEL-BS1-GWS_PCC_IT192_DH_3LMAEALPHANA_NZ20_PNTh0.05_AnnotThresh0.5/checkpoint-721618/config.json\n"
     ]
    },
    {
     "name": "stderr",
     "output_type": "stream",
     "text": [
      "Model weights saved in saved_models/XLNetDepr-3_256_8-ALL_NA-PEL-BS1-GWS_PCC_IT192_DH_3LMAEALPHANA_NZ20_PNTh0.05_AnnotThresh0.5/checkpoint-721618/pytorch_model.bin\n"
     ]
    },
    {
     "name": "stderr",
     "output_type": "stream",
     "text": [
      "Deleting older checkpoint [saved_models/XLNetDepr-3_256_8-ALL_NA-PEL-BS1-GWS_PCC_IT192_DH_3LMAEALPHANA_NZ20_PNTh0.05_AnnotThresh0.5/checkpoint-696074] due to args.save_total_limit\n"
     ]
    },
    {
     "name": "stderr",
     "output_type": "stream",
     "text": [
      "***** Running Evaluation *****\n"
     ]
    },
    {
     "name": "stderr",
     "output_type": "stream",
     "text": [
      "  Num examples = 1592\n"
     ]
    },
    {
     "name": "stderr",
     "output_type": "stream",
     "text": [
      "  Batch size = 1\n"
     ]
    },
    {
     "name": "stderr",
     "output_type": "stream",
     "text": [
      "Saving model checkpoint to saved_models/XLNetDepr-3_256_8-ALL_NA-PEL-BS1-GWS_PCC_IT192_DH_3LMAEALPHANA_NZ20_PNTh0.05_AnnotThresh0.5/checkpoint-728004\n"
     ]
    },
    {
     "name": "stderr",
     "output_type": "stream",
     "text": [
      "Configuration saved in saved_models/XLNetDepr-3_256_8-ALL_NA-PEL-BS1-GWS_PCC_IT192_DH_3LMAEALPHANA_NZ20_PNTh0.05_AnnotThresh0.5/checkpoint-728004/config.json\n"
     ]
    },
    {
     "name": "stderr",
     "output_type": "stream",
     "text": [
      "Model weights saved in saved_models/XLNetDepr-3_256_8-ALL_NA-PEL-BS1-GWS_PCC_IT192_DH_3LMAEALPHANA_NZ20_PNTh0.05_AnnotThresh0.5/checkpoint-728004/pytorch_model.bin\n"
     ]
    },
    {
     "name": "stderr",
     "output_type": "stream",
     "text": [
      "Deleting older checkpoint [saved_models/XLNetDepr-3_256_8-ALL_NA-PEL-BS1-GWS_PCC_IT192_DH_3LMAEALPHANA_NZ20_PNTh0.05_AnnotThresh0.5/checkpoint-702460] due to args.save_total_limit\n"
     ]
    },
    {
     "name": "stderr",
     "output_type": "stream",
     "text": [
      "***** Running Evaluation *****\n"
     ]
    },
    {
     "name": "stderr",
     "output_type": "stream",
     "text": [
      "  Num examples = 1592\n"
     ]
    },
    {
     "name": "stderr",
     "output_type": "stream",
     "text": [
      "  Batch size = 1\n"
     ]
    },
    {
     "name": "stderr",
     "output_type": "stream",
     "text": [
      "Saving model checkpoint to saved_models/XLNetDepr-3_256_8-ALL_NA-PEL-BS1-GWS_PCC_IT192_DH_3LMAEALPHANA_NZ20_PNTh0.05_AnnotThresh0.5/checkpoint-734390\n"
     ]
    },
    {
     "name": "stderr",
     "output_type": "stream",
     "text": [
      "Configuration saved in saved_models/XLNetDepr-3_256_8-ALL_NA-PEL-BS1-GWS_PCC_IT192_DH_3LMAEALPHANA_NZ20_PNTh0.05_AnnotThresh0.5/checkpoint-734390/config.json\n"
     ]
    },
    {
     "name": "stderr",
     "output_type": "stream",
     "text": [
      "Model weights saved in saved_models/XLNetDepr-3_256_8-ALL_NA-PEL-BS1-GWS_PCC_IT192_DH_3LMAEALPHANA_NZ20_PNTh0.05_AnnotThresh0.5/checkpoint-734390/pytorch_model.bin\n"
     ]
    },
    {
     "name": "stderr",
     "output_type": "stream",
     "text": [
      "Deleting older checkpoint [saved_models/XLNetDepr-3_256_8-ALL_NA-PEL-BS1-GWS_PCC_IT192_DH_3LMAEALPHANA_NZ20_PNTh0.05_AnnotThresh0.5/checkpoint-708846] due to args.save_total_limit\n"
     ]
    },
    {
     "name": "stderr",
     "output_type": "stream",
     "text": [
      "***** Running Evaluation *****\n"
     ]
    },
    {
     "name": "stderr",
     "output_type": "stream",
     "text": [
      "  Num examples = 1592\n"
     ]
    },
    {
     "name": "stderr",
     "output_type": "stream",
     "text": [
      "  Batch size = 1\n"
     ]
    },
    {
     "name": "stderr",
     "output_type": "stream",
     "text": [
      "Saving model checkpoint to saved_models/XLNetDepr-3_256_8-ALL_NA-PEL-BS1-GWS_PCC_IT192_DH_3LMAEALPHANA_NZ20_PNTh0.05_AnnotThresh0.5/checkpoint-740776\n"
     ]
    },
    {
     "name": "stderr",
     "output_type": "stream",
     "text": [
      "Configuration saved in saved_models/XLNetDepr-3_256_8-ALL_NA-PEL-BS1-GWS_PCC_IT192_DH_3LMAEALPHANA_NZ20_PNTh0.05_AnnotThresh0.5/checkpoint-740776/config.json\n"
     ]
    },
    {
     "name": "stderr",
     "output_type": "stream",
     "text": [
      "Model weights saved in saved_models/XLNetDepr-3_256_8-ALL_NA-PEL-BS1-GWS_PCC_IT192_DH_3LMAEALPHANA_NZ20_PNTh0.05_AnnotThresh0.5/checkpoint-740776/pytorch_model.bin\n"
     ]
    },
    {
     "name": "stderr",
     "output_type": "stream",
     "text": [
      "Deleting older checkpoint [saved_models/XLNetDepr-3_256_8-ALL_NA-PEL-BS1-GWS_PCC_IT192_DH_3LMAEALPHANA_NZ20_PNTh0.05_AnnotThresh0.5/checkpoint-715232] due to args.save_total_limit\n"
     ]
    },
    {
     "name": "stderr",
     "output_type": "stream",
     "text": [
      "***** Running Evaluation *****\n"
     ]
    },
    {
     "name": "stderr",
     "output_type": "stream",
     "text": [
      "  Num examples = 1592\n"
     ]
    },
    {
     "name": "stderr",
     "output_type": "stream",
     "text": [
      "  Batch size = 1\n"
     ]
    },
    {
     "name": "stderr",
     "output_type": "stream",
     "text": [
      "Saving model checkpoint to saved_models/XLNetDepr-3_256_8-ALL_NA-PEL-BS1-GWS_PCC_IT192_DH_3LMAEALPHANA_NZ20_PNTh0.05_AnnotThresh0.5/checkpoint-747162\n"
     ]
    },
    {
     "name": "stderr",
     "output_type": "stream",
     "text": [
      "Configuration saved in saved_models/XLNetDepr-3_256_8-ALL_NA-PEL-BS1-GWS_PCC_IT192_DH_3LMAEALPHANA_NZ20_PNTh0.05_AnnotThresh0.5/checkpoint-747162/config.json\n"
     ]
    },
    {
     "name": "stderr",
     "output_type": "stream",
     "text": [
      "Model weights saved in saved_models/XLNetDepr-3_256_8-ALL_NA-PEL-BS1-GWS_PCC_IT192_DH_3LMAEALPHANA_NZ20_PNTh0.05_AnnotThresh0.5/checkpoint-747162/pytorch_model.bin\n"
     ]
    },
    {
     "name": "stderr",
     "output_type": "stream",
     "text": [
      "Deleting older checkpoint [saved_models/XLNetDepr-3_256_8-ALL_NA-PEL-BS1-GWS_PCC_IT192_DH_3LMAEALPHANA_NZ20_PNTh0.05_AnnotThresh0.5/checkpoint-721618] due to args.save_total_limit\n"
     ]
    },
    {
     "name": "stderr",
     "output_type": "stream",
     "text": [
      "***** Running Evaluation *****\n"
     ]
    },
    {
     "name": "stderr",
     "output_type": "stream",
     "text": [
      "  Num examples = 1592\n"
     ]
    },
    {
     "name": "stderr",
     "output_type": "stream",
     "text": [
      "  Batch size = 1\n"
     ]
    },
    {
     "name": "stderr",
     "output_type": "stream",
     "text": [
      "Saving model checkpoint to saved_models/XLNetDepr-3_256_8-ALL_NA-PEL-BS1-GWS_PCC_IT192_DH_3LMAEALPHANA_NZ20_PNTh0.05_AnnotThresh0.5/checkpoint-753548\n"
     ]
    },
    {
     "name": "stderr",
     "output_type": "stream",
     "text": [
      "Configuration saved in saved_models/XLNetDepr-3_256_8-ALL_NA-PEL-BS1-GWS_PCC_IT192_DH_3LMAEALPHANA_NZ20_PNTh0.05_AnnotThresh0.5/checkpoint-753548/config.json\n"
     ]
    },
    {
     "name": "stderr",
     "output_type": "stream",
     "text": [
      "Model weights saved in saved_models/XLNetDepr-3_256_8-ALL_NA-PEL-BS1-GWS_PCC_IT192_DH_3LMAEALPHANA_NZ20_PNTh0.05_AnnotThresh0.5/checkpoint-753548/pytorch_model.bin\n"
     ]
    },
    {
     "name": "stderr",
     "output_type": "stream",
     "text": [
      "Deleting older checkpoint [saved_models/XLNetDepr-3_256_8-ALL_NA-PEL-BS1-GWS_PCC_IT192_DH_3LMAEALPHANA_NZ20_PNTh0.05_AnnotThresh0.5/checkpoint-728004] due to args.save_total_limit\n"
     ]
    },
    {
     "name": "stderr",
     "output_type": "stream",
     "text": [
      "***** Running Evaluation *****\n"
     ]
    },
    {
     "name": "stderr",
     "output_type": "stream",
     "text": [
      "  Num examples = 1592\n"
     ]
    },
    {
     "name": "stderr",
     "output_type": "stream",
     "text": [
      "  Batch size = 1\n"
     ]
    },
    {
     "name": "stderr",
     "output_type": "stream",
     "text": [
      "Saving model checkpoint to saved_models/XLNetDepr-3_256_8-ALL_NA-PEL-BS1-GWS_PCC_IT192_DH_3LMAEALPHANA_NZ20_PNTh0.05_AnnotThresh0.5/checkpoint-759934\n"
     ]
    },
    {
     "name": "stderr",
     "output_type": "stream",
     "text": [
      "Configuration saved in saved_models/XLNetDepr-3_256_8-ALL_NA-PEL-BS1-GWS_PCC_IT192_DH_3LMAEALPHANA_NZ20_PNTh0.05_AnnotThresh0.5/checkpoint-759934/config.json\n"
     ]
    },
    {
     "name": "stderr",
     "output_type": "stream",
     "text": [
      "Model weights saved in saved_models/XLNetDepr-3_256_8-ALL_NA-PEL-BS1-GWS_PCC_IT192_DH_3LMAEALPHANA_NZ20_PNTh0.05_AnnotThresh0.5/checkpoint-759934/pytorch_model.bin\n"
     ]
    },
    {
     "name": "stderr",
     "output_type": "stream",
     "text": [
      "Deleting older checkpoint [saved_models/XLNetDepr-3_256_8-ALL_NA-PEL-BS1-GWS_PCC_IT192_DH_3LMAEALPHANA_NZ20_PNTh0.05_AnnotThresh0.5/checkpoint-734390] due to args.save_total_limit\n"
     ]
    },
    {
     "name": "stderr",
     "output_type": "stream",
     "text": [
      "***** Running Evaluation *****\n"
     ]
    },
    {
     "name": "stderr",
     "output_type": "stream",
     "text": [
      "  Num examples = 1592\n"
     ]
    },
    {
     "name": "stderr",
     "output_type": "stream",
     "text": [
      "  Batch size = 1\n"
     ]
    },
    {
     "name": "stderr",
     "output_type": "stream",
     "text": [
      "Saving model checkpoint to saved_models/XLNetDepr-3_256_8-ALL_NA-PEL-BS1-GWS_PCC_IT192_DH_3LMAEALPHANA_NZ20_PNTh0.05_AnnotThresh0.5/checkpoint-766320\n"
     ]
    },
    {
     "name": "stderr",
     "output_type": "stream",
     "text": [
      "Configuration saved in saved_models/XLNetDepr-3_256_8-ALL_NA-PEL-BS1-GWS_PCC_IT192_DH_3LMAEALPHANA_NZ20_PNTh0.05_AnnotThresh0.5/checkpoint-766320/config.json\n"
     ]
    },
    {
     "name": "stderr",
     "output_type": "stream",
     "text": [
      "Model weights saved in saved_models/XLNetDepr-3_256_8-ALL_NA-PEL-BS1-GWS_PCC_IT192_DH_3LMAEALPHANA_NZ20_PNTh0.05_AnnotThresh0.5/checkpoint-766320/pytorch_model.bin\n"
     ]
    },
    {
     "name": "stderr",
     "output_type": "stream",
     "text": [
      "Deleting older checkpoint [saved_models/XLNetDepr-3_256_8-ALL_NA-PEL-BS1-GWS_PCC_IT192_DH_3LMAEALPHANA_NZ20_PNTh0.05_AnnotThresh0.5/checkpoint-740776] due to args.save_total_limit\n"
     ]
    },
    {
     "name": "stderr",
     "output_type": "stream",
     "text": [
      "***** Running Evaluation *****\n"
     ]
    },
    {
     "name": "stderr",
     "output_type": "stream",
     "text": [
      "  Num examples = 1592\n"
     ]
    },
    {
     "name": "stderr",
     "output_type": "stream",
     "text": [
      "  Batch size = 1\n"
     ]
    },
    {
     "name": "stderr",
     "output_type": "stream",
     "text": [
      "Saving model checkpoint to saved_models/XLNetDepr-3_256_8-ALL_NA-PEL-BS1-GWS_PCC_IT192_DH_3LMAEALPHANA_NZ20_PNTh0.05_AnnotThresh0.5/checkpoint-772706\n"
     ]
    },
    {
     "name": "stderr",
     "output_type": "stream",
     "text": [
      "Configuration saved in saved_models/XLNetDepr-3_256_8-ALL_NA-PEL-BS1-GWS_PCC_IT192_DH_3LMAEALPHANA_NZ20_PNTh0.05_AnnotThresh0.5/checkpoint-772706/config.json\n"
     ]
    },
    {
     "name": "stderr",
     "output_type": "stream",
     "text": [
      "Model weights saved in saved_models/XLNetDepr-3_256_8-ALL_NA-PEL-BS1-GWS_PCC_IT192_DH_3LMAEALPHANA_NZ20_PNTh0.05_AnnotThresh0.5/checkpoint-772706/pytorch_model.bin\n"
     ]
    },
    {
     "name": "stderr",
     "output_type": "stream",
     "text": [
      "Deleting older checkpoint [saved_models/XLNetDepr-3_256_8-ALL_NA-PEL-BS1-GWS_PCC_IT192_DH_3LMAEALPHANA_NZ20_PNTh0.05_AnnotThresh0.5/checkpoint-747162] due to args.save_total_limit\n"
     ]
    },
    {
     "name": "stderr",
     "output_type": "stream",
     "text": [
      "***** Running Evaluation *****\n"
     ]
    },
    {
     "name": "stderr",
     "output_type": "stream",
     "text": [
      "  Num examples = 1592\n"
     ]
    },
    {
     "name": "stderr",
     "output_type": "stream",
     "text": [
      "  Batch size = 1\n"
     ]
    },
    {
     "name": "stderr",
     "output_type": "stream",
     "text": [
      "Saving model checkpoint to saved_models/XLNetDepr-3_256_8-ALL_NA-PEL-BS1-GWS_PCC_IT192_DH_3LMAEALPHANA_NZ20_PNTh0.05_AnnotThresh0.5/checkpoint-779092\n"
     ]
    },
    {
     "name": "stderr",
     "output_type": "stream",
     "text": [
      "Configuration saved in saved_models/XLNetDepr-3_256_8-ALL_NA-PEL-BS1-GWS_PCC_IT192_DH_3LMAEALPHANA_NZ20_PNTh0.05_AnnotThresh0.5/checkpoint-779092/config.json\n"
     ]
    },
    {
     "name": "stderr",
     "output_type": "stream",
     "text": [
      "Model weights saved in saved_models/XLNetDepr-3_256_8-ALL_NA-PEL-BS1-GWS_PCC_IT192_DH_3LMAEALPHANA_NZ20_PNTh0.05_AnnotThresh0.5/checkpoint-779092/pytorch_model.bin\n"
     ]
    },
    {
     "name": "stderr",
     "output_type": "stream",
     "text": [
      "Deleting older checkpoint [saved_models/XLNetDepr-3_256_8-ALL_NA-PEL-BS1-GWS_PCC_IT192_DH_3LMAEALPHANA_NZ20_PNTh0.05_AnnotThresh0.5/checkpoint-753548] due to args.save_total_limit\n"
     ]
    },
    {
     "name": "stderr",
     "output_type": "stream",
     "text": [
      "***** Running Evaluation *****\n"
     ]
    },
    {
     "name": "stderr",
     "output_type": "stream",
     "text": [
      "  Num examples = 1592\n"
     ]
    },
    {
     "name": "stderr",
     "output_type": "stream",
     "text": [
      "  Batch size = 1\n"
     ]
    },
    {
     "name": "stderr",
     "output_type": "stream",
     "text": [
      "Saving model checkpoint to saved_models/XLNetDepr-3_256_8-ALL_NA-PEL-BS1-GWS_PCC_IT192_DH_3LMAEALPHANA_NZ20_PNTh0.05_AnnotThresh0.5/checkpoint-785478\n"
     ]
    },
    {
     "name": "stderr",
     "output_type": "stream",
     "text": [
      "Configuration saved in saved_models/XLNetDepr-3_256_8-ALL_NA-PEL-BS1-GWS_PCC_IT192_DH_3LMAEALPHANA_NZ20_PNTh0.05_AnnotThresh0.5/checkpoint-785478/config.json\n"
     ]
    },
    {
     "name": "stderr",
     "output_type": "stream",
     "text": [
      "Model weights saved in saved_models/XLNetDepr-3_256_8-ALL_NA-PEL-BS1-GWS_PCC_IT192_DH_3LMAEALPHANA_NZ20_PNTh0.05_AnnotThresh0.5/checkpoint-785478/pytorch_model.bin\n"
     ]
    },
    {
     "name": "stderr",
     "output_type": "stream",
     "text": [
      "Deleting older checkpoint [saved_models/XLNetDepr-3_256_8-ALL_NA-PEL-BS1-GWS_PCC_IT192_DH_3LMAEALPHANA_NZ20_PNTh0.05_AnnotThresh0.5/checkpoint-759934] due to args.save_total_limit\n"
     ]
    },
    {
     "name": "stderr",
     "output_type": "stream",
     "text": [
      "***** Running Evaluation *****\n"
     ]
    },
    {
     "name": "stderr",
     "output_type": "stream",
     "text": [
      "  Num examples = 1592\n"
     ]
    },
    {
     "name": "stderr",
     "output_type": "stream",
     "text": [
      "  Batch size = 1\n"
     ]
    },
    {
     "name": "stderr",
     "output_type": "stream",
     "text": [
      "Saving model checkpoint to saved_models/XLNetDepr-3_256_8-ALL_NA-PEL-BS1-GWS_PCC_IT192_DH_3LMAEALPHANA_NZ20_PNTh0.05_AnnotThresh0.5/checkpoint-791864\n"
     ]
    },
    {
     "name": "stderr",
     "output_type": "stream",
     "text": [
      "Configuration saved in saved_models/XLNetDepr-3_256_8-ALL_NA-PEL-BS1-GWS_PCC_IT192_DH_3LMAEALPHANA_NZ20_PNTh0.05_AnnotThresh0.5/checkpoint-791864/config.json\n"
     ]
    },
    {
     "name": "stderr",
     "output_type": "stream",
     "text": [
      "Model weights saved in saved_models/XLNetDepr-3_256_8-ALL_NA-PEL-BS1-GWS_PCC_IT192_DH_3LMAEALPHANA_NZ20_PNTh0.05_AnnotThresh0.5/checkpoint-791864/pytorch_model.bin\n"
     ]
    },
    {
     "name": "stderr",
     "output_type": "stream",
     "text": [
      "Deleting older checkpoint [saved_models/XLNetDepr-3_256_8-ALL_NA-PEL-BS1-GWS_PCC_IT192_DH_3LMAEALPHANA_NZ20_PNTh0.05_AnnotThresh0.5/checkpoint-766320] due to args.save_total_limit\n"
     ]
    },
    {
     "name": "stderr",
     "output_type": "stream",
     "text": [
      "***** Running Evaluation *****\n"
     ]
    },
    {
     "name": "stderr",
     "output_type": "stream",
     "text": [
      "  Num examples = 1592\n"
     ]
    },
    {
     "name": "stderr",
     "output_type": "stream",
     "text": [
      "  Batch size = 1\n"
     ]
    },
    {
     "name": "stderr",
     "output_type": "stream",
     "text": [
      "Saving model checkpoint to saved_models/XLNetDepr-3_256_8-ALL_NA-PEL-BS1-GWS_PCC_IT192_DH_3LMAEALPHANA_NZ20_PNTh0.05_AnnotThresh0.5/checkpoint-798250\n"
     ]
    },
    {
     "name": "stderr",
     "output_type": "stream",
     "text": [
      "Configuration saved in saved_models/XLNetDepr-3_256_8-ALL_NA-PEL-BS1-GWS_PCC_IT192_DH_3LMAEALPHANA_NZ20_PNTh0.05_AnnotThresh0.5/checkpoint-798250/config.json\n"
     ]
    },
    {
     "name": "stderr",
     "output_type": "stream",
     "text": [
      "Model weights saved in saved_models/XLNetDepr-3_256_8-ALL_NA-PEL-BS1-GWS_PCC_IT192_DH_3LMAEALPHANA_NZ20_PNTh0.05_AnnotThresh0.5/checkpoint-798250/pytorch_model.bin\n"
     ]
    },
    {
     "name": "stderr",
     "output_type": "stream",
     "text": [
      "Deleting older checkpoint [saved_models/XLNetDepr-3_256_8-ALL_NA-PEL-BS1-GWS_PCC_IT192_DH_3LMAEALPHANA_NZ20_PNTh0.05_AnnotThresh0.5/checkpoint-772706] due to args.save_total_limit\n"
     ]
    },
    {
     "name": "stderr",
     "output_type": "stream",
     "text": [
      "***** Running Evaluation *****\n"
     ]
    },
    {
     "name": "stderr",
     "output_type": "stream",
     "text": [
      "  Num examples = 1592\n"
     ]
    },
    {
     "name": "stderr",
     "output_type": "stream",
     "text": [
      "  Batch size = 1\n"
     ]
    },
    {
     "name": "stderr",
     "output_type": "stream",
     "text": [
      "Saving model checkpoint to saved_models/XLNetDepr-3_256_8-ALL_NA-PEL-BS1-GWS_PCC_IT192_DH_3LMAEALPHANA_NZ20_PNTh0.05_AnnotThresh0.5/checkpoint-804636\n"
     ]
    },
    {
     "name": "stderr",
     "output_type": "stream",
     "text": [
      "Configuration saved in saved_models/XLNetDepr-3_256_8-ALL_NA-PEL-BS1-GWS_PCC_IT192_DH_3LMAEALPHANA_NZ20_PNTh0.05_AnnotThresh0.5/checkpoint-804636/config.json\n"
     ]
    },
    {
     "name": "stderr",
     "output_type": "stream",
     "text": [
      "Model weights saved in saved_models/XLNetDepr-3_256_8-ALL_NA-PEL-BS1-GWS_PCC_IT192_DH_3LMAEALPHANA_NZ20_PNTh0.05_AnnotThresh0.5/checkpoint-804636/pytorch_model.bin\n"
     ]
    },
    {
     "name": "stderr",
     "output_type": "stream",
     "text": [
      "Deleting older checkpoint [saved_models/XLNetDepr-3_256_8-ALL_NA-PEL-BS1-GWS_PCC_IT192_DH_3LMAEALPHANA_NZ20_PNTh0.05_AnnotThresh0.5/checkpoint-779092] due to args.save_total_limit\n"
     ]
    },
    {
     "name": "stderr",
     "output_type": "stream",
     "text": [
      "***** Running Evaluation *****\n"
     ]
    },
    {
     "name": "stderr",
     "output_type": "stream",
     "text": [
      "  Num examples = 1592\n"
     ]
    },
    {
     "name": "stderr",
     "output_type": "stream",
     "text": [
      "  Batch size = 1\n"
     ]
    },
    {
     "name": "stderr",
     "output_type": "stream",
     "text": [
      "Saving model checkpoint to saved_models/XLNetDepr-3_256_8-ALL_NA-PEL-BS1-GWS_PCC_IT192_DH_3LMAEALPHANA_NZ20_PNTh0.05_AnnotThresh0.5/checkpoint-811022\n"
     ]
    },
    {
     "name": "stderr",
     "output_type": "stream",
     "text": [
      "Configuration saved in saved_models/XLNetDepr-3_256_8-ALL_NA-PEL-BS1-GWS_PCC_IT192_DH_3LMAEALPHANA_NZ20_PNTh0.05_AnnotThresh0.5/checkpoint-811022/config.json\n"
     ]
    },
    {
     "name": "stderr",
     "output_type": "stream",
     "text": [
      "Model weights saved in saved_models/XLNetDepr-3_256_8-ALL_NA-PEL-BS1-GWS_PCC_IT192_DH_3LMAEALPHANA_NZ20_PNTh0.05_AnnotThresh0.5/checkpoint-811022/pytorch_model.bin\n"
     ]
    },
    {
     "name": "stderr",
     "output_type": "stream",
     "text": [
      "Deleting older checkpoint [saved_models/XLNetDepr-3_256_8-ALL_NA-PEL-BS1-GWS_PCC_IT192_DH_3LMAEALPHANA_NZ20_PNTh0.05_AnnotThresh0.5/checkpoint-785478] due to args.save_total_limit\n"
     ]
    },
    {
     "name": "stderr",
     "output_type": "stream",
     "text": [
      "***** Running Evaluation *****\n"
     ]
    },
    {
     "name": "stderr",
     "output_type": "stream",
     "text": [
      "  Num examples = 1592\n"
     ]
    },
    {
     "name": "stderr",
     "output_type": "stream",
     "text": [
      "  Batch size = 1\n"
     ]
    },
    {
     "name": "stderr",
     "output_type": "stream",
     "text": [
      "Saving model checkpoint to saved_models/XLNetDepr-3_256_8-ALL_NA-PEL-BS1-GWS_PCC_IT192_DH_3LMAEALPHANA_NZ20_PNTh0.05_AnnotThresh0.5/checkpoint-817408\n"
     ]
    },
    {
     "name": "stderr",
     "output_type": "stream",
     "text": [
      "Configuration saved in saved_models/XLNetDepr-3_256_8-ALL_NA-PEL-BS1-GWS_PCC_IT192_DH_3LMAEALPHANA_NZ20_PNTh0.05_AnnotThresh0.5/checkpoint-817408/config.json\n"
     ]
    },
    {
     "name": "stderr",
     "output_type": "stream",
     "text": [
      "Model weights saved in saved_models/XLNetDepr-3_256_8-ALL_NA-PEL-BS1-GWS_PCC_IT192_DH_3LMAEALPHANA_NZ20_PNTh0.05_AnnotThresh0.5/checkpoint-817408/pytorch_model.bin\n"
     ]
    },
    {
     "name": "stderr",
     "output_type": "stream",
     "text": [
      "Deleting older checkpoint [saved_models/XLNetDepr-3_256_8-ALL_NA-PEL-BS1-GWS_PCC_IT192_DH_3LMAEALPHANA_NZ20_PNTh0.05_AnnotThresh0.5/checkpoint-791864] due to args.save_total_limit\n"
     ]
    },
    {
     "name": "stderr",
     "output_type": "stream",
     "text": [
      "***** Running Evaluation *****\n"
     ]
    },
    {
     "name": "stderr",
     "output_type": "stream",
     "text": [
      "  Num examples = 1592\n"
     ]
    },
    {
     "name": "stderr",
     "output_type": "stream",
     "text": [
      "  Batch size = 1\n"
     ]
    },
    {
     "name": "stderr",
     "output_type": "stream",
     "text": [
      "Saving model checkpoint to saved_models/XLNetDepr-3_256_8-ALL_NA-PEL-BS1-GWS_PCC_IT192_DH_3LMAEALPHANA_NZ20_PNTh0.05_AnnotThresh0.5/checkpoint-823794\n"
     ]
    },
    {
     "name": "stderr",
     "output_type": "stream",
     "text": [
      "Configuration saved in saved_models/XLNetDepr-3_256_8-ALL_NA-PEL-BS1-GWS_PCC_IT192_DH_3LMAEALPHANA_NZ20_PNTh0.05_AnnotThresh0.5/checkpoint-823794/config.json\n"
     ]
    },
    {
     "name": "stderr",
     "output_type": "stream",
     "text": [
      "Model weights saved in saved_models/XLNetDepr-3_256_8-ALL_NA-PEL-BS1-GWS_PCC_IT192_DH_3LMAEALPHANA_NZ20_PNTh0.05_AnnotThresh0.5/checkpoint-823794/pytorch_model.bin\n"
     ]
    },
    {
     "name": "stderr",
     "output_type": "stream",
     "text": [
      "Deleting older checkpoint [saved_models/XLNetDepr-3_256_8-ALL_NA-PEL-BS1-GWS_PCC_IT192_DH_3LMAEALPHANA_NZ20_PNTh0.05_AnnotThresh0.5/checkpoint-798250] due to args.save_total_limit\n"
     ]
    },
    {
     "name": "stderr",
     "output_type": "stream",
     "text": [
      "***** Running Evaluation *****\n"
     ]
    },
    {
     "name": "stderr",
     "output_type": "stream",
     "text": [
      "  Num examples = 1592\n"
     ]
    },
    {
     "name": "stderr",
     "output_type": "stream",
     "text": [
      "  Batch size = 1\n"
     ]
    },
    {
     "name": "stderr",
     "output_type": "stream",
     "text": [
      "Saving model checkpoint to saved_models/XLNetDepr-3_256_8-ALL_NA-PEL-BS1-GWS_PCC_IT192_DH_3LMAEALPHANA_NZ20_PNTh0.05_AnnotThresh0.5/checkpoint-830180\n"
     ]
    },
    {
     "name": "stderr",
     "output_type": "stream",
     "text": [
      "Configuration saved in saved_models/XLNetDepr-3_256_8-ALL_NA-PEL-BS1-GWS_PCC_IT192_DH_3LMAEALPHANA_NZ20_PNTh0.05_AnnotThresh0.5/checkpoint-830180/config.json\n"
     ]
    },
    {
     "name": "stderr",
     "output_type": "stream",
     "text": [
      "Model weights saved in saved_models/XLNetDepr-3_256_8-ALL_NA-PEL-BS1-GWS_PCC_IT192_DH_3LMAEALPHANA_NZ20_PNTh0.05_AnnotThresh0.5/checkpoint-830180/pytorch_model.bin\n"
     ]
    },
    {
     "name": "stderr",
     "output_type": "stream",
     "text": [
      "Deleting older checkpoint [saved_models/XLNetDepr-3_256_8-ALL_NA-PEL-BS1-GWS_PCC_IT192_DH_3LMAEALPHANA_NZ20_PNTh0.05_AnnotThresh0.5/checkpoint-804636] due to args.save_total_limit\n"
     ]
    },
    {
     "name": "stderr",
     "output_type": "stream",
     "text": [
      "***** Running Evaluation *****\n"
     ]
    },
    {
     "name": "stderr",
     "output_type": "stream",
     "text": [
      "  Num examples = 1592\n"
     ]
    },
    {
     "name": "stderr",
     "output_type": "stream",
     "text": [
      "  Batch size = 1\n"
     ]
    },
    {
     "name": "stderr",
     "output_type": "stream",
     "text": [
      "Saving model checkpoint to saved_models/XLNetDepr-3_256_8-ALL_NA-PEL-BS1-GWS_PCC_IT192_DH_3LMAEALPHANA_NZ20_PNTh0.05_AnnotThresh0.5/checkpoint-836566\n"
     ]
    },
    {
     "name": "stderr",
     "output_type": "stream",
     "text": [
      "Configuration saved in saved_models/XLNetDepr-3_256_8-ALL_NA-PEL-BS1-GWS_PCC_IT192_DH_3LMAEALPHANA_NZ20_PNTh0.05_AnnotThresh0.5/checkpoint-836566/config.json\n"
     ]
    },
    {
     "name": "stderr",
     "output_type": "stream",
     "text": [
      "Model weights saved in saved_models/XLNetDepr-3_256_8-ALL_NA-PEL-BS1-GWS_PCC_IT192_DH_3LMAEALPHANA_NZ20_PNTh0.05_AnnotThresh0.5/checkpoint-836566/pytorch_model.bin\n"
     ]
    },
    {
     "name": "stderr",
     "output_type": "stream",
     "text": [
      "Deleting older checkpoint [saved_models/XLNetDepr-3_256_8-ALL_NA-PEL-BS1-GWS_PCC_IT192_DH_3LMAEALPHANA_NZ20_PNTh0.05_AnnotThresh0.5/checkpoint-811022] due to args.save_total_limit\n"
     ]
    },
    {
     "name": "stderr",
     "output_type": "stream",
     "text": [
      "***** Running Evaluation *****\n"
     ]
    },
    {
     "name": "stderr",
     "output_type": "stream",
     "text": [
      "  Num examples = 1592\n"
     ]
    },
    {
     "name": "stderr",
     "output_type": "stream",
     "text": [
      "  Batch size = 1\n"
     ]
    },
    {
     "name": "stderr",
     "output_type": "stream",
     "text": [
      "Saving model checkpoint to saved_models/XLNetDepr-3_256_8-ALL_NA-PEL-BS1-GWS_PCC_IT192_DH_3LMAEALPHANA_NZ20_PNTh0.05_AnnotThresh0.5/checkpoint-842952\n"
     ]
    },
    {
     "name": "stderr",
     "output_type": "stream",
     "text": [
      "Configuration saved in saved_models/XLNetDepr-3_256_8-ALL_NA-PEL-BS1-GWS_PCC_IT192_DH_3LMAEALPHANA_NZ20_PNTh0.05_AnnotThresh0.5/checkpoint-842952/config.json\n"
     ]
    },
    {
     "name": "stderr",
     "output_type": "stream",
     "text": [
      "Model weights saved in saved_models/XLNetDepr-3_256_8-ALL_NA-PEL-BS1-GWS_PCC_IT192_DH_3LMAEALPHANA_NZ20_PNTh0.05_AnnotThresh0.5/checkpoint-842952/pytorch_model.bin\n"
     ]
    },
    {
     "name": "stderr",
     "output_type": "stream",
     "text": [
      "Deleting older checkpoint [saved_models/XLNetDepr-3_256_8-ALL_NA-PEL-BS1-GWS_PCC_IT192_DH_3LMAEALPHANA_NZ20_PNTh0.05_AnnotThresh0.5/checkpoint-817408] due to args.save_total_limit\n"
     ]
    },
    {
     "name": "stderr",
     "output_type": "stream",
     "text": [
      "***** Running Evaluation *****\n"
     ]
    },
    {
     "name": "stderr",
     "output_type": "stream",
     "text": [
      "  Num examples = 1592\n"
     ]
    },
    {
     "name": "stderr",
     "output_type": "stream",
     "text": [
      "  Batch size = 1\n"
     ]
    },
    {
     "name": "stderr",
     "output_type": "stream",
     "text": [
      "Saving model checkpoint to saved_models/XLNetDepr-3_256_8-ALL_NA-PEL-BS1-GWS_PCC_IT192_DH_3LMAEALPHANA_NZ20_PNTh0.05_AnnotThresh0.5/checkpoint-849338\n"
     ]
    },
    {
     "name": "stderr",
     "output_type": "stream",
     "text": [
      "Configuration saved in saved_models/XLNetDepr-3_256_8-ALL_NA-PEL-BS1-GWS_PCC_IT192_DH_3LMAEALPHANA_NZ20_PNTh0.05_AnnotThresh0.5/checkpoint-849338/config.json\n"
     ]
    },
    {
     "name": "stderr",
     "output_type": "stream",
     "text": [
      "Model weights saved in saved_models/XLNetDepr-3_256_8-ALL_NA-PEL-BS1-GWS_PCC_IT192_DH_3LMAEALPHANA_NZ20_PNTh0.05_AnnotThresh0.5/checkpoint-849338/pytorch_model.bin\n"
     ]
    },
    {
     "name": "stderr",
     "output_type": "stream",
     "text": [
      "Deleting older checkpoint [saved_models/XLNetDepr-3_256_8-ALL_NA-PEL-BS1-GWS_PCC_IT192_DH_3LMAEALPHANA_NZ20_PNTh0.05_AnnotThresh0.5/checkpoint-823794] due to args.save_total_limit\n"
     ]
    },
    {
     "name": "stderr",
     "output_type": "stream",
     "text": [
      "***** Running Evaluation *****\n"
     ]
    },
    {
     "name": "stderr",
     "output_type": "stream",
     "text": [
      "  Num examples = 1592\n"
     ]
    },
    {
     "name": "stderr",
     "output_type": "stream",
     "text": [
      "  Batch size = 1\n"
     ]
    },
    {
     "name": "stderr",
     "output_type": "stream",
     "text": [
      "Saving model checkpoint to saved_models/XLNetDepr-3_256_8-ALL_NA-PEL-BS1-GWS_PCC_IT192_DH_3LMAEALPHANA_NZ20_PNTh0.05_AnnotThresh0.5/checkpoint-855724\n"
     ]
    },
    {
     "name": "stderr",
     "output_type": "stream",
     "text": [
      "Configuration saved in saved_models/XLNetDepr-3_256_8-ALL_NA-PEL-BS1-GWS_PCC_IT192_DH_3LMAEALPHANA_NZ20_PNTh0.05_AnnotThresh0.5/checkpoint-855724/config.json\n"
     ]
    },
    {
     "name": "stderr",
     "output_type": "stream",
     "text": [
      "Model weights saved in saved_models/XLNetDepr-3_256_8-ALL_NA-PEL-BS1-GWS_PCC_IT192_DH_3LMAEALPHANA_NZ20_PNTh0.05_AnnotThresh0.5/checkpoint-855724/pytorch_model.bin\n"
     ]
    },
    {
     "name": "stderr",
     "output_type": "stream",
     "text": [
      "Deleting older checkpoint [saved_models/XLNetDepr-3_256_8-ALL_NA-PEL-BS1-GWS_PCC_IT192_DH_3LMAEALPHANA_NZ20_PNTh0.05_AnnotThresh0.5/checkpoint-830180] due to args.save_total_limit\n"
     ]
    },
    {
     "name": "stderr",
     "output_type": "stream",
     "text": [
      "***** Running Evaluation *****\n"
     ]
    },
    {
     "name": "stderr",
     "output_type": "stream",
     "text": [
      "  Num examples = 1592\n"
     ]
    },
    {
     "name": "stderr",
     "output_type": "stream",
     "text": [
      "  Batch size = 1\n"
     ]
    },
    {
     "name": "stderr",
     "output_type": "stream",
     "text": [
      "Saving model checkpoint to saved_models/XLNetDepr-3_256_8-ALL_NA-PEL-BS1-GWS_PCC_IT192_DH_3LMAEALPHANA_NZ20_PNTh0.05_AnnotThresh0.5/checkpoint-862110\n"
     ]
    },
    {
     "name": "stderr",
     "output_type": "stream",
     "text": [
      "Configuration saved in saved_models/XLNetDepr-3_256_8-ALL_NA-PEL-BS1-GWS_PCC_IT192_DH_3LMAEALPHANA_NZ20_PNTh0.05_AnnotThresh0.5/checkpoint-862110/config.json\n"
     ]
    },
    {
     "name": "stderr",
     "output_type": "stream",
     "text": [
      "Model weights saved in saved_models/XLNetDepr-3_256_8-ALL_NA-PEL-BS1-GWS_PCC_IT192_DH_3LMAEALPHANA_NZ20_PNTh0.05_AnnotThresh0.5/checkpoint-862110/pytorch_model.bin\n"
     ]
    },
    {
     "name": "stderr",
     "output_type": "stream",
     "text": [
      "Deleting older checkpoint [saved_models/XLNetDepr-3_256_8-ALL_NA-PEL-BS1-GWS_PCC_IT192_DH_3LMAEALPHANA_NZ20_PNTh0.05_AnnotThresh0.5/checkpoint-836566] due to args.save_total_limit\n"
     ]
    },
    {
     "name": "stderr",
     "output_type": "stream",
     "text": [
      "***** Running Evaluation *****\n"
     ]
    },
    {
     "name": "stderr",
     "output_type": "stream",
     "text": [
      "  Num examples = 1592\n"
     ]
    },
    {
     "name": "stderr",
     "output_type": "stream",
     "text": [
      "  Batch size = 1\n"
     ]
    },
    {
     "name": "stderr",
     "output_type": "stream",
     "text": [
      "Saving model checkpoint to saved_models/XLNetDepr-3_256_8-ALL_NA-PEL-BS1-GWS_PCC_IT192_DH_3LMAEALPHANA_NZ20_PNTh0.05_AnnotThresh0.5/checkpoint-868496\n"
     ]
    },
    {
     "name": "stderr",
     "output_type": "stream",
     "text": [
      "Configuration saved in saved_models/XLNetDepr-3_256_8-ALL_NA-PEL-BS1-GWS_PCC_IT192_DH_3LMAEALPHANA_NZ20_PNTh0.05_AnnotThresh0.5/checkpoint-868496/config.json\n"
     ]
    },
    {
     "name": "stderr",
     "output_type": "stream",
     "text": [
      "Model weights saved in saved_models/XLNetDepr-3_256_8-ALL_NA-PEL-BS1-GWS_PCC_IT192_DH_3LMAEALPHANA_NZ20_PNTh0.05_AnnotThresh0.5/checkpoint-868496/pytorch_model.bin\n"
     ]
    },
    {
     "name": "stderr",
     "output_type": "stream",
     "text": [
      "Deleting older checkpoint [saved_models/XLNetDepr-3_256_8-ALL_NA-PEL-BS1-GWS_PCC_IT192_DH_3LMAEALPHANA_NZ20_PNTh0.05_AnnotThresh0.5/checkpoint-842952] due to args.save_total_limit\n"
     ]
    },
    {
     "name": "stderr",
     "output_type": "stream",
     "text": [
      "***** Running Evaluation *****\n"
     ]
    },
    {
     "name": "stderr",
     "output_type": "stream",
     "text": [
      "  Num examples = 1592\n"
     ]
    },
    {
     "name": "stderr",
     "output_type": "stream",
     "text": [
      "  Batch size = 1\n"
     ]
    },
    {
     "name": "stderr",
     "output_type": "stream",
     "text": [
      "Saving model checkpoint to saved_models/XLNetDepr-3_256_8-ALL_NA-PEL-BS1-GWS_PCC_IT192_DH_3LMAEALPHANA_NZ20_PNTh0.05_AnnotThresh0.5/checkpoint-874882\n"
     ]
    },
    {
     "name": "stderr",
     "output_type": "stream",
     "text": [
      "Configuration saved in saved_models/XLNetDepr-3_256_8-ALL_NA-PEL-BS1-GWS_PCC_IT192_DH_3LMAEALPHANA_NZ20_PNTh0.05_AnnotThresh0.5/checkpoint-874882/config.json\n"
     ]
    },
    {
     "name": "stderr",
     "output_type": "stream",
     "text": [
      "Model weights saved in saved_models/XLNetDepr-3_256_8-ALL_NA-PEL-BS1-GWS_PCC_IT192_DH_3LMAEALPHANA_NZ20_PNTh0.05_AnnotThresh0.5/checkpoint-874882/pytorch_model.bin\n"
     ]
    },
    {
     "name": "stderr",
     "output_type": "stream",
     "text": [
      "Deleting older checkpoint [saved_models/XLNetDepr-3_256_8-ALL_NA-PEL-BS1-GWS_PCC_IT192_DH_3LMAEALPHANA_NZ20_PNTh0.05_AnnotThresh0.5/checkpoint-849338] due to args.save_total_limit\n"
     ]
    },
    {
     "name": "stderr",
     "output_type": "stream",
     "text": [
      "***** Running Evaluation *****\n"
     ]
    },
    {
     "name": "stderr",
     "output_type": "stream",
     "text": [
      "  Num examples = 1592\n"
     ]
    },
    {
     "name": "stderr",
     "output_type": "stream",
     "text": [
      "  Batch size = 1\n"
     ]
    },
    {
     "name": "stderr",
     "output_type": "stream",
     "text": [
      "Saving model checkpoint to saved_models/XLNetDepr-3_256_8-ALL_NA-PEL-BS1-GWS_PCC_IT192_DH_3LMAEALPHANA_NZ20_PNTh0.05_AnnotThresh0.5/checkpoint-881268\n"
     ]
    },
    {
     "name": "stderr",
     "output_type": "stream",
     "text": [
      "Configuration saved in saved_models/XLNetDepr-3_256_8-ALL_NA-PEL-BS1-GWS_PCC_IT192_DH_3LMAEALPHANA_NZ20_PNTh0.05_AnnotThresh0.5/checkpoint-881268/config.json\n"
     ]
    },
    {
     "name": "stderr",
     "output_type": "stream",
     "text": [
      "Model weights saved in saved_models/XLNetDepr-3_256_8-ALL_NA-PEL-BS1-GWS_PCC_IT192_DH_3LMAEALPHANA_NZ20_PNTh0.05_AnnotThresh0.5/checkpoint-881268/pytorch_model.bin\n"
     ]
    },
    {
     "name": "stderr",
     "output_type": "stream",
     "text": [
      "Deleting older checkpoint [saved_models/XLNetDepr-3_256_8-ALL_NA-PEL-BS1-GWS_PCC_IT192_DH_3LMAEALPHANA_NZ20_PNTh0.05_AnnotThresh0.5/checkpoint-855724] due to args.save_total_limit\n"
     ]
    },
    {
     "name": "stderr",
     "output_type": "stream",
     "text": [
      "***** Running Evaluation *****\n"
     ]
    },
    {
     "name": "stderr",
     "output_type": "stream",
     "text": [
      "  Num examples = 1592\n"
     ]
    },
    {
     "name": "stderr",
     "output_type": "stream",
     "text": [
      "  Batch size = 1\n"
     ]
    },
    {
     "name": "stderr",
     "output_type": "stream",
     "text": [
      "Saving model checkpoint to saved_models/XLNetDepr-3_256_8-ALL_NA-PEL-BS1-GWS_PCC_IT192_DH_3LMAEALPHANA_NZ20_PNTh0.05_AnnotThresh0.5/checkpoint-887654\n"
     ]
    },
    {
     "name": "stderr",
     "output_type": "stream",
     "text": [
      "Configuration saved in saved_models/XLNetDepr-3_256_8-ALL_NA-PEL-BS1-GWS_PCC_IT192_DH_3LMAEALPHANA_NZ20_PNTh0.05_AnnotThresh0.5/checkpoint-887654/config.json\n"
     ]
    },
    {
     "name": "stderr",
     "output_type": "stream",
     "text": [
      "Model weights saved in saved_models/XLNetDepr-3_256_8-ALL_NA-PEL-BS1-GWS_PCC_IT192_DH_3LMAEALPHANA_NZ20_PNTh0.05_AnnotThresh0.5/checkpoint-887654/pytorch_model.bin\n"
     ]
    },
    {
     "name": "stderr",
     "output_type": "stream",
     "text": [
      "Deleting older checkpoint [saved_models/XLNetDepr-3_256_8-ALL_NA-PEL-BS1-GWS_PCC_IT192_DH_3LMAEALPHANA_NZ20_PNTh0.05_AnnotThresh0.5/checkpoint-862110] due to args.save_total_limit\n"
     ]
    },
    {
     "name": "stderr",
     "output_type": "stream",
     "text": [
      "***** Running Evaluation *****\n"
     ]
    },
    {
     "name": "stderr",
     "output_type": "stream",
     "text": [
      "  Num examples = 1592\n"
     ]
    },
    {
     "name": "stderr",
     "output_type": "stream",
     "text": [
      "  Batch size = 1\n"
     ]
    },
    {
     "name": "stderr",
     "output_type": "stream",
     "text": [
      "Saving model checkpoint to saved_models/XLNetDepr-3_256_8-ALL_NA-PEL-BS1-GWS_PCC_IT192_DH_3LMAEALPHANA_NZ20_PNTh0.05_AnnotThresh0.5/checkpoint-894040\n"
     ]
    },
    {
     "name": "stderr",
     "output_type": "stream",
     "text": [
      "Configuration saved in saved_models/XLNetDepr-3_256_8-ALL_NA-PEL-BS1-GWS_PCC_IT192_DH_3LMAEALPHANA_NZ20_PNTh0.05_AnnotThresh0.5/checkpoint-894040/config.json\n"
     ]
    },
    {
     "name": "stderr",
     "output_type": "stream",
     "text": [
      "Model weights saved in saved_models/XLNetDepr-3_256_8-ALL_NA-PEL-BS1-GWS_PCC_IT192_DH_3LMAEALPHANA_NZ20_PNTh0.05_AnnotThresh0.5/checkpoint-894040/pytorch_model.bin\n"
     ]
    },
    {
     "name": "stderr",
     "output_type": "stream",
     "text": [
      "Deleting older checkpoint [saved_models/XLNetDepr-3_256_8-ALL_NA-PEL-BS1-GWS_PCC_IT192_DH_3LMAEALPHANA_NZ20_PNTh0.05_AnnotThresh0.5/checkpoint-868496] due to args.save_total_limit\n"
     ]
    },
    {
     "name": "stderr",
     "output_type": "stream",
     "text": [
      "***** Running Evaluation *****\n"
     ]
    },
    {
     "name": "stderr",
     "output_type": "stream",
     "text": [
      "  Num examples = 1592\n"
     ]
    },
    {
     "name": "stderr",
     "output_type": "stream",
     "text": [
      "  Batch size = 1\n"
     ]
    },
    {
     "name": "stderr",
     "output_type": "stream",
     "text": [
      "Saving model checkpoint to saved_models/XLNetDepr-3_256_8-ALL_NA-PEL-BS1-GWS_PCC_IT192_DH_3LMAEALPHANA_NZ20_PNTh0.05_AnnotThresh0.5/checkpoint-900426\n"
     ]
    },
    {
     "name": "stderr",
     "output_type": "stream",
     "text": [
      "Configuration saved in saved_models/XLNetDepr-3_256_8-ALL_NA-PEL-BS1-GWS_PCC_IT192_DH_3LMAEALPHANA_NZ20_PNTh0.05_AnnotThresh0.5/checkpoint-900426/config.json\n"
     ]
    },
    {
     "name": "stderr",
     "output_type": "stream",
     "text": [
      "Model weights saved in saved_models/XLNetDepr-3_256_8-ALL_NA-PEL-BS1-GWS_PCC_IT192_DH_3LMAEALPHANA_NZ20_PNTh0.05_AnnotThresh0.5/checkpoint-900426/pytorch_model.bin\n"
     ]
    },
    {
     "name": "stderr",
     "output_type": "stream",
     "text": [
      "Deleting older checkpoint [saved_models/XLNetDepr-3_256_8-ALL_NA-PEL-BS1-GWS_PCC_IT192_DH_3LMAEALPHANA_NZ20_PNTh0.05_AnnotThresh0.5/checkpoint-874882] due to args.save_total_limit\n"
     ]
    },
    {
     "name": "stderr",
     "output_type": "stream",
     "text": [
      "***** Running Evaluation *****\n"
     ]
    },
    {
     "name": "stderr",
     "output_type": "stream",
     "text": [
      "  Num examples = 1592\n"
     ]
    },
    {
     "name": "stderr",
     "output_type": "stream",
     "text": [
      "  Batch size = 1\n"
     ]
    },
    {
     "name": "stderr",
     "output_type": "stream",
     "text": [
      "Saving model checkpoint to saved_models/XLNetDepr-3_256_8-ALL_NA-PEL-BS1-GWS_PCC_IT192_DH_3LMAEALPHANA_NZ20_PNTh0.05_AnnotThresh0.5/checkpoint-906812\n"
     ]
    },
    {
     "name": "stderr",
     "output_type": "stream",
     "text": [
      "Configuration saved in saved_models/XLNetDepr-3_256_8-ALL_NA-PEL-BS1-GWS_PCC_IT192_DH_3LMAEALPHANA_NZ20_PNTh0.05_AnnotThresh0.5/checkpoint-906812/config.json\n"
     ]
    },
    {
     "name": "stderr",
     "output_type": "stream",
     "text": [
      "Model weights saved in saved_models/XLNetDepr-3_256_8-ALL_NA-PEL-BS1-GWS_PCC_IT192_DH_3LMAEALPHANA_NZ20_PNTh0.05_AnnotThresh0.5/checkpoint-906812/pytorch_model.bin\n"
     ]
    },
    {
     "name": "stderr",
     "output_type": "stream",
     "text": [
      "Deleting older checkpoint [saved_models/XLNetDepr-3_256_8-ALL_NA-PEL-BS1-GWS_PCC_IT192_DH_3LMAEALPHANA_NZ20_PNTh0.05_AnnotThresh0.5/checkpoint-881268] due to args.save_total_limit\n"
     ]
    },
    {
     "name": "stderr",
     "output_type": "stream",
     "text": [
      "***** Running Evaluation *****\n"
     ]
    },
    {
     "name": "stderr",
     "output_type": "stream",
     "text": [
      "  Num examples = 1592\n"
     ]
    },
    {
     "name": "stderr",
     "output_type": "stream",
     "text": [
      "  Batch size = 1\n"
     ]
    },
    {
     "name": "stderr",
     "output_type": "stream",
     "text": [
      "Saving model checkpoint to saved_models/XLNetDepr-3_256_8-ALL_NA-PEL-BS1-GWS_PCC_IT192_DH_3LMAEALPHANA_NZ20_PNTh0.05_AnnotThresh0.5/checkpoint-913198\n"
     ]
    },
    {
     "name": "stderr",
     "output_type": "stream",
     "text": [
      "Configuration saved in saved_models/XLNetDepr-3_256_8-ALL_NA-PEL-BS1-GWS_PCC_IT192_DH_3LMAEALPHANA_NZ20_PNTh0.05_AnnotThresh0.5/checkpoint-913198/config.json\n"
     ]
    },
    {
     "name": "stderr",
     "output_type": "stream",
     "text": [
      "Model weights saved in saved_models/XLNetDepr-3_256_8-ALL_NA-PEL-BS1-GWS_PCC_IT192_DH_3LMAEALPHANA_NZ20_PNTh0.05_AnnotThresh0.5/checkpoint-913198/pytorch_model.bin\n"
     ]
    },
    {
     "name": "stderr",
     "output_type": "stream",
     "text": [
      "Deleting older checkpoint [saved_models/XLNetDepr-3_256_8-ALL_NA-PEL-BS1-GWS_PCC_IT192_DH_3LMAEALPHANA_NZ20_PNTh0.05_AnnotThresh0.5/checkpoint-887654] due to args.save_total_limit\n"
     ]
    },
    {
     "name": "stderr",
     "output_type": "stream",
     "text": [
      "***** Running Evaluation *****\n"
     ]
    },
    {
     "name": "stderr",
     "output_type": "stream",
     "text": [
      "  Num examples = 1592\n"
     ]
    },
    {
     "name": "stderr",
     "output_type": "stream",
     "text": [
      "  Batch size = 1\n"
     ]
    },
    {
     "name": "stderr",
     "output_type": "stream",
     "text": [
      "Saving model checkpoint to saved_models/XLNetDepr-3_256_8-ALL_NA-PEL-BS1-GWS_PCC_IT192_DH_3LMAEALPHANA_NZ20_PNTh0.05_AnnotThresh0.5/checkpoint-919584\n"
     ]
    },
    {
     "name": "stderr",
     "output_type": "stream",
     "text": [
      "Configuration saved in saved_models/XLNetDepr-3_256_8-ALL_NA-PEL-BS1-GWS_PCC_IT192_DH_3LMAEALPHANA_NZ20_PNTh0.05_AnnotThresh0.5/checkpoint-919584/config.json\n"
     ]
    },
    {
     "name": "stderr",
     "output_type": "stream",
     "text": [
      "Model weights saved in saved_models/XLNetDepr-3_256_8-ALL_NA-PEL-BS1-GWS_PCC_IT192_DH_3LMAEALPHANA_NZ20_PNTh0.05_AnnotThresh0.5/checkpoint-919584/pytorch_model.bin\n"
     ]
    },
    {
     "name": "stderr",
     "output_type": "stream",
     "text": [
      "Deleting older checkpoint [saved_models/XLNetDepr-3_256_8-ALL_NA-PEL-BS1-GWS_PCC_IT192_DH_3LMAEALPHANA_NZ20_PNTh0.05_AnnotThresh0.5/checkpoint-894040] due to args.save_total_limit\n"
     ]
    },
    {
     "name": "stderr",
     "output_type": "stream",
     "text": [
      "***** Running Evaluation *****\n"
     ]
    },
    {
     "name": "stderr",
     "output_type": "stream",
     "text": [
      "  Num examples = 1592\n"
     ]
    },
    {
     "name": "stderr",
     "output_type": "stream",
     "text": [
      "  Batch size = 1\n"
     ]
    },
    {
     "name": "stderr",
     "output_type": "stream",
     "text": [
      "Saving model checkpoint to saved_models/XLNetDepr-3_256_8-ALL_NA-PEL-BS1-GWS_PCC_IT192_DH_3LMAEALPHANA_NZ20_PNTh0.05_AnnotThresh0.5/checkpoint-925970\n"
     ]
    },
    {
     "name": "stderr",
     "output_type": "stream",
     "text": [
      "Configuration saved in saved_models/XLNetDepr-3_256_8-ALL_NA-PEL-BS1-GWS_PCC_IT192_DH_3LMAEALPHANA_NZ20_PNTh0.05_AnnotThresh0.5/checkpoint-925970/config.json\n"
     ]
    },
    {
     "name": "stderr",
     "output_type": "stream",
     "text": [
      "Model weights saved in saved_models/XLNetDepr-3_256_8-ALL_NA-PEL-BS1-GWS_PCC_IT192_DH_3LMAEALPHANA_NZ20_PNTh0.05_AnnotThresh0.5/checkpoint-925970/pytorch_model.bin\n"
     ]
    },
    {
     "name": "stderr",
     "output_type": "stream",
     "text": [
      "Deleting older checkpoint [saved_models/XLNetDepr-3_256_8-ALL_NA-PEL-BS1-GWS_PCC_IT192_DH_3LMAEALPHANA_NZ20_PNTh0.05_AnnotThresh0.5/checkpoint-900426] due to args.save_total_limit\n"
     ]
    },
    {
     "name": "stderr",
     "output_type": "stream",
     "text": [
      "***** Running Evaluation *****\n"
     ]
    },
    {
     "name": "stderr",
     "output_type": "stream",
     "text": [
      "  Num examples = 1592\n"
     ]
    },
    {
     "name": "stderr",
     "output_type": "stream",
     "text": [
      "  Batch size = 1\n"
     ]
    },
    {
     "name": "stderr",
     "output_type": "stream",
     "text": [
      "Saving model checkpoint to saved_models/XLNetDepr-3_256_8-ALL_NA-PEL-BS1-GWS_PCC_IT192_DH_3LMAEALPHANA_NZ20_PNTh0.05_AnnotThresh0.5/checkpoint-932356\n"
     ]
    },
    {
     "name": "stderr",
     "output_type": "stream",
     "text": [
      "Configuration saved in saved_models/XLNetDepr-3_256_8-ALL_NA-PEL-BS1-GWS_PCC_IT192_DH_3LMAEALPHANA_NZ20_PNTh0.05_AnnotThresh0.5/checkpoint-932356/config.json\n"
     ]
    },
    {
     "name": "stderr",
     "output_type": "stream",
     "text": [
      "Model weights saved in saved_models/XLNetDepr-3_256_8-ALL_NA-PEL-BS1-GWS_PCC_IT192_DH_3LMAEALPHANA_NZ20_PNTh0.05_AnnotThresh0.5/checkpoint-932356/pytorch_model.bin\n"
     ]
    },
    {
     "name": "stderr",
     "output_type": "stream",
     "text": [
      "Deleting older checkpoint [saved_models/XLNetDepr-3_256_8-ALL_NA-PEL-BS1-GWS_PCC_IT192_DH_3LMAEALPHANA_NZ20_PNTh0.05_AnnotThresh0.5/checkpoint-906812] due to args.save_total_limit\n"
     ]
    },
    {
     "name": "stderr",
     "output_type": "stream",
     "text": [
      "***** Running Evaluation *****\n"
     ]
    },
    {
     "name": "stderr",
     "output_type": "stream",
     "text": [
      "  Num examples = 1592\n"
     ]
    },
    {
     "name": "stderr",
     "output_type": "stream",
     "text": [
      "  Batch size = 1\n"
     ]
    },
    {
     "name": "stderr",
     "output_type": "stream",
     "text": [
      "Saving model checkpoint to saved_models/XLNetDepr-3_256_8-ALL_NA-PEL-BS1-GWS_PCC_IT192_DH_3LMAEALPHANA_NZ20_PNTh0.05_AnnotThresh0.5/checkpoint-938742\n"
     ]
    },
    {
     "name": "stderr",
     "output_type": "stream",
     "text": [
      "Configuration saved in saved_models/XLNetDepr-3_256_8-ALL_NA-PEL-BS1-GWS_PCC_IT192_DH_3LMAEALPHANA_NZ20_PNTh0.05_AnnotThresh0.5/checkpoint-938742/config.json\n"
     ]
    },
    {
     "name": "stderr",
     "output_type": "stream",
     "text": [
      "Model weights saved in saved_models/XLNetDepr-3_256_8-ALL_NA-PEL-BS1-GWS_PCC_IT192_DH_3LMAEALPHANA_NZ20_PNTh0.05_AnnotThresh0.5/checkpoint-938742/pytorch_model.bin\n"
     ]
    },
    {
     "name": "stderr",
     "output_type": "stream",
     "text": [
      "Deleting older checkpoint [saved_models/XLNetDepr-3_256_8-ALL_NA-PEL-BS1-GWS_PCC_IT192_DH_3LMAEALPHANA_NZ20_PNTh0.05_AnnotThresh0.5/checkpoint-913198] due to args.save_total_limit\n"
     ]
    },
    {
     "name": "stderr",
     "output_type": "stream",
     "text": [
      "***** Running Evaluation *****\n"
     ]
    },
    {
     "name": "stderr",
     "output_type": "stream",
     "text": [
      "  Num examples = 1592\n"
     ]
    },
    {
     "name": "stderr",
     "output_type": "stream",
     "text": [
      "  Batch size = 1\n"
     ]
    },
    {
     "name": "stderr",
     "output_type": "stream",
     "text": [
      "Saving model checkpoint to saved_models/XLNetDepr-3_256_8-ALL_NA-PEL-BS1-GWS_PCC_IT192_DH_3LMAEALPHANA_NZ20_PNTh0.05_AnnotThresh0.5/checkpoint-945128\n"
     ]
    },
    {
     "name": "stderr",
     "output_type": "stream",
     "text": [
      "Configuration saved in saved_models/XLNetDepr-3_256_8-ALL_NA-PEL-BS1-GWS_PCC_IT192_DH_3LMAEALPHANA_NZ20_PNTh0.05_AnnotThresh0.5/checkpoint-945128/config.json\n"
     ]
    },
    {
     "name": "stderr",
     "output_type": "stream",
     "text": [
      "Model weights saved in saved_models/XLNetDepr-3_256_8-ALL_NA-PEL-BS1-GWS_PCC_IT192_DH_3LMAEALPHANA_NZ20_PNTh0.05_AnnotThresh0.5/checkpoint-945128/pytorch_model.bin\n"
     ]
    },
    {
     "name": "stderr",
     "output_type": "stream",
     "text": [
      "Deleting older checkpoint [saved_models/XLNetDepr-3_256_8-ALL_NA-PEL-BS1-GWS_PCC_IT192_DH_3LMAEALPHANA_NZ20_PNTh0.05_AnnotThresh0.5/checkpoint-919584] due to args.save_total_limit\n"
     ]
    },
    {
     "name": "stderr",
     "output_type": "stream",
     "text": [
      "***** Running Evaluation *****\n"
     ]
    },
    {
     "name": "stderr",
     "output_type": "stream",
     "text": [
      "  Num examples = 1592\n"
     ]
    },
    {
     "name": "stderr",
     "output_type": "stream",
     "text": [
      "  Batch size = 1\n"
     ]
    },
    {
     "name": "stderr",
     "output_type": "stream",
     "text": [
      "Saving model checkpoint to saved_models/XLNetDepr-3_256_8-ALL_NA-PEL-BS1-GWS_PCC_IT192_DH_3LMAEALPHANA_NZ20_PNTh0.05_AnnotThresh0.5/checkpoint-951514\n"
     ]
    },
    {
     "name": "stderr",
     "output_type": "stream",
     "text": [
      "Configuration saved in saved_models/XLNetDepr-3_256_8-ALL_NA-PEL-BS1-GWS_PCC_IT192_DH_3LMAEALPHANA_NZ20_PNTh0.05_AnnotThresh0.5/checkpoint-951514/config.json\n"
     ]
    },
    {
     "name": "stderr",
     "output_type": "stream",
     "text": [
      "Model weights saved in saved_models/XLNetDepr-3_256_8-ALL_NA-PEL-BS1-GWS_PCC_IT192_DH_3LMAEALPHANA_NZ20_PNTh0.05_AnnotThresh0.5/checkpoint-951514/pytorch_model.bin\n"
     ]
    },
    {
     "name": "stderr",
     "output_type": "stream",
     "text": [
      "Deleting older checkpoint [saved_models/XLNetDepr-3_256_8-ALL_NA-PEL-BS1-GWS_PCC_IT192_DH_3LMAEALPHANA_NZ20_PNTh0.05_AnnotThresh0.5/checkpoint-925970] due to args.save_total_limit\n"
     ]
    },
    {
     "name": "stderr",
     "output_type": "stream",
     "text": [
      "***** Running Evaluation *****\n"
     ]
    },
    {
     "name": "stderr",
     "output_type": "stream",
     "text": [
      "  Num examples = 1592\n"
     ]
    },
    {
     "name": "stderr",
     "output_type": "stream",
     "text": [
      "  Batch size = 1\n"
     ]
    },
    {
     "name": "stderr",
     "output_type": "stream",
     "text": [
      "Saving model checkpoint to saved_models/XLNetDepr-3_256_8-ALL_NA-PEL-BS1-GWS_PCC_IT192_DH_3LMAEALPHANA_NZ20_PNTh0.05_AnnotThresh0.5/checkpoint-957900\n"
     ]
    },
    {
     "name": "stderr",
     "output_type": "stream",
     "text": [
      "Configuration saved in saved_models/XLNetDepr-3_256_8-ALL_NA-PEL-BS1-GWS_PCC_IT192_DH_3LMAEALPHANA_NZ20_PNTh0.05_AnnotThresh0.5/checkpoint-957900/config.json\n"
     ]
    },
    {
     "name": "stderr",
     "output_type": "stream",
     "text": [
      "Model weights saved in saved_models/XLNetDepr-3_256_8-ALL_NA-PEL-BS1-GWS_PCC_IT192_DH_3LMAEALPHANA_NZ20_PNTh0.05_AnnotThresh0.5/checkpoint-957900/pytorch_model.bin\n"
     ]
    },
    {
     "name": "stderr",
     "output_type": "stream",
     "text": [
      "Deleting older checkpoint [saved_models/XLNetDepr-3_256_8-ALL_NA-PEL-BS1-GWS_PCC_IT192_DH_3LMAEALPHANA_NZ20_PNTh0.05_AnnotThresh0.5/checkpoint-932356] due to args.save_total_limit\n"
     ]
    },
    {
     "name": "stderr",
     "output_type": "stream",
     "text": [
      "***** Running Evaluation *****\n"
     ]
    },
    {
     "name": "stderr",
     "output_type": "stream",
     "text": [
      "  Num examples = 1592\n"
     ]
    },
    {
     "name": "stderr",
     "output_type": "stream",
     "text": [
      "  Batch size = 1\n"
     ]
    },
    {
     "name": "stderr",
     "output_type": "stream",
     "text": [
      "Saving model checkpoint to saved_models/XLNetDepr-3_256_8-ALL_NA-PEL-BS1-GWS_PCC_IT192_DH_3LMAEALPHANA_NZ20_PNTh0.05_AnnotThresh0.5/checkpoint-964286\n"
     ]
    },
    {
     "name": "stderr",
     "output_type": "stream",
     "text": [
      "Configuration saved in saved_models/XLNetDepr-3_256_8-ALL_NA-PEL-BS1-GWS_PCC_IT192_DH_3LMAEALPHANA_NZ20_PNTh0.05_AnnotThresh0.5/checkpoint-964286/config.json\n"
     ]
    },
    {
     "name": "stderr",
     "output_type": "stream",
     "text": [
      "Model weights saved in saved_models/XLNetDepr-3_256_8-ALL_NA-PEL-BS1-GWS_PCC_IT192_DH_3LMAEALPHANA_NZ20_PNTh0.05_AnnotThresh0.5/checkpoint-964286/pytorch_model.bin\n"
     ]
    },
    {
     "name": "stderr",
     "output_type": "stream",
     "text": [
      "Deleting older checkpoint [saved_models/XLNetDepr-3_256_8-ALL_NA-PEL-BS1-GWS_PCC_IT192_DH_3LMAEALPHANA_NZ20_PNTh0.05_AnnotThresh0.5/checkpoint-938742] due to args.save_total_limit\n"
     ]
    },
    {
     "name": "stderr",
     "output_type": "stream",
     "text": [
      "***** Running Evaluation *****\n"
     ]
    },
    {
     "name": "stderr",
     "output_type": "stream",
     "text": [
      "  Num examples = 1592\n"
     ]
    },
    {
     "name": "stderr",
     "output_type": "stream",
     "text": [
      "  Batch size = 1\n"
     ]
    },
    {
     "name": "stderr",
     "output_type": "stream",
     "text": [
      "Saving model checkpoint to saved_models/XLNetDepr-3_256_8-ALL_NA-PEL-BS1-GWS_PCC_IT192_DH_3LMAEALPHANA_NZ20_PNTh0.05_AnnotThresh0.5/checkpoint-970672\n"
     ]
    },
    {
     "name": "stderr",
     "output_type": "stream",
     "text": [
      "Configuration saved in saved_models/XLNetDepr-3_256_8-ALL_NA-PEL-BS1-GWS_PCC_IT192_DH_3LMAEALPHANA_NZ20_PNTh0.05_AnnotThresh0.5/checkpoint-970672/config.json\n"
     ]
    },
    {
     "name": "stderr",
     "output_type": "stream",
     "text": [
      "Model weights saved in saved_models/XLNetDepr-3_256_8-ALL_NA-PEL-BS1-GWS_PCC_IT192_DH_3LMAEALPHANA_NZ20_PNTh0.05_AnnotThresh0.5/checkpoint-970672/pytorch_model.bin\n"
     ]
    },
    {
     "name": "stderr",
     "output_type": "stream",
     "text": [
      "Deleting older checkpoint [saved_models/XLNetDepr-3_256_8-ALL_NA-PEL-BS1-GWS_PCC_IT192_DH_3LMAEALPHANA_NZ20_PNTh0.05_AnnotThresh0.5/checkpoint-945128] due to args.save_total_limit\n"
     ]
    },
    {
     "name": "stderr",
     "output_type": "stream",
     "text": [
      "***** Running Evaluation *****\n"
     ]
    },
    {
     "name": "stderr",
     "output_type": "stream",
     "text": [
      "  Num examples = 1592\n"
     ]
    },
    {
     "name": "stderr",
     "output_type": "stream",
     "text": [
      "  Batch size = 1\n"
     ]
    },
    {
     "name": "stderr",
     "output_type": "stream",
     "text": [
      "Saving model checkpoint to saved_models/XLNetDepr-3_256_8-ALL_NA-PEL-BS1-GWS_PCC_IT192_DH_3LMAEALPHANA_NZ20_PNTh0.05_AnnotThresh0.5/checkpoint-977058\n"
     ]
    },
    {
     "name": "stderr",
     "output_type": "stream",
     "text": [
      "Configuration saved in saved_models/XLNetDepr-3_256_8-ALL_NA-PEL-BS1-GWS_PCC_IT192_DH_3LMAEALPHANA_NZ20_PNTh0.05_AnnotThresh0.5/checkpoint-977058/config.json\n"
     ]
    },
    {
     "name": "stderr",
     "output_type": "stream",
     "text": [
      "Model weights saved in saved_models/XLNetDepr-3_256_8-ALL_NA-PEL-BS1-GWS_PCC_IT192_DH_3LMAEALPHANA_NZ20_PNTh0.05_AnnotThresh0.5/checkpoint-977058/pytorch_model.bin\n"
     ]
    },
    {
     "name": "stderr",
     "output_type": "stream",
     "text": [
      "Deleting older checkpoint [saved_models/XLNetDepr-3_256_8-ALL_NA-PEL-BS1-GWS_PCC_IT192_DH_3LMAEALPHANA_NZ20_PNTh0.05_AnnotThresh0.5/checkpoint-951514] due to args.save_total_limit\n"
     ]
    },
    {
     "name": "stderr",
     "output_type": "stream",
     "text": [
      "***** Running Evaluation *****\n"
     ]
    },
    {
     "name": "stderr",
     "output_type": "stream",
     "text": [
      "  Num examples = 1592\n"
     ]
    },
    {
     "name": "stderr",
     "output_type": "stream",
     "text": [
      "  Batch size = 1\n"
     ]
    },
    {
     "name": "stderr",
     "output_type": "stream",
     "text": [
      "Saving model checkpoint to saved_models/XLNetDepr-3_256_8-ALL_NA-PEL-BS1-GWS_PCC_IT192_DH_3LMAEALPHANA_NZ20_PNTh0.05_AnnotThresh0.5/checkpoint-983444\n"
     ]
    },
    {
     "name": "stderr",
     "output_type": "stream",
     "text": [
      "Configuration saved in saved_models/XLNetDepr-3_256_8-ALL_NA-PEL-BS1-GWS_PCC_IT192_DH_3LMAEALPHANA_NZ20_PNTh0.05_AnnotThresh0.5/checkpoint-983444/config.json\n"
     ]
    },
    {
     "name": "stderr",
     "output_type": "stream",
     "text": [
      "Model weights saved in saved_models/XLNetDepr-3_256_8-ALL_NA-PEL-BS1-GWS_PCC_IT192_DH_3LMAEALPHANA_NZ20_PNTh0.05_AnnotThresh0.5/checkpoint-983444/pytorch_model.bin\n"
     ]
    },
    {
     "name": "stderr",
     "output_type": "stream",
     "text": [
      "Deleting older checkpoint [saved_models/XLNetDepr-3_256_8-ALL_NA-PEL-BS1-GWS_PCC_IT192_DH_3LMAEALPHANA_NZ20_PNTh0.05_AnnotThresh0.5/checkpoint-957900] due to args.save_total_limit\n"
     ]
    },
    {
     "name": "stderr",
     "output_type": "stream",
     "text": [
      "***** Running Evaluation *****\n"
     ]
    },
    {
     "name": "stderr",
     "output_type": "stream",
     "text": [
      "  Num examples = 1592\n"
     ]
    },
    {
     "name": "stderr",
     "output_type": "stream",
     "text": [
      "  Batch size = 1\n"
     ]
    },
    {
     "name": "stderr",
     "output_type": "stream",
     "text": [
      "Saving model checkpoint to saved_models/XLNetDepr-3_256_8-ALL_NA-PEL-BS1-GWS_PCC_IT192_DH_3LMAEALPHANA_NZ20_PNTh0.05_AnnotThresh0.5/checkpoint-989830\n"
     ]
    },
    {
     "name": "stderr",
     "output_type": "stream",
     "text": [
      "Configuration saved in saved_models/XLNetDepr-3_256_8-ALL_NA-PEL-BS1-GWS_PCC_IT192_DH_3LMAEALPHANA_NZ20_PNTh0.05_AnnotThresh0.5/checkpoint-989830/config.json\n"
     ]
    },
    {
     "name": "stderr",
     "output_type": "stream",
     "text": [
      "Model weights saved in saved_models/XLNetDepr-3_256_8-ALL_NA-PEL-BS1-GWS_PCC_IT192_DH_3LMAEALPHANA_NZ20_PNTh0.05_AnnotThresh0.5/checkpoint-989830/pytorch_model.bin\n"
     ]
    },
    {
     "name": "stderr",
     "output_type": "stream",
     "text": [
      "Deleting older checkpoint [saved_models/XLNetDepr-3_256_8-ALL_NA-PEL-BS1-GWS_PCC_IT192_DH_3LMAEALPHANA_NZ20_PNTh0.05_AnnotThresh0.5/checkpoint-964286] due to args.save_total_limit\n"
     ]
    },
    {
     "name": "stderr",
     "output_type": "stream",
     "text": [
      "***** Running Evaluation *****\n"
     ]
    },
    {
     "name": "stderr",
     "output_type": "stream",
     "text": [
      "  Num examples = 1592\n"
     ]
    },
    {
     "name": "stderr",
     "output_type": "stream",
     "text": [
      "  Batch size = 1\n"
     ]
    },
    {
     "name": "stderr",
     "output_type": "stream",
     "text": [
      "Saving model checkpoint to saved_models/XLNetDepr-3_256_8-ALL_NA-PEL-BS1-GWS_PCC_IT192_DH_3LMAEALPHANA_NZ20_PNTh0.05_AnnotThresh0.5/checkpoint-996216\n"
     ]
    },
    {
     "name": "stderr",
     "output_type": "stream",
     "text": [
      "Configuration saved in saved_models/XLNetDepr-3_256_8-ALL_NA-PEL-BS1-GWS_PCC_IT192_DH_3LMAEALPHANA_NZ20_PNTh0.05_AnnotThresh0.5/checkpoint-996216/config.json\n"
     ]
    },
    {
     "name": "stderr",
     "output_type": "stream",
     "text": [
      "Model weights saved in saved_models/XLNetDepr-3_256_8-ALL_NA-PEL-BS1-GWS_PCC_IT192_DH_3LMAEALPHANA_NZ20_PNTh0.05_AnnotThresh0.5/checkpoint-996216/pytorch_model.bin\n"
     ]
    },
    {
     "name": "stderr",
     "output_type": "stream",
     "text": [
      "Deleting older checkpoint [saved_models/XLNetDepr-3_256_8-ALL_NA-PEL-BS1-GWS_PCC_IT192_DH_3LMAEALPHANA_NZ20_PNTh0.05_AnnotThresh0.5/checkpoint-970672] due to args.save_total_limit\n"
     ]
    },
    {
     "name": "stderr",
     "output_type": "stream",
     "text": [
      "***** Running Evaluation *****\n"
     ]
    },
    {
     "name": "stderr",
     "output_type": "stream",
     "text": [
      "  Num examples = 1592\n"
     ]
    },
    {
     "name": "stderr",
     "output_type": "stream",
     "text": [
      "  Batch size = 1\n"
     ]
    },
    {
     "name": "stderr",
     "output_type": "stream",
     "text": [
      "Saving model checkpoint to saved_models/XLNetDepr-3_256_8-ALL_NA-PEL-BS1-GWS_PCC_IT192_DH_3LMAEALPHANA_NZ20_PNTh0.05_AnnotThresh0.5/checkpoint-1002602\n"
     ]
    },
    {
     "name": "stderr",
     "output_type": "stream",
     "text": [
      "Configuration saved in saved_models/XLNetDepr-3_256_8-ALL_NA-PEL-BS1-GWS_PCC_IT192_DH_3LMAEALPHANA_NZ20_PNTh0.05_AnnotThresh0.5/checkpoint-1002602/config.json\n"
     ]
    },
    {
     "name": "stderr",
     "output_type": "stream",
     "text": [
      "Model weights saved in saved_models/XLNetDepr-3_256_8-ALL_NA-PEL-BS1-GWS_PCC_IT192_DH_3LMAEALPHANA_NZ20_PNTh0.05_AnnotThresh0.5/checkpoint-1002602/pytorch_model.bin\n"
     ]
    },
    {
     "name": "stderr",
     "output_type": "stream",
     "text": [
      "Deleting older checkpoint [saved_models/XLNetDepr-3_256_8-ALL_NA-PEL-BS1-GWS_PCC_IT192_DH_3LMAEALPHANA_NZ20_PNTh0.05_AnnotThresh0.5/checkpoint-977058] due to args.save_total_limit\n"
     ]
    },
    {
     "name": "stderr",
     "output_type": "stream",
     "text": [
      "***** Running Evaluation *****\n"
     ]
    },
    {
     "name": "stderr",
     "output_type": "stream",
     "text": [
      "  Num examples = 1592\n"
     ]
    },
    {
     "name": "stderr",
     "output_type": "stream",
     "text": [
      "  Batch size = 1\n"
     ]
    },
    {
     "name": "stderr",
     "output_type": "stream",
     "text": [
      "Saving model checkpoint to saved_models/XLNetDepr-3_256_8-ALL_NA-PEL-BS1-GWS_PCC_IT192_DH_3LMAEALPHANA_NZ20_PNTh0.05_AnnotThresh0.5/checkpoint-1008988\n"
     ]
    },
    {
     "name": "stderr",
     "output_type": "stream",
     "text": [
      "Configuration saved in saved_models/XLNetDepr-3_256_8-ALL_NA-PEL-BS1-GWS_PCC_IT192_DH_3LMAEALPHANA_NZ20_PNTh0.05_AnnotThresh0.5/checkpoint-1008988/config.json\n"
     ]
    },
    {
     "name": "stderr",
     "output_type": "stream",
     "text": [
      "Model weights saved in saved_models/XLNetDepr-3_256_8-ALL_NA-PEL-BS1-GWS_PCC_IT192_DH_3LMAEALPHANA_NZ20_PNTh0.05_AnnotThresh0.5/checkpoint-1008988/pytorch_model.bin\n"
     ]
    },
    {
     "name": "stderr",
     "output_type": "stream",
     "text": [
      "Deleting older checkpoint [saved_models/XLNetDepr-3_256_8-ALL_NA-PEL-BS1-GWS_PCC_IT192_DH_3LMAEALPHANA_NZ20_PNTh0.05_AnnotThresh0.5/checkpoint-983444] due to args.save_total_limit\n"
     ]
    },
    {
     "name": "stderr",
     "output_type": "stream",
     "text": [
      "***** Running Evaluation *****\n"
     ]
    },
    {
     "name": "stderr",
     "output_type": "stream",
     "text": [
      "  Num examples = 1592\n"
     ]
    },
    {
     "name": "stderr",
     "output_type": "stream",
     "text": [
      "  Batch size = 1\n"
     ]
    },
    {
     "name": "stderr",
     "output_type": "stream",
     "text": [
      "Saving model checkpoint to saved_models/XLNetDepr-3_256_8-ALL_NA-PEL-BS1-GWS_PCC_IT192_DH_3LMAEALPHANA_NZ20_PNTh0.05_AnnotThresh0.5/checkpoint-1015374\n"
     ]
    },
    {
     "name": "stderr",
     "output_type": "stream",
     "text": [
      "Configuration saved in saved_models/XLNetDepr-3_256_8-ALL_NA-PEL-BS1-GWS_PCC_IT192_DH_3LMAEALPHANA_NZ20_PNTh0.05_AnnotThresh0.5/checkpoint-1015374/config.json\n"
     ]
    },
    {
     "name": "stderr",
     "output_type": "stream",
     "text": [
      "Model weights saved in saved_models/XLNetDepr-3_256_8-ALL_NA-PEL-BS1-GWS_PCC_IT192_DH_3LMAEALPHANA_NZ20_PNTh0.05_AnnotThresh0.5/checkpoint-1015374/pytorch_model.bin\n"
     ]
    },
    {
     "name": "stderr",
     "output_type": "stream",
     "text": [
      "Deleting older checkpoint [saved_models/XLNetDepr-3_256_8-ALL_NA-PEL-BS1-GWS_PCC_IT192_DH_3LMAEALPHANA_NZ20_PNTh0.05_AnnotThresh0.5/checkpoint-989830] due to args.save_total_limit\n"
     ]
    },
    {
     "name": "stderr",
     "output_type": "stream",
     "text": [
      "***** Running Evaluation *****\n"
     ]
    },
    {
     "name": "stderr",
     "output_type": "stream",
     "text": [
      "  Num examples = 1592\n"
     ]
    },
    {
     "name": "stderr",
     "output_type": "stream",
     "text": [
      "  Batch size = 1\n"
     ]
    },
    {
     "name": "stderr",
     "output_type": "stream",
     "text": [
      "Saving model checkpoint to saved_models/XLNetDepr-3_256_8-ALL_NA-PEL-BS1-GWS_PCC_IT192_DH_3LMAEALPHANA_NZ20_PNTh0.05_AnnotThresh0.5/checkpoint-1021760\n"
     ]
    },
    {
     "name": "stderr",
     "output_type": "stream",
     "text": [
      "Configuration saved in saved_models/XLNetDepr-3_256_8-ALL_NA-PEL-BS1-GWS_PCC_IT192_DH_3LMAEALPHANA_NZ20_PNTh0.05_AnnotThresh0.5/checkpoint-1021760/config.json\n"
     ]
    },
    {
     "name": "stderr",
     "output_type": "stream",
     "text": [
      "Model weights saved in saved_models/XLNetDepr-3_256_8-ALL_NA-PEL-BS1-GWS_PCC_IT192_DH_3LMAEALPHANA_NZ20_PNTh0.05_AnnotThresh0.5/checkpoint-1021760/pytorch_model.bin\n"
     ]
    },
    {
     "name": "stderr",
     "output_type": "stream",
     "text": [
      "Deleting older checkpoint [saved_models/XLNetDepr-3_256_8-ALL_NA-PEL-BS1-GWS_PCC_IT192_DH_3LMAEALPHANA_NZ20_PNTh0.05_AnnotThresh0.5/checkpoint-996216] due to args.save_total_limit\n"
     ]
    },
    {
     "name": "stderr",
     "output_type": "stream",
     "text": [
      "***** Running Evaluation *****\n"
     ]
    },
    {
     "name": "stderr",
     "output_type": "stream",
     "text": [
      "  Num examples = 1592\n"
     ]
    },
    {
     "name": "stderr",
     "output_type": "stream",
     "text": [
      "  Batch size = 1\n"
     ]
    },
    {
     "name": "stderr",
     "output_type": "stream",
     "text": [
      "Saving model checkpoint to saved_models/XLNetDepr-3_256_8-ALL_NA-PEL-BS1-GWS_PCC_IT192_DH_3LMAEALPHANA_NZ20_PNTh0.05_AnnotThresh0.5/checkpoint-1028146\n"
     ]
    },
    {
     "name": "stderr",
     "output_type": "stream",
     "text": [
      "Configuration saved in saved_models/XLNetDepr-3_256_8-ALL_NA-PEL-BS1-GWS_PCC_IT192_DH_3LMAEALPHANA_NZ20_PNTh0.05_AnnotThresh0.5/checkpoint-1028146/config.json\n"
     ]
    },
    {
     "name": "stderr",
     "output_type": "stream",
     "text": [
      "Model weights saved in saved_models/XLNetDepr-3_256_8-ALL_NA-PEL-BS1-GWS_PCC_IT192_DH_3LMAEALPHANA_NZ20_PNTh0.05_AnnotThresh0.5/checkpoint-1028146/pytorch_model.bin\n"
     ]
    },
    {
     "name": "stderr",
     "output_type": "stream",
     "text": [
      "Deleting older checkpoint [saved_models/XLNetDepr-3_256_8-ALL_NA-PEL-BS1-GWS_PCC_IT192_DH_3LMAEALPHANA_NZ20_PNTh0.05_AnnotThresh0.5/checkpoint-1002602] due to args.save_total_limit\n"
     ]
    },
    {
     "name": "stderr",
     "output_type": "stream",
     "text": [
      "***** Running Evaluation *****\n"
     ]
    },
    {
     "name": "stderr",
     "output_type": "stream",
     "text": [
      "  Num examples = 1592\n"
     ]
    },
    {
     "name": "stderr",
     "output_type": "stream",
     "text": [
      "  Batch size = 1\n"
     ]
    },
    {
     "name": "stderr",
     "output_type": "stream",
     "text": [
      "Saving model checkpoint to saved_models/XLNetDepr-3_256_8-ALL_NA-PEL-BS1-GWS_PCC_IT192_DH_3LMAEALPHANA_NZ20_PNTh0.05_AnnotThresh0.5/checkpoint-1034532\n"
     ]
    },
    {
     "name": "stderr",
     "output_type": "stream",
     "text": [
      "Configuration saved in saved_models/XLNetDepr-3_256_8-ALL_NA-PEL-BS1-GWS_PCC_IT192_DH_3LMAEALPHANA_NZ20_PNTh0.05_AnnotThresh0.5/checkpoint-1034532/config.json\n"
     ]
    },
    {
     "name": "stderr",
     "output_type": "stream",
     "text": [
      "Model weights saved in saved_models/XLNetDepr-3_256_8-ALL_NA-PEL-BS1-GWS_PCC_IT192_DH_3LMAEALPHANA_NZ20_PNTh0.05_AnnotThresh0.5/checkpoint-1034532/pytorch_model.bin\n"
     ]
    },
    {
     "name": "stderr",
     "output_type": "stream",
     "text": [
      "Deleting older checkpoint [saved_models/XLNetDepr-3_256_8-ALL_NA-PEL-BS1-GWS_PCC_IT192_DH_3LMAEALPHANA_NZ20_PNTh0.05_AnnotThresh0.5/checkpoint-1008988] due to args.save_total_limit\n"
     ]
    },
    {
     "name": "stderr",
     "output_type": "stream",
     "text": [
      "***** Running Evaluation *****\n"
     ]
    },
    {
     "name": "stderr",
     "output_type": "stream",
     "text": [
      "  Num examples = 1592\n"
     ]
    },
    {
     "name": "stderr",
     "output_type": "stream",
     "text": [
      "  Batch size = 1\n"
     ]
    },
    {
     "name": "stderr",
     "output_type": "stream",
     "text": [
      "Saving model checkpoint to saved_models/XLNetDepr-3_256_8-ALL_NA-PEL-BS1-GWS_PCC_IT192_DH_3LMAEALPHANA_NZ20_PNTh0.05_AnnotThresh0.5/checkpoint-1040918\n"
     ]
    },
    {
     "name": "stderr",
     "output_type": "stream",
     "text": [
      "Configuration saved in saved_models/XLNetDepr-3_256_8-ALL_NA-PEL-BS1-GWS_PCC_IT192_DH_3LMAEALPHANA_NZ20_PNTh0.05_AnnotThresh0.5/checkpoint-1040918/config.json\n"
     ]
    },
    {
     "name": "stderr",
     "output_type": "stream",
     "text": [
      "Model weights saved in saved_models/XLNetDepr-3_256_8-ALL_NA-PEL-BS1-GWS_PCC_IT192_DH_3LMAEALPHANA_NZ20_PNTh0.05_AnnotThresh0.5/checkpoint-1040918/pytorch_model.bin\n"
     ]
    },
    {
     "name": "stderr",
     "output_type": "stream",
     "text": [
      "Deleting older checkpoint [saved_models/XLNetDepr-3_256_8-ALL_NA-PEL-BS1-GWS_PCC_IT192_DH_3LMAEALPHANA_NZ20_PNTh0.05_AnnotThresh0.5/checkpoint-1015374] due to args.save_total_limit\n"
     ]
    },
    {
     "name": "stderr",
     "output_type": "stream",
     "text": [
      "***** Running Evaluation *****\n"
     ]
    },
    {
     "name": "stderr",
     "output_type": "stream",
     "text": [
      "  Num examples = 1592\n"
     ]
    },
    {
     "name": "stderr",
     "output_type": "stream",
     "text": [
      "  Batch size = 1\n"
     ]
    },
    {
     "name": "stderr",
     "output_type": "stream",
     "text": [
      "Saving model checkpoint to saved_models/XLNetDepr-3_256_8-ALL_NA-PEL-BS1-GWS_PCC_IT192_DH_3LMAEALPHANA_NZ20_PNTh0.05_AnnotThresh0.5/checkpoint-1047304\n"
     ]
    },
    {
     "name": "stderr",
     "output_type": "stream",
     "text": [
      "Configuration saved in saved_models/XLNetDepr-3_256_8-ALL_NA-PEL-BS1-GWS_PCC_IT192_DH_3LMAEALPHANA_NZ20_PNTh0.05_AnnotThresh0.5/checkpoint-1047304/config.json\n"
     ]
    },
    {
     "name": "stderr",
     "output_type": "stream",
     "text": [
      "Model weights saved in saved_models/XLNetDepr-3_256_8-ALL_NA-PEL-BS1-GWS_PCC_IT192_DH_3LMAEALPHANA_NZ20_PNTh0.05_AnnotThresh0.5/checkpoint-1047304/pytorch_model.bin\n"
     ]
    },
    {
     "name": "stderr",
     "output_type": "stream",
     "text": [
      "Deleting older checkpoint [saved_models/XLNetDepr-3_256_8-ALL_NA-PEL-BS1-GWS_PCC_IT192_DH_3LMAEALPHANA_NZ20_PNTh0.05_AnnotThresh0.5/checkpoint-1021760] due to args.save_total_limit\n"
     ]
    },
    {
     "name": "stderr",
     "output_type": "stream",
     "text": [
      "***** Running Evaluation *****\n"
     ]
    },
    {
     "name": "stderr",
     "output_type": "stream",
     "text": [
      "  Num examples = 1592\n"
     ]
    },
    {
     "name": "stderr",
     "output_type": "stream",
     "text": [
      "  Batch size = 1\n"
     ]
    },
    {
     "name": "stderr",
     "output_type": "stream",
     "text": [
      "Saving model checkpoint to saved_models/XLNetDepr-3_256_8-ALL_NA-PEL-BS1-GWS_PCC_IT192_DH_3LMAEALPHANA_NZ20_PNTh0.05_AnnotThresh0.5/checkpoint-1053690\n"
     ]
    },
    {
     "name": "stderr",
     "output_type": "stream",
     "text": [
      "Configuration saved in saved_models/XLNetDepr-3_256_8-ALL_NA-PEL-BS1-GWS_PCC_IT192_DH_3LMAEALPHANA_NZ20_PNTh0.05_AnnotThresh0.5/checkpoint-1053690/config.json\n"
     ]
    },
    {
     "name": "stderr",
     "output_type": "stream",
     "text": [
      "Model weights saved in saved_models/XLNetDepr-3_256_8-ALL_NA-PEL-BS1-GWS_PCC_IT192_DH_3LMAEALPHANA_NZ20_PNTh0.05_AnnotThresh0.5/checkpoint-1053690/pytorch_model.bin\n"
     ]
    },
    {
     "name": "stderr",
     "output_type": "stream",
     "text": [
      "Deleting older checkpoint [saved_models/XLNetDepr-3_256_8-ALL_NA-PEL-BS1-GWS_PCC_IT192_DH_3LMAEALPHANA_NZ20_PNTh0.05_AnnotThresh0.5/checkpoint-1028146] due to args.save_total_limit\n"
     ]
    },
    {
     "name": "stderr",
     "output_type": "stream",
     "text": [
      "***** Running Evaluation *****\n"
     ]
    },
    {
     "name": "stderr",
     "output_type": "stream",
     "text": [
      "  Num examples = 1592\n"
     ]
    },
    {
     "name": "stderr",
     "output_type": "stream",
     "text": [
      "  Batch size = 1\n"
     ]
    },
    {
     "name": "stderr",
     "output_type": "stream",
     "text": [
      "Saving model checkpoint to saved_models/XLNetDepr-3_256_8-ALL_NA-PEL-BS1-GWS_PCC_IT192_DH_3LMAEALPHANA_NZ20_PNTh0.05_AnnotThresh0.5/checkpoint-1060076\n"
     ]
    },
    {
     "name": "stderr",
     "output_type": "stream",
     "text": [
      "Configuration saved in saved_models/XLNetDepr-3_256_8-ALL_NA-PEL-BS1-GWS_PCC_IT192_DH_3LMAEALPHANA_NZ20_PNTh0.05_AnnotThresh0.5/checkpoint-1060076/config.json\n"
     ]
    },
    {
     "name": "stderr",
     "output_type": "stream",
     "text": [
      "Model weights saved in saved_models/XLNetDepr-3_256_8-ALL_NA-PEL-BS1-GWS_PCC_IT192_DH_3LMAEALPHANA_NZ20_PNTh0.05_AnnotThresh0.5/checkpoint-1060076/pytorch_model.bin\n"
     ]
    },
    {
     "name": "stderr",
     "output_type": "stream",
     "text": [
      "Deleting older checkpoint [saved_models/XLNetDepr-3_256_8-ALL_NA-PEL-BS1-GWS_PCC_IT192_DH_3LMAEALPHANA_NZ20_PNTh0.05_AnnotThresh0.5/checkpoint-1034532] due to args.save_total_limit\n"
     ]
    },
    {
     "name": "stderr",
     "output_type": "stream",
     "text": [
      "***** Running Evaluation *****\n"
     ]
    },
    {
     "name": "stderr",
     "output_type": "stream",
     "text": [
      "  Num examples = 1592\n"
     ]
    },
    {
     "name": "stderr",
     "output_type": "stream",
     "text": [
      "  Batch size = 1\n"
     ]
    },
    {
     "name": "stderr",
     "output_type": "stream",
     "text": [
      "Saving model checkpoint to saved_models/XLNetDepr-3_256_8-ALL_NA-PEL-BS1-GWS_PCC_IT192_DH_3LMAEALPHANA_NZ20_PNTh0.05_AnnotThresh0.5/checkpoint-1066462\n"
     ]
    },
    {
     "name": "stderr",
     "output_type": "stream",
     "text": [
      "Configuration saved in saved_models/XLNetDepr-3_256_8-ALL_NA-PEL-BS1-GWS_PCC_IT192_DH_3LMAEALPHANA_NZ20_PNTh0.05_AnnotThresh0.5/checkpoint-1066462/config.json\n"
     ]
    },
    {
     "name": "stderr",
     "output_type": "stream",
     "text": [
      "Model weights saved in saved_models/XLNetDepr-3_256_8-ALL_NA-PEL-BS1-GWS_PCC_IT192_DH_3LMAEALPHANA_NZ20_PNTh0.05_AnnotThresh0.5/checkpoint-1066462/pytorch_model.bin\n"
     ]
    },
    {
     "name": "stderr",
     "output_type": "stream",
     "text": [
      "Deleting older checkpoint [saved_models/XLNetDepr-3_256_8-ALL_NA-PEL-BS1-GWS_PCC_IT192_DH_3LMAEALPHANA_NZ20_PNTh0.05_AnnotThresh0.5/checkpoint-1040918] due to args.save_total_limit\n"
     ]
    },
    {
     "name": "stderr",
     "output_type": "stream",
     "text": [
      "***** Running Evaluation *****\n"
     ]
    },
    {
     "name": "stderr",
     "output_type": "stream",
     "text": [
      "  Num examples = 1592\n"
     ]
    },
    {
     "name": "stderr",
     "output_type": "stream",
     "text": [
      "  Batch size = 1\n"
     ]
    },
    {
     "name": "stderr",
     "output_type": "stream",
     "text": [
      "Saving model checkpoint to saved_models/XLNetDepr-3_256_8-ALL_NA-PEL-BS1-GWS_PCC_IT192_DH_3LMAEALPHANA_NZ20_PNTh0.05_AnnotThresh0.5/checkpoint-1072848\n"
     ]
    },
    {
     "name": "stderr",
     "output_type": "stream",
     "text": [
      "Configuration saved in saved_models/XLNetDepr-3_256_8-ALL_NA-PEL-BS1-GWS_PCC_IT192_DH_3LMAEALPHANA_NZ20_PNTh0.05_AnnotThresh0.5/checkpoint-1072848/config.json\n"
     ]
    },
    {
     "name": "stderr",
     "output_type": "stream",
     "text": [
      "Model weights saved in saved_models/XLNetDepr-3_256_8-ALL_NA-PEL-BS1-GWS_PCC_IT192_DH_3LMAEALPHANA_NZ20_PNTh0.05_AnnotThresh0.5/checkpoint-1072848/pytorch_model.bin\n"
     ]
    },
    {
     "name": "stderr",
     "output_type": "stream",
     "text": [
      "Deleting older checkpoint [saved_models/XLNetDepr-3_256_8-ALL_NA-PEL-BS1-GWS_PCC_IT192_DH_3LMAEALPHANA_NZ20_PNTh0.05_AnnotThresh0.5/checkpoint-1047304] due to args.save_total_limit\n"
     ]
    },
    {
     "name": "stderr",
     "output_type": "stream",
     "text": [
      "***** Running Evaluation *****\n"
     ]
    },
    {
     "name": "stderr",
     "output_type": "stream",
     "text": [
      "  Num examples = 1592\n"
     ]
    },
    {
     "name": "stderr",
     "output_type": "stream",
     "text": [
      "  Batch size = 1\n"
     ]
    },
    {
     "name": "stderr",
     "output_type": "stream",
     "text": [
      "Saving model checkpoint to saved_models/XLNetDepr-3_256_8-ALL_NA-PEL-BS1-GWS_PCC_IT192_DH_3LMAEALPHANA_NZ20_PNTh0.05_AnnotThresh0.5/checkpoint-1079234\n"
     ]
    },
    {
     "name": "stderr",
     "output_type": "stream",
     "text": [
      "Configuration saved in saved_models/XLNetDepr-3_256_8-ALL_NA-PEL-BS1-GWS_PCC_IT192_DH_3LMAEALPHANA_NZ20_PNTh0.05_AnnotThresh0.5/checkpoint-1079234/config.json\n"
     ]
    },
    {
     "name": "stderr",
     "output_type": "stream",
     "text": [
      "Model weights saved in saved_models/XLNetDepr-3_256_8-ALL_NA-PEL-BS1-GWS_PCC_IT192_DH_3LMAEALPHANA_NZ20_PNTh0.05_AnnotThresh0.5/checkpoint-1079234/pytorch_model.bin\n"
     ]
    },
    {
     "name": "stderr",
     "output_type": "stream",
     "text": [
      "Deleting older checkpoint [saved_models/XLNetDepr-3_256_8-ALL_NA-PEL-BS1-GWS_PCC_IT192_DH_3LMAEALPHANA_NZ20_PNTh0.05_AnnotThresh0.5/checkpoint-1053690] due to args.save_total_limit\n"
     ]
    },
    {
     "name": "stderr",
     "output_type": "stream",
     "text": [
      "***** Running Evaluation *****\n"
     ]
    },
    {
     "name": "stderr",
     "output_type": "stream",
     "text": [
      "  Num examples = 1592\n"
     ]
    },
    {
     "name": "stderr",
     "output_type": "stream",
     "text": [
      "  Batch size = 1\n"
     ]
    },
    {
     "name": "stderr",
     "output_type": "stream",
     "text": [
      "Saving model checkpoint to saved_models/XLNetDepr-3_256_8-ALL_NA-PEL-BS1-GWS_PCC_IT192_DH_3LMAEALPHANA_NZ20_PNTh0.05_AnnotThresh0.5/checkpoint-1085620\n"
     ]
    },
    {
     "name": "stderr",
     "output_type": "stream",
     "text": [
      "Configuration saved in saved_models/XLNetDepr-3_256_8-ALL_NA-PEL-BS1-GWS_PCC_IT192_DH_3LMAEALPHANA_NZ20_PNTh0.05_AnnotThresh0.5/checkpoint-1085620/config.json\n"
     ]
    },
    {
     "name": "stderr",
     "output_type": "stream",
     "text": [
      "Model weights saved in saved_models/XLNetDepr-3_256_8-ALL_NA-PEL-BS1-GWS_PCC_IT192_DH_3LMAEALPHANA_NZ20_PNTh0.05_AnnotThresh0.5/checkpoint-1085620/pytorch_model.bin\n"
     ]
    },
    {
     "name": "stderr",
     "output_type": "stream",
     "text": [
      "Deleting older checkpoint [saved_models/XLNetDepr-3_256_8-ALL_NA-PEL-BS1-GWS_PCC_IT192_DH_3LMAEALPHANA_NZ20_PNTh0.05_AnnotThresh0.5/checkpoint-1060076] due to args.save_total_limit\n"
     ]
    },
    {
     "name": "stderr",
     "output_type": "stream",
     "text": [
      "***** Running Evaluation *****\n"
     ]
    },
    {
     "name": "stderr",
     "output_type": "stream",
     "text": [
      "  Num examples = 1592\n"
     ]
    },
    {
     "name": "stderr",
     "output_type": "stream",
     "text": [
      "  Batch size = 1\n"
     ]
    },
    {
     "name": "stderr",
     "output_type": "stream",
     "text": [
      "Saving model checkpoint to saved_models/XLNetDepr-3_256_8-ALL_NA-PEL-BS1-GWS_PCC_IT192_DH_3LMAEALPHANA_NZ20_PNTh0.05_AnnotThresh0.5/checkpoint-1092006\n"
     ]
    },
    {
     "name": "stderr",
     "output_type": "stream",
     "text": [
      "Configuration saved in saved_models/XLNetDepr-3_256_8-ALL_NA-PEL-BS1-GWS_PCC_IT192_DH_3LMAEALPHANA_NZ20_PNTh0.05_AnnotThresh0.5/checkpoint-1092006/config.json\n"
     ]
    },
    {
     "name": "stderr",
     "output_type": "stream",
     "text": [
      "Model weights saved in saved_models/XLNetDepr-3_256_8-ALL_NA-PEL-BS1-GWS_PCC_IT192_DH_3LMAEALPHANA_NZ20_PNTh0.05_AnnotThresh0.5/checkpoint-1092006/pytorch_model.bin\n"
     ]
    },
    {
     "name": "stderr",
     "output_type": "stream",
     "text": [
      "Deleting older checkpoint [saved_models/XLNetDepr-3_256_8-ALL_NA-PEL-BS1-GWS_PCC_IT192_DH_3LMAEALPHANA_NZ20_PNTh0.05_AnnotThresh0.5/checkpoint-1066462] due to args.save_total_limit\n"
     ]
    },
    {
     "name": "stderr",
     "output_type": "stream",
     "text": [
      "***** Running Evaluation *****\n"
     ]
    },
    {
     "name": "stderr",
     "output_type": "stream",
     "text": [
      "  Num examples = 1592\n"
     ]
    },
    {
     "name": "stderr",
     "output_type": "stream",
     "text": [
      "  Batch size = 1\n"
     ]
    },
    {
     "name": "stderr",
     "output_type": "stream",
     "text": [
      "Saving model checkpoint to saved_models/XLNetDepr-3_256_8-ALL_NA-PEL-BS1-GWS_PCC_IT192_DH_3LMAEALPHANA_NZ20_PNTh0.05_AnnotThresh0.5/checkpoint-1098392\n"
     ]
    },
    {
     "name": "stderr",
     "output_type": "stream",
     "text": [
      "Configuration saved in saved_models/XLNetDepr-3_256_8-ALL_NA-PEL-BS1-GWS_PCC_IT192_DH_3LMAEALPHANA_NZ20_PNTh0.05_AnnotThresh0.5/checkpoint-1098392/config.json\n"
     ]
    },
    {
     "name": "stderr",
     "output_type": "stream",
     "text": [
      "Model weights saved in saved_models/XLNetDepr-3_256_8-ALL_NA-PEL-BS1-GWS_PCC_IT192_DH_3LMAEALPHANA_NZ20_PNTh0.05_AnnotThresh0.5/checkpoint-1098392/pytorch_model.bin\n"
     ]
    },
    {
     "name": "stderr",
     "output_type": "stream",
     "text": [
      "Deleting older checkpoint [saved_models/XLNetDepr-3_256_8-ALL_NA-PEL-BS1-GWS_PCC_IT192_DH_3LMAEALPHANA_NZ20_PNTh0.05_AnnotThresh0.5/checkpoint-1072848] due to args.save_total_limit\n"
     ]
    },
    {
     "name": "stderr",
     "output_type": "stream",
     "text": [
      "***** Running Evaluation *****\n"
     ]
    },
    {
     "name": "stderr",
     "output_type": "stream",
     "text": [
      "  Num examples = 1592\n"
     ]
    },
    {
     "name": "stderr",
     "output_type": "stream",
     "text": [
      "  Batch size = 1\n"
     ]
    },
    {
     "name": "stderr",
     "output_type": "stream",
     "text": [
      "Saving model checkpoint to saved_models/XLNetDepr-3_256_8-ALL_NA-PEL-BS1-GWS_PCC_IT192_DH_3LMAEALPHANA_NZ20_PNTh0.05_AnnotThresh0.5/checkpoint-1104778\n"
     ]
    },
    {
     "name": "stderr",
     "output_type": "stream",
     "text": [
      "Configuration saved in saved_models/XLNetDepr-3_256_8-ALL_NA-PEL-BS1-GWS_PCC_IT192_DH_3LMAEALPHANA_NZ20_PNTh0.05_AnnotThresh0.5/checkpoint-1104778/config.json\n"
     ]
    },
    {
     "name": "stderr",
     "output_type": "stream",
     "text": [
      "Model weights saved in saved_models/XLNetDepr-3_256_8-ALL_NA-PEL-BS1-GWS_PCC_IT192_DH_3LMAEALPHANA_NZ20_PNTh0.05_AnnotThresh0.5/checkpoint-1104778/pytorch_model.bin\n"
     ]
    },
    {
     "name": "stderr",
     "output_type": "stream",
     "text": [
      "Deleting older checkpoint [saved_models/XLNetDepr-3_256_8-ALL_NA-PEL-BS1-GWS_PCC_IT192_DH_3LMAEALPHANA_NZ20_PNTh0.05_AnnotThresh0.5/checkpoint-1079234] due to args.save_total_limit\n"
     ]
    },
    {
     "name": "stderr",
     "output_type": "stream",
     "text": [
      "***** Running Evaluation *****\n"
     ]
    },
    {
     "name": "stderr",
     "output_type": "stream",
     "text": [
      "  Num examples = 1592\n"
     ]
    },
    {
     "name": "stderr",
     "output_type": "stream",
     "text": [
      "  Batch size = 1\n"
     ]
    },
    {
     "name": "stderr",
     "output_type": "stream",
     "text": [
      "Saving model checkpoint to saved_models/XLNetDepr-3_256_8-ALL_NA-PEL-BS1-GWS_PCC_IT192_DH_3LMAEALPHANA_NZ20_PNTh0.05_AnnotThresh0.5/checkpoint-1111164\n"
     ]
    },
    {
     "name": "stderr",
     "output_type": "stream",
     "text": [
      "Configuration saved in saved_models/XLNetDepr-3_256_8-ALL_NA-PEL-BS1-GWS_PCC_IT192_DH_3LMAEALPHANA_NZ20_PNTh0.05_AnnotThresh0.5/checkpoint-1111164/config.json\n"
     ]
    },
    {
     "name": "stderr",
     "output_type": "stream",
     "text": [
      "Model weights saved in saved_models/XLNetDepr-3_256_8-ALL_NA-PEL-BS1-GWS_PCC_IT192_DH_3LMAEALPHANA_NZ20_PNTh0.05_AnnotThresh0.5/checkpoint-1111164/pytorch_model.bin\n"
     ]
    },
    {
     "name": "stderr",
     "output_type": "stream",
     "text": [
      "Deleting older checkpoint [saved_models/XLNetDepr-3_256_8-ALL_NA-PEL-BS1-GWS_PCC_IT192_DH_3LMAEALPHANA_NZ20_PNTh0.05_AnnotThresh0.5/checkpoint-1085620] due to args.save_total_limit\n"
     ]
    },
    {
     "name": "stderr",
     "output_type": "stream",
     "text": [
      "***** Running Evaluation *****\n"
     ]
    },
    {
     "name": "stderr",
     "output_type": "stream",
     "text": [
      "  Num examples = 1592\n"
     ]
    },
    {
     "name": "stderr",
     "output_type": "stream",
     "text": [
      "  Batch size = 1\n"
     ]
    },
    {
     "name": "stderr",
     "output_type": "stream",
     "text": [
      "Saving model checkpoint to saved_models/XLNetDepr-3_256_8-ALL_NA-PEL-BS1-GWS_PCC_IT192_DH_3LMAEALPHANA_NZ20_PNTh0.05_AnnotThresh0.5/checkpoint-1117550\n"
     ]
    },
    {
     "name": "stderr",
     "output_type": "stream",
     "text": [
      "Configuration saved in saved_models/XLNetDepr-3_256_8-ALL_NA-PEL-BS1-GWS_PCC_IT192_DH_3LMAEALPHANA_NZ20_PNTh0.05_AnnotThresh0.5/checkpoint-1117550/config.json\n"
     ]
    },
    {
     "name": "stderr",
     "output_type": "stream",
     "text": [
      "Model weights saved in saved_models/XLNetDepr-3_256_8-ALL_NA-PEL-BS1-GWS_PCC_IT192_DH_3LMAEALPHANA_NZ20_PNTh0.05_AnnotThresh0.5/checkpoint-1117550/pytorch_model.bin\n"
     ]
    },
    {
     "name": "stderr",
     "output_type": "stream",
     "text": [
      "Deleting older checkpoint [saved_models/XLNetDepr-3_256_8-ALL_NA-PEL-BS1-GWS_PCC_IT192_DH_3LMAEALPHANA_NZ20_PNTh0.05_AnnotThresh0.5/checkpoint-1092006] due to args.save_total_limit\n"
     ]
    },
    {
     "name": "stderr",
     "output_type": "stream",
     "text": [
      "***** Running Evaluation *****\n"
     ]
    },
    {
     "name": "stderr",
     "output_type": "stream",
     "text": [
      "  Num examples = 1592\n"
     ]
    },
    {
     "name": "stderr",
     "output_type": "stream",
     "text": [
      "  Batch size = 1\n"
     ]
    },
    {
     "name": "stderr",
     "output_type": "stream",
     "text": [
      "Saving model checkpoint to saved_models/XLNetDepr-3_256_8-ALL_NA-PEL-BS1-GWS_PCC_IT192_DH_3LMAEALPHANA_NZ20_PNTh0.05_AnnotThresh0.5/checkpoint-1123936\n"
     ]
    },
    {
     "name": "stderr",
     "output_type": "stream",
     "text": [
      "Configuration saved in saved_models/XLNetDepr-3_256_8-ALL_NA-PEL-BS1-GWS_PCC_IT192_DH_3LMAEALPHANA_NZ20_PNTh0.05_AnnotThresh0.5/checkpoint-1123936/config.json\n"
     ]
    },
    {
     "name": "stderr",
     "output_type": "stream",
     "text": [
      "Model weights saved in saved_models/XLNetDepr-3_256_8-ALL_NA-PEL-BS1-GWS_PCC_IT192_DH_3LMAEALPHANA_NZ20_PNTh0.05_AnnotThresh0.5/checkpoint-1123936/pytorch_model.bin\n"
     ]
    },
    {
     "name": "stderr",
     "output_type": "stream",
     "text": [
      "Deleting older checkpoint [saved_models/XLNetDepr-3_256_8-ALL_NA-PEL-BS1-GWS_PCC_IT192_DH_3LMAEALPHANA_NZ20_PNTh0.05_AnnotThresh0.5/checkpoint-1098392] due to args.save_total_limit\n"
     ]
    },
    {
     "name": "stderr",
     "output_type": "stream",
     "text": [
      "***** Running Evaluation *****\n"
     ]
    },
    {
     "name": "stderr",
     "output_type": "stream",
     "text": [
      "  Num examples = 1592\n"
     ]
    },
    {
     "name": "stderr",
     "output_type": "stream",
     "text": [
      "  Batch size = 1\n"
     ]
    },
    {
     "name": "stderr",
     "output_type": "stream",
     "text": [
      "Saving model checkpoint to saved_models/XLNetDepr-3_256_8-ALL_NA-PEL-BS1-GWS_PCC_IT192_DH_3LMAEALPHANA_NZ20_PNTh0.05_AnnotThresh0.5/checkpoint-1130322\n"
     ]
    },
    {
     "name": "stderr",
     "output_type": "stream",
     "text": [
      "Configuration saved in saved_models/XLNetDepr-3_256_8-ALL_NA-PEL-BS1-GWS_PCC_IT192_DH_3LMAEALPHANA_NZ20_PNTh0.05_AnnotThresh0.5/checkpoint-1130322/config.json\n"
     ]
    },
    {
     "name": "stderr",
     "output_type": "stream",
     "text": [
      "Model weights saved in saved_models/XLNetDepr-3_256_8-ALL_NA-PEL-BS1-GWS_PCC_IT192_DH_3LMAEALPHANA_NZ20_PNTh0.05_AnnotThresh0.5/checkpoint-1130322/pytorch_model.bin\n"
     ]
    },
    {
     "name": "stderr",
     "output_type": "stream",
     "text": [
      "Deleting older checkpoint [saved_models/XLNetDepr-3_256_8-ALL_NA-PEL-BS1-GWS_PCC_IT192_DH_3LMAEALPHANA_NZ20_PNTh0.05_AnnotThresh0.5/checkpoint-1104778] due to args.save_total_limit\n"
     ]
    },
    {
     "name": "stderr",
     "output_type": "stream",
     "text": [
      "***** Running Evaluation *****\n"
     ]
    },
    {
     "name": "stderr",
     "output_type": "stream",
     "text": [
      "  Num examples = 1592\n"
     ]
    },
    {
     "name": "stderr",
     "output_type": "stream",
     "text": [
      "  Batch size = 1\n"
     ]
    },
    {
     "name": "stderr",
     "output_type": "stream",
     "text": [
      "Saving model checkpoint to saved_models/XLNetDepr-3_256_8-ALL_NA-PEL-BS1-GWS_PCC_IT192_DH_3LMAEALPHANA_NZ20_PNTh0.05_AnnotThresh0.5/checkpoint-1136708\n"
     ]
    },
    {
     "name": "stderr",
     "output_type": "stream",
     "text": [
      "Configuration saved in saved_models/XLNetDepr-3_256_8-ALL_NA-PEL-BS1-GWS_PCC_IT192_DH_3LMAEALPHANA_NZ20_PNTh0.05_AnnotThresh0.5/checkpoint-1136708/config.json\n"
     ]
    },
    {
     "name": "stderr",
     "output_type": "stream",
     "text": [
      "Model weights saved in saved_models/XLNetDepr-3_256_8-ALL_NA-PEL-BS1-GWS_PCC_IT192_DH_3LMAEALPHANA_NZ20_PNTh0.05_AnnotThresh0.5/checkpoint-1136708/pytorch_model.bin\n"
     ]
    },
    {
     "name": "stderr",
     "output_type": "stream",
     "text": [
      "Deleting older checkpoint [saved_models/XLNetDepr-3_256_8-ALL_NA-PEL-BS1-GWS_PCC_IT192_DH_3LMAEALPHANA_NZ20_PNTh0.05_AnnotThresh0.5/checkpoint-1111164] due to args.save_total_limit\n"
     ]
    },
    {
     "name": "stderr",
     "output_type": "stream",
     "text": [
      "***** Running Evaluation *****\n"
     ]
    },
    {
     "name": "stderr",
     "output_type": "stream",
     "text": [
      "  Num examples = 1592\n"
     ]
    },
    {
     "name": "stderr",
     "output_type": "stream",
     "text": [
      "  Batch size = 1\n"
     ]
    },
    {
     "name": "stderr",
     "output_type": "stream",
     "text": [
      "Saving model checkpoint to saved_models/XLNetDepr-3_256_8-ALL_NA-PEL-BS1-GWS_PCC_IT192_DH_3LMAEALPHANA_NZ20_PNTh0.05_AnnotThresh0.5/checkpoint-1143094\n"
     ]
    },
    {
     "name": "stderr",
     "output_type": "stream",
     "text": [
      "Configuration saved in saved_models/XLNetDepr-3_256_8-ALL_NA-PEL-BS1-GWS_PCC_IT192_DH_3LMAEALPHANA_NZ20_PNTh0.05_AnnotThresh0.5/checkpoint-1143094/config.json\n"
     ]
    },
    {
     "name": "stderr",
     "output_type": "stream",
     "text": [
      "Model weights saved in saved_models/XLNetDepr-3_256_8-ALL_NA-PEL-BS1-GWS_PCC_IT192_DH_3LMAEALPHANA_NZ20_PNTh0.05_AnnotThresh0.5/checkpoint-1143094/pytorch_model.bin\n"
     ]
    },
    {
     "name": "stderr",
     "output_type": "stream",
     "text": [
      "Deleting older checkpoint [saved_models/XLNetDepr-3_256_8-ALL_NA-PEL-BS1-GWS_PCC_IT192_DH_3LMAEALPHANA_NZ20_PNTh0.05_AnnotThresh0.5/checkpoint-1117550] due to args.save_total_limit\n"
     ]
    },
    {
     "name": "stderr",
     "output_type": "stream",
     "text": [
      "***** Running Evaluation *****\n"
     ]
    },
    {
     "name": "stderr",
     "output_type": "stream",
     "text": [
      "  Num examples = 1592\n"
     ]
    },
    {
     "name": "stderr",
     "output_type": "stream",
     "text": [
      "  Batch size = 1\n"
     ]
    },
    {
     "name": "stderr",
     "output_type": "stream",
     "text": [
      "Saving model checkpoint to saved_models/XLNetDepr-3_256_8-ALL_NA-PEL-BS1-GWS_PCC_IT192_DH_3LMAEALPHANA_NZ20_PNTh0.05_AnnotThresh0.5/checkpoint-1149480\n"
     ]
    },
    {
     "name": "stderr",
     "output_type": "stream",
     "text": [
      "Configuration saved in saved_models/XLNetDepr-3_256_8-ALL_NA-PEL-BS1-GWS_PCC_IT192_DH_3LMAEALPHANA_NZ20_PNTh0.05_AnnotThresh0.5/checkpoint-1149480/config.json\n"
     ]
    },
    {
     "name": "stderr",
     "output_type": "stream",
     "text": [
      "Model weights saved in saved_models/XLNetDepr-3_256_8-ALL_NA-PEL-BS1-GWS_PCC_IT192_DH_3LMAEALPHANA_NZ20_PNTh0.05_AnnotThresh0.5/checkpoint-1149480/pytorch_model.bin\n"
     ]
    },
    {
     "name": "stderr",
     "output_type": "stream",
     "text": [
      "Deleting older checkpoint [saved_models/XLNetDepr-3_256_8-ALL_NA-PEL-BS1-GWS_PCC_IT192_DH_3LMAEALPHANA_NZ20_PNTh0.05_AnnotThresh0.5/checkpoint-1123936] due to args.save_total_limit\n"
     ]
    },
    {
     "name": "stderr",
     "output_type": "stream",
     "text": [
      "***** Running Evaluation *****\n"
     ]
    },
    {
     "name": "stderr",
     "output_type": "stream",
     "text": [
      "  Num examples = 1592\n"
     ]
    },
    {
     "name": "stderr",
     "output_type": "stream",
     "text": [
      "  Batch size = 1\n"
     ]
    },
    {
     "name": "stderr",
     "output_type": "stream",
     "text": [
      "Saving model checkpoint to saved_models/XLNetDepr-3_256_8-ALL_NA-PEL-BS1-GWS_PCC_IT192_DH_3LMAEALPHANA_NZ20_PNTh0.05_AnnotThresh0.5/checkpoint-1155866\n"
     ]
    },
    {
     "name": "stderr",
     "output_type": "stream",
     "text": [
      "Configuration saved in saved_models/XLNetDepr-3_256_8-ALL_NA-PEL-BS1-GWS_PCC_IT192_DH_3LMAEALPHANA_NZ20_PNTh0.05_AnnotThresh0.5/checkpoint-1155866/config.json\n"
     ]
    },
    {
     "name": "stderr",
     "output_type": "stream",
     "text": [
      "Model weights saved in saved_models/XLNetDepr-3_256_8-ALL_NA-PEL-BS1-GWS_PCC_IT192_DH_3LMAEALPHANA_NZ20_PNTh0.05_AnnotThresh0.5/checkpoint-1155866/pytorch_model.bin\n"
     ]
    },
    {
     "name": "stderr",
     "output_type": "stream",
     "text": [
      "Deleting older checkpoint [saved_models/XLNetDepr-3_256_8-ALL_NA-PEL-BS1-GWS_PCC_IT192_DH_3LMAEALPHANA_NZ20_PNTh0.05_AnnotThresh0.5/checkpoint-1130322] due to args.save_total_limit\n"
     ]
    },
    {
     "name": "stderr",
     "output_type": "stream",
     "text": [
      "***** Running Evaluation *****\n"
     ]
    },
    {
     "name": "stderr",
     "output_type": "stream",
     "text": [
      "  Num examples = 1592\n"
     ]
    },
    {
     "name": "stderr",
     "output_type": "stream",
     "text": [
      "  Batch size = 1\n"
     ]
    },
    {
     "name": "stderr",
     "output_type": "stream",
     "text": [
      "Saving model checkpoint to saved_models/XLNetDepr-3_256_8-ALL_NA-PEL-BS1-GWS_PCC_IT192_DH_3LMAEALPHANA_NZ20_PNTh0.05_AnnotThresh0.5/checkpoint-1162252\n"
     ]
    },
    {
     "name": "stderr",
     "output_type": "stream",
     "text": [
      "Configuration saved in saved_models/XLNetDepr-3_256_8-ALL_NA-PEL-BS1-GWS_PCC_IT192_DH_3LMAEALPHANA_NZ20_PNTh0.05_AnnotThresh0.5/checkpoint-1162252/config.json\n"
     ]
    },
    {
     "name": "stderr",
     "output_type": "stream",
     "text": [
      "Model weights saved in saved_models/XLNetDepr-3_256_8-ALL_NA-PEL-BS1-GWS_PCC_IT192_DH_3LMAEALPHANA_NZ20_PNTh0.05_AnnotThresh0.5/checkpoint-1162252/pytorch_model.bin\n"
     ]
    },
    {
     "name": "stderr",
     "output_type": "stream",
     "text": [
      "Deleting older checkpoint [saved_models/XLNetDepr-3_256_8-ALL_NA-PEL-BS1-GWS_PCC_IT192_DH_3LMAEALPHANA_NZ20_PNTh0.05_AnnotThresh0.5/checkpoint-1136708] due to args.save_total_limit\n"
     ]
    },
    {
     "name": "stderr",
     "output_type": "stream",
     "text": [
      "***** Running Evaluation *****\n"
     ]
    },
    {
     "name": "stderr",
     "output_type": "stream",
     "text": [
      "  Num examples = 1592\n"
     ]
    },
    {
     "name": "stderr",
     "output_type": "stream",
     "text": [
      "  Batch size = 1\n"
     ]
    },
    {
     "name": "stderr",
     "output_type": "stream",
     "text": [
      "Saving model checkpoint to saved_models/XLNetDepr-3_256_8-ALL_NA-PEL-BS1-GWS_PCC_IT192_DH_3LMAEALPHANA_NZ20_PNTh0.05_AnnotThresh0.5/checkpoint-1168638\n"
     ]
    },
    {
     "name": "stderr",
     "output_type": "stream",
     "text": [
      "Configuration saved in saved_models/XLNetDepr-3_256_8-ALL_NA-PEL-BS1-GWS_PCC_IT192_DH_3LMAEALPHANA_NZ20_PNTh0.05_AnnotThresh0.5/checkpoint-1168638/config.json\n"
     ]
    },
    {
     "name": "stderr",
     "output_type": "stream",
     "text": [
      "Model weights saved in saved_models/XLNetDepr-3_256_8-ALL_NA-PEL-BS1-GWS_PCC_IT192_DH_3LMAEALPHANA_NZ20_PNTh0.05_AnnotThresh0.5/checkpoint-1168638/pytorch_model.bin\n"
     ]
    },
    {
     "name": "stderr",
     "output_type": "stream",
     "text": [
      "Deleting older checkpoint [saved_models/XLNetDepr-3_256_8-ALL_NA-PEL-BS1-GWS_PCC_IT192_DH_3LMAEALPHANA_NZ20_PNTh0.05_AnnotThresh0.5/checkpoint-1143094] due to args.save_total_limit\n"
     ]
    },
    {
     "name": "stderr",
     "output_type": "stream",
     "text": [
      "***** Running Evaluation *****\n"
     ]
    },
    {
     "name": "stderr",
     "output_type": "stream",
     "text": [
      "  Num examples = 1592\n"
     ]
    },
    {
     "name": "stderr",
     "output_type": "stream",
     "text": [
      "  Batch size = 1\n"
     ]
    },
    {
     "name": "stderr",
     "output_type": "stream",
     "text": [
      "Saving model checkpoint to saved_models/XLNetDepr-3_256_8-ALL_NA-PEL-BS1-GWS_PCC_IT192_DH_3LMAEALPHANA_NZ20_PNTh0.05_AnnotThresh0.5/checkpoint-1175024\n"
     ]
    },
    {
     "name": "stderr",
     "output_type": "stream",
     "text": [
      "Configuration saved in saved_models/XLNetDepr-3_256_8-ALL_NA-PEL-BS1-GWS_PCC_IT192_DH_3LMAEALPHANA_NZ20_PNTh0.05_AnnotThresh0.5/checkpoint-1175024/config.json\n"
     ]
    },
    {
     "name": "stderr",
     "output_type": "stream",
     "text": [
      "Model weights saved in saved_models/XLNetDepr-3_256_8-ALL_NA-PEL-BS1-GWS_PCC_IT192_DH_3LMAEALPHANA_NZ20_PNTh0.05_AnnotThresh0.5/checkpoint-1175024/pytorch_model.bin\n"
     ]
    },
    {
     "name": "stderr",
     "output_type": "stream",
     "text": [
      "Deleting older checkpoint [saved_models/XLNetDepr-3_256_8-ALL_NA-PEL-BS1-GWS_PCC_IT192_DH_3LMAEALPHANA_NZ20_PNTh0.05_AnnotThresh0.5/checkpoint-1149480] due to args.save_total_limit\n"
     ]
    },
    {
     "name": "stderr",
     "output_type": "stream",
     "text": [
      "***** Running Evaluation *****\n"
     ]
    },
    {
     "name": "stderr",
     "output_type": "stream",
     "text": [
      "  Num examples = 1592\n"
     ]
    },
    {
     "name": "stderr",
     "output_type": "stream",
     "text": [
      "  Batch size = 1\n"
     ]
    },
    {
     "name": "stderr",
     "output_type": "stream",
     "text": [
      "Saving model checkpoint to saved_models/XLNetDepr-3_256_8-ALL_NA-PEL-BS1-GWS_PCC_IT192_DH_3LMAEALPHANA_NZ20_PNTh0.05_AnnotThresh0.5/checkpoint-1181410\n"
     ]
    },
    {
     "name": "stderr",
     "output_type": "stream",
     "text": [
      "Configuration saved in saved_models/XLNetDepr-3_256_8-ALL_NA-PEL-BS1-GWS_PCC_IT192_DH_3LMAEALPHANA_NZ20_PNTh0.05_AnnotThresh0.5/checkpoint-1181410/config.json\n"
     ]
    },
    {
     "name": "stderr",
     "output_type": "stream",
     "text": [
      "Model weights saved in saved_models/XLNetDepr-3_256_8-ALL_NA-PEL-BS1-GWS_PCC_IT192_DH_3LMAEALPHANA_NZ20_PNTh0.05_AnnotThresh0.5/checkpoint-1181410/pytorch_model.bin\n"
     ]
    },
    {
     "name": "stderr",
     "output_type": "stream",
     "text": [
      "Deleting older checkpoint [saved_models/XLNetDepr-3_256_8-ALL_NA-PEL-BS1-GWS_PCC_IT192_DH_3LMAEALPHANA_NZ20_PNTh0.05_AnnotThresh0.5/checkpoint-1155866] due to args.save_total_limit\n"
     ]
    },
    {
     "name": "stderr",
     "output_type": "stream",
     "text": [
      "***** Running Evaluation *****\n"
     ]
    },
    {
     "name": "stderr",
     "output_type": "stream",
     "text": [
      "  Num examples = 1592\n"
     ]
    },
    {
     "name": "stderr",
     "output_type": "stream",
     "text": [
      "  Batch size = 1\n"
     ]
    },
    {
     "name": "stderr",
     "output_type": "stream",
     "text": [
      "Saving model checkpoint to saved_models/XLNetDepr-3_256_8-ALL_NA-PEL-BS1-GWS_PCC_IT192_DH_3LMAEALPHANA_NZ20_PNTh0.05_AnnotThresh0.5/checkpoint-1187796\n"
     ]
    },
    {
     "name": "stderr",
     "output_type": "stream",
     "text": [
      "Configuration saved in saved_models/XLNetDepr-3_256_8-ALL_NA-PEL-BS1-GWS_PCC_IT192_DH_3LMAEALPHANA_NZ20_PNTh0.05_AnnotThresh0.5/checkpoint-1187796/config.json\n"
     ]
    },
    {
     "name": "stderr",
     "output_type": "stream",
     "text": [
      "Model weights saved in saved_models/XLNetDepr-3_256_8-ALL_NA-PEL-BS1-GWS_PCC_IT192_DH_3LMAEALPHANA_NZ20_PNTh0.05_AnnotThresh0.5/checkpoint-1187796/pytorch_model.bin\n"
     ]
    },
    {
     "name": "stderr",
     "output_type": "stream",
     "text": [
      "Deleting older checkpoint [saved_models/XLNetDepr-3_256_8-ALL_NA-PEL-BS1-GWS_PCC_IT192_DH_3LMAEALPHANA_NZ20_PNTh0.05_AnnotThresh0.5/checkpoint-1162252] due to args.save_total_limit\n"
     ]
    },
    {
     "name": "stderr",
     "output_type": "stream",
     "text": [
      "***** Running Evaluation *****\n"
     ]
    },
    {
     "name": "stderr",
     "output_type": "stream",
     "text": [
      "  Num examples = 1592\n"
     ]
    },
    {
     "name": "stderr",
     "output_type": "stream",
     "text": [
      "  Batch size = 1\n"
     ]
    },
    {
     "name": "stderr",
     "output_type": "stream",
     "text": [
      "Saving model checkpoint to saved_models/XLNetDepr-3_256_8-ALL_NA-PEL-BS1-GWS_PCC_IT192_DH_3LMAEALPHANA_NZ20_PNTh0.05_AnnotThresh0.5/checkpoint-1194182\n"
     ]
    },
    {
     "name": "stderr",
     "output_type": "stream",
     "text": [
      "Configuration saved in saved_models/XLNetDepr-3_256_8-ALL_NA-PEL-BS1-GWS_PCC_IT192_DH_3LMAEALPHANA_NZ20_PNTh0.05_AnnotThresh0.5/checkpoint-1194182/config.json\n"
     ]
    },
    {
     "name": "stderr",
     "output_type": "stream",
     "text": [
      "Model weights saved in saved_models/XLNetDepr-3_256_8-ALL_NA-PEL-BS1-GWS_PCC_IT192_DH_3LMAEALPHANA_NZ20_PNTh0.05_AnnotThresh0.5/checkpoint-1194182/pytorch_model.bin\n"
     ]
    },
    {
     "name": "stderr",
     "output_type": "stream",
     "text": [
      "Deleting older checkpoint [saved_models/XLNetDepr-3_256_8-ALL_NA-PEL-BS1-GWS_PCC_IT192_DH_3LMAEALPHANA_NZ20_PNTh0.05_AnnotThresh0.5/checkpoint-1168638] due to args.save_total_limit\n"
     ]
    },
    {
     "name": "stderr",
     "output_type": "stream",
     "text": [
      "***** Running Evaluation *****\n"
     ]
    },
    {
     "name": "stderr",
     "output_type": "stream",
     "text": [
      "  Num examples = 1592\n"
     ]
    },
    {
     "name": "stderr",
     "output_type": "stream",
     "text": [
      "  Batch size = 1\n"
     ]
    },
    {
     "name": "stderr",
     "output_type": "stream",
     "text": [
      "Saving model checkpoint to saved_models/XLNetDepr-3_256_8-ALL_NA-PEL-BS1-GWS_PCC_IT192_DH_3LMAEALPHANA_NZ20_PNTh0.05_AnnotThresh0.5/checkpoint-1200568\n"
     ]
    },
    {
     "name": "stderr",
     "output_type": "stream",
     "text": [
      "Configuration saved in saved_models/XLNetDepr-3_256_8-ALL_NA-PEL-BS1-GWS_PCC_IT192_DH_3LMAEALPHANA_NZ20_PNTh0.05_AnnotThresh0.5/checkpoint-1200568/config.json\n"
     ]
    },
    {
     "name": "stderr",
     "output_type": "stream",
     "text": [
      "Model weights saved in saved_models/XLNetDepr-3_256_8-ALL_NA-PEL-BS1-GWS_PCC_IT192_DH_3LMAEALPHANA_NZ20_PNTh0.05_AnnotThresh0.5/checkpoint-1200568/pytorch_model.bin\n"
     ]
    },
    {
     "name": "stderr",
     "output_type": "stream",
     "text": [
      "Deleting older checkpoint [saved_models/XLNetDepr-3_256_8-ALL_NA-PEL-BS1-GWS_PCC_IT192_DH_3LMAEALPHANA_NZ20_PNTh0.05_AnnotThresh0.5/checkpoint-1175024] due to args.save_total_limit\n"
     ]
    },
    {
     "name": "stderr",
     "output_type": "stream",
     "text": [
      "***** Running Evaluation *****\n"
     ]
    },
    {
     "name": "stderr",
     "output_type": "stream",
     "text": [
      "  Num examples = 1592\n"
     ]
    },
    {
     "name": "stderr",
     "output_type": "stream",
     "text": [
      "  Batch size = 1\n"
     ]
    },
    {
     "name": "stderr",
     "output_type": "stream",
     "text": [
      "Saving model checkpoint to saved_models/XLNetDepr-3_256_8-ALL_NA-PEL-BS1-GWS_PCC_IT192_DH_3LMAEALPHANA_NZ20_PNTh0.05_AnnotThresh0.5/checkpoint-1206954\n"
     ]
    },
    {
     "name": "stderr",
     "output_type": "stream",
     "text": [
      "Configuration saved in saved_models/XLNetDepr-3_256_8-ALL_NA-PEL-BS1-GWS_PCC_IT192_DH_3LMAEALPHANA_NZ20_PNTh0.05_AnnotThresh0.5/checkpoint-1206954/config.json\n"
     ]
    },
    {
     "name": "stderr",
     "output_type": "stream",
     "text": [
      "Model weights saved in saved_models/XLNetDepr-3_256_8-ALL_NA-PEL-BS1-GWS_PCC_IT192_DH_3LMAEALPHANA_NZ20_PNTh0.05_AnnotThresh0.5/checkpoint-1206954/pytorch_model.bin\n"
     ]
    },
    {
     "name": "stderr",
     "output_type": "stream",
     "text": [
      "Deleting older checkpoint [saved_models/XLNetDepr-3_256_8-ALL_NA-PEL-BS1-GWS_PCC_IT192_DH_3LMAEALPHANA_NZ20_PNTh0.05_AnnotThresh0.5/checkpoint-1181410] due to args.save_total_limit\n"
     ]
    },
    {
     "name": "stderr",
     "output_type": "stream",
     "text": [
      "***** Running Evaluation *****\n"
     ]
    },
    {
     "name": "stderr",
     "output_type": "stream",
     "text": [
      "  Num examples = 1592\n"
     ]
    },
    {
     "name": "stderr",
     "output_type": "stream",
     "text": [
      "  Batch size = 1\n"
     ]
    },
    {
     "name": "stderr",
     "output_type": "stream",
     "text": [
      "Saving model checkpoint to saved_models/XLNetDepr-3_256_8-ALL_NA-PEL-BS1-GWS_PCC_IT192_DH_3LMAEALPHANA_NZ20_PNTh0.05_AnnotThresh0.5/checkpoint-1213340\n"
     ]
    },
    {
     "name": "stderr",
     "output_type": "stream",
     "text": [
      "Configuration saved in saved_models/XLNetDepr-3_256_8-ALL_NA-PEL-BS1-GWS_PCC_IT192_DH_3LMAEALPHANA_NZ20_PNTh0.05_AnnotThresh0.5/checkpoint-1213340/config.json\n"
     ]
    },
    {
     "name": "stderr",
     "output_type": "stream",
     "text": [
      "Model weights saved in saved_models/XLNetDepr-3_256_8-ALL_NA-PEL-BS1-GWS_PCC_IT192_DH_3LMAEALPHANA_NZ20_PNTh0.05_AnnotThresh0.5/checkpoint-1213340/pytorch_model.bin\n"
     ]
    },
    {
     "name": "stderr",
     "output_type": "stream",
     "text": [
      "Deleting older checkpoint [saved_models/XLNetDepr-3_256_8-ALL_NA-PEL-BS1-GWS_PCC_IT192_DH_3LMAEALPHANA_NZ20_PNTh0.05_AnnotThresh0.5/checkpoint-1187796] due to args.save_total_limit\n"
     ]
    },
    {
     "name": "stderr",
     "output_type": "stream",
     "text": [
      "***** Running Evaluation *****\n"
     ]
    },
    {
     "name": "stderr",
     "output_type": "stream",
     "text": [
      "  Num examples = 1592\n"
     ]
    },
    {
     "name": "stderr",
     "output_type": "stream",
     "text": [
      "  Batch size = 1\n"
     ]
    },
    {
     "name": "stderr",
     "output_type": "stream",
     "text": [
      "Saving model checkpoint to saved_models/XLNetDepr-3_256_8-ALL_NA-PEL-BS1-GWS_PCC_IT192_DH_3LMAEALPHANA_NZ20_PNTh0.05_AnnotThresh0.5/checkpoint-1219726\n"
     ]
    },
    {
     "name": "stderr",
     "output_type": "stream",
     "text": [
      "Configuration saved in saved_models/XLNetDepr-3_256_8-ALL_NA-PEL-BS1-GWS_PCC_IT192_DH_3LMAEALPHANA_NZ20_PNTh0.05_AnnotThresh0.5/checkpoint-1219726/config.json\n"
     ]
    },
    {
     "name": "stderr",
     "output_type": "stream",
     "text": [
      "Model weights saved in saved_models/XLNetDepr-3_256_8-ALL_NA-PEL-BS1-GWS_PCC_IT192_DH_3LMAEALPHANA_NZ20_PNTh0.05_AnnotThresh0.5/checkpoint-1219726/pytorch_model.bin\n"
     ]
    },
    {
     "name": "stderr",
     "output_type": "stream",
     "text": [
      "Deleting older checkpoint [saved_models/XLNetDepr-3_256_8-ALL_NA-PEL-BS1-GWS_PCC_IT192_DH_3LMAEALPHANA_NZ20_PNTh0.05_AnnotThresh0.5/checkpoint-1194182] due to args.save_total_limit\n"
     ]
    },
    {
     "name": "stderr",
     "output_type": "stream",
     "text": [
      "***** Running Evaluation *****\n"
     ]
    },
    {
     "name": "stderr",
     "output_type": "stream",
     "text": [
      "  Num examples = 1592\n"
     ]
    },
    {
     "name": "stderr",
     "output_type": "stream",
     "text": [
      "  Batch size = 1\n"
     ]
    },
    {
     "name": "stderr",
     "output_type": "stream",
     "text": [
      "Saving model checkpoint to saved_models/XLNetDepr-3_256_8-ALL_NA-PEL-BS1-GWS_PCC_IT192_DH_3LMAEALPHANA_NZ20_PNTh0.05_AnnotThresh0.5/checkpoint-1226112\n"
     ]
    },
    {
     "name": "stderr",
     "output_type": "stream",
     "text": [
      "Configuration saved in saved_models/XLNetDepr-3_256_8-ALL_NA-PEL-BS1-GWS_PCC_IT192_DH_3LMAEALPHANA_NZ20_PNTh0.05_AnnotThresh0.5/checkpoint-1226112/config.json\n"
     ]
    },
    {
     "name": "stderr",
     "output_type": "stream",
     "text": [
      "Model weights saved in saved_models/XLNetDepr-3_256_8-ALL_NA-PEL-BS1-GWS_PCC_IT192_DH_3LMAEALPHANA_NZ20_PNTh0.05_AnnotThresh0.5/checkpoint-1226112/pytorch_model.bin\n"
     ]
    },
    {
     "name": "stderr",
     "output_type": "stream",
     "text": [
      "Deleting older checkpoint [saved_models/XLNetDepr-3_256_8-ALL_NA-PEL-BS1-GWS_PCC_IT192_DH_3LMAEALPHANA_NZ20_PNTh0.05_AnnotThresh0.5/checkpoint-1200568] due to args.save_total_limit\n"
     ]
    },
    {
     "name": "stderr",
     "output_type": "stream",
     "text": [
      "***** Running Evaluation *****\n"
     ]
    },
    {
     "name": "stderr",
     "output_type": "stream",
     "text": [
      "  Num examples = 1592\n"
     ]
    },
    {
     "name": "stderr",
     "output_type": "stream",
     "text": [
      "  Batch size = 1\n"
     ]
    },
    {
     "name": "stderr",
     "output_type": "stream",
     "text": [
      "Saving model checkpoint to saved_models/XLNetDepr-3_256_8-ALL_NA-PEL-BS1-GWS_PCC_IT192_DH_3LMAEALPHANA_NZ20_PNTh0.05_AnnotThresh0.5/checkpoint-1232498\n"
     ]
    },
    {
     "name": "stderr",
     "output_type": "stream",
     "text": [
      "Configuration saved in saved_models/XLNetDepr-3_256_8-ALL_NA-PEL-BS1-GWS_PCC_IT192_DH_3LMAEALPHANA_NZ20_PNTh0.05_AnnotThresh0.5/checkpoint-1232498/config.json\n"
     ]
    },
    {
     "name": "stderr",
     "output_type": "stream",
     "text": [
      "Model weights saved in saved_models/XLNetDepr-3_256_8-ALL_NA-PEL-BS1-GWS_PCC_IT192_DH_3LMAEALPHANA_NZ20_PNTh0.05_AnnotThresh0.5/checkpoint-1232498/pytorch_model.bin\n"
     ]
    },
    {
     "name": "stderr",
     "output_type": "stream",
     "text": [
      "Deleting older checkpoint [saved_models/XLNetDepr-3_256_8-ALL_NA-PEL-BS1-GWS_PCC_IT192_DH_3LMAEALPHANA_NZ20_PNTh0.05_AnnotThresh0.5/checkpoint-1206954] due to args.save_total_limit\n"
     ]
    },
    {
     "name": "stderr",
     "output_type": "stream",
     "text": [
      "***** Running Evaluation *****\n"
     ]
    },
    {
     "name": "stderr",
     "output_type": "stream",
     "text": [
      "  Num examples = 1592\n"
     ]
    },
    {
     "name": "stderr",
     "output_type": "stream",
     "text": [
      "  Batch size = 1\n"
     ]
    },
    {
     "name": "stderr",
     "output_type": "stream",
     "text": [
      "Saving model checkpoint to saved_models/XLNetDepr-3_256_8-ALL_NA-PEL-BS1-GWS_PCC_IT192_DH_3LMAEALPHANA_NZ20_PNTh0.05_AnnotThresh0.5/checkpoint-1238884\n"
     ]
    },
    {
     "name": "stderr",
     "output_type": "stream",
     "text": [
      "Configuration saved in saved_models/XLNetDepr-3_256_8-ALL_NA-PEL-BS1-GWS_PCC_IT192_DH_3LMAEALPHANA_NZ20_PNTh0.05_AnnotThresh0.5/checkpoint-1238884/config.json\n"
     ]
    },
    {
     "name": "stderr",
     "output_type": "stream",
     "text": [
      "Model weights saved in saved_models/XLNetDepr-3_256_8-ALL_NA-PEL-BS1-GWS_PCC_IT192_DH_3LMAEALPHANA_NZ20_PNTh0.05_AnnotThresh0.5/checkpoint-1238884/pytorch_model.bin\n"
     ]
    },
    {
     "name": "stderr",
     "output_type": "stream",
     "text": [
      "Deleting older checkpoint [saved_models/XLNetDepr-3_256_8-ALL_NA-PEL-BS1-GWS_PCC_IT192_DH_3LMAEALPHANA_NZ20_PNTh0.05_AnnotThresh0.5/checkpoint-1213340] due to args.save_total_limit\n"
     ]
    },
    {
     "name": "stderr",
     "output_type": "stream",
     "text": [
      "***** Running Evaluation *****\n"
     ]
    },
    {
     "name": "stderr",
     "output_type": "stream",
     "text": [
      "  Num examples = 1592\n"
     ]
    },
    {
     "name": "stderr",
     "output_type": "stream",
     "text": [
      "  Batch size = 1\n"
     ]
    },
    {
     "name": "stderr",
     "output_type": "stream",
     "text": [
      "Saving model checkpoint to saved_models/XLNetDepr-3_256_8-ALL_NA-PEL-BS1-GWS_PCC_IT192_DH_3LMAEALPHANA_NZ20_PNTh0.05_AnnotThresh0.5/checkpoint-1245270\n"
     ]
    },
    {
     "name": "stderr",
     "output_type": "stream",
     "text": [
      "Configuration saved in saved_models/XLNetDepr-3_256_8-ALL_NA-PEL-BS1-GWS_PCC_IT192_DH_3LMAEALPHANA_NZ20_PNTh0.05_AnnotThresh0.5/checkpoint-1245270/config.json\n"
     ]
    },
    {
     "name": "stderr",
     "output_type": "stream",
     "text": [
      "Model weights saved in saved_models/XLNetDepr-3_256_8-ALL_NA-PEL-BS1-GWS_PCC_IT192_DH_3LMAEALPHANA_NZ20_PNTh0.05_AnnotThresh0.5/checkpoint-1245270/pytorch_model.bin\n"
     ]
    },
    {
     "name": "stderr",
     "output_type": "stream",
     "text": [
      "Deleting older checkpoint [saved_models/XLNetDepr-3_256_8-ALL_NA-PEL-BS1-GWS_PCC_IT192_DH_3LMAEALPHANA_NZ20_PNTh0.05_AnnotThresh0.5/checkpoint-1219726] due to args.save_total_limit\n"
     ]
    },
    {
     "name": "stderr",
     "output_type": "stream",
     "text": [
      "***** Running Evaluation *****\n"
     ]
    },
    {
     "name": "stderr",
     "output_type": "stream",
     "text": [
      "  Num examples = 1592\n"
     ]
    },
    {
     "name": "stderr",
     "output_type": "stream",
     "text": [
      "  Batch size = 1\n"
     ]
    },
    {
     "name": "stderr",
     "output_type": "stream",
     "text": [
      "Saving model checkpoint to saved_models/XLNetDepr-3_256_8-ALL_NA-PEL-BS1-GWS_PCC_IT192_DH_3LMAEALPHANA_NZ20_PNTh0.05_AnnotThresh0.5/checkpoint-1251656\n"
     ]
    },
    {
     "name": "stderr",
     "output_type": "stream",
     "text": [
      "Configuration saved in saved_models/XLNetDepr-3_256_8-ALL_NA-PEL-BS1-GWS_PCC_IT192_DH_3LMAEALPHANA_NZ20_PNTh0.05_AnnotThresh0.5/checkpoint-1251656/config.json\n"
     ]
    },
    {
     "name": "stderr",
     "output_type": "stream",
     "text": [
      "Model weights saved in saved_models/XLNetDepr-3_256_8-ALL_NA-PEL-BS1-GWS_PCC_IT192_DH_3LMAEALPHANA_NZ20_PNTh0.05_AnnotThresh0.5/checkpoint-1251656/pytorch_model.bin\n"
     ]
    },
    {
     "name": "stderr",
     "output_type": "stream",
     "text": [
      "Deleting older checkpoint [saved_models/XLNetDepr-3_256_8-ALL_NA-PEL-BS1-GWS_PCC_IT192_DH_3LMAEALPHANA_NZ20_PNTh0.05_AnnotThresh0.5/checkpoint-1226112] due to args.save_total_limit\n"
     ]
    },
    {
     "name": "stderr",
     "output_type": "stream",
     "text": [
      "***** Running Evaluation *****\n"
     ]
    },
    {
     "name": "stderr",
     "output_type": "stream",
     "text": [
      "  Num examples = 1592\n"
     ]
    },
    {
     "name": "stderr",
     "output_type": "stream",
     "text": [
      "  Batch size = 1\n"
     ]
    },
    {
     "name": "stderr",
     "output_type": "stream",
     "text": [
      "Saving model checkpoint to saved_models/XLNetDepr-3_256_8-ALL_NA-PEL-BS1-GWS_PCC_IT192_DH_3LMAEALPHANA_NZ20_PNTh0.05_AnnotThresh0.5/checkpoint-1258042\n"
     ]
    },
    {
     "name": "stderr",
     "output_type": "stream",
     "text": [
      "Configuration saved in saved_models/XLNetDepr-3_256_8-ALL_NA-PEL-BS1-GWS_PCC_IT192_DH_3LMAEALPHANA_NZ20_PNTh0.05_AnnotThresh0.5/checkpoint-1258042/config.json\n"
     ]
    },
    {
     "name": "stderr",
     "output_type": "stream",
     "text": [
      "Model weights saved in saved_models/XLNetDepr-3_256_8-ALL_NA-PEL-BS1-GWS_PCC_IT192_DH_3LMAEALPHANA_NZ20_PNTh0.05_AnnotThresh0.5/checkpoint-1258042/pytorch_model.bin\n"
     ]
    },
    {
     "name": "stderr",
     "output_type": "stream",
     "text": [
      "Deleting older checkpoint [saved_models/XLNetDepr-3_256_8-ALL_NA-PEL-BS1-GWS_PCC_IT192_DH_3LMAEALPHANA_NZ20_PNTh0.05_AnnotThresh0.5/checkpoint-1232498] due to args.save_total_limit\n"
     ]
    },
    {
     "name": "stderr",
     "output_type": "stream",
     "text": [
      "***** Running Evaluation *****\n"
     ]
    },
    {
     "name": "stderr",
     "output_type": "stream",
     "text": [
      "  Num examples = 1592\n"
     ]
    },
    {
     "name": "stderr",
     "output_type": "stream",
     "text": [
      "  Batch size = 1\n"
     ]
    },
    {
     "name": "stderr",
     "output_type": "stream",
     "text": [
      "Saving model checkpoint to saved_models/XLNetDepr-3_256_8-ALL_NA-PEL-BS1-GWS_PCC_IT192_DH_3LMAEALPHANA_NZ20_PNTh0.05_AnnotThresh0.5/checkpoint-1264428\n"
     ]
    },
    {
     "name": "stderr",
     "output_type": "stream",
     "text": [
      "Configuration saved in saved_models/XLNetDepr-3_256_8-ALL_NA-PEL-BS1-GWS_PCC_IT192_DH_3LMAEALPHANA_NZ20_PNTh0.05_AnnotThresh0.5/checkpoint-1264428/config.json\n"
     ]
    },
    {
     "name": "stderr",
     "output_type": "stream",
     "text": [
      "Model weights saved in saved_models/XLNetDepr-3_256_8-ALL_NA-PEL-BS1-GWS_PCC_IT192_DH_3LMAEALPHANA_NZ20_PNTh0.05_AnnotThresh0.5/checkpoint-1264428/pytorch_model.bin\n"
     ]
    },
    {
     "name": "stderr",
     "output_type": "stream",
     "text": [
      "Deleting older checkpoint [saved_models/XLNetDepr-3_256_8-ALL_NA-PEL-BS1-GWS_PCC_IT192_DH_3LMAEALPHANA_NZ20_PNTh0.05_AnnotThresh0.5/checkpoint-1238884] due to args.save_total_limit\n"
     ]
    },
    {
     "name": "stderr",
     "output_type": "stream",
     "text": [
      "***** Running Evaluation *****\n"
     ]
    },
    {
     "name": "stderr",
     "output_type": "stream",
     "text": [
      "  Num examples = 1592\n"
     ]
    },
    {
     "name": "stderr",
     "output_type": "stream",
     "text": [
      "  Batch size = 1\n"
     ]
    },
    {
     "name": "stderr",
     "output_type": "stream",
     "text": [
      "Saving model checkpoint to saved_models/XLNetDepr-3_256_8-ALL_NA-PEL-BS1-GWS_PCC_IT192_DH_3LMAEALPHANA_NZ20_PNTh0.05_AnnotThresh0.5/checkpoint-1270814\n"
     ]
    },
    {
     "name": "stderr",
     "output_type": "stream",
     "text": [
      "Configuration saved in saved_models/XLNetDepr-3_256_8-ALL_NA-PEL-BS1-GWS_PCC_IT192_DH_3LMAEALPHANA_NZ20_PNTh0.05_AnnotThresh0.5/checkpoint-1270814/config.json\n"
     ]
    },
    {
     "name": "stderr",
     "output_type": "stream",
     "text": [
      "Model weights saved in saved_models/XLNetDepr-3_256_8-ALL_NA-PEL-BS1-GWS_PCC_IT192_DH_3LMAEALPHANA_NZ20_PNTh0.05_AnnotThresh0.5/checkpoint-1270814/pytorch_model.bin\n"
     ]
    },
    {
     "name": "stderr",
     "output_type": "stream",
     "text": [
      "Deleting older checkpoint [saved_models/XLNetDepr-3_256_8-ALL_NA-PEL-BS1-GWS_PCC_IT192_DH_3LMAEALPHANA_NZ20_PNTh0.05_AnnotThresh0.5/checkpoint-1245270] due to args.save_total_limit\n"
     ]
    },
    {
     "name": "stderr",
     "output_type": "stream",
     "text": [
      "***** Running Evaluation *****\n"
     ]
    },
    {
     "name": "stderr",
     "output_type": "stream",
     "text": [
      "  Num examples = 1592\n"
     ]
    },
    {
     "name": "stderr",
     "output_type": "stream",
     "text": [
      "  Batch size = 1\n"
     ]
    },
    {
     "name": "stderr",
     "output_type": "stream",
     "text": [
      "Saving model checkpoint to saved_models/XLNetDepr-3_256_8-ALL_NA-PEL-BS1-GWS_PCC_IT192_DH_3LMAEALPHANA_NZ20_PNTh0.05_AnnotThresh0.5/checkpoint-1277200\n"
     ]
    },
    {
     "name": "stderr",
     "output_type": "stream",
     "text": [
      "Configuration saved in saved_models/XLNetDepr-3_256_8-ALL_NA-PEL-BS1-GWS_PCC_IT192_DH_3LMAEALPHANA_NZ20_PNTh0.05_AnnotThresh0.5/checkpoint-1277200/config.json\n"
     ]
    },
    {
     "name": "stderr",
     "output_type": "stream",
     "text": [
      "Model weights saved in saved_models/XLNetDepr-3_256_8-ALL_NA-PEL-BS1-GWS_PCC_IT192_DH_3LMAEALPHANA_NZ20_PNTh0.05_AnnotThresh0.5/checkpoint-1277200/pytorch_model.bin\n"
     ]
    },
    {
     "name": "stderr",
     "output_type": "stream",
     "text": [
      "Deleting older checkpoint [saved_models/XLNetDepr-3_256_8-ALL_NA-PEL-BS1-GWS_PCC_IT192_DH_3LMAEALPHANA_NZ20_PNTh0.05_AnnotThresh0.5/checkpoint-1251656] due to args.save_total_limit\n"
     ]
    },
    {
     "name": "stderr",
     "output_type": "stream",
     "text": [
      "\n",
      "\n",
      "Training completed. Do not forget to share your model on huggingface.co/models =)\n",
      "\n",
      "\n"
     ]
    },
    {
     "name": "stderr",
     "output_type": "stream",
     "text": [
      "Loading best model from saved_models/XLNetDepr-3_256_8-ALL_NA-PEL-BS1-GWS_PCC_IT192_DH_3LMAEALPHANA_NZ20_PNTh0.05_AnnotThresh0.5/checkpoint-408704 (score: 1.1659467220306396).\n"
     ]
    },
    {
     "name": "stderr",
     "output_type": "stream",
     "text": [
      "Saving model checkpoint to saved_models/XLNetDepr-3_256_8-ALL_NA-PEL-BS1-GWS_PCC_IT192_DH_3LMAEALPHANA_NZ20_PNTh0.05_AnnotThresh0.5/best_model\n"
     ]
    },
    {
     "name": "stderr",
     "output_type": "stream",
     "text": [
      "Configuration saved in saved_models/XLNetDepr-3_256_8-ALL_NA-PEL-BS1-GWS_PCC_IT192_DH_3LMAEALPHANA_NZ20_PNTh0.05_AnnotThresh0.5/best_model/config.json\n"
     ]
    },
    {
     "name": "stderr",
     "output_type": "stream",
     "text": [
      "Model weights saved in saved_models/XLNetDepr-3_256_8-ALL_NA-PEL-BS1-GWS_PCC_IT192_DH_3LMAEALPHANA_NZ20_PNTh0.05_AnnotThresh0.5/best_model/pytorch_model.bin\n"
     ]
    }
   ],
   "source": [
    "# train model\n",
    "trainer.train()\n",
    "\n",
    "# save best model\n",
    "trainer.save_model(output_loc + \"/best_model\")"
   ]
  },
  {
   "cell_type": "code",
   "execution_count": 7,
   "id": "d75cb86f",
   "metadata": {
    "execution": {
     "iopub.execute_input": "2023-11-09T04:21:14.169294Z",
     "iopub.status.busy": "2023-11-09T04:21:14.168519Z",
     "iopub.status.idle": "2023-11-09T04:21:41.025590Z",
     "shell.execute_reply": "2023-11-09T04:21:41.024604Z"
    },
    "papermill": {
     "duration": 26.962237,
     "end_time": "2023-11-09T04:21:41.029398",
     "exception": false,
     "start_time": "2023-11-09T04:21:14.067161",
     "status": "completed"
    },
    "tags": []
   },
   "outputs": [
    {
     "name": "stderr",
     "output_type": "stream",
     "text": [
      "***** Running Evaluation *****\n"
     ]
    },
    {
     "name": "stderr",
     "output_type": "stream",
     "text": [
      "  Num examples = 1592\n"
     ]
    },
    {
     "name": "stderr",
     "output_type": "stream",
     "text": [
      "  Batch size = 1\n"
     ]
    },
    {
     "data": {
      "text/html": [
       "\n",
       "    <div>\n",
       "      \n",
       "      <progress value='1592' max='1592' style='width:300px; height:20px; vertical-align: middle;'></progress>\n",
       "      [1592/1592 00:25]\n",
       "    </div>\n",
       "    "
      ],
      "text/plain": [
       "<IPython.core.display.HTML object>"
      ]
     },
     "metadata": {},
     "output_type": "display_data"
    },
    {
     "data": {
      "text/plain": [
       "{'eval_loss': 1.1659467220306396,\n",
       " 'eval_r': 0.5868097543716431,\n",
       " 'eval_runtime': 26.8424,\n",
       " 'eval_samples_per_second': 59.309,\n",
       " 'eval_steps_per_second': 59.309,\n",
       " 'epoch': 200.0}"
      ]
     },
     "execution_count": 7,
     "metadata": {},
     "output_type": "execute_result"
    }
   ],
   "source": [
    "# evaluate model\n",
    "trainer.evaluate()"
   ]
  }
 ],
 "metadata": {
  "kernelspec": {
   "display_name": "Python 3.9.17 ('tf')",
   "language": "python",
   "name": "python3"
  },
  "language_info": {
   "codemirror_mode": {
    "name": "ipython",
    "version": 3
   },
   "file_extension": ".py",
   "mimetype": "text/x-python",
   "name": "python",
   "nbconvert_exporter": "python",
   "pygments_lexer": "ipython3",
   "version": "3.9.17"
  },
  "papermill": {
   "default_parameters": {},
   "duration": 50751.930475,
   "end_time": "2023-11-09T04:21:44.060055",
   "environment_variables": {},
   "exception": null,
   "input_path": "model_dh.ipynb",
   "output_path": "output_3lMAE_alphaNA.ipynb",
   "parameters": {},
   "start_time": "2023-11-08T14:15:52.129580",
   "version": "2.5.0"
  },
  "vscode": {
   "interpreter": {
    "hash": "4d8cddb8cf669a224cfe7de41be728b42e6d1e4d2fa8033c260d761c14134291"
   }
  }
 },
 "nbformat": 4,
 "nbformat_minor": 5
}
