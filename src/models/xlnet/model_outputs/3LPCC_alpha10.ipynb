{
 "cells": [
  {
   "cell_type": "code",
   "execution_count": 1,
   "id": "d4731af9",
   "metadata": {
    "execution": {
     "iopub.execute_input": "2023-11-08T14:10:00.340746Z",
     "iopub.status.busy": "2023-11-08T14:10:00.339912Z",
     "iopub.status.idle": "2023-11-08T14:10:18.215201Z",
     "shell.execute_reply": "2023-11-08T14:10:18.213656Z"
    },
    "papermill": {
     "duration": 17.889303,
     "end_time": "2023-11-08T14:10:18.218912",
     "exception": false,
     "start_time": "2023-11-08T14:10:00.329609",
     "status": "completed"
    },
    "tags": []
   },
   "outputs": [
    {
     "name": "stderr",
     "output_type": "stream",
     "text": [
      "/nfs_home/nallapar/rb-prof/bio_embeds/lib/python3.9/site-packages/tqdm/auto.py:22: TqdmWarning: IProgress not found. Please update jupyter and ipywidgets. See https://ipywidgets.readthedocs.io/en/stable/user_install.html\n",
      "  from .autonotebook import tqdm as notebook_tqdm\n"
     ]
    },
    {
     "name": "stderr",
     "output_type": "stream",
     "text": [
      "2023-11-08 15:10:06.090305: I tensorflow/core/platform/cpu_feature_guard.cc:193] This TensorFlow binary is optimized with oneAPI Deep Neural Network Library (oneDNN) to use the following CPU instructions in performance-critical operations:  AVX2 FMA\n",
      "To enable them in other operations, rebuild TensorFlow with the appropriate compiler flags.\n"
     ]
    },
    {
     "name": "stderr",
     "output_type": "stream",
     "text": [
      "2023-11-08 15:10:09.067491: W tensorflow/compiler/xla/stream_executor/platform/default/dso_loader.cc:64] Could not load dynamic library 'libnvinfer.so.7'; dlerror: libnvinfer.so.7: cannot open shared object file: No such file or directory\n",
      "2023-11-08 15:10:09.067681: W tensorflow/compiler/xla/stream_executor/platform/default/dso_loader.cc:64] Could not load dynamic library 'libnvinfer_plugin.so.7'; dlerror: libnvinfer_plugin.so.7: cannot open shared object file: No such file or directory\n",
      "2023-11-08 15:10:09.067701: W tensorflow/compiler/tf2tensorrt/utils/py_utils.cc:38] TF-TRT Warning: Cannot dlopen some TensorRT libraries. If you would like to use Nvidia GPU with TensorRT, please make sure the missing libraries mentioned above are installed properly.\n"
     ]
    }
   ],
   "source": [
    "# libraries\n",
    "import numpy as np\n",
    "import pandas as pd \n",
    "import torch\n",
    "from transformers import XLNetConfig, XLNetForTokenClassification, TrainingArguments\n",
    "import random\n",
    "from torch.nn.utils.rnn import pad_sequence\n",
    "from torchmetrics.functional import pearson_corrcoef\n",
    "from torchmetrics import Metric\n",
    "from ipynb.fs.full.utils_dh import RegressionTrainer, RiboDatasetGWS, GWSDatasetFromPandas, CorrCoef, collate_fn, compute_metrics, compute_metrics_saved  # custom dataset and trainer"
   ]
  },
  {
   "cell_type": "code",
   "execution_count": 2,
   "id": "677b5398",
   "metadata": {
    "execution": {
     "iopub.execute_input": "2023-11-08T14:10:18.230666Z",
     "iopub.status.busy": "2023-11-08T14:10:18.229701Z",
     "iopub.status.idle": "2023-11-08T14:10:18.243951Z",
     "shell.execute_reply": "2023-11-08T14:10:18.242857Z"
    },
    "papermill": {
     "duration": 0.02239,
     "end_time": "2023-11-08T14:10:18.246600",
     "exception": false,
     "start_time": "2023-11-08T14:10:18.224210",
     "status": "completed"
    },
    "tags": []
   },
   "outputs": [],
   "source": [
    "# reproducibility\n",
    "random.seed(42)\n",
    "np.random.seed(42)\n",
    "torch.manual_seed(42)\n",
    "\n",
    "# dataset paths \n",
    "data_folder = '/net/lts2gdk0/mnt/scratch/lts2/nallapar/rb-prof/data/Darnell_Full/Darnell/data_conds_split/processed/'\n",
    "\n",
    "# model parameters\n",
    "annot_thresh = 0.5\n",
    "longZerosThresh_val = 20\n",
    "percNansThresh_val = 0.05\n",
    "d_model_val = 256\n",
    "n_layers_val = 3\n",
    "n_heads_val = 8\n",
    "dropout_val = 0.3\n",
    "lr_val = 1e-4\n",
    "batch_size_val = 1\n",
    "alpha = 10\n",
    "\n",
    "# model name and output folder path\n",
    "model_name = 'XLNetDepr-' + str(n_layers_val) + '_' + str(d_model_val) + '_' + str(n_heads_val) + '-ALL_NA-PEL-BS' + str(batch_size_val) + '-GWS_PCC_IT192_DH_3LALPHA' + str(alpha) + '_NZ' + str(longZerosThresh_val) + '_PNTh' + str(percNansThresh_val) + '_AnnotThresh' + str(annot_thresh)\n",
    "output_loc = \"saved_models/\" + model_name"
   ]
  },
  {
   "cell_type": "code",
   "execution_count": 3,
   "id": "3029c391",
   "metadata": {
    "execution": {
     "iopub.execute_input": "2023-11-08T14:10:18.256343Z",
     "iopub.status.busy": "2023-11-08T14:10:18.255906Z",
     "iopub.status.idle": "2023-11-08T14:10:19.275205Z",
     "shell.execute_reply": "2023-11-08T14:10:19.274144Z"
    },
    "papermill": {
     "duration": 1.026445,
     "end_time": "2023-11-08T14:10:19.277109",
     "exception": false,
     "start_time": "2023-11-08T14:10:18.250664",
     "status": "completed"
    },
    "tags": []
   },
   "outputs": [
    {
     "name": "stdout",
     "output_type": "stream",
     "text": [
      "samples in train dataset:  6386\n",
      "samples in test dataset:  1592\n"
     ]
    }
   ],
   "source": [
    "# generate dataset\n",
    "ds = 'ALL' # uses all the three conditions\n",
    "train_dataset, test_dataset = RiboDatasetGWS(data_folder, ds, threshold = annot_thresh, longZerosThresh = longZerosThresh_val, percNansThresh = percNansThresh_val)\n",
    "\n",
    "# convert pandas dataframes into torch datasets\n",
    "train_dataset = GWSDatasetFromPandas(train_dataset)\n",
    "test_dataset = GWSDatasetFromPandas(test_dataset)\n",
    "print(\"samples in train dataset: \", len(train_dataset))\n",
    "print(\"samples in test dataset: \", len(test_dataset))"
   ]
  },
  {
   "cell_type": "code",
   "execution_count": 4,
   "id": "dc8eb178",
   "metadata": {
    "execution": {
     "iopub.execute_input": "2023-11-08T14:10:19.285610Z",
     "iopub.status.busy": "2023-11-08T14:10:19.285309Z",
     "iopub.status.idle": "2023-11-08T14:10:19.350512Z",
     "shell.execute_reply": "2023-11-08T14:10:19.349780Z"
    },
    "papermill": {
     "duration": 0.071436,
     "end_time": "2023-11-08T14:10:19.352293",
     "exception": false,
     "start_time": "2023-11-08T14:10:19.280857",
     "status": "completed"
    },
    "tags": []
   },
   "outputs": [],
   "source": [
    "# load xlnet to train from scratch\n",
    "config = XLNetConfig(vocab_size=193, pad_token_id=192, d_model = d_model_val, n_layer = n_layers_val, n_head = n_heads_val, d_inner = d_model_val, num_labels = 1, dropout=dropout_val) # 5^3 + 1 for padding\n",
    "model = XLNetForTokenClassification(config)\n",
    "\n",
    "# modify the output layer\n",
    "model.classifier = torch.nn.Linear(d_model_val, 2, bias=True)"
   ]
  },
  {
   "cell_type": "code",
   "execution_count": 5,
   "id": "4352e495",
   "metadata": {
    "execution": {
     "iopub.execute_input": "2023-11-08T14:10:19.360707Z",
     "iopub.status.busy": "2023-11-08T14:10:19.360326Z",
     "iopub.status.idle": "2023-11-08T14:10:23.364579Z",
     "shell.execute_reply": "2023-11-08T14:10:23.363101Z"
    },
    "papermill": {
     "duration": 4.012435,
     "end_time": "2023-11-08T14:10:23.368053",
     "exception": false,
     "start_time": "2023-11-08T14:10:19.355618",
     "status": "completed"
    },
    "tags": []
   },
   "outputs": [],
   "source": [
    "# xlnet training arguments\n",
    "training_args = TrainingArguments(\n",
    "    output_dir = output_loc,\n",
    "    learning_rate = lr_val,\n",
    "    per_device_train_batch_size = 1,\n",
    "    gradient_accumulation_steps = batch_size_val, # training batch size = per_device_train_batch_size * gradient_accumulation_steps\n",
    "    per_device_eval_batch_size = 1,\n",
    "    eval_accumulation_steps = 4, \n",
    "    num_train_epochs = 200,\n",
    "    weight_decay = 0.01,\n",
    "    evaluation_strategy = \"epoch\",\n",
    "    save_strategy = \"epoch\",\n",
    "    load_best_model_at_end = True,\n",
    "    push_to_hub = False,\n",
    "    dataloader_pin_memory = True,\n",
    "    save_total_limit = 5,\n",
    "    dataloader_num_workers = 4,\n",
    "    include_inputs_for_metrics = True\n",
    ")\n",
    "\n",
    "# initialize trainer\n",
    "trainer = RegressionTrainer(\n",
    "    model=model,\n",
    "    args=training_args,\n",
    "    train_dataset=train_dataset,\n",
    "    eval_dataset=test_dataset,\n",
    "    data_collator=collate_fn,\n",
    "    compute_metrics=compute_metrics,\n",
    ")"
   ]
  },
  {
   "cell_type": "code",
   "execution_count": 6,
   "id": "2dea70bf",
   "metadata": {
    "execution": {
     "iopub.execute_input": "2023-11-08T14:10:23.379754Z",
     "iopub.status.busy": "2023-11-08T14:10:23.379020Z",
     "iopub.status.idle": "2023-11-09T07:07:12.754591Z",
     "shell.execute_reply": "2023-11-09T07:07:12.752783Z"
    },
    "papermill": {
     "duration": 61009.385698,
     "end_time": "2023-11-09T07:07:12.758764",
     "exception": false,
     "start_time": "2023-11-08T14:10:23.373066",
     "status": "completed"
    },
    "tags": []
   },
   "outputs": [
    {
     "name": "stderr",
     "output_type": "stream",
     "text": [
      "/nfs_home/nallapar/rb-prof/bio_embeds/lib/python3.9/site-packages/transformers/optimization.py:306: FutureWarning: This implementation of AdamW is deprecated and will be removed in a future version. Use the PyTorch implementation torch.optim.AdamW instead, or set `no_deprecation_warning=True` to disable this warning\n",
      "  warnings.warn(\n",
      "***** Running training *****\n"
     ]
    },
    {
     "name": "stderr",
     "output_type": "stream",
     "text": [
      "  Num examples = 6386\n"
     ]
    },
    {
     "name": "stderr",
     "output_type": "stream",
     "text": [
      "  Num Epochs = 200\n"
     ]
    },
    {
     "name": "stderr",
     "output_type": "stream",
     "text": [
      "  Instantaneous batch size per device = 1\n"
     ]
    },
    {
     "name": "stderr",
     "output_type": "stream",
     "text": [
      "  Total train batch size (w. parallel, distributed & accumulation) = 1\n"
     ]
    },
    {
     "name": "stderr",
     "output_type": "stream",
     "text": [
      "  Gradient Accumulation steps = 1\n"
     ]
    },
    {
     "name": "stderr",
     "output_type": "stream",
     "text": [
      "  Total optimization steps = 1277200\n"
     ]
    },
    {
     "name": "stderr",
     "output_type": "stream",
     "text": [
      "  Number of trainable parameters = 1434882\n"
     ]
    },
    {
     "name": "stderr",
     "output_type": "stream",
     "text": [
      "Automatic Weights & Biases logging enabled, to disable set os.environ[\"WANDB_DISABLED\"] = \"true\"\n"
     ]
    },
    {
     "name": "stderr",
     "output_type": "stream",
     "text": [
      "\u001b[34m\u001b[1mwandb\u001b[0m: Currently logged in as: \u001b[33mvamsi-nallapareddy\u001b[0m (\u001b[33mrb-prof\u001b[0m). Use \u001b[1m`wandb login --relogin`\u001b[0m to force relogin\n"
     ]
    },
    {
     "name": "stderr",
     "output_type": "stream",
     "text": [
      "\u001b[34m\u001b[1mwandb\u001b[0m: wandb version 0.16.0 is available!  To upgrade, please run:\n",
      "\u001b[34m\u001b[1mwandb\u001b[0m:  $ pip install wandb --upgrade\n"
     ]
    },
    {
     "name": "stderr",
     "output_type": "stream",
     "text": [
      "\u001b[34m\u001b[1mwandb\u001b[0m: Tracking run with wandb version 0.15.12\n"
     ]
    },
    {
     "name": "stderr",
     "output_type": "stream",
     "text": [
      "\u001b[34m\u001b[1mwandb\u001b[0m: Run data is saved locally in \u001b[35m\u001b[1m/nfs_home/nallapar/riboclette/src/models/xlnet/wandb/run-20231108_151026-c47ptwq6\u001b[0m\n",
      "\u001b[34m\u001b[1mwandb\u001b[0m: Run \u001b[1m`wandb offline`\u001b[0m to turn off syncing.\n"
     ]
    },
    {
     "name": "stderr",
     "output_type": "stream",
     "text": [
      "\u001b[34m\u001b[1mwandb\u001b[0m: Syncing run \u001b[33mdivine-wind-450\u001b[0m\n"
     ]
    },
    {
     "name": "stderr",
     "output_type": "stream",
     "text": [
      "\u001b[34m\u001b[1mwandb\u001b[0m: ⭐️ View project at \u001b[34m\u001b[4mhttps://wandb.ai/rb-prof/huggingface\u001b[0m\n"
     ]
    },
    {
     "name": "stderr",
     "output_type": "stream",
     "text": [
      "\u001b[34m\u001b[1mwandb\u001b[0m: 🚀 View run at \u001b[34m\u001b[4mhttps://wandb.ai/rb-prof/huggingface/runs/c47ptwq6\u001b[0m\n"
     ]
    },
    {
     "data": {
      "text/html": [
       "\n",
       "    <div>\n",
       "      \n",
       "      <progress value='1277200' max='1277200' style='width:300px; height:20px; vertical-align: middle;'></progress>\n",
       "      [1277200/1277200 16:56:44, Epoch 200/200]\n",
       "    </div>\n",
       "    <table border=\"1\" class=\"dataframe\">\n",
       "  <thead>\n",
       " <tr style=\"text-align: left;\">\n",
       "      <th>Epoch</th>\n",
       "      <th>Training Loss</th>\n",
       "      <th>Validation Loss</th>\n",
       "      <th>R</th>\n",
       "    </tr>\n",
       "  </thead>\n",
       "  <tbody>\n",
       "    <tr>\n",
       "      <td>1</td>\n",
       "      <td>4.195300</td>\n",
       "      <td>3.917465</td>\n",
       "      <td>0.404745</td>\n",
       "    </tr>\n",
       "    <tr>\n",
       "      <td>2</td>\n",
       "      <td>3.987200</td>\n",
       "      <td>3.761920</td>\n",
       "      <td>0.497447</td>\n",
       "    </tr>\n",
       "    <tr>\n",
       "      <td>3</td>\n",
       "      <td>3.831400</td>\n",
       "      <td>3.692922</td>\n",
       "      <td>0.527500</td>\n",
       "    </tr>\n",
       "    <tr>\n",
       "      <td>4</td>\n",
       "      <td>3.717400</td>\n",
       "      <td>3.576436</td>\n",
       "      <td>0.546657</td>\n",
       "    </tr>\n",
       "    <tr>\n",
       "      <td>5</td>\n",
       "      <td>3.723100</td>\n",
       "      <td>3.541034</td>\n",
       "      <td>0.559979</td>\n",
       "    </tr>\n",
       "    <tr>\n",
       "      <td>6</td>\n",
       "      <td>3.782100</td>\n",
       "      <td>3.572982</td>\n",
       "      <td>0.566923</td>\n",
       "    </tr>\n",
       "    <tr>\n",
       "      <td>7</td>\n",
       "      <td>3.680200</td>\n",
       "      <td>3.536810</td>\n",
       "      <td>0.570111</td>\n",
       "    </tr>\n",
       "    <tr>\n",
       "      <td>8</td>\n",
       "      <td>3.760000</td>\n",
       "      <td>3.509712</td>\n",
       "      <td>0.576846</td>\n",
       "    </tr>\n",
       "    <tr>\n",
       "      <td>9</td>\n",
       "      <td>3.530100</td>\n",
       "      <td>3.534364</td>\n",
       "      <td>0.574636</td>\n",
       "    </tr>\n",
       "    <tr>\n",
       "      <td>10</td>\n",
       "      <td>3.733500</td>\n",
       "      <td>3.533815</td>\n",
       "      <td>0.579994</td>\n",
       "    </tr>\n",
       "    <tr>\n",
       "      <td>11</td>\n",
       "      <td>3.739800</td>\n",
       "      <td>3.492737</td>\n",
       "      <td>0.586028</td>\n",
       "    </tr>\n",
       "    <tr>\n",
       "      <td>12</td>\n",
       "      <td>3.539000</td>\n",
       "      <td>3.484146</td>\n",
       "      <td>0.585129</td>\n",
       "    </tr>\n",
       "    <tr>\n",
       "      <td>13</td>\n",
       "      <td>3.623400</td>\n",
       "      <td>3.489436</td>\n",
       "      <td>0.591879</td>\n",
       "    </tr>\n",
       "    <tr>\n",
       "      <td>14</td>\n",
       "      <td>3.462300</td>\n",
       "      <td>3.489118</td>\n",
       "      <td>0.592451</td>\n",
       "    </tr>\n",
       "    <tr>\n",
       "      <td>15</td>\n",
       "      <td>3.603000</td>\n",
       "      <td>3.512597</td>\n",
       "      <td>0.592705</td>\n",
       "    </tr>\n",
       "    <tr>\n",
       "      <td>16</td>\n",
       "      <td>3.558200</td>\n",
       "      <td>3.469503</td>\n",
       "      <td>0.594528</td>\n",
       "    </tr>\n",
       "    <tr>\n",
       "      <td>17</td>\n",
       "      <td>3.646300</td>\n",
       "      <td>3.452838</td>\n",
       "      <td>0.598099</td>\n",
       "    </tr>\n",
       "    <tr>\n",
       "      <td>18</td>\n",
       "      <td>3.523300</td>\n",
       "      <td>3.476943</td>\n",
       "      <td>0.597824</td>\n",
       "    </tr>\n",
       "    <tr>\n",
       "      <td>19</td>\n",
       "      <td>3.485600</td>\n",
       "      <td>3.472335</td>\n",
       "      <td>0.599127</td>\n",
       "    </tr>\n",
       "    <tr>\n",
       "      <td>20</td>\n",
       "      <td>3.559800</td>\n",
       "      <td>3.482111</td>\n",
       "      <td>0.600903</td>\n",
       "    </tr>\n",
       "    <tr>\n",
       "      <td>21</td>\n",
       "      <td>3.598200</td>\n",
       "      <td>3.468119</td>\n",
       "      <td>0.601393</td>\n",
       "    </tr>\n",
       "    <tr>\n",
       "      <td>22</td>\n",
       "      <td>3.394300</td>\n",
       "      <td>3.469573</td>\n",
       "      <td>0.601536</td>\n",
       "    </tr>\n",
       "    <tr>\n",
       "      <td>23</td>\n",
       "      <td>3.579100</td>\n",
       "      <td>3.463428</td>\n",
       "      <td>0.602707</td>\n",
       "    </tr>\n",
       "    <tr>\n",
       "      <td>24</td>\n",
       "      <td>3.542900</td>\n",
       "      <td>3.460895</td>\n",
       "      <td>0.603853</td>\n",
       "    </tr>\n",
       "    <tr>\n",
       "      <td>25</td>\n",
       "      <td>3.487200</td>\n",
       "      <td>3.468443</td>\n",
       "      <td>0.603908</td>\n",
       "    </tr>\n",
       "    <tr>\n",
       "      <td>26</td>\n",
       "      <td>3.533200</td>\n",
       "      <td>3.494008</td>\n",
       "      <td>0.600676</td>\n",
       "    </tr>\n",
       "    <tr>\n",
       "      <td>27</td>\n",
       "      <td>3.615500</td>\n",
       "      <td>3.449800</td>\n",
       "      <td>0.604164</td>\n",
       "    </tr>\n",
       "    <tr>\n",
       "      <td>28</td>\n",
       "      <td>3.545100</td>\n",
       "      <td>3.457508</td>\n",
       "      <td>0.603747</td>\n",
       "    </tr>\n",
       "    <tr>\n",
       "      <td>29</td>\n",
       "      <td>3.653700</td>\n",
       "      <td>3.439048</td>\n",
       "      <td>0.605955</td>\n",
       "    </tr>\n",
       "    <tr>\n",
       "      <td>30</td>\n",
       "      <td>3.626300</td>\n",
       "      <td>3.423111</td>\n",
       "      <td>0.604757</td>\n",
       "    </tr>\n",
       "    <tr>\n",
       "      <td>31</td>\n",
       "      <td>3.568100</td>\n",
       "      <td>3.423975</td>\n",
       "      <td>0.607153</td>\n",
       "    </tr>\n",
       "    <tr>\n",
       "      <td>32</td>\n",
       "      <td>3.426200</td>\n",
       "      <td>3.431267</td>\n",
       "      <td>0.607508</td>\n",
       "    </tr>\n",
       "    <tr>\n",
       "      <td>33</td>\n",
       "      <td>3.491400</td>\n",
       "      <td>3.482676</td>\n",
       "      <td>0.608039</td>\n",
       "    </tr>\n",
       "    <tr>\n",
       "      <td>34</td>\n",
       "      <td>3.504600</td>\n",
       "      <td>3.414686</td>\n",
       "      <td>0.609092</td>\n",
       "    </tr>\n",
       "    <tr>\n",
       "      <td>35</td>\n",
       "      <td>3.563000</td>\n",
       "      <td>3.430030</td>\n",
       "      <td>0.611654</td>\n",
       "    </tr>\n",
       "    <tr>\n",
       "      <td>36</td>\n",
       "      <td>3.609800</td>\n",
       "      <td>3.467243</td>\n",
       "      <td>0.610962</td>\n",
       "    </tr>\n",
       "    <tr>\n",
       "      <td>37</td>\n",
       "      <td>3.534300</td>\n",
       "      <td>3.418681</td>\n",
       "      <td>0.609781</td>\n",
       "    </tr>\n",
       "    <tr>\n",
       "      <td>38</td>\n",
       "      <td>3.509400</td>\n",
       "      <td>3.406516</td>\n",
       "      <td>0.609399</td>\n",
       "    </tr>\n",
       "    <tr>\n",
       "      <td>39</td>\n",
       "      <td>3.562800</td>\n",
       "      <td>3.481727</td>\n",
       "      <td>0.612939</td>\n",
       "    </tr>\n",
       "    <tr>\n",
       "      <td>40</td>\n",
       "      <td>3.502800</td>\n",
       "      <td>3.444709</td>\n",
       "      <td>0.611888</td>\n",
       "    </tr>\n",
       "    <tr>\n",
       "      <td>41</td>\n",
       "      <td>3.512700</td>\n",
       "      <td>3.424978</td>\n",
       "      <td>0.610271</td>\n",
       "    </tr>\n",
       "    <tr>\n",
       "      <td>42</td>\n",
       "      <td>3.535400</td>\n",
       "      <td>3.447620</td>\n",
       "      <td>0.609631</td>\n",
       "    </tr>\n",
       "    <tr>\n",
       "      <td>43</td>\n",
       "      <td>3.761500</td>\n",
       "      <td>3.446468</td>\n",
       "      <td>0.612151</td>\n",
       "    </tr>\n",
       "    <tr>\n",
       "      <td>44</td>\n",
       "      <td>3.475200</td>\n",
       "      <td>3.463426</td>\n",
       "      <td>0.612804</td>\n",
       "    </tr>\n",
       "    <tr>\n",
       "      <td>45</td>\n",
       "      <td>3.366000</td>\n",
       "      <td>3.430614</td>\n",
       "      <td>0.611932</td>\n",
       "    </tr>\n",
       "    <tr>\n",
       "      <td>46</td>\n",
       "      <td>3.444700</td>\n",
       "      <td>3.439799</td>\n",
       "      <td>0.611601</td>\n",
       "    </tr>\n",
       "    <tr>\n",
       "      <td>47</td>\n",
       "      <td>3.482500</td>\n",
       "      <td>3.445385</td>\n",
       "      <td>0.611619</td>\n",
       "    </tr>\n",
       "    <tr>\n",
       "      <td>48</td>\n",
       "      <td>3.562700</td>\n",
       "      <td>3.434829</td>\n",
       "      <td>0.611481</td>\n",
       "    </tr>\n",
       "    <tr>\n",
       "      <td>49</td>\n",
       "      <td>3.464200</td>\n",
       "      <td>3.457752</td>\n",
       "      <td>0.611263</td>\n",
       "    </tr>\n",
       "    <tr>\n",
       "      <td>50</td>\n",
       "      <td>3.676800</td>\n",
       "      <td>3.459450</td>\n",
       "      <td>0.611696</td>\n",
       "    </tr>\n",
       "    <tr>\n",
       "      <td>51</td>\n",
       "      <td>3.556500</td>\n",
       "      <td>3.434049</td>\n",
       "      <td>0.611441</td>\n",
       "    </tr>\n",
       "    <tr>\n",
       "      <td>52</td>\n",
       "      <td>3.606900</td>\n",
       "      <td>3.416132</td>\n",
       "      <td>0.609737</td>\n",
       "    </tr>\n",
       "    <tr>\n",
       "      <td>53</td>\n",
       "      <td>3.527300</td>\n",
       "      <td>3.498977</td>\n",
       "      <td>0.609492</td>\n",
       "    </tr>\n",
       "    <tr>\n",
       "      <td>54</td>\n",
       "      <td>3.460100</td>\n",
       "      <td>3.420803</td>\n",
       "      <td>0.611479</td>\n",
       "    </tr>\n",
       "    <tr>\n",
       "      <td>55</td>\n",
       "      <td>3.462100</td>\n",
       "      <td>3.419700</td>\n",
       "      <td>0.611520</td>\n",
       "    </tr>\n",
       "    <tr>\n",
       "      <td>56</td>\n",
       "      <td>3.541400</td>\n",
       "      <td>3.416827</td>\n",
       "      <td>0.611966</td>\n",
       "    </tr>\n",
       "    <tr>\n",
       "      <td>57</td>\n",
       "      <td>3.441900</td>\n",
       "      <td>3.449473</td>\n",
       "      <td>0.610664</td>\n",
       "    </tr>\n",
       "    <tr>\n",
       "      <td>58</td>\n",
       "      <td>3.589000</td>\n",
       "      <td>3.431542</td>\n",
       "      <td>0.612390</td>\n",
       "    </tr>\n",
       "    <tr>\n",
       "      <td>59</td>\n",
       "      <td>3.393700</td>\n",
       "      <td>3.432782</td>\n",
       "      <td>0.612199</td>\n",
       "    </tr>\n",
       "    <tr>\n",
       "      <td>60</td>\n",
       "      <td>3.501900</td>\n",
       "      <td>3.436782</td>\n",
       "      <td>0.610879</td>\n",
       "    </tr>\n",
       "    <tr>\n",
       "      <td>61</td>\n",
       "      <td>3.578900</td>\n",
       "      <td>3.443549</td>\n",
       "      <td>0.612214</td>\n",
       "    </tr>\n",
       "    <tr>\n",
       "      <td>62</td>\n",
       "      <td>3.430800</td>\n",
       "      <td>3.415728</td>\n",
       "      <td>0.614308</td>\n",
       "    </tr>\n",
       "    <tr>\n",
       "      <td>63</td>\n",
       "      <td>3.474400</td>\n",
       "      <td>3.450632</td>\n",
       "      <td>0.611978</td>\n",
       "    </tr>\n",
       "    <tr>\n",
       "      <td>64</td>\n",
       "      <td>3.354900</td>\n",
       "      <td>3.417732</td>\n",
       "      <td>0.611424</td>\n",
       "    </tr>\n",
       "    <tr>\n",
       "      <td>65</td>\n",
       "      <td>3.309000</td>\n",
       "      <td>3.410514</td>\n",
       "      <td>0.612992</td>\n",
       "    </tr>\n",
       "    <tr>\n",
       "      <td>66</td>\n",
       "      <td>3.368300</td>\n",
       "      <td>3.429179</td>\n",
       "      <td>0.612566</td>\n",
       "    </tr>\n",
       "    <tr>\n",
       "      <td>67</td>\n",
       "      <td>3.475600</td>\n",
       "      <td>3.421181</td>\n",
       "      <td>0.610594</td>\n",
       "    </tr>\n",
       "    <tr>\n",
       "      <td>68</td>\n",
       "      <td>3.653900</td>\n",
       "      <td>3.412165</td>\n",
       "      <td>0.611599</td>\n",
       "    </tr>\n",
       "    <tr>\n",
       "      <td>69</td>\n",
       "      <td>3.521800</td>\n",
       "      <td>3.447881</td>\n",
       "      <td>0.612840</td>\n",
       "    </tr>\n",
       "    <tr>\n",
       "      <td>70</td>\n",
       "      <td>3.504000</td>\n",
       "      <td>3.425772</td>\n",
       "      <td>0.611362</td>\n",
       "    </tr>\n",
       "    <tr>\n",
       "      <td>71</td>\n",
       "      <td>3.418700</td>\n",
       "      <td>3.410917</td>\n",
       "      <td>0.609844</td>\n",
       "    </tr>\n",
       "    <tr>\n",
       "      <td>72</td>\n",
       "      <td>3.468200</td>\n",
       "      <td>3.453265</td>\n",
       "      <td>0.612786</td>\n",
       "    </tr>\n",
       "    <tr>\n",
       "      <td>73</td>\n",
       "      <td>3.454000</td>\n",
       "      <td>3.411303</td>\n",
       "      <td>0.612903</td>\n",
       "    </tr>\n",
       "    <tr>\n",
       "      <td>74</td>\n",
       "      <td>3.501000</td>\n",
       "      <td>3.421773</td>\n",
       "      <td>0.610957</td>\n",
       "    </tr>\n",
       "    <tr>\n",
       "      <td>75</td>\n",
       "      <td>3.410500</td>\n",
       "      <td>3.401875</td>\n",
       "      <td>0.613448</td>\n",
       "    </tr>\n",
       "    <tr>\n",
       "      <td>76</td>\n",
       "      <td>3.493000</td>\n",
       "      <td>3.408659</td>\n",
       "      <td>0.612176</td>\n",
       "    </tr>\n",
       "    <tr>\n",
       "      <td>77</td>\n",
       "      <td>3.483500</td>\n",
       "      <td>3.405877</td>\n",
       "      <td>0.612990</td>\n",
       "    </tr>\n",
       "    <tr>\n",
       "      <td>78</td>\n",
       "      <td>3.378400</td>\n",
       "      <td>3.408098</td>\n",
       "      <td>0.611507</td>\n",
       "    </tr>\n",
       "    <tr>\n",
       "      <td>79</td>\n",
       "      <td>3.564800</td>\n",
       "      <td>3.446196</td>\n",
       "      <td>0.610942</td>\n",
       "    </tr>\n",
       "    <tr>\n",
       "      <td>80</td>\n",
       "      <td>3.595800</td>\n",
       "      <td>3.417843</td>\n",
       "      <td>0.612482</td>\n",
       "    </tr>\n",
       "    <tr>\n",
       "      <td>81</td>\n",
       "      <td>3.539800</td>\n",
       "      <td>3.421352</td>\n",
       "      <td>0.611498</td>\n",
       "    </tr>\n",
       "    <tr>\n",
       "      <td>82</td>\n",
       "      <td>3.618900</td>\n",
       "      <td>3.423806</td>\n",
       "      <td>0.612914</td>\n",
       "    </tr>\n",
       "    <tr>\n",
       "      <td>83</td>\n",
       "      <td>3.363900</td>\n",
       "      <td>3.426921</td>\n",
       "      <td>0.611292</td>\n",
       "    </tr>\n",
       "    <tr>\n",
       "      <td>84</td>\n",
       "      <td>3.427400</td>\n",
       "      <td>3.421527</td>\n",
       "      <td>0.613000</td>\n",
       "    </tr>\n",
       "    <tr>\n",
       "      <td>85</td>\n",
       "      <td>3.404100</td>\n",
       "      <td>3.428896</td>\n",
       "      <td>0.611793</td>\n",
       "    </tr>\n",
       "    <tr>\n",
       "      <td>86</td>\n",
       "      <td>3.510300</td>\n",
       "      <td>3.406595</td>\n",
       "      <td>0.611209</td>\n",
       "    </tr>\n",
       "    <tr>\n",
       "      <td>87</td>\n",
       "      <td>3.412600</td>\n",
       "      <td>3.403690</td>\n",
       "      <td>0.611507</td>\n",
       "    </tr>\n",
       "    <tr>\n",
       "      <td>88</td>\n",
       "      <td>3.575200</td>\n",
       "      <td>3.399392</td>\n",
       "      <td>0.611895</td>\n",
       "    </tr>\n",
       "    <tr>\n",
       "      <td>89</td>\n",
       "      <td>3.584700</td>\n",
       "      <td>3.413003</td>\n",
       "      <td>0.610169</td>\n",
       "    </tr>\n",
       "    <tr>\n",
       "      <td>90</td>\n",
       "      <td>3.395800</td>\n",
       "      <td>3.408476</td>\n",
       "      <td>0.611634</td>\n",
       "    </tr>\n",
       "    <tr>\n",
       "      <td>91</td>\n",
       "      <td>3.457800</td>\n",
       "      <td>3.443649</td>\n",
       "      <td>0.610393</td>\n",
       "    </tr>\n",
       "    <tr>\n",
       "      <td>92</td>\n",
       "      <td>3.506500</td>\n",
       "      <td>3.416694</td>\n",
       "      <td>0.610468</td>\n",
       "    </tr>\n",
       "    <tr>\n",
       "      <td>93</td>\n",
       "      <td>3.434400</td>\n",
       "      <td>3.434502</td>\n",
       "      <td>0.610317</td>\n",
       "    </tr>\n",
       "    <tr>\n",
       "      <td>94</td>\n",
       "      <td>3.496500</td>\n",
       "      <td>3.405968</td>\n",
       "      <td>0.611665</td>\n",
       "    </tr>\n",
       "    <tr>\n",
       "      <td>95</td>\n",
       "      <td>3.428400</td>\n",
       "      <td>3.412257</td>\n",
       "      <td>0.611766</td>\n",
       "    </tr>\n",
       "    <tr>\n",
       "      <td>96</td>\n",
       "      <td>3.506500</td>\n",
       "      <td>3.426399</td>\n",
       "      <td>0.611069</td>\n",
       "    </tr>\n",
       "    <tr>\n",
       "      <td>97</td>\n",
       "      <td>3.458800</td>\n",
       "      <td>3.413417</td>\n",
       "      <td>0.609555</td>\n",
       "    </tr>\n",
       "    <tr>\n",
       "      <td>98</td>\n",
       "      <td>3.298400</td>\n",
       "      <td>3.415373</td>\n",
       "      <td>0.611033</td>\n",
       "    </tr>\n",
       "    <tr>\n",
       "      <td>99</td>\n",
       "      <td>3.344900</td>\n",
       "      <td>3.418189</td>\n",
       "      <td>0.610351</td>\n",
       "    </tr>\n",
       "    <tr>\n",
       "      <td>100</td>\n",
       "      <td>3.407000</td>\n",
       "      <td>3.425326</td>\n",
       "      <td>0.609780</td>\n",
       "    </tr>\n",
       "    <tr>\n",
       "      <td>101</td>\n",
       "      <td>3.470000</td>\n",
       "      <td>3.400141</td>\n",
       "      <td>0.612437</td>\n",
       "    </tr>\n",
       "    <tr>\n",
       "      <td>102</td>\n",
       "      <td>3.523200</td>\n",
       "      <td>3.416629</td>\n",
       "      <td>0.610317</td>\n",
       "    </tr>\n",
       "    <tr>\n",
       "      <td>103</td>\n",
       "      <td>3.390100</td>\n",
       "      <td>3.414852</td>\n",
       "      <td>0.611118</td>\n",
       "    </tr>\n",
       "    <tr>\n",
       "      <td>104</td>\n",
       "      <td>3.456800</td>\n",
       "      <td>3.411981</td>\n",
       "      <td>0.611214</td>\n",
       "    </tr>\n",
       "    <tr>\n",
       "      <td>105</td>\n",
       "      <td>3.439900</td>\n",
       "      <td>3.456261</td>\n",
       "      <td>0.609284</td>\n",
       "    </tr>\n",
       "    <tr>\n",
       "      <td>106</td>\n",
       "      <td>3.641600</td>\n",
       "      <td>3.449651</td>\n",
       "      <td>0.610592</td>\n",
       "    </tr>\n",
       "    <tr>\n",
       "      <td>107</td>\n",
       "      <td>3.285000</td>\n",
       "      <td>3.418204</td>\n",
       "      <td>0.610182</td>\n",
       "    </tr>\n",
       "    <tr>\n",
       "      <td>108</td>\n",
       "      <td>3.320200</td>\n",
       "      <td>3.413961</td>\n",
       "      <td>0.610624</td>\n",
       "    </tr>\n",
       "    <tr>\n",
       "      <td>109</td>\n",
       "      <td>3.405000</td>\n",
       "      <td>3.419601</td>\n",
       "      <td>0.608878</td>\n",
       "    </tr>\n",
       "    <tr>\n",
       "      <td>110</td>\n",
       "      <td>3.252400</td>\n",
       "      <td>3.408781</td>\n",
       "      <td>0.609519</td>\n",
       "    </tr>\n",
       "    <tr>\n",
       "      <td>111</td>\n",
       "      <td>3.481000</td>\n",
       "      <td>3.428563</td>\n",
       "      <td>0.609000</td>\n",
       "    </tr>\n",
       "    <tr>\n",
       "      <td>112</td>\n",
       "      <td>3.262700</td>\n",
       "      <td>3.412992</td>\n",
       "      <td>0.609193</td>\n",
       "    </tr>\n",
       "    <tr>\n",
       "      <td>113</td>\n",
       "      <td>3.478200</td>\n",
       "      <td>3.438288</td>\n",
       "      <td>0.610647</td>\n",
       "    </tr>\n",
       "    <tr>\n",
       "      <td>114</td>\n",
       "      <td>3.382800</td>\n",
       "      <td>3.423668</td>\n",
       "      <td>0.610249</td>\n",
       "    </tr>\n",
       "    <tr>\n",
       "      <td>115</td>\n",
       "      <td>3.550700</td>\n",
       "      <td>3.403080</td>\n",
       "      <td>0.610835</td>\n",
       "    </tr>\n",
       "    <tr>\n",
       "      <td>116</td>\n",
       "      <td>3.451200</td>\n",
       "      <td>3.425770</td>\n",
       "      <td>0.609912</td>\n",
       "    </tr>\n",
       "    <tr>\n",
       "      <td>117</td>\n",
       "      <td>3.465300</td>\n",
       "      <td>3.443826</td>\n",
       "      <td>0.608936</td>\n",
       "    </tr>\n",
       "    <tr>\n",
       "      <td>118</td>\n",
       "      <td>3.306400</td>\n",
       "      <td>3.443560</td>\n",
       "      <td>0.609518</td>\n",
       "    </tr>\n",
       "    <tr>\n",
       "      <td>119</td>\n",
       "      <td>3.379000</td>\n",
       "      <td>3.450109</td>\n",
       "      <td>0.609797</td>\n",
       "    </tr>\n",
       "    <tr>\n",
       "      <td>120</td>\n",
       "      <td>3.479700</td>\n",
       "      <td>3.414158</td>\n",
       "      <td>0.609718</td>\n",
       "    </tr>\n",
       "    <tr>\n",
       "      <td>121</td>\n",
       "      <td>3.495400</td>\n",
       "      <td>3.426230</td>\n",
       "      <td>0.606499</td>\n",
       "    </tr>\n",
       "    <tr>\n",
       "      <td>122</td>\n",
       "      <td>3.338900</td>\n",
       "      <td>3.412400</td>\n",
       "      <td>0.608453</td>\n",
       "    </tr>\n",
       "    <tr>\n",
       "      <td>123</td>\n",
       "      <td>3.476300</td>\n",
       "      <td>3.414391</td>\n",
       "      <td>0.608887</td>\n",
       "    </tr>\n",
       "    <tr>\n",
       "      <td>124</td>\n",
       "      <td>3.308200</td>\n",
       "      <td>3.409775</td>\n",
       "      <td>0.608389</td>\n",
       "    </tr>\n",
       "    <tr>\n",
       "      <td>125</td>\n",
       "      <td>3.450900</td>\n",
       "      <td>3.409321</td>\n",
       "      <td>0.609651</td>\n",
       "    </tr>\n",
       "    <tr>\n",
       "      <td>126</td>\n",
       "      <td>3.409300</td>\n",
       "      <td>3.445788</td>\n",
       "      <td>0.608476</td>\n",
       "    </tr>\n",
       "    <tr>\n",
       "      <td>127</td>\n",
       "      <td>3.380200</td>\n",
       "      <td>3.425863</td>\n",
       "      <td>0.610810</td>\n",
       "    </tr>\n",
       "    <tr>\n",
       "      <td>128</td>\n",
       "      <td>3.466500</td>\n",
       "      <td>3.444498</td>\n",
       "      <td>0.608417</td>\n",
       "    </tr>\n",
       "    <tr>\n",
       "      <td>129</td>\n",
       "      <td>3.461000</td>\n",
       "      <td>3.425401</td>\n",
       "      <td>0.608664</td>\n",
       "    </tr>\n",
       "    <tr>\n",
       "      <td>130</td>\n",
       "      <td>3.300200</td>\n",
       "      <td>3.404800</td>\n",
       "      <td>0.608756</td>\n",
       "    </tr>\n",
       "    <tr>\n",
       "      <td>131</td>\n",
       "      <td>3.432100</td>\n",
       "      <td>3.422525</td>\n",
       "      <td>0.609044</td>\n",
       "    </tr>\n",
       "    <tr>\n",
       "      <td>132</td>\n",
       "      <td>3.486000</td>\n",
       "      <td>3.405806</td>\n",
       "      <td>0.608632</td>\n",
       "    </tr>\n",
       "    <tr>\n",
       "      <td>133</td>\n",
       "      <td>3.476800</td>\n",
       "      <td>3.422337</td>\n",
       "      <td>0.607584</td>\n",
       "    </tr>\n",
       "    <tr>\n",
       "      <td>134</td>\n",
       "      <td>3.546600</td>\n",
       "      <td>3.409455</td>\n",
       "      <td>0.609531</td>\n",
       "    </tr>\n",
       "    <tr>\n",
       "      <td>135</td>\n",
       "      <td>3.457200</td>\n",
       "      <td>3.452421</td>\n",
       "      <td>0.609062</td>\n",
       "    </tr>\n",
       "    <tr>\n",
       "      <td>136</td>\n",
       "      <td>3.515600</td>\n",
       "      <td>3.426162</td>\n",
       "      <td>0.608539</td>\n",
       "    </tr>\n",
       "    <tr>\n",
       "      <td>137</td>\n",
       "      <td>3.529200</td>\n",
       "      <td>3.417730</td>\n",
       "      <td>0.608929</td>\n",
       "    </tr>\n",
       "    <tr>\n",
       "      <td>138</td>\n",
       "      <td>3.356300</td>\n",
       "      <td>3.411134</td>\n",
       "      <td>0.607273</td>\n",
       "    </tr>\n",
       "    <tr>\n",
       "      <td>139</td>\n",
       "      <td>3.388400</td>\n",
       "      <td>3.415443</td>\n",
       "      <td>0.609912</td>\n",
       "    </tr>\n",
       "    <tr>\n",
       "      <td>140</td>\n",
       "      <td>3.425400</td>\n",
       "      <td>3.402801</td>\n",
       "      <td>0.608133</td>\n",
       "    </tr>\n",
       "    <tr>\n",
       "      <td>141</td>\n",
       "      <td>3.489000</td>\n",
       "      <td>3.406676</td>\n",
       "      <td>0.607648</td>\n",
       "    </tr>\n",
       "    <tr>\n",
       "      <td>142</td>\n",
       "      <td>3.356000</td>\n",
       "      <td>3.422070</td>\n",
       "      <td>0.608885</td>\n",
       "    </tr>\n",
       "    <tr>\n",
       "      <td>143</td>\n",
       "      <td>3.408200</td>\n",
       "      <td>3.402503</td>\n",
       "      <td>0.609036</td>\n",
       "    </tr>\n",
       "    <tr>\n",
       "      <td>144</td>\n",
       "      <td>3.334800</td>\n",
       "      <td>3.420924</td>\n",
       "      <td>0.607772</td>\n",
       "    </tr>\n",
       "    <tr>\n",
       "      <td>145</td>\n",
       "      <td>3.304600</td>\n",
       "      <td>3.406938</td>\n",
       "      <td>0.608028</td>\n",
       "    </tr>\n",
       "    <tr>\n",
       "      <td>146</td>\n",
       "      <td>3.466100</td>\n",
       "      <td>3.403949</td>\n",
       "      <td>0.608489</td>\n",
       "    </tr>\n",
       "    <tr>\n",
       "      <td>147</td>\n",
       "      <td>3.330400</td>\n",
       "      <td>3.415035</td>\n",
       "      <td>0.608261</td>\n",
       "    </tr>\n",
       "    <tr>\n",
       "      <td>148</td>\n",
       "      <td>3.427600</td>\n",
       "      <td>3.403415</td>\n",
       "      <td>0.607985</td>\n",
       "    </tr>\n",
       "    <tr>\n",
       "      <td>149</td>\n",
       "      <td>3.428500</td>\n",
       "      <td>3.426798</td>\n",
       "      <td>0.609055</td>\n",
       "    </tr>\n",
       "    <tr>\n",
       "      <td>150</td>\n",
       "      <td>3.289200</td>\n",
       "      <td>3.416698</td>\n",
       "      <td>0.609176</td>\n",
       "    </tr>\n",
       "    <tr>\n",
       "      <td>151</td>\n",
       "      <td>3.361800</td>\n",
       "      <td>3.413175</td>\n",
       "      <td>0.607822</td>\n",
       "    </tr>\n",
       "    <tr>\n",
       "      <td>152</td>\n",
       "      <td>3.400400</td>\n",
       "      <td>3.438403</td>\n",
       "      <td>0.607054</td>\n",
       "    </tr>\n",
       "    <tr>\n",
       "      <td>153</td>\n",
       "      <td>3.279400</td>\n",
       "      <td>3.408603</td>\n",
       "      <td>0.608591</td>\n",
       "    </tr>\n",
       "    <tr>\n",
       "      <td>154</td>\n",
       "      <td>3.585700</td>\n",
       "      <td>3.416988</td>\n",
       "      <td>0.606398</td>\n",
       "    </tr>\n",
       "    <tr>\n",
       "      <td>155</td>\n",
       "      <td>3.580800</td>\n",
       "      <td>3.409710</td>\n",
       "      <td>0.608212</td>\n",
       "    </tr>\n",
       "    <tr>\n",
       "      <td>156</td>\n",
       "      <td>3.430800</td>\n",
       "      <td>3.427715</td>\n",
       "      <td>0.608298</td>\n",
       "    </tr>\n",
       "    <tr>\n",
       "      <td>157</td>\n",
       "      <td>3.407600</td>\n",
       "      <td>3.424391</td>\n",
       "      <td>0.608703</td>\n",
       "    </tr>\n",
       "    <tr>\n",
       "      <td>158</td>\n",
       "      <td>3.418300</td>\n",
       "      <td>3.417001</td>\n",
       "      <td>0.608744</td>\n",
       "    </tr>\n",
       "    <tr>\n",
       "      <td>159</td>\n",
       "      <td>3.391000</td>\n",
       "      <td>3.410712</td>\n",
       "      <td>0.607892</td>\n",
       "    </tr>\n",
       "    <tr>\n",
       "      <td>160</td>\n",
       "      <td>3.347700</td>\n",
       "      <td>3.413430</td>\n",
       "      <td>0.609196</td>\n",
       "    </tr>\n",
       "    <tr>\n",
       "      <td>161</td>\n",
       "      <td>3.271200</td>\n",
       "      <td>3.406164</td>\n",
       "      <td>0.607971</td>\n",
       "    </tr>\n",
       "    <tr>\n",
       "      <td>162</td>\n",
       "      <td>3.471100</td>\n",
       "      <td>3.404111</td>\n",
       "      <td>0.608346</td>\n",
       "    </tr>\n",
       "    <tr>\n",
       "      <td>163</td>\n",
       "      <td>3.373400</td>\n",
       "      <td>3.414796</td>\n",
       "      <td>0.606435</td>\n",
       "    </tr>\n",
       "    <tr>\n",
       "      <td>164</td>\n",
       "      <td>3.291300</td>\n",
       "      <td>3.401287</td>\n",
       "      <td>0.608451</td>\n",
       "    </tr>\n",
       "    <tr>\n",
       "      <td>165</td>\n",
       "      <td>3.388900</td>\n",
       "      <td>3.420568</td>\n",
       "      <td>0.609465</td>\n",
       "    </tr>\n",
       "    <tr>\n",
       "      <td>166</td>\n",
       "      <td>3.296700</td>\n",
       "      <td>3.413208</td>\n",
       "      <td>0.608481</td>\n",
       "    </tr>\n",
       "    <tr>\n",
       "      <td>167</td>\n",
       "      <td>3.361800</td>\n",
       "      <td>3.414348</td>\n",
       "      <td>0.608498</td>\n",
       "    </tr>\n",
       "    <tr>\n",
       "      <td>168</td>\n",
       "      <td>3.383600</td>\n",
       "      <td>3.416363</td>\n",
       "      <td>0.606899</td>\n",
       "    </tr>\n",
       "    <tr>\n",
       "      <td>169</td>\n",
       "      <td>3.315600</td>\n",
       "      <td>3.403346</td>\n",
       "      <td>0.608030</td>\n",
       "    </tr>\n",
       "    <tr>\n",
       "      <td>170</td>\n",
       "      <td>3.368700</td>\n",
       "      <td>3.411274</td>\n",
       "      <td>0.606491</td>\n",
       "    </tr>\n",
       "    <tr>\n",
       "      <td>171</td>\n",
       "      <td>3.361000</td>\n",
       "      <td>3.410778</td>\n",
       "      <td>0.606164</td>\n",
       "    </tr>\n",
       "    <tr>\n",
       "      <td>172</td>\n",
       "      <td>3.354500</td>\n",
       "      <td>3.415377</td>\n",
       "      <td>0.607863</td>\n",
       "    </tr>\n",
       "    <tr>\n",
       "      <td>173</td>\n",
       "      <td>3.301700</td>\n",
       "      <td>3.405055</td>\n",
       "      <td>0.606688</td>\n",
       "    </tr>\n",
       "    <tr>\n",
       "      <td>174</td>\n",
       "      <td>3.467000</td>\n",
       "      <td>3.410661</td>\n",
       "      <td>0.607713</td>\n",
       "    </tr>\n",
       "    <tr>\n",
       "      <td>175</td>\n",
       "      <td>3.493500</td>\n",
       "      <td>3.410272</td>\n",
       "      <td>0.607793</td>\n",
       "    </tr>\n",
       "    <tr>\n",
       "      <td>176</td>\n",
       "      <td>3.488300</td>\n",
       "      <td>3.405526</td>\n",
       "      <td>0.607732</td>\n",
       "    </tr>\n",
       "    <tr>\n",
       "      <td>177</td>\n",
       "      <td>3.447300</td>\n",
       "      <td>3.411795</td>\n",
       "      <td>0.606831</td>\n",
       "    </tr>\n",
       "    <tr>\n",
       "      <td>178</td>\n",
       "      <td>3.612000</td>\n",
       "      <td>3.420207</td>\n",
       "      <td>0.607271</td>\n",
       "    </tr>\n",
       "    <tr>\n",
       "      <td>179</td>\n",
       "      <td>3.364200</td>\n",
       "      <td>3.406972</td>\n",
       "      <td>0.607682</td>\n",
       "    </tr>\n",
       "    <tr>\n",
       "      <td>180</td>\n",
       "      <td>3.325400</td>\n",
       "      <td>3.403538</td>\n",
       "      <td>0.608101</td>\n",
       "    </tr>\n",
       "    <tr>\n",
       "      <td>181</td>\n",
       "      <td>3.337500</td>\n",
       "      <td>3.410505</td>\n",
       "      <td>0.607219</td>\n",
       "    </tr>\n",
       "    <tr>\n",
       "      <td>182</td>\n",
       "      <td>3.300900</td>\n",
       "      <td>3.404043</td>\n",
       "      <td>0.607277</td>\n",
       "    </tr>\n",
       "    <tr>\n",
       "      <td>183</td>\n",
       "      <td>3.441600</td>\n",
       "      <td>3.401286</td>\n",
       "      <td>0.607192</td>\n",
       "    </tr>\n",
       "    <tr>\n",
       "      <td>184</td>\n",
       "      <td>3.501800</td>\n",
       "      <td>3.400620</td>\n",
       "      <td>0.607753</td>\n",
       "    </tr>\n",
       "    <tr>\n",
       "      <td>185</td>\n",
       "      <td>3.306300</td>\n",
       "      <td>3.414538</td>\n",
       "      <td>0.607382</td>\n",
       "    </tr>\n",
       "    <tr>\n",
       "      <td>186</td>\n",
       "      <td>3.363300</td>\n",
       "      <td>3.400492</td>\n",
       "      <td>0.607680</td>\n",
       "    </tr>\n",
       "    <tr>\n",
       "      <td>187</td>\n",
       "      <td>3.497500</td>\n",
       "      <td>3.403395</td>\n",
       "      <td>0.607174</td>\n",
       "    </tr>\n",
       "    <tr>\n",
       "      <td>188</td>\n",
       "      <td>3.261600</td>\n",
       "      <td>3.401272</td>\n",
       "      <td>0.607378</td>\n",
       "    </tr>\n",
       "    <tr>\n",
       "      <td>189</td>\n",
       "      <td>3.307600</td>\n",
       "      <td>3.409660</td>\n",
       "      <td>0.607092</td>\n",
       "    </tr>\n",
       "    <tr>\n",
       "      <td>190</td>\n",
       "      <td>3.482000</td>\n",
       "      <td>3.416221</td>\n",
       "      <td>0.607178</td>\n",
       "    </tr>\n",
       "    <tr>\n",
       "      <td>191</td>\n",
       "      <td>3.327300</td>\n",
       "      <td>3.402132</td>\n",
       "      <td>0.607336</td>\n",
       "    </tr>\n",
       "    <tr>\n",
       "      <td>192</td>\n",
       "      <td>3.426200</td>\n",
       "      <td>3.396930</td>\n",
       "      <td>0.607912</td>\n",
       "    </tr>\n",
       "    <tr>\n",
       "      <td>193</td>\n",
       "      <td>3.538300</td>\n",
       "      <td>3.399814</td>\n",
       "      <td>0.607539</td>\n",
       "    </tr>\n",
       "    <tr>\n",
       "      <td>194</td>\n",
       "      <td>3.427800</td>\n",
       "      <td>3.402542</td>\n",
       "      <td>0.607433</td>\n",
       "    </tr>\n",
       "    <tr>\n",
       "      <td>195</td>\n",
       "      <td>3.352500</td>\n",
       "      <td>3.397165</td>\n",
       "      <td>0.607775</td>\n",
       "    </tr>\n",
       "    <tr>\n",
       "      <td>196</td>\n",
       "      <td>3.323100</td>\n",
       "      <td>3.401587</td>\n",
       "      <td>0.607217</td>\n",
       "    </tr>\n",
       "    <tr>\n",
       "      <td>197</td>\n",
       "      <td>3.320000</td>\n",
       "      <td>3.400792</td>\n",
       "      <td>0.607138</td>\n",
       "    </tr>\n",
       "    <tr>\n",
       "      <td>198</td>\n",
       "      <td>3.556500</td>\n",
       "      <td>3.401307</td>\n",
       "      <td>0.607261</td>\n",
       "    </tr>\n",
       "    <tr>\n",
       "      <td>199</td>\n",
       "      <td>3.555000</td>\n",
       "      <td>3.400999</td>\n",
       "      <td>0.607262</td>\n",
       "    </tr>\n",
       "    <tr>\n",
       "      <td>200</td>\n",
       "      <td>3.471200</td>\n",
       "      <td>3.400154</td>\n",
       "      <td>0.607325</td>\n",
       "    </tr>\n",
       "  </tbody>\n",
       "</table><p>"
      ],
      "text/plain": [
       "<IPython.core.display.HTML object>"
      ]
     },
     "metadata": {},
     "output_type": "display_data"
    },
    {
     "name": "stderr",
     "output_type": "stream",
     "text": [
      "***** Running Evaluation *****\n"
     ]
    },
    {
     "name": "stderr",
     "output_type": "stream",
     "text": [
      "  Num examples = 1592\n"
     ]
    },
    {
     "name": "stderr",
     "output_type": "stream",
     "text": [
      "  Batch size = 1\n"
     ]
    },
    {
     "name": "stderr",
     "output_type": "stream",
     "text": [
      "Saving model checkpoint to saved_models/XLNetDepr-3_256_8-ALL_NA-PEL-BS1-GWS_PCC_IT192_DH_3LALPHA10_NZ20_PNTh0.05_AnnotThresh0.5/checkpoint-6386\n"
     ]
    },
    {
     "name": "stderr",
     "output_type": "stream",
     "text": [
      "Configuration saved in saved_models/XLNetDepr-3_256_8-ALL_NA-PEL-BS1-GWS_PCC_IT192_DH_3LALPHA10_NZ20_PNTh0.05_AnnotThresh0.5/checkpoint-6386/config.json\n"
     ]
    },
    {
     "name": "stderr",
     "output_type": "stream",
     "text": [
      "Model weights saved in saved_models/XLNetDepr-3_256_8-ALL_NA-PEL-BS1-GWS_PCC_IT192_DH_3LALPHA10_NZ20_PNTh0.05_AnnotThresh0.5/checkpoint-6386/pytorch_model.bin\n"
     ]
    },
    {
     "name": "stderr",
     "output_type": "stream",
     "text": [
      "***** Running Evaluation *****\n"
     ]
    },
    {
     "name": "stderr",
     "output_type": "stream",
     "text": [
      "  Num examples = 1592\n"
     ]
    },
    {
     "name": "stderr",
     "output_type": "stream",
     "text": [
      "  Batch size = 1\n"
     ]
    },
    {
     "name": "stderr",
     "output_type": "stream",
     "text": [
      "Saving model checkpoint to saved_models/XLNetDepr-3_256_8-ALL_NA-PEL-BS1-GWS_PCC_IT192_DH_3LALPHA10_NZ20_PNTh0.05_AnnotThresh0.5/checkpoint-12772\n"
     ]
    },
    {
     "name": "stderr",
     "output_type": "stream",
     "text": [
      "Configuration saved in saved_models/XLNetDepr-3_256_8-ALL_NA-PEL-BS1-GWS_PCC_IT192_DH_3LALPHA10_NZ20_PNTh0.05_AnnotThresh0.5/checkpoint-12772/config.json\n"
     ]
    },
    {
     "name": "stderr",
     "output_type": "stream",
     "text": [
      "Model weights saved in saved_models/XLNetDepr-3_256_8-ALL_NA-PEL-BS1-GWS_PCC_IT192_DH_3LALPHA10_NZ20_PNTh0.05_AnnotThresh0.5/checkpoint-12772/pytorch_model.bin\n"
     ]
    },
    {
     "name": "stderr",
     "output_type": "stream",
     "text": [
      "***** Running Evaluation *****\n"
     ]
    },
    {
     "name": "stderr",
     "output_type": "stream",
     "text": [
      "  Num examples = 1592\n"
     ]
    },
    {
     "name": "stderr",
     "output_type": "stream",
     "text": [
      "  Batch size = 1\n"
     ]
    },
    {
     "name": "stderr",
     "output_type": "stream",
     "text": [
      "Saving model checkpoint to saved_models/XLNetDepr-3_256_8-ALL_NA-PEL-BS1-GWS_PCC_IT192_DH_3LALPHA10_NZ20_PNTh0.05_AnnotThresh0.5/checkpoint-19158\n"
     ]
    },
    {
     "name": "stderr",
     "output_type": "stream",
     "text": [
      "Configuration saved in saved_models/XLNetDepr-3_256_8-ALL_NA-PEL-BS1-GWS_PCC_IT192_DH_3LALPHA10_NZ20_PNTh0.05_AnnotThresh0.5/checkpoint-19158/config.json\n"
     ]
    },
    {
     "name": "stderr",
     "output_type": "stream",
     "text": [
      "Model weights saved in saved_models/XLNetDepr-3_256_8-ALL_NA-PEL-BS1-GWS_PCC_IT192_DH_3LALPHA10_NZ20_PNTh0.05_AnnotThresh0.5/checkpoint-19158/pytorch_model.bin\n"
     ]
    },
    {
     "name": "stderr",
     "output_type": "stream",
     "text": [
      "***** Running Evaluation *****\n"
     ]
    },
    {
     "name": "stderr",
     "output_type": "stream",
     "text": [
      "  Num examples = 1592\n"
     ]
    },
    {
     "name": "stderr",
     "output_type": "stream",
     "text": [
      "  Batch size = 1\n"
     ]
    },
    {
     "name": "stderr",
     "output_type": "stream",
     "text": [
      "Saving model checkpoint to saved_models/XLNetDepr-3_256_8-ALL_NA-PEL-BS1-GWS_PCC_IT192_DH_3LALPHA10_NZ20_PNTh0.05_AnnotThresh0.5/checkpoint-25544\n"
     ]
    },
    {
     "name": "stderr",
     "output_type": "stream",
     "text": [
      "Configuration saved in saved_models/XLNetDepr-3_256_8-ALL_NA-PEL-BS1-GWS_PCC_IT192_DH_3LALPHA10_NZ20_PNTh0.05_AnnotThresh0.5/checkpoint-25544/config.json\n"
     ]
    },
    {
     "name": "stderr",
     "output_type": "stream",
     "text": [
      "Model weights saved in saved_models/XLNetDepr-3_256_8-ALL_NA-PEL-BS1-GWS_PCC_IT192_DH_3LALPHA10_NZ20_PNTh0.05_AnnotThresh0.5/checkpoint-25544/pytorch_model.bin\n"
     ]
    },
    {
     "name": "stderr",
     "output_type": "stream",
     "text": [
      "***** Running Evaluation *****\n"
     ]
    },
    {
     "name": "stderr",
     "output_type": "stream",
     "text": [
      "  Num examples = 1592\n"
     ]
    },
    {
     "name": "stderr",
     "output_type": "stream",
     "text": [
      "  Batch size = 1\n"
     ]
    },
    {
     "name": "stderr",
     "output_type": "stream",
     "text": [
      "Saving model checkpoint to saved_models/XLNetDepr-3_256_8-ALL_NA-PEL-BS1-GWS_PCC_IT192_DH_3LALPHA10_NZ20_PNTh0.05_AnnotThresh0.5/checkpoint-31930\n"
     ]
    },
    {
     "name": "stderr",
     "output_type": "stream",
     "text": [
      "Configuration saved in saved_models/XLNetDepr-3_256_8-ALL_NA-PEL-BS1-GWS_PCC_IT192_DH_3LALPHA10_NZ20_PNTh0.05_AnnotThresh0.5/checkpoint-31930/config.json\n"
     ]
    },
    {
     "name": "stderr",
     "output_type": "stream",
     "text": [
      "Model weights saved in saved_models/XLNetDepr-3_256_8-ALL_NA-PEL-BS1-GWS_PCC_IT192_DH_3LALPHA10_NZ20_PNTh0.05_AnnotThresh0.5/checkpoint-31930/pytorch_model.bin\n"
     ]
    },
    {
     "name": "stderr",
     "output_type": "stream",
     "text": [
      "***** Running Evaluation *****\n"
     ]
    },
    {
     "name": "stderr",
     "output_type": "stream",
     "text": [
      "  Num examples = 1592\n"
     ]
    },
    {
     "name": "stderr",
     "output_type": "stream",
     "text": [
      "  Batch size = 1\n"
     ]
    },
    {
     "name": "stderr",
     "output_type": "stream",
     "text": [
      "Saving model checkpoint to saved_models/XLNetDepr-3_256_8-ALL_NA-PEL-BS1-GWS_PCC_IT192_DH_3LALPHA10_NZ20_PNTh0.05_AnnotThresh0.5/checkpoint-38316\n"
     ]
    },
    {
     "name": "stderr",
     "output_type": "stream",
     "text": [
      "Configuration saved in saved_models/XLNetDepr-3_256_8-ALL_NA-PEL-BS1-GWS_PCC_IT192_DH_3LALPHA10_NZ20_PNTh0.05_AnnotThresh0.5/checkpoint-38316/config.json\n"
     ]
    },
    {
     "name": "stderr",
     "output_type": "stream",
     "text": [
      "Model weights saved in saved_models/XLNetDepr-3_256_8-ALL_NA-PEL-BS1-GWS_PCC_IT192_DH_3LALPHA10_NZ20_PNTh0.05_AnnotThresh0.5/checkpoint-38316/pytorch_model.bin\n"
     ]
    },
    {
     "name": "stderr",
     "output_type": "stream",
     "text": [
      "Deleting older checkpoint [saved_models/XLNetDepr-3_256_8-ALL_NA-PEL-BS1-GWS_PCC_IT192_DH_3LALPHA10_NZ20_PNTh0.05_AnnotThresh0.5/checkpoint-6386] due to args.save_total_limit\n"
     ]
    },
    {
     "name": "stderr",
     "output_type": "stream",
     "text": [
      "***** Running Evaluation *****\n"
     ]
    },
    {
     "name": "stderr",
     "output_type": "stream",
     "text": [
      "  Num examples = 1592\n"
     ]
    },
    {
     "name": "stderr",
     "output_type": "stream",
     "text": [
      "  Batch size = 1\n"
     ]
    },
    {
     "name": "stderr",
     "output_type": "stream",
     "text": [
      "Saving model checkpoint to saved_models/XLNetDepr-3_256_8-ALL_NA-PEL-BS1-GWS_PCC_IT192_DH_3LALPHA10_NZ20_PNTh0.05_AnnotThresh0.5/checkpoint-44702\n"
     ]
    },
    {
     "name": "stderr",
     "output_type": "stream",
     "text": [
      "Configuration saved in saved_models/XLNetDepr-3_256_8-ALL_NA-PEL-BS1-GWS_PCC_IT192_DH_3LALPHA10_NZ20_PNTh0.05_AnnotThresh0.5/checkpoint-44702/config.json\n"
     ]
    },
    {
     "name": "stderr",
     "output_type": "stream",
     "text": [
      "Model weights saved in saved_models/XLNetDepr-3_256_8-ALL_NA-PEL-BS1-GWS_PCC_IT192_DH_3LALPHA10_NZ20_PNTh0.05_AnnotThresh0.5/checkpoint-44702/pytorch_model.bin\n"
     ]
    },
    {
     "name": "stderr",
     "output_type": "stream",
     "text": [
      "Deleting older checkpoint [saved_models/XLNetDepr-3_256_8-ALL_NA-PEL-BS1-GWS_PCC_IT192_DH_3LALPHA10_NZ20_PNTh0.05_AnnotThresh0.5/checkpoint-12772] due to args.save_total_limit\n"
     ]
    },
    {
     "name": "stderr",
     "output_type": "stream",
     "text": [
      "***** Running Evaluation *****\n"
     ]
    },
    {
     "name": "stderr",
     "output_type": "stream",
     "text": [
      "  Num examples = 1592\n"
     ]
    },
    {
     "name": "stderr",
     "output_type": "stream",
     "text": [
      "  Batch size = 1\n"
     ]
    },
    {
     "name": "stderr",
     "output_type": "stream",
     "text": [
      "Saving model checkpoint to saved_models/XLNetDepr-3_256_8-ALL_NA-PEL-BS1-GWS_PCC_IT192_DH_3LALPHA10_NZ20_PNTh0.05_AnnotThresh0.5/checkpoint-51088\n"
     ]
    },
    {
     "name": "stderr",
     "output_type": "stream",
     "text": [
      "Configuration saved in saved_models/XLNetDepr-3_256_8-ALL_NA-PEL-BS1-GWS_PCC_IT192_DH_3LALPHA10_NZ20_PNTh0.05_AnnotThresh0.5/checkpoint-51088/config.json\n"
     ]
    },
    {
     "name": "stderr",
     "output_type": "stream",
     "text": [
      "Model weights saved in saved_models/XLNetDepr-3_256_8-ALL_NA-PEL-BS1-GWS_PCC_IT192_DH_3LALPHA10_NZ20_PNTh0.05_AnnotThresh0.5/checkpoint-51088/pytorch_model.bin\n"
     ]
    },
    {
     "name": "stderr",
     "output_type": "stream",
     "text": [
      "Deleting older checkpoint [saved_models/XLNetDepr-3_256_8-ALL_NA-PEL-BS1-GWS_PCC_IT192_DH_3LALPHA10_NZ20_PNTh0.05_AnnotThresh0.5/checkpoint-19158] due to args.save_total_limit\n"
     ]
    },
    {
     "name": "stderr",
     "output_type": "stream",
     "text": [
      "***** Running Evaluation *****\n"
     ]
    },
    {
     "name": "stderr",
     "output_type": "stream",
     "text": [
      "  Num examples = 1592\n"
     ]
    },
    {
     "name": "stderr",
     "output_type": "stream",
     "text": [
      "  Batch size = 1\n"
     ]
    },
    {
     "name": "stderr",
     "output_type": "stream",
     "text": [
      "Saving model checkpoint to saved_models/XLNetDepr-3_256_8-ALL_NA-PEL-BS1-GWS_PCC_IT192_DH_3LALPHA10_NZ20_PNTh0.05_AnnotThresh0.5/checkpoint-57474\n"
     ]
    },
    {
     "name": "stderr",
     "output_type": "stream",
     "text": [
      "Configuration saved in saved_models/XLNetDepr-3_256_8-ALL_NA-PEL-BS1-GWS_PCC_IT192_DH_3LALPHA10_NZ20_PNTh0.05_AnnotThresh0.5/checkpoint-57474/config.json\n"
     ]
    },
    {
     "name": "stderr",
     "output_type": "stream",
     "text": [
      "Model weights saved in saved_models/XLNetDepr-3_256_8-ALL_NA-PEL-BS1-GWS_PCC_IT192_DH_3LALPHA10_NZ20_PNTh0.05_AnnotThresh0.5/checkpoint-57474/pytorch_model.bin\n"
     ]
    },
    {
     "name": "stderr",
     "output_type": "stream",
     "text": [
      "Deleting older checkpoint [saved_models/XLNetDepr-3_256_8-ALL_NA-PEL-BS1-GWS_PCC_IT192_DH_3LALPHA10_NZ20_PNTh0.05_AnnotThresh0.5/checkpoint-25544] due to args.save_total_limit\n"
     ]
    },
    {
     "name": "stderr",
     "output_type": "stream",
     "text": [
      "***** Running Evaluation *****\n"
     ]
    },
    {
     "name": "stderr",
     "output_type": "stream",
     "text": [
      "  Num examples = 1592\n"
     ]
    },
    {
     "name": "stderr",
     "output_type": "stream",
     "text": [
      "  Batch size = 1\n"
     ]
    },
    {
     "name": "stderr",
     "output_type": "stream",
     "text": [
      "Saving model checkpoint to saved_models/XLNetDepr-3_256_8-ALL_NA-PEL-BS1-GWS_PCC_IT192_DH_3LALPHA10_NZ20_PNTh0.05_AnnotThresh0.5/checkpoint-63860\n"
     ]
    },
    {
     "name": "stderr",
     "output_type": "stream",
     "text": [
      "Configuration saved in saved_models/XLNetDepr-3_256_8-ALL_NA-PEL-BS1-GWS_PCC_IT192_DH_3LALPHA10_NZ20_PNTh0.05_AnnotThresh0.5/checkpoint-63860/config.json\n"
     ]
    },
    {
     "name": "stderr",
     "output_type": "stream",
     "text": [
      "Model weights saved in saved_models/XLNetDepr-3_256_8-ALL_NA-PEL-BS1-GWS_PCC_IT192_DH_3LALPHA10_NZ20_PNTh0.05_AnnotThresh0.5/checkpoint-63860/pytorch_model.bin\n"
     ]
    },
    {
     "name": "stderr",
     "output_type": "stream",
     "text": [
      "Deleting older checkpoint [saved_models/XLNetDepr-3_256_8-ALL_NA-PEL-BS1-GWS_PCC_IT192_DH_3LALPHA10_NZ20_PNTh0.05_AnnotThresh0.5/checkpoint-31930] due to args.save_total_limit\n"
     ]
    },
    {
     "name": "stderr",
     "output_type": "stream",
     "text": [
      "***** Running Evaluation *****\n"
     ]
    },
    {
     "name": "stderr",
     "output_type": "stream",
     "text": [
      "  Num examples = 1592\n"
     ]
    },
    {
     "name": "stderr",
     "output_type": "stream",
     "text": [
      "  Batch size = 1\n"
     ]
    },
    {
     "name": "stderr",
     "output_type": "stream",
     "text": [
      "Saving model checkpoint to saved_models/XLNetDepr-3_256_8-ALL_NA-PEL-BS1-GWS_PCC_IT192_DH_3LALPHA10_NZ20_PNTh0.05_AnnotThresh0.5/checkpoint-70246\n"
     ]
    },
    {
     "name": "stderr",
     "output_type": "stream",
     "text": [
      "Configuration saved in saved_models/XLNetDepr-3_256_8-ALL_NA-PEL-BS1-GWS_PCC_IT192_DH_3LALPHA10_NZ20_PNTh0.05_AnnotThresh0.5/checkpoint-70246/config.json\n"
     ]
    },
    {
     "name": "stderr",
     "output_type": "stream",
     "text": [
      "Model weights saved in saved_models/XLNetDepr-3_256_8-ALL_NA-PEL-BS1-GWS_PCC_IT192_DH_3LALPHA10_NZ20_PNTh0.05_AnnotThresh0.5/checkpoint-70246/pytorch_model.bin\n"
     ]
    },
    {
     "name": "stderr",
     "output_type": "stream",
     "text": [
      "Deleting older checkpoint [saved_models/XLNetDepr-3_256_8-ALL_NA-PEL-BS1-GWS_PCC_IT192_DH_3LALPHA10_NZ20_PNTh0.05_AnnotThresh0.5/checkpoint-38316] due to args.save_total_limit\n"
     ]
    },
    {
     "name": "stderr",
     "output_type": "stream",
     "text": [
      "***** Running Evaluation *****\n"
     ]
    },
    {
     "name": "stderr",
     "output_type": "stream",
     "text": [
      "  Num examples = 1592\n"
     ]
    },
    {
     "name": "stderr",
     "output_type": "stream",
     "text": [
      "  Batch size = 1\n"
     ]
    },
    {
     "name": "stderr",
     "output_type": "stream",
     "text": [
      "Saving model checkpoint to saved_models/XLNetDepr-3_256_8-ALL_NA-PEL-BS1-GWS_PCC_IT192_DH_3LALPHA10_NZ20_PNTh0.05_AnnotThresh0.5/checkpoint-76632\n"
     ]
    },
    {
     "name": "stderr",
     "output_type": "stream",
     "text": [
      "Configuration saved in saved_models/XLNetDepr-3_256_8-ALL_NA-PEL-BS1-GWS_PCC_IT192_DH_3LALPHA10_NZ20_PNTh0.05_AnnotThresh0.5/checkpoint-76632/config.json\n"
     ]
    },
    {
     "name": "stderr",
     "output_type": "stream",
     "text": [
      "Model weights saved in saved_models/XLNetDepr-3_256_8-ALL_NA-PEL-BS1-GWS_PCC_IT192_DH_3LALPHA10_NZ20_PNTh0.05_AnnotThresh0.5/checkpoint-76632/pytorch_model.bin\n"
     ]
    },
    {
     "name": "stderr",
     "output_type": "stream",
     "text": [
      "Deleting older checkpoint [saved_models/XLNetDepr-3_256_8-ALL_NA-PEL-BS1-GWS_PCC_IT192_DH_3LALPHA10_NZ20_PNTh0.05_AnnotThresh0.5/checkpoint-44702] due to args.save_total_limit\n"
     ]
    },
    {
     "name": "stderr",
     "output_type": "stream",
     "text": [
      "***** Running Evaluation *****\n"
     ]
    },
    {
     "name": "stderr",
     "output_type": "stream",
     "text": [
      "  Num examples = 1592\n"
     ]
    },
    {
     "name": "stderr",
     "output_type": "stream",
     "text": [
      "  Batch size = 1\n"
     ]
    },
    {
     "name": "stderr",
     "output_type": "stream",
     "text": [
      "Saving model checkpoint to saved_models/XLNetDepr-3_256_8-ALL_NA-PEL-BS1-GWS_PCC_IT192_DH_3LALPHA10_NZ20_PNTh0.05_AnnotThresh0.5/checkpoint-83018\n"
     ]
    },
    {
     "name": "stderr",
     "output_type": "stream",
     "text": [
      "Configuration saved in saved_models/XLNetDepr-3_256_8-ALL_NA-PEL-BS1-GWS_PCC_IT192_DH_3LALPHA10_NZ20_PNTh0.05_AnnotThresh0.5/checkpoint-83018/config.json\n"
     ]
    },
    {
     "name": "stderr",
     "output_type": "stream",
     "text": [
      "Model weights saved in saved_models/XLNetDepr-3_256_8-ALL_NA-PEL-BS1-GWS_PCC_IT192_DH_3LALPHA10_NZ20_PNTh0.05_AnnotThresh0.5/checkpoint-83018/pytorch_model.bin\n"
     ]
    },
    {
     "name": "stderr",
     "output_type": "stream",
     "text": [
      "Deleting older checkpoint [saved_models/XLNetDepr-3_256_8-ALL_NA-PEL-BS1-GWS_PCC_IT192_DH_3LALPHA10_NZ20_PNTh0.05_AnnotThresh0.5/checkpoint-51088] due to args.save_total_limit\n"
     ]
    },
    {
     "name": "stderr",
     "output_type": "stream",
     "text": [
      "***** Running Evaluation *****\n"
     ]
    },
    {
     "name": "stderr",
     "output_type": "stream",
     "text": [
      "  Num examples = 1592\n"
     ]
    },
    {
     "name": "stderr",
     "output_type": "stream",
     "text": [
      "  Batch size = 1\n"
     ]
    },
    {
     "name": "stderr",
     "output_type": "stream",
     "text": [
      "Saving model checkpoint to saved_models/XLNetDepr-3_256_8-ALL_NA-PEL-BS1-GWS_PCC_IT192_DH_3LALPHA10_NZ20_PNTh0.05_AnnotThresh0.5/checkpoint-89404\n"
     ]
    },
    {
     "name": "stderr",
     "output_type": "stream",
     "text": [
      "Configuration saved in saved_models/XLNetDepr-3_256_8-ALL_NA-PEL-BS1-GWS_PCC_IT192_DH_3LALPHA10_NZ20_PNTh0.05_AnnotThresh0.5/checkpoint-89404/config.json\n"
     ]
    },
    {
     "name": "stderr",
     "output_type": "stream",
     "text": [
      "Model weights saved in saved_models/XLNetDepr-3_256_8-ALL_NA-PEL-BS1-GWS_PCC_IT192_DH_3LALPHA10_NZ20_PNTh0.05_AnnotThresh0.5/checkpoint-89404/pytorch_model.bin\n"
     ]
    },
    {
     "name": "stderr",
     "output_type": "stream",
     "text": [
      "Deleting older checkpoint [saved_models/XLNetDepr-3_256_8-ALL_NA-PEL-BS1-GWS_PCC_IT192_DH_3LALPHA10_NZ20_PNTh0.05_AnnotThresh0.5/checkpoint-57474] due to args.save_total_limit\n"
     ]
    },
    {
     "name": "stderr",
     "output_type": "stream",
     "text": [
      "***** Running Evaluation *****\n"
     ]
    },
    {
     "name": "stderr",
     "output_type": "stream",
     "text": [
      "  Num examples = 1592\n"
     ]
    },
    {
     "name": "stderr",
     "output_type": "stream",
     "text": [
      "  Batch size = 1\n"
     ]
    },
    {
     "name": "stderr",
     "output_type": "stream",
     "text": [
      "Saving model checkpoint to saved_models/XLNetDepr-3_256_8-ALL_NA-PEL-BS1-GWS_PCC_IT192_DH_3LALPHA10_NZ20_PNTh0.05_AnnotThresh0.5/checkpoint-95790\n"
     ]
    },
    {
     "name": "stderr",
     "output_type": "stream",
     "text": [
      "Configuration saved in saved_models/XLNetDepr-3_256_8-ALL_NA-PEL-BS1-GWS_PCC_IT192_DH_3LALPHA10_NZ20_PNTh0.05_AnnotThresh0.5/checkpoint-95790/config.json\n"
     ]
    },
    {
     "name": "stderr",
     "output_type": "stream",
     "text": [
      "Model weights saved in saved_models/XLNetDepr-3_256_8-ALL_NA-PEL-BS1-GWS_PCC_IT192_DH_3LALPHA10_NZ20_PNTh0.05_AnnotThresh0.5/checkpoint-95790/pytorch_model.bin\n"
     ]
    },
    {
     "name": "stderr",
     "output_type": "stream",
     "text": [
      "Deleting older checkpoint [saved_models/XLNetDepr-3_256_8-ALL_NA-PEL-BS1-GWS_PCC_IT192_DH_3LALPHA10_NZ20_PNTh0.05_AnnotThresh0.5/checkpoint-63860] due to args.save_total_limit\n"
     ]
    },
    {
     "name": "stderr",
     "output_type": "stream",
     "text": [
      "***** Running Evaluation *****\n"
     ]
    },
    {
     "name": "stderr",
     "output_type": "stream",
     "text": [
      "  Num examples = 1592\n"
     ]
    },
    {
     "name": "stderr",
     "output_type": "stream",
     "text": [
      "  Batch size = 1\n"
     ]
    },
    {
     "name": "stderr",
     "output_type": "stream",
     "text": [
      "Saving model checkpoint to saved_models/XLNetDepr-3_256_8-ALL_NA-PEL-BS1-GWS_PCC_IT192_DH_3LALPHA10_NZ20_PNTh0.05_AnnotThresh0.5/checkpoint-102176\n"
     ]
    },
    {
     "name": "stderr",
     "output_type": "stream",
     "text": [
      "Configuration saved in saved_models/XLNetDepr-3_256_8-ALL_NA-PEL-BS1-GWS_PCC_IT192_DH_3LALPHA10_NZ20_PNTh0.05_AnnotThresh0.5/checkpoint-102176/config.json\n"
     ]
    },
    {
     "name": "stderr",
     "output_type": "stream",
     "text": [
      "Model weights saved in saved_models/XLNetDepr-3_256_8-ALL_NA-PEL-BS1-GWS_PCC_IT192_DH_3LALPHA10_NZ20_PNTh0.05_AnnotThresh0.5/checkpoint-102176/pytorch_model.bin\n"
     ]
    },
    {
     "name": "stderr",
     "output_type": "stream",
     "text": [
      "Deleting older checkpoint [saved_models/XLNetDepr-3_256_8-ALL_NA-PEL-BS1-GWS_PCC_IT192_DH_3LALPHA10_NZ20_PNTh0.05_AnnotThresh0.5/checkpoint-70246] due to args.save_total_limit\n"
     ]
    },
    {
     "name": "stderr",
     "output_type": "stream",
     "text": [
      "***** Running Evaluation *****\n"
     ]
    },
    {
     "name": "stderr",
     "output_type": "stream",
     "text": [
      "  Num examples = 1592\n"
     ]
    },
    {
     "name": "stderr",
     "output_type": "stream",
     "text": [
      "  Batch size = 1\n"
     ]
    },
    {
     "name": "stderr",
     "output_type": "stream",
     "text": [
      "Saving model checkpoint to saved_models/XLNetDepr-3_256_8-ALL_NA-PEL-BS1-GWS_PCC_IT192_DH_3LALPHA10_NZ20_PNTh0.05_AnnotThresh0.5/checkpoint-108562\n"
     ]
    },
    {
     "name": "stderr",
     "output_type": "stream",
     "text": [
      "Configuration saved in saved_models/XLNetDepr-3_256_8-ALL_NA-PEL-BS1-GWS_PCC_IT192_DH_3LALPHA10_NZ20_PNTh0.05_AnnotThresh0.5/checkpoint-108562/config.json\n"
     ]
    },
    {
     "name": "stderr",
     "output_type": "stream",
     "text": [
      "Model weights saved in saved_models/XLNetDepr-3_256_8-ALL_NA-PEL-BS1-GWS_PCC_IT192_DH_3LALPHA10_NZ20_PNTh0.05_AnnotThresh0.5/checkpoint-108562/pytorch_model.bin\n"
     ]
    },
    {
     "name": "stderr",
     "output_type": "stream",
     "text": [
      "Deleting older checkpoint [saved_models/XLNetDepr-3_256_8-ALL_NA-PEL-BS1-GWS_PCC_IT192_DH_3LALPHA10_NZ20_PNTh0.05_AnnotThresh0.5/checkpoint-76632] due to args.save_total_limit\n"
     ]
    },
    {
     "name": "stderr",
     "output_type": "stream",
     "text": [
      "***** Running Evaluation *****\n"
     ]
    },
    {
     "name": "stderr",
     "output_type": "stream",
     "text": [
      "  Num examples = 1592\n"
     ]
    },
    {
     "name": "stderr",
     "output_type": "stream",
     "text": [
      "  Batch size = 1\n"
     ]
    },
    {
     "name": "stderr",
     "output_type": "stream",
     "text": [
      "Saving model checkpoint to saved_models/XLNetDepr-3_256_8-ALL_NA-PEL-BS1-GWS_PCC_IT192_DH_3LALPHA10_NZ20_PNTh0.05_AnnotThresh0.5/checkpoint-114948\n"
     ]
    },
    {
     "name": "stderr",
     "output_type": "stream",
     "text": [
      "Configuration saved in saved_models/XLNetDepr-3_256_8-ALL_NA-PEL-BS1-GWS_PCC_IT192_DH_3LALPHA10_NZ20_PNTh0.05_AnnotThresh0.5/checkpoint-114948/config.json\n"
     ]
    },
    {
     "name": "stderr",
     "output_type": "stream",
     "text": [
      "Model weights saved in saved_models/XLNetDepr-3_256_8-ALL_NA-PEL-BS1-GWS_PCC_IT192_DH_3LALPHA10_NZ20_PNTh0.05_AnnotThresh0.5/checkpoint-114948/pytorch_model.bin\n"
     ]
    },
    {
     "name": "stderr",
     "output_type": "stream",
     "text": [
      "Deleting older checkpoint [saved_models/XLNetDepr-3_256_8-ALL_NA-PEL-BS1-GWS_PCC_IT192_DH_3LALPHA10_NZ20_PNTh0.05_AnnotThresh0.5/checkpoint-83018] due to args.save_total_limit\n"
     ]
    },
    {
     "name": "stderr",
     "output_type": "stream",
     "text": [
      "***** Running Evaluation *****\n"
     ]
    },
    {
     "name": "stderr",
     "output_type": "stream",
     "text": [
      "  Num examples = 1592\n"
     ]
    },
    {
     "name": "stderr",
     "output_type": "stream",
     "text": [
      "  Batch size = 1\n"
     ]
    },
    {
     "name": "stderr",
     "output_type": "stream",
     "text": [
      "Saving model checkpoint to saved_models/XLNetDepr-3_256_8-ALL_NA-PEL-BS1-GWS_PCC_IT192_DH_3LALPHA10_NZ20_PNTh0.05_AnnotThresh0.5/checkpoint-121334\n"
     ]
    },
    {
     "name": "stderr",
     "output_type": "stream",
     "text": [
      "Configuration saved in saved_models/XLNetDepr-3_256_8-ALL_NA-PEL-BS1-GWS_PCC_IT192_DH_3LALPHA10_NZ20_PNTh0.05_AnnotThresh0.5/checkpoint-121334/config.json\n"
     ]
    },
    {
     "name": "stderr",
     "output_type": "stream",
     "text": [
      "Model weights saved in saved_models/XLNetDepr-3_256_8-ALL_NA-PEL-BS1-GWS_PCC_IT192_DH_3LALPHA10_NZ20_PNTh0.05_AnnotThresh0.5/checkpoint-121334/pytorch_model.bin\n"
     ]
    },
    {
     "name": "stderr",
     "output_type": "stream",
     "text": [
      "Deleting older checkpoint [saved_models/XLNetDepr-3_256_8-ALL_NA-PEL-BS1-GWS_PCC_IT192_DH_3LALPHA10_NZ20_PNTh0.05_AnnotThresh0.5/checkpoint-89404] due to args.save_total_limit\n"
     ]
    },
    {
     "name": "stderr",
     "output_type": "stream",
     "text": [
      "***** Running Evaluation *****\n"
     ]
    },
    {
     "name": "stderr",
     "output_type": "stream",
     "text": [
      "  Num examples = 1592\n"
     ]
    },
    {
     "name": "stderr",
     "output_type": "stream",
     "text": [
      "  Batch size = 1\n"
     ]
    },
    {
     "name": "stderr",
     "output_type": "stream",
     "text": [
      "Saving model checkpoint to saved_models/XLNetDepr-3_256_8-ALL_NA-PEL-BS1-GWS_PCC_IT192_DH_3LALPHA10_NZ20_PNTh0.05_AnnotThresh0.5/checkpoint-127720\n"
     ]
    },
    {
     "name": "stderr",
     "output_type": "stream",
     "text": [
      "Configuration saved in saved_models/XLNetDepr-3_256_8-ALL_NA-PEL-BS1-GWS_PCC_IT192_DH_3LALPHA10_NZ20_PNTh0.05_AnnotThresh0.5/checkpoint-127720/config.json\n"
     ]
    },
    {
     "name": "stderr",
     "output_type": "stream",
     "text": [
      "Model weights saved in saved_models/XLNetDepr-3_256_8-ALL_NA-PEL-BS1-GWS_PCC_IT192_DH_3LALPHA10_NZ20_PNTh0.05_AnnotThresh0.5/checkpoint-127720/pytorch_model.bin\n"
     ]
    },
    {
     "name": "stderr",
     "output_type": "stream",
     "text": [
      "Deleting older checkpoint [saved_models/XLNetDepr-3_256_8-ALL_NA-PEL-BS1-GWS_PCC_IT192_DH_3LALPHA10_NZ20_PNTh0.05_AnnotThresh0.5/checkpoint-95790] due to args.save_total_limit\n"
     ]
    },
    {
     "name": "stderr",
     "output_type": "stream",
     "text": [
      "***** Running Evaluation *****\n"
     ]
    },
    {
     "name": "stderr",
     "output_type": "stream",
     "text": [
      "  Num examples = 1592\n"
     ]
    },
    {
     "name": "stderr",
     "output_type": "stream",
     "text": [
      "  Batch size = 1\n"
     ]
    },
    {
     "name": "stderr",
     "output_type": "stream",
     "text": [
      "Saving model checkpoint to saved_models/XLNetDepr-3_256_8-ALL_NA-PEL-BS1-GWS_PCC_IT192_DH_3LALPHA10_NZ20_PNTh0.05_AnnotThresh0.5/checkpoint-134106\n"
     ]
    },
    {
     "name": "stderr",
     "output_type": "stream",
     "text": [
      "Configuration saved in saved_models/XLNetDepr-3_256_8-ALL_NA-PEL-BS1-GWS_PCC_IT192_DH_3LALPHA10_NZ20_PNTh0.05_AnnotThresh0.5/checkpoint-134106/config.json\n"
     ]
    },
    {
     "name": "stderr",
     "output_type": "stream",
     "text": [
      "Model weights saved in saved_models/XLNetDepr-3_256_8-ALL_NA-PEL-BS1-GWS_PCC_IT192_DH_3LALPHA10_NZ20_PNTh0.05_AnnotThresh0.5/checkpoint-134106/pytorch_model.bin\n"
     ]
    },
    {
     "name": "stderr",
     "output_type": "stream",
     "text": [
      "Deleting older checkpoint [saved_models/XLNetDepr-3_256_8-ALL_NA-PEL-BS1-GWS_PCC_IT192_DH_3LALPHA10_NZ20_PNTh0.05_AnnotThresh0.5/checkpoint-102176] due to args.save_total_limit\n"
     ]
    },
    {
     "name": "stderr",
     "output_type": "stream",
     "text": [
      "***** Running Evaluation *****\n"
     ]
    },
    {
     "name": "stderr",
     "output_type": "stream",
     "text": [
      "  Num examples = 1592\n"
     ]
    },
    {
     "name": "stderr",
     "output_type": "stream",
     "text": [
      "  Batch size = 1\n"
     ]
    },
    {
     "name": "stderr",
     "output_type": "stream",
     "text": [
      "Saving model checkpoint to saved_models/XLNetDepr-3_256_8-ALL_NA-PEL-BS1-GWS_PCC_IT192_DH_3LALPHA10_NZ20_PNTh0.05_AnnotThresh0.5/checkpoint-140492\n"
     ]
    },
    {
     "name": "stderr",
     "output_type": "stream",
     "text": [
      "Configuration saved in saved_models/XLNetDepr-3_256_8-ALL_NA-PEL-BS1-GWS_PCC_IT192_DH_3LALPHA10_NZ20_PNTh0.05_AnnotThresh0.5/checkpoint-140492/config.json\n"
     ]
    },
    {
     "name": "stderr",
     "output_type": "stream",
     "text": [
      "Model weights saved in saved_models/XLNetDepr-3_256_8-ALL_NA-PEL-BS1-GWS_PCC_IT192_DH_3LALPHA10_NZ20_PNTh0.05_AnnotThresh0.5/checkpoint-140492/pytorch_model.bin\n"
     ]
    },
    {
     "name": "stderr",
     "output_type": "stream",
     "text": [
      "Deleting older checkpoint [saved_models/XLNetDepr-3_256_8-ALL_NA-PEL-BS1-GWS_PCC_IT192_DH_3LALPHA10_NZ20_PNTh0.05_AnnotThresh0.5/checkpoint-114948] due to args.save_total_limit\n"
     ]
    },
    {
     "name": "stderr",
     "output_type": "stream",
     "text": [
      "***** Running Evaluation *****\n"
     ]
    },
    {
     "name": "stderr",
     "output_type": "stream",
     "text": [
      "  Num examples = 1592\n"
     ]
    },
    {
     "name": "stderr",
     "output_type": "stream",
     "text": [
      "  Batch size = 1\n"
     ]
    },
    {
     "name": "stderr",
     "output_type": "stream",
     "text": [
      "Saving model checkpoint to saved_models/XLNetDepr-3_256_8-ALL_NA-PEL-BS1-GWS_PCC_IT192_DH_3LALPHA10_NZ20_PNTh0.05_AnnotThresh0.5/checkpoint-146878\n"
     ]
    },
    {
     "name": "stderr",
     "output_type": "stream",
     "text": [
      "Configuration saved in saved_models/XLNetDepr-3_256_8-ALL_NA-PEL-BS1-GWS_PCC_IT192_DH_3LALPHA10_NZ20_PNTh0.05_AnnotThresh0.5/checkpoint-146878/config.json\n"
     ]
    },
    {
     "name": "stderr",
     "output_type": "stream",
     "text": [
      "Model weights saved in saved_models/XLNetDepr-3_256_8-ALL_NA-PEL-BS1-GWS_PCC_IT192_DH_3LALPHA10_NZ20_PNTh0.05_AnnotThresh0.5/checkpoint-146878/pytorch_model.bin\n"
     ]
    },
    {
     "name": "stderr",
     "output_type": "stream",
     "text": [
      "Deleting older checkpoint [saved_models/XLNetDepr-3_256_8-ALL_NA-PEL-BS1-GWS_PCC_IT192_DH_3LALPHA10_NZ20_PNTh0.05_AnnotThresh0.5/checkpoint-121334] due to args.save_total_limit\n"
     ]
    },
    {
     "name": "stderr",
     "output_type": "stream",
     "text": [
      "***** Running Evaluation *****\n"
     ]
    },
    {
     "name": "stderr",
     "output_type": "stream",
     "text": [
      "  Num examples = 1592\n"
     ]
    },
    {
     "name": "stderr",
     "output_type": "stream",
     "text": [
      "  Batch size = 1\n"
     ]
    },
    {
     "name": "stderr",
     "output_type": "stream",
     "text": [
      "Saving model checkpoint to saved_models/XLNetDepr-3_256_8-ALL_NA-PEL-BS1-GWS_PCC_IT192_DH_3LALPHA10_NZ20_PNTh0.05_AnnotThresh0.5/checkpoint-153264\n"
     ]
    },
    {
     "name": "stderr",
     "output_type": "stream",
     "text": [
      "Configuration saved in saved_models/XLNetDepr-3_256_8-ALL_NA-PEL-BS1-GWS_PCC_IT192_DH_3LALPHA10_NZ20_PNTh0.05_AnnotThresh0.5/checkpoint-153264/config.json\n"
     ]
    },
    {
     "name": "stderr",
     "output_type": "stream",
     "text": [
      "Model weights saved in saved_models/XLNetDepr-3_256_8-ALL_NA-PEL-BS1-GWS_PCC_IT192_DH_3LALPHA10_NZ20_PNTh0.05_AnnotThresh0.5/checkpoint-153264/pytorch_model.bin\n"
     ]
    },
    {
     "name": "stderr",
     "output_type": "stream",
     "text": [
      "Deleting older checkpoint [saved_models/XLNetDepr-3_256_8-ALL_NA-PEL-BS1-GWS_PCC_IT192_DH_3LALPHA10_NZ20_PNTh0.05_AnnotThresh0.5/checkpoint-127720] due to args.save_total_limit\n"
     ]
    },
    {
     "name": "stderr",
     "output_type": "stream",
     "text": [
      "***** Running Evaluation *****\n"
     ]
    },
    {
     "name": "stderr",
     "output_type": "stream",
     "text": [
      "  Num examples = 1592\n"
     ]
    },
    {
     "name": "stderr",
     "output_type": "stream",
     "text": [
      "  Batch size = 1\n"
     ]
    },
    {
     "name": "stderr",
     "output_type": "stream",
     "text": [
      "Saving model checkpoint to saved_models/XLNetDepr-3_256_8-ALL_NA-PEL-BS1-GWS_PCC_IT192_DH_3LALPHA10_NZ20_PNTh0.05_AnnotThresh0.5/checkpoint-159650\n"
     ]
    },
    {
     "name": "stderr",
     "output_type": "stream",
     "text": [
      "Configuration saved in saved_models/XLNetDepr-3_256_8-ALL_NA-PEL-BS1-GWS_PCC_IT192_DH_3LALPHA10_NZ20_PNTh0.05_AnnotThresh0.5/checkpoint-159650/config.json\n"
     ]
    },
    {
     "name": "stderr",
     "output_type": "stream",
     "text": [
      "Model weights saved in saved_models/XLNetDepr-3_256_8-ALL_NA-PEL-BS1-GWS_PCC_IT192_DH_3LALPHA10_NZ20_PNTh0.05_AnnotThresh0.5/checkpoint-159650/pytorch_model.bin\n"
     ]
    },
    {
     "name": "stderr",
     "output_type": "stream",
     "text": [
      "Deleting older checkpoint [saved_models/XLNetDepr-3_256_8-ALL_NA-PEL-BS1-GWS_PCC_IT192_DH_3LALPHA10_NZ20_PNTh0.05_AnnotThresh0.5/checkpoint-134106] due to args.save_total_limit\n"
     ]
    },
    {
     "name": "stderr",
     "output_type": "stream",
     "text": [
      "***** Running Evaluation *****\n"
     ]
    },
    {
     "name": "stderr",
     "output_type": "stream",
     "text": [
      "  Num examples = 1592\n"
     ]
    },
    {
     "name": "stderr",
     "output_type": "stream",
     "text": [
      "  Batch size = 1\n"
     ]
    },
    {
     "name": "stderr",
     "output_type": "stream",
     "text": [
      "Saving model checkpoint to saved_models/XLNetDepr-3_256_8-ALL_NA-PEL-BS1-GWS_PCC_IT192_DH_3LALPHA10_NZ20_PNTh0.05_AnnotThresh0.5/checkpoint-166036\n"
     ]
    },
    {
     "name": "stderr",
     "output_type": "stream",
     "text": [
      "Configuration saved in saved_models/XLNetDepr-3_256_8-ALL_NA-PEL-BS1-GWS_PCC_IT192_DH_3LALPHA10_NZ20_PNTh0.05_AnnotThresh0.5/checkpoint-166036/config.json\n"
     ]
    },
    {
     "name": "stderr",
     "output_type": "stream",
     "text": [
      "Model weights saved in saved_models/XLNetDepr-3_256_8-ALL_NA-PEL-BS1-GWS_PCC_IT192_DH_3LALPHA10_NZ20_PNTh0.05_AnnotThresh0.5/checkpoint-166036/pytorch_model.bin\n"
     ]
    },
    {
     "name": "stderr",
     "output_type": "stream",
     "text": [
      "Deleting older checkpoint [saved_models/XLNetDepr-3_256_8-ALL_NA-PEL-BS1-GWS_PCC_IT192_DH_3LALPHA10_NZ20_PNTh0.05_AnnotThresh0.5/checkpoint-140492] due to args.save_total_limit\n"
     ]
    },
    {
     "name": "stderr",
     "output_type": "stream",
     "text": [
      "***** Running Evaluation *****\n"
     ]
    },
    {
     "name": "stderr",
     "output_type": "stream",
     "text": [
      "  Num examples = 1592\n"
     ]
    },
    {
     "name": "stderr",
     "output_type": "stream",
     "text": [
      "  Batch size = 1\n"
     ]
    },
    {
     "name": "stderr",
     "output_type": "stream",
     "text": [
      "Saving model checkpoint to saved_models/XLNetDepr-3_256_8-ALL_NA-PEL-BS1-GWS_PCC_IT192_DH_3LALPHA10_NZ20_PNTh0.05_AnnotThresh0.5/checkpoint-172422\n"
     ]
    },
    {
     "name": "stderr",
     "output_type": "stream",
     "text": [
      "Configuration saved in saved_models/XLNetDepr-3_256_8-ALL_NA-PEL-BS1-GWS_PCC_IT192_DH_3LALPHA10_NZ20_PNTh0.05_AnnotThresh0.5/checkpoint-172422/config.json\n"
     ]
    },
    {
     "name": "stderr",
     "output_type": "stream",
     "text": [
      "Model weights saved in saved_models/XLNetDepr-3_256_8-ALL_NA-PEL-BS1-GWS_PCC_IT192_DH_3LALPHA10_NZ20_PNTh0.05_AnnotThresh0.5/checkpoint-172422/pytorch_model.bin\n"
     ]
    },
    {
     "name": "stderr",
     "output_type": "stream",
     "text": [
      "Deleting older checkpoint [saved_models/XLNetDepr-3_256_8-ALL_NA-PEL-BS1-GWS_PCC_IT192_DH_3LALPHA10_NZ20_PNTh0.05_AnnotThresh0.5/checkpoint-108562] due to args.save_total_limit\n"
     ]
    },
    {
     "name": "stderr",
     "output_type": "stream",
     "text": [
      "***** Running Evaluation *****\n"
     ]
    },
    {
     "name": "stderr",
     "output_type": "stream",
     "text": [
      "  Num examples = 1592\n"
     ]
    },
    {
     "name": "stderr",
     "output_type": "stream",
     "text": [
      "  Batch size = 1\n"
     ]
    },
    {
     "name": "stderr",
     "output_type": "stream",
     "text": [
      "Saving model checkpoint to saved_models/XLNetDepr-3_256_8-ALL_NA-PEL-BS1-GWS_PCC_IT192_DH_3LALPHA10_NZ20_PNTh0.05_AnnotThresh0.5/checkpoint-178808\n"
     ]
    },
    {
     "name": "stderr",
     "output_type": "stream",
     "text": [
      "Configuration saved in saved_models/XLNetDepr-3_256_8-ALL_NA-PEL-BS1-GWS_PCC_IT192_DH_3LALPHA10_NZ20_PNTh0.05_AnnotThresh0.5/checkpoint-178808/config.json\n"
     ]
    },
    {
     "name": "stderr",
     "output_type": "stream",
     "text": [
      "Model weights saved in saved_models/XLNetDepr-3_256_8-ALL_NA-PEL-BS1-GWS_PCC_IT192_DH_3LALPHA10_NZ20_PNTh0.05_AnnotThresh0.5/checkpoint-178808/pytorch_model.bin\n"
     ]
    },
    {
     "name": "stderr",
     "output_type": "stream",
     "text": [
      "Deleting older checkpoint [saved_models/XLNetDepr-3_256_8-ALL_NA-PEL-BS1-GWS_PCC_IT192_DH_3LALPHA10_NZ20_PNTh0.05_AnnotThresh0.5/checkpoint-146878] due to args.save_total_limit\n"
     ]
    },
    {
     "name": "stderr",
     "output_type": "stream",
     "text": [
      "***** Running Evaluation *****\n"
     ]
    },
    {
     "name": "stderr",
     "output_type": "stream",
     "text": [
      "  Num examples = 1592\n"
     ]
    },
    {
     "name": "stderr",
     "output_type": "stream",
     "text": [
      "  Batch size = 1\n"
     ]
    },
    {
     "name": "stderr",
     "output_type": "stream",
     "text": [
      "Saving model checkpoint to saved_models/XLNetDepr-3_256_8-ALL_NA-PEL-BS1-GWS_PCC_IT192_DH_3LALPHA10_NZ20_PNTh0.05_AnnotThresh0.5/checkpoint-185194\n"
     ]
    },
    {
     "name": "stderr",
     "output_type": "stream",
     "text": [
      "Configuration saved in saved_models/XLNetDepr-3_256_8-ALL_NA-PEL-BS1-GWS_PCC_IT192_DH_3LALPHA10_NZ20_PNTh0.05_AnnotThresh0.5/checkpoint-185194/config.json\n"
     ]
    },
    {
     "name": "stderr",
     "output_type": "stream",
     "text": [
      "Model weights saved in saved_models/XLNetDepr-3_256_8-ALL_NA-PEL-BS1-GWS_PCC_IT192_DH_3LALPHA10_NZ20_PNTh0.05_AnnotThresh0.5/checkpoint-185194/pytorch_model.bin\n"
     ]
    },
    {
     "name": "stderr",
     "output_type": "stream",
     "text": [
      "Deleting older checkpoint [saved_models/XLNetDepr-3_256_8-ALL_NA-PEL-BS1-GWS_PCC_IT192_DH_3LALPHA10_NZ20_PNTh0.05_AnnotThresh0.5/checkpoint-153264] due to args.save_total_limit\n"
     ]
    },
    {
     "name": "stderr",
     "output_type": "stream",
     "text": [
      "***** Running Evaluation *****\n"
     ]
    },
    {
     "name": "stderr",
     "output_type": "stream",
     "text": [
      "  Num examples = 1592\n"
     ]
    },
    {
     "name": "stderr",
     "output_type": "stream",
     "text": [
      "  Batch size = 1\n"
     ]
    },
    {
     "name": "stderr",
     "output_type": "stream",
     "text": [
      "Saving model checkpoint to saved_models/XLNetDepr-3_256_8-ALL_NA-PEL-BS1-GWS_PCC_IT192_DH_3LALPHA10_NZ20_PNTh0.05_AnnotThresh0.5/checkpoint-191580\n"
     ]
    },
    {
     "name": "stderr",
     "output_type": "stream",
     "text": [
      "Configuration saved in saved_models/XLNetDepr-3_256_8-ALL_NA-PEL-BS1-GWS_PCC_IT192_DH_3LALPHA10_NZ20_PNTh0.05_AnnotThresh0.5/checkpoint-191580/config.json\n"
     ]
    },
    {
     "name": "stderr",
     "output_type": "stream",
     "text": [
      "Model weights saved in saved_models/XLNetDepr-3_256_8-ALL_NA-PEL-BS1-GWS_PCC_IT192_DH_3LALPHA10_NZ20_PNTh0.05_AnnotThresh0.5/checkpoint-191580/pytorch_model.bin\n"
     ]
    },
    {
     "name": "stderr",
     "output_type": "stream",
     "text": [
      "Deleting older checkpoint [saved_models/XLNetDepr-3_256_8-ALL_NA-PEL-BS1-GWS_PCC_IT192_DH_3LALPHA10_NZ20_PNTh0.05_AnnotThresh0.5/checkpoint-159650] due to args.save_total_limit\n"
     ]
    },
    {
     "name": "stderr",
     "output_type": "stream",
     "text": [
      "***** Running Evaluation *****\n"
     ]
    },
    {
     "name": "stderr",
     "output_type": "stream",
     "text": [
      "  Num examples = 1592\n"
     ]
    },
    {
     "name": "stderr",
     "output_type": "stream",
     "text": [
      "  Batch size = 1\n"
     ]
    },
    {
     "name": "stderr",
     "output_type": "stream",
     "text": [
      "Saving model checkpoint to saved_models/XLNetDepr-3_256_8-ALL_NA-PEL-BS1-GWS_PCC_IT192_DH_3LALPHA10_NZ20_PNTh0.05_AnnotThresh0.5/checkpoint-197966\n"
     ]
    },
    {
     "name": "stderr",
     "output_type": "stream",
     "text": [
      "Configuration saved in saved_models/XLNetDepr-3_256_8-ALL_NA-PEL-BS1-GWS_PCC_IT192_DH_3LALPHA10_NZ20_PNTh0.05_AnnotThresh0.5/checkpoint-197966/config.json\n"
     ]
    },
    {
     "name": "stderr",
     "output_type": "stream",
     "text": [
      "Model weights saved in saved_models/XLNetDepr-3_256_8-ALL_NA-PEL-BS1-GWS_PCC_IT192_DH_3LALPHA10_NZ20_PNTh0.05_AnnotThresh0.5/checkpoint-197966/pytorch_model.bin\n"
     ]
    },
    {
     "name": "stderr",
     "output_type": "stream",
     "text": [
      "Deleting older checkpoint [saved_models/XLNetDepr-3_256_8-ALL_NA-PEL-BS1-GWS_PCC_IT192_DH_3LALPHA10_NZ20_PNTh0.05_AnnotThresh0.5/checkpoint-166036] due to args.save_total_limit\n"
     ]
    },
    {
     "name": "stderr",
     "output_type": "stream",
     "text": [
      "***** Running Evaluation *****\n"
     ]
    },
    {
     "name": "stderr",
     "output_type": "stream",
     "text": [
      "  Num examples = 1592\n"
     ]
    },
    {
     "name": "stderr",
     "output_type": "stream",
     "text": [
      "  Batch size = 1\n"
     ]
    },
    {
     "name": "stderr",
     "output_type": "stream",
     "text": [
      "Saving model checkpoint to saved_models/XLNetDepr-3_256_8-ALL_NA-PEL-BS1-GWS_PCC_IT192_DH_3LALPHA10_NZ20_PNTh0.05_AnnotThresh0.5/checkpoint-204352\n"
     ]
    },
    {
     "name": "stderr",
     "output_type": "stream",
     "text": [
      "Configuration saved in saved_models/XLNetDepr-3_256_8-ALL_NA-PEL-BS1-GWS_PCC_IT192_DH_3LALPHA10_NZ20_PNTh0.05_AnnotThresh0.5/checkpoint-204352/config.json\n"
     ]
    },
    {
     "name": "stderr",
     "output_type": "stream",
     "text": [
      "Model weights saved in saved_models/XLNetDepr-3_256_8-ALL_NA-PEL-BS1-GWS_PCC_IT192_DH_3LALPHA10_NZ20_PNTh0.05_AnnotThresh0.5/checkpoint-204352/pytorch_model.bin\n"
     ]
    },
    {
     "name": "stderr",
     "output_type": "stream",
     "text": [
      "Deleting older checkpoint [saved_models/XLNetDepr-3_256_8-ALL_NA-PEL-BS1-GWS_PCC_IT192_DH_3LALPHA10_NZ20_PNTh0.05_AnnotThresh0.5/checkpoint-172422] due to args.save_total_limit\n"
     ]
    },
    {
     "name": "stderr",
     "output_type": "stream",
     "text": [
      "***** Running Evaluation *****\n"
     ]
    },
    {
     "name": "stderr",
     "output_type": "stream",
     "text": [
      "  Num examples = 1592\n"
     ]
    },
    {
     "name": "stderr",
     "output_type": "stream",
     "text": [
      "  Batch size = 1\n"
     ]
    },
    {
     "name": "stderr",
     "output_type": "stream",
     "text": [
      "Saving model checkpoint to saved_models/XLNetDepr-3_256_8-ALL_NA-PEL-BS1-GWS_PCC_IT192_DH_3LALPHA10_NZ20_PNTh0.05_AnnotThresh0.5/checkpoint-210738\n"
     ]
    },
    {
     "name": "stderr",
     "output_type": "stream",
     "text": [
      "Configuration saved in saved_models/XLNetDepr-3_256_8-ALL_NA-PEL-BS1-GWS_PCC_IT192_DH_3LALPHA10_NZ20_PNTh0.05_AnnotThresh0.5/checkpoint-210738/config.json\n"
     ]
    },
    {
     "name": "stderr",
     "output_type": "stream",
     "text": [
      "Model weights saved in saved_models/XLNetDepr-3_256_8-ALL_NA-PEL-BS1-GWS_PCC_IT192_DH_3LALPHA10_NZ20_PNTh0.05_AnnotThresh0.5/checkpoint-210738/pytorch_model.bin\n"
     ]
    },
    {
     "name": "stderr",
     "output_type": "stream",
     "text": [
      "Deleting older checkpoint [saved_models/XLNetDepr-3_256_8-ALL_NA-PEL-BS1-GWS_PCC_IT192_DH_3LALPHA10_NZ20_PNTh0.05_AnnotThresh0.5/checkpoint-178808] due to args.save_total_limit\n"
     ]
    },
    {
     "name": "stderr",
     "output_type": "stream",
     "text": [
      "***** Running Evaluation *****\n"
     ]
    },
    {
     "name": "stderr",
     "output_type": "stream",
     "text": [
      "  Num examples = 1592\n"
     ]
    },
    {
     "name": "stderr",
     "output_type": "stream",
     "text": [
      "  Batch size = 1\n"
     ]
    },
    {
     "name": "stderr",
     "output_type": "stream",
     "text": [
      "Saving model checkpoint to saved_models/XLNetDepr-3_256_8-ALL_NA-PEL-BS1-GWS_PCC_IT192_DH_3LALPHA10_NZ20_PNTh0.05_AnnotThresh0.5/checkpoint-217124\n"
     ]
    },
    {
     "name": "stderr",
     "output_type": "stream",
     "text": [
      "Configuration saved in saved_models/XLNetDepr-3_256_8-ALL_NA-PEL-BS1-GWS_PCC_IT192_DH_3LALPHA10_NZ20_PNTh0.05_AnnotThresh0.5/checkpoint-217124/config.json\n"
     ]
    },
    {
     "name": "stderr",
     "output_type": "stream",
     "text": [
      "Model weights saved in saved_models/XLNetDepr-3_256_8-ALL_NA-PEL-BS1-GWS_PCC_IT192_DH_3LALPHA10_NZ20_PNTh0.05_AnnotThresh0.5/checkpoint-217124/pytorch_model.bin\n"
     ]
    },
    {
     "name": "stderr",
     "output_type": "stream",
     "text": [
      "Deleting older checkpoint [saved_models/XLNetDepr-3_256_8-ALL_NA-PEL-BS1-GWS_PCC_IT192_DH_3LALPHA10_NZ20_PNTh0.05_AnnotThresh0.5/checkpoint-185194] due to args.save_total_limit\n"
     ]
    },
    {
     "name": "stderr",
     "output_type": "stream",
     "text": [
      "***** Running Evaluation *****\n"
     ]
    },
    {
     "name": "stderr",
     "output_type": "stream",
     "text": [
      "  Num examples = 1592\n"
     ]
    },
    {
     "name": "stderr",
     "output_type": "stream",
     "text": [
      "  Batch size = 1\n"
     ]
    },
    {
     "name": "stderr",
     "output_type": "stream",
     "text": [
      "Saving model checkpoint to saved_models/XLNetDepr-3_256_8-ALL_NA-PEL-BS1-GWS_PCC_IT192_DH_3LALPHA10_NZ20_PNTh0.05_AnnotThresh0.5/checkpoint-223510\n"
     ]
    },
    {
     "name": "stderr",
     "output_type": "stream",
     "text": [
      "Configuration saved in saved_models/XLNetDepr-3_256_8-ALL_NA-PEL-BS1-GWS_PCC_IT192_DH_3LALPHA10_NZ20_PNTh0.05_AnnotThresh0.5/checkpoint-223510/config.json\n"
     ]
    },
    {
     "name": "stderr",
     "output_type": "stream",
     "text": [
      "Model weights saved in saved_models/XLNetDepr-3_256_8-ALL_NA-PEL-BS1-GWS_PCC_IT192_DH_3LALPHA10_NZ20_PNTh0.05_AnnotThresh0.5/checkpoint-223510/pytorch_model.bin\n"
     ]
    },
    {
     "name": "stderr",
     "output_type": "stream",
     "text": [
      "Deleting older checkpoint [saved_models/XLNetDepr-3_256_8-ALL_NA-PEL-BS1-GWS_PCC_IT192_DH_3LALPHA10_NZ20_PNTh0.05_AnnotThresh0.5/checkpoint-191580] due to args.save_total_limit\n"
     ]
    },
    {
     "name": "stderr",
     "output_type": "stream",
     "text": [
      "***** Running Evaluation *****\n"
     ]
    },
    {
     "name": "stderr",
     "output_type": "stream",
     "text": [
      "  Num examples = 1592\n"
     ]
    },
    {
     "name": "stderr",
     "output_type": "stream",
     "text": [
      "  Batch size = 1\n"
     ]
    },
    {
     "name": "stderr",
     "output_type": "stream",
     "text": [
      "Saving model checkpoint to saved_models/XLNetDepr-3_256_8-ALL_NA-PEL-BS1-GWS_PCC_IT192_DH_3LALPHA10_NZ20_PNTh0.05_AnnotThresh0.5/checkpoint-229896\n"
     ]
    },
    {
     "name": "stderr",
     "output_type": "stream",
     "text": [
      "Configuration saved in saved_models/XLNetDepr-3_256_8-ALL_NA-PEL-BS1-GWS_PCC_IT192_DH_3LALPHA10_NZ20_PNTh0.05_AnnotThresh0.5/checkpoint-229896/config.json\n"
     ]
    },
    {
     "name": "stderr",
     "output_type": "stream",
     "text": [
      "Model weights saved in saved_models/XLNetDepr-3_256_8-ALL_NA-PEL-BS1-GWS_PCC_IT192_DH_3LALPHA10_NZ20_PNTh0.05_AnnotThresh0.5/checkpoint-229896/pytorch_model.bin\n"
     ]
    },
    {
     "name": "stderr",
     "output_type": "stream",
     "text": [
      "Deleting older checkpoint [saved_models/XLNetDepr-3_256_8-ALL_NA-PEL-BS1-GWS_PCC_IT192_DH_3LALPHA10_NZ20_PNTh0.05_AnnotThresh0.5/checkpoint-197966] due to args.save_total_limit\n"
     ]
    },
    {
     "name": "stderr",
     "output_type": "stream",
     "text": [
      "***** Running Evaluation *****\n"
     ]
    },
    {
     "name": "stderr",
     "output_type": "stream",
     "text": [
      "  Num examples = 1592\n"
     ]
    },
    {
     "name": "stderr",
     "output_type": "stream",
     "text": [
      "  Batch size = 1\n"
     ]
    },
    {
     "name": "stderr",
     "output_type": "stream",
     "text": [
      "Saving model checkpoint to saved_models/XLNetDepr-3_256_8-ALL_NA-PEL-BS1-GWS_PCC_IT192_DH_3LALPHA10_NZ20_PNTh0.05_AnnotThresh0.5/checkpoint-236282\n"
     ]
    },
    {
     "name": "stderr",
     "output_type": "stream",
     "text": [
      "Configuration saved in saved_models/XLNetDepr-3_256_8-ALL_NA-PEL-BS1-GWS_PCC_IT192_DH_3LALPHA10_NZ20_PNTh0.05_AnnotThresh0.5/checkpoint-236282/config.json\n"
     ]
    },
    {
     "name": "stderr",
     "output_type": "stream",
     "text": [
      "Model weights saved in saved_models/XLNetDepr-3_256_8-ALL_NA-PEL-BS1-GWS_PCC_IT192_DH_3LALPHA10_NZ20_PNTh0.05_AnnotThresh0.5/checkpoint-236282/pytorch_model.bin\n"
     ]
    },
    {
     "name": "stderr",
     "output_type": "stream",
     "text": [
      "Deleting older checkpoint [saved_models/XLNetDepr-3_256_8-ALL_NA-PEL-BS1-GWS_PCC_IT192_DH_3LALPHA10_NZ20_PNTh0.05_AnnotThresh0.5/checkpoint-204352] due to args.save_total_limit\n"
     ]
    },
    {
     "name": "stderr",
     "output_type": "stream",
     "text": [
      "***** Running Evaluation *****\n"
     ]
    },
    {
     "name": "stderr",
     "output_type": "stream",
     "text": [
      "  Num examples = 1592\n"
     ]
    },
    {
     "name": "stderr",
     "output_type": "stream",
     "text": [
      "  Batch size = 1\n"
     ]
    },
    {
     "name": "stderr",
     "output_type": "stream",
     "text": [
      "Saving model checkpoint to saved_models/XLNetDepr-3_256_8-ALL_NA-PEL-BS1-GWS_PCC_IT192_DH_3LALPHA10_NZ20_PNTh0.05_AnnotThresh0.5/checkpoint-242668\n"
     ]
    },
    {
     "name": "stderr",
     "output_type": "stream",
     "text": [
      "Configuration saved in saved_models/XLNetDepr-3_256_8-ALL_NA-PEL-BS1-GWS_PCC_IT192_DH_3LALPHA10_NZ20_PNTh0.05_AnnotThresh0.5/checkpoint-242668/config.json\n"
     ]
    },
    {
     "name": "stderr",
     "output_type": "stream",
     "text": [
      "Model weights saved in saved_models/XLNetDepr-3_256_8-ALL_NA-PEL-BS1-GWS_PCC_IT192_DH_3LALPHA10_NZ20_PNTh0.05_AnnotThresh0.5/checkpoint-242668/pytorch_model.bin\n"
     ]
    },
    {
     "name": "stderr",
     "output_type": "stream",
     "text": [
      "Deleting older checkpoint [saved_models/XLNetDepr-3_256_8-ALL_NA-PEL-BS1-GWS_PCC_IT192_DH_3LALPHA10_NZ20_PNTh0.05_AnnotThresh0.5/checkpoint-210738] due to args.save_total_limit\n"
     ]
    },
    {
     "name": "stderr",
     "output_type": "stream",
     "text": [
      "***** Running Evaluation *****\n"
     ]
    },
    {
     "name": "stderr",
     "output_type": "stream",
     "text": [
      "  Num examples = 1592\n"
     ]
    },
    {
     "name": "stderr",
     "output_type": "stream",
     "text": [
      "  Batch size = 1\n"
     ]
    },
    {
     "name": "stderr",
     "output_type": "stream",
     "text": [
      "Saving model checkpoint to saved_models/XLNetDepr-3_256_8-ALL_NA-PEL-BS1-GWS_PCC_IT192_DH_3LALPHA10_NZ20_PNTh0.05_AnnotThresh0.5/checkpoint-249054\n"
     ]
    },
    {
     "name": "stderr",
     "output_type": "stream",
     "text": [
      "Configuration saved in saved_models/XLNetDepr-3_256_8-ALL_NA-PEL-BS1-GWS_PCC_IT192_DH_3LALPHA10_NZ20_PNTh0.05_AnnotThresh0.5/checkpoint-249054/config.json\n"
     ]
    },
    {
     "name": "stderr",
     "output_type": "stream",
     "text": [
      "Model weights saved in saved_models/XLNetDepr-3_256_8-ALL_NA-PEL-BS1-GWS_PCC_IT192_DH_3LALPHA10_NZ20_PNTh0.05_AnnotThresh0.5/checkpoint-249054/pytorch_model.bin\n"
     ]
    },
    {
     "name": "stderr",
     "output_type": "stream",
     "text": [
      "Deleting older checkpoint [saved_models/XLNetDepr-3_256_8-ALL_NA-PEL-BS1-GWS_PCC_IT192_DH_3LALPHA10_NZ20_PNTh0.05_AnnotThresh0.5/checkpoint-217124] due to args.save_total_limit\n"
     ]
    },
    {
     "name": "stderr",
     "output_type": "stream",
     "text": [
      "***** Running Evaluation *****\n"
     ]
    },
    {
     "name": "stderr",
     "output_type": "stream",
     "text": [
      "  Num examples = 1592\n"
     ]
    },
    {
     "name": "stderr",
     "output_type": "stream",
     "text": [
      "  Batch size = 1\n"
     ]
    },
    {
     "name": "stderr",
     "output_type": "stream",
     "text": [
      "Saving model checkpoint to saved_models/XLNetDepr-3_256_8-ALL_NA-PEL-BS1-GWS_PCC_IT192_DH_3LALPHA10_NZ20_PNTh0.05_AnnotThresh0.5/checkpoint-255440\n"
     ]
    },
    {
     "name": "stderr",
     "output_type": "stream",
     "text": [
      "Configuration saved in saved_models/XLNetDepr-3_256_8-ALL_NA-PEL-BS1-GWS_PCC_IT192_DH_3LALPHA10_NZ20_PNTh0.05_AnnotThresh0.5/checkpoint-255440/config.json\n"
     ]
    },
    {
     "name": "stderr",
     "output_type": "stream",
     "text": [
      "Model weights saved in saved_models/XLNetDepr-3_256_8-ALL_NA-PEL-BS1-GWS_PCC_IT192_DH_3LALPHA10_NZ20_PNTh0.05_AnnotThresh0.5/checkpoint-255440/pytorch_model.bin\n"
     ]
    },
    {
     "name": "stderr",
     "output_type": "stream",
     "text": [
      "Deleting older checkpoint [saved_models/XLNetDepr-3_256_8-ALL_NA-PEL-BS1-GWS_PCC_IT192_DH_3LALPHA10_NZ20_PNTh0.05_AnnotThresh0.5/checkpoint-223510] due to args.save_total_limit\n"
     ]
    },
    {
     "name": "stderr",
     "output_type": "stream",
     "text": [
      "***** Running Evaluation *****\n"
     ]
    },
    {
     "name": "stderr",
     "output_type": "stream",
     "text": [
      "  Num examples = 1592\n"
     ]
    },
    {
     "name": "stderr",
     "output_type": "stream",
     "text": [
      "  Batch size = 1\n"
     ]
    },
    {
     "name": "stderr",
     "output_type": "stream",
     "text": [
      "Saving model checkpoint to saved_models/XLNetDepr-3_256_8-ALL_NA-PEL-BS1-GWS_PCC_IT192_DH_3LALPHA10_NZ20_PNTh0.05_AnnotThresh0.5/checkpoint-261826\n"
     ]
    },
    {
     "name": "stderr",
     "output_type": "stream",
     "text": [
      "Configuration saved in saved_models/XLNetDepr-3_256_8-ALL_NA-PEL-BS1-GWS_PCC_IT192_DH_3LALPHA10_NZ20_PNTh0.05_AnnotThresh0.5/checkpoint-261826/config.json\n"
     ]
    },
    {
     "name": "stderr",
     "output_type": "stream",
     "text": [
      "Model weights saved in saved_models/XLNetDepr-3_256_8-ALL_NA-PEL-BS1-GWS_PCC_IT192_DH_3LALPHA10_NZ20_PNTh0.05_AnnotThresh0.5/checkpoint-261826/pytorch_model.bin\n"
     ]
    },
    {
     "name": "stderr",
     "output_type": "stream",
     "text": [
      "Deleting older checkpoint [saved_models/XLNetDepr-3_256_8-ALL_NA-PEL-BS1-GWS_PCC_IT192_DH_3LALPHA10_NZ20_PNTh0.05_AnnotThresh0.5/checkpoint-229896] due to args.save_total_limit\n"
     ]
    },
    {
     "name": "stderr",
     "output_type": "stream",
     "text": [
      "***** Running Evaluation *****\n"
     ]
    },
    {
     "name": "stderr",
     "output_type": "stream",
     "text": [
      "  Num examples = 1592\n"
     ]
    },
    {
     "name": "stderr",
     "output_type": "stream",
     "text": [
      "  Batch size = 1\n"
     ]
    },
    {
     "name": "stderr",
     "output_type": "stream",
     "text": [
      "Saving model checkpoint to saved_models/XLNetDepr-3_256_8-ALL_NA-PEL-BS1-GWS_PCC_IT192_DH_3LALPHA10_NZ20_PNTh0.05_AnnotThresh0.5/checkpoint-268212\n"
     ]
    },
    {
     "name": "stderr",
     "output_type": "stream",
     "text": [
      "Configuration saved in saved_models/XLNetDepr-3_256_8-ALL_NA-PEL-BS1-GWS_PCC_IT192_DH_3LALPHA10_NZ20_PNTh0.05_AnnotThresh0.5/checkpoint-268212/config.json\n"
     ]
    },
    {
     "name": "stderr",
     "output_type": "stream",
     "text": [
      "Model weights saved in saved_models/XLNetDepr-3_256_8-ALL_NA-PEL-BS1-GWS_PCC_IT192_DH_3LALPHA10_NZ20_PNTh0.05_AnnotThresh0.5/checkpoint-268212/pytorch_model.bin\n"
     ]
    },
    {
     "name": "stderr",
     "output_type": "stream",
     "text": [
      "Deleting older checkpoint [saved_models/XLNetDepr-3_256_8-ALL_NA-PEL-BS1-GWS_PCC_IT192_DH_3LALPHA10_NZ20_PNTh0.05_AnnotThresh0.5/checkpoint-236282] due to args.save_total_limit\n"
     ]
    },
    {
     "name": "stderr",
     "output_type": "stream",
     "text": [
      "***** Running Evaluation *****\n"
     ]
    },
    {
     "name": "stderr",
     "output_type": "stream",
     "text": [
      "  Num examples = 1592\n"
     ]
    },
    {
     "name": "stderr",
     "output_type": "stream",
     "text": [
      "  Batch size = 1\n"
     ]
    },
    {
     "name": "stderr",
     "output_type": "stream",
     "text": [
      "Saving model checkpoint to saved_models/XLNetDepr-3_256_8-ALL_NA-PEL-BS1-GWS_PCC_IT192_DH_3LALPHA10_NZ20_PNTh0.05_AnnotThresh0.5/checkpoint-274598\n"
     ]
    },
    {
     "name": "stderr",
     "output_type": "stream",
     "text": [
      "Configuration saved in saved_models/XLNetDepr-3_256_8-ALL_NA-PEL-BS1-GWS_PCC_IT192_DH_3LALPHA10_NZ20_PNTh0.05_AnnotThresh0.5/checkpoint-274598/config.json\n"
     ]
    },
    {
     "name": "stderr",
     "output_type": "stream",
     "text": [
      "Model weights saved in saved_models/XLNetDepr-3_256_8-ALL_NA-PEL-BS1-GWS_PCC_IT192_DH_3LALPHA10_NZ20_PNTh0.05_AnnotThresh0.5/checkpoint-274598/pytorch_model.bin\n"
     ]
    },
    {
     "name": "stderr",
     "output_type": "stream",
     "text": [
      "Deleting older checkpoint [saved_models/XLNetDepr-3_256_8-ALL_NA-PEL-BS1-GWS_PCC_IT192_DH_3LALPHA10_NZ20_PNTh0.05_AnnotThresh0.5/checkpoint-249054] due to args.save_total_limit\n"
     ]
    },
    {
     "name": "stderr",
     "output_type": "stream",
     "text": [
      "***** Running Evaluation *****\n"
     ]
    },
    {
     "name": "stderr",
     "output_type": "stream",
     "text": [
      "  Num examples = 1592\n"
     ]
    },
    {
     "name": "stderr",
     "output_type": "stream",
     "text": [
      "  Batch size = 1\n"
     ]
    },
    {
     "name": "stderr",
     "output_type": "stream",
     "text": [
      "Saving model checkpoint to saved_models/XLNetDepr-3_256_8-ALL_NA-PEL-BS1-GWS_PCC_IT192_DH_3LALPHA10_NZ20_PNTh0.05_AnnotThresh0.5/checkpoint-280984\n"
     ]
    },
    {
     "name": "stderr",
     "output_type": "stream",
     "text": [
      "Configuration saved in saved_models/XLNetDepr-3_256_8-ALL_NA-PEL-BS1-GWS_PCC_IT192_DH_3LALPHA10_NZ20_PNTh0.05_AnnotThresh0.5/checkpoint-280984/config.json\n"
     ]
    },
    {
     "name": "stderr",
     "output_type": "stream",
     "text": [
      "Model weights saved in saved_models/XLNetDepr-3_256_8-ALL_NA-PEL-BS1-GWS_PCC_IT192_DH_3LALPHA10_NZ20_PNTh0.05_AnnotThresh0.5/checkpoint-280984/pytorch_model.bin\n"
     ]
    },
    {
     "name": "stderr",
     "output_type": "stream",
     "text": [
      "Deleting older checkpoint [saved_models/XLNetDepr-3_256_8-ALL_NA-PEL-BS1-GWS_PCC_IT192_DH_3LALPHA10_NZ20_PNTh0.05_AnnotThresh0.5/checkpoint-255440] due to args.save_total_limit\n"
     ]
    },
    {
     "name": "stderr",
     "output_type": "stream",
     "text": [
      "***** Running Evaluation *****\n"
     ]
    },
    {
     "name": "stderr",
     "output_type": "stream",
     "text": [
      "  Num examples = 1592\n"
     ]
    },
    {
     "name": "stderr",
     "output_type": "stream",
     "text": [
      "  Batch size = 1\n"
     ]
    },
    {
     "name": "stderr",
     "output_type": "stream",
     "text": [
      "Saving model checkpoint to saved_models/XLNetDepr-3_256_8-ALL_NA-PEL-BS1-GWS_PCC_IT192_DH_3LALPHA10_NZ20_PNTh0.05_AnnotThresh0.5/checkpoint-287370\n"
     ]
    },
    {
     "name": "stderr",
     "output_type": "stream",
     "text": [
      "Configuration saved in saved_models/XLNetDepr-3_256_8-ALL_NA-PEL-BS1-GWS_PCC_IT192_DH_3LALPHA10_NZ20_PNTh0.05_AnnotThresh0.5/checkpoint-287370/config.json\n"
     ]
    },
    {
     "name": "stderr",
     "output_type": "stream",
     "text": [
      "Model weights saved in saved_models/XLNetDepr-3_256_8-ALL_NA-PEL-BS1-GWS_PCC_IT192_DH_3LALPHA10_NZ20_PNTh0.05_AnnotThresh0.5/checkpoint-287370/pytorch_model.bin\n"
     ]
    },
    {
     "name": "stderr",
     "output_type": "stream",
     "text": [
      "Deleting older checkpoint [saved_models/XLNetDepr-3_256_8-ALL_NA-PEL-BS1-GWS_PCC_IT192_DH_3LALPHA10_NZ20_PNTh0.05_AnnotThresh0.5/checkpoint-261826] due to args.save_total_limit\n"
     ]
    },
    {
     "name": "stderr",
     "output_type": "stream",
     "text": [
      "***** Running Evaluation *****\n"
     ]
    },
    {
     "name": "stderr",
     "output_type": "stream",
     "text": [
      "  Num examples = 1592\n"
     ]
    },
    {
     "name": "stderr",
     "output_type": "stream",
     "text": [
      "  Batch size = 1\n"
     ]
    },
    {
     "name": "stderr",
     "output_type": "stream",
     "text": [
      "Saving model checkpoint to saved_models/XLNetDepr-3_256_8-ALL_NA-PEL-BS1-GWS_PCC_IT192_DH_3LALPHA10_NZ20_PNTh0.05_AnnotThresh0.5/checkpoint-293756\n"
     ]
    },
    {
     "name": "stderr",
     "output_type": "stream",
     "text": [
      "Configuration saved in saved_models/XLNetDepr-3_256_8-ALL_NA-PEL-BS1-GWS_PCC_IT192_DH_3LALPHA10_NZ20_PNTh0.05_AnnotThresh0.5/checkpoint-293756/config.json\n"
     ]
    },
    {
     "name": "stderr",
     "output_type": "stream",
     "text": [
      "Model weights saved in saved_models/XLNetDepr-3_256_8-ALL_NA-PEL-BS1-GWS_PCC_IT192_DH_3LALPHA10_NZ20_PNTh0.05_AnnotThresh0.5/checkpoint-293756/pytorch_model.bin\n"
     ]
    },
    {
     "name": "stderr",
     "output_type": "stream",
     "text": [
      "Deleting older checkpoint [saved_models/XLNetDepr-3_256_8-ALL_NA-PEL-BS1-GWS_PCC_IT192_DH_3LALPHA10_NZ20_PNTh0.05_AnnotThresh0.5/checkpoint-268212] due to args.save_total_limit\n"
     ]
    },
    {
     "name": "stderr",
     "output_type": "stream",
     "text": [
      "***** Running Evaluation *****\n"
     ]
    },
    {
     "name": "stderr",
     "output_type": "stream",
     "text": [
      "  Num examples = 1592\n"
     ]
    },
    {
     "name": "stderr",
     "output_type": "stream",
     "text": [
      "  Batch size = 1\n"
     ]
    },
    {
     "name": "stderr",
     "output_type": "stream",
     "text": [
      "Saving model checkpoint to saved_models/XLNetDepr-3_256_8-ALL_NA-PEL-BS1-GWS_PCC_IT192_DH_3LALPHA10_NZ20_PNTh0.05_AnnotThresh0.5/checkpoint-300142\n"
     ]
    },
    {
     "name": "stderr",
     "output_type": "stream",
     "text": [
      "Configuration saved in saved_models/XLNetDepr-3_256_8-ALL_NA-PEL-BS1-GWS_PCC_IT192_DH_3LALPHA10_NZ20_PNTh0.05_AnnotThresh0.5/checkpoint-300142/config.json\n"
     ]
    },
    {
     "name": "stderr",
     "output_type": "stream",
     "text": [
      "Model weights saved in saved_models/XLNetDepr-3_256_8-ALL_NA-PEL-BS1-GWS_PCC_IT192_DH_3LALPHA10_NZ20_PNTh0.05_AnnotThresh0.5/checkpoint-300142/pytorch_model.bin\n"
     ]
    },
    {
     "name": "stderr",
     "output_type": "stream",
     "text": [
      "Deleting older checkpoint [saved_models/XLNetDepr-3_256_8-ALL_NA-PEL-BS1-GWS_PCC_IT192_DH_3LALPHA10_NZ20_PNTh0.05_AnnotThresh0.5/checkpoint-274598] due to args.save_total_limit\n"
     ]
    },
    {
     "name": "stderr",
     "output_type": "stream",
     "text": [
      "***** Running Evaluation *****\n"
     ]
    },
    {
     "name": "stderr",
     "output_type": "stream",
     "text": [
      "  Num examples = 1592\n"
     ]
    },
    {
     "name": "stderr",
     "output_type": "stream",
     "text": [
      "  Batch size = 1\n"
     ]
    },
    {
     "name": "stderr",
     "output_type": "stream",
     "text": [
      "Saving model checkpoint to saved_models/XLNetDepr-3_256_8-ALL_NA-PEL-BS1-GWS_PCC_IT192_DH_3LALPHA10_NZ20_PNTh0.05_AnnotThresh0.5/checkpoint-306528\n"
     ]
    },
    {
     "name": "stderr",
     "output_type": "stream",
     "text": [
      "Configuration saved in saved_models/XLNetDepr-3_256_8-ALL_NA-PEL-BS1-GWS_PCC_IT192_DH_3LALPHA10_NZ20_PNTh0.05_AnnotThresh0.5/checkpoint-306528/config.json\n"
     ]
    },
    {
     "name": "stderr",
     "output_type": "stream",
     "text": [
      "Model weights saved in saved_models/XLNetDepr-3_256_8-ALL_NA-PEL-BS1-GWS_PCC_IT192_DH_3LALPHA10_NZ20_PNTh0.05_AnnotThresh0.5/checkpoint-306528/pytorch_model.bin\n"
     ]
    },
    {
     "name": "stderr",
     "output_type": "stream",
     "text": [
      "Deleting older checkpoint [saved_models/XLNetDepr-3_256_8-ALL_NA-PEL-BS1-GWS_PCC_IT192_DH_3LALPHA10_NZ20_PNTh0.05_AnnotThresh0.5/checkpoint-280984] due to args.save_total_limit\n"
     ]
    },
    {
     "name": "stderr",
     "output_type": "stream",
     "text": [
      "***** Running Evaluation *****\n"
     ]
    },
    {
     "name": "stderr",
     "output_type": "stream",
     "text": [
      "  Num examples = 1592\n"
     ]
    },
    {
     "name": "stderr",
     "output_type": "stream",
     "text": [
      "  Batch size = 1\n"
     ]
    },
    {
     "name": "stderr",
     "output_type": "stream",
     "text": [
      "Saving model checkpoint to saved_models/XLNetDepr-3_256_8-ALL_NA-PEL-BS1-GWS_PCC_IT192_DH_3LALPHA10_NZ20_PNTh0.05_AnnotThresh0.5/checkpoint-312914\n"
     ]
    },
    {
     "name": "stderr",
     "output_type": "stream",
     "text": [
      "Configuration saved in saved_models/XLNetDepr-3_256_8-ALL_NA-PEL-BS1-GWS_PCC_IT192_DH_3LALPHA10_NZ20_PNTh0.05_AnnotThresh0.5/checkpoint-312914/config.json\n"
     ]
    },
    {
     "name": "stderr",
     "output_type": "stream",
     "text": [
      "Model weights saved in saved_models/XLNetDepr-3_256_8-ALL_NA-PEL-BS1-GWS_PCC_IT192_DH_3LALPHA10_NZ20_PNTh0.05_AnnotThresh0.5/checkpoint-312914/pytorch_model.bin\n"
     ]
    },
    {
     "name": "stderr",
     "output_type": "stream",
     "text": [
      "Deleting older checkpoint [saved_models/XLNetDepr-3_256_8-ALL_NA-PEL-BS1-GWS_PCC_IT192_DH_3LALPHA10_NZ20_PNTh0.05_AnnotThresh0.5/checkpoint-287370] due to args.save_total_limit\n"
     ]
    },
    {
     "name": "stderr",
     "output_type": "stream",
     "text": [
      "***** Running Evaluation *****\n"
     ]
    },
    {
     "name": "stderr",
     "output_type": "stream",
     "text": [
      "  Num examples = 1592\n"
     ]
    },
    {
     "name": "stderr",
     "output_type": "stream",
     "text": [
      "  Batch size = 1\n"
     ]
    },
    {
     "name": "stderr",
     "output_type": "stream",
     "text": [
      "Saving model checkpoint to saved_models/XLNetDepr-3_256_8-ALL_NA-PEL-BS1-GWS_PCC_IT192_DH_3LALPHA10_NZ20_PNTh0.05_AnnotThresh0.5/checkpoint-319300\n"
     ]
    },
    {
     "name": "stderr",
     "output_type": "stream",
     "text": [
      "Configuration saved in saved_models/XLNetDepr-3_256_8-ALL_NA-PEL-BS1-GWS_PCC_IT192_DH_3LALPHA10_NZ20_PNTh0.05_AnnotThresh0.5/checkpoint-319300/config.json\n"
     ]
    },
    {
     "name": "stderr",
     "output_type": "stream",
     "text": [
      "Model weights saved in saved_models/XLNetDepr-3_256_8-ALL_NA-PEL-BS1-GWS_PCC_IT192_DH_3LALPHA10_NZ20_PNTh0.05_AnnotThresh0.5/checkpoint-319300/pytorch_model.bin\n"
     ]
    },
    {
     "name": "stderr",
     "output_type": "stream",
     "text": [
      "Deleting older checkpoint [saved_models/XLNetDepr-3_256_8-ALL_NA-PEL-BS1-GWS_PCC_IT192_DH_3LALPHA10_NZ20_PNTh0.05_AnnotThresh0.5/checkpoint-293756] due to args.save_total_limit\n"
     ]
    },
    {
     "name": "stderr",
     "output_type": "stream",
     "text": [
      "***** Running Evaluation *****\n"
     ]
    },
    {
     "name": "stderr",
     "output_type": "stream",
     "text": [
      "  Num examples = 1592\n"
     ]
    },
    {
     "name": "stderr",
     "output_type": "stream",
     "text": [
      "  Batch size = 1\n"
     ]
    },
    {
     "name": "stderr",
     "output_type": "stream",
     "text": [
      "Saving model checkpoint to saved_models/XLNetDepr-3_256_8-ALL_NA-PEL-BS1-GWS_PCC_IT192_DH_3LALPHA10_NZ20_PNTh0.05_AnnotThresh0.5/checkpoint-325686\n"
     ]
    },
    {
     "name": "stderr",
     "output_type": "stream",
     "text": [
      "Configuration saved in saved_models/XLNetDepr-3_256_8-ALL_NA-PEL-BS1-GWS_PCC_IT192_DH_3LALPHA10_NZ20_PNTh0.05_AnnotThresh0.5/checkpoint-325686/config.json\n"
     ]
    },
    {
     "name": "stderr",
     "output_type": "stream",
     "text": [
      "Model weights saved in saved_models/XLNetDepr-3_256_8-ALL_NA-PEL-BS1-GWS_PCC_IT192_DH_3LALPHA10_NZ20_PNTh0.05_AnnotThresh0.5/checkpoint-325686/pytorch_model.bin\n"
     ]
    },
    {
     "name": "stderr",
     "output_type": "stream",
     "text": [
      "Deleting older checkpoint [saved_models/XLNetDepr-3_256_8-ALL_NA-PEL-BS1-GWS_PCC_IT192_DH_3LALPHA10_NZ20_PNTh0.05_AnnotThresh0.5/checkpoint-300142] due to args.save_total_limit\n"
     ]
    },
    {
     "name": "stderr",
     "output_type": "stream",
     "text": [
      "***** Running Evaluation *****\n"
     ]
    },
    {
     "name": "stderr",
     "output_type": "stream",
     "text": [
      "  Num examples = 1592\n"
     ]
    },
    {
     "name": "stderr",
     "output_type": "stream",
     "text": [
      "  Batch size = 1\n"
     ]
    },
    {
     "name": "stderr",
     "output_type": "stream",
     "text": [
      "Saving model checkpoint to saved_models/XLNetDepr-3_256_8-ALL_NA-PEL-BS1-GWS_PCC_IT192_DH_3LALPHA10_NZ20_PNTh0.05_AnnotThresh0.5/checkpoint-332072\n"
     ]
    },
    {
     "name": "stderr",
     "output_type": "stream",
     "text": [
      "Configuration saved in saved_models/XLNetDepr-3_256_8-ALL_NA-PEL-BS1-GWS_PCC_IT192_DH_3LALPHA10_NZ20_PNTh0.05_AnnotThresh0.5/checkpoint-332072/config.json\n"
     ]
    },
    {
     "name": "stderr",
     "output_type": "stream",
     "text": [
      "Model weights saved in saved_models/XLNetDepr-3_256_8-ALL_NA-PEL-BS1-GWS_PCC_IT192_DH_3LALPHA10_NZ20_PNTh0.05_AnnotThresh0.5/checkpoint-332072/pytorch_model.bin\n"
     ]
    },
    {
     "name": "stderr",
     "output_type": "stream",
     "text": [
      "Deleting older checkpoint [saved_models/XLNetDepr-3_256_8-ALL_NA-PEL-BS1-GWS_PCC_IT192_DH_3LALPHA10_NZ20_PNTh0.05_AnnotThresh0.5/checkpoint-306528] due to args.save_total_limit\n"
     ]
    },
    {
     "name": "stderr",
     "output_type": "stream",
     "text": [
      "***** Running Evaluation *****\n"
     ]
    },
    {
     "name": "stderr",
     "output_type": "stream",
     "text": [
      "  Num examples = 1592\n"
     ]
    },
    {
     "name": "stderr",
     "output_type": "stream",
     "text": [
      "  Batch size = 1\n"
     ]
    },
    {
     "name": "stderr",
     "output_type": "stream",
     "text": [
      "Saving model checkpoint to saved_models/XLNetDepr-3_256_8-ALL_NA-PEL-BS1-GWS_PCC_IT192_DH_3LALPHA10_NZ20_PNTh0.05_AnnotThresh0.5/checkpoint-338458\n"
     ]
    },
    {
     "name": "stderr",
     "output_type": "stream",
     "text": [
      "Configuration saved in saved_models/XLNetDepr-3_256_8-ALL_NA-PEL-BS1-GWS_PCC_IT192_DH_3LALPHA10_NZ20_PNTh0.05_AnnotThresh0.5/checkpoint-338458/config.json\n"
     ]
    },
    {
     "name": "stderr",
     "output_type": "stream",
     "text": [
      "Model weights saved in saved_models/XLNetDepr-3_256_8-ALL_NA-PEL-BS1-GWS_PCC_IT192_DH_3LALPHA10_NZ20_PNTh0.05_AnnotThresh0.5/checkpoint-338458/pytorch_model.bin\n"
     ]
    },
    {
     "name": "stderr",
     "output_type": "stream",
     "text": [
      "Deleting older checkpoint [saved_models/XLNetDepr-3_256_8-ALL_NA-PEL-BS1-GWS_PCC_IT192_DH_3LALPHA10_NZ20_PNTh0.05_AnnotThresh0.5/checkpoint-312914] due to args.save_total_limit\n"
     ]
    },
    {
     "name": "stderr",
     "output_type": "stream",
     "text": [
      "***** Running Evaluation *****\n"
     ]
    },
    {
     "name": "stderr",
     "output_type": "stream",
     "text": [
      "  Num examples = 1592\n"
     ]
    },
    {
     "name": "stderr",
     "output_type": "stream",
     "text": [
      "  Batch size = 1\n"
     ]
    },
    {
     "name": "stderr",
     "output_type": "stream",
     "text": [
      "Saving model checkpoint to saved_models/XLNetDepr-3_256_8-ALL_NA-PEL-BS1-GWS_PCC_IT192_DH_3LALPHA10_NZ20_PNTh0.05_AnnotThresh0.5/checkpoint-344844\n"
     ]
    },
    {
     "name": "stderr",
     "output_type": "stream",
     "text": [
      "Configuration saved in saved_models/XLNetDepr-3_256_8-ALL_NA-PEL-BS1-GWS_PCC_IT192_DH_3LALPHA10_NZ20_PNTh0.05_AnnotThresh0.5/checkpoint-344844/config.json\n"
     ]
    },
    {
     "name": "stderr",
     "output_type": "stream",
     "text": [
      "Model weights saved in saved_models/XLNetDepr-3_256_8-ALL_NA-PEL-BS1-GWS_PCC_IT192_DH_3LALPHA10_NZ20_PNTh0.05_AnnotThresh0.5/checkpoint-344844/pytorch_model.bin\n"
     ]
    },
    {
     "name": "stderr",
     "output_type": "stream",
     "text": [
      "Deleting older checkpoint [saved_models/XLNetDepr-3_256_8-ALL_NA-PEL-BS1-GWS_PCC_IT192_DH_3LALPHA10_NZ20_PNTh0.05_AnnotThresh0.5/checkpoint-319300] due to args.save_total_limit\n"
     ]
    },
    {
     "name": "stderr",
     "output_type": "stream",
     "text": [
      "***** Running Evaluation *****\n"
     ]
    },
    {
     "name": "stderr",
     "output_type": "stream",
     "text": [
      "  Num examples = 1592\n"
     ]
    },
    {
     "name": "stderr",
     "output_type": "stream",
     "text": [
      "  Batch size = 1\n"
     ]
    },
    {
     "name": "stderr",
     "output_type": "stream",
     "text": [
      "Saving model checkpoint to saved_models/XLNetDepr-3_256_8-ALL_NA-PEL-BS1-GWS_PCC_IT192_DH_3LALPHA10_NZ20_PNTh0.05_AnnotThresh0.5/checkpoint-351230\n"
     ]
    },
    {
     "name": "stderr",
     "output_type": "stream",
     "text": [
      "Configuration saved in saved_models/XLNetDepr-3_256_8-ALL_NA-PEL-BS1-GWS_PCC_IT192_DH_3LALPHA10_NZ20_PNTh0.05_AnnotThresh0.5/checkpoint-351230/config.json\n"
     ]
    },
    {
     "name": "stderr",
     "output_type": "stream",
     "text": [
      "Model weights saved in saved_models/XLNetDepr-3_256_8-ALL_NA-PEL-BS1-GWS_PCC_IT192_DH_3LALPHA10_NZ20_PNTh0.05_AnnotThresh0.5/checkpoint-351230/pytorch_model.bin\n"
     ]
    },
    {
     "name": "stderr",
     "output_type": "stream",
     "text": [
      "Deleting older checkpoint [saved_models/XLNetDepr-3_256_8-ALL_NA-PEL-BS1-GWS_PCC_IT192_DH_3LALPHA10_NZ20_PNTh0.05_AnnotThresh0.5/checkpoint-325686] due to args.save_total_limit\n"
     ]
    },
    {
     "name": "stderr",
     "output_type": "stream",
     "text": [
      "***** Running Evaluation *****\n"
     ]
    },
    {
     "name": "stderr",
     "output_type": "stream",
     "text": [
      "  Num examples = 1592\n"
     ]
    },
    {
     "name": "stderr",
     "output_type": "stream",
     "text": [
      "  Batch size = 1\n"
     ]
    },
    {
     "name": "stderr",
     "output_type": "stream",
     "text": [
      "Saving model checkpoint to saved_models/XLNetDepr-3_256_8-ALL_NA-PEL-BS1-GWS_PCC_IT192_DH_3LALPHA10_NZ20_PNTh0.05_AnnotThresh0.5/checkpoint-357616\n"
     ]
    },
    {
     "name": "stderr",
     "output_type": "stream",
     "text": [
      "Configuration saved in saved_models/XLNetDepr-3_256_8-ALL_NA-PEL-BS1-GWS_PCC_IT192_DH_3LALPHA10_NZ20_PNTh0.05_AnnotThresh0.5/checkpoint-357616/config.json\n"
     ]
    },
    {
     "name": "stderr",
     "output_type": "stream",
     "text": [
      "Model weights saved in saved_models/XLNetDepr-3_256_8-ALL_NA-PEL-BS1-GWS_PCC_IT192_DH_3LALPHA10_NZ20_PNTh0.05_AnnotThresh0.5/checkpoint-357616/pytorch_model.bin\n"
     ]
    },
    {
     "name": "stderr",
     "output_type": "stream",
     "text": [
      "Deleting older checkpoint [saved_models/XLNetDepr-3_256_8-ALL_NA-PEL-BS1-GWS_PCC_IT192_DH_3LALPHA10_NZ20_PNTh0.05_AnnotThresh0.5/checkpoint-332072] due to args.save_total_limit\n"
     ]
    },
    {
     "name": "stderr",
     "output_type": "stream",
     "text": [
      "***** Running Evaluation *****\n"
     ]
    },
    {
     "name": "stderr",
     "output_type": "stream",
     "text": [
      "  Num examples = 1592\n"
     ]
    },
    {
     "name": "stderr",
     "output_type": "stream",
     "text": [
      "  Batch size = 1\n"
     ]
    },
    {
     "name": "stderr",
     "output_type": "stream",
     "text": [
      "Saving model checkpoint to saved_models/XLNetDepr-3_256_8-ALL_NA-PEL-BS1-GWS_PCC_IT192_DH_3LALPHA10_NZ20_PNTh0.05_AnnotThresh0.5/checkpoint-364002\n"
     ]
    },
    {
     "name": "stderr",
     "output_type": "stream",
     "text": [
      "Configuration saved in saved_models/XLNetDepr-3_256_8-ALL_NA-PEL-BS1-GWS_PCC_IT192_DH_3LALPHA10_NZ20_PNTh0.05_AnnotThresh0.5/checkpoint-364002/config.json\n"
     ]
    },
    {
     "name": "stderr",
     "output_type": "stream",
     "text": [
      "Model weights saved in saved_models/XLNetDepr-3_256_8-ALL_NA-PEL-BS1-GWS_PCC_IT192_DH_3LALPHA10_NZ20_PNTh0.05_AnnotThresh0.5/checkpoint-364002/pytorch_model.bin\n"
     ]
    },
    {
     "name": "stderr",
     "output_type": "stream",
     "text": [
      "Deleting older checkpoint [saved_models/XLNetDepr-3_256_8-ALL_NA-PEL-BS1-GWS_PCC_IT192_DH_3LALPHA10_NZ20_PNTh0.05_AnnotThresh0.5/checkpoint-338458] due to args.save_total_limit\n"
     ]
    },
    {
     "name": "stderr",
     "output_type": "stream",
     "text": [
      "***** Running Evaluation *****\n"
     ]
    },
    {
     "name": "stderr",
     "output_type": "stream",
     "text": [
      "  Num examples = 1592\n"
     ]
    },
    {
     "name": "stderr",
     "output_type": "stream",
     "text": [
      "  Batch size = 1\n"
     ]
    },
    {
     "name": "stderr",
     "output_type": "stream",
     "text": [
      "Saving model checkpoint to saved_models/XLNetDepr-3_256_8-ALL_NA-PEL-BS1-GWS_PCC_IT192_DH_3LALPHA10_NZ20_PNTh0.05_AnnotThresh0.5/checkpoint-370388\n"
     ]
    },
    {
     "name": "stderr",
     "output_type": "stream",
     "text": [
      "Configuration saved in saved_models/XLNetDepr-3_256_8-ALL_NA-PEL-BS1-GWS_PCC_IT192_DH_3LALPHA10_NZ20_PNTh0.05_AnnotThresh0.5/checkpoint-370388/config.json\n"
     ]
    },
    {
     "name": "stderr",
     "output_type": "stream",
     "text": [
      "Model weights saved in saved_models/XLNetDepr-3_256_8-ALL_NA-PEL-BS1-GWS_PCC_IT192_DH_3LALPHA10_NZ20_PNTh0.05_AnnotThresh0.5/checkpoint-370388/pytorch_model.bin\n"
     ]
    },
    {
     "name": "stderr",
     "output_type": "stream",
     "text": [
      "Deleting older checkpoint [saved_models/XLNetDepr-3_256_8-ALL_NA-PEL-BS1-GWS_PCC_IT192_DH_3LALPHA10_NZ20_PNTh0.05_AnnotThresh0.5/checkpoint-344844] due to args.save_total_limit\n"
     ]
    },
    {
     "name": "stderr",
     "output_type": "stream",
     "text": [
      "***** Running Evaluation *****\n"
     ]
    },
    {
     "name": "stderr",
     "output_type": "stream",
     "text": [
      "  Num examples = 1592\n"
     ]
    },
    {
     "name": "stderr",
     "output_type": "stream",
     "text": [
      "  Batch size = 1\n"
     ]
    },
    {
     "name": "stderr",
     "output_type": "stream",
     "text": [
      "Saving model checkpoint to saved_models/XLNetDepr-3_256_8-ALL_NA-PEL-BS1-GWS_PCC_IT192_DH_3LALPHA10_NZ20_PNTh0.05_AnnotThresh0.5/checkpoint-376774\n"
     ]
    },
    {
     "name": "stderr",
     "output_type": "stream",
     "text": [
      "Configuration saved in saved_models/XLNetDepr-3_256_8-ALL_NA-PEL-BS1-GWS_PCC_IT192_DH_3LALPHA10_NZ20_PNTh0.05_AnnotThresh0.5/checkpoint-376774/config.json\n"
     ]
    },
    {
     "name": "stderr",
     "output_type": "stream",
     "text": [
      "Model weights saved in saved_models/XLNetDepr-3_256_8-ALL_NA-PEL-BS1-GWS_PCC_IT192_DH_3LALPHA10_NZ20_PNTh0.05_AnnotThresh0.5/checkpoint-376774/pytorch_model.bin\n"
     ]
    },
    {
     "name": "stderr",
     "output_type": "stream",
     "text": [
      "Deleting older checkpoint [saved_models/XLNetDepr-3_256_8-ALL_NA-PEL-BS1-GWS_PCC_IT192_DH_3LALPHA10_NZ20_PNTh0.05_AnnotThresh0.5/checkpoint-351230] due to args.save_total_limit\n"
     ]
    },
    {
     "name": "stderr",
     "output_type": "stream",
     "text": [
      "***** Running Evaluation *****\n"
     ]
    },
    {
     "name": "stderr",
     "output_type": "stream",
     "text": [
      "  Num examples = 1592\n"
     ]
    },
    {
     "name": "stderr",
     "output_type": "stream",
     "text": [
      "  Batch size = 1\n"
     ]
    },
    {
     "name": "stderr",
     "output_type": "stream",
     "text": [
      "Saving model checkpoint to saved_models/XLNetDepr-3_256_8-ALL_NA-PEL-BS1-GWS_PCC_IT192_DH_3LALPHA10_NZ20_PNTh0.05_AnnotThresh0.5/checkpoint-383160\n"
     ]
    },
    {
     "name": "stderr",
     "output_type": "stream",
     "text": [
      "Configuration saved in saved_models/XLNetDepr-3_256_8-ALL_NA-PEL-BS1-GWS_PCC_IT192_DH_3LALPHA10_NZ20_PNTh0.05_AnnotThresh0.5/checkpoint-383160/config.json\n"
     ]
    },
    {
     "name": "stderr",
     "output_type": "stream",
     "text": [
      "Model weights saved in saved_models/XLNetDepr-3_256_8-ALL_NA-PEL-BS1-GWS_PCC_IT192_DH_3LALPHA10_NZ20_PNTh0.05_AnnotThresh0.5/checkpoint-383160/pytorch_model.bin\n"
     ]
    },
    {
     "name": "stderr",
     "output_type": "stream",
     "text": [
      "Deleting older checkpoint [saved_models/XLNetDepr-3_256_8-ALL_NA-PEL-BS1-GWS_PCC_IT192_DH_3LALPHA10_NZ20_PNTh0.05_AnnotThresh0.5/checkpoint-357616] due to args.save_total_limit\n"
     ]
    },
    {
     "name": "stderr",
     "output_type": "stream",
     "text": [
      "***** Running Evaluation *****\n"
     ]
    },
    {
     "name": "stderr",
     "output_type": "stream",
     "text": [
      "  Num examples = 1592\n"
     ]
    },
    {
     "name": "stderr",
     "output_type": "stream",
     "text": [
      "  Batch size = 1\n"
     ]
    },
    {
     "name": "stderr",
     "output_type": "stream",
     "text": [
      "Saving model checkpoint to saved_models/XLNetDepr-3_256_8-ALL_NA-PEL-BS1-GWS_PCC_IT192_DH_3LALPHA10_NZ20_PNTh0.05_AnnotThresh0.5/checkpoint-389546\n"
     ]
    },
    {
     "name": "stderr",
     "output_type": "stream",
     "text": [
      "Configuration saved in saved_models/XLNetDepr-3_256_8-ALL_NA-PEL-BS1-GWS_PCC_IT192_DH_3LALPHA10_NZ20_PNTh0.05_AnnotThresh0.5/checkpoint-389546/config.json\n"
     ]
    },
    {
     "name": "stderr",
     "output_type": "stream",
     "text": [
      "Model weights saved in saved_models/XLNetDepr-3_256_8-ALL_NA-PEL-BS1-GWS_PCC_IT192_DH_3LALPHA10_NZ20_PNTh0.05_AnnotThresh0.5/checkpoint-389546/pytorch_model.bin\n"
     ]
    },
    {
     "name": "stderr",
     "output_type": "stream",
     "text": [
      "Deleting older checkpoint [saved_models/XLNetDepr-3_256_8-ALL_NA-PEL-BS1-GWS_PCC_IT192_DH_3LALPHA10_NZ20_PNTh0.05_AnnotThresh0.5/checkpoint-364002] due to args.save_total_limit\n"
     ]
    },
    {
     "name": "stderr",
     "output_type": "stream",
     "text": [
      "***** Running Evaluation *****\n"
     ]
    },
    {
     "name": "stderr",
     "output_type": "stream",
     "text": [
      "  Num examples = 1592\n"
     ]
    },
    {
     "name": "stderr",
     "output_type": "stream",
     "text": [
      "  Batch size = 1\n"
     ]
    },
    {
     "name": "stderr",
     "output_type": "stream",
     "text": [
      "Saving model checkpoint to saved_models/XLNetDepr-3_256_8-ALL_NA-PEL-BS1-GWS_PCC_IT192_DH_3LALPHA10_NZ20_PNTh0.05_AnnotThresh0.5/checkpoint-395932\n"
     ]
    },
    {
     "name": "stderr",
     "output_type": "stream",
     "text": [
      "Configuration saved in saved_models/XLNetDepr-3_256_8-ALL_NA-PEL-BS1-GWS_PCC_IT192_DH_3LALPHA10_NZ20_PNTh0.05_AnnotThresh0.5/checkpoint-395932/config.json\n"
     ]
    },
    {
     "name": "stderr",
     "output_type": "stream",
     "text": [
      "Model weights saved in saved_models/XLNetDepr-3_256_8-ALL_NA-PEL-BS1-GWS_PCC_IT192_DH_3LALPHA10_NZ20_PNTh0.05_AnnotThresh0.5/checkpoint-395932/pytorch_model.bin\n"
     ]
    },
    {
     "name": "stderr",
     "output_type": "stream",
     "text": [
      "Deleting older checkpoint [saved_models/XLNetDepr-3_256_8-ALL_NA-PEL-BS1-GWS_PCC_IT192_DH_3LALPHA10_NZ20_PNTh0.05_AnnotThresh0.5/checkpoint-370388] due to args.save_total_limit\n"
     ]
    },
    {
     "name": "stderr",
     "output_type": "stream",
     "text": [
      "***** Running Evaluation *****\n"
     ]
    },
    {
     "name": "stderr",
     "output_type": "stream",
     "text": [
      "  Num examples = 1592\n"
     ]
    },
    {
     "name": "stderr",
     "output_type": "stream",
     "text": [
      "  Batch size = 1\n"
     ]
    },
    {
     "name": "stderr",
     "output_type": "stream",
     "text": [
      "Saving model checkpoint to saved_models/XLNetDepr-3_256_8-ALL_NA-PEL-BS1-GWS_PCC_IT192_DH_3LALPHA10_NZ20_PNTh0.05_AnnotThresh0.5/checkpoint-402318\n"
     ]
    },
    {
     "name": "stderr",
     "output_type": "stream",
     "text": [
      "Configuration saved in saved_models/XLNetDepr-3_256_8-ALL_NA-PEL-BS1-GWS_PCC_IT192_DH_3LALPHA10_NZ20_PNTh0.05_AnnotThresh0.5/checkpoint-402318/config.json\n"
     ]
    },
    {
     "name": "stderr",
     "output_type": "stream",
     "text": [
      "Model weights saved in saved_models/XLNetDepr-3_256_8-ALL_NA-PEL-BS1-GWS_PCC_IT192_DH_3LALPHA10_NZ20_PNTh0.05_AnnotThresh0.5/checkpoint-402318/pytorch_model.bin\n"
     ]
    },
    {
     "name": "stderr",
     "output_type": "stream",
     "text": [
      "Deleting older checkpoint [saved_models/XLNetDepr-3_256_8-ALL_NA-PEL-BS1-GWS_PCC_IT192_DH_3LALPHA10_NZ20_PNTh0.05_AnnotThresh0.5/checkpoint-376774] due to args.save_total_limit\n"
     ]
    },
    {
     "name": "stderr",
     "output_type": "stream",
     "text": [
      "***** Running Evaluation *****\n"
     ]
    },
    {
     "name": "stderr",
     "output_type": "stream",
     "text": [
      "  Num examples = 1592\n"
     ]
    },
    {
     "name": "stderr",
     "output_type": "stream",
     "text": [
      "  Batch size = 1\n"
     ]
    },
    {
     "name": "stderr",
     "output_type": "stream",
     "text": [
      "Saving model checkpoint to saved_models/XLNetDepr-3_256_8-ALL_NA-PEL-BS1-GWS_PCC_IT192_DH_3LALPHA10_NZ20_PNTh0.05_AnnotThresh0.5/checkpoint-408704\n"
     ]
    },
    {
     "name": "stderr",
     "output_type": "stream",
     "text": [
      "Configuration saved in saved_models/XLNetDepr-3_256_8-ALL_NA-PEL-BS1-GWS_PCC_IT192_DH_3LALPHA10_NZ20_PNTh0.05_AnnotThresh0.5/checkpoint-408704/config.json\n"
     ]
    },
    {
     "name": "stderr",
     "output_type": "stream",
     "text": [
      "Model weights saved in saved_models/XLNetDepr-3_256_8-ALL_NA-PEL-BS1-GWS_PCC_IT192_DH_3LALPHA10_NZ20_PNTh0.05_AnnotThresh0.5/checkpoint-408704/pytorch_model.bin\n"
     ]
    },
    {
     "name": "stderr",
     "output_type": "stream",
     "text": [
      "Deleting older checkpoint [saved_models/XLNetDepr-3_256_8-ALL_NA-PEL-BS1-GWS_PCC_IT192_DH_3LALPHA10_NZ20_PNTh0.05_AnnotThresh0.5/checkpoint-383160] due to args.save_total_limit\n"
     ]
    },
    {
     "name": "stderr",
     "output_type": "stream",
     "text": [
      "***** Running Evaluation *****\n"
     ]
    },
    {
     "name": "stderr",
     "output_type": "stream",
     "text": [
      "  Num examples = 1592\n"
     ]
    },
    {
     "name": "stderr",
     "output_type": "stream",
     "text": [
      "  Batch size = 1\n"
     ]
    },
    {
     "name": "stderr",
     "output_type": "stream",
     "text": [
      "Saving model checkpoint to saved_models/XLNetDepr-3_256_8-ALL_NA-PEL-BS1-GWS_PCC_IT192_DH_3LALPHA10_NZ20_PNTh0.05_AnnotThresh0.5/checkpoint-415090\n"
     ]
    },
    {
     "name": "stderr",
     "output_type": "stream",
     "text": [
      "Configuration saved in saved_models/XLNetDepr-3_256_8-ALL_NA-PEL-BS1-GWS_PCC_IT192_DH_3LALPHA10_NZ20_PNTh0.05_AnnotThresh0.5/checkpoint-415090/config.json\n"
     ]
    },
    {
     "name": "stderr",
     "output_type": "stream",
     "text": [
      "Model weights saved in saved_models/XLNetDepr-3_256_8-ALL_NA-PEL-BS1-GWS_PCC_IT192_DH_3LALPHA10_NZ20_PNTh0.05_AnnotThresh0.5/checkpoint-415090/pytorch_model.bin\n"
     ]
    },
    {
     "name": "stderr",
     "output_type": "stream",
     "text": [
      "Deleting older checkpoint [saved_models/XLNetDepr-3_256_8-ALL_NA-PEL-BS1-GWS_PCC_IT192_DH_3LALPHA10_NZ20_PNTh0.05_AnnotThresh0.5/checkpoint-389546] due to args.save_total_limit\n"
     ]
    },
    {
     "name": "stderr",
     "output_type": "stream",
     "text": [
      "***** Running Evaluation *****\n"
     ]
    },
    {
     "name": "stderr",
     "output_type": "stream",
     "text": [
      "  Num examples = 1592\n"
     ]
    },
    {
     "name": "stderr",
     "output_type": "stream",
     "text": [
      "  Batch size = 1\n"
     ]
    },
    {
     "name": "stderr",
     "output_type": "stream",
     "text": [
      "Saving model checkpoint to saved_models/XLNetDepr-3_256_8-ALL_NA-PEL-BS1-GWS_PCC_IT192_DH_3LALPHA10_NZ20_PNTh0.05_AnnotThresh0.5/checkpoint-421476\n"
     ]
    },
    {
     "name": "stderr",
     "output_type": "stream",
     "text": [
      "Configuration saved in saved_models/XLNetDepr-3_256_8-ALL_NA-PEL-BS1-GWS_PCC_IT192_DH_3LALPHA10_NZ20_PNTh0.05_AnnotThresh0.5/checkpoint-421476/config.json\n"
     ]
    },
    {
     "name": "stderr",
     "output_type": "stream",
     "text": [
      "Model weights saved in saved_models/XLNetDepr-3_256_8-ALL_NA-PEL-BS1-GWS_PCC_IT192_DH_3LALPHA10_NZ20_PNTh0.05_AnnotThresh0.5/checkpoint-421476/pytorch_model.bin\n"
     ]
    },
    {
     "name": "stderr",
     "output_type": "stream",
     "text": [
      "Deleting older checkpoint [saved_models/XLNetDepr-3_256_8-ALL_NA-PEL-BS1-GWS_PCC_IT192_DH_3LALPHA10_NZ20_PNTh0.05_AnnotThresh0.5/checkpoint-395932] due to args.save_total_limit\n"
     ]
    },
    {
     "name": "stderr",
     "output_type": "stream",
     "text": [
      "***** Running Evaluation *****\n"
     ]
    },
    {
     "name": "stderr",
     "output_type": "stream",
     "text": [
      "  Num examples = 1592\n"
     ]
    },
    {
     "name": "stderr",
     "output_type": "stream",
     "text": [
      "  Batch size = 1\n"
     ]
    },
    {
     "name": "stderr",
     "output_type": "stream",
     "text": [
      "Saving model checkpoint to saved_models/XLNetDepr-3_256_8-ALL_NA-PEL-BS1-GWS_PCC_IT192_DH_3LALPHA10_NZ20_PNTh0.05_AnnotThresh0.5/checkpoint-427862\n"
     ]
    },
    {
     "name": "stderr",
     "output_type": "stream",
     "text": [
      "Configuration saved in saved_models/XLNetDepr-3_256_8-ALL_NA-PEL-BS1-GWS_PCC_IT192_DH_3LALPHA10_NZ20_PNTh0.05_AnnotThresh0.5/checkpoint-427862/config.json\n"
     ]
    },
    {
     "name": "stderr",
     "output_type": "stream",
     "text": [
      "Model weights saved in saved_models/XLNetDepr-3_256_8-ALL_NA-PEL-BS1-GWS_PCC_IT192_DH_3LALPHA10_NZ20_PNTh0.05_AnnotThresh0.5/checkpoint-427862/pytorch_model.bin\n"
     ]
    },
    {
     "name": "stderr",
     "output_type": "stream",
     "text": [
      "Deleting older checkpoint [saved_models/XLNetDepr-3_256_8-ALL_NA-PEL-BS1-GWS_PCC_IT192_DH_3LALPHA10_NZ20_PNTh0.05_AnnotThresh0.5/checkpoint-402318] due to args.save_total_limit\n"
     ]
    },
    {
     "name": "stderr",
     "output_type": "stream",
     "text": [
      "***** Running Evaluation *****\n"
     ]
    },
    {
     "name": "stderr",
     "output_type": "stream",
     "text": [
      "  Num examples = 1592\n"
     ]
    },
    {
     "name": "stderr",
     "output_type": "stream",
     "text": [
      "  Batch size = 1\n"
     ]
    },
    {
     "name": "stderr",
     "output_type": "stream",
     "text": [
      "Saving model checkpoint to saved_models/XLNetDepr-3_256_8-ALL_NA-PEL-BS1-GWS_PCC_IT192_DH_3LALPHA10_NZ20_PNTh0.05_AnnotThresh0.5/checkpoint-434248\n"
     ]
    },
    {
     "name": "stderr",
     "output_type": "stream",
     "text": [
      "Configuration saved in saved_models/XLNetDepr-3_256_8-ALL_NA-PEL-BS1-GWS_PCC_IT192_DH_3LALPHA10_NZ20_PNTh0.05_AnnotThresh0.5/checkpoint-434248/config.json\n"
     ]
    },
    {
     "name": "stderr",
     "output_type": "stream",
     "text": [
      "Model weights saved in saved_models/XLNetDepr-3_256_8-ALL_NA-PEL-BS1-GWS_PCC_IT192_DH_3LALPHA10_NZ20_PNTh0.05_AnnotThresh0.5/checkpoint-434248/pytorch_model.bin\n"
     ]
    },
    {
     "name": "stderr",
     "output_type": "stream",
     "text": [
      "Deleting older checkpoint [saved_models/XLNetDepr-3_256_8-ALL_NA-PEL-BS1-GWS_PCC_IT192_DH_3LALPHA10_NZ20_PNTh0.05_AnnotThresh0.5/checkpoint-408704] due to args.save_total_limit\n"
     ]
    },
    {
     "name": "stderr",
     "output_type": "stream",
     "text": [
      "***** Running Evaluation *****\n"
     ]
    },
    {
     "name": "stderr",
     "output_type": "stream",
     "text": [
      "  Num examples = 1592\n"
     ]
    },
    {
     "name": "stderr",
     "output_type": "stream",
     "text": [
      "  Batch size = 1\n"
     ]
    },
    {
     "name": "stderr",
     "output_type": "stream",
     "text": [
      "Saving model checkpoint to saved_models/XLNetDepr-3_256_8-ALL_NA-PEL-BS1-GWS_PCC_IT192_DH_3LALPHA10_NZ20_PNTh0.05_AnnotThresh0.5/checkpoint-440634\n"
     ]
    },
    {
     "name": "stderr",
     "output_type": "stream",
     "text": [
      "Configuration saved in saved_models/XLNetDepr-3_256_8-ALL_NA-PEL-BS1-GWS_PCC_IT192_DH_3LALPHA10_NZ20_PNTh0.05_AnnotThresh0.5/checkpoint-440634/config.json\n"
     ]
    },
    {
     "name": "stderr",
     "output_type": "stream",
     "text": [
      "Model weights saved in saved_models/XLNetDepr-3_256_8-ALL_NA-PEL-BS1-GWS_PCC_IT192_DH_3LALPHA10_NZ20_PNTh0.05_AnnotThresh0.5/checkpoint-440634/pytorch_model.bin\n"
     ]
    },
    {
     "name": "stderr",
     "output_type": "stream",
     "text": [
      "Deleting older checkpoint [saved_models/XLNetDepr-3_256_8-ALL_NA-PEL-BS1-GWS_PCC_IT192_DH_3LALPHA10_NZ20_PNTh0.05_AnnotThresh0.5/checkpoint-415090] due to args.save_total_limit\n"
     ]
    },
    {
     "name": "stderr",
     "output_type": "stream",
     "text": [
      "***** Running Evaluation *****\n"
     ]
    },
    {
     "name": "stderr",
     "output_type": "stream",
     "text": [
      "  Num examples = 1592\n"
     ]
    },
    {
     "name": "stderr",
     "output_type": "stream",
     "text": [
      "  Batch size = 1\n"
     ]
    },
    {
     "name": "stderr",
     "output_type": "stream",
     "text": [
      "Saving model checkpoint to saved_models/XLNetDepr-3_256_8-ALL_NA-PEL-BS1-GWS_PCC_IT192_DH_3LALPHA10_NZ20_PNTh0.05_AnnotThresh0.5/checkpoint-447020\n"
     ]
    },
    {
     "name": "stderr",
     "output_type": "stream",
     "text": [
      "Configuration saved in saved_models/XLNetDepr-3_256_8-ALL_NA-PEL-BS1-GWS_PCC_IT192_DH_3LALPHA10_NZ20_PNTh0.05_AnnotThresh0.5/checkpoint-447020/config.json\n"
     ]
    },
    {
     "name": "stderr",
     "output_type": "stream",
     "text": [
      "Model weights saved in saved_models/XLNetDepr-3_256_8-ALL_NA-PEL-BS1-GWS_PCC_IT192_DH_3LALPHA10_NZ20_PNTh0.05_AnnotThresh0.5/checkpoint-447020/pytorch_model.bin\n"
     ]
    },
    {
     "name": "stderr",
     "output_type": "stream",
     "text": [
      "Deleting older checkpoint [saved_models/XLNetDepr-3_256_8-ALL_NA-PEL-BS1-GWS_PCC_IT192_DH_3LALPHA10_NZ20_PNTh0.05_AnnotThresh0.5/checkpoint-421476] due to args.save_total_limit\n"
     ]
    },
    {
     "name": "stderr",
     "output_type": "stream",
     "text": [
      "***** Running Evaluation *****\n"
     ]
    },
    {
     "name": "stderr",
     "output_type": "stream",
     "text": [
      "  Num examples = 1592\n"
     ]
    },
    {
     "name": "stderr",
     "output_type": "stream",
     "text": [
      "  Batch size = 1\n"
     ]
    },
    {
     "name": "stderr",
     "output_type": "stream",
     "text": [
      "Saving model checkpoint to saved_models/XLNetDepr-3_256_8-ALL_NA-PEL-BS1-GWS_PCC_IT192_DH_3LALPHA10_NZ20_PNTh0.05_AnnotThresh0.5/checkpoint-453406\n"
     ]
    },
    {
     "name": "stderr",
     "output_type": "stream",
     "text": [
      "Configuration saved in saved_models/XLNetDepr-3_256_8-ALL_NA-PEL-BS1-GWS_PCC_IT192_DH_3LALPHA10_NZ20_PNTh0.05_AnnotThresh0.5/checkpoint-453406/config.json\n"
     ]
    },
    {
     "name": "stderr",
     "output_type": "stream",
     "text": [
      "Model weights saved in saved_models/XLNetDepr-3_256_8-ALL_NA-PEL-BS1-GWS_PCC_IT192_DH_3LALPHA10_NZ20_PNTh0.05_AnnotThresh0.5/checkpoint-453406/pytorch_model.bin\n"
     ]
    },
    {
     "name": "stderr",
     "output_type": "stream",
     "text": [
      "Deleting older checkpoint [saved_models/XLNetDepr-3_256_8-ALL_NA-PEL-BS1-GWS_PCC_IT192_DH_3LALPHA10_NZ20_PNTh0.05_AnnotThresh0.5/checkpoint-427862] due to args.save_total_limit\n"
     ]
    },
    {
     "name": "stderr",
     "output_type": "stream",
     "text": [
      "***** Running Evaluation *****\n"
     ]
    },
    {
     "name": "stderr",
     "output_type": "stream",
     "text": [
      "  Num examples = 1592\n"
     ]
    },
    {
     "name": "stderr",
     "output_type": "stream",
     "text": [
      "  Batch size = 1\n"
     ]
    },
    {
     "name": "stderr",
     "output_type": "stream",
     "text": [
      "Saving model checkpoint to saved_models/XLNetDepr-3_256_8-ALL_NA-PEL-BS1-GWS_PCC_IT192_DH_3LALPHA10_NZ20_PNTh0.05_AnnotThresh0.5/checkpoint-459792\n"
     ]
    },
    {
     "name": "stderr",
     "output_type": "stream",
     "text": [
      "Configuration saved in saved_models/XLNetDepr-3_256_8-ALL_NA-PEL-BS1-GWS_PCC_IT192_DH_3LALPHA10_NZ20_PNTh0.05_AnnotThresh0.5/checkpoint-459792/config.json\n"
     ]
    },
    {
     "name": "stderr",
     "output_type": "stream",
     "text": [
      "Model weights saved in saved_models/XLNetDepr-3_256_8-ALL_NA-PEL-BS1-GWS_PCC_IT192_DH_3LALPHA10_NZ20_PNTh0.05_AnnotThresh0.5/checkpoint-459792/pytorch_model.bin\n"
     ]
    },
    {
     "name": "stderr",
     "output_type": "stream",
     "text": [
      "Deleting older checkpoint [saved_models/XLNetDepr-3_256_8-ALL_NA-PEL-BS1-GWS_PCC_IT192_DH_3LALPHA10_NZ20_PNTh0.05_AnnotThresh0.5/checkpoint-434248] due to args.save_total_limit\n"
     ]
    },
    {
     "name": "stderr",
     "output_type": "stream",
     "text": [
      "***** Running Evaluation *****\n"
     ]
    },
    {
     "name": "stderr",
     "output_type": "stream",
     "text": [
      "  Num examples = 1592\n"
     ]
    },
    {
     "name": "stderr",
     "output_type": "stream",
     "text": [
      "  Batch size = 1\n"
     ]
    },
    {
     "name": "stderr",
     "output_type": "stream",
     "text": [
      "Saving model checkpoint to saved_models/XLNetDepr-3_256_8-ALL_NA-PEL-BS1-GWS_PCC_IT192_DH_3LALPHA10_NZ20_PNTh0.05_AnnotThresh0.5/checkpoint-466178\n"
     ]
    },
    {
     "name": "stderr",
     "output_type": "stream",
     "text": [
      "Configuration saved in saved_models/XLNetDepr-3_256_8-ALL_NA-PEL-BS1-GWS_PCC_IT192_DH_3LALPHA10_NZ20_PNTh0.05_AnnotThresh0.5/checkpoint-466178/config.json\n"
     ]
    },
    {
     "name": "stderr",
     "output_type": "stream",
     "text": [
      "Model weights saved in saved_models/XLNetDepr-3_256_8-ALL_NA-PEL-BS1-GWS_PCC_IT192_DH_3LALPHA10_NZ20_PNTh0.05_AnnotThresh0.5/checkpoint-466178/pytorch_model.bin\n"
     ]
    },
    {
     "name": "stderr",
     "output_type": "stream",
     "text": [
      "Deleting older checkpoint [saved_models/XLNetDepr-3_256_8-ALL_NA-PEL-BS1-GWS_PCC_IT192_DH_3LALPHA10_NZ20_PNTh0.05_AnnotThresh0.5/checkpoint-440634] due to args.save_total_limit\n"
     ]
    },
    {
     "name": "stderr",
     "output_type": "stream",
     "text": [
      "***** Running Evaluation *****\n"
     ]
    },
    {
     "name": "stderr",
     "output_type": "stream",
     "text": [
      "  Num examples = 1592\n"
     ]
    },
    {
     "name": "stderr",
     "output_type": "stream",
     "text": [
      "  Batch size = 1\n"
     ]
    },
    {
     "name": "stderr",
     "output_type": "stream",
     "text": [
      "Saving model checkpoint to saved_models/XLNetDepr-3_256_8-ALL_NA-PEL-BS1-GWS_PCC_IT192_DH_3LALPHA10_NZ20_PNTh0.05_AnnotThresh0.5/checkpoint-472564\n"
     ]
    },
    {
     "name": "stderr",
     "output_type": "stream",
     "text": [
      "Configuration saved in saved_models/XLNetDepr-3_256_8-ALL_NA-PEL-BS1-GWS_PCC_IT192_DH_3LALPHA10_NZ20_PNTh0.05_AnnotThresh0.5/checkpoint-472564/config.json\n"
     ]
    },
    {
     "name": "stderr",
     "output_type": "stream",
     "text": [
      "Model weights saved in saved_models/XLNetDepr-3_256_8-ALL_NA-PEL-BS1-GWS_PCC_IT192_DH_3LALPHA10_NZ20_PNTh0.05_AnnotThresh0.5/checkpoint-472564/pytorch_model.bin\n"
     ]
    },
    {
     "name": "stderr",
     "output_type": "stream",
     "text": [
      "Deleting older checkpoint [saved_models/XLNetDepr-3_256_8-ALL_NA-PEL-BS1-GWS_PCC_IT192_DH_3LALPHA10_NZ20_PNTh0.05_AnnotThresh0.5/checkpoint-447020] due to args.save_total_limit\n"
     ]
    },
    {
     "name": "stderr",
     "output_type": "stream",
     "text": [
      "***** Running Evaluation *****\n"
     ]
    },
    {
     "name": "stderr",
     "output_type": "stream",
     "text": [
      "  Num examples = 1592\n"
     ]
    },
    {
     "name": "stderr",
     "output_type": "stream",
     "text": [
      "  Batch size = 1\n"
     ]
    },
    {
     "name": "stderr",
     "output_type": "stream",
     "text": [
      "Saving model checkpoint to saved_models/XLNetDepr-3_256_8-ALL_NA-PEL-BS1-GWS_PCC_IT192_DH_3LALPHA10_NZ20_PNTh0.05_AnnotThresh0.5/checkpoint-478950\n"
     ]
    },
    {
     "name": "stderr",
     "output_type": "stream",
     "text": [
      "Configuration saved in saved_models/XLNetDepr-3_256_8-ALL_NA-PEL-BS1-GWS_PCC_IT192_DH_3LALPHA10_NZ20_PNTh0.05_AnnotThresh0.5/checkpoint-478950/config.json\n"
     ]
    },
    {
     "name": "stderr",
     "output_type": "stream",
     "text": [
      "Model weights saved in saved_models/XLNetDepr-3_256_8-ALL_NA-PEL-BS1-GWS_PCC_IT192_DH_3LALPHA10_NZ20_PNTh0.05_AnnotThresh0.5/checkpoint-478950/pytorch_model.bin\n"
     ]
    },
    {
     "name": "stderr",
     "output_type": "stream",
     "text": [
      "Deleting older checkpoint [saved_models/XLNetDepr-3_256_8-ALL_NA-PEL-BS1-GWS_PCC_IT192_DH_3LALPHA10_NZ20_PNTh0.05_AnnotThresh0.5/checkpoint-242668] due to args.save_total_limit\n"
     ]
    },
    {
     "name": "stderr",
     "output_type": "stream",
     "text": [
      "***** Running Evaluation *****\n"
     ]
    },
    {
     "name": "stderr",
     "output_type": "stream",
     "text": [
      "  Num examples = 1592\n"
     ]
    },
    {
     "name": "stderr",
     "output_type": "stream",
     "text": [
      "  Batch size = 1\n"
     ]
    },
    {
     "name": "stderr",
     "output_type": "stream",
     "text": [
      "Saving model checkpoint to saved_models/XLNetDepr-3_256_8-ALL_NA-PEL-BS1-GWS_PCC_IT192_DH_3LALPHA10_NZ20_PNTh0.05_AnnotThresh0.5/checkpoint-485336\n"
     ]
    },
    {
     "name": "stderr",
     "output_type": "stream",
     "text": [
      "Configuration saved in saved_models/XLNetDepr-3_256_8-ALL_NA-PEL-BS1-GWS_PCC_IT192_DH_3LALPHA10_NZ20_PNTh0.05_AnnotThresh0.5/checkpoint-485336/config.json\n"
     ]
    },
    {
     "name": "stderr",
     "output_type": "stream",
     "text": [
      "Model weights saved in saved_models/XLNetDepr-3_256_8-ALL_NA-PEL-BS1-GWS_PCC_IT192_DH_3LALPHA10_NZ20_PNTh0.05_AnnotThresh0.5/checkpoint-485336/pytorch_model.bin\n"
     ]
    },
    {
     "name": "stderr",
     "output_type": "stream",
     "text": [
      "Deleting older checkpoint [saved_models/XLNetDepr-3_256_8-ALL_NA-PEL-BS1-GWS_PCC_IT192_DH_3LALPHA10_NZ20_PNTh0.05_AnnotThresh0.5/checkpoint-453406] due to args.save_total_limit\n"
     ]
    },
    {
     "name": "stderr",
     "output_type": "stream",
     "text": [
      "***** Running Evaluation *****\n"
     ]
    },
    {
     "name": "stderr",
     "output_type": "stream",
     "text": [
      "  Num examples = 1592\n"
     ]
    },
    {
     "name": "stderr",
     "output_type": "stream",
     "text": [
      "  Batch size = 1\n"
     ]
    },
    {
     "name": "stderr",
     "output_type": "stream",
     "text": [
      "Saving model checkpoint to saved_models/XLNetDepr-3_256_8-ALL_NA-PEL-BS1-GWS_PCC_IT192_DH_3LALPHA10_NZ20_PNTh0.05_AnnotThresh0.5/checkpoint-491722\n"
     ]
    },
    {
     "name": "stderr",
     "output_type": "stream",
     "text": [
      "Configuration saved in saved_models/XLNetDepr-3_256_8-ALL_NA-PEL-BS1-GWS_PCC_IT192_DH_3LALPHA10_NZ20_PNTh0.05_AnnotThresh0.5/checkpoint-491722/config.json\n"
     ]
    },
    {
     "name": "stderr",
     "output_type": "stream",
     "text": [
      "Model weights saved in saved_models/XLNetDepr-3_256_8-ALL_NA-PEL-BS1-GWS_PCC_IT192_DH_3LALPHA10_NZ20_PNTh0.05_AnnotThresh0.5/checkpoint-491722/pytorch_model.bin\n"
     ]
    },
    {
     "name": "stderr",
     "output_type": "stream",
     "text": [
      "Deleting older checkpoint [saved_models/XLNetDepr-3_256_8-ALL_NA-PEL-BS1-GWS_PCC_IT192_DH_3LALPHA10_NZ20_PNTh0.05_AnnotThresh0.5/checkpoint-459792] due to args.save_total_limit\n"
     ]
    },
    {
     "name": "stderr",
     "output_type": "stream",
     "text": [
      "***** Running Evaluation *****\n"
     ]
    },
    {
     "name": "stderr",
     "output_type": "stream",
     "text": [
      "  Num examples = 1592\n"
     ]
    },
    {
     "name": "stderr",
     "output_type": "stream",
     "text": [
      "  Batch size = 1\n"
     ]
    },
    {
     "name": "stderr",
     "output_type": "stream",
     "text": [
      "Saving model checkpoint to saved_models/XLNetDepr-3_256_8-ALL_NA-PEL-BS1-GWS_PCC_IT192_DH_3LALPHA10_NZ20_PNTh0.05_AnnotThresh0.5/checkpoint-498108\n"
     ]
    },
    {
     "name": "stderr",
     "output_type": "stream",
     "text": [
      "Configuration saved in saved_models/XLNetDepr-3_256_8-ALL_NA-PEL-BS1-GWS_PCC_IT192_DH_3LALPHA10_NZ20_PNTh0.05_AnnotThresh0.5/checkpoint-498108/config.json\n"
     ]
    },
    {
     "name": "stderr",
     "output_type": "stream",
     "text": [
      "Model weights saved in saved_models/XLNetDepr-3_256_8-ALL_NA-PEL-BS1-GWS_PCC_IT192_DH_3LALPHA10_NZ20_PNTh0.05_AnnotThresh0.5/checkpoint-498108/pytorch_model.bin\n"
     ]
    },
    {
     "name": "stderr",
     "output_type": "stream",
     "text": [
      "Deleting older checkpoint [saved_models/XLNetDepr-3_256_8-ALL_NA-PEL-BS1-GWS_PCC_IT192_DH_3LALPHA10_NZ20_PNTh0.05_AnnotThresh0.5/checkpoint-466178] due to args.save_total_limit\n"
     ]
    },
    {
     "name": "stderr",
     "output_type": "stream",
     "text": [
      "***** Running Evaluation *****\n"
     ]
    },
    {
     "name": "stderr",
     "output_type": "stream",
     "text": [
      "  Num examples = 1592\n"
     ]
    },
    {
     "name": "stderr",
     "output_type": "stream",
     "text": [
      "  Batch size = 1\n"
     ]
    },
    {
     "name": "stderr",
     "output_type": "stream",
     "text": [
      "Saving model checkpoint to saved_models/XLNetDepr-3_256_8-ALL_NA-PEL-BS1-GWS_PCC_IT192_DH_3LALPHA10_NZ20_PNTh0.05_AnnotThresh0.5/checkpoint-504494\n"
     ]
    },
    {
     "name": "stderr",
     "output_type": "stream",
     "text": [
      "Configuration saved in saved_models/XLNetDepr-3_256_8-ALL_NA-PEL-BS1-GWS_PCC_IT192_DH_3LALPHA10_NZ20_PNTh0.05_AnnotThresh0.5/checkpoint-504494/config.json\n"
     ]
    },
    {
     "name": "stderr",
     "output_type": "stream",
     "text": [
      "Model weights saved in saved_models/XLNetDepr-3_256_8-ALL_NA-PEL-BS1-GWS_PCC_IT192_DH_3LALPHA10_NZ20_PNTh0.05_AnnotThresh0.5/checkpoint-504494/pytorch_model.bin\n"
     ]
    },
    {
     "name": "stderr",
     "output_type": "stream",
     "text": [
      "Deleting older checkpoint [saved_models/XLNetDepr-3_256_8-ALL_NA-PEL-BS1-GWS_PCC_IT192_DH_3LALPHA10_NZ20_PNTh0.05_AnnotThresh0.5/checkpoint-472564] due to args.save_total_limit\n"
     ]
    },
    {
     "name": "stderr",
     "output_type": "stream",
     "text": [
      "***** Running Evaluation *****\n"
     ]
    },
    {
     "name": "stderr",
     "output_type": "stream",
     "text": [
      "  Num examples = 1592\n"
     ]
    },
    {
     "name": "stderr",
     "output_type": "stream",
     "text": [
      "  Batch size = 1\n"
     ]
    },
    {
     "name": "stderr",
     "output_type": "stream",
     "text": [
      "Saving model checkpoint to saved_models/XLNetDepr-3_256_8-ALL_NA-PEL-BS1-GWS_PCC_IT192_DH_3LALPHA10_NZ20_PNTh0.05_AnnotThresh0.5/checkpoint-510880\n"
     ]
    },
    {
     "name": "stderr",
     "output_type": "stream",
     "text": [
      "Configuration saved in saved_models/XLNetDepr-3_256_8-ALL_NA-PEL-BS1-GWS_PCC_IT192_DH_3LALPHA10_NZ20_PNTh0.05_AnnotThresh0.5/checkpoint-510880/config.json\n"
     ]
    },
    {
     "name": "stderr",
     "output_type": "stream",
     "text": [
      "Model weights saved in saved_models/XLNetDepr-3_256_8-ALL_NA-PEL-BS1-GWS_PCC_IT192_DH_3LALPHA10_NZ20_PNTh0.05_AnnotThresh0.5/checkpoint-510880/pytorch_model.bin\n"
     ]
    },
    {
     "name": "stderr",
     "output_type": "stream",
     "text": [
      "Deleting older checkpoint [saved_models/XLNetDepr-3_256_8-ALL_NA-PEL-BS1-GWS_PCC_IT192_DH_3LALPHA10_NZ20_PNTh0.05_AnnotThresh0.5/checkpoint-485336] due to args.save_total_limit\n"
     ]
    },
    {
     "name": "stderr",
     "output_type": "stream",
     "text": [
      "***** Running Evaluation *****\n"
     ]
    },
    {
     "name": "stderr",
     "output_type": "stream",
     "text": [
      "  Num examples = 1592\n"
     ]
    },
    {
     "name": "stderr",
     "output_type": "stream",
     "text": [
      "  Batch size = 1\n"
     ]
    },
    {
     "name": "stderr",
     "output_type": "stream",
     "text": [
      "Saving model checkpoint to saved_models/XLNetDepr-3_256_8-ALL_NA-PEL-BS1-GWS_PCC_IT192_DH_3LALPHA10_NZ20_PNTh0.05_AnnotThresh0.5/checkpoint-517266\n"
     ]
    },
    {
     "name": "stderr",
     "output_type": "stream",
     "text": [
      "Configuration saved in saved_models/XLNetDepr-3_256_8-ALL_NA-PEL-BS1-GWS_PCC_IT192_DH_3LALPHA10_NZ20_PNTh0.05_AnnotThresh0.5/checkpoint-517266/config.json\n"
     ]
    },
    {
     "name": "stderr",
     "output_type": "stream",
     "text": [
      "Model weights saved in saved_models/XLNetDepr-3_256_8-ALL_NA-PEL-BS1-GWS_PCC_IT192_DH_3LALPHA10_NZ20_PNTh0.05_AnnotThresh0.5/checkpoint-517266/pytorch_model.bin\n"
     ]
    },
    {
     "name": "stderr",
     "output_type": "stream",
     "text": [
      "Deleting older checkpoint [saved_models/XLNetDepr-3_256_8-ALL_NA-PEL-BS1-GWS_PCC_IT192_DH_3LALPHA10_NZ20_PNTh0.05_AnnotThresh0.5/checkpoint-491722] due to args.save_total_limit\n"
     ]
    },
    {
     "name": "stderr",
     "output_type": "stream",
     "text": [
      "***** Running Evaluation *****\n"
     ]
    },
    {
     "name": "stderr",
     "output_type": "stream",
     "text": [
      "  Num examples = 1592\n"
     ]
    },
    {
     "name": "stderr",
     "output_type": "stream",
     "text": [
      "  Batch size = 1\n"
     ]
    },
    {
     "name": "stderr",
     "output_type": "stream",
     "text": [
      "Saving model checkpoint to saved_models/XLNetDepr-3_256_8-ALL_NA-PEL-BS1-GWS_PCC_IT192_DH_3LALPHA10_NZ20_PNTh0.05_AnnotThresh0.5/checkpoint-523652\n"
     ]
    },
    {
     "name": "stderr",
     "output_type": "stream",
     "text": [
      "Configuration saved in saved_models/XLNetDepr-3_256_8-ALL_NA-PEL-BS1-GWS_PCC_IT192_DH_3LALPHA10_NZ20_PNTh0.05_AnnotThresh0.5/checkpoint-523652/config.json\n"
     ]
    },
    {
     "name": "stderr",
     "output_type": "stream",
     "text": [
      "Model weights saved in saved_models/XLNetDepr-3_256_8-ALL_NA-PEL-BS1-GWS_PCC_IT192_DH_3LALPHA10_NZ20_PNTh0.05_AnnotThresh0.5/checkpoint-523652/pytorch_model.bin\n"
     ]
    },
    {
     "name": "stderr",
     "output_type": "stream",
     "text": [
      "Deleting older checkpoint [saved_models/XLNetDepr-3_256_8-ALL_NA-PEL-BS1-GWS_PCC_IT192_DH_3LALPHA10_NZ20_PNTh0.05_AnnotThresh0.5/checkpoint-498108] due to args.save_total_limit\n"
     ]
    },
    {
     "name": "stderr",
     "output_type": "stream",
     "text": [
      "***** Running Evaluation *****\n"
     ]
    },
    {
     "name": "stderr",
     "output_type": "stream",
     "text": [
      "  Num examples = 1592\n"
     ]
    },
    {
     "name": "stderr",
     "output_type": "stream",
     "text": [
      "  Batch size = 1\n"
     ]
    },
    {
     "name": "stderr",
     "output_type": "stream",
     "text": [
      "Saving model checkpoint to saved_models/XLNetDepr-3_256_8-ALL_NA-PEL-BS1-GWS_PCC_IT192_DH_3LALPHA10_NZ20_PNTh0.05_AnnotThresh0.5/checkpoint-530038\n"
     ]
    },
    {
     "name": "stderr",
     "output_type": "stream",
     "text": [
      "Configuration saved in saved_models/XLNetDepr-3_256_8-ALL_NA-PEL-BS1-GWS_PCC_IT192_DH_3LALPHA10_NZ20_PNTh0.05_AnnotThresh0.5/checkpoint-530038/config.json\n"
     ]
    },
    {
     "name": "stderr",
     "output_type": "stream",
     "text": [
      "Model weights saved in saved_models/XLNetDepr-3_256_8-ALL_NA-PEL-BS1-GWS_PCC_IT192_DH_3LALPHA10_NZ20_PNTh0.05_AnnotThresh0.5/checkpoint-530038/pytorch_model.bin\n"
     ]
    },
    {
     "name": "stderr",
     "output_type": "stream",
     "text": [
      "Deleting older checkpoint [saved_models/XLNetDepr-3_256_8-ALL_NA-PEL-BS1-GWS_PCC_IT192_DH_3LALPHA10_NZ20_PNTh0.05_AnnotThresh0.5/checkpoint-504494] due to args.save_total_limit\n"
     ]
    },
    {
     "name": "stderr",
     "output_type": "stream",
     "text": [
      "***** Running Evaluation *****\n"
     ]
    },
    {
     "name": "stderr",
     "output_type": "stream",
     "text": [
      "  Num examples = 1592\n"
     ]
    },
    {
     "name": "stderr",
     "output_type": "stream",
     "text": [
      "  Batch size = 1\n"
     ]
    },
    {
     "name": "stderr",
     "output_type": "stream",
     "text": [
      "Saving model checkpoint to saved_models/XLNetDepr-3_256_8-ALL_NA-PEL-BS1-GWS_PCC_IT192_DH_3LALPHA10_NZ20_PNTh0.05_AnnotThresh0.5/checkpoint-536424\n"
     ]
    },
    {
     "name": "stderr",
     "output_type": "stream",
     "text": [
      "Configuration saved in saved_models/XLNetDepr-3_256_8-ALL_NA-PEL-BS1-GWS_PCC_IT192_DH_3LALPHA10_NZ20_PNTh0.05_AnnotThresh0.5/checkpoint-536424/config.json\n"
     ]
    },
    {
     "name": "stderr",
     "output_type": "stream",
     "text": [
      "Model weights saved in saved_models/XLNetDepr-3_256_8-ALL_NA-PEL-BS1-GWS_PCC_IT192_DH_3LALPHA10_NZ20_PNTh0.05_AnnotThresh0.5/checkpoint-536424/pytorch_model.bin\n"
     ]
    },
    {
     "name": "stderr",
     "output_type": "stream",
     "text": [
      "Deleting older checkpoint [saved_models/XLNetDepr-3_256_8-ALL_NA-PEL-BS1-GWS_PCC_IT192_DH_3LALPHA10_NZ20_PNTh0.05_AnnotThresh0.5/checkpoint-510880] due to args.save_total_limit\n"
     ]
    },
    {
     "name": "stderr",
     "output_type": "stream",
     "text": [
      "***** Running Evaluation *****\n"
     ]
    },
    {
     "name": "stderr",
     "output_type": "stream",
     "text": [
      "  Num examples = 1592\n"
     ]
    },
    {
     "name": "stderr",
     "output_type": "stream",
     "text": [
      "  Batch size = 1\n"
     ]
    },
    {
     "name": "stderr",
     "output_type": "stream",
     "text": [
      "Saving model checkpoint to saved_models/XLNetDepr-3_256_8-ALL_NA-PEL-BS1-GWS_PCC_IT192_DH_3LALPHA10_NZ20_PNTh0.05_AnnotThresh0.5/checkpoint-542810\n"
     ]
    },
    {
     "name": "stderr",
     "output_type": "stream",
     "text": [
      "Configuration saved in saved_models/XLNetDepr-3_256_8-ALL_NA-PEL-BS1-GWS_PCC_IT192_DH_3LALPHA10_NZ20_PNTh0.05_AnnotThresh0.5/checkpoint-542810/config.json\n"
     ]
    },
    {
     "name": "stderr",
     "output_type": "stream",
     "text": [
      "Model weights saved in saved_models/XLNetDepr-3_256_8-ALL_NA-PEL-BS1-GWS_PCC_IT192_DH_3LALPHA10_NZ20_PNTh0.05_AnnotThresh0.5/checkpoint-542810/pytorch_model.bin\n"
     ]
    },
    {
     "name": "stderr",
     "output_type": "stream",
     "text": [
      "Deleting older checkpoint [saved_models/XLNetDepr-3_256_8-ALL_NA-PEL-BS1-GWS_PCC_IT192_DH_3LALPHA10_NZ20_PNTh0.05_AnnotThresh0.5/checkpoint-517266] due to args.save_total_limit\n"
     ]
    },
    {
     "name": "stderr",
     "output_type": "stream",
     "text": [
      "***** Running Evaluation *****\n"
     ]
    },
    {
     "name": "stderr",
     "output_type": "stream",
     "text": [
      "  Num examples = 1592\n"
     ]
    },
    {
     "name": "stderr",
     "output_type": "stream",
     "text": [
      "  Batch size = 1\n"
     ]
    },
    {
     "name": "stderr",
     "output_type": "stream",
     "text": [
      "Saving model checkpoint to saved_models/XLNetDepr-3_256_8-ALL_NA-PEL-BS1-GWS_PCC_IT192_DH_3LALPHA10_NZ20_PNTh0.05_AnnotThresh0.5/checkpoint-549196\n"
     ]
    },
    {
     "name": "stderr",
     "output_type": "stream",
     "text": [
      "Configuration saved in saved_models/XLNetDepr-3_256_8-ALL_NA-PEL-BS1-GWS_PCC_IT192_DH_3LALPHA10_NZ20_PNTh0.05_AnnotThresh0.5/checkpoint-549196/config.json\n"
     ]
    },
    {
     "name": "stderr",
     "output_type": "stream",
     "text": [
      "Model weights saved in saved_models/XLNetDepr-3_256_8-ALL_NA-PEL-BS1-GWS_PCC_IT192_DH_3LALPHA10_NZ20_PNTh0.05_AnnotThresh0.5/checkpoint-549196/pytorch_model.bin\n"
     ]
    },
    {
     "name": "stderr",
     "output_type": "stream",
     "text": [
      "Deleting older checkpoint [saved_models/XLNetDepr-3_256_8-ALL_NA-PEL-BS1-GWS_PCC_IT192_DH_3LALPHA10_NZ20_PNTh0.05_AnnotThresh0.5/checkpoint-523652] due to args.save_total_limit\n"
     ]
    },
    {
     "name": "stderr",
     "output_type": "stream",
     "text": [
      "***** Running Evaluation *****\n"
     ]
    },
    {
     "name": "stderr",
     "output_type": "stream",
     "text": [
      "  Num examples = 1592\n"
     ]
    },
    {
     "name": "stderr",
     "output_type": "stream",
     "text": [
      "  Batch size = 1\n"
     ]
    },
    {
     "name": "stderr",
     "output_type": "stream",
     "text": [
      "Saving model checkpoint to saved_models/XLNetDepr-3_256_8-ALL_NA-PEL-BS1-GWS_PCC_IT192_DH_3LALPHA10_NZ20_PNTh0.05_AnnotThresh0.5/checkpoint-555582\n"
     ]
    },
    {
     "name": "stderr",
     "output_type": "stream",
     "text": [
      "Configuration saved in saved_models/XLNetDepr-3_256_8-ALL_NA-PEL-BS1-GWS_PCC_IT192_DH_3LALPHA10_NZ20_PNTh0.05_AnnotThresh0.5/checkpoint-555582/config.json\n"
     ]
    },
    {
     "name": "stderr",
     "output_type": "stream",
     "text": [
      "Model weights saved in saved_models/XLNetDepr-3_256_8-ALL_NA-PEL-BS1-GWS_PCC_IT192_DH_3LALPHA10_NZ20_PNTh0.05_AnnotThresh0.5/checkpoint-555582/pytorch_model.bin\n"
     ]
    },
    {
     "name": "stderr",
     "output_type": "stream",
     "text": [
      "Deleting older checkpoint [saved_models/XLNetDepr-3_256_8-ALL_NA-PEL-BS1-GWS_PCC_IT192_DH_3LALPHA10_NZ20_PNTh0.05_AnnotThresh0.5/checkpoint-530038] due to args.save_total_limit\n"
     ]
    },
    {
     "name": "stderr",
     "output_type": "stream",
     "text": [
      "***** Running Evaluation *****\n"
     ]
    },
    {
     "name": "stderr",
     "output_type": "stream",
     "text": [
      "  Num examples = 1592\n"
     ]
    },
    {
     "name": "stderr",
     "output_type": "stream",
     "text": [
      "  Batch size = 1\n"
     ]
    },
    {
     "name": "stderr",
     "output_type": "stream",
     "text": [
      "Saving model checkpoint to saved_models/XLNetDepr-3_256_8-ALL_NA-PEL-BS1-GWS_PCC_IT192_DH_3LALPHA10_NZ20_PNTh0.05_AnnotThresh0.5/checkpoint-561968\n"
     ]
    },
    {
     "name": "stderr",
     "output_type": "stream",
     "text": [
      "Configuration saved in saved_models/XLNetDepr-3_256_8-ALL_NA-PEL-BS1-GWS_PCC_IT192_DH_3LALPHA10_NZ20_PNTh0.05_AnnotThresh0.5/checkpoint-561968/config.json\n"
     ]
    },
    {
     "name": "stderr",
     "output_type": "stream",
     "text": [
      "Model weights saved in saved_models/XLNetDepr-3_256_8-ALL_NA-PEL-BS1-GWS_PCC_IT192_DH_3LALPHA10_NZ20_PNTh0.05_AnnotThresh0.5/checkpoint-561968/pytorch_model.bin\n"
     ]
    },
    {
     "name": "stderr",
     "output_type": "stream",
     "text": [
      "Deleting older checkpoint [saved_models/XLNetDepr-3_256_8-ALL_NA-PEL-BS1-GWS_PCC_IT192_DH_3LALPHA10_NZ20_PNTh0.05_AnnotThresh0.5/checkpoint-478950] due to args.save_total_limit\n"
     ]
    },
    {
     "name": "stderr",
     "output_type": "stream",
     "text": [
      "***** Running Evaluation *****\n"
     ]
    },
    {
     "name": "stderr",
     "output_type": "stream",
     "text": [
      "  Num examples = 1592\n"
     ]
    },
    {
     "name": "stderr",
     "output_type": "stream",
     "text": [
      "  Batch size = 1\n"
     ]
    },
    {
     "name": "stderr",
     "output_type": "stream",
     "text": [
      "Saving model checkpoint to saved_models/XLNetDepr-3_256_8-ALL_NA-PEL-BS1-GWS_PCC_IT192_DH_3LALPHA10_NZ20_PNTh0.05_AnnotThresh0.5/checkpoint-568354\n"
     ]
    },
    {
     "name": "stderr",
     "output_type": "stream",
     "text": [
      "Configuration saved in saved_models/XLNetDepr-3_256_8-ALL_NA-PEL-BS1-GWS_PCC_IT192_DH_3LALPHA10_NZ20_PNTh0.05_AnnotThresh0.5/checkpoint-568354/config.json\n"
     ]
    },
    {
     "name": "stderr",
     "output_type": "stream",
     "text": [
      "Model weights saved in saved_models/XLNetDepr-3_256_8-ALL_NA-PEL-BS1-GWS_PCC_IT192_DH_3LALPHA10_NZ20_PNTh0.05_AnnotThresh0.5/checkpoint-568354/pytorch_model.bin\n"
     ]
    },
    {
     "name": "stderr",
     "output_type": "stream",
     "text": [
      "Deleting older checkpoint [saved_models/XLNetDepr-3_256_8-ALL_NA-PEL-BS1-GWS_PCC_IT192_DH_3LALPHA10_NZ20_PNTh0.05_AnnotThresh0.5/checkpoint-536424] due to args.save_total_limit\n"
     ]
    },
    {
     "name": "stderr",
     "output_type": "stream",
     "text": [
      "***** Running Evaluation *****\n"
     ]
    },
    {
     "name": "stderr",
     "output_type": "stream",
     "text": [
      "  Num examples = 1592\n"
     ]
    },
    {
     "name": "stderr",
     "output_type": "stream",
     "text": [
      "  Batch size = 1\n"
     ]
    },
    {
     "name": "stderr",
     "output_type": "stream",
     "text": [
      "Saving model checkpoint to saved_models/XLNetDepr-3_256_8-ALL_NA-PEL-BS1-GWS_PCC_IT192_DH_3LALPHA10_NZ20_PNTh0.05_AnnotThresh0.5/checkpoint-574740\n"
     ]
    },
    {
     "name": "stderr",
     "output_type": "stream",
     "text": [
      "Configuration saved in saved_models/XLNetDepr-3_256_8-ALL_NA-PEL-BS1-GWS_PCC_IT192_DH_3LALPHA10_NZ20_PNTh0.05_AnnotThresh0.5/checkpoint-574740/config.json\n"
     ]
    },
    {
     "name": "stderr",
     "output_type": "stream",
     "text": [
      "Model weights saved in saved_models/XLNetDepr-3_256_8-ALL_NA-PEL-BS1-GWS_PCC_IT192_DH_3LALPHA10_NZ20_PNTh0.05_AnnotThresh0.5/checkpoint-574740/pytorch_model.bin\n"
     ]
    },
    {
     "name": "stderr",
     "output_type": "stream",
     "text": [
      "Deleting older checkpoint [saved_models/XLNetDepr-3_256_8-ALL_NA-PEL-BS1-GWS_PCC_IT192_DH_3LALPHA10_NZ20_PNTh0.05_AnnotThresh0.5/checkpoint-542810] due to args.save_total_limit\n"
     ]
    },
    {
     "name": "stderr",
     "output_type": "stream",
     "text": [
      "***** Running Evaluation *****\n"
     ]
    },
    {
     "name": "stderr",
     "output_type": "stream",
     "text": [
      "  Num examples = 1592\n"
     ]
    },
    {
     "name": "stderr",
     "output_type": "stream",
     "text": [
      "  Batch size = 1\n"
     ]
    },
    {
     "name": "stderr",
     "output_type": "stream",
     "text": [
      "Saving model checkpoint to saved_models/XLNetDepr-3_256_8-ALL_NA-PEL-BS1-GWS_PCC_IT192_DH_3LALPHA10_NZ20_PNTh0.05_AnnotThresh0.5/checkpoint-581126\n"
     ]
    },
    {
     "name": "stderr",
     "output_type": "stream",
     "text": [
      "Configuration saved in saved_models/XLNetDepr-3_256_8-ALL_NA-PEL-BS1-GWS_PCC_IT192_DH_3LALPHA10_NZ20_PNTh0.05_AnnotThresh0.5/checkpoint-581126/config.json\n"
     ]
    },
    {
     "name": "stderr",
     "output_type": "stream",
     "text": [
      "Model weights saved in saved_models/XLNetDepr-3_256_8-ALL_NA-PEL-BS1-GWS_PCC_IT192_DH_3LALPHA10_NZ20_PNTh0.05_AnnotThresh0.5/checkpoint-581126/pytorch_model.bin\n"
     ]
    },
    {
     "name": "stderr",
     "output_type": "stream",
     "text": [
      "Deleting older checkpoint [saved_models/XLNetDepr-3_256_8-ALL_NA-PEL-BS1-GWS_PCC_IT192_DH_3LALPHA10_NZ20_PNTh0.05_AnnotThresh0.5/checkpoint-549196] due to args.save_total_limit\n"
     ]
    },
    {
     "name": "stderr",
     "output_type": "stream",
     "text": [
      "***** Running Evaluation *****\n"
     ]
    },
    {
     "name": "stderr",
     "output_type": "stream",
     "text": [
      "  Num examples = 1592\n"
     ]
    },
    {
     "name": "stderr",
     "output_type": "stream",
     "text": [
      "  Batch size = 1\n"
     ]
    },
    {
     "name": "stderr",
     "output_type": "stream",
     "text": [
      "Saving model checkpoint to saved_models/XLNetDepr-3_256_8-ALL_NA-PEL-BS1-GWS_PCC_IT192_DH_3LALPHA10_NZ20_PNTh0.05_AnnotThresh0.5/checkpoint-587512\n"
     ]
    },
    {
     "name": "stderr",
     "output_type": "stream",
     "text": [
      "Configuration saved in saved_models/XLNetDepr-3_256_8-ALL_NA-PEL-BS1-GWS_PCC_IT192_DH_3LALPHA10_NZ20_PNTh0.05_AnnotThresh0.5/checkpoint-587512/config.json\n"
     ]
    },
    {
     "name": "stderr",
     "output_type": "stream",
     "text": [
      "Model weights saved in saved_models/XLNetDepr-3_256_8-ALL_NA-PEL-BS1-GWS_PCC_IT192_DH_3LALPHA10_NZ20_PNTh0.05_AnnotThresh0.5/checkpoint-587512/pytorch_model.bin\n"
     ]
    },
    {
     "name": "stderr",
     "output_type": "stream",
     "text": [
      "Deleting older checkpoint [saved_models/XLNetDepr-3_256_8-ALL_NA-PEL-BS1-GWS_PCC_IT192_DH_3LALPHA10_NZ20_PNTh0.05_AnnotThresh0.5/checkpoint-555582] due to args.save_total_limit\n"
     ]
    },
    {
     "name": "stderr",
     "output_type": "stream",
     "text": [
      "***** Running Evaluation *****\n"
     ]
    },
    {
     "name": "stderr",
     "output_type": "stream",
     "text": [
      "  Num examples = 1592\n"
     ]
    },
    {
     "name": "stderr",
     "output_type": "stream",
     "text": [
      "  Batch size = 1\n"
     ]
    },
    {
     "name": "stderr",
     "output_type": "stream",
     "text": [
      "Saving model checkpoint to saved_models/XLNetDepr-3_256_8-ALL_NA-PEL-BS1-GWS_PCC_IT192_DH_3LALPHA10_NZ20_PNTh0.05_AnnotThresh0.5/checkpoint-593898\n"
     ]
    },
    {
     "name": "stderr",
     "output_type": "stream",
     "text": [
      "Configuration saved in saved_models/XLNetDepr-3_256_8-ALL_NA-PEL-BS1-GWS_PCC_IT192_DH_3LALPHA10_NZ20_PNTh0.05_AnnotThresh0.5/checkpoint-593898/config.json\n"
     ]
    },
    {
     "name": "stderr",
     "output_type": "stream",
     "text": [
      "Model weights saved in saved_models/XLNetDepr-3_256_8-ALL_NA-PEL-BS1-GWS_PCC_IT192_DH_3LALPHA10_NZ20_PNTh0.05_AnnotThresh0.5/checkpoint-593898/pytorch_model.bin\n"
     ]
    },
    {
     "name": "stderr",
     "output_type": "stream",
     "text": [
      "Deleting older checkpoint [saved_models/XLNetDepr-3_256_8-ALL_NA-PEL-BS1-GWS_PCC_IT192_DH_3LALPHA10_NZ20_PNTh0.05_AnnotThresh0.5/checkpoint-568354] due to args.save_total_limit\n"
     ]
    },
    {
     "name": "stderr",
     "output_type": "stream",
     "text": [
      "***** Running Evaluation *****\n"
     ]
    },
    {
     "name": "stderr",
     "output_type": "stream",
     "text": [
      "  Num examples = 1592\n"
     ]
    },
    {
     "name": "stderr",
     "output_type": "stream",
     "text": [
      "  Batch size = 1\n"
     ]
    },
    {
     "name": "stderr",
     "output_type": "stream",
     "text": [
      "Saving model checkpoint to saved_models/XLNetDepr-3_256_8-ALL_NA-PEL-BS1-GWS_PCC_IT192_DH_3LALPHA10_NZ20_PNTh0.05_AnnotThresh0.5/checkpoint-600284\n"
     ]
    },
    {
     "name": "stderr",
     "output_type": "stream",
     "text": [
      "Configuration saved in saved_models/XLNetDepr-3_256_8-ALL_NA-PEL-BS1-GWS_PCC_IT192_DH_3LALPHA10_NZ20_PNTh0.05_AnnotThresh0.5/checkpoint-600284/config.json\n"
     ]
    },
    {
     "name": "stderr",
     "output_type": "stream",
     "text": [
      "Model weights saved in saved_models/XLNetDepr-3_256_8-ALL_NA-PEL-BS1-GWS_PCC_IT192_DH_3LALPHA10_NZ20_PNTh0.05_AnnotThresh0.5/checkpoint-600284/pytorch_model.bin\n"
     ]
    },
    {
     "name": "stderr",
     "output_type": "stream",
     "text": [
      "Deleting older checkpoint [saved_models/XLNetDepr-3_256_8-ALL_NA-PEL-BS1-GWS_PCC_IT192_DH_3LALPHA10_NZ20_PNTh0.05_AnnotThresh0.5/checkpoint-574740] due to args.save_total_limit\n"
     ]
    },
    {
     "name": "stderr",
     "output_type": "stream",
     "text": [
      "***** Running Evaluation *****\n"
     ]
    },
    {
     "name": "stderr",
     "output_type": "stream",
     "text": [
      "  Num examples = 1592\n"
     ]
    },
    {
     "name": "stderr",
     "output_type": "stream",
     "text": [
      "  Batch size = 1\n"
     ]
    },
    {
     "name": "stderr",
     "output_type": "stream",
     "text": [
      "Saving model checkpoint to saved_models/XLNetDepr-3_256_8-ALL_NA-PEL-BS1-GWS_PCC_IT192_DH_3LALPHA10_NZ20_PNTh0.05_AnnotThresh0.5/checkpoint-606670\n"
     ]
    },
    {
     "name": "stderr",
     "output_type": "stream",
     "text": [
      "Configuration saved in saved_models/XLNetDepr-3_256_8-ALL_NA-PEL-BS1-GWS_PCC_IT192_DH_3LALPHA10_NZ20_PNTh0.05_AnnotThresh0.5/checkpoint-606670/config.json\n"
     ]
    },
    {
     "name": "stderr",
     "output_type": "stream",
     "text": [
      "Model weights saved in saved_models/XLNetDepr-3_256_8-ALL_NA-PEL-BS1-GWS_PCC_IT192_DH_3LALPHA10_NZ20_PNTh0.05_AnnotThresh0.5/checkpoint-606670/pytorch_model.bin\n"
     ]
    },
    {
     "name": "stderr",
     "output_type": "stream",
     "text": [
      "Deleting older checkpoint [saved_models/XLNetDepr-3_256_8-ALL_NA-PEL-BS1-GWS_PCC_IT192_DH_3LALPHA10_NZ20_PNTh0.05_AnnotThresh0.5/checkpoint-581126] due to args.save_total_limit\n"
     ]
    },
    {
     "name": "stderr",
     "output_type": "stream",
     "text": [
      "***** Running Evaluation *****\n"
     ]
    },
    {
     "name": "stderr",
     "output_type": "stream",
     "text": [
      "  Num examples = 1592\n"
     ]
    },
    {
     "name": "stderr",
     "output_type": "stream",
     "text": [
      "  Batch size = 1\n"
     ]
    },
    {
     "name": "stderr",
     "output_type": "stream",
     "text": [
      "Saving model checkpoint to saved_models/XLNetDepr-3_256_8-ALL_NA-PEL-BS1-GWS_PCC_IT192_DH_3LALPHA10_NZ20_PNTh0.05_AnnotThresh0.5/checkpoint-613056\n"
     ]
    },
    {
     "name": "stderr",
     "output_type": "stream",
     "text": [
      "Configuration saved in saved_models/XLNetDepr-3_256_8-ALL_NA-PEL-BS1-GWS_PCC_IT192_DH_3LALPHA10_NZ20_PNTh0.05_AnnotThresh0.5/checkpoint-613056/config.json\n"
     ]
    },
    {
     "name": "stderr",
     "output_type": "stream",
     "text": [
      "Model weights saved in saved_models/XLNetDepr-3_256_8-ALL_NA-PEL-BS1-GWS_PCC_IT192_DH_3LALPHA10_NZ20_PNTh0.05_AnnotThresh0.5/checkpoint-613056/pytorch_model.bin\n"
     ]
    },
    {
     "name": "stderr",
     "output_type": "stream",
     "text": [
      "Deleting older checkpoint [saved_models/XLNetDepr-3_256_8-ALL_NA-PEL-BS1-GWS_PCC_IT192_DH_3LALPHA10_NZ20_PNTh0.05_AnnotThresh0.5/checkpoint-587512] due to args.save_total_limit\n"
     ]
    },
    {
     "name": "stderr",
     "output_type": "stream",
     "text": [
      "***** Running Evaluation *****\n"
     ]
    },
    {
     "name": "stderr",
     "output_type": "stream",
     "text": [
      "  Num examples = 1592\n"
     ]
    },
    {
     "name": "stderr",
     "output_type": "stream",
     "text": [
      "  Batch size = 1\n"
     ]
    },
    {
     "name": "stderr",
     "output_type": "stream",
     "text": [
      "Saving model checkpoint to saved_models/XLNetDepr-3_256_8-ALL_NA-PEL-BS1-GWS_PCC_IT192_DH_3LALPHA10_NZ20_PNTh0.05_AnnotThresh0.5/checkpoint-619442\n"
     ]
    },
    {
     "name": "stderr",
     "output_type": "stream",
     "text": [
      "Configuration saved in saved_models/XLNetDepr-3_256_8-ALL_NA-PEL-BS1-GWS_PCC_IT192_DH_3LALPHA10_NZ20_PNTh0.05_AnnotThresh0.5/checkpoint-619442/config.json\n"
     ]
    },
    {
     "name": "stderr",
     "output_type": "stream",
     "text": [
      "Model weights saved in saved_models/XLNetDepr-3_256_8-ALL_NA-PEL-BS1-GWS_PCC_IT192_DH_3LALPHA10_NZ20_PNTh0.05_AnnotThresh0.5/checkpoint-619442/pytorch_model.bin\n"
     ]
    },
    {
     "name": "stderr",
     "output_type": "stream",
     "text": [
      "Deleting older checkpoint [saved_models/XLNetDepr-3_256_8-ALL_NA-PEL-BS1-GWS_PCC_IT192_DH_3LALPHA10_NZ20_PNTh0.05_AnnotThresh0.5/checkpoint-593898] due to args.save_total_limit\n"
     ]
    },
    {
     "name": "stderr",
     "output_type": "stream",
     "text": [
      "***** Running Evaluation *****\n"
     ]
    },
    {
     "name": "stderr",
     "output_type": "stream",
     "text": [
      "  Num examples = 1592\n"
     ]
    },
    {
     "name": "stderr",
     "output_type": "stream",
     "text": [
      "  Batch size = 1\n"
     ]
    },
    {
     "name": "stderr",
     "output_type": "stream",
     "text": [
      "Saving model checkpoint to saved_models/XLNetDepr-3_256_8-ALL_NA-PEL-BS1-GWS_PCC_IT192_DH_3LALPHA10_NZ20_PNTh0.05_AnnotThresh0.5/checkpoint-625828\n"
     ]
    },
    {
     "name": "stderr",
     "output_type": "stream",
     "text": [
      "Configuration saved in saved_models/XLNetDepr-3_256_8-ALL_NA-PEL-BS1-GWS_PCC_IT192_DH_3LALPHA10_NZ20_PNTh0.05_AnnotThresh0.5/checkpoint-625828/config.json\n"
     ]
    },
    {
     "name": "stderr",
     "output_type": "stream",
     "text": [
      "Model weights saved in saved_models/XLNetDepr-3_256_8-ALL_NA-PEL-BS1-GWS_PCC_IT192_DH_3LALPHA10_NZ20_PNTh0.05_AnnotThresh0.5/checkpoint-625828/pytorch_model.bin\n"
     ]
    },
    {
     "name": "stderr",
     "output_type": "stream",
     "text": [
      "Deleting older checkpoint [saved_models/XLNetDepr-3_256_8-ALL_NA-PEL-BS1-GWS_PCC_IT192_DH_3LALPHA10_NZ20_PNTh0.05_AnnotThresh0.5/checkpoint-600284] due to args.save_total_limit\n"
     ]
    },
    {
     "name": "stderr",
     "output_type": "stream",
     "text": [
      "***** Running Evaluation *****\n"
     ]
    },
    {
     "name": "stderr",
     "output_type": "stream",
     "text": [
      "  Num examples = 1592\n"
     ]
    },
    {
     "name": "stderr",
     "output_type": "stream",
     "text": [
      "  Batch size = 1\n"
     ]
    },
    {
     "name": "stderr",
     "output_type": "stream",
     "text": [
      "Saving model checkpoint to saved_models/XLNetDepr-3_256_8-ALL_NA-PEL-BS1-GWS_PCC_IT192_DH_3LALPHA10_NZ20_PNTh0.05_AnnotThresh0.5/checkpoint-632214\n"
     ]
    },
    {
     "name": "stderr",
     "output_type": "stream",
     "text": [
      "Configuration saved in saved_models/XLNetDepr-3_256_8-ALL_NA-PEL-BS1-GWS_PCC_IT192_DH_3LALPHA10_NZ20_PNTh0.05_AnnotThresh0.5/checkpoint-632214/config.json\n"
     ]
    },
    {
     "name": "stderr",
     "output_type": "stream",
     "text": [
      "Model weights saved in saved_models/XLNetDepr-3_256_8-ALL_NA-PEL-BS1-GWS_PCC_IT192_DH_3LALPHA10_NZ20_PNTh0.05_AnnotThresh0.5/checkpoint-632214/pytorch_model.bin\n"
     ]
    },
    {
     "name": "stderr",
     "output_type": "stream",
     "text": [
      "Deleting older checkpoint [saved_models/XLNetDepr-3_256_8-ALL_NA-PEL-BS1-GWS_PCC_IT192_DH_3LALPHA10_NZ20_PNTh0.05_AnnotThresh0.5/checkpoint-606670] due to args.save_total_limit\n"
     ]
    },
    {
     "name": "stderr",
     "output_type": "stream",
     "text": [
      "***** Running Evaluation *****\n"
     ]
    },
    {
     "name": "stderr",
     "output_type": "stream",
     "text": [
      "  Num examples = 1592\n"
     ]
    },
    {
     "name": "stderr",
     "output_type": "stream",
     "text": [
      "  Batch size = 1\n"
     ]
    },
    {
     "name": "stderr",
     "output_type": "stream",
     "text": [
      "Saving model checkpoint to saved_models/XLNetDepr-3_256_8-ALL_NA-PEL-BS1-GWS_PCC_IT192_DH_3LALPHA10_NZ20_PNTh0.05_AnnotThresh0.5/checkpoint-638600\n"
     ]
    },
    {
     "name": "stderr",
     "output_type": "stream",
     "text": [
      "Configuration saved in saved_models/XLNetDepr-3_256_8-ALL_NA-PEL-BS1-GWS_PCC_IT192_DH_3LALPHA10_NZ20_PNTh0.05_AnnotThresh0.5/checkpoint-638600/config.json\n"
     ]
    },
    {
     "name": "stderr",
     "output_type": "stream",
     "text": [
      "Model weights saved in saved_models/XLNetDepr-3_256_8-ALL_NA-PEL-BS1-GWS_PCC_IT192_DH_3LALPHA10_NZ20_PNTh0.05_AnnotThresh0.5/checkpoint-638600/pytorch_model.bin\n"
     ]
    },
    {
     "name": "stderr",
     "output_type": "stream",
     "text": [
      "Deleting older checkpoint [saved_models/XLNetDepr-3_256_8-ALL_NA-PEL-BS1-GWS_PCC_IT192_DH_3LALPHA10_NZ20_PNTh0.05_AnnotThresh0.5/checkpoint-613056] due to args.save_total_limit\n"
     ]
    },
    {
     "name": "stderr",
     "output_type": "stream",
     "text": [
      "***** Running Evaluation *****\n"
     ]
    },
    {
     "name": "stderr",
     "output_type": "stream",
     "text": [
      "  Num examples = 1592\n"
     ]
    },
    {
     "name": "stderr",
     "output_type": "stream",
     "text": [
      "  Batch size = 1\n"
     ]
    },
    {
     "name": "stderr",
     "output_type": "stream",
     "text": [
      "Saving model checkpoint to saved_models/XLNetDepr-3_256_8-ALL_NA-PEL-BS1-GWS_PCC_IT192_DH_3LALPHA10_NZ20_PNTh0.05_AnnotThresh0.5/checkpoint-644986\n"
     ]
    },
    {
     "name": "stderr",
     "output_type": "stream",
     "text": [
      "Configuration saved in saved_models/XLNetDepr-3_256_8-ALL_NA-PEL-BS1-GWS_PCC_IT192_DH_3LALPHA10_NZ20_PNTh0.05_AnnotThresh0.5/checkpoint-644986/config.json\n"
     ]
    },
    {
     "name": "stderr",
     "output_type": "stream",
     "text": [
      "Model weights saved in saved_models/XLNetDepr-3_256_8-ALL_NA-PEL-BS1-GWS_PCC_IT192_DH_3LALPHA10_NZ20_PNTh0.05_AnnotThresh0.5/checkpoint-644986/pytorch_model.bin\n"
     ]
    },
    {
     "name": "stderr",
     "output_type": "stream",
     "text": [
      "Deleting older checkpoint [saved_models/XLNetDepr-3_256_8-ALL_NA-PEL-BS1-GWS_PCC_IT192_DH_3LALPHA10_NZ20_PNTh0.05_AnnotThresh0.5/checkpoint-619442] due to args.save_total_limit\n"
     ]
    },
    {
     "name": "stderr",
     "output_type": "stream",
     "text": [
      "***** Running Evaluation *****\n"
     ]
    },
    {
     "name": "stderr",
     "output_type": "stream",
     "text": [
      "  Num examples = 1592\n"
     ]
    },
    {
     "name": "stderr",
     "output_type": "stream",
     "text": [
      "  Batch size = 1\n"
     ]
    },
    {
     "name": "stderr",
     "output_type": "stream",
     "text": [
      "Saving model checkpoint to saved_models/XLNetDepr-3_256_8-ALL_NA-PEL-BS1-GWS_PCC_IT192_DH_3LALPHA10_NZ20_PNTh0.05_AnnotThresh0.5/checkpoint-651372\n"
     ]
    },
    {
     "name": "stderr",
     "output_type": "stream",
     "text": [
      "Configuration saved in saved_models/XLNetDepr-3_256_8-ALL_NA-PEL-BS1-GWS_PCC_IT192_DH_3LALPHA10_NZ20_PNTh0.05_AnnotThresh0.5/checkpoint-651372/config.json\n"
     ]
    },
    {
     "name": "stderr",
     "output_type": "stream",
     "text": [
      "Model weights saved in saved_models/XLNetDepr-3_256_8-ALL_NA-PEL-BS1-GWS_PCC_IT192_DH_3LALPHA10_NZ20_PNTh0.05_AnnotThresh0.5/checkpoint-651372/pytorch_model.bin\n"
     ]
    },
    {
     "name": "stderr",
     "output_type": "stream",
     "text": [
      "Deleting older checkpoint [saved_models/XLNetDepr-3_256_8-ALL_NA-PEL-BS1-GWS_PCC_IT192_DH_3LALPHA10_NZ20_PNTh0.05_AnnotThresh0.5/checkpoint-625828] due to args.save_total_limit\n"
     ]
    },
    {
     "name": "stderr",
     "output_type": "stream",
     "text": [
      "***** Running Evaluation *****\n"
     ]
    },
    {
     "name": "stderr",
     "output_type": "stream",
     "text": [
      "  Num examples = 1592\n"
     ]
    },
    {
     "name": "stderr",
     "output_type": "stream",
     "text": [
      "  Batch size = 1\n"
     ]
    },
    {
     "name": "stderr",
     "output_type": "stream",
     "text": [
      "Saving model checkpoint to saved_models/XLNetDepr-3_256_8-ALL_NA-PEL-BS1-GWS_PCC_IT192_DH_3LALPHA10_NZ20_PNTh0.05_AnnotThresh0.5/checkpoint-657758\n"
     ]
    },
    {
     "name": "stderr",
     "output_type": "stream",
     "text": [
      "Configuration saved in saved_models/XLNetDepr-3_256_8-ALL_NA-PEL-BS1-GWS_PCC_IT192_DH_3LALPHA10_NZ20_PNTh0.05_AnnotThresh0.5/checkpoint-657758/config.json\n"
     ]
    },
    {
     "name": "stderr",
     "output_type": "stream",
     "text": [
      "Model weights saved in saved_models/XLNetDepr-3_256_8-ALL_NA-PEL-BS1-GWS_PCC_IT192_DH_3LALPHA10_NZ20_PNTh0.05_AnnotThresh0.5/checkpoint-657758/pytorch_model.bin\n"
     ]
    },
    {
     "name": "stderr",
     "output_type": "stream",
     "text": [
      "Deleting older checkpoint [saved_models/XLNetDepr-3_256_8-ALL_NA-PEL-BS1-GWS_PCC_IT192_DH_3LALPHA10_NZ20_PNTh0.05_AnnotThresh0.5/checkpoint-632214] due to args.save_total_limit\n"
     ]
    },
    {
     "name": "stderr",
     "output_type": "stream",
     "text": [
      "***** Running Evaluation *****\n"
     ]
    },
    {
     "name": "stderr",
     "output_type": "stream",
     "text": [
      "  Num examples = 1592\n"
     ]
    },
    {
     "name": "stderr",
     "output_type": "stream",
     "text": [
      "  Batch size = 1\n"
     ]
    },
    {
     "name": "stderr",
     "output_type": "stream",
     "text": [
      "Saving model checkpoint to saved_models/XLNetDepr-3_256_8-ALL_NA-PEL-BS1-GWS_PCC_IT192_DH_3LALPHA10_NZ20_PNTh0.05_AnnotThresh0.5/checkpoint-664144\n"
     ]
    },
    {
     "name": "stderr",
     "output_type": "stream",
     "text": [
      "Configuration saved in saved_models/XLNetDepr-3_256_8-ALL_NA-PEL-BS1-GWS_PCC_IT192_DH_3LALPHA10_NZ20_PNTh0.05_AnnotThresh0.5/checkpoint-664144/config.json\n"
     ]
    },
    {
     "name": "stderr",
     "output_type": "stream",
     "text": [
      "Model weights saved in saved_models/XLNetDepr-3_256_8-ALL_NA-PEL-BS1-GWS_PCC_IT192_DH_3LALPHA10_NZ20_PNTh0.05_AnnotThresh0.5/checkpoint-664144/pytorch_model.bin\n"
     ]
    },
    {
     "name": "stderr",
     "output_type": "stream",
     "text": [
      "Deleting older checkpoint [saved_models/XLNetDepr-3_256_8-ALL_NA-PEL-BS1-GWS_PCC_IT192_DH_3LALPHA10_NZ20_PNTh0.05_AnnotThresh0.5/checkpoint-638600] due to args.save_total_limit\n"
     ]
    },
    {
     "name": "stderr",
     "output_type": "stream",
     "text": [
      "***** Running Evaluation *****\n"
     ]
    },
    {
     "name": "stderr",
     "output_type": "stream",
     "text": [
      "  Num examples = 1592\n"
     ]
    },
    {
     "name": "stderr",
     "output_type": "stream",
     "text": [
      "  Batch size = 1\n"
     ]
    },
    {
     "name": "stderr",
     "output_type": "stream",
     "text": [
      "Saving model checkpoint to saved_models/XLNetDepr-3_256_8-ALL_NA-PEL-BS1-GWS_PCC_IT192_DH_3LALPHA10_NZ20_PNTh0.05_AnnotThresh0.5/checkpoint-670530\n"
     ]
    },
    {
     "name": "stderr",
     "output_type": "stream",
     "text": [
      "Configuration saved in saved_models/XLNetDepr-3_256_8-ALL_NA-PEL-BS1-GWS_PCC_IT192_DH_3LALPHA10_NZ20_PNTh0.05_AnnotThresh0.5/checkpoint-670530/config.json\n"
     ]
    },
    {
     "name": "stderr",
     "output_type": "stream",
     "text": [
      "Model weights saved in saved_models/XLNetDepr-3_256_8-ALL_NA-PEL-BS1-GWS_PCC_IT192_DH_3LALPHA10_NZ20_PNTh0.05_AnnotThresh0.5/checkpoint-670530/pytorch_model.bin\n"
     ]
    },
    {
     "name": "stderr",
     "output_type": "stream",
     "text": [
      "Deleting older checkpoint [saved_models/XLNetDepr-3_256_8-ALL_NA-PEL-BS1-GWS_PCC_IT192_DH_3LALPHA10_NZ20_PNTh0.05_AnnotThresh0.5/checkpoint-644986] due to args.save_total_limit\n"
     ]
    },
    {
     "name": "stderr",
     "output_type": "stream",
     "text": [
      "***** Running Evaluation *****\n"
     ]
    },
    {
     "name": "stderr",
     "output_type": "stream",
     "text": [
      "  Num examples = 1592\n"
     ]
    },
    {
     "name": "stderr",
     "output_type": "stream",
     "text": [
      "  Batch size = 1\n"
     ]
    },
    {
     "name": "stderr",
     "output_type": "stream",
     "text": [
      "Saving model checkpoint to saved_models/XLNetDepr-3_256_8-ALL_NA-PEL-BS1-GWS_PCC_IT192_DH_3LALPHA10_NZ20_PNTh0.05_AnnotThresh0.5/checkpoint-676916\n"
     ]
    },
    {
     "name": "stderr",
     "output_type": "stream",
     "text": [
      "Configuration saved in saved_models/XLNetDepr-3_256_8-ALL_NA-PEL-BS1-GWS_PCC_IT192_DH_3LALPHA10_NZ20_PNTh0.05_AnnotThresh0.5/checkpoint-676916/config.json\n"
     ]
    },
    {
     "name": "stderr",
     "output_type": "stream",
     "text": [
      "Model weights saved in saved_models/XLNetDepr-3_256_8-ALL_NA-PEL-BS1-GWS_PCC_IT192_DH_3LALPHA10_NZ20_PNTh0.05_AnnotThresh0.5/checkpoint-676916/pytorch_model.bin\n"
     ]
    },
    {
     "name": "stderr",
     "output_type": "stream",
     "text": [
      "Deleting older checkpoint [saved_models/XLNetDepr-3_256_8-ALL_NA-PEL-BS1-GWS_PCC_IT192_DH_3LALPHA10_NZ20_PNTh0.05_AnnotThresh0.5/checkpoint-651372] due to args.save_total_limit\n"
     ]
    },
    {
     "name": "stderr",
     "output_type": "stream",
     "text": [
      "***** Running Evaluation *****\n"
     ]
    },
    {
     "name": "stderr",
     "output_type": "stream",
     "text": [
      "  Num examples = 1592\n"
     ]
    },
    {
     "name": "stderr",
     "output_type": "stream",
     "text": [
      "  Batch size = 1\n"
     ]
    },
    {
     "name": "stderr",
     "output_type": "stream",
     "text": [
      "Saving model checkpoint to saved_models/XLNetDepr-3_256_8-ALL_NA-PEL-BS1-GWS_PCC_IT192_DH_3LALPHA10_NZ20_PNTh0.05_AnnotThresh0.5/checkpoint-683302\n"
     ]
    },
    {
     "name": "stderr",
     "output_type": "stream",
     "text": [
      "Configuration saved in saved_models/XLNetDepr-3_256_8-ALL_NA-PEL-BS1-GWS_PCC_IT192_DH_3LALPHA10_NZ20_PNTh0.05_AnnotThresh0.5/checkpoint-683302/config.json\n"
     ]
    },
    {
     "name": "stderr",
     "output_type": "stream",
     "text": [
      "Model weights saved in saved_models/XLNetDepr-3_256_8-ALL_NA-PEL-BS1-GWS_PCC_IT192_DH_3LALPHA10_NZ20_PNTh0.05_AnnotThresh0.5/checkpoint-683302/pytorch_model.bin\n"
     ]
    },
    {
     "name": "stderr",
     "output_type": "stream",
     "text": [
      "Deleting older checkpoint [saved_models/XLNetDepr-3_256_8-ALL_NA-PEL-BS1-GWS_PCC_IT192_DH_3LALPHA10_NZ20_PNTh0.05_AnnotThresh0.5/checkpoint-657758] due to args.save_total_limit\n"
     ]
    },
    {
     "name": "stderr",
     "output_type": "stream",
     "text": [
      "***** Running Evaluation *****\n"
     ]
    },
    {
     "name": "stderr",
     "output_type": "stream",
     "text": [
      "  Num examples = 1592\n"
     ]
    },
    {
     "name": "stderr",
     "output_type": "stream",
     "text": [
      "  Batch size = 1\n"
     ]
    },
    {
     "name": "stderr",
     "output_type": "stream",
     "text": [
      "Saving model checkpoint to saved_models/XLNetDepr-3_256_8-ALL_NA-PEL-BS1-GWS_PCC_IT192_DH_3LALPHA10_NZ20_PNTh0.05_AnnotThresh0.5/checkpoint-689688\n"
     ]
    },
    {
     "name": "stderr",
     "output_type": "stream",
     "text": [
      "Configuration saved in saved_models/XLNetDepr-3_256_8-ALL_NA-PEL-BS1-GWS_PCC_IT192_DH_3LALPHA10_NZ20_PNTh0.05_AnnotThresh0.5/checkpoint-689688/config.json\n"
     ]
    },
    {
     "name": "stderr",
     "output_type": "stream",
     "text": [
      "Model weights saved in saved_models/XLNetDepr-3_256_8-ALL_NA-PEL-BS1-GWS_PCC_IT192_DH_3LALPHA10_NZ20_PNTh0.05_AnnotThresh0.5/checkpoint-689688/pytorch_model.bin\n"
     ]
    },
    {
     "name": "stderr",
     "output_type": "stream",
     "text": [
      "Deleting older checkpoint [saved_models/XLNetDepr-3_256_8-ALL_NA-PEL-BS1-GWS_PCC_IT192_DH_3LALPHA10_NZ20_PNTh0.05_AnnotThresh0.5/checkpoint-664144] due to args.save_total_limit\n"
     ]
    },
    {
     "name": "stderr",
     "output_type": "stream",
     "text": [
      "***** Running Evaluation *****\n"
     ]
    },
    {
     "name": "stderr",
     "output_type": "stream",
     "text": [
      "  Num examples = 1592\n"
     ]
    },
    {
     "name": "stderr",
     "output_type": "stream",
     "text": [
      "  Batch size = 1\n"
     ]
    },
    {
     "name": "stderr",
     "output_type": "stream",
     "text": [
      "Saving model checkpoint to saved_models/XLNetDepr-3_256_8-ALL_NA-PEL-BS1-GWS_PCC_IT192_DH_3LALPHA10_NZ20_PNTh0.05_AnnotThresh0.5/checkpoint-696074\n"
     ]
    },
    {
     "name": "stderr",
     "output_type": "stream",
     "text": [
      "Configuration saved in saved_models/XLNetDepr-3_256_8-ALL_NA-PEL-BS1-GWS_PCC_IT192_DH_3LALPHA10_NZ20_PNTh0.05_AnnotThresh0.5/checkpoint-696074/config.json\n"
     ]
    },
    {
     "name": "stderr",
     "output_type": "stream",
     "text": [
      "Model weights saved in saved_models/XLNetDepr-3_256_8-ALL_NA-PEL-BS1-GWS_PCC_IT192_DH_3LALPHA10_NZ20_PNTh0.05_AnnotThresh0.5/checkpoint-696074/pytorch_model.bin\n"
     ]
    },
    {
     "name": "stderr",
     "output_type": "stream",
     "text": [
      "Deleting older checkpoint [saved_models/XLNetDepr-3_256_8-ALL_NA-PEL-BS1-GWS_PCC_IT192_DH_3LALPHA10_NZ20_PNTh0.05_AnnotThresh0.5/checkpoint-670530] due to args.save_total_limit\n"
     ]
    },
    {
     "name": "stderr",
     "output_type": "stream",
     "text": [
      "***** Running Evaluation *****\n"
     ]
    },
    {
     "name": "stderr",
     "output_type": "stream",
     "text": [
      "  Num examples = 1592\n"
     ]
    },
    {
     "name": "stderr",
     "output_type": "stream",
     "text": [
      "  Batch size = 1\n"
     ]
    },
    {
     "name": "stderr",
     "output_type": "stream",
     "text": [
      "Saving model checkpoint to saved_models/XLNetDepr-3_256_8-ALL_NA-PEL-BS1-GWS_PCC_IT192_DH_3LALPHA10_NZ20_PNTh0.05_AnnotThresh0.5/checkpoint-702460\n"
     ]
    },
    {
     "name": "stderr",
     "output_type": "stream",
     "text": [
      "Configuration saved in saved_models/XLNetDepr-3_256_8-ALL_NA-PEL-BS1-GWS_PCC_IT192_DH_3LALPHA10_NZ20_PNTh0.05_AnnotThresh0.5/checkpoint-702460/config.json\n"
     ]
    },
    {
     "name": "stderr",
     "output_type": "stream",
     "text": [
      "Model weights saved in saved_models/XLNetDepr-3_256_8-ALL_NA-PEL-BS1-GWS_PCC_IT192_DH_3LALPHA10_NZ20_PNTh0.05_AnnotThresh0.5/checkpoint-702460/pytorch_model.bin\n"
     ]
    },
    {
     "name": "stderr",
     "output_type": "stream",
     "text": [
      "Deleting older checkpoint [saved_models/XLNetDepr-3_256_8-ALL_NA-PEL-BS1-GWS_PCC_IT192_DH_3LALPHA10_NZ20_PNTh0.05_AnnotThresh0.5/checkpoint-676916] due to args.save_total_limit\n"
     ]
    },
    {
     "name": "stderr",
     "output_type": "stream",
     "text": [
      "***** Running Evaluation *****\n"
     ]
    },
    {
     "name": "stderr",
     "output_type": "stream",
     "text": [
      "  Num examples = 1592\n"
     ]
    },
    {
     "name": "stderr",
     "output_type": "stream",
     "text": [
      "  Batch size = 1\n"
     ]
    },
    {
     "name": "stderr",
     "output_type": "stream",
     "text": [
      "Saving model checkpoint to saved_models/XLNetDepr-3_256_8-ALL_NA-PEL-BS1-GWS_PCC_IT192_DH_3LALPHA10_NZ20_PNTh0.05_AnnotThresh0.5/checkpoint-708846\n"
     ]
    },
    {
     "name": "stderr",
     "output_type": "stream",
     "text": [
      "Configuration saved in saved_models/XLNetDepr-3_256_8-ALL_NA-PEL-BS1-GWS_PCC_IT192_DH_3LALPHA10_NZ20_PNTh0.05_AnnotThresh0.5/checkpoint-708846/config.json\n"
     ]
    },
    {
     "name": "stderr",
     "output_type": "stream",
     "text": [
      "Model weights saved in saved_models/XLNetDepr-3_256_8-ALL_NA-PEL-BS1-GWS_PCC_IT192_DH_3LALPHA10_NZ20_PNTh0.05_AnnotThresh0.5/checkpoint-708846/pytorch_model.bin\n"
     ]
    },
    {
     "name": "stderr",
     "output_type": "stream",
     "text": [
      "Deleting older checkpoint [saved_models/XLNetDepr-3_256_8-ALL_NA-PEL-BS1-GWS_PCC_IT192_DH_3LALPHA10_NZ20_PNTh0.05_AnnotThresh0.5/checkpoint-683302] due to args.save_total_limit\n"
     ]
    },
    {
     "name": "stderr",
     "output_type": "stream",
     "text": [
      "***** Running Evaluation *****\n"
     ]
    },
    {
     "name": "stderr",
     "output_type": "stream",
     "text": [
      "  Num examples = 1592\n"
     ]
    },
    {
     "name": "stderr",
     "output_type": "stream",
     "text": [
      "  Batch size = 1\n"
     ]
    },
    {
     "name": "stderr",
     "output_type": "stream",
     "text": [
      "Saving model checkpoint to saved_models/XLNetDepr-3_256_8-ALL_NA-PEL-BS1-GWS_PCC_IT192_DH_3LALPHA10_NZ20_PNTh0.05_AnnotThresh0.5/checkpoint-715232\n"
     ]
    },
    {
     "name": "stderr",
     "output_type": "stream",
     "text": [
      "Configuration saved in saved_models/XLNetDepr-3_256_8-ALL_NA-PEL-BS1-GWS_PCC_IT192_DH_3LALPHA10_NZ20_PNTh0.05_AnnotThresh0.5/checkpoint-715232/config.json\n"
     ]
    },
    {
     "name": "stderr",
     "output_type": "stream",
     "text": [
      "Model weights saved in saved_models/XLNetDepr-3_256_8-ALL_NA-PEL-BS1-GWS_PCC_IT192_DH_3LALPHA10_NZ20_PNTh0.05_AnnotThresh0.5/checkpoint-715232/pytorch_model.bin\n"
     ]
    },
    {
     "name": "stderr",
     "output_type": "stream",
     "text": [
      "Deleting older checkpoint [saved_models/XLNetDepr-3_256_8-ALL_NA-PEL-BS1-GWS_PCC_IT192_DH_3LALPHA10_NZ20_PNTh0.05_AnnotThresh0.5/checkpoint-689688] due to args.save_total_limit\n"
     ]
    },
    {
     "name": "stderr",
     "output_type": "stream",
     "text": [
      "***** Running Evaluation *****\n"
     ]
    },
    {
     "name": "stderr",
     "output_type": "stream",
     "text": [
      "  Num examples = 1592\n"
     ]
    },
    {
     "name": "stderr",
     "output_type": "stream",
     "text": [
      "  Batch size = 1\n"
     ]
    },
    {
     "name": "stderr",
     "output_type": "stream",
     "text": [
      "Saving model checkpoint to saved_models/XLNetDepr-3_256_8-ALL_NA-PEL-BS1-GWS_PCC_IT192_DH_3LALPHA10_NZ20_PNTh0.05_AnnotThresh0.5/checkpoint-721618\n"
     ]
    },
    {
     "name": "stderr",
     "output_type": "stream",
     "text": [
      "Configuration saved in saved_models/XLNetDepr-3_256_8-ALL_NA-PEL-BS1-GWS_PCC_IT192_DH_3LALPHA10_NZ20_PNTh0.05_AnnotThresh0.5/checkpoint-721618/config.json\n"
     ]
    },
    {
     "name": "stderr",
     "output_type": "stream",
     "text": [
      "Model weights saved in saved_models/XLNetDepr-3_256_8-ALL_NA-PEL-BS1-GWS_PCC_IT192_DH_3LALPHA10_NZ20_PNTh0.05_AnnotThresh0.5/checkpoint-721618/pytorch_model.bin\n"
     ]
    },
    {
     "name": "stderr",
     "output_type": "stream",
     "text": [
      "Deleting older checkpoint [saved_models/XLNetDepr-3_256_8-ALL_NA-PEL-BS1-GWS_PCC_IT192_DH_3LALPHA10_NZ20_PNTh0.05_AnnotThresh0.5/checkpoint-696074] due to args.save_total_limit\n"
     ]
    },
    {
     "name": "stderr",
     "output_type": "stream",
     "text": [
      "***** Running Evaluation *****\n"
     ]
    },
    {
     "name": "stderr",
     "output_type": "stream",
     "text": [
      "  Num examples = 1592\n"
     ]
    },
    {
     "name": "stderr",
     "output_type": "stream",
     "text": [
      "  Batch size = 1\n"
     ]
    },
    {
     "name": "stderr",
     "output_type": "stream",
     "text": [
      "Saving model checkpoint to saved_models/XLNetDepr-3_256_8-ALL_NA-PEL-BS1-GWS_PCC_IT192_DH_3LALPHA10_NZ20_PNTh0.05_AnnotThresh0.5/checkpoint-728004\n"
     ]
    },
    {
     "name": "stderr",
     "output_type": "stream",
     "text": [
      "Configuration saved in saved_models/XLNetDepr-3_256_8-ALL_NA-PEL-BS1-GWS_PCC_IT192_DH_3LALPHA10_NZ20_PNTh0.05_AnnotThresh0.5/checkpoint-728004/config.json\n"
     ]
    },
    {
     "name": "stderr",
     "output_type": "stream",
     "text": [
      "Model weights saved in saved_models/XLNetDepr-3_256_8-ALL_NA-PEL-BS1-GWS_PCC_IT192_DH_3LALPHA10_NZ20_PNTh0.05_AnnotThresh0.5/checkpoint-728004/pytorch_model.bin\n"
     ]
    },
    {
     "name": "stderr",
     "output_type": "stream",
     "text": [
      "Deleting older checkpoint [saved_models/XLNetDepr-3_256_8-ALL_NA-PEL-BS1-GWS_PCC_IT192_DH_3LALPHA10_NZ20_PNTh0.05_AnnotThresh0.5/checkpoint-702460] due to args.save_total_limit\n"
     ]
    },
    {
     "name": "stderr",
     "output_type": "stream",
     "text": [
      "***** Running Evaluation *****\n"
     ]
    },
    {
     "name": "stderr",
     "output_type": "stream",
     "text": [
      "  Num examples = 1592\n"
     ]
    },
    {
     "name": "stderr",
     "output_type": "stream",
     "text": [
      "  Batch size = 1\n"
     ]
    },
    {
     "name": "stderr",
     "output_type": "stream",
     "text": [
      "Saving model checkpoint to saved_models/XLNetDepr-3_256_8-ALL_NA-PEL-BS1-GWS_PCC_IT192_DH_3LALPHA10_NZ20_PNTh0.05_AnnotThresh0.5/checkpoint-734390\n"
     ]
    },
    {
     "name": "stderr",
     "output_type": "stream",
     "text": [
      "Configuration saved in saved_models/XLNetDepr-3_256_8-ALL_NA-PEL-BS1-GWS_PCC_IT192_DH_3LALPHA10_NZ20_PNTh0.05_AnnotThresh0.5/checkpoint-734390/config.json\n"
     ]
    },
    {
     "name": "stderr",
     "output_type": "stream",
     "text": [
      "Model weights saved in saved_models/XLNetDepr-3_256_8-ALL_NA-PEL-BS1-GWS_PCC_IT192_DH_3LALPHA10_NZ20_PNTh0.05_AnnotThresh0.5/checkpoint-734390/pytorch_model.bin\n"
     ]
    },
    {
     "name": "stderr",
     "output_type": "stream",
     "text": [
      "Deleting older checkpoint [saved_models/XLNetDepr-3_256_8-ALL_NA-PEL-BS1-GWS_PCC_IT192_DH_3LALPHA10_NZ20_PNTh0.05_AnnotThresh0.5/checkpoint-708846] due to args.save_total_limit\n"
     ]
    },
    {
     "name": "stderr",
     "output_type": "stream",
     "text": [
      "***** Running Evaluation *****\n"
     ]
    },
    {
     "name": "stderr",
     "output_type": "stream",
     "text": [
      "  Num examples = 1592\n"
     ]
    },
    {
     "name": "stderr",
     "output_type": "stream",
     "text": [
      "  Batch size = 1\n"
     ]
    },
    {
     "name": "stderr",
     "output_type": "stream",
     "text": [
      "Saving model checkpoint to saved_models/XLNetDepr-3_256_8-ALL_NA-PEL-BS1-GWS_PCC_IT192_DH_3LALPHA10_NZ20_PNTh0.05_AnnotThresh0.5/checkpoint-740776\n"
     ]
    },
    {
     "name": "stderr",
     "output_type": "stream",
     "text": [
      "Configuration saved in saved_models/XLNetDepr-3_256_8-ALL_NA-PEL-BS1-GWS_PCC_IT192_DH_3LALPHA10_NZ20_PNTh0.05_AnnotThresh0.5/checkpoint-740776/config.json\n"
     ]
    },
    {
     "name": "stderr",
     "output_type": "stream",
     "text": [
      "Model weights saved in saved_models/XLNetDepr-3_256_8-ALL_NA-PEL-BS1-GWS_PCC_IT192_DH_3LALPHA10_NZ20_PNTh0.05_AnnotThresh0.5/checkpoint-740776/pytorch_model.bin\n"
     ]
    },
    {
     "name": "stderr",
     "output_type": "stream",
     "text": [
      "Deleting older checkpoint [saved_models/XLNetDepr-3_256_8-ALL_NA-PEL-BS1-GWS_PCC_IT192_DH_3LALPHA10_NZ20_PNTh0.05_AnnotThresh0.5/checkpoint-715232] due to args.save_total_limit\n"
     ]
    },
    {
     "name": "stderr",
     "output_type": "stream",
     "text": [
      "***** Running Evaluation *****\n"
     ]
    },
    {
     "name": "stderr",
     "output_type": "stream",
     "text": [
      "  Num examples = 1592\n"
     ]
    },
    {
     "name": "stderr",
     "output_type": "stream",
     "text": [
      "  Batch size = 1\n"
     ]
    },
    {
     "name": "stderr",
     "output_type": "stream",
     "text": [
      "Saving model checkpoint to saved_models/XLNetDepr-3_256_8-ALL_NA-PEL-BS1-GWS_PCC_IT192_DH_3LALPHA10_NZ20_PNTh0.05_AnnotThresh0.5/checkpoint-747162\n"
     ]
    },
    {
     "name": "stderr",
     "output_type": "stream",
     "text": [
      "Configuration saved in saved_models/XLNetDepr-3_256_8-ALL_NA-PEL-BS1-GWS_PCC_IT192_DH_3LALPHA10_NZ20_PNTh0.05_AnnotThresh0.5/checkpoint-747162/config.json\n"
     ]
    },
    {
     "name": "stderr",
     "output_type": "stream",
     "text": [
      "Model weights saved in saved_models/XLNetDepr-3_256_8-ALL_NA-PEL-BS1-GWS_PCC_IT192_DH_3LALPHA10_NZ20_PNTh0.05_AnnotThresh0.5/checkpoint-747162/pytorch_model.bin\n"
     ]
    },
    {
     "name": "stderr",
     "output_type": "stream",
     "text": [
      "Deleting older checkpoint [saved_models/XLNetDepr-3_256_8-ALL_NA-PEL-BS1-GWS_PCC_IT192_DH_3LALPHA10_NZ20_PNTh0.05_AnnotThresh0.5/checkpoint-721618] due to args.save_total_limit\n"
     ]
    },
    {
     "name": "stderr",
     "output_type": "stream",
     "text": [
      "***** Running Evaluation *****\n"
     ]
    },
    {
     "name": "stderr",
     "output_type": "stream",
     "text": [
      "  Num examples = 1592\n"
     ]
    },
    {
     "name": "stderr",
     "output_type": "stream",
     "text": [
      "  Batch size = 1\n"
     ]
    },
    {
     "name": "stderr",
     "output_type": "stream",
     "text": [
      "Saving model checkpoint to saved_models/XLNetDepr-3_256_8-ALL_NA-PEL-BS1-GWS_PCC_IT192_DH_3LALPHA10_NZ20_PNTh0.05_AnnotThresh0.5/checkpoint-753548\n"
     ]
    },
    {
     "name": "stderr",
     "output_type": "stream",
     "text": [
      "Configuration saved in saved_models/XLNetDepr-3_256_8-ALL_NA-PEL-BS1-GWS_PCC_IT192_DH_3LALPHA10_NZ20_PNTh0.05_AnnotThresh0.5/checkpoint-753548/config.json\n"
     ]
    },
    {
     "name": "stderr",
     "output_type": "stream",
     "text": [
      "Model weights saved in saved_models/XLNetDepr-3_256_8-ALL_NA-PEL-BS1-GWS_PCC_IT192_DH_3LALPHA10_NZ20_PNTh0.05_AnnotThresh0.5/checkpoint-753548/pytorch_model.bin\n"
     ]
    },
    {
     "name": "stderr",
     "output_type": "stream",
     "text": [
      "Deleting older checkpoint [saved_models/XLNetDepr-3_256_8-ALL_NA-PEL-BS1-GWS_PCC_IT192_DH_3LALPHA10_NZ20_PNTh0.05_AnnotThresh0.5/checkpoint-728004] due to args.save_total_limit\n"
     ]
    },
    {
     "name": "stderr",
     "output_type": "stream",
     "text": [
      "***** Running Evaluation *****\n"
     ]
    },
    {
     "name": "stderr",
     "output_type": "stream",
     "text": [
      "  Num examples = 1592\n"
     ]
    },
    {
     "name": "stderr",
     "output_type": "stream",
     "text": [
      "  Batch size = 1\n"
     ]
    },
    {
     "name": "stderr",
     "output_type": "stream",
     "text": [
      "Saving model checkpoint to saved_models/XLNetDepr-3_256_8-ALL_NA-PEL-BS1-GWS_PCC_IT192_DH_3LALPHA10_NZ20_PNTh0.05_AnnotThresh0.5/checkpoint-759934\n"
     ]
    },
    {
     "name": "stderr",
     "output_type": "stream",
     "text": [
      "Configuration saved in saved_models/XLNetDepr-3_256_8-ALL_NA-PEL-BS1-GWS_PCC_IT192_DH_3LALPHA10_NZ20_PNTh0.05_AnnotThresh0.5/checkpoint-759934/config.json\n"
     ]
    },
    {
     "name": "stderr",
     "output_type": "stream",
     "text": [
      "Model weights saved in saved_models/XLNetDepr-3_256_8-ALL_NA-PEL-BS1-GWS_PCC_IT192_DH_3LALPHA10_NZ20_PNTh0.05_AnnotThresh0.5/checkpoint-759934/pytorch_model.bin\n"
     ]
    },
    {
     "name": "stderr",
     "output_type": "stream",
     "text": [
      "Deleting older checkpoint [saved_models/XLNetDepr-3_256_8-ALL_NA-PEL-BS1-GWS_PCC_IT192_DH_3LALPHA10_NZ20_PNTh0.05_AnnotThresh0.5/checkpoint-734390] due to args.save_total_limit\n"
     ]
    },
    {
     "name": "stderr",
     "output_type": "stream",
     "text": [
      "***** Running Evaluation *****\n"
     ]
    },
    {
     "name": "stderr",
     "output_type": "stream",
     "text": [
      "  Num examples = 1592\n"
     ]
    },
    {
     "name": "stderr",
     "output_type": "stream",
     "text": [
      "  Batch size = 1\n"
     ]
    },
    {
     "name": "stderr",
     "output_type": "stream",
     "text": [
      "Saving model checkpoint to saved_models/XLNetDepr-3_256_8-ALL_NA-PEL-BS1-GWS_PCC_IT192_DH_3LALPHA10_NZ20_PNTh0.05_AnnotThresh0.5/checkpoint-766320\n"
     ]
    },
    {
     "name": "stderr",
     "output_type": "stream",
     "text": [
      "Configuration saved in saved_models/XLNetDepr-3_256_8-ALL_NA-PEL-BS1-GWS_PCC_IT192_DH_3LALPHA10_NZ20_PNTh0.05_AnnotThresh0.5/checkpoint-766320/config.json\n"
     ]
    },
    {
     "name": "stderr",
     "output_type": "stream",
     "text": [
      "Model weights saved in saved_models/XLNetDepr-3_256_8-ALL_NA-PEL-BS1-GWS_PCC_IT192_DH_3LALPHA10_NZ20_PNTh0.05_AnnotThresh0.5/checkpoint-766320/pytorch_model.bin\n"
     ]
    },
    {
     "name": "stderr",
     "output_type": "stream",
     "text": [
      "Deleting older checkpoint [saved_models/XLNetDepr-3_256_8-ALL_NA-PEL-BS1-GWS_PCC_IT192_DH_3LALPHA10_NZ20_PNTh0.05_AnnotThresh0.5/checkpoint-740776] due to args.save_total_limit\n"
     ]
    },
    {
     "name": "stderr",
     "output_type": "stream",
     "text": [
      "***** Running Evaluation *****\n"
     ]
    },
    {
     "name": "stderr",
     "output_type": "stream",
     "text": [
      "  Num examples = 1592\n"
     ]
    },
    {
     "name": "stderr",
     "output_type": "stream",
     "text": [
      "  Batch size = 1\n"
     ]
    },
    {
     "name": "stderr",
     "output_type": "stream",
     "text": [
      "Saving model checkpoint to saved_models/XLNetDepr-3_256_8-ALL_NA-PEL-BS1-GWS_PCC_IT192_DH_3LALPHA10_NZ20_PNTh0.05_AnnotThresh0.5/checkpoint-772706\n"
     ]
    },
    {
     "name": "stderr",
     "output_type": "stream",
     "text": [
      "Configuration saved in saved_models/XLNetDepr-3_256_8-ALL_NA-PEL-BS1-GWS_PCC_IT192_DH_3LALPHA10_NZ20_PNTh0.05_AnnotThresh0.5/checkpoint-772706/config.json\n"
     ]
    },
    {
     "name": "stderr",
     "output_type": "stream",
     "text": [
      "Model weights saved in saved_models/XLNetDepr-3_256_8-ALL_NA-PEL-BS1-GWS_PCC_IT192_DH_3LALPHA10_NZ20_PNTh0.05_AnnotThresh0.5/checkpoint-772706/pytorch_model.bin\n"
     ]
    },
    {
     "name": "stderr",
     "output_type": "stream",
     "text": [
      "Deleting older checkpoint [saved_models/XLNetDepr-3_256_8-ALL_NA-PEL-BS1-GWS_PCC_IT192_DH_3LALPHA10_NZ20_PNTh0.05_AnnotThresh0.5/checkpoint-747162] due to args.save_total_limit\n"
     ]
    },
    {
     "name": "stderr",
     "output_type": "stream",
     "text": [
      "***** Running Evaluation *****\n"
     ]
    },
    {
     "name": "stderr",
     "output_type": "stream",
     "text": [
      "  Num examples = 1592\n"
     ]
    },
    {
     "name": "stderr",
     "output_type": "stream",
     "text": [
      "  Batch size = 1\n"
     ]
    },
    {
     "name": "stderr",
     "output_type": "stream",
     "text": [
      "Saving model checkpoint to saved_models/XLNetDepr-3_256_8-ALL_NA-PEL-BS1-GWS_PCC_IT192_DH_3LALPHA10_NZ20_PNTh0.05_AnnotThresh0.5/checkpoint-779092\n"
     ]
    },
    {
     "name": "stderr",
     "output_type": "stream",
     "text": [
      "Configuration saved in saved_models/XLNetDepr-3_256_8-ALL_NA-PEL-BS1-GWS_PCC_IT192_DH_3LALPHA10_NZ20_PNTh0.05_AnnotThresh0.5/checkpoint-779092/config.json\n"
     ]
    },
    {
     "name": "stderr",
     "output_type": "stream",
     "text": [
      "Model weights saved in saved_models/XLNetDepr-3_256_8-ALL_NA-PEL-BS1-GWS_PCC_IT192_DH_3LALPHA10_NZ20_PNTh0.05_AnnotThresh0.5/checkpoint-779092/pytorch_model.bin\n"
     ]
    },
    {
     "name": "stderr",
     "output_type": "stream",
     "text": [
      "Deleting older checkpoint [saved_models/XLNetDepr-3_256_8-ALL_NA-PEL-BS1-GWS_PCC_IT192_DH_3LALPHA10_NZ20_PNTh0.05_AnnotThresh0.5/checkpoint-753548] due to args.save_total_limit\n"
     ]
    },
    {
     "name": "stderr",
     "output_type": "stream",
     "text": [
      "***** Running Evaluation *****\n"
     ]
    },
    {
     "name": "stderr",
     "output_type": "stream",
     "text": [
      "  Num examples = 1592\n"
     ]
    },
    {
     "name": "stderr",
     "output_type": "stream",
     "text": [
      "  Batch size = 1\n"
     ]
    },
    {
     "name": "stderr",
     "output_type": "stream",
     "text": [
      "Saving model checkpoint to saved_models/XLNetDepr-3_256_8-ALL_NA-PEL-BS1-GWS_PCC_IT192_DH_3LALPHA10_NZ20_PNTh0.05_AnnotThresh0.5/checkpoint-785478\n"
     ]
    },
    {
     "name": "stderr",
     "output_type": "stream",
     "text": [
      "Configuration saved in saved_models/XLNetDepr-3_256_8-ALL_NA-PEL-BS1-GWS_PCC_IT192_DH_3LALPHA10_NZ20_PNTh0.05_AnnotThresh0.5/checkpoint-785478/config.json\n"
     ]
    },
    {
     "name": "stderr",
     "output_type": "stream",
     "text": [
      "Model weights saved in saved_models/XLNetDepr-3_256_8-ALL_NA-PEL-BS1-GWS_PCC_IT192_DH_3LALPHA10_NZ20_PNTh0.05_AnnotThresh0.5/checkpoint-785478/pytorch_model.bin\n"
     ]
    },
    {
     "name": "stderr",
     "output_type": "stream",
     "text": [
      "Deleting older checkpoint [saved_models/XLNetDepr-3_256_8-ALL_NA-PEL-BS1-GWS_PCC_IT192_DH_3LALPHA10_NZ20_PNTh0.05_AnnotThresh0.5/checkpoint-759934] due to args.save_total_limit\n"
     ]
    },
    {
     "name": "stderr",
     "output_type": "stream",
     "text": [
      "***** Running Evaluation *****\n"
     ]
    },
    {
     "name": "stderr",
     "output_type": "stream",
     "text": [
      "  Num examples = 1592\n"
     ]
    },
    {
     "name": "stderr",
     "output_type": "stream",
     "text": [
      "  Batch size = 1\n"
     ]
    },
    {
     "name": "stderr",
     "output_type": "stream",
     "text": [
      "Saving model checkpoint to saved_models/XLNetDepr-3_256_8-ALL_NA-PEL-BS1-GWS_PCC_IT192_DH_3LALPHA10_NZ20_PNTh0.05_AnnotThresh0.5/checkpoint-791864\n"
     ]
    },
    {
     "name": "stderr",
     "output_type": "stream",
     "text": [
      "Configuration saved in saved_models/XLNetDepr-3_256_8-ALL_NA-PEL-BS1-GWS_PCC_IT192_DH_3LALPHA10_NZ20_PNTh0.05_AnnotThresh0.5/checkpoint-791864/config.json\n"
     ]
    },
    {
     "name": "stderr",
     "output_type": "stream",
     "text": [
      "Model weights saved in saved_models/XLNetDepr-3_256_8-ALL_NA-PEL-BS1-GWS_PCC_IT192_DH_3LALPHA10_NZ20_PNTh0.05_AnnotThresh0.5/checkpoint-791864/pytorch_model.bin\n"
     ]
    },
    {
     "name": "stderr",
     "output_type": "stream",
     "text": [
      "Deleting older checkpoint [saved_models/XLNetDepr-3_256_8-ALL_NA-PEL-BS1-GWS_PCC_IT192_DH_3LALPHA10_NZ20_PNTh0.05_AnnotThresh0.5/checkpoint-766320] due to args.save_total_limit\n"
     ]
    },
    {
     "name": "stderr",
     "output_type": "stream",
     "text": [
      "***** Running Evaluation *****\n"
     ]
    },
    {
     "name": "stderr",
     "output_type": "stream",
     "text": [
      "  Num examples = 1592\n"
     ]
    },
    {
     "name": "stderr",
     "output_type": "stream",
     "text": [
      "  Batch size = 1\n"
     ]
    },
    {
     "name": "stderr",
     "output_type": "stream",
     "text": [
      "Saving model checkpoint to saved_models/XLNetDepr-3_256_8-ALL_NA-PEL-BS1-GWS_PCC_IT192_DH_3LALPHA10_NZ20_PNTh0.05_AnnotThresh0.5/checkpoint-798250\n"
     ]
    },
    {
     "name": "stderr",
     "output_type": "stream",
     "text": [
      "Configuration saved in saved_models/XLNetDepr-3_256_8-ALL_NA-PEL-BS1-GWS_PCC_IT192_DH_3LALPHA10_NZ20_PNTh0.05_AnnotThresh0.5/checkpoint-798250/config.json\n"
     ]
    },
    {
     "name": "stderr",
     "output_type": "stream",
     "text": [
      "Model weights saved in saved_models/XLNetDepr-3_256_8-ALL_NA-PEL-BS1-GWS_PCC_IT192_DH_3LALPHA10_NZ20_PNTh0.05_AnnotThresh0.5/checkpoint-798250/pytorch_model.bin\n"
     ]
    },
    {
     "name": "stderr",
     "output_type": "stream",
     "text": [
      "Deleting older checkpoint [saved_models/XLNetDepr-3_256_8-ALL_NA-PEL-BS1-GWS_PCC_IT192_DH_3LALPHA10_NZ20_PNTh0.05_AnnotThresh0.5/checkpoint-772706] due to args.save_total_limit\n"
     ]
    },
    {
     "name": "stderr",
     "output_type": "stream",
     "text": [
      "***** Running Evaluation *****\n"
     ]
    },
    {
     "name": "stderr",
     "output_type": "stream",
     "text": [
      "  Num examples = 1592\n"
     ]
    },
    {
     "name": "stderr",
     "output_type": "stream",
     "text": [
      "  Batch size = 1\n"
     ]
    },
    {
     "name": "stderr",
     "output_type": "stream",
     "text": [
      "Saving model checkpoint to saved_models/XLNetDepr-3_256_8-ALL_NA-PEL-BS1-GWS_PCC_IT192_DH_3LALPHA10_NZ20_PNTh0.05_AnnotThresh0.5/checkpoint-804636\n"
     ]
    },
    {
     "name": "stderr",
     "output_type": "stream",
     "text": [
      "Configuration saved in saved_models/XLNetDepr-3_256_8-ALL_NA-PEL-BS1-GWS_PCC_IT192_DH_3LALPHA10_NZ20_PNTh0.05_AnnotThresh0.5/checkpoint-804636/config.json\n"
     ]
    },
    {
     "name": "stderr",
     "output_type": "stream",
     "text": [
      "Model weights saved in saved_models/XLNetDepr-3_256_8-ALL_NA-PEL-BS1-GWS_PCC_IT192_DH_3LALPHA10_NZ20_PNTh0.05_AnnotThresh0.5/checkpoint-804636/pytorch_model.bin\n"
     ]
    },
    {
     "name": "stderr",
     "output_type": "stream",
     "text": [
      "Deleting older checkpoint [saved_models/XLNetDepr-3_256_8-ALL_NA-PEL-BS1-GWS_PCC_IT192_DH_3LALPHA10_NZ20_PNTh0.05_AnnotThresh0.5/checkpoint-779092] due to args.save_total_limit\n"
     ]
    },
    {
     "name": "stderr",
     "output_type": "stream",
     "text": [
      "***** Running Evaluation *****\n"
     ]
    },
    {
     "name": "stderr",
     "output_type": "stream",
     "text": [
      "  Num examples = 1592\n"
     ]
    },
    {
     "name": "stderr",
     "output_type": "stream",
     "text": [
      "  Batch size = 1\n"
     ]
    },
    {
     "name": "stderr",
     "output_type": "stream",
     "text": [
      "Saving model checkpoint to saved_models/XLNetDepr-3_256_8-ALL_NA-PEL-BS1-GWS_PCC_IT192_DH_3LALPHA10_NZ20_PNTh0.05_AnnotThresh0.5/checkpoint-811022\n"
     ]
    },
    {
     "name": "stderr",
     "output_type": "stream",
     "text": [
      "Configuration saved in saved_models/XLNetDepr-3_256_8-ALL_NA-PEL-BS1-GWS_PCC_IT192_DH_3LALPHA10_NZ20_PNTh0.05_AnnotThresh0.5/checkpoint-811022/config.json\n"
     ]
    },
    {
     "name": "stderr",
     "output_type": "stream",
     "text": [
      "Model weights saved in saved_models/XLNetDepr-3_256_8-ALL_NA-PEL-BS1-GWS_PCC_IT192_DH_3LALPHA10_NZ20_PNTh0.05_AnnotThresh0.5/checkpoint-811022/pytorch_model.bin\n"
     ]
    },
    {
     "name": "stderr",
     "output_type": "stream",
     "text": [
      "Deleting older checkpoint [saved_models/XLNetDepr-3_256_8-ALL_NA-PEL-BS1-GWS_PCC_IT192_DH_3LALPHA10_NZ20_PNTh0.05_AnnotThresh0.5/checkpoint-785478] due to args.save_total_limit\n"
     ]
    },
    {
     "name": "stderr",
     "output_type": "stream",
     "text": [
      "***** Running Evaluation *****\n"
     ]
    },
    {
     "name": "stderr",
     "output_type": "stream",
     "text": [
      "  Num examples = 1592\n"
     ]
    },
    {
     "name": "stderr",
     "output_type": "stream",
     "text": [
      "  Batch size = 1\n"
     ]
    },
    {
     "name": "stderr",
     "output_type": "stream",
     "text": [
      "Saving model checkpoint to saved_models/XLNetDepr-3_256_8-ALL_NA-PEL-BS1-GWS_PCC_IT192_DH_3LALPHA10_NZ20_PNTh0.05_AnnotThresh0.5/checkpoint-817408\n"
     ]
    },
    {
     "name": "stderr",
     "output_type": "stream",
     "text": [
      "Configuration saved in saved_models/XLNetDepr-3_256_8-ALL_NA-PEL-BS1-GWS_PCC_IT192_DH_3LALPHA10_NZ20_PNTh0.05_AnnotThresh0.5/checkpoint-817408/config.json\n"
     ]
    },
    {
     "name": "stderr",
     "output_type": "stream",
     "text": [
      "Model weights saved in saved_models/XLNetDepr-3_256_8-ALL_NA-PEL-BS1-GWS_PCC_IT192_DH_3LALPHA10_NZ20_PNTh0.05_AnnotThresh0.5/checkpoint-817408/pytorch_model.bin\n"
     ]
    },
    {
     "name": "stderr",
     "output_type": "stream",
     "text": [
      "Deleting older checkpoint [saved_models/XLNetDepr-3_256_8-ALL_NA-PEL-BS1-GWS_PCC_IT192_DH_3LALPHA10_NZ20_PNTh0.05_AnnotThresh0.5/checkpoint-791864] due to args.save_total_limit\n"
     ]
    },
    {
     "name": "stderr",
     "output_type": "stream",
     "text": [
      "***** Running Evaluation *****\n"
     ]
    },
    {
     "name": "stderr",
     "output_type": "stream",
     "text": [
      "  Num examples = 1592\n"
     ]
    },
    {
     "name": "stderr",
     "output_type": "stream",
     "text": [
      "  Batch size = 1\n"
     ]
    },
    {
     "name": "stderr",
     "output_type": "stream",
     "text": [
      "Saving model checkpoint to saved_models/XLNetDepr-3_256_8-ALL_NA-PEL-BS1-GWS_PCC_IT192_DH_3LALPHA10_NZ20_PNTh0.05_AnnotThresh0.5/checkpoint-823794\n"
     ]
    },
    {
     "name": "stderr",
     "output_type": "stream",
     "text": [
      "Configuration saved in saved_models/XLNetDepr-3_256_8-ALL_NA-PEL-BS1-GWS_PCC_IT192_DH_3LALPHA10_NZ20_PNTh0.05_AnnotThresh0.5/checkpoint-823794/config.json\n"
     ]
    },
    {
     "name": "stderr",
     "output_type": "stream",
     "text": [
      "Model weights saved in saved_models/XLNetDepr-3_256_8-ALL_NA-PEL-BS1-GWS_PCC_IT192_DH_3LALPHA10_NZ20_PNTh0.05_AnnotThresh0.5/checkpoint-823794/pytorch_model.bin\n"
     ]
    },
    {
     "name": "stderr",
     "output_type": "stream",
     "text": [
      "Deleting older checkpoint [saved_models/XLNetDepr-3_256_8-ALL_NA-PEL-BS1-GWS_PCC_IT192_DH_3LALPHA10_NZ20_PNTh0.05_AnnotThresh0.5/checkpoint-798250] due to args.save_total_limit\n"
     ]
    },
    {
     "name": "stderr",
     "output_type": "stream",
     "text": [
      "***** Running Evaluation *****\n"
     ]
    },
    {
     "name": "stderr",
     "output_type": "stream",
     "text": [
      "  Num examples = 1592\n"
     ]
    },
    {
     "name": "stderr",
     "output_type": "stream",
     "text": [
      "  Batch size = 1\n"
     ]
    },
    {
     "name": "stderr",
     "output_type": "stream",
     "text": [
      "Saving model checkpoint to saved_models/XLNetDepr-3_256_8-ALL_NA-PEL-BS1-GWS_PCC_IT192_DH_3LALPHA10_NZ20_PNTh0.05_AnnotThresh0.5/checkpoint-830180\n"
     ]
    },
    {
     "name": "stderr",
     "output_type": "stream",
     "text": [
      "Configuration saved in saved_models/XLNetDepr-3_256_8-ALL_NA-PEL-BS1-GWS_PCC_IT192_DH_3LALPHA10_NZ20_PNTh0.05_AnnotThresh0.5/checkpoint-830180/config.json\n"
     ]
    },
    {
     "name": "stderr",
     "output_type": "stream",
     "text": [
      "Model weights saved in saved_models/XLNetDepr-3_256_8-ALL_NA-PEL-BS1-GWS_PCC_IT192_DH_3LALPHA10_NZ20_PNTh0.05_AnnotThresh0.5/checkpoint-830180/pytorch_model.bin\n"
     ]
    },
    {
     "name": "stderr",
     "output_type": "stream",
     "text": [
      "Deleting older checkpoint [saved_models/XLNetDepr-3_256_8-ALL_NA-PEL-BS1-GWS_PCC_IT192_DH_3LALPHA10_NZ20_PNTh0.05_AnnotThresh0.5/checkpoint-804636] due to args.save_total_limit\n"
     ]
    },
    {
     "name": "stderr",
     "output_type": "stream",
     "text": [
      "***** Running Evaluation *****\n"
     ]
    },
    {
     "name": "stderr",
     "output_type": "stream",
     "text": [
      "  Num examples = 1592\n"
     ]
    },
    {
     "name": "stderr",
     "output_type": "stream",
     "text": [
      "  Batch size = 1\n"
     ]
    },
    {
     "name": "stderr",
     "output_type": "stream",
     "text": [
      "Saving model checkpoint to saved_models/XLNetDepr-3_256_8-ALL_NA-PEL-BS1-GWS_PCC_IT192_DH_3LALPHA10_NZ20_PNTh0.05_AnnotThresh0.5/checkpoint-836566\n"
     ]
    },
    {
     "name": "stderr",
     "output_type": "stream",
     "text": [
      "Configuration saved in saved_models/XLNetDepr-3_256_8-ALL_NA-PEL-BS1-GWS_PCC_IT192_DH_3LALPHA10_NZ20_PNTh0.05_AnnotThresh0.5/checkpoint-836566/config.json\n"
     ]
    },
    {
     "name": "stderr",
     "output_type": "stream",
     "text": [
      "Model weights saved in saved_models/XLNetDepr-3_256_8-ALL_NA-PEL-BS1-GWS_PCC_IT192_DH_3LALPHA10_NZ20_PNTh0.05_AnnotThresh0.5/checkpoint-836566/pytorch_model.bin\n"
     ]
    },
    {
     "name": "stderr",
     "output_type": "stream",
     "text": [
      "Deleting older checkpoint [saved_models/XLNetDepr-3_256_8-ALL_NA-PEL-BS1-GWS_PCC_IT192_DH_3LALPHA10_NZ20_PNTh0.05_AnnotThresh0.5/checkpoint-811022] due to args.save_total_limit\n"
     ]
    },
    {
     "name": "stderr",
     "output_type": "stream",
     "text": [
      "***** Running Evaluation *****\n"
     ]
    },
    {
     "name": "stderr",
     "output_type": "stream",
     "text": [
      "  Num examples = 1592\n"
     ]
    },
    {
     "name": "stderr",
     "output_type": "stream",
     "text": [
      "  Batch size = 1\n"
     ]
    },
    {
     "name": "stderr",
     "output_type": "stream",
     "text": [
      "Saving model checkpoint to saved_models/XLNetDepr-3_256_8-ALL_NA-PEL-BS1-GWS_PCC_IT192_DH_3LALPHA10_NZ20_PNTh0.05_AnnotThresh0.5/checkpoint-842952\n"
     ]
    },
    {
     "name": "stderr",
     "output_type": "stream",
     "text": [
      "Configuration saved in saved_models/XLNetDepr-3_256_8-ALL_NA-PEL-BS1-GWS_PCC_IT192_DH_3LALPHA10_NZ20_PNTh0.05_AnnotThresh0.5/checkpoint-842952/config.json\n"
     ]
    },
    {
     "name": "stderr",
     "output_type": "stream",
     "text": [
      "Model weights saved in saved_models/XLNetDepr-3_256_8-ALL_NA-PEL-BS1-GWS_PCC_IT192_DH_3LALPHA10_NZ20_PNTh0.05_AnnotThresh0.5/checkpoint-842952/pytorch_model.bin\n"
     ]
    },
    {
     "name": "stderr",
     "output_type": "stream",
     "text": [
      "Deleting older checkpoint [saved_models/XLNetDepr-3_256_8-ALL_NA-PEL-BS1-GWS_PCC_IT192_DH_3LALPHA10_NZ20_PNTh0.05_AnnotThresh0.5/checkpoint-817408] due to args.save_total_limit\n"
     ]
    },
    {
     "name": "stderr",
     "output_type": "stream",
     "text": [
      "***** Running Evaluation *****\n"
     ]
    },
    {
     "name": "stderr",
     "output_type": "stream",
     "text": [
      "  Num examples = 1592\n"
     ]
    },
    {
     "name": "stderr",
     "output_type": "stream",
     "text": [
      "  Batch size = 1\n"
     ]
    },
    {
     "name": "stderr",
     "output_type": "stream",
     "text": [
      "Saving model checkpoint to saved_models/XLNetDepr-3_256_8-ALL_NA-PEL-BS1-GWS_PCC_IT192_DH_3LALPHA10_NZ20_PNTh0.05_AnnotThresh0.5/checkpoint-849338\n"
     ]
    },
    {
     "name": "stderr",
     "output_type": "stream",
     "text": [
      "Configuration saved in saved_models/XLNetDepr-3_256_8-ALL_NA-PEL-BS1-GWS_PCC_IT192_DH_3LALPHA10_NZ20_PNTh0.05_AnnotThresh0.5/checkpoint-849338/config.json\n"
     ]
    },
    {
     "name": "stderr",
     "output_type": "stream",
     "text": [
      "Model weights saved in saved_models/XLNetDepr-3_256_8-ALL_NA-PEL-BS1-GWS_PCC_IT192_DH_3LALPHA10_NZ20_PNTh0.05_AnnotThresh0.5/checkpoint-849338/pytorch_model.bin\n"
     ]
    },
    {
     "name": "stderr",
     "output_type": "stream",
     "text": [
      "Deleting older checkpoint [saved_models/XLNetDepr-3_256_8-ALL_NA-PEL-BS1-GWS_PCC_IT192_DH_3LALPHA10_NZ20_PNTh0.05_AnnotThresh0.5/checkpoint-823794] due to args.save_total_limit\n"
     ]
    },
    {
     "name": "stderr",
     "output_type": "stream",
     "text": [
      "***** Running Evaluation *****\n"
     ]
    },
    {
     "name": "stderr",
     "output_type": "stream",
     "text": [
      "  Num examples = 1592\n"
     ]
    },
    {
     "name": "stderr",
     "output_type": "stream",
     "text": [
      "  Batch size = 1\n"
     ]
    },
    {
     "name": "stderr",
     "output_type": "stream",
     "text": [
      "Saving model checkpoint to saved_models/XLNetDepr-3_256_8-ALL_NA-PEL-BS1-GWS_PCC_IT192_DH_3LALPHA10_NZ20_PNTh0.05_AnnotThresh0.5/checkpoint-855724\n"
     ]
    },
    {
     "name": "stderr",
     "output_type": "stream",
     "text": [
      "Configuration saved in saved_models/XLNetDepr-3_256_8-ALL_NA-PEL-BS1-GWS_PCC_IT192_DH_3LALPHA10_NZ20_PNTh0.05_AnnotThresh0.5/checkpoint-855724/config.json\n"
     ]
    },
    {
     "name": "stderr",
     "output_type": "stream",
     "text": [
      "Model weights saved in saved_models/XLNetDepr-3_256_8-ALL_NA-PEL-BS1-GWS_PCC_IT192_DH_3LALPHA10_NZ20_PNTh0.05_AnnotThresh0.5/checkpoint-855724/pytorch_model.bin\n"
     ]
    },
    {
     "name": "stderr",
     "output_type": "stream",
     "text": [
      "Deleting older checkpoint [saved_models/XLNetDepr-3_256_8-ALL_NA-PEL-BS1-GWS_PCC_IT192_DH_3LALPHA10_NZ20_PNTh0.05_AnnotThresh0.5/checkpoint-830180] due to args.save_total_limit\n"
     ]
    },
    {
     "name": "stderr",
     "output_type": "stream",
     "text": [
      "***** Running Evaluation *****\n"
     ]
    },
    {
     "name": "stderr",
     "output_type": "stream",
     "text": [
      "  Num examples = 1592\n"
     ]
    },
    {
     "name": "stderr",
     "output_type": "stream",
     "text": [
      "  Batch size = 1\n"
     ]
    },
    {
     "name": "stderr",
     "output_type": "stream",
     "text": [
      "Saving model checkpoint to saved_models/XLNetDepr-3_256_8-ALL_NA-PEL-BS1-GWS_PCC_IT192_DH_3LALPHA10_NZ20_PNTh0.05_AnnotThresh0.5/checkpoint-862110\n"
     ]
    },
    {
     "name": "stderr",
     "output_type": "stream",
     "text": [
      "Configuration saved in saved_models/XLNetDepr-3_256_8-ALL_NA-PEL-BS1-GWS_PCC_IT192_DH_3LALPHA10_NZ20_PNTh0.05_AnnotThresh0.5/checkpoint-862110/config.json\n"
     ]
    },
    {
     "name": "stderr",
     "output_type": "stream",
     "text": [
      "Model weights saved in saved_models/XLNetDepr-3_256_8-ALL_NA-PEL-BS1-GWS_PCC_IT192_DH_3LALPHA10_NZ20_PNTh0.05_AnnotThresh0.5/checkpoint-862110/pytorch_model.bin\n"
     ]
    },
    {
     "name": "stderr",
     "output_type": "stream",
     "text": [
      "Deleting older checkpoint [saved_models/XLNetDepr-3_256_8-ALL_NA-PEL-BS1-GWS_PCC_IT192_DH_3LALPHA10_NZ20_PNTh0.05_AnnotThresh0.5/checkpoint-836566] due to args.save_total_limit\n"
     ]
    },
    {
     "name": "stderr",
     "output_type": "stream",
     "text": [
      "***** Running Evaluation *****\n"
     ]
    },
    {
     "name": "stderr",
     "output_type": "stream",
     "text": [
      "  Num examples = 1592\n"
     ]
    },
    {
     "name": "stderr",
     "output_type": "stream",
     "text": [
      "  Batch size = 1\n"
     ]
    },
    {
     "name": "stderr",
     "output_type": "stream",
     "text": [
      "Saving model checkpoint to saved_models/XLNetDepr-3_256_8-ALL_NA-PEL-BS1-GWS_PCC_IT192_DH_3LALPHA10_NZ20_PNTh0.05_AnnotThresh0.5/checkpoint-868496\n"
     ]
    },
    {
     "name": "stderr",
     "output_type": "stream",
     "text": [
      "Configuration saved in saved_models/XLNetDepr-3_256_8-ALL_NA-PEL-BS1-GWS_PCC_IT192_DH_3LALPHA10_NZ20_PNTh0.05_AnnotThresh0.5/checkpoint-868496/config.json\n"
     ]
    },
    {
     "name": "stderr",
     "output_type": "stream",
     "text": [
      "Model weights saved in saved_models/XLNetDepr-3_256_8-ALL_NA-PEL-BS1-GWS_PCC_IT192_DH_3LALPHA10_NZ20_PNTh0.05_AnnotThresh0.5/checkpoint-868496/pytorch_model.bin\n"
     ]
    },
    {
     "name": "stderr",
     "output_type": "stream",
     "text": [
      "Deleting older checkpoint [saved_models/XLNetDepr-3_256_8-ALL_NA-PEL-BS1-GWS_PCC_IT192_DH_3LALPHA10_NZ20_PNTh0.05_AnnotThresh0.5/checkpoint-842952] due to args.save_total_limit\n"
     ]
    },
    {
     "name": "stderr",
     "output_type": "stream",
     "text": [
      "***** Running Evaluation *****\n"
     ]
    },
    {
     "name": "stderr",
     "output_type": "stream",
     "text": [
      "  Num examples = 1592\n"
     ]
    },
    {
     "name": "stderr",
     "output_type": "stream",
     "text": [
      "  Batch size = 1\n"
     ]
    },
    {
     "name": "stderr",
     "output_type": "stream",
     "text": [
      "Saving model checkpoint to saved_models/XLNetDepr-3_256_8-ALL_NA-PEL-BS1-GWS_PCC_IT192_DH_3LALPHA10_NZ20_PNTh0.05_AnnotThresh0.5/checkpoint-874882\n"
     ]
    },
    {
     "name": "stderr",
     "output_type": "stream",
     "text": [
      "Configuration saved in saved_models/XLNetDepr-3_256_8-ALL_NA-PEL-BS1-GWS_PCC_IT192_DH_3LALPHA10_NZ20_PNTh0.05_AnnotThresh0.5/checkpoint-874882/config.json\n"
     ]
    },
    {
     "name": "stderr",
     "output_type": "stream",
     "text": [
      "Model weights saved in saved_models/XLNetDepr-3_256_8-ALL_NA-PEL-BS1-GWS_PCC_IT192_DH_3LALPHA10_NZ20_PNTh0.05_AnnotThresh0.5/checkpoint-874882/pytorch_model.bin\n"
     ]
    },
    {
     "name": "stderr",
     "output_type": "stream",
     "text": [
      "Deleting older checkpoint [saved_models/XLNetDepr-3_256_8-ALL_NA-PEL-BS1-GWS_PCC_IT192_DH_3LALPHA10_NZ20_PNTh0.05_AnnotThresh0.5/checkpoint-849338] due to args.save_total_limit\n"
     ]
    },
    {
     "name": "stderr",
     "output_type": "stream",
     "text": [
      "***** Running Evaluation *****\n"
     ]
    },
    {
     "name": "stderr",
     "output_type": "stream",
     "text": [
      "  Num examples = 1592\n"
     ]
    },
    {
     "name": "stderr",
     "output_type": "stream",
     "text": [
      "  Batch size = 1\n"
     ]
    },
    {
     "name": "stderr",
     "output_type": "stream",
     "text": [
      "Saving model checkpoint to saved_models/XLNetDepr-3_256_8-ALL_NA-PEL-BS1-GWS_PCC_IT192_DH_3LALPHA10_NZ20_PNTh0.05_AnnotThresh0.5/checkpoint-881268\n"
     ]
    },
    {
     "name": "stderr",
     "output_type": "stream",
     "text": [
      "Configuration saved in saved_models/XLNetDepr-3_256_8-ALL_NA-PEL-BS1-GWS_PCC_IT192_DH_3LALPHA10_NZ20_PNTh0.05_AnnotThresh0.5/checkpoint-881268/config.json\n"
     ]
    },
    {
     "name": "stderr",
     "output_type": "stream",
     "text": [
      "Model weights saved in saved_models/XLNetDepr-3_256_8-ALL_NA-PEL-BS1-GWS_PCC_IT192_DH_3LALPHA10_NZ20_PNTh0.05_AnnotThresh0.5/checkpoint-881268/pytorch_model.bin\n"
     ]
    },
    {
     "name": "stderr",
     "output_type": "stream",
     "text": [
      "Deleting older checkpoint [saved_models/XLNetDepr-3_256_8-ALL_NA-PEL-BS1-GWS_PCC_IT192_DH_3LALPHA10_NZ20_PNTh0.05_AnnotThresh0.5/checkpoint-855724] due to args.save_total_limit\n"
     ]
    },
    {
     "name": "stderr",
     "output_type": "stream",
     "text": [
      "***** Running Evaluation *****\n"
     ]
    },
    {
     "name": "stderr",
     "output_type": "stream",
     "text": [
      "  Num examples = 1592\n"
     ]
    },
    {
     "name": "stderr",
     "output_type": "stream",
     "text": [
      "  Batch size = 1\n"
     ]
    },
    {
     "name": "stderr",
     "output_type": "stream",
     "text": [
      "Saving model checkpoint to saved_models/XLNetDepr-3_256_8-ALL_NA-PEL-BS1-GWS_PCC_IT192_DH_3LALPHA10_NZ20_PNTh0.05_AnnotThresh0.5/checkpoint-887654\n"
     ]
    },
    {
     "name": "stderr",
     "output_type": "stream",
     "text": [
      "Configuration saved in saved_models/XLNetDepr-3_256_8-ALL_NA-PEL-BS1-GWS_PCC_IT192_DH_3LALPHA10_NZ20_PNTh0.05_AnnotThresh0.5/checkpoint-887654/config.json\n"
     ]
    },
    {
     "name": "stderr",
     "output_type": "stream",
     "text": [
      "Model weights saved in saved_models/XLNetDepr-3_256_8-ALL_NA-PEL-BS1-GWS_PCC_IT192_DH_3LALPHA10_NZ20_PNTh0.05_AnnotThresh0.5/checkpoint-887654/pytorch_model.bin\n"
     ]
    },
    {
     "name": "stderr",
     "output_type": "stream",
     "text": [
      "Deleting older checkpoint [saved_models/XLNetDepr-3_256_8-ALL_NA-PEL-BS1-GWS_PCC_IT192_DH_3LALPHA10_NZ20_PNTh0.05_AnnotThresh0.5/checkpoint-862110] due to args.save_total_limit\n"
     ]
    },
    {
     "name": "stderr",
     "output_type": "stream",
     "text": [
      "***** Running Evaluation *****\n"
     ]
    },
    {
     "name": "stderr",
     "output_type": "stream",
     "text": [
      "  Num examples = 1592\n"
     ]
    },
    {
     "name": "stderr",
     "output_type": "stream",
     "text": [
      "  Batch size = 1\n"
     ]
    },
    {
     "name": "stderr",
     "output_type": "stream",
     "text": [
      "Saving model checkpoint to saved_models/XLNetDepr-3_256_8-ALL_NA-PEL-BS1-GWS_PCC_IT192_DH_3LALPHA10_NZ20_PNTh0.05_AnnotThresh0.5/checkpoint-894040\n"
     ]
    },
    {
     "name": "stderr",
     "output_type": "stream",
     "text": [
      "Configuration saved in saved_models/XLNetDepr-3_256_8-ALL_NA-PEL-BS1-GWS_PCC_IT192_DH_3LALPHA10_NZ20_PNTh0.05_AnnotThresh0.5/checkpoint-894040/config.json\n"
     ]
    },
    {
     "name": "stderr",
     "output_type": "stream",
     "text": [
      "Model weights saved in saved_models/XLNetDepr-3_256_8-ALL_NA-PEL-BS1-GWS_PCC_IT192_DH_3LALPHA10_NZ20_PNTh0.05_AnnotThresh0.5/checkpoint-894040/pytorch_model.bin\n"
     ]
    },
    {
     "name": "stderr",
     "output_type": "stream",
     "text": [
      "Deleting older checkpoint [saved_models/XLNetDepr-3_256_8-ALL_NA-PEL-BS1-GWS_PCC_IT192_DH_3LALPHA10_NZ20_PNTh0.05_AnnotThresh0.5/checkpoint-868496] due to args.save_total_limit\n"
     ]
    },
    {
     "name": "stderr",
     "output_type": "stream",
     "text": [
      "***** Running Evaluation *****\n"
     ]
    },
    {
     "name": "stderr",
     "output_type": "stream",
     "text": [
      "  Num examples = 1592\n"
     ]
    },
    {
     "name": "stderr",
     "output_type": "stream",
     "text": [
      "  Batch size = 1\n"
     ]
    },
    {
     "name": "stderr",
     "output_type": "stream",
     "text": [
      "Saving model checkpoint to saved_models/XLNetDepr-3_256_8-ALL_NA-PEL-BS1-GWS_PCC_IT192_DH_3LALPHA10_NZ20_PNTh0.05_AnnotThresh0.5/checkpoint-900426\n"
     ]
    },
    {
     "name": "stderr",
     "output_type": "stream",
     "text": [
      "Configuration saved in saved_models/XLNetDepr-3_256_8-ALL_NA-PEL-BS1-GWS_PCC_IT192_DH_3LALPHA10_NZ20_PNTh0.05_AnnotThresh0.5/checkpoint-900426/config.json\n"
     ]
    },
    {
     "name": "stderr",
     "output_type": "stream",
     "text": [
      "Model weights saved in saved_models/XLNetDepr-3_256_8-ALL_NA-PEL-BS1-GWS_PCC_IT192_DH_3LALPHA10_NZ20_PNTh0.05_AnnotThresh0.5/checkpoint-900426/pytorch_model.bin\n"
     ]
    },
    {
     "name": "stderr",
     "output_type": "stream",
     "text": [
      "Deleting older checkpoint [saved_models/XLNetDepr-3_256_8-ALL_NA-PEL-BS1-GWS_PCC_IT192_DH_3LALPHA10_NZ20_PNTh0.05_AnnotThresh0.5/checkpoint-874882] due to args.save_total_limit\n"
     ]
    },
    {
     "name": "stderr",
     "output_type": "stream",
     "text": [
      "***** Running Evaluation *****\n"
     ]
    },
    {
     "name": "stderr",
     "output_type": "stream",
     "text": [
      "  Num examples = 1592\n"
     ]
    },
    {
     "name": "stderr",
     "output_type": "stream",
     "text": [
      "  Batch size = 1\n"
     ]
    },
    {
     "name": "stderr",
     "output_type": "stream",
     "text": [
      "Saving model checkpoint to saved_models/XLNetDepr-3_256_8-ALL_NA-PEL-BS1-GWS_PCC_IT192_DH_3LALPHA10_NZ20_PNTh0.05_AnnotThresh0.5/checkpoint-906812\n"
     ]
    },
    {
     "name": "stderr",
     "output_type": "stream",
     "text": [
      "Configuration saved in saved_models/XLNetDepr-3_256_8-ALL_NA-PEL-BS1-GWS_PCC_IT192_DH_3LALPHA10_NZ20_PNTh0.05_AnnotThresh0.5/checkpoint-906812/config.json\n"
     ]
    },
    {
     "name": "stderr",
     "output_type": "stream",
     "text": [
      "Model weights saved in saved_models/XLNetDepr-3_256_8-ALL_NA-PEL-BS1-GWS_PCC_IT192_DH_3LALPHA10_NZ20_PNTh0.05_AnnotThresh0.5/checkpoint-906812/pytorch_model.bin\n"
     ]
    },
    {
     "name": "stderr",
     "output_type": "stream",
     "text": [
      "Deleting older checkpoint [saved_models/XLNetDepr-3_256_8-ALL_NA-PEL-BS1-GWS_PCC_IT192_DH_3LALPHA10_NZ20_PNTh0.05_AnnotThresh0.5/checkpoint-881268] due to args.save_total_limit\n"
     ]
    },
    {
     "name": "stderr",
     "output_type": "stream",
     "text": [
      "***** Running Evaluation *****\n"
     ]
    },
    {
     "name": "stderr",
     "output_type": "stream",
     "text": [
      "  Num examples = 1592\n"
     ]
    },
    {
     "name": "stderr",
     "output_type": "stream",
     "text": [
      "  Batch size = 1\n"
     ]
    },
    {
     "name": "stderr",
     "output_type": "stream",
     "text": [
      "Saving model checkpoint to saved_models/XLNetDepr-3_256_8-ALL_NA-PEL-BS1-GWS_PCC_IT192_DH_3LALPHA10_NZ20_PNTh0.05_AnnotThresh0.5/checkpoint-913198\n"
     ]
    },
    {
     "name": "stderr",
     "output_type": "stream",
     "text": [
      "Configuration saved in saved_models/XLNetDepr-3_256_8-ALL_NA-PEL-BS1-GWS_PCC_IT192_DH_3LALPHA10_NZ20_PNTh0.05_AnnotThresh0.5/checkpoint-913198/config.json\n"
     ]
    },
    {
     "name": "stderr",
     "output_type": "stream",
     "text": [
      "Model weights saved in saved_models/XLNetDepr-3_256_8-ALL_NA-PEL-BS1-GWS_PCC_IT192_DH_3LALPHA10_NZ20_PNTh0.05_AnnotThresh0.5/checkpoint-913198/pytorch_model.bin\n"
     ]
    },
    {
     "name": "stderr",
     "output_type": "stream",
     "text": [
      "Deleting older checkpoint [saved_models/XLNetDepr-3_256_8-ALL_NA-PEL-BS1-GWS_PCC_IT192_DH_3LALPHA10_NZ20_PNTh0.05_AnnotThresh0.5/checkpoint-887654] due to args.save_total_limit\n"
     ]
    },
    {
     "name": "stderr",
     "output_type": "stream",
     "text": [
      "***** Running Evaluation *****\n"
     ]
    },
    {
     "name": "stderr",
     "output_type": "stream",
     "text": [
      "  Num examples = 1592\n"
     ]
    },
    {
     "name": "stderr",
     "output_type": "stream",
     "text": [
      "  Batch size = 1\n"
     ]
    },
    {
     "name": "stderr",
     "output_type": "stream",
     "text": [
      "Saving model checkpoint to saved_models/XLNetDepr-3_256_8-ALL_NA-PEL-BS1-GWS_PCC_IT192_DH_3LALPHA10_NZ20_PNTh0.05_AnnotThresh0.5/checkpoint-919584\n"
     ]
    },
    {
     "name": "stderr",
     "output_type": "stream",
     "text": [
      "Configuration saved in saved_models/XLNetDepr-3_256_8-ALL_NA-PEL-BS1-GWS_PCC_IT192_DH_3LALPHA10_NZ20_PNTh0.05_AnnotThresh0.5/checkpoint-919584/config.json\n"
     ]
    },
    {
     "name": "stderr",
     "output_type": "stream",
     "text": [
      "Model weights saved in saved_models/XLNetDepr-3_256_8-ALL_NA-PEL-BS1-GWS_PCC_IT192_DH_3LALPHA10_NZ20_PNTh0.05_AnnotThresh0.5/checkpoint-919584/pytorch_model.bin\n"
     ]
    },
    {
     "name": "stderr",
     "output_type": "stream",
     "text": [
      "Deleting older checkpoint [saved_models/XLNetDepr-3_256_8-ALL_NA-PEL-BS1-GWS_PCC_IT192_DH_3LALPHA10_NZ20_PNTh0.05_AnnotThresh0.5/checkpoint-894040] due to args.save_total_limit\n"
     ]
    },
    {
     "name": "stderr",
     "output_type": "stream",
     "text": [
      "***** Running Evaluation *****\n"
     ]
    },
    {
     "name": "stderr",
     "output_type": "stream",
     "text": [
      "  Num examples = 1592\n"
     ]
    },
    {
     "name": "stderr",
     "output_type": "stream",
     "text": [
      "  Batch size = 1\n"
     ]
    },
    {
     "name": "stderr",
     "output_type": "stream",
     "text": [
      "Saving model checkpoint to saved_models/XLNetDepr-3_256_8-ALL_NA-PEL-BS1-GWS_PCC_IT192_DH_3LALPHA10_NZ20_PNTh0.05_AnnotThresh0.5/checkpoint-925970\n"
     ]
    },
    {
     "name": "stderr",
     "output_type": "stream",
     "text": [
      "Configuration saved in saved_models/XLNetDepr-3_256_8-ALL_NA-PEL-BS1-GWS_PCC_IT192_DH_3LALPHA10_NZ20_PNTh0.05_AnnotThresh0.5/checkpoint-925970/config.json\n"
     ]
    },
    {
     "name": "stderr",
     "output_type": "stream",
     "text": [
      "Model weights saved in saved_models/XLNetDepr-3_256_8-ALL_NA-PEL-BS1-GWS_PCC_IT192_DH_3LALPHA10_NZ20_PNTh0.05_AnnotThresh0.5/checkpoint-925970/pytorch_model.bin\n"
     ]
    },
    {
     "name": "stderr",
     "output_type": "stream",
     "text": [
      "Deleting older checkpoint [saved_models/XLNetDepr-3_256_8-ALL_NA-PEL-BS1-GWS_PCC_IT192_DH_3LALPHA10_NZ20_PNTh0.05_AnnotThresh0.5/checkpoint-900426] due to args.save_total_limit\n"
     ]
    },
    {
     "name": "stderr",
     "output_type": "stream",
     "text": [
      "***** Running Evaluation *****\n"
     ]
    },
    {
     "name": "stderr",
     "output_type": "stream",
     "text": [
      "  Num examples = 1592\n"
     ]
    },
    {
     "name": "stderr",
     "output_type": "stream",
     "text": [
      "  Batch size = 1\n"
     ]
    },
    {
     "name": "stderr",
     "output_type": "stream",
     "text": [
      "Saving model checkpoint to saved_models/XLNetDepr-3_256_8-ALL_NA-PEL-BS1-GWS_PCC_IT192_DH_3LALPHA10_NZ20_PNTh0.05_AnnotThresh0.5/checkpoint-932356\n"
     ]
    },
    {
     "name": "stderr",
     "output_type": "stream",
     "text": [
      "Configuration saved in saved_models/XLNetDepr-3_256_8-ALL_NA-PEL-BS1-GWS_PCC_IT192_DH_3LALPHA10_NZ20_PNTh0.05_AnnotThresh0.5/checkpoint-932356/config.json\n"
     ]
    },
    {
     "name": "stderr",
     "output_type": "stream",
     "text": [
      "Model weights saved in saved_models/XLNetDepr-3_256_8-ALL_NA-PEL-BS1-GWS_PCC_IT192_DH_3LALPHA10_NZ20_PNTh0.05_AnnotThresh0.5/checkpoint-932356/pytorch_model.bin\n"
     ]
    },
    {
     "name": "stderr",
     "output_type": "stream",
     "text": [
      "Deleting older checkpoint [saved_models/XLNetDepr-3_256_8-ALL_NA-PEL-BS1-GWS_PCC_IT192_DH_3LALPHA10_NZ20_PNTh0.05_AnnotThresh0.5/checkpoint-906812] due to args.save_total_limit\n"
     ]
    },
    {
     "name": "stderr",
     "output_type": "stream",
     "text": [
      "***** Running Evaluation *****\n"
     ]
    },
    {
     "name": "stderr",
     "output_type": "stream",
     "text": [
      "  Num examples = 1592\n"
     ]
    },
    {
     "name": "stderr",
     "output_type": "stream",
     "text": [
      "  Batch size = 1\n"
     ]
    },
    {
     "name": "stderr",
     "output_type": "stream",
     "text": [
      "Saving model checkpoint to saved_models/XLNetDepr-3_256_8-ALL_NA-PEL-BS1-GWS_PCC_IT192_DH_3LALPHA10_NZ20_PNTh0.05_AnnotThresh0.5/checkpoint-938742\n"
     ]
    },
    {
     "name": "stderr",
     "output_type": "stream",
     "text": [
      "Configuration saved in saved_models/XLNetDepr-3_256_8-ALL_NA-PEL-BS1-GWS_PCC_IT192_DH_3LALPHA10_NZ20_PNTh0.05_AnnotThresh0.5/checkpoint-938742/config.json\n"
     ]
    },
    {
     "name": "stderr",
     "output_type": "stream",
     "text": [
      "Model weights saved in saved_models/XLNetDepr-3_256_8-ALL_NA-PEL-BS1-GWS_PCC_IT192_DH_3LALPHA10_NZ20_PNTh0.05_AnnotThresh0.5/checkpoint-938742/pytorch_model.bin\n"
     ]
    },
    {
     "name": "stderr",
     "output_type": "stream",
     "text": [
      "Deleting older checkpoint [saved_models/XLNetDepr-3_256_8-ALL_NA-PEL-BS1-GWS_PCC_IT192_DH_3LALPHA10_NZ20_PNTh0.05_AnnotThresh0.5/checkpoint-913198] due to args.save_total_limit\n"
     ]
    },
    {
     "name": "stderr",
     "output_type": "stream",
     "text": [
      "***** Running Evaluation *****\n"
     ]
    },
    {
     "name": "stderr",
     "output_type": "stream",
     "text": [
      "  Num examples = 1592\n"
     ]
    },
    {
     "name": "stderr",
     "output_type": "stream",
     "text": [
      "  Batch size = 1\n"
     ]
    },
    {
     "name": "stderr",
     "output_type": "stream",
     "text": [
      "Saving model checkpoint to saved_models/XLNetDepr-3_256_8-ALL_NA-PEL-BS1-GWS_PCC_IT192_DH_3LALPHA10_NZ20_PNTh0.05_AnnotThresh0.5/checkpoint-945128\n"
     ]
    },
    {
     "name": "stderr",
     "output_type": "stream",
     "text": [
      "Configuration saved in saved_models/XLNetDepr-3_256_8-ALL_NA-PEL-BS1-GWS_PCC_IT192_DH_3LALPHA10_NZ20_PNTh0.05_AnnotThresh0.5/checkpoint-945128/config.json\n"
     ]
    },
    {
     "name": "stderr",
     "output_type": "stream",
     "text": [
      "Model weights saved in saved_models/XLNetDepr-3_256_8-ALL_NA-PEL-BS1-GWS_PCC_IT192_DH_3LALPHA10_NZ20_PNTh0.05_AnnotThresh0.5/checkpoint-945128/pytorch_model.bin\n"
     ]
    },
    {
     "name": "stderr",
     "output_type": "stream",
     "text": [
      "Deleting older checkpoint [saved_models/XLNetDepr-3_256_8-ALL_NA-PEL-BS1-GWS_PCC_IT192_DH_3LALPHA10_NZ20_PNTh0.05_AnnotThresh0.5/checkpoint-919584] due to args.save_total_limit\n"
     ]
    },
    {
     "name": "stderr",
     "output_type": "stream",
     "text": [
      "***** Running Evaluation *****\n"
     ]
    },
    {
     "name": "stderr",
     "output_type": "stream",
     "text": [
      "  Num examples = 1592\n"
     ]
    },
    {
     "name": "stderr",
     "output_type": "stream",
     "text": [
      "  Batch size = 1\n"
     ]
    },
    {
     "name": "stderr",
     "output_type": "stream",
     "text": [
      "Saving model checkpoint to saved_models/XLNetDepr-3_256_8-ALL_NA-PEL-BS1-GWS_PCC_IT192_DH_3LALPHA10_NZ20_PNTh0.05_AnnotThresh0.5/checkpoint-951514\n"
     ]
    },
    {
     "name": "stderr",
     "output_type": "stream",
     "text": [
      "Configuration saved in saved_models/XLNetDepr-3_256_8-ALL_NA-PEL-BS1-GWS_PCC_IT192_DH_3LALPHA10_NZ20_PNTh0.05_AnnotThresh0.5/checkpoint-951514/config.json\n"
     ]
    },
    {
     "name": "stderr",
     "output_type": "stream",
     "text": [
      "Model weights saved in saved_models/XLNetDepr-3_256_8-ALL_NA-PEL-BS1-GWS_PCC_IT192_DH_3LALPHA10_NZ20_PNTh0.05_AnnotThresh0.5/checkpoint-951514/pytorch_model.bin\n"
     ]
    },
    {
     "name": "stderr",
     "output_type": "stream",
     "text": [
      "Deleting older checkpoint [saved_models/XLNetDepr-3_256_8-ALL_NA-PEL-BS1-GWS_PCC_IT192_DH_3LALPHA10_NZ20_PNTh0.05_AnnotThresh0.5/checkpoint-925970] due to args.save_total_limit\n"
     ]
    },
    {
     "name": "stderr",
     "output_type": "stream",
     "text": [
      "***** Running Evaluation *****\n"
     ]
    },
    {
     "name": "stderr",
     "output_type": "stream",
     "text": [
      "  Num examples = 1592\n"
     ]
    },
    {
     "name": "stderr",
     "output_type": "stream",
     "text": [
      "  Batch size = 1\n"
     ]
    },
    {
     "name": "stderr",
     "output_type": "stream",
     "text": [
      "Saving model checkpoint to saved_models/XLNetDepr-3_256_8-ALL_NA-PEL-BS1-GWS_PCC_IT192_DH_3LALPHA10_NZ20_PNTh0.05_AnnotThresh0.5/checkpoint-957900\n"
     ]
    },
    {
     "name": "stderr",
     "output_type": "stream",
     "text": [
      "Configuration saved in saved_models/XLNetDepr-3_256_8-ALL_NA-PEL-BS1-GWS_PCC_IT192_DH_3LALPHA10_NZ20_PNTh0.05_AnnotThresh0.5/checkpoint-957900/config.json\n"
     ]
    },
    {
     "name": "stderr",
     "output_type": "stream",
     "text": [
      "Model weights saved in saved_models/XLNetDepr-3_256_8-ALL_NA-PEL-BS1-GWS_PCC_IT192_DH_3LALPHA10_NZ20_PNTh0.05_AnnotThresh0.5/checkpoint-957900/pytorch_model.bin\n"
     ]
    },
    {
     "name": "stderr",
     "output_type": "stream",
     "text": [
      "Deleting older checkpoint [saved_models/XLNetDepr-3_256_8-ALL_NA-PEL-BS1-GWS_PCC_IT192_DH_3LALPHA10_NZ20_PNTh0.05_AnnotThresh0.5/checkpoint-932356] due to args.save_total_limit\n"
     ]
    },
    {
     "name": "stderr",
     "output_type": "stream",
     "text": [
      "***** Running Evaluation *****\n"
     ]
    },
    {
     "name": "stderr",
     "output_type": "stream",
     "text": [
      "  Num examples = 1592\n"
     ]
    },
    {
     "name": "stderr",
     "output_type": "stream",
     "text": [
      "  Batch size = 1\n"
     ]
    },
    {
     "name": "stderr",
     "output_type": "stream",
     "text": [
      "Saving model checkpoint to saved_models/XLNetDepr-3_256_8-ALL_NA-PEL-BS1-GWS_PCC_IT192_DH_3LALPHA10_NZ20_PNTh0.05_AnnotThresh0.5/checkpoint-964286\n"
     ]
    },
    {
     "name": "stderr",
     "output_type": "stream",
     "text": [
      "Configuration saved in saved_models/XLNetDepr-3_256_8-ALL_NA-PEL-BS1-GWS_PCC_IT192_DH_3LALPHA10_NZ20_PNTh0.05_AnnotThresh0.5/checkpoint-964286/config.json\n"
     ]
    },
    {
     "name": "stderr",
     "output_type": "stream",
     "text": [
      "Model weights saved in saved_models/XLNetDepr-3_256_8-ALL_NA-PEL-BS1-GWS_PCC_IT192_DH_3LALPHA10_NZ20_PNTh0.05_AnnotThresh0.5/checkpoint-964286/pytorch_model.bin\n"
     ]
    },
    {
     "name": "stderr",
     "output_type": "stream",
     "text": [
      "Deleting older checkpoint [saved_models/XLNetDepr-3_256_8-ALL_NA-PEL-BS1-GWS_PCC_IT192_DH_3LALPHA10_NZ20_PNTh0.05_AnnotThresh0.5/checkpoint-938742] due to args.save_total_limit\n"
     ]
    },
    {
     "name": "stderr",
     "output_type": "stream",
     "text": [
      "***** Running Evaluation *****\n"
     ]
    },
    {
     "name": "stderr",
     "output_type": "stream",
     "text": [
      "  Num examples = 1592\n"
     ]
    },
    {
     "name": "stderr",
     "output_type": "stream",
     "text": [
      "  Batch size = 1\n"
     ]
    },
    {
     "name": "stderr",
     "output_type": "stream",
     "text": [
      "Saving model checkpoint to saved_models/XLNetDepr-3_256_8-ALL_NA-PEL-BS1-GWS_PCC_IT192_DH_3LALPHA10_NZ20_PNTh0.05_AnnotThresh0.5/checkpoint-970672\n"
     ]
    },
    {
     "name": "stderr",
     "output_type": "stream",
     "text": [
      "Configuration saved in saved_models/XLNetDepr-3_256_8-ALL_NA-PEL-BS1-GWS_PCC_IT192_DH_3LALPHA10_NZ20_PNTh0.05_AnnotThresh0.5/checkpoint-970672/config.json\n"
     ]
    },
    {
     "name": "stderr",
     "output_type": "stream",
     "text": [
      "Model weights saved in saved_models/XLNetDepr-3_256_8-ALL_NA-PEL-BS1-GWS_PCC_IT192_DH_3LALPHA10_NZ20_PNTh0.05_AnnotThresh0.5/checkpoint-970672/pytorch_model.bin\n"
     ]
    },
    {
     "name": "stderr",
     "output_type": "stream",
     "text": [
      "Deleting older checkpoint [saved_models/XLNetDepr-3_256_8-ALL_NA-PEL-BS1-GWS_PCC_IT192_DH_3LALPHA10_NZ20_PNTh0.05_AnnotThresh0.5/checkpoint-945128] due to args.save_total_limit\n"
     ]
    },
    {
     "name": "stderr",
     "output_type": "stream",
     "text": [
      "***** Running Evaluation *****\n"
     ]
    },
    {
     "name": "stderr",
     "output_type": "stream",
     "text": [
      "  Num examples = 1592\n"
     ]
    },
    {
     "name": "stderr",
     "output_type": "stream",
     "text": [
      "  Batch size = 1\n"
     ]
    },
    {
     "name": "stderr",
     "output_type": "stream",
     "text": [
      "Saving model checkpoint to saved_models/XLNetDepr-3_256_8-ALL_NA-PEL-BS1-GWS_PCC_IT192_DH_3LALPHA10_NZ20_PNTh0.05_AnnotThresh0.5/checkpoint-977058\n"
     ]
    },
    {
     "name": "stderr",
     "output_type": "stream",
     "text": [
      "Configuration saved in saved_models/XLNetDepr-3_256_8-ALL_NA-PEL-BS1-GWS_PCC_IT192_DH_3LALPHA10_NZ20_PNTh0.05_AnnotThresh0.5/checkpoint-977058/config.json\n"
     ]
    },
    {
     "name": "stderr",
     "output_type": "stream",
     "text": [
      "Model weights saved in saved_models/XLNetDepr-3_256_8-ALL_NA-PEL-BS1-GWS_PCC_IT192_DH_3LALPHA10_NZ20_PNTh0.05_AnnotThresh0.5/checkpoint-977058/pytorch_model.bin\n"
     ]
    },
    {
     "name": "stderr",
     "output_type": "stream",
     "text": [
      "Deleting older checkpoint [saved_models/XLNetDepr-3_256_8-ALL_NA-PEL-BS1-GWS_PCC_IT192_DH_3LALPHA10_NZ20_PNTh0.05_AnnotThresh0.5/checkpoint-951514] due to args.save_total_limit\n"
     ]
    },
    {
     "name": "stderr",
     "output_type": "stream",
     "text": [
      "***** Running Evaluation *****\n"
     ]
    },
    {
     "name": "stderr",
     "output_type": "stream",
     "text": [
      "  Num examples = 1592\n"
     ]
    },
    {
     "name": "stderr",
     "output_type": "stream",
     "text": [
      "  Batch size = 1\n"
     ]
    },
    {
     "name": "stderr",
     "output_type": "stream",
     "text": [
      "Saving model checkpoint to saved_models/XLNetDepr-3_256_8-ALL_NA-PEL-BS1-GWS_PCC_IT192_DH_3LALPHA10_NZ20_PNTh0.05_AnnotThresh0.5/checkpoint-983444\n"
     ]
    },
    {
     "name": "stderr",
     "output_type": "stream",
     "text": [
      "Configuration saved in saved_models/XLNetDepr-3_256_8-ALL_NA-PEL-BS1-GWS_PCC_IT192_DH_3LALPHA10_NZ20_PNTh0.05_AnnotThresh0.5/checkpoint-983444/config.json\n"
     ]
    },
    {
     "name": "stderr",
     "output_type": "stream",
     "text": [
      "Model weights saved in saved_models/XLNetDepr-3_256_8-ALL_NA-PEL-BS1-GWS_PCC_IT192_DH_3LALPHA10_NZ20_PNTh0.05_AnnotThresh0.5/checkpoint-983444/pytorch_model.bin\n"
     ]
    },
    {
     "name": "stderr",
     "output_type": "stream",
     "text": [
      "Deleting older checkpoint [saved_models/XLNetDepr-3_256_8-ALL_NA-PEL-BS1-GWS_PCC_IT192_DH_3LALPHA10_NZ20_PNTh0.05_AnnotThresh0.5/checkpoint-957900] due to args.save_total_limit\n"
     ]
    },
    {
     "name": "stderr",
     "output_type": "stream",
     "text": [
      "***** Running Evaluation *****\n"
     ]
    },
    {
     "name": "stderr",
     "output_type": "stream",
     "text": [
      "  Num examples = 1592\n"
     ]
    },
    {
     "name": "stderr",
     "output_type": "stream",
     "text": [
      "  Batch size = 1\n"
     ]
    },
    {
     "name": "stderr",
     "output_type": "stream",
     "text": [
      "Saving model checkpoint to saved_models/XLNetDepr-3_256_8-ALL_NA-PEL-BS1-GWS_PCC_IT192_DH_3LALPHA10_NZ20_PNTh0.05_AnnotThresh0.5/checkpoint-989830\n"
     ]
    },
    {
     "name": "stderr",
     "output_type": "stream",
     "text": [
      "Configuration saved in saved_models/XLNetDepr-3_256_8-ALL_NA-PEL-BS1-GWS_PCC_IT192_DH_3LALPHA10_NZ20_PNTh0.05_AnnotThresh0.5/checkpoint-989830/config.json\n"
     ]
    },
    {
     "name": "stderr",
     "output_type": "stream",
     "text": [
      "Model weights saved in saved_models/XLNetDepr-3_256_8-ALL_NA-PEL-BS1-GWS_PCC_IT192_DH_3LALPHA10_NZ20_PNTh0.05_AnnotThresh0.5/checkpoint-989830/pytorch_model.bin\n"
     ]
    },
    {
     "name": "stderr",
     "output_type": "stream",
     "text": [
      "Deleting older checkpoint [saved_models/XLNetDepr-3_256_8-ALL_NA-PEL-BS1-GWS_PCC_IT192_DH_3LALPHA10_NZ20_PNTh0.05_AnnotThresh0.5/checkpoint-964286] due to args.save_total_limit\n"
     ]
    },
    {
     "name": "stderr",
     "output_type": "stream",
     "text": [
      "***** Running Evaluation *****\n"
     ]
    },
    {
     "name": "stderr",
     "output_type": "stream",
     "text": [
      "  Num examples = 1592\n"
     ]
    },
    {
     "name": "stderr",
     "output_type": "stream",
     "text": [
      "  Batch size = 1\n"
     ]
    },
    {
     "name": "stderr",
     "output_type": "stream",
     "text": [
      "Saving model checkpoint to saved_models/XLNetDepr-3_256_8-ALL_NA-PEL-BS1-GWS_PCC_IT192_DH_3LALPHA10_NZ20_PNTh0.05_AnnotThresh0.5/checkpoint-996216\n"
     ]
    },
    {
     "name": "stderr",
     "output_type": "stream",
     "text": [
      "Configuration saved in saved_models/XLNetDepr-3_256_8-ALL_NA-PEL-BS1-GWS_PCC_IT192_DH_3LALPHA10_NZ20_PNTh0.05_AnnotThresh0.5/checkpoint-996216/config.json\n"
     ]
    },
    {
     "name": "stderr",
     "output_type": "stream",
     "text": [
      "Model weights saved in saved_models/XLNetDepr-3_256_8-ALL_NA-PEL-BS1-GWS_PCC_IT192_DH_3LALPHA10_NZ20_PNTh0.05_AnnotThresh0.5/checkpoint-996216/pytorch_model.bin\n"
     ]
    },
    {
     "name": "stderr",
     "output_type": "stream",
     "text": [
      "Deleting older checkpoint [saved_models/XLNetDepr-3_256_8-ALL_NA-PEL-BS1-GWS_PCC_IT192_DH_3LALPHA10_NZ20_PNTh0.05_AnnotThresh0.5/checkpoint-970672] due to args.save_total_limit\n"
     ]
    },
    {
     "name": "stderr",
     "output_type": "stream",
     "text": [
      "***** Running Evaluation *****\n"
     ]
    },
    {
     "name": "stderr",
     "output_type": "stream",
     "text": [
      "  Num examples = 1592\n"
     ]
    },
    {
     "name": "stderr",
     "output_type": "stream",
     "text": [
      "  Batch size = 1\n"
     ]
    },
    {
     "name": "stderr",
     "output_type": "stream",
     "text": [
      "Saving model checkpoint to saved_models/XLNetDepr-3_256_8-ALL_NA-PEL-BS1-GWS_PCC_IT192_DH_3LALPHA10_NZ20_PNTh0.05_AnnotThresh0.5/checkpoint-1002602\n"
     ]
    },
    {
     "name": "stderr",
     "output_type": "stream",
     "text": [
      "Configuration saved in saved_models/XLNetDepr-3_256_8-ALL_NA-PEL-BS1-GWS_PCC_IT192_DH_3LALPHA10_NZ20_PNTh0.05_AnnotThresh0.5/checkpoint-1002602/config.json\n"
     ]
    },
    {
     "name": "stderr",
     "output_type": "stream",
     "text": [
      "Model weights saved in saved_models/XLNetDepr-3_256_8-ALL_NA-PEL-BS1-GWS_PCC_IT192_DH_3LALPHA10_NZ20_PNTh0.05_AnnotThresh0.5/checkpoint-1002602/pytorch_model.bin\n"
     ]
    },
    {
     "name": "stderr",
     "output_type": "stream",
     "text": [
      "Deleting older checkpoint [saved_models/XLNetDepr-3_256_8-ALL_NA-PEL-BS1-GWS_PCC_IT192_DH_3LALPHA10_NZ20_PNTh0.05_AnnotThresh0.5/checkpoint-977058] due to args.save_total_limit\n"
     ]
    },
    {
     "name": "stderr",
     "output_type": "stream",
     "text": [
      "***** Running Evaluation *****\n"
     ]
    },
    {
     "name": "stderr",
     "output_type": "stream",
     "text": [
      "  Num examples = 1592\n"
     ]
    },
    {
     "name": "stderr",
     "output_type": "stream",
     "text": [
      "  Batch size = 1\n"
     ]
    },
    {
     "name": "stderr",
     "output_type": "stream",
     "text": [
      "Saving model checkpoint to saved_models/XLNetDepr-3_256_8-ALL_NA-PEL-BS1-GWS_PCC_IT192_DH_3LALPHA10_NZ20_PNTh0.05_AnnotThresh0.5/checkpoint-1008988\n"
     ]
    },
    {
     "name": "stderr",
     "output_type": "stream",
     "text": [
      "Configuration saved in saved_models/XLNetDepr-3_256_8-ALL_NA-PEL-BS1-GWS_PCC_IT192_DH_3LALPHA10_NZ20_PNTh0.05_AnnotThresh0.5/checkpoint-1008988/config.json\n"
     ]
    },
    {
     "name": "stderr",
     "output_type": "stream",
     "text": [
      "Model weights saved in saved_models/XLNetDepr-3_256_8-ALL_NA-PEL-BS1-GWS_PCC_IT192_DH_3LALPHA10_NZ20_PNTh0.05_AnnotThresh0.5/checkpoint-1008988/pytorch_model.bin\n"
     ]
    },
    {
     "name": "stderr",
     "output_type": "stream",
     "text": [
      "Deleting older checkpoint [saved_models/XLNetDepr-3_256_8-ALL_NA-PEL-BS1-GWS_PCC_IT192_DH_3LALPHA10_NZ20_PNTh0.05_AnnotThresh0.5/checkpoint-983444] due to args.save_total_limit\n"
     ]
    },
    {
     "name": "stderr",
     "output_type": "stream",
     "text": [
      "***** Running Evaluation *****\n"
     ]
    },
    {
     "name": "stderr",
     "output_type": "stream",
     "text": [
      "  Num examples = 1592\n"
     ]
    },
    {
     "name": "stderr",
     "output_type": "stream",
     "text": [
      "  Batch size = 1\n"
     ]
    },
    {
     "name": "stderr",
     "output_type": "stream",
     "text": [
      "Saving model checkpoint to saved_models/XLNetDepr-3_256_8-ALL_NA-PEL-BS1-GWS_PCC_IT192_DH_3LALPHA10_NZ20_PNTh0.05_AnnotThresh0.5/checkpoint-1015374\n"
     ]
    },
    {
     "name": "stderr",
     "output_type": "stream",
     "text": [
      "Configuration saved in saved_models/XLNetDepr-3_256_8-ALL_NA-PEL-BS1-GWS_PCC_IT192_DH_3LALPHA10_NZ20_PNTh0.05_AnnotThresh0.5/checkpoint-1015374/config.json\n"
     ]
    },
    {
     "name": "stderr",
     "output_type": "stream",
     "text": [
      "Model weights saved in saved_models/XLNetDepr-3_256_8-ALL_NA-PEL-BS1-GWS_PCC_IT192_DH_3LALPHA10_NZ20_PNTh0.05_AnnotThresh0.5/checkpoint-1015374/pytorch_model.bin\n"
     ]
    },
    {
     "name": "stderr",
     "output_type": "stream",
     "text": [
      "Deleting older checkpoint [saved_models/XLNetDepr-3_256_8-ALL_NA-PEL-BS1-GWS_PCC_IT192_DH_3LALPHA10_NZ20_PNTh0.05_AnnotThresh0.5/checkpoint-989830] due to args.save_total_limit\n"
     ]
    },
    {
     "name": "stderr",
     "output_type": "stream",
     "text": [
      "***** Running Evaluation *****\n"
     ]
    },
    {
     "name": "stderr",
     "output_type": "stream",
     "text": [
      "  Num examples = 1592\n"
     ]
    },
    {
     "name": "stderr",
     "output_type": "stream",
     "text": [
      "  Batch size = 1\n"
     ]
    },
    {
     "name": "stderr",
     "output_type": "stream",
     "text": [
      "Saving model checkpoint to saved_models/XLNetDepr-3_256_8-ALL_NA-PEL-BS1-GWS_PCC_IT192_DH_3LALPHA10_NZ20_PNTh0.05_AnnotThresh0.5/checkpoint-1021760\n"
     ]
    },
    {
     "name": "stderr",
     "output_type": "stream",
     "text": [
      "Configuration saved in saved_models/XLNetDepr-3_256_8-ALL_NA-PEL-BS1-GWS_PCC_IT192_DH_3LALPHA10_NZ20_PNTh0.05_AnnotThresh0.5/checkpoint-1021760/config.json\n"
     ]
    },
    {
     "name": "stderr",
     "output_type": "stream",
     "text": [
      "Model weights saved in saved_models/XLNetDepr-3_256_8-ALL_NA-PEL-BS1-GWS_PCC_IT192_DH_3LALPHA10_NZ20_PNTh0.05_AnnotThresh0.5/checkpoint-1021760/pytorch_model.bin\n"
     ]
    },
    {
     "name": "stderr",
     "output_type": "stream",
     "text": [
      "Deleting older checkpoint [saved_models/XLNetDepr-3_256_8-ALL_NA-PEL-BS1-GWS_PCC_IT192_DH_3LALPHA10_NZ20_PNTh0.05_AnnotThresh0.5/checkpoint-996216] due to args.save_total_limit\n"
     ]
    },
    {
     "name": "stderr",
     "output_type": "stream",
     "text": [
      "***** Running Evaluation *****\n"
     ]
    },
    {
     "name": "stderr",
     "output_type": "stream",
     "text": [
      "  Num examples = 1592\n"
     ]
    },
    {
     "name": "stderr",
     "output_type": "stream",
     "text": [
      "  Batch size = 1\n"
     ]
    },
    {
     "name": "stderr",
     "output_type": "stream",
     "text": [
      "Saving model checkpoint to saved_models/XLNetDepr-3_256_8-ALL_NA-PEL-BS1-GWS_PCC_IT192_DH_3LALPHA10_NZ20_PNTh0.05_AnnotThresh0.5/checkpoint-1028146\n"
     ]
    },
    {
     "name": "stderr",
     "output_type": "stream",
     "text": [
      "Configuration saved in saved_models/XLNetDepr-3_256_8-ALL_NA-PEL-BS1-GWS_PCC_IT192_DH_3LALPHA10_NZ20_PNTh0.05_AnnotThresh0.5/checkpoint-1028146/config.json\n"
     ]
    },
    {
     "name": "stderr",
     "output_type": "stream",
     "text": [
      "Model weights saved in saved_models/XLNetDepr-3_256_8-ALL_NA-PEL-BS1-GWS_PCC_IT192_DH_3LALPHA10_NZ20_PNTh0.05_AnnotThresh0.5/checkpoint-1028146/pytorch_model.bin\n"
     ]
    },
    {
     "name": "stderr",
     "output_type": "stream",
     "text": [
      "Deleting older checkpoint [saved_models/XLNetDepr-3_256_8-ALL_NA-PEL-BS1-GWS_PCC_IT192_DH_3LALPHA10_NZ20_PNTh0.05_AnnotThresh0.5/checkpoint-1002602] due to args.save_total_limit\n"
     ]
    },
    {
     "name": "stderr",
     "output_type": "stream",
     "text": [
      "***** Running Evaluation *****\n"
     ]
    },
    {
     "name": "stderr",
     "output_type": "stream",
     "text": [
      "  Num examples = 1592\n"
     ]
    },
    {
     "name": "stderr",
     "output_type": "stream",
     "text": [
      "  Batch size = 1\n"
     ]
    },
    {
     "name": "stderr",
     "output_type": "stream",
     "text": [
      "Saving model checkpoint to saved_models/XLNetDepr-3_256_8-ALL_NA-PEL-BS1-GWS_PCC_IT192_DH_3LALPHA10_NZ20_PNTh0.05_AnnotThresh0.5/checkpoint-1034532\n"
     ]
    },
    {
     "name": "stderr",
     "output_type": "stream",
     "text": [
      "Configuration saved in saved_models/XLNetDepr-3_256_8-ALL_NA-PEL-BS1-GWS_PCC_IT192_DH_3LALPHA10_NZ20_PNTh0.05_AnnotThresh0.5/checkpoint-1034532/config.json\n"
     ]
    },
    {
     "name": "stderr",
     "output_type": "stream",
     "text": [
      "Model weights saved in saved_models/XLNetDepr-3_256_8-ALL_NA-PEL-BS1-GWS_PCC_IT192_DH_3LALPHA10_NZ20_PNTh0.05_AnnotThresh0.5/checkpoint-1034532/pytorch_model.bin\n"
     ]
    },
    {
     "name": "stderr",
     "output_type": "stream",
     "text": [
      "Deleting older checkpoint [saved_models/XLNetDepr-3_256_8-ALL_NA-PEL-BS1-GWS_PCC_IT192_DH_3LALPHA10_NZ20_PNTh0.05_AnnotThresh0.5/checkpoint-1008988] due to args.save_total_limit\n"
     ]
    },
    {
     "name": "stderr",
     "output_type": "stream",
     "text": [
      "***** Running Evaluation *****\n"
     ]
    },
    {
     "name": "stderr",
     "output_type": "stream",
     "text": [
      "  Num examples = 1592\n"
     ]
    },
    {
     "name": "stderr",
     "output_type": "stream",
     "text": [
      "  Batch size = 1\n"
     ]
    },
    {
     "name": "stderr",
     "output_type": "stream",
     "text": [
      "Saving model checkpoint to saved_models/XLNetDepr-3_256_8-ALL_NA-PEL-BS1-GWS_PCC_IT192_DH_3LALPHA10_NZ20_PNTh0.05_AnnotThresh0.5/checkpoint-1040918\n"
     ]
    },
    {
     "name": "stderr",
     "output_type": "stream",
     "text": [
      "Configuration saved in saved_models/XLNetDepr-3_256_8-ALL_NA-PEL-BS1-GWS_PCC_IT192_DH_3LALPHA10_NZ20_PNTh0.05_AnnotThresh0.5/checkpoint-1040918/config.json\n"
     ]
    },
    {
     "name": "stderr",
     "output_type": "stream",
     "text": [
      "Model weights saved in saved_models/XLNetDepr-3_256_8-ALL_NA-PEL-BS1-GWS_PCC_IT192_DH_3LALPHA10_NZ20_PNTh0.05_AnnotThresh0.5/checkpoint-1040918/pytorch_model.bin\n"
     ]
    },
    {
     "name": "stderr",
     "output_type": "stream",
     "text": [
      "Deleting older checkpoint [saved_models/XLNetDepr-3_256_8-ALL_NA-PEL-BS1-GWS_PCC_IT192_DH_3LALPHA10_NZ20_PNTh0.05_AnnotThresh0.5/checkpoint-1015374] due to args.save_total_limit\n"
     ]
    },
    {
     "name": "stderr",
     "output_type": "stream",
     "text": [
      "***** Running Evaluation *****\n"
     ]
    },
    {
     "name": "stderr",
     "output_type": "stream",
     "text": [
      "  Num examples = 1592\n"
     ]
    },
    {
     "name": "stderr",
     "output_type": "stream",
     "text": [
      "  Batch size = 1\n"
     ]
    },
    {
     "name": "stderr",
     "output_type": "stream",
     "text": [
      "Saving model checkpoint to saved_models/XLNetDepr-3_256_8-ALL_NA-PEL-BS1-GWS_PCC_IT192_DH_3LALPHA10_NZ20_PNTh0.05_AnnotThresh0.5/checkpoint-1047304\n"
     ]
    },
    {
     "name": "stderr",
     "output_type": "stream",
     "text": [
      "Configuration saved in saved_models/XLNetDepr-3_256_8-ALL_NA-PEL-BS1-GWS_PCC_IT192_DH_3LALPHA10_NZ20_PNTh0.05_AnnotThresh0.5/checkpoint-1047304/config.json\n"
     ]
    },
    {
     "name": "stderr",
     "output_type": "stream",
     "text": [
      "Model weights saved in saved_models/XLNetDepr-3_256_8-ALL_NA-PEL-BS1-GWS_PCC_IT192_DH_3LALPHA10_NZ20_PNTh0.05_AnnotThresh0.5/checkpoint-1047304/pytorch_model.bin\n"
     ]
    },
    {
     "name": "stderr",
     "output_type": "stream",
     "text": [
      "Deleting older checkpoint [saved_models/XLNetDepr-3_256_8-ALL_NA-PEL-BS1-GWS_PCC_IT192_DH_3LALPHA10_NZ20_PNTh0.05_AnnotThresh0.5/checkpoint-1021760] due to args.save_total_limit\n"
     ]
    },
    {
     "name": "stderr",
     "output_type": "stream",
     "text": [
      "***** Running Evaluation *****\n"
     ]
    },
    {
     "name": "stderr",
     "output_type": "stream",
     "text": [
      "  Num examples = 1592\n"
     ]
    },
    {
     "name": "stderr",
     "output_type": "stream",
     "text": [
      "  Batch size = 1\n"
     ]
    },
    {
     "name": "stderr",
     "output_type": "stream",
     "text": [
      "Saving model checkpoint to saved_models/XLNetDepr-3_256_8-ALL_NA-PEL-BS1-GWS_PCC_IT192_DH_3LALPHA10_NZ20_PNTh0.05_AnnotThresh0.5/checkpoint-1053690\n"
     ]
    },
    {
     "name": "stderr",
     "output_type": "stream",
     "text": [
      "Configuration saved in saved_models/XLNetDepr-3_256_8-ALL_NA-PEL-BS1-GWS_PCC_IT192_DH_3LALPHA10_NZ20_PNTh0.05_AnnotThresh0.5/checkpoint-1053690/config.json\n"
     ]
    },
    {
     "name": "stderr",
     "output_type": "stream",
     "text": [
      "Model weights saved in saved_models/XLNetDepr-3_256_8-ALL_NA-PEL-BS1-GWS_PCC_IT192_DH_3LALPHA10_NZ20_PNTh0.05_AnnotThresh0.5/checkpoint-1053690/pytorch_model.bin\n"
     ]
    },
    {
     "name": "stderr",
     "output_type": "stream",
     "text": [
      "Deleting older checkpoint [saved_models/XLNetDepr-3_256_8-ALL_NA-PEL-BS1-GWS_PCC_IT192_DH_3LALPHA10_NZ20_PNTh0.05_AnnotThresh0.5/checkpoint-1028146] due to args.save_total_limit\n"
     ]
    },
    {
     "name": "stderr",
     "output_type": "stream",
     "text": [
      "***** Running Evaluation *****\n"
     ]
    },
    {
     "name": "stderr",
     "output_type": "stream",
     "text": [
      "  Num examples = 1592\n"
     ]
    },
    {
     "name": "stderr",
     "output_type": "stream",
     "text": [
      "  Batch size = 1\n"
     ]
    },
    {
     "name": "stderr",
     "output_type": "stream",
     "text": [
      "Saving model checkpoint to saved_models/XLNetDepr-3_256_8-ALL_NA-PEL-BS1-GWS_PCC_IT192_DH_3LALPHA10_NZ20_PNTh0.05_AnnotThresh0.5/checkpoint-1060076\n"
     ]
    },
    {
     "name": "stderr",
     "output_type": "stream",
     "text": [
      "Configuration saved in saved_models/XLNetDepr-3_256_8-ALL_NA-PEL-BS1-GWS_PCC_IT192_DH_3LALPHA10_NZ20_PNTh0.05_AnnotThresh0.5/checkpoint-1060076/config.json\n"
     ]
    },
    {
     "name": "stderr",
     "output_type": "stream",
     "text": [
      "Model weights saved in saved_models/XLNetDepr-3_256_8-ALL_NA-PEL-BS1-GWS_PCC_IT192_DH_3LALPHA10_NZ20_PNTh0.05_AnnotThresh0.5/checkpoint-1060076/pytorch_model.bin\n"
     ]
    },
    {
     "name": "stderr",
     "output_type": "stream",
     "text": [
      "Deleting older checkpoint [saved_models/XLNetDepr-3_256_8-ALL_NA-PEL-BS1-GWS_PCC_IT192_DH_3LALPHA10_NZ20_PNTh0.05_AnnotThresh0.5/checkpoint-1034532] due to args.save_total_limit\n"
     ]
    },
    {
     "name": "stderr",
     "output_type": "stream",
     "text": [
      "***** Running Evaluation *****\n"
     ]
    },
    {
     "name": "stderr",
     "output_type": "stream",
     "text": [
      "  Num examples = 1592\n"
     ]
    },
    {
     "name": "stderr",
     "output_type": "stream",
     "text": [
      "  Batch size = 1\n"
     ]
    },
    {
     "name": "stderr",
     "output_type": "stream",
     "text": [
      "Saving model checkpoint to saved_models/XLNetDepr-3_256_8-ALL_NA-PEL-BS1-GWS_PCC_IT192_DH_3LALPHA10_NZ20_PNTh0.05_AnnotThresh0.5/checkpoint-1066462\n"
     ]
    },
    {
     "name": "stderr",
     "output_type": "stream",
     "text": [
      "Configuration saved in saved_models/XLNetDepr-3_256_8-ALL_NA-PEL-BS1-GWS_PCC_IT192_DH_3LALPHA10_NZ20_PNTh0.05_AnnotThresh0.5/checkpoint-1066462/config.json\n"
     ]
    },
    {
     "name": "stderr",
     "output_type": "stream",
     "text": [
      "Model weights saved in saved_models/XLNetDepr-3_256_8-ALL_NA-PEL-BS1-GWS_PCC_IT192_DH_3LALPHA10_NZ20_PNTh0.05_AnnotThresh0.5/checkpoint-1066462/pytorch_model.bin\n"
     ]
    },
    {
     "name": "stderr",
     "output_type": "stream",
     "text": [
      "Deleting older checkpoint [saved_models/XLNetDepr-3_256_8-ALL_NA-PEL-BS1-GWS_PCC_IT192_DH_3LALPHA10_NZ20_PNTh0.05_AnnotThresh0.5/checkpoint-1040918] due to args.save_total_limit\n"
     ]
    },
    {
     "name": "stderr",
     "output_type": "stream",
     "text": [
      "***** Running Evaluation *****\n"
     ]
    },
    {
     "name": "stderr",
     "output_type": "stream",
     "text": [
      "  Num examples = 1592\n"
     ]
    },
    {
     "name": "stderr",
     "output_type": "stream",
     "text": [
      "  Batch size = 1\n"
     ]
    },
    {
     "name": "stderr",
     "output_type": "stream",
     "text": [
      "Saving model checkpoint to saved_models/XLNetDepr-3_256_8-ALL_NA-PEL-BS1-GWS_PCC_IT192_DH_3LALPHA10_NZ20_PNTh0.05_AnnotThresh0.5/checkpoint-1072848\n"
     ]
    },
    {
     "name": "stderr",
     "output_type": "stream",
     "text": [
      "Configuration saved in saved_models/XLNetDepr-3_256_8-ALL_NA-PEL-BS1-GWS_PCC_IT192_DH_3LALPHA10_NZ20_PNTh0.05_AnnotThresh0.5/checkpoint-1072848/config.json\n"
     ]
    },
    {
     "name": "stderr",
     "output_type": "stream",
     "text": [
      "Model weights saved in saved_models/XLNetDepr-3_256_8-ALL_NA-PEL-BS1-GWS_PCC_IT192_DH_3LALPHA10_NZ20_PNTh0.05_AnnotThresh0.5/checkpoint-1072848/pytorch_model.bin\n"
     ]
    },
    {
     "name": "stderr",
     "output_type": "stream",
     "text": [
      "Deleting older checkpoint [saved_models/XLNetDepr-3_256_8-ALL_NA-PEL-BS1-GWS_PCC_IT192_DH_3LALPHA10_NZ20_PNTh0.05_AnnotThresh0.5/checkpoint-1047304] due to args.save_total_limit\n"
     ]
    },
    {
     "name": "stderr",
     "output_type": "stream",
     "text": [
      "***** Running Evaluation *****\n"
     ]
    },
    {
     "name": "stderr",
     "output_type": "stream",
     "text": [
      "  Num examples = 1592\n"
     ]
    },
    {
     "name": "stderr",
     "output_type": "stream",
     "text": [
      "  Batch size = 1\n"
     ]
    },
    {
     "name": "stderr",
     "output_type": "stream",
     "text": [
      "Saving model checkpoint to saved_models/XLNetDepr-3_256_8-ALL_NA-PEL-BS1-GWS_PCC_IT192_DH_3LALPHA10_NZ20_PNTh0.05_AnnotThresh0.5/checkpoint-1079234\n"
     ]
    },
    {
     "name": "stderr",
     "output_type": "stream",
     "text": [
      "Configuration saved in saved_models/XLNetDepr-3_256_8-ALL_NA-PEL-BS1-GWS_PCC_IT192_DH_3LALPHA10_NZ20_PNTh0.05_AnnotThresh0.5/checkpoint-1079234/config.json\n"
     ]
    },
    {
     "name": "stderr",
     "output_type": "stream",
     "text": [
      "Model weights saved in saved_models/XLNetDepr-3_256_8-ALL_NA-PEL-BS1-GWS_PCC_IT192_DH_3LALPHA10_NZ20_PNTh0.05_AnnotThresh0.5/checkpoint-1079234/pytorch_model.bin\n"
     ]
    },
    {
     "name": "stderr",
     "output_type": "stream",
     "text": [
      "Deleting older checkpoint [saved_models/XLNetDepr-3_256_8-ALL_NA-PEL-BS1-GWS_PCC_IT192_DH_3LALPHA10_NZ20_PNTh0.05_AnnotThresh0.5/checkpoint-1053690] due to args.save_total_limit\n"
     ]
    },
    {
     "name": "stderr",
     "output_type": "stream",
     "text": [
      "***** Running Evaluation *****\n"
     ]
    },
    {
     "name": "stderr",
     "output_type": "stream",
     "text": [
      "  Num examples = 1592\n"
     ]
    },
    {
     "name": "stderr",
     "output_type": "stream",
     "text": [
      "  Batch size = 1\n"
     ]
    },
    {
     "name": "stderr",
     "output_type": "stream",
     "text": [
      "Saving model checkpoint to saved_models/XLNetDepr-3_256_8-ALL_NA-PEL-BS1-GWS_PCC_IT192_DH_3LALPHA10_NZ20_PNTh0.05_AnnotThresh0.5/checkpoint-1085620\n"
     ]
    },
    {
     "name": "stderr",
     "output_type": "stream",
     "text": [
      "Configuration saved in saved_models/XLNetDepr-3_256_8-ALL_NA-PEL-BS1-GWS_PCC_IT192_DH_3LALPHA10_NZ20_PNTh0.05_AnnotThresh0.5/checkpoint-1085620/config.json\n"
     ]
    },
    {
     "name": "stderr",
     "output_type": "stream",
     "text": [
      "Model weights saved in saved_models/XLNetDepr-3_256_8-ALL_NA-PEL-BS1-GWS_PCC_IT192_DH_3LALPHA10_NZ20_PNTh0.05_AnnotThresh0.5/checkpoint-1085620/pytorch_model.bin\n"
     ]
    },
    {
     "name": "stderr",
     "output_type": "stream",
     "text": [
      "Deleting older checkpoint [saved_models/XLNetDepr-3_256_8-ALL_NA-PEL-BS1-GWS_PCC_IT192_DH_3LALPHA10_NZ20_PNTh0.05_AnnotThresh0.5/checkpoint-1060076] due to args.save_total_limit\n"
     ]
    },
    {
     "name": "stderr",
     "output_type": "stream",
     "text": [
      "***** Running Evaluation *****\n"
     ]
    },
    {
     "name": "stderr",
     "output_type": "stream",
     "text": [
      "  Num examples = 1592\n"
     ]
    },
    {
     "name": "stderr",
     "output_type": "stream",
     "text": [
      "  Batch size = 1\n"
     ]
    },
    {
     "name": "stderr",
     "output_type": "stream",
     "text": [
      "Saving model checkpoint to saved_models/XLNetDepr-3_256_8-ALL_NA-PEL-BS1-GWS_PCC_IT192_DH_3LALPHA10_NZ20_PNTh0.05_AnnotThresh0.5/checkpoint-1092006\n"
     ]
    },
    {
     "name": "stderr",
     "output_type": "stream",
     "text": [
      "Configuration saved in saved_models/XLNetDepr-3_256_8-ALL_NA-PEL-BS1-GWS_PCC_IT192_DH_3LALPHA10_NZ20_PNTh0.05_AnnotThresh0.5/checkpoint-1092006/config.json\n"
     ]
    },
    {
     "name": "stderr",
     "output_type": "stream",
     "text": [
      "Model weights saved in saved_models/XLNetDepr-3_256_8-ALL_NA-PEL-BS1-GWS_PCC_IT192_DH_3LALPHA10_NZ20_PNTh0.05_AnnotThresh0.5/checkpoint-1092006/pytorch_model.bin\n"
     ]
    },
    {
     "name": "stderr",
     "output_type": "stream",
     "text": [
      "Deleting older checkpoint [saved_models/XLNetDepr-3_256_8-ALL_NA-PEL-BS1-GWS_PCC_IT192_DH_3LALPHA10_NZ20_PNTh0.05_AnnotThresh0.5/checkpoint-1066462] due to args.save_total_limit\n"
     ]
    },
    {
     "name": "stderr",
     "output_type": "stream",
     "text": [
      "***** Running Evaluation *****\n"
     ]
    },
    {
     "name": "stderr",
     "output_type": "stream",
     "text": [
      "  Num examples = 1592\n"
     ]
    },
    {
     "name": "stderr",
     "output_type": "stream",
     "text": [
      "  Batch size = 1\n"
     ]
    },
    {
     "name": "stderr",
     "output_type": "stream",
     "text": [
      "Saving model checkpoint to saved_models/XLNetDepr-3_256_8-ALL_NA-PEL-BS1-GWS_PCC_IT192_DH_3LALPHA10_NZ20_PNTh0.05_AnnotThresh0.5/checkpoint-1098392\n"
     ]
    },
    {
     "name": "stderr",
     "output_type": "stream",
     "text": [
      "Configuration saved in saved_models/XLNetDepr-3_256_8-ALL_NA-PEL-BS1-GWS_PCC_IT192_DH_3LALPHA10_NZ20_PNTh0.05_AnnotThresh0.5/checkpoint-1098392/config.json\n"
     ]
    },
    {
     "name": "stderr",
     "output_type": "stream",
     "text": [
      "Model weights saved in saved_models/XLNetDepr-3_256_8-ALL_NA-PEL-BS1-GWS_PCC_IT192_DH_3LALPHA10_NZ20_PNTh0.05_AnnotThresh0.5/checkpoint-1098392/pytorch_model.bin\n"
     ]
    },
    {
     "name": "stderr",
     "output_type": "stream",
     "text": [
      "Deleting older checkpoint [saved_models/XLNetDepr-3_256_8-ALL_NA-PEL-BS1-GWS_PCC_IT192_DH_3LALPHA10_NZ20_PNTh0.05_AnnotThresh0.5/checkpoint-1072848] due to args.save_total_limit\n"
     ]
    },
    {
     "name": "stderr",
     "output_type": "stream",
     "text": [
      "***** Running Evaluation *****\n"
     ]
    },
    {
     "name": "stderr",
     "output_type": "stream",
     "text": [
      "  Num examples = 1592\n"
     ]
    },
    {
     "name": "stderr",
     "output_type": "stream",
     "text": [
      "  Batch size = 1\n"
     ]
    },
    {
     "name": "stderr",
     "output_type": "stream",
     "text": [
      "Saving model checkpoint to saved_models/XLNetDepr-3_256_8-ALL_NA-PEL-BS1-GWS_PCC_IT192_DH_3LALPHA10_NZ20_PNTh0.05_AnnotThresh0.5/checkpoint-1104778\n"
     ]
    },
    {
     "name": "stderr",
     "output_type": "stream",
     "text": [
      "Configuration saved in saved_models/XLNetDepr-3_256_8-ALL_NA-PEL-BS1-GWS_PCC_IT192_DH_3LALPHA10_NZ20_PNTh0.05_AnnotThresh0.5/checkpoint-1104778/config.json\n"
     ]
    },
    {
     "name": "stderr",
     "output_type": "stream",
     "text": [
      "Model weights saved in saved_models/XLNetDepr-3_256_8-ALL_NA-PEL-BS1-GWS_PCC_IT192_DH_3LALPHA10_NZ20_PNTh0.05_AnnotThresh0.5/checkpoint-1104778/pytorch_model.bin\n"
     ]
    },
    {
     "name": "stderr",
     "output_type": "stream",
     "text": [
      "Deleting older checkpoint [saved_models/XLNetDepr-3_256_8-ALL_NA-PEL-BS1-GWS_PCC_IT192_DH_3LALPHA10_NZ20_PNTh0.05_AnnotThresh0.5/checkpoint-1079234] due to args.save_total_limit\n"
     ]
    },
    {
     "name": "stderr",
     "output_type": "stream",
     "text": [
      "***** Running Evaluation *****\n"
     ]
    },
    {
     "name": "stderr",
     "output_type": "stream",
     "text": [
      "  Num examples = 1592\n"
     ]
    },
    {
     "name": "stderr",
     "output_type": "stream",
     "text": [
      "  Batch size = 1\n"
     ]
    },
    {
     "name": "stderr",
     "output_type": "stream",
     "text": [
      "Saving model checkpoint to saved_models/XLNetDepr-3_256_8-ALL_NA-PEL-BS1-GWS_PCC_IT192_DH_3LALPHA10_NZ20_PNTh0.05_AnnotThresh0.5/checkpoint-1111164\n"
     ]
    },
    {
     "name": "stderr",
     "output_type": "stream",
     "text": [
      "Configuration saved in saved_models/XLNetDepr-3_256_8-ALL_NA-PEL-BS1-GWS_PCC_IT192_DH_3LALPHA10_NZ20_PNTh0.05_AnnotThresh0.5/checkpoint-1111164/config.json\n"
     ]
    },
    {
     "name": "stderr",
     "output_type": "stream",
     "text": [
      "Model weights saved in saved_models/XLNetDepr-3_256_8-ALL_NA-PEL-BS1-GWS_PCC_IT192_DH_3LALPHA10_NZ20_PNTh0.05_AnnotThresh0.5/checkpoint-1111164/pytorch_model.bin\n"
     ]
    },
    {
     "name": "stderr",
     "output_type": "stream",
     "text": [
      "Deleting older checkpoint [saved_models/XLNetDepr-3_256_8-ALL_NA-PEL-BS1-GWS_PCC_IT192_DH_3LALPHA10_NZ20_PNTh0.05_AnnotThresh0.5/checkpoint-1085620] due to args.save_total_limit\n"
     ]
    },
    {
     "name": "stderr",
     "output_type": "stream",
     "text": [
      "***** Running Evaluation *****\n"
     ]
    },
    {
     "name": "stderr",
     "output_type": "stream",
     "text": [
      "  Num examples = 1592\n"
     ]
    },
    {
     "name": "stderr",
     "output_type": "stream",
     "text": [
      "  Batch size = 1\n"
     ]
    },
    {
     "name": "stderr",
     "output_type": "stream",
     "text": [
      "Saving model checkpoint to saved_models/XLNetDepr-3_256_8-ALL_NA-PEL-BS1-GWS_PCC_IT192_DH_3LALPHA10_NZ20_PNTh0.05_AnnotThresh0.5/checkpoint-1117550\n"
     ]
    },
    {
     "name": "stderr",
     "output_type": "stream",
     "text": [
      "Configuration saved in saved_models/XLNetDepr-3_256_8-ALL_NA-PEL-BS1-GWS_PCC_IT192_DH_3LALPHA10_NZ20_PNTh0.05_AnnotThresh0.5/checkpoint-1117550/config.json\n"
     ]
    },
    {
     "name": "stderr",
     "output_type": "stream",
     "text": [
      "Model weights saved in saved_models/XLNetDepr-3_256_8-ALL_NA-PEL-BS1-GWS_PCC_IT192_DH_3LALPHA10_NZ20_PNTh0.05_AnnotThresh0.5/checkpoint-1117550/pytorch_model.bin\n"
     ]
    },
    {
     "name": "stderr",
     "output_type": "stream",
     "text": [
      "Deleting older checkpoint [saved_models/XLNetDepr-3_256_8-ALL_NA-PEL-BS1-GWS_PCC_IT192_DH_3LALPHA10_NZ20_PNTh0.05_AnnotThresh0.5/checkpoint-1092006] due to args.save_total_limit\n"
     ]
    },
    {
     "name": "stderr",
     "output_type": "stream",
     "text": [
      "***** Running Evaluation *****\n"
     ]
    },
    {
     "name": "stderr",
     "output_type": "stream",
     "text": [
      "  Num examples = 1592\n"
     ]
    },
    {
     "name": "stderr",
     "output_type": "stream",
     "text": [
      "  Batch size = 1\n"
     ]
    },
    {
     "name": "stderr",
     "output_type": "stream",
     "text": [
      "Saving model checkpoint to saved_models/XLNetDepr-3_256_8-ALL_NA-PEL-BS1-GWS_PCC_IT192_DH_3LALPHA10_NZ20_PNTh0.05_AnnotThresh0.5/checkpoint-1123936\n"
     ]
    },
    {
     "name": "stderr",
     "output_type": "stream",
     "text": [
      "Configuration saved in saved_models/XLNetDepr-3_256_8-ALL_NA-PEL-BS1-GWS_PCC_IT192_DH_3LALPHA10_NZ20_PNTh0.05_AnnotThresh0.5/checkpoint-1123936/config.json\n"
     ]
    },
    {
     "name": "stderr",
     "output_type": "stream",
     "text": [
      "Model weights saved in saved_models/XLNetDepr-3_256_8-ALL_NA-PEL-BS1-GWS_PCC_IT192_DH_3LALPHA10_NZ20_PNTh0.05_AnnotThresh0.5/checkpoint-1123936/pytorch_model.bin\n"
     ]
    },
    {
     "name": "stderr",
     "output_type": "stream",
     "text": [
      "Deleting older checkpoint [saved_models/XLNetDepr-3_256_8-ALL_NA-PEL-BS1-GWS_PCC_IT192_DH_3LALPHA10_NZ20_PNTh0.05_AnnotThresh0.5/checkpoint-1098392] due to args.save_total_limit\n"
     ]
    },
    {
     "name": "stderr",
     "output_type": "stream",
     "text": [
      "***** Running Evaluation *****\n"
     ]
    },
    {
     "name": "stderr",
     "output_type": "stream",
     "text": [
      "  Num examples = 1592\n"
     ]
    },
    {
     "name": "stderr",
     "output_type": "stream",
     "text": [
      "  Batch size = 1\n"
     ]
    },
    {
     "name": "stderr",
     "output_type": "stream",
     "text": [
      "Saving model checkpoint to saved_models/XLNetDepr-3_256_8-ALL_NA-PEL-BS1-GWS_PCC_IT192_DH_3LALPHA10_NZ20_PNTh0.05_AnnotThresh0.5/checkpoint-1130322\n"
     ]
    },
    {
     "name": "stderr",
     "output_type": "stream",
     "text": [
      "Configuration saved in saved_models/XLNetDepr-3_256_8-ALL_NA-PEL-BS1-GWS_PCC_IT192_DH_3LALPHA10_NZ20_PNTh0.05_AnnotThresh0.5/checkpoint-1130322/config.json\n"
     ]
    },
    {
     "name": "stderr",
     "output_type": "stream",
     "text": [
      "Model weights saved in saved_models/XLNetDepr-3_256_8-ALL_NA-PEL-BS1-GWS_PCC_IT192_DH_3LALPHA10_NZ20_PNTh0.05_AnnotThresh0.5/checkpoint-1130322/pytorch_model.bin\n"
     ]
    },
    {
     "name": "stderr",
     "output_type": "stream",
     "text": [
      "Deleting older checkpoint [saved_models/XLNetDepr-3_256_8-ALL_NA-PEL-BS1-GWS_PCC_IT192_DH_3LALPHA10_NZ20_PNTh0.05_AnnotThresh0.5/checkpoint-1104778] due to args.save_total_limit\n"
     ]
    },
    {
     "name": "stderr",
     "output_type": "stream",
     "text": [
      "***** Running Evaluation *****\n"
     ]
    },
    {
     "name": "stderr",
     "output_type": "stream",
     "text": [
      "  Num examples = 1592\n"
     ]
    },
    {
     "name": "stderr",
     "output_type": "stream",
     "text": [
      "  Batch size = 1\n"
     ]
    },
    {
     "name": "stderr",
     "output_type": "stream",
     "text": [
      "Saving model checkpoint to saved_models/XLNetDepr-3_256_8-ALL_NA-PEL-BS1-GWS_PCC_IT192_DH_3LALPHA10_NZ20_PNTh0.05_AnnotThresh0.5/checkpoint-1136708\n"
     ]
    },
    {
     "name": "stderr",
     "output_type": "stream",
     "text": [
      "Configuration saved in saved_models/XLNetDepr-3_256_8-ALL_NA-PEL-BS1-GWS_PCC_IT192_DH_3LALPHA10_NZ20_PNTh0.05_AnnotThresh0.5/checkpoint-1136708/config.json\n"
     ]
    },
    {
     "name": "stderr",
     "output_type": "stream",
     "text": [
      "Model weights saved in saved_models/XLNetDepr-3_256_8-ALL_NA-PEL-BS1-GWS_PCC_IT192_DH_3LALPHA10_NZ20_PNTh0.05_AnnotThresh0.5/checkpoint-1136708/pytorch_model.bin\n"
     ]
    },
    {
     "name": "stderr",
     "output_type": "stream",
     "text": [
      "Deleting older checkpoint [saved_models/XLNetDepr-3_256_8-ALL_NA-PEL-BS1-GWS_PCC_IT192_DH_3LALPHA10_NZ20_PNTh0.05_AnnotThresh0.5/checkpoint-1111164] due to args.save_total_limit\n"
     ]
    },
    {
     "name": "stderr",
     "output_type": "stream",
     "text": [
      "***** Running Evaluation *****\n"
     ]
    },
    {
     "name": "stderr",
     "output_type": "stream",
     "text": [
      "  Num examples = 1592\n"
     ]
    },
    {
     "name": "stderr",
     "output_type": "stream",
     "text": [
      "  Batch size = 1\n"
     ]
    },
    {
     "name": "stderr",
     "output_type": "stream",
     "text": [
      "Saving model checkpoint to saved_models/XLNetDepr-3_256_8-ALL_NA-PEL-BS1-GWS_PCC_IT192_DH_3LALPHA10_NZ20_PNTh0.05_AnnotThresh0.5/checkpoint-1143094\n"
     ]
    },
    {
     "name": "stderr",
     "output_type": "stream",
     "text": [
      "Configuration saved in saved_models/XLNetDepr-3_256_8-ALL_NA-PEL-BS1-GWS_PCC_IT192_DH_3LALPHA10_NZ20_PNTh0.05_AnnotThresh0.5/checkpoint-1143094/config.json\n"
     ]
    },
    {
     "name": "stderr",
     "output_type": "stream",
     "text": [
      "Model weights saved in saved_models/XLNetDepr-3_256_8-ALL_NA-PEL-BS1-GWS_PCC_IT192_DH_3LALPHA10_NZ20_PNTh0.05_AnnotThresh0.5/checkpoint-1143094/pytorch_model.bin\n"
     ]
    },
    {
     "name": "stderr",
     "output_type": "stream",
     "text": [
      "Deleting older checkpoint [saved_models/XLNetDepr-3_256_8-ALL_NA-PEL-BS1-GWS_PCC_IT192_DH_3LALPHA10_NZ20_PNTh0.05_AnnotThresh0.5/checkpoint-1117550] due to args.save_total_limit\n"
     ]
    },
    {
     "name": "stderr",
     "output_type": "stream",
     "text": [
      "***** Running Evaluation *****\n"
     ]
    },
    {
     "name": "stderr",
     "output_type": "stream",
     "text": [
      "  Num examples = 1592\n"
     ]
    },
    {
     "name": "stderr",
     "output_type": "stream",
     "text": [
      "  Batch size = 1\n"
     ]
    },
    {
     "name": "stderr",
     "output_type": "stream",
     "text": [
      "Saving model checkpoint to saved_models/XLNetDepr-3_256_8-ALL_NA-PEL-BS1-GWS_PCC_IT192_DH_3LALPHA10_NZ20_PNTh0.05_AnnotThresh0.5/checkpoint-1149480\n"
     ]
    },
    {
     "name": "stderr",
     "output_type": "stream",
     "text": [
      "Configuration saved in saved_models/XLNetDepr-3_256_8-ALL_NA-PEL-BS1-GWS_PCC_IT192_DH_3LALPHA10_NZ20_PNTh0.05_AnnotThresh0.5/checkpoint-1149480/config.json\n"
     ]
    },
    {
     "name": "stderr",
     "output_type": "stream",
     "text": [
      "Model weights saved in saved_models/XLNetDepr-3_256_8-ALL_NA-PEL-BS1-GWS_PCC_IT192_DH_3LALPHA10_NZ20_PNTh0.05_AnnotThresh0.5/checkpoint-1149480/pytorch_model.bin\n"
     ]
    },
    {
     "name": "stderr",
     "output_type": "stream",
     "text": [
      "Deleting older checkpoint [saved_models/XLNetDepr-3_256_8-ALL_NA-PEL-BS1-GWS_PCC_IT192_DH_3LALPHA10_NZ20_PNTh0.05_AnnotThresh0.5/checkpoint-1123936] due to args.save_total_limit\n"
     ]
    },
    {
     "name": "stderr",
     "output_type": "stream",
     "text": [
      "***** Running Evaluation *****\n"
     ]
    },
    {
     "name": "stderr",
     "output_type": "stream",
     "text": [
      "  Num examples = 1592\n"
     ]
    },
    {
     "name": "stderr",
     "output_type": "stream",
     "text": [
      "  Batch size = 1\n"
     ]
    },
    {
     "name": "stderr",
     "output_type": "stream",
     "text": [
      "Saving model checkpoint to saved_models/XLNetDepr-3_256_8-ALL_NA-PEL-BS1-GWS_PCC_IT192_DH_3LALPHA10_NZ20_PNTh0.05_AnnotThresh0.5/checkpoint-1155866\n"
     ]
    },
    {
     "name": "stderr",
     "output_type": "stream",
     "text": [
      "Configuration saved in saved_models/XLNetDepr-3_256_8-ALL_NA-PEL-BS1-GWS_PCC_IT192_DH_3LALPHA10_NZ20_PNTh0.05_AnnotThresh0.5/checkpoint-1155866/config.json\n"
     ]
    },
    {
     "name": "stderr",
     "output_type": "stream",
     "text": [
      "Model weights saved in saved_models/XLNetDepr-3_256_8-ALL_NA-PEL-BS1-GWS_PCC_IT192_DH_3LALPHA10_NZ20_PNTh0.05_AnnotThresh0.5/checkpoint-1155866/pytorch_model.bin\n"
     ]
    },
    {
     "name": "stderr",
     "output_type": "stream",
     "text": [
      "Deleting older checkpoint [saved_models/XLNetDepr-3_256_8-ALL_NA-PEL-BS1-GWS_PCC_IT192_DH_3LALPHA10_NZ20_PNTh0.05_AnnotThresh0.5/checkpoint-1130322] due to args.save_total_limit\n"
     ]
    },
    {
     "name": "stderr",
     "output_type": "stream",
     "text": [
      "***** Running Evaluation *****\n"
     ]
    },
    {
     "name": "stderr",
     "output_type": "stream",
     "text": [
      "  Num examples = 1592\n"
     ]
    },
    {
     "name": "stderr",
     "output_type": "stream",
     "text": [
      "  Batch size = 1\n"
     ]
    },
    {
     "name": "stderr",
     "output_type": "stream",
     "text": [
      "Saving model checkpoint to saved_models/XLNetDepr-3_256_8-ALL_NA-PEL-BS1-GWS_PCC_IT192_DH_3LALPHA10_NZ20_PNTh0.05_AnnotThresh0.5/checkpoint-1162252\n"
     ]
    },
    {
     "name": "stderr",
     "output_type": "stream",
     "text": [
      "Configuration saved in saved_models/XLNetDepr-3_256_8-ALL_NA-PEL-BS1-GWS_PCC_IT192_DH_3LALPHA10_NZ20_PNTh0.05_AnnotThresh0.5/checkpoint-1162252/config.json\n"
     ]
    },
    {
     "name": "stderr",
     "output_type": "stream",
     "text": [
      "Model weights saved in saved_models/XLNetDepr-3_256_8-ALL_NA-PEL-BS1-GWS_PCC_IT192_DH_3LALPHA10_NZ20_PNTh0.05_AnnotThresh0.5/checkpoint-1162252/pytorch_model.bin\n"
     ]
    },
    {
     "name": "stderr",
     "output_type": "stream",
     "text": [
      "Deleting older checkpoint [saved_models/XLNetDepr-3_256_8-ALL_NA-PEL-BS1-GWS_PCC_IT192_DH_3LALPHA10_NZ20_PNTh0.05_AnnotThresh0.5/checkpoint-1136708] due to args.save_total_limit\n"
     ]
    },
    {
     "name": "stderr",
     "output_type": "stream",
     "text": [
      "***** Running Evaluation *****\n"
     ]
    },
    {
     "name": "stderr",
     "output_type": "stream",
     "text": [
      "  Num examples = 1592\n"
     ]
    },
    {
     "name": "stderr",
     "output_type": "stream",
     "text": [
      "  Batch size = 1\n"
     ]
    },
    {
     "name": "stderr",
     "output_type": "stream",
     "text": [
      "Saving model checkpoint to saved_models/XLNetDepr-3_256_8-ALL_NA-PEL-BS1-GWS_PCC_IT192_DH_3LALPHA10_NZ20_PNTh0.05_AnnotThresh0.5/checkpoint-1168638\n"
     ]
    },
    {
     "name": "stderr",
     "output_type": "stream",
     "text": [
      "Configuration saved in saved_models/XLNetDepr-3_256_8-ALL_NA-PEL-BS1-GWS_PCC_IT192_DH_3LALPHA10_NZ20_PNTh0.05_AnnotThresh0.5/checkpoint-1168638/config.json\n"
     ]
    },
    {
     "name": "stderr",
     "output_type": "stream",
     "text": [
      "Model weights saved in saved_models/XLNetDepr-3_256_8-ALL_NA-PEL-BS1-GWS_PCC_IT192_DH_3LALPHA10_NZ20_PNTh0.05_AnnotThresh0.5/checkpoint-1168638/pytorch_model.bin\n"
     ]
    },
    {
     "name": "stderr",
     "output_type": "stream",
     "text": [
      "Deleting older checkpoint [saved_models/XLNetDepr-3_256_8-ALL_NA-PEL-BS1-GWS_PCC_IT192_DH_3LALPHA10_NZ20_PNTh0.05_AnnotThresh0.5/checkpoint-1143094] due to args.save_total_limit\n"
     ]
    },
    {
     "name": "stderr",
     "output_type": "stream",
     "text": [
      "***** Running Evaluation *****\n"
     ]
    },
    {
     "name": "stderr",
     "output_type": "stream",
     "text": [
      "  Num examples = 1592\n"
     ]
    },
    {
     "name": "stderr",
     "output_type": "stream",
     "text": [
      "  Batch size = 1\n"
     ]
    },
    {
     "name": "stderr",
     "output_type": "stream",
     "text": [
      "Saving model checkpoint to saved_models/XLNetDepr-3_256_8-ALL_NA-PEL-BS1-GWS_PCC_IT192_DH_3LALPHA10_NZ20_PNTh0.05_AnnotThresh0.5/checkpoint-1175024\n"
     ]
    },
    {
     "name": "stderr",
     "output_type": "stream",
     "text": [
      "Configuration saved in saved_models/XLNetDepr-3_256_8-ALL_NA-PEL-BS1-GWS_PCC_IT192_DH_3LALPHA10_NZ20_PNTh0.05_AnnotThresh0.5/checkpoint-1175024/config.json\n"
     ]
    },
    {
     "name": "stderr",
     "output_type": "stream",
     "text": [
      "Model weights saved in saved_models/XLNetDepr-3_256_8-ALL_NA-PEL-BS1-GWS_PCC_IT192_DH_3LALPHA10_NZ20_PNTh0.05_AnnotThresh0.5/checkpoint-1175024/pytorch_model.bin\n"
     ]
    },
    {
     "name": "stderr",
     "output_type": "stream",
     "text": [
      "Deleting older checkpoint [saved_models/XLNetDepr-3_256_8-ALL_NA-PEL-BS1-GWS_PCC_IT192_DH_3LALPHA10_NZ20_PNTh0.05_AnnotThresh0.5/checkpoint-1149480] due to args.save_total_limit\n"
     ]
    },
    {
     "name": "stderr",
     "output_type": "stream",
     "text": [
      "***** Running Evaluation *****\n"
     ]
    },
    {
     "name": "stderr",
     "output_type": "stream",
     "text": [
      "  Num examples = 1592\n"
     ]
    },
    {
     "name": "stderr",
     "output_type": "stream",
     "text": [
      "  Batch size = 1\n"
     ]
    },
    {
     "name": "stderr",
     "output_type": "stream",
     "text": [
      "Saving model checkpoint to saved_models/XLNetDepr-3_256_8-ALL_NA-PEL-BS1-GWS_PCC_IT192_DH_3LALPHA10_NZ20_PNTh0.05_AnnotThresh0.5/checkpoint-1181410\n"
     ]
    },
    {
     "name": "stderr",
     "output_type": "stream",
     "text": [
      "Configuration saved in saved_models/XLNetDepr-3_256_8-ALL_NA-PEL-BS1-GWS_PCC_IT192_DH_3LALPHA10_NZ20_PNTh0.05_AnnotThresh0.5/checkpoint-1181410/config.json\n"
     ]
    },
    {
     "name": "stderr",
     "output_type": "stream",
     "text": [
      "Model weights saved in saved_models/XLNetDepr-3_256_8-ALL_NA-PEL-BS1-GWS_PCC_IT192_DH_3LALPHA10_NZ20_PNTh0.05_AnnotThresh0.5/checkpoint-1181410/pytorch_model.bin\n"
     ]
    },
    {
     "name": "stderr",
     "output_type": "stream",
     "text": [
      "Deleting older checkpoint [saved_models/XLNetDepr-3_256_8-ALL_NA-PEL-BS1-GWS_PCC_IT192_DH_3LALPHA10_NZ20_PNTh0.05_AnnotThresh0.5/checkpoint-1155866] due to args.save_total_limit\n"
     ]
    },
    {
     "name": "stderr",
     "output_type": "stream",
     "text": [
      "***** Running Evaluation *****\n"
     ]
    },
    {
     "name": "stderr",
     "output_type": "stream",
     "text": [
      "  Num examples = 1592\n"
     ]
    },
    {
     "name": "stderr",
     "output_type": "stream",
     "text": [
      "  Batch size = 1\n"
     ]
    },
    {
     "name": "stderr",
     "output_type": "stream",
     "text": [
      "Saving model checkpoint to saved_models/XLNetDepr-3_256_8-ALL_NA-PEL-BS1-GWS_PCC_IT192_DH_3LALPHA10_NZ20_PNTh0.05_AnnotThresh0.5/checkpoint-1187796\n"
     ]
    },
    {
     "name": "stderr",
     "output_type": "stream",
     "text": [
      "Configuration saved in saved_models/XLNetDepr-3_256_8-ALL_NA-PEL-BS1-GWS_PCC_IT192_DH_3LALPHA10_NZ20_PNTh0.05_AnnotThresh0.5/checkpoint-1187796/config.json\n"
     ]
    },
    {
     "name": "stderr",
     "output_type": "stream",
     "text": [
      "Model weights saved in saved_models/XLNetDepr-3_256_8-ALL_NA-PEL-BS1-GWS_PCC_IT192_DH_3LALPHA10_NZ20_PNTh0.05_AnnotThresh0.5/checkpoint-1187796/pytorch_model.bin\n"
     ]
    },
    {
     "name": "stderr",
     "output_type": "stream",
     "text": [
      "Deleting older checkpoint [saved_models/XLNetDepr-3_256_8-ALL_NA-PEL-BS1-GWS_PCC_IT192_DH_3LALPHA10_NZ20_PNTh0.05_AnnotThresh0.5/checkpoint-1162252] due to args.save_total_limit\n"
     ]
    },
    {
     "name": "stderr",
     "output_type": "stream",
     "text": [
      "***** Running Evaluation *****\n"
     ]
    },
    {
     "name": "stderr",
     "output_type": "stream",
     "text": [
      "  Num examples = 1592\n"
     ]
    },
    {
     "name": "stderr",
     "output_type": "stream",
     "text": [
      "  Batch size = 1\n"
     ]
    },
    {
     "name": "stderr",
     "output_type": "stream",
     "text": [
      "Saving model checkpoint to saved_models/XLNetDepr-3_256_8-ALL_NA-PEL-BS1-GWS_PCC_IT192_DH_3LALPHA10_NZ20_PNTh0.05_AnnotThresh0.5/checkpoint-1194182\n"
     ]
    },
    {
     "name": "stderr",
     "output_type": "stream",
     "text": [
      "Configuration saved in saved_models/XLNetDepr-3_256_8-ALL_NA-PEL-BS1-GWS_PCC_IT192_DH_3LALPHA10_NZ20_PNTh0.05_AnnotThresh0.5/checkpoint-1194182/config.json\n"
     ]
    },
    {
     "name": "stderr",
     "output_type": "stream",
     "text": [
      "Model weights saved in saved_models/XLNetDepr-3_256_8-ALL_NA-PEL-BS1-GWS_PCC_IT192_DH_3LALPHA10_NZ20_PNTh0.05_AnnotThresh0.5/checkpoint-1194182/pytorch_model.bin\n"
     ]
    },
    {
     "name": "stderr",
     "output_type": "stream",
     "text": [
      "Deleting older checkpoint [saved_models/XLNetDepr-3_256_8-ALL_NA-PEL-BS1-GWS_PCC_IT192_DH_3LALPHA10_NZ20_PNTh0.05_AnnotThresh0.5/checkpoint-1168638] due to args.save_total_limit\n"
     ]
    },
    {
     "name": "stderr",
     "output_type": "stream",
     "text": [
      "***** Running Evaluation *****\n"
     ]
    },
    {
     "name": "stderr",
     "output_type": "stream",
     "text": [
      "  Num examples = 1592\n"
     ]
    },
    {
     "name": "stderr",
     "output_type": "stream",
     "text": [
      "  Batch size = 1\n"
     ]
    },
    {
     "name": "stderr",
     "output_type": "stream",
     "text": [
      "Saving model checkpoint to saved_models/XLNetDepr-3_256_8-ALL_NA-PEL-BS1-GWS_PCC_IT192_DH_3LALPHA10_NZ20_PNTh0.05_AnnotThresh0.5/checkpoint-1200568\n"
     ]
    },
    {
     "name": "stderr",
     "output_type": "stream",
     "text": [
      "Configuration saved in saved_models/XLNetDepr-3_256_8-ALL_NA-PEL-BS1-GWS_PCC_IT192_DH_3LALPHA10_NZ20_PNTh0.05_AnnotThresh0.5/checkpoint-1200568/config.json\n"
     ]
    },
    {
     "name": "stderr",
     "output_type": "stream",
     "text": [
      "Model weights saved in saved_models/XLNetDepr-3_256_8-ALL_NA-PEL-BS1-GWS_PCC_IT192_DH_3LALPHA10_NZ20_PNTh0.05_AnnotThresh0.5/checkpoint-1200568/pytorch_model.bin\n"
     ]
    },
    {
     "name": "stderr",
     "output_type": "stream",
     "text": [
      "Deleting older checkpoint [saved_models/XLNetDepr-3_256_8-ALL_NA-PEL-BS1-GWS_PCC_IT192_DH_3LALPHA10_NZ20_PNTh0.05_AnnotThresh0.5/checkpoint-1175024] due to args.save_total_limit\n"
     ]
    },
    {
     "name": "stderr",
     "output_type": "stream",
     "text": [
      "***** Running Evaluation *****\n"
     ]
    },
    {
     "name": "stderr",
     "output_type": "stream",
     "text": [
      "  Num examples = 1592\n"
     ]
    },
    {
     "name": "stderr",
     "output_type": "stream",
     "text": [
      "  Batch size = 1\n"
     ]
    },
    {
     "name": "stderr",
     "output_type": "stream",
     "text": [
      "Saving model checkpoint to saved_models/XLNetDepr-3_256_8-ALL_NA-PEL-BS1-GWS_PCC_IT192_DH_3LALPHA10_NZ20_PNTh0.05_AnnotThresh0.5/checkpoint-1206954\n"
     ]
    },
    {
     "name": "stderr",
     "output_type": "stream",
     "text": [
      "Configuration saved in saved_models/XLNetDepr-3_256_8-ALL_NA-PEL-BS1-GWS_PCC_IT192_DH_3LALPHA10_NZ20_PNTh0.05_AnnotThresh0.5/checkpoint-1206954/config.json\n"
     ]
    },
    {
     "name": "stderr",
     "output_type": "stream",
     "text": [
      "Model weights saved in saved_models/XLNetDepr-3_256_8-ALL_NA-PEL-BS1-GWS_PCC_IT192_DH_3LALPHA10_NZ20_PNTh0.05_AnnotThresh0.5/checkpoint-1206954/pytorch_model.bin\n"
     ]
    },
    {
     "name": "stderr",
     "output_type": "stream",
     "text": [
      "Deleting older checkpoint [saved_models/XLNetDepr-3_256_8-ALL_NA-PEL-BS1-GWS_PCC_IT192_DH_3LALPHA10_NZ20_PNTh0.05_AnnotThresh0.5/checkpoint-1181410] due to args.save_total_limit\n"
     ]
    },
    {
     "name": "stderr",
     "output_type": "stream",
     "text": [
      "***** Running Evaluation *****\n"
     ]
    },
    {
     "name": "stderr",
     "output_type": "stream",
     "text": [
      "  Num examples = 1592\n"
     ]
    },
    {
     "name": "stderr",
     "output_type": "stream",
     "text": [
      "  Batch size = 1\n"
     ]
    },
    {
     "name": "stderr",
     "output_type": "stream",
     "text": [
      "Saving model checkpoint to saved_models/XLNetDepr-3_256_8-ALL_NA-PEL-BS1-GWS_PCC_IT192_DH_3LALPHA10_NZ20_PNTh0.05_AnnotThresh0.5/checkpoint-1213340\n"
     ]
    },
    {
     "name": "stderr",
     "output_type": "stream",
     "text": [
      "Configuration saved in saved_models/XLNetDepr-3_256_8-ALL_NA-PEL-BS1-GWS_PCC_IT192_DH_3LALPHA10_NZ20_PNTh0.05_AnnotThresh0.5/checkpoint-1213340/config.json\n"
     ]
    },
    {
     "name": "stderr",
     "output_type": "stream",
     "text": [
      "Model weights saved in saved_models/XLNetDepr-3_256_8-ALL_NA-PEL-BS1-GWS_PCC_IT192_DH_3LALPHA10_NZ20_PNTh0.05_AnnotThresh0.5/checkpoint-1213340/pytorch_model.bin\n"
     ]
    },
    {
     "name": "stderr",
     "output_type": "stream",
     "text": [
      "Deleting older checkpoint [saved_models/XLNetDepr-3_256_8-ALL_NA-PEL-BS1-GWS_PCC_IT192_DH_3LALPHA10_NZ20_PNTh0.05_AnnotThresh0.5/checkpoint-1187796] due to args.save_total_limit\n"
     ]
    },
    {
     "name": "stderr",
     "output_type": "stream",
     "text": [
      "***** Running Evaluation *****\n"
     ]
    },
    {
     "name": "stderr",
     "output_type": "stream",
     "text": [
      "  Num examples = 1592\n"
     ]
    },
    {
     "name": "stderr",
     "output_type": "stream",
     "text": [
      "  Batch size = 1\n"
     ]
    },
    {
     "name": "stderr",
     "output_type": "stream",
     "text": [
      "Saving model checkpoint to saved_models/XLNetDepr-3_256_8-ALL_NA-PEL-BS1-GWS_PCC_IT192_DH_3LALPHA10_NZ20_PNTh0.05_AnnotThresh0.5/checkpoint-1219726\n"
     ]
    },
    {
     "name": "stderr",
     "output_type": "stream",
     "text": [
      "Configuration saved in saved_models/XLNetDepr-3_256_8-ALL_NA-PEL-BS1-GWS_PCC_IT192_DH_3LALPHA10_NZ20_PNTh0.05_AnnotThresh0.5/checkpoint-1219726/config.json\n"
     ]
    },
    {
     "name": "stderr",
     "output_type": "stream",
     "text": [
      "Model weights saved in saved_models/XLNetDepr-3_256_8-ALL_NA-PEL-BS1-GWS_PCC_IT192_DH_3LALPHA10_NZ20_PNTh0.05_AnnotThresh0.5/checkpoint-1219726/pytorch_model.bin\n"
     ]
    },
    {
     "name": "stderr",
     "output_type": "stream",
     "text": [
      "Deleting older checkpoint [saved_models/XLNetDepr-3_256_8-ALL_NA-PEL-BS1-GWS_PCC_IT192_DH_3LALPHA10_NZ20_PNTh0.05_AnnotThresh0.5/checkpoint-1194182] due to args.save_total_limit\n"
     ]
    },
    {
     "name": "stderr",
     "output_type": "stream",
     "text": [
      "***** Running Evaluation *****\n"
     ]
    },
    {
     "name": "stderr",
     "output_type": "stream",
     "text": [
      "  Num examples = 1592\n"
     ]
    },
    {
     "name": "stderr",
     "output_type": "stream",
     "text": [
      "  Batch size = 1\n"
     ]
    },
    {
     "name": "stderr",
     "output_type": "stream",
     "text": [
      "Saving model checkpoint to saved_models/XLNetDepr-3_256_8-ALL_NA-PEL-BS1-GWS_PCC_IT192_DH_3LALPHA10_NZ20_PNTh0.05_AnnotThresh0.5/checkpoint-1226112\n"
     ]
    },
    {
     "name": "stderr",
     "output_type": "stream",
     "text": [
      "Configuration saved in saved_models/XLNetDepr-3_256_8-ALL_NA-PEL-BS1-GWS_PCC_IT192_DH_3LALPHA10_NZ20_PNTh0.05_AnnotThresh0.5/checkpoint-1226112/config.json\n"
     ]
    },
    {
     "name": "stderr",
     "output_type": "stream",
     "text": [
      "Model weights saved in saved_models/XLNetDepr-3_256_8-ALL_NA-PEL-BS1-GWS_PCC_IT192_DH_3LALPHA10_NZ20_PNTh0.05_AnnotThresh0.5/checkpoint-1226112/pytorch_model.bin\n"
     ]
    },
    {
     "name": "stderr",
     "output_type": "stream",
     "text": [
      "Deleting older checkpoint [saved_models/XLNetDepr-3_256_8-ALL_NA-PEL-BS1-GWS_PCC_IT192_DH_3LALPHA10_NZ20_PNTh0.05_AnnotThresh0.5/checkpoint-561968] due to args.save_total_limit\n"
     ]
    },
    {
     "name": "stderr",
     "output_type": "stream",
     "text": [
      "***** Running Evaluation *****\n"
     ]
    },
    {
     "name": "stderr",
     "output_type": "stream",
     "text": [
      "  Num examples = 1592\n"
     ]
    },
    {
     "name": "stderr",
     "output_type": "stream",
     "text": [
      "  Batch size = 1\n"
     ]
    },
    {
     "name": "stderr",
     "output_type": "stream",
     "text": [
      "Saving model checkpoint to saved_models/XLNetDepr-3_256_8-ALL_NA-PEL-BS1-GWS_PCC_IT192_DH_3LALPHA10_NZ20_PNTh0.05_AnnotThresh0.5/checkpoint-1232498\n"
     ]
    },
    {
     "name": "stderr",
     "output_type": "stream",
     "text": [
      "Configuration saved in saved_models/XLNetDepr-3_256_8-ALL_NA-PEL-BS1-GWS_PCC_IT192_DH_3LALPHA10_NZ20_PNTh0.05_AnnotThresh0.5/checkpoint-1232498/config.json\n"
     ]
    },
    {
     "name": "stderr",
     "output_type": "stream",
     "text": [
      "Model weights saved in saved_models/XLNetDepr-3_256_8-ALL_NA-PEL-BS1-GWS_PCC_IT192_DH_3LALPHA10_NZ20_PNTh0.05_AnnotThresh0.5/checkpoint-1232498/pytorch_model.bin\n"
     ]
    },
    {
     "name": "stderr",
     "output_type": "stream",
     "text": [
      "Deleting older checkpoint [saved_models/XLNetDepr-3_256_8-ALL_NA-PEL-BS1-GWS_PCC_IT192_DH_3LALPHA10_NZ20_PNTh0.05_AnnotThresh0.5/checkpoint-1200568] due to args.save_total_limit\n"
     ]
    },
    {
     "name": "stderr",
     "output_type": "stream",
     "text": [
      "***** Running Evaluation *****\n"
     ]
    },
    {
     "name": "stderr",
     "output_type": "stream",
     "text": [
      "  Num examples = 1592\n"
     ]
    },
    {
     "name": "stderr",
     "output_type": "stream",
     "text": [
      "  Batch size = 1\n"
     ]
    },
    {
     "name": "stderr",
     "output_type": "stream",
     "text": [
      "Saving model checkpoint to saved_models/XLNetDepr-3_256_8-ALL_NA-PEL-BS1-GWS_PCC_IT192_DH_3LALPHA10_NZ20_PNTh0.05_AnnotThresh0.5/checkpoint-1238884\n"
     ]
    },
    {
     "name": "stderr",
     "output_type": "stream",
     "text": [
      "Configuration saved in saved_models/XLNetDepr-3_256_8-ALL_NA-PEL-BS1-GWS_PCC_IT192_DH_3LALPHA10_NZ20_PNTh0.05_AnnotThresh0.5/checkpoint-1238884/config.json\n"
     ]
    },
    {
     "name": "stderr",
     "output_type": "stream",
     "text": [
      "Model weights saved in saved_models/XLNetDepr-3_256_8-ALL_NA-PEL-BS1-GWS_PCC_IT192_DH_3LALPHA10_NZ20_PNTh0.05_AnnotThresh0.5/checkpoint-1238884/pytorch_model.bin\n"
     ]
    },
    {
     "name": "stderr",
     "output_type": "stream",
     "text": [
      "Deleting older checkpoint [saved_models/XLNetDepr-3_256_8-ALL_NA-PEL-BS1-GWS_PCC_IT192_DH_3LALPHA10_NZ20_PNTh0.05_AnnotThresh0.5/checkpoint-1206954] due to args.save_total_limit\n"
     ]
    },
    {
     "name": "stderr",
     "output_type": "stream",
     "text": [
      "***** Running Evaluation *****\n"
     ]
    },
    {
     "name": "stderr",
     "output_type": "stream",
     "text": [
      "  Num examples = 1592\n"
     ]
    },
    {
     "name": "stderr",
     "output_type": "stream",
     "text": [
      "  Batch size = 1\n"
     ]
    },
    {
     "name": "stderr",
     "output_type": "stream",
     "text": [
      "Saving model checkpoint to saved_models/XLNetDepr-3_256_8-ALL_NA-PEL-BS1-GWS_PCC_IT192_DH_3LALPHA10_NZ20_PNTh0.05_AnnotThresh0.5/checkpoint-1245270\n"
     ]
    },
    {
     "name": "stderr",
     "output_type": "stream",
     "text": [
      "Configuration saved in saved_models/XLNetDepr-3_256_8-ALL_NA-PEL-BS1-GWS_PCC_IT192_DH_3LALPHA10_NZ20_PNTh0.05_AnnotThresh0.5/checkpoint-1245270/config.json\n"
     ]
    },
    {
     "name": "stderr",
     "output_type": "stream",
     "text": [
      "Model weights saved in saved_models/XLNetDepr-3_256_8-ALL_NA-PEL-BS1-GWS_PCC_IT192_DH_3LALPHA10_NZ20_PNTh0.05_AnnotThresh0.5/checkpoint-1245270/pytorch_model.bin\n"
     ]
    },
    {
     "name": "stderr",
     "output_type": "stream",
     "text": [
      "Deleting older checkpoint [saved_models/XLNetDepr-3_256_8-ALL_NA-PEL-BS1-GWS_PCC_IT192_DH_3LALPHA10_NZ20_PNTh0.05_AnnotThresh0.5/checkpoint-1213340] due to args.save_total_limit\n"
     ]
    },
    {
     "name": "stderr",
     "output_type": "stream",
     "text": [
      "***** Running Evaluation *****\n"
     ]
    },
    {
     "name": "stderr",
     "output_type": "stream",
     "text": [
      "  Num examples = 1592\n"
     ]
    },
    {
     "name": "stderr",
     "output_type": "stream",
     "text": [
      "  Batch size = 1\n"
     ]
    },
    {
     "name": "stderr",
     "output_type": "stream",
     "text": [
      "Saving model checkpoint to saved_models/XLNetDepr-3_256_8-ALL_NA-PEL-BS1-GWS_PCC_IT192_DH_3LALPHA10_NZ20_PNTh0.05_AnnotThresh0.5/checkpoint-1251656\n"
     ]
    },
    {
     "name": "stderr",
     "output_type": "stream",
     "text": [
      "Configuration saved in saved_models/XLNetDepr-3_256_8-ALL_NA-PEL-BS1-GWS_PCC_IT192_DH_3LALPHA10_NZ20_PNTh0.05_AnnotThresh0.5/checkpoint-1251656/config.json\n"
     ]
    },
    {
     "name": "stderr",
     "output_type": "stream",
     "text": [
      "Model weights saved in saved_models/XLNetDepr-3_256_8-ALL_NA-PEL-BS1-GWS_PCC_IT192_DH_3LALPHA10_NZ20_PNTh0.05_AnnotThresh0.5/checkpoint-1251656/pytorch_model.bin\n"
     ]
    },
    {
     "name": "stderr",
     "output_type": "stream",
     "text": [
      "Deleting older checkpoint [saved_models/XLNetDepr-3_256_8-ALL_NA-PEL-BS1-GWS_PCC_IT192_DH_3LALPHA10_NZ20_PNTh0.05_AnnotThresh0.5/checkpoint-1219726] due to args.save_total_limit\n"
     ]
    },
    {
     "name": "stderr",
     "output_type": "stream",
     "text": [
      "***** Running Evaluation *****\n"
     ]
    },
    {
     "name": "stderr",
     "output_type": "stream",
     "text": [
      "  Num examples = 1592\n"
     ]
    },
    {
     "name": "stderr",
     "output_type": "stream",
     "text": [
      "  Batch size = 1\n"
     ]
    },
    {
     "name": "stderr",
     "output_type": "stream",
     "text": [
      "Saving model checkpoint to saved_models/XLNetDepr-3_256_8-ALL_NA-PEL-BS1-GWS_PCC_IT192_DH_3LALPHA10_NZ20_PNTh0.05_AnnotThresh0.5/checkpoint-1258042\n"
     ]
    },
    {
     "name": "stderr",
     "output_type": "stream",
     "text": [
      "Configuration saved in saved_models/XLNetDepr-3_256_8-ALL_NA-PEL-BS1-GWS_PCC_IT192_DH_3LALPHA10_NZ20_PNTh0.05_AnnotThresh0.5/checkpoint-1258042/config.json\n"
     ]
    },
    {
     "name": "stderr",
     "output_type": "stream",
     "text": [
      "Model weights saved in saved_models/XLNetDepr-3_256_8-ALL_NA-PEL-BS1-GWS_PCC_IT192_DH_3LALPHA10_NZ20_PNTh0.05_AnnotThresh0.5/checkpoint-1258042/pytorch_model.bin\n"
     ]
    },
    {
     "name": "stderr",
     "output_type": "stream",
     "text": [
      "Deleting older checkpoint [saved_models/XLNetDepr-3_256_8-ALL_NA-PEL-BS1-GWS_PCC_IT192_DH_3LALPHA10_NZ20_PNTh0.05_AnnotThresh0.5/checkpoint-1232498] due to args.save_total_limit\n"
     ]
    },
    {
     "name": "stderr",
     "output_type": "stream",
     "text": [
      "***** Running Evaluation *****\n"
     ]
    },
    {
     "name": "stderr",
     "output_type": "stream",
     "text": [
      "  Num examples = 1592\n"
     ]
    },
    {
     "name": "stderr",
     "output_type": "stream",
     "text": [
      "  Batch size = 1\n"
     ]
    },
    {
     "name": "stderr",
     "output_type": "stream",
     "text": [
      "Saving model checkpoint to saved_models/XLNetDepr-3_256_8-ALL_NA-PEL-BS1-GWS_PCC_IT192_DH_3LALPHA10_NZ20_PNTh0.05_AnnotThresh0.5/checkpoint-1264428\n"
     ]
    },
    {
     "name": "stderr",
     "output_type": "stream",
     "text": [
      "Configuration saved in saved_models/XLNetDepr-3_256_8-ALL_NA-PEL-BS1-GWS_PCC_IT192_DH_3LALPHA10_NZ20_PNTh0.05_AnnotThresh0.5/checkpoint-1264428/config.json\n"
     ]
    },
    {
     "name": "stderr",
     "output_type": "stream",
     "text": [
      "Model weights saved in saved_models/XLNetDepr-3_256_8-ALL_NA-PEL-BS1-GWS_PCC_IT192_DH_3LALPHA10_NZ20_PNTh0.05_AnnotThresh0.5/checkpoint-1264428/pytorch_model.bin\n"
     ]
    },
    {
     "name": "stderr",
     "output_type": "stream",
     "text": [
      "Deleting older checkpoint [saved_models/XLNetDepr-3_256_8-ALL_NA-PEL-BS1-GWS_PCC_IT192_DH_3LALPHA10_NZ20_PNTh0.05_AnnotThresh0.5/checkpoint-1238884] due to args.save_total_limit\n"
     ]
    },
    {
     "name": "stderr",
     "output_type": "stream",
     "text": [
      "***** Running Evaluation *****\n"
     ]
    },
    {
     "name": "stderr",
     "output_type": "stream",
     "text": [
      "  Num examples = 1592\n"
     ]
    },
    {
     "name": "stderr",
     "output_type": "stream",
     "text": [
      "  Batch size = 1\n"
     ]
    },
    {
     "name": "stderr",
     "output_type": "stream",
     "text": [
      "Saving model checkpoint to saved_models/XLNetDepr-3_256_8-ALL_NA-PEL-BS1-GWS_PCC_IT192_DH_3LALPHA10_NZ20_PNTh0.05_AnnotThresh0.5/checkpoint-1270814\n"
     ]
    },
    {
     "name": "stderr",
     "output_type": "stream",
     "text": [
      "Configuration saved in saved_models/XLNetDepr-3_256_8-ALL_NA-PEL-BS1-GWS_PCC_IT192_DH_3LALPHA10_NZ20_PNTh0.05_AnnotThresh0.5/checkpoint-1270814/config.json\n"
     ]
    },
    {
     "name": "stderr",
     "output_type": "stream",
     "text": [
      "Model weights saved in saved_models/XLNetDepr-3_256_8-ALL_NA-PEL-BS1-GWS_PCC_IT192_DH_3LALPHA10_NZ20_PNTh0.05_AnnotThresh0.5/checkpoint-1270814/pytorch_model.bin\n"
     ]
    },
    {
     "name": "stderr",
     "output_type": "stream",
     "text": [
      "Deleting older checkpoint [saved_models/XLNetDepr-3_256_8-ALL_NA-PEL-BS1-GWS_PCC_IT192_DH_3LALPHA10_NZ20_PNTh0.05_AnnotThresh0.5/checkpoint-1245270] due to args.save_total_limit\n"
     ]
    },
    {
     "name": "stderr",
     "output_type": "stream",
     "text": [
      "***** Running Evaluation *****\n"
     ]
    },
    {
     "name": "stderr",
     "output_type": "stream",
     "text": [
      "  Num examples = 1592\n"
     ]
    },
    {
     "name": "stderr",
     "output_type": "stream",
     "text": [
      "  Batch size = 1\n"
     ]
    },
    {
     "name": "stderr",
     "output_type": "stream",
     "text": [
      "Saving model checkpoint to saved_models/XLNetDepr-3_256_8-ALL_NA-PEL-BS1-GWS_PCC_IT192_DH_3LALPHA10_NZ20_PNTh0.05_AnnotThresh0.5/checkpoint-1277200\n"
     ]
    },
    {
     "name": "stderr",
     "output_type": "stream",
     "text": [
      "Configuration saved in saved_models/XLNetDepr-3_256_8-ALL_NA-PEL-BS1-GWS_PCC_IT192_DH_3LALPHA10_NZ20_PNTh0.05_AnnotThresh0.5/checkpoint-1277200/config.json\n"
     ]
    },
    {
     "name": "stderr",
     "output_type": "stream",
     "text": [
      "Model weights saved in saved_models/XLNetDepr-3_256_8-ALL_NA-PEL-BS1-GWS_PCC_IT192_DH_3LALPHA10_NZ20_PNTh0.05_AnnotThresh0.5/checkpoint-1277200/pytorch_model.bin\n"
     ]
    },
    {
     "name": "stderr",
     "output_type": "stream",
     "text": [
      "Deleting older checkpoint [saved_models/XLNetDepr-3_256_8-ALL_NA-PEL-BS1-GWS_PCC_IT192_DH_3LALPHA10_NZ20_PNTh0.05_AnnotThresh0.5/checkpoint-1251656] due to args.save_total_limit\n"
     ]
    },
    {
     "name": "stderr",
     "output_type": "stream",
     "text": [
      "\n",
      "\n",
      "Training completed. Do not forget to share your model on huggingface.co/models =)\n",
      "\n",
      "\n"
     ]
    },
    {
     "name": "stderr",
     "output_type": "stream",
     "text": [
      "Loading best model from saved_models/XLNetDepr-3_256_8-ALL_NA-PEL-BS1-GWS_PCC_IT192_DH_3LALPHA10_NZ20_PNTh0.05_AnnotThresh0.5/checkpoint-1226112 (score: 3.396929979324341).\n"
     ]
    },
    {
     "name": "stderr",
     "output_type": "stream",
     "text": [
      "Saving model checkpoint to saved_models/XLNetDepr-3_256_8-ALL_NA-PEL-BS1-GWS_PCC_IT192_DH_3LALPHA10_NZ20_PNTh0.05_AnnotThresh0.5/best_model\n"
     ]
    },
    {
     "name": "stderr",
     "output_type": "stream",
     "text": [
      "Configuration saved in saved_models/XLNetDepr-3_256_8-ALL_NA-PEL-BS1-GWS_PCC_IT192_DH_3LALPHA10_NZ20_PNTh0.05_AnnotThresh0.5/best_model/config.json\n"
     ]
    },
    {
     "name": "stderr",
     "output_type": "stream",
     "text": [
      "Model weights saved in saved_models/XLNetDepr-3_256_8-ALL_NA-PEL-BS1-GWS_PCC_IT192_DH_3LALPHA10_NZ20_PNTh0.05_AnnotThresh0.5/best_model/pytorch_model.bin\n"
     ]
    }
   ],
   "source": [
    "# train model\n",
    "trainer.train()\n",
    "\n",
    "# save best model\n",
    "trainer.save_model(output_loc + \"/best_model\")"
   ]
  },
  {
   "cell_type": "code",
   "execution_count": 7,
   "id": "b8cbc460",
   "metadata": {
    "execution": {
     "iopub.execute_input": "2023-11-09T07:07:12.971862Z",
     "iopub.status.busy": "2023-11-09T07:07:12.971128Z",
     "iopub.status.idle": "2023-11-09T07:07:42.673368Z",
     "shell.execute_reply": "2023-11-09T07:07:42.671209Z"
    },
    "papermill": {
     "duration": 29.806967,
     "end_time": "2023-11-09T07:07:42.675481",
     "exception": false,
     "start_time": "2023-11-09T07:07:12.868514",
     "status": "completed"
    },
    "tags": []
   },
   "outputs": [
    {
     "name": "stderr",
     "output_type": "stream",
     "text": [
      "***** Running Evaluation *****\n"
     ]
    },
    {
     "name": "stderr",
     "output_type": "stream",
     "text": [
      "  Num examples = 1592\n"
     ]
    },
    {
     "name": "stderr",
     "output_type": "stream",
     "text": [
      "  Batch size = 1\n"
     ]
    },
    {
     "data": {
      "text/html": [
       "\n",
       "    <div>\n",
       "      \n",
       "      <progress value='1592' max='1592' style='width:300px; height:20px; vertical-align: middle;'></progress>\n",
       "      [1592/1592 00:28]\n",
       "    </div>\n",
       "    "
      ],
      "text/plain": [
       "<IPython.core.display.HTML object>"
      ]
     },
     "metadata": {},
     "output_type": "display_data"
    },
    {
     "data": {
      "text/plain": [
       "{'eval_loss': 3.396929979324341,\n",
       " 'eval_r': 0.6079115271568298,\n",
       " 'eval_runtime': 29.6427,\n",
       " 'eval_samples_per_second': 53.706,\n",
       " 'eval_steps_per_second': 53.706,\n",
       " 'epoch': 200.0}"
      ]
     },
     "execution_count": 7,
     "metadata": {},
     "output_type": "execute_result"
    }
   ],
   "source": [
    "# evaluate model\n",
    "trainer.evaluate()"
   ]
  }
 ],
 "metadata": {
  "kernelspec": {
   "display_name": "Python 3.9.17 ('tf')",
   "language": "python",
   "name": "python3"
  },
  "language_info": {
   "codemirror_mode": {
    "name": "ipython",
    "version": 3
   },
   "file_extension": ".py",
   "mimetype": "text/x-python",
   "name": "python",
   "nbconvert_exporter": "python",
   "pygments_lexer": "ipython3",
   "version": "3.9.17"
  },
  "papermill": {
   "default_parameters": {},
   "duration": 61069.324143,
   "end_time": "2023-11-09T07:07:45.682763",
   "environment_variables": {},
   "exception": null,
   "input_path": "model_dh.ipynb",
   "output_path": "output_3l_alpha10.ipynb",
   "parameters": {},
   "start_time": "2023-11-08T14:09:56.358620",
   "version": "2.5.0"
  },
  "vscode": {
   "interpreter": {
    "hash": "4d8cddb8cf669a224cfe7de41be728b42e6d1e4d2fa8033c260d761c14134291"
   }
  }
 },
 "nbformat": 4,
 "nbformat_minor": 5
}
