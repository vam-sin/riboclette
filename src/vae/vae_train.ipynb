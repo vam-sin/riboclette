{
 "cells": [
  {
   "cell_type": "code",
   "execution_count": null,
   "metadata": {},
   "outputs": [],
   "source": [
    "# libraries\n",
    "import numpy as np\n",
    "import pandas as pd \n",
    "import torch\n",
    "import random\n",
    "import lightning as L\n",
    "from utils import GWSDatasetFromPandasVAE, RiboDatasetGWS, train_vae\n",
    "from pytorch_lightning.loggers import WandbLogger"
   ]
  },
  {
   "cell_type": "code",
   "execution_count": null,
   "metadata": {},
   "outputs": [],
   "source": [
    "# model parameters\n",
    "# annot_thresh = 0.0\n",
    "# longZerosThresh_val = 1e+10\n",
    "# percNansThresh_val = 1.0\n",
    "# dataset_split = '6h' # either 'ALL' / 'GOOD' / '6h'\n",
    "# latent_dims = 512\n",
    "# batch_size_val = 128\n",
    "\n",
    "# annot_thresh = 0.5\n",
    "# longZerosThresh_val = 20\n",
    "# percNansThresh_val = 0.05\n",
    "# dataset_split = '6h' # either 'ALL' / 'GOOD' / '6h'\n",
    "# latent_dims = 512\n",
    "# batch_size_val = 256\n",
    "\n",
    "annot_thresh = 0.3\n",
    "longZerosThresh_val = 20\n",
    "percNansThresh_val = 0.05\n",
    "dataset_split = '6h' # either 'ALL' / 'GOOD' / '6h'\n",
    "latent_dims = 32\n",
    "batch_size_val = 8\n",
    "hidden_dims = 128\n",
    "num_layers = 1\n",
    "bidirectional = True\n",
    "lr = 1e-4\n",
    "total_epochs = 100"
   ]
  },
  {
   "cell_type": "code",
   "execution_count": null,
   "metadata": {},
   "outputs": [],
   "source": [
    "# reproducibility\n",
    "random.seed(42)\n",
    "np.random.seed(42)\n",
    "torch.manual_seed(42)\n",
    "L.seed_everything(42)\n",
    "\n",
    "# dataset paths \n",
    "if dataset_split == 'ALL':\n",
    "    data_folder = '/net/lts2gdk0/mnt/scratch/lts2/nallapar/rb-prof/data/Darnell_Full/Darnell/data_conds_split/processed/'\n",
    "elif dataset_split == 'GOOD':\n",
    "    data_folder = '/net/lts2gdk0/mnt/scratch/lts2/nallapar/rb-prof/data/Darnell_Full/Darnell/data_conds_split_good/processed/'\n",
    "elif dataset_split == '6h':\n",
    "    data_folder = '/net/lts2gdk0/mnt/scratch/lts2/nallapar/rb-prof/data/Darnell_Full/Darnell/data_conds_split_6h/processed/'\n",
    "\n",
    "# model name and output folder path\n",
    "model_name = 'VAE-' + dataset_split + '-LD-' + str(latent_dims) + '-BS-' + str(batch_size_val) + '-AT-' + str(annot_thresh) + '-LZT-' + str(longZerosThresh_val) + '-PNT-' + str(percNansThresh_val) + '-HD-' + str(hidden_dims) + '-NL-' + str(num_layers)\n",
    "output_loc = \"saved_models/\" + model_name\n",
    "\n",
    "# start a new wandb run to track this script\n",
    "wandb_logger = WandbLogger(log_model=\"all\", project=\"vae\", name=model_name)\n",
    "\n",
    "# generate dataset\n",
    "ds = 'ALL' # uses all the three conditions\n",
    "train_dataset, test_dataset = RiboDatasetGWS(data_folder, dataset_split, ds, threshold = annot_thresh, longZerosThresh = longZerosThresh_val, percNansThresh = percNansThresh_val)\n",
    "\n",
    "# convert pandas dataframes into torch datasets\n",
    "train_dataset = GWSDatasetFromPandasVAE(train_dataset)\n",
    "test_dataset = GWSDatasetFromPandasVAE(test_dataset)\n",
    "print(\"samples in train dataset: \", len(train_dataset))\n",
    "print(\"samples in test dataset: \", len(test_dataset))\n",
    "\n",
    "# convert datasets into dataloaders\n",
    "train_loader = torch.utils.data.DataLoader(train_dataset, batch_size=batch_size_val, shuffle=True, num_workers=4)\n",
    "test_loader = torch.utils.data.DataLoader(test_dataset, batch_size=batch_size_val, shuffle=False, num_workers=4)"
   ]
  },
  {
   "cell_type": "code",
   "execution_count": null,
   "metadata": {},
   "outputs": [],
   "source": [
    "# train model\n",
    "train_vae(latent_dims, output_loc, train_loader, test_loader, num_epochs=total_epochs, bs=batch_size_val, wandb_logger=wandb_logger, hidden_dims=hidden_dims, num_layers=num_layers, bidirectional=bidirectional, lr=lr)"
   ]
  },
  {
   "cell_type": "code",
   "execution_count": null,
   "metadata": {},
   "outputs": [],
   "source": []
  }
 ],
 "metadata": {
  "kernelspec": {
   "display_name": "Python 3.11.5 ('riboclette')",
   "language": "python",
   "name": "python3"
  },
  "language_info": {
   "codemirror_mode": {
    "name": "ipython",
    "version": 3
   },
   "file_extension": ".py",
   "mimetype": "text/x-python",
   "name": "python",
   "nbconvert_exporter": "python",
   "pygments_lexer": "ipython3",
   "version": "3.11.5"
  },
  "orig_nbformat": 4,
  "vscode": {
   "interpreter": {
    "hash": "4889f8792aea5ccc6d6cef69491807415b2e13d9502bd69585785a7e06978bbc"
   }
  }
 },
 "nbformat": 4,
 "nbformat_minor": 2
}
